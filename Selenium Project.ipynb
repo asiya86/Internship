{
 "cells": [
  {
   "cell_type": "code",
   "execution_count": 1,
   "id": "c2522306",
   "metadata": {},
   "outputs": [
    {
     "name": "stdout",
     "output_type": "stream",
     "text": [
      "Requirement already satisfied: selenium in ./opt/anaconda3/lib/python3.9/site-packages (4.7.2)\n",
      "Requirement already satisfied: trio-websocket~=0.9 in ./opt/anaconda3/lib/python3.9/site-packages (from selenium) (0.9.2)\n",
      "Requirement already satisfied: urllib3[socks]~=1.26 in ./opt/anaconda3/lib/python3.9/site-packages (from selenium) (1.26.9)\n",
      "Requirement already satisfied: certifi>=2021.10.8 in ./opt/anaconda3/lib/python3.9/site-packages (from selenium) (2021.10.8)\n",
      "Requirement already satisfied: trio~=0.17 in ./opt/anaconda3/lib/python3.9/site-packages (from selenium) (0.22.0)\n",
      "Requirement already satisfied: attrs>=19.2.0 in ./opt/anaconda3/lib/python3.9/site-packages (from trio~=0.17->selenium) (21.4.0)\n",
      "Requirement already satisfied: sniffio in ./opt/anaconda3/lib/python3.9/site-packages (from trio~=0.17->selenium) (1.2.0)\n",
      "Requirement already satisfied: exceptiongroup>=1.0.0rc9 in ./opt/anaconda3/lib/python3.9/site-packages (from trio~=0.17->selenium) (1.1.0)\n",
      "Requirement already satisfied: async-generator>=1.9 in ./opt/anaconda3/lib/python3.9/site-packages (from trio~=0.17->selenium) (1.10)\n",
      "Requirement already satisfied: sortedcontainers in ./opt/anaconda3/lib/python3.9/site-packages (from trio~=0.17->selenium) (2.4.0)\n",
      "Requirement already satisfied: idna in ./opt/anaconda3/lib/python3.9/site-packages (from trio~=0.17->selenium) (3.3)\n",
      "Requirement already satisfied: outcome in ./opt/anaconda3/lib/python3.9/site-packages (from trio~=0.17->selenium) (1.2.0)\n",
      "Requirement already satisfied: wsproto>=0.14 in ./opt/anaconda3/lib/python3.9/site-packages (from trio-websocket~=0.9->selenium) (1.2.0)\n",
      "Requirement already satisfied: PySocks!=1.5.7,<2.0,>=1.5.6 in ./opt/anaconda3/lib/python3.9/site-packages (from urllib3[socks]~=1.26->selenium) (1.7.1)\n",
      "Requirement already satisfied: h11<1,>=0.9.0 in ./opt/anaconda3/lib/python3.9/site-packages (from wsproto>=0.14->trio-websocket~=0.9->selenium) (0.14.0)\n"
     ]
    }
   ],
   "source": [
    "!pip install selenium"
   ]
  },
  {
   "cell_type": "code",
   "execution_count": 1702,
   "id": "2847a295",
   "metadata": {},
   "outputs": [],
   "source": [
    "# Importing the libraries\n",
    "\n",
    "import selenium\n",
    "import pandas as pd\n",
    "from selenium import webdriver\n",
    "import warnings\n",
    "warnings.filterwarnings('ignore')\n",
    "from selenium.common.exceptions import StaleElementReferenceException,NoSuchElementException\n",
    "from selenium.webdriver.common.by import By\n",
    "import time"
   ]
  },
  {
   "cell_type": "code",
   "execution_count": 1703,
   "id": "03a5fbb2",
   "metadata": {},
   "outputs": [],
   "source": [
    "# Let's first connect\n",
    "\n",
    "driver=webdriver.Chrome(r\"/Users/asiya/Desktop/chromedriver\\ 4\\\\chromedriver.exe\")"
   ]
  },
  {
   "cell_type": "markdown",
   "id": "6b5dd375",
   "metadata": {},
   "source": [
    "# Q1: Write a python program to scrape data for “Data Analyst” Job position in “Bangalore” location. You have to scrape the job-title, job-location, company_name, experience_required. You have to scrape first 10 jobs data."
   ]
  },
  {
   "cell_type": "code",
   "execution_count": 37,
   "id": "a7f4fc82",
   "metadata": {},
   "outputs": [],
   "source": [
    "driver.get(\"http://www.naukri.com/\")"
   ]
  },
  {
   "cell_type": "code",
   "execution_count": 38,
   "id": "fef2c30f",
   "metadata": {},
   "outputs": [],
   "source": [
    "# Entering Designation and location as required in the question\n",
    "\n",
    "designation=driver.find_element(By.CLASS_NAME,\"suggestor-input\")\n",
    "designation.send_keys('Data Analyst')\n",
    "\n",
    "\n",
    "location=driver.find_element(By.XPATH,\"/html/body/div[1]/div[6]/div/div/div[5]/div/div/div/input\")\n",
    "location.send_keys('Banglore')"
   ]
  },
  {
   "cell_type": "code",
   "execution_count": 39,
   "id": "f51b542a",
   "metadata": {},
   "outputs": [],
   "source": [
    "search=driver.find_element(By.CLASS_NAME,\"qsbSubmit\")\n",
    "search.click()"
   ]
  },
  {
   "cell_type": "code",
   "execution_count": 40,
   "id": "233da6f5",
   "metadata": {},
   "outputs": [],
   "source": [
    "# Create empty list first inorder to get the information from the naukri site\n",
    "\n",
    "job_title=[]\n",
    "job_location=[]\n",
    "company_name=[]\n",
    "experience_required=[]"
   ]
  },
  {
   "cell_type": "code",
   "execution_count": 41,
   "id": "d45251a1",
   "metadata": {},
   "outputs": [],
   "source": [
    "# Scrapping Job titles from the given page\n",
    "\n",
    "title_tags=driver.find_elements(By.XPATH,'//a[@class=\"title ellipsis\"]')\n",
    "for i in title_tags[0:10]:\n",
    "    title=i.text\n",
    "    job_title.append(title)\n",
    "    \n",
    "# Scrapping Job Location\n",
    "\n",
    "location_tags=driver.find_elements(By.XPATH,'//span[@class=\"ellipsis fleft locWdth\"]')\n",
    "for i in location_tags[0:10]:\n",
    "    location=i.text\n",
    "    job_location.append(location)\n",
    "\n",
    "# Scarpping Company Name from the given page\n",
    "\n",
    "Company_tags=driver.find_elements(By.XPATH,'//a[@class=\"subTitle ellipsis fleft\"]')\n",
    "for i in Company_tags[0:10]:\n",
    "    Company=i.text\n",
    "    company_name.append(Company)\n",
    "\n",
    "# Scrapping Job Experience from the page\n",
    "\n",
    "experience_tags=driver.find_elements(By.XPATH,'//span[@class=\"ellipsis fleft expwdth\"]')\n",
    "for i in experience_tags[0:10]:\n",
    "    experience=i.text\n",
    "    experience_required.append(experience)\n",
    "\n"
   ]
  },
  {
   "cell_type": "code",
   "execution_count": 42,
   "id": "da824448",
   "metadata": {},
   "outputs": [
    {
     "name": "stdout",
     "output_type": "stream",
     "text": [
      "10 10 10 10\n"
     ]
    }
   ],
   "source": [
    "# Need to check the length before we create the data frame\n",
    "print(len(job_title),len(job_location),len(company_name),len(experience_required))"
   ]
  },
  {
   "cell_type": "code",
   "execution_count": 43,
   "id": "6725752b",
   "metadata": {},
   "outputs": [
    {
     "data": {
      "text/html": [
       "<div>\n",
       "<style scoped>\n",
       "    .dataframe tbody tr th:only-of-type {\n",
       "        vertical-align: middle;\n",
       "    }\n",
       "\n",
       "    .dataframe tbody tr th {\n",
       "        vertical-align: top;\n",
       "    }\n",
       "\n",
       "    .dataframe thead th {\n",
       "        text-align: right;\n",
       "    }\n",
       "</style>\n",
       "<table border=\"1\" class=\"dataframe\">\n",
       "  <thead>\n",
       "    <tr style=\"text-align: right;\">\n",
       "      <th></th>\n",
       "      <th>Title</th>\n",
       "      <th>Location</th>\n",
       "      <th>Company</th>\n",
       "      <th>Experience</th>\n",
       "    </tr>\n",
       "  </thead>\n",
       "  <tbody>\n",
       "    <tr>\n",
       "      <th>0</th>\n",
       "      <td>Data Analysts with Business Analysis</td>\n",
       "      <td>Bangalore/Bengaluru</td>\n",
       "      <td>Avanze Group</td>\n",
       "      <td>6-8 Yrs</td>\n",
       "    </tr>\n",
       "    <tr>\n",
       "      <th>1</th>\n",
       "      <td>Immediate Hiring For MIS and Data Analyst</td>\n",
       "      <td>Bangalore/Bengaluru</td>\n",
       "      <td>Regalix</td>\n",
       "      <td>1-6 Yrs</td>\n",
       "    </tr>\n",
       "    <tr>\n",
       "      <th>2</th>\n",
       "      <td>Junior Data Analyst</td>\n",
       "      <td>Bangalore/Bengaluru</td>\n",
       "      <td>RCPC</td>\n",
       "      <td>0-1 Yrs</td>\n",
       "    </tr>\n",
       "    <tr>\n",
       "      <th>3</th>\n",
       "      <td>Customer Data Analyst</td>\n",
       "      <td>Bangalore/Bengaluru</td>\n",
       "      <td>Oracle</td>\n",
       "      <td>1-4 Yrs</td>\n",
       "    </tr>\n",
       "    <tr>\n",
       "      <th>4</th>\n",
       "      <td>Business Data Analysts (People &amp; Culture)</td>\n",
       "      <td>Bangalore/Bengaluru</td>\n",
       "      <td>Zscaler Softech</td>\n",
       "      <td>5-6 Yrs</td>\n",
       "    </tr>\n",
       "    <tr>\n",
       "      <th>5</th>\n",
       "      <td>Senior Data Analyst - DC</td>\n",
       "      <td>Bangalore/Bengaluru</td>\n",
       "      <td>Boston Consulting Group</td>\n",
       "      <td>4-6 Yrs</td>\n",
       "    </tr>\n",
       "    <tr>\n",
       "      <th>6</th>\n",
       "      <td>Data Analyst</td>\n",
       "      <td>Temp. WFH - Pune, Bangalore/Bengaluru, Mumbai ...</td>\n",
       "      <td>Ifood Web Media Technology</td>\n",
       "      <td>4-8 Yrs</td>\n",
       "    </tr>\n",
       "    <tr>\n",
       "      <th>7</th>\n",
       "      <td>Data Analyst- II</td>\n",
       "      <td>Bangalore/Bengaluru</td>\n",
       "      <td>Jupiter Money</td>\n",
       "      <td>5-7 Yrs</td>\n",
       "    </tr>\n",
       "    <tr>\n",
       "      <th>8</th>\n",
       "      <td>Data Analyst - Technology</td>\n",
       "      <td>Bangalore/Bengaluru</td>\n",
       "      <td>Curefit</td>\n",
       "      <td>2-5 Yrs</td>\n",
       "    </tr>\n",
       "    <tr>\n",
       "      <th>9</th>\n",
       "      <td>Data Analyst</td>\n",
       "      <td>Bangalore/Bengaluru</td>\n",
       "      <td>Koch Industries</td>\n",
       "      <td>7-9 Yrs</td>\n",
       "    </tr>\n",
       "  </tbody>\n",
       "</table>\n",
       "</div>"
      ],
      "text/plain": [
       "                                       Title  \\\n",
       "0       Data Analysts with Business Analysis   \n",
       "1  Immediate Hiring For MIS and Data Analyst   \n",
       "2                        Junior Data Analyst   \n",
       "3                      Customer Data Analyst   \n",
       "4  Business Data Analysts (People & Culture)   \n",
       "5                   Senior Data Analyst - DC   \n",
       "6                               Data Analyst   \n",
       "7                           Data Analyst- II   \n",
       "8                  Data Analyst - Technology   \n",
       "9                               Data Analyst   \n",
       "\n",
       "                                            Location  \\\n",
       "0                                Bangalore/Bengaluru   \n",
       "1                                Bangalore/Bengaluru   \n",
       "2                                Bangalore/Bengaluru   \n",
       "3                                Bangalore/Bengaluru   \n",
       "4                                Bangalore/Bengaluru   \n",
       "5                                Bangalore/Bengaluru   \n",
       "6  Temp. WFH - Pune, Bangalore/Bengaluru, Mumbai ...   \n",
       "7                                Bangalore/Bengaluru   \n",
       "8                                Bangalore/Bengaluru   \n",
       "9                                Bangalore/Bengaluru   \n",
       "\n",
       "                      Company Experience  \n",
       "0                Avanze Group    6-8 Yrs  \n",
       "1                     Regalix    1-6 Yrs  \n",
       "2                        RCPC    0-1 Yrs  \n",
       "3                      Oracle    1-4 Yrs  \n",
       "4             Zscaler Softech    5-6 Yrs  \n",
       "5     Boston Consulting Group    4-6 Yrs  \n",
       "6  Ifood Web Media Technology    4-8 Yrs  \n",
       "7               Jupiter Money    5-7 Yrs  \n",
       "8                     Curefit    2-5 Yrs  \n",
       "9             Koch Industries    7-9 Yrs  "
      ]
     },
     "execution_count": 43,
     "metadata": {},
     "output_type": "execute_result"
    }
   ],
   "source": [
    "import pandas as pd\n",
    "df=pd.DataFrame({'Title':job_title,'Location':job_location,'Company':company_name,'Experience':experience_required})\n",
    "df"
   ]
  },
  {
   "cell_type": "markdown",
   "id": "f590a797",
   "metadata": {},
   "source": [
    "# Q2: Write a python program to scrape data for “Data Scientist” Job position in “Bangalore” location. You have to scrape the job-title, job-location, company_name. You have to scrape first 10 jobs data.\n"
   ]
  },
  {
   "cell_type": "code",
   "execution_count": 51,
   "id": "61562474",
   "metadata": {},
   "outputs": [],
   "source": [
    "# Let's first connect\n",
    "\n",
    "driver=webdriver.Chrome(r\"/Users/asiya/Desktop/chromedriver\\ 4\\\\chromedriver.exe\")"
   ]
  },
  {
   "cell_type": "code",
   "execution_count": 52,
   "id": "ae1bb5b4",
   "metadata": {},
   "outputs": [],
   "source": [
    "driver.get(\"http://www.naukri.com/\")"
   ]
  },
  {
   "cell_type": "code",
   "execution_count": 53,
   "id": "bd3fcf15",
   "metadata": {},
   "outputs": [],
   "source": [
    "# Entering Designation and location as required in the question\n",
    "\n",
    "designation=driver.find_element(By.CLASS_NAME,\"suggestor-input\")\n",
    "designation.send_keys('Data Scientist')\n",
    "\n",
    "\n",
    "location=driver.find_element(By.XPATH,\"/html/body/div[1]/div[6]/div/div/div[5]/div/div/div/input\")\n",
    "location.send_keys('Banglore')"
   ]
  },
  {
   "cell_type": "code",
   "execution_count": 54,
   "id": "f8e02356",
   "metadata": {},
   "outputs": [],
   "source": [
    "search=driver.find_element(By.CLASS_NAME,\"qsbSubmit\")\n",
    "search.click()"
   ]
  },
  {
   "cell_type": "code",
   "execution_count": 55,
   "id": "847a820b",
   "metadata": {},
   "outputs": [],
   "source": [
    "# Create empty list first inorder to get the information from the naukri site\n",
    "\n",
    "job_title=[]\n",
    "job_location=[]\n",
    "company_name=[]\n"
   ]
  },
  {
   "cell_type": "code",
   "execution_count": 56,
   "id": "4934d95e",
   "metadata": {},
   "outputs": [],
   "source": [
    "# Scrapping Job titles from the given page\n",
    "\n",
    "title_tags=driver.find_elements(By.XPATH,'//a[@class=\"title ellipsis\"]')\n",
    "for i in title_tags[0:10]:\n",
    "    title=i.text\n",
    "    job_title.append(title)\n",
    "    \n",
    "# Scrapping Job Location\n",
    "\n",
    "location_tags=driver.find_elements(By.XPATH,'//span[@class=\"ellipsis fleft locWdth\"]')\n",
    "for i in location_tags[0:10]:\n",
    "    location=i.text\n",
    "    job_location.append(location)\n",
    "\n",
    "# Scarpping Company Name from the given page\n",
    "\n",
    "Company_tags=driver.find_elements(By.XPATH,'//a[@class=\"subTitle ellipsis fleft\"]')\n",
    "for i in Company_tags[0:10]:\n",
    "    Company=i.text\n",
    "    company_name.append(Company)\n",
    "\n"
   ]
  },
  {
   "cell_type": "code",
   "execution_count": 57,
   "id": "c73e8cc8",
   "metadata": {},
   "outputs": [
    {
     "name": "stdout",
     "output_type": "stream",
     "text": [
      "10 10 10\n"
     ]
    }
   ],
   "source": [
    "# Need to check the length before we create the data frame\n",
    "print(len(job_title),len(job_location),len(company_name))"
   ]
  },
  {
   "cell_type": "code",
   "execution_count": 58,
   "id": "bac45f80",
   "metadata": {},
   "outputs": [
    {
     "data": {
      "text/html": [
       "<div>\n",
       "<style scoped>\n",
       "    .dataframe tbody tr th:only-of-type {\n",
       "        vertical-align: middle;\n",
       "    }\n",
       "\n",
       "    .dataframe tbody tr th {\n",
       "        vertical-align: top;\n",
       "    }\n",
       "\n",
       "    .dataframe thead th {\n",
       "        text-align: right;\n",
       "    }\n",
       "</style>\n",
       "<table border=\"1\" class=\"dataframe\">\n",
       "  <thead>\n",
       "    <tr style=\"text-align: right;\">\n",
       "      <th></th>\n",
       "      <th>Title</th>\n",
       "      <th>Location</th>\n",
       "      <th>Company</th>\n",
       "    </tr>\n",
       "  </thead>\n",
       "  <tbody>\n",
       "    <tr>\n",
       "      <th>0</th>\n",
       "      <td>Data Scientist</td>\n",
       "      <td>Temp. WFH - Hyderabad/Secunderabad, Pune, Chen...</td>\n",
       "      <td>Tech Mahindra</td>\n",
       "    </tr>\n",
       "    <tr>\n",
       "      <th>1</th>\n",
       "      <td>Data Science Specialist</td>\n",
       "      <td>Kolkata, Mumbai, Hyderabad/Secunderabad, Pune,...</td>\n",
       "      <td>Accenture</td>\n",
       "    </tr>\n",
       "    <tr>\n",
       "      <th>2</th>\n",
       "      <td>Analystics &amp; Modeling Specialist</td>\n",
       "      <td>Kolkata, Mumbai, Hyderabad/Secunderabad, Pune,...</td>\n",
       "      <td>Accenture</td>\n",
       "    </tr>\n",
       "    <tr>\n",
       "      <th>3</th>\n",
       "      <td>Lead Data Scientist</td>\n",
       "      <td>Noida, Hyderabad/Secunderabad, Pune, Chennai, ...</td>\n",
       "      <td>Birlasoft</td>\n",
       "    </tr>\n",
       "    <tr>\n",
       "      <th>4</th>\n",
       "      <td>Data Scientist</td>\n",
       "      <td>Hybrid - Noida, Hyderabad/Secunderabad, Pune, ...</td>\n",
       "      <td>Birlasoft</td>\n",
       "    </tr>\n",
       "    <tr>\n",
       "      <th>5</th>\n",
       "      <td>Data Scientist Knowledge graph</td>\n",
       "      <td>Hybrid - Pune, Bangalore/Bengaluru</td>\n",
       "      <td>Capco</td>\n",
       "    </tr>\n",
       "    <tr>\n",
       "      <th>6</th>\n",
       "      <td>Data Scientist</td>\n",
       "      <td>Bangalore/Bengaluru</td>\n",
       "      <td>Infosys</td>\n",
       "    </tr>\n",
       "    <tr>\n",
       "      <th>7</th>\n",
       "      <td>Supply Chain Specialist Staff</td>\n",
       "      <td>Bangalore/Bengaluru</td>\n",
       "      <td>Juniper Networks</td>\n",
       "    </tr>\n",
       "    <tr>\n",
       "      <th>8</th>\n",
       "      <td>Research Scientist</td>\n",
       "      <td>Bangalore/Bengaluru</td>\n",
       "      <td>Siemens</td>\n",
       "    </tr>\n",
       "    <tr>\n",
       "      <th>9</th>\n",
       "      <td>Analytic Delivery Lead</td>\n",
       "      <td>Kolkata, Mumbai, Hyderabad/Secunderabad, Pune,...</td>\n",
       "      <td>Gharondaa Advisors</td>\n",
       "    </tr>\n",
       "  </tbody>\n",
       "</table>\n",
       "</div>"
      ],
      "text/plain": [
       "                              Title  \\\n",
       "0                    Data Scientist   \n",
       "1           Data Science Specialist   \n",
       "2  Analystics & Modeling Specialist   \n",
       "3               Lead Data Scientist   \n",
       "4                    Data Scientist   \n",
       "5    Data Scientist Knowledge graph   \n",
       "6                    Data Scientist   \n",
       "7     Supply Chain Specialist Staff   \n",
       "8                Research Scientist   \n",
       "9            Analytic Delivery Lead   \n",
       "\n",
       "                                            Location             Company  \n",
       "0  Temp. WFH - Hyderabad/Secunderabad, Pune, Chen...       Tech Mahindra  \n",
       "1  Kolkata, Mumbai, Hyderabad/Secunderabad, Pune,...           Accenture  \n",
       "2  Kolkata, Mumbai, Hyderabad/Secunderabad, Pune,...           Accenture  \n",
       "3  Noida, Hyderabad/Secunderabad, Pune, Chennai, ...           Birlasoft  \n",
       "4  Hybrid - Noida, Hyderabad/Secunderabad, Pune, ...           Birlasoft  \n",
       "5                 Hybrid - Pune, Bangalore/Bengaluru               Capco  \n",
       "6                                Bangalore/Bengaluru             Infosys  \n",
       "7                                Bangalore/Bengaluru    Juniper Networks  \n",
       "8                                Bangalore/Bengaluru             Siemens  \n",
       "9  Kolkata, Mumbai, Hyderabad/Secunderabad, Pune,...  Gharondaa Advisors  "
      ]
     },
     "execution_count": 58,
     "metadata": {},
     "output_type": "execute_result"
    }
   ],
   "source": [
    "import pandas as pd\n",
    "df=pd.DataFrame({'Title':job_title,'Location':job_location,'Company':company_name})\n",
    "df"
   ]
  },
  {
   "cell_type": "markdown",
   "id": "27975e34",
   "metadata": {},
   "source": [
    "# In this question you have to scrape data using the filters available on the webpage as shown below: You have to use the location and salary filter. You have to scrape data for “Data Scientist” designation for first 10 job results. You have to scrape the job-title, job-location, company name, experience required. The location filter to be used is “Delhi/NCR”. The salary filter to be used is “3-6” lakhs"
   ]
  },
  {
   "cell_type": "code",
   "execution_count": 59,
   "id": "d356e577",
   "metadata": {},
   "outputs": [],
   "source": [
    "driver.get(\"http://www.naukri.com/\")"
   ]
  },
  {
   "cell_type": "code",
   "execution_count": 60,
   "id": "7da4f265",
   "metadata": {},
   "outputs": [],
   "source": [
    "# Entering Designation and location as required in the question\n",
    "\n",
    "designation=driver.find_element(By.CLASS_NAME,\"suggestor-input\")\n",
    "designation.send_keys('Data Scientist')\n",
    "\n"
   ]
  },
  {
   "cell_type": "code",
   "execution_count": 61,
   "id": "ff798d6b",
   "metadata": {},
   "outputs": [],
   "source": [
    "# Submit Button\n",
    "search=driver.find_element(By.CLASS_NAME,\"qsbSubmit\")\n",
    "search.click()"
   ]
  },
  {
   "cell_type": "code",
   "execution_count": 67,
   "id": "021e4be3",
   "metadata": {},
   "outputs": [],
   "source": [
    "# Filter Location \"Delhi/NCR\"\n",
    "Location=driver.find_element(By.XPATH,\"/html/body/div[1]/div[4]/div/div/section[1]/div[2]/div[5]/div[2]/div[2]/label/p/span[1]\")\n",
    "Location.click()\n",
    "\n",
    "\n"
   ]
  },
  {
   "cell_type": "code",
   "execution_count": 68,
   "id": "6e03e90b",
   "metadata": {},
   "outputs": [],
   "source": [
    "# Filter Salary \"3-6 lakhs\"\n",
    "Salary=driver.find_element(By.XPATH,\"/html/body/div[1]/div[4]/div/div/section[1]/div[2]/div[6]/div[2]/div[2]/label/p/span[1]\")\n",
    "Salary.click()"
   ]
  },
  {
   "cell_type": "code",
   "execution_count": 69,
   "id": "f079eaec",
   "metadata": {},
   "outputs": [],
   "source": [
    "# Create empty list first inorder to get the information from the naukri site\n",
    "\n",
    "job_title=[]\n",
    "job_location=[]\n",
    "company_name=[]\n",
    "experience_required=[]"
   ]
  },
  {
   "cell_type": "code",
   "execution_count": 70,
   "id": "3bd2abb3",
   "metadata": {},
   "outputs": [],
   "source": [
    "# Scrapping Job titles from the given page\n",
    "\n",
    "title_tags=driver.find_elements(By.XPATH,'//a[@class=\"title ellipsis\"]')\n",
    "for i in title_tags[0:10]:\n",
    "    title=i.text\n",
    "    job_title.append(title)\n",
    "    \n",
    "# Scrapping Job Location\n",
    "\n",
    "location_tags=driver.find_elements(By.XPATH,'//span[@class=\"ellipsis fleft locWdth\"]')\n",
    "for i in location_tags[0:10]:\n",
    "    location=i.text\n",
    "    job_location.append(location)\n",
    "\n",
    "# Scarpping Company Name from the given page\n",
    "\n",
    "Company_tags=driver.find_elements(By.XPATH,'//a[@class=\"subTitle ellipsis fleft\"]')\n",
    "for i in Company_tags[0:10]:\n",
    "    Company=i.text\n",
    "    company_name.append(Company)\n",
    "\n",
    "# Scrapping Job Experience from the page\n",
    "\n",
    "experience_tags=driver.find_elements(By.XPATH,'//span[@class=\"ellipsis fleft expwdth\"]')\n",
    "for i in experience_tags[0:10]:\n",
    "    experience=i.text\n",
    "    experience_required.append(experience)"
   ]
  },
  {
   "cell_type": "code",
   "execution_count": 71,
   "id": "e7acb1e3",
   "metadata": {},
   "outputs": [
    {
     "name": "stdout",
     "output_type": "stream",
     "text": [
      "10 10 10 10\n"
     ]
    }
   ],
   "source": [
    "# Need to check the length before we create the data frame\n",
    "print(len(job_title),len(job_location),len(company_name),len(experience_required))"
   ]
  },
  {
   "cell_type": "code",
   "execution_count": 72,
   "id": "d9194839",
   "metadata": {},
   "outputs": [
    {
     "data": {
      "text/html": [
       "<div>\n",
       "<style scoped>\n",
       "    .dataframe tbody tr th:only-of-type {\n",
       "        vertical-align: middle;\n",
       "    }\n",
       "\n",
       "    .dataframe tbody tr th {\n",
       "        vertical-align: top;\n",
       "    }\n",
       "\n",
       "    .dataframe thead th {\n",
       "        text-align: right;\n",
       "    }\n",
       "</style>\n",
       "<table border=\"1\" class=\"dataframe\">\n",
       "  <thead>\n",
       "    <tr style=\"text-align: right;\">\n",
       "      <th></th>\n",
       "      <th>Title</th>\n",
       "      <th>Location</th>\n",
       "      <th>Company</th>\n",
       "      <th>Experience</th>\n",
       "    </tr>\n",
       "  </thead>\n",
       "  <tbody>\n",
       "    <tr>\n",
       "      <th>0</th>\n",
       "      <td>Analyst-Data Science</td>\n",
       "      <td>Gurgaon/Gurugram</td>\n",
       "      <td>AMERICAN EXPRESS</td>\n",
       "      <td>0-3 Yrs</td>\n",
       "    </tr>\n",
       "    <tr>\n",
       "      <th>1</th>\n",
       "      <td>Data Scientist</td>\n",
       "      <td>Delhi / NCR, Noida(Sector-136 Noida), Ghaziaba...</td>\n",
       "      <td>Extramarks Education</td>\n",
       "      <td>3-5 Yrs</td>\n",
       "    </tr>\n",
       "    <tr>\n",
       "      <th>2</th>\n",
       "      <td>AWS Data Warehouse Developer - IT Industry</td>\n",
       "      <td>Delhi / NCR, Bangalore/Bengaluru, Maharashtra</td>\n",
       "      <td>GenNext India Private Limited</td>\n",
       "      <td>4-9 Yrs</td>\n",
       "    </tr>\n",
       "    <tr>\n",
       "      <th>3</th>\n",
       "      <td>Data Scientist</td>\n",
       "      <td>Noida</td>\n",
       "      <td>Metrix Research &amp; Analytics</td>\n",
       "      <td>3-7 Yrs</td>\n",
       "    </tr>\n",
       "    <tr>\n",
       "      <th>4</th>\n",
       "      <td>SE/SSE-Data Scientist</td>\n",
       "      <td>Delhi / NCR</td>\n",
       "      <td>Bold Technology Systems</td>\n",
       "      <td>3-8 Yrs</td>\n",
       "    </tr>\n",
       "    <tr>\n",
       "      <th>5</th>\n",
       "      <td>Occupancy Surveyor - Gurugram</td>\n",
       "      <td>Gurgaon/Gurugram</td>\n",
       "      <td>Vatika Hotels</td>\n",
       "      <td>5-10 Yrs</td>\n",
       "    </tr>\n",
       "    <tr>\n",
       "      <th>6</th>\n",
       "      <td>Data Scientist</td>\n",
       "      <td>Dehradun, Hyderabad/Secunderabad, Gurgaon/Guru...</td>\n",
       "      <td>torcai digital media</td>\n",
       "      <td>2-7 Yrs</td>\n",
       "    </tr>\n",
       "    <tr>\n",
       "      <th>7</th>\n",
       "      <td>Junior Data Scientist</td>\n",
       "      <td>Delhi / NCR</td>\n",
       "      <td>Skyleaf Consultants</td>\n",
       "      <td>2-4 Yrs</td>\n",
       "    </tr>\n",
       "    <tr>\n",
       "      <th>8</th>\n",
       "      <td>Modeler</td>\n",
       "      <td>Noida</td>\n",
       "      <td>Resource Access Management Solutions Pvt. Ltd.</td>\n",
       "      <td>3-7 Yrs</td>\n",
       "    </tr>\n",
       "    <tr>\n",
       "      <th>9</th>\n",
       "      <td>Associate Data Scientist</td>\n",
       "      <td>Noida</td>\n",
       "      <td>Navikenz India</td>\n",
       "      <td>3-8 Yrs</td>\n",
       "    </tr>\n",
       "  </tbody>\n",
       "</table>\n",
       "</div>"
      ],
      "text/plain": [
       "                                        Title  \\\n",
       "0                        Analyst-Data Science   \n",
       "1                              Data Scientist   \n",
       "2  AWS Data Warehouse Developer - IT Industry   \n",
       "3                              Data Scientist   \n",
       "4                       SE/SSE-Data Scientist   \n",
       "5               Occupancy Surveyor - Gurugram   \n",
       "6                              Data Scientist   \n",
       "7                       Junior Data Scientist   \n",
       "8                                     Modeler   \n",
       "9                    Associate Data Scientist   \n",
       "\n",
       "                                            Location  \\\n",
       "0                                   Gurgaon/Gurugram   \n",
       "1  Delhi / NCR, Noida(Sector-136 Noida), Ghaziaba...   \n",
       "2      Delhi / NCR, Bangalore/Bengaluru, Maharashtra   \n",
       "3                                              Noida   \n",
       "4                                        Delhi / NCR   \n",
       "5                                   Gurgaon/Gurugram   \n",
       "6  Dehradun, Hyderabad/Secunderabad, Gurgaon/Guru...   \n",
       "7                                        Delhi / NCR   \n",
       "8                                              Noida   \n",
       "9                                              Noida   \n",
       "\n",
       "                                          Company Experience  \n",
       "0                                AMERICAN EXPRESS    0-3 Yrs  \n",
       "1                            Extramarks Education    3-5 Yrs  \n",
       "2                   GenNext India Private Limited    4-9 Yrs  \n",
       "3                     Metrix Research & Analytics    3-7 Yrs  \n",
       "4                         Bold Technology Systems    3-8 Yrs  \n",
       "5                                   Vatika Hotels   5-10 Yrs  \n",
       "6                            torcai digital media    2-7 Yrs  \n",
       "7                             Skyleaf Consultants    2-4 Yrs  \n",
       "8  Resource Access Management Solutions Pvt. Ltd.    3-7 Yrs  \n",
       "9                                  Navikenz India    3-8 Yrs  "
      ]
     },
     "execution_count": 72,
     "metadata": {},
     "output_type": "execute_result"
    }
   ],
   "source": [
    "import pandas as pd\n",
    "df=pd.DataFrame({'Title':job_title,'Location':job_location,'Company':company_name,'Experience':experience_required})\n",
    "df"
   ]
  },
  {
   "cell_type": "markdown",
   "id": "08fa6e07",
   "metadata": {},
   "source": [
    "# Q4: Scrape data of first 100 sunglasses listings on flipkart.com. You have to scrape four attributes:\n",
    "\n",
    "Brand\n",
    "Product Description\n",
    "Price\n",
    "The attributes which you have to scrape is ticked marked in the below image."
   ]
  },
  {
   "cell_type": "code",
   "execution_count": 1037,
   "id": "1a5d6022",
   "metadata": {},
   "outputs": [],
   "source": [
    "driver.get(\"https://www.flipkart.com/\")"
   ]
  },
  {
   "cell_type": "code",
   "execution_count": 1038,
   "id": "8f6e5da7",
   "metadata": {},
   "outputs": [],
   "source": [
    "# Searching for the product\n",
    "Product=driver.find_element(By.CLASS_NAME,\"_3704LK\")\n",
    "Product.send_keys('sunglasses')\n"
   ]
  },
  {
   "cell_type": "code",
   "execution_count": 1039,
   "id": "1f413f2c",
   "metadata": {},
   "outputs": [],
   "source": [
    "search=driver.find_element(By.XPATH,\"/html/body/div[1]/div/div[1]/div[1]/div[2]/div[2]/form/div/button\")\n",
    "search.click()\n",
    "\n"
   ]
  },
  {
   "cell_type": "code",
   "execution_count": 1040,
   "id": "cff9d16d",
   "metadata": {},
   "outputs": [
    {
     "data": {
      "text/plain": [
       "[<selenium.webdriver.remote.webelement.WebElement (session=\"7fc4dc6e3663c71330921038e2cfab93\", element=\"d7dfa85c-da2a-414b-9cd4-0a2b0d2cc482\")>,\n",
       " <selenium.webdriver.remote.webelement.WebElement (session=\"7fc4dc6e3663c71330921038e2cfab93\", element=\"05591c04-2de2-4ebb-a6b3-394079d83ed9\")>]"
      ]
     },
     "execution_count": 1040,
     "metadata": {},
     "output_type": "execute_result"
    }
   ],
   "source": [
    "# Getting the Brand details\n",
    "\n",
    "Brand=driver.find_elements(By.XPATH,\"//div[@class='_2WkVRV']\")\n",
    "Brand[0:2]"
   ]
  },
  {
   "cell_type": "code",
   "execution_count": 1041,
   "id": "b14aded5",
   "metadata": {},
   "outputs": [
    {
     "data": {
      "text/plain": [
       "40"
      ]
     },
     "execution_count": 1041,
     "metadata": {},
     "output_type": "execute_result"
    }
   ],
   "source": [
    "len(Brand)"
   ]
  },
  {
   "cell_type": "code",
   "execution_count": 1042,
   "id": "46070579",
   "metadata": {},
   "outputs": [
    {
     "data": {
      "text/plain": [
       "[<selenium.webdriver.remote.webelement.WebElement (session=\"7fc4dc6e3663c71330921038e2cfab93\", element=\"bed1d4dc-7014-4970-aa42-9c04fdfec1ff\")>,\n",
       " <selenium.webdriver.remote.webelement.WebElement (session=\"7fc4dc6e3663c71330921038e2cfab93\", element=\"114eed95-2b05-4f46-bd33-bc5645eb7a3f\")>]"
      ]
     },
     "execution_count": 1042,
     "metadata": {},
     "output_type": "execute_result"
    }
   ],
   "source": [
    "Price=driver.find_elements(By.XPATH,\"//div[@class='_30jeq3']\")\n",
    "Price[0:2]"
   ]
  },
  {
   "cell_type": "code",
   "execution_count": 1043,
   "id": "b99636bb",
   "metadata": {},
   "outputs": [
    {
     "data": {
      "text/plain": [
       "40"
      ]
     },
     "execution_count": 1043,
     "metadata": {},
     "output_type": "execute_result"
    }
   ],
   "source": [
    "len(Price)"
   ]
  },
  {
   "cell_type": "code",
   "execution_count": 1044,
   "id": "9736fe91",
   "metadata": {},
   "outputs": [
    {
     "data": {
      "text/plain": [
       "[<selenium.webdriver.remote.webelement.WebElement (session=\"7fc4dc6e3663c71330921038e2cfab93\", element=\"578ad4fd-09c5-431b-9160-4c9468e780d7\")>,\n",
       " <selenium.webdriver.remote.webelement.WebElement (session=\"7fc4dc6e3663c71330921038e2cfab93\", element=\"1e8144a3-924d-4b4a-8756-68d67d396a15\")>]"
      ]
     },
     "execution_count": 1044,
     "metadata": {},
     "output_type": "execute_result"
    }
   ],
   "source": [
    "pdetails=driver.find_elements(By.XPATH,\"//a[@class='IRpwTa']\")\n",
    "pdetails[0:2]\n"
   ]
  },
  {
   "cell_type": "code",
   "execution_count": 1045,
   "id": "481616bc",
   "metadata": {},
   "outputs": [
    {
     "data": {
      "text/plain": [
       "39"
      ]
     },
     "execution_count": 1045,
     "metadata": {},
     "output_type": "execute_result"
    }
   ],
   "source": [
    "len(pdetails)"
   ]
  },
  {
   "cell_type": "code",
   "execution_count": 1046,
   "id": "3a09aa32",
   "metadata": {},
   "outputs": [
    {
     "data": {
      "text/plain": [
       "['ROZZETTA CRAFT', 'ROZZETTA CRAFT']"
      ]
     },
     "execution_count": 1046,
     "metadata": {},
     "output_type": "execute_result"
    }
   ],
   "source": [
    "# Extracting Page 1 Deatils for Product\n",
    "page1_Brand=[]\n",
    "for i in Brand:\n",
    "    Brand=i.text\n",
    "    page1_Brand.append(Brand)\n",
    "page1_Brand[0:2]"
   ]
  },
  {
   "cell_type": "code",
   "execution_count": 1047,
   "id": "6024e58f",
   "metadata": {},
   "outputs": [
    {
     "data": {
      "text/plain": [
       "['₹399', '₹649']"
      ]
     },
     "execution_count": 1047,
     "metadata": {},
     "output_type": "execute_result"
    }
   ],
   "source": [
    "# Extracting Page 1 details for Price\n",
    "page1_Price=[]\n",
    "for i in Price:\n",
    "    Price=i.text\n",
    "    page1_Price.append(Price)\n",
    "page1_Price[0:2]"
   ]
  },
  {
   "cell_type": "code",
   "execution_count": 1048,
   "id": "cfc1ba72",
   "metadata": {},
   "outputs": [
    {
     "data": {
      "text/plain": [
       "['UV Protection, Gradient Round Sunglasses (Free Size)',\n",
       " 'UV Protection Aviator Sunglasses (55)']"
      ]
     },
     "execution_count": 1048,
     "metadata": {},
     "output_type": "execute_result"
    }
   ],
   "source": [
    "# Extracting Page 1 details for Product Description\n",
    "page1_pdetails=[]\n",
    "for i in pdetails:\n",
    "    pdetails=i.text\n",
    "    page1_pdetails.append(pdetails)\n",
    "page1_pdetails[0:2]"
   ]
  },
  {
   "cell_type": "code",
   "execution_count": 1049,
   "id": "976a96a0",
   "metadata": {},
   "outputs": [
    {
     "name": "stdout",
     "output_type": "stream",
     "text": [
      "40 40 39\n"
     ]
    }
   ],
   "source": [
    "\n",
    "print(len(page1_Brand),len(page1_Price),len(page1_pdetails))"
   ]
  },
  {
   "cell_type": "code",
   "execution_count": 1050,
   "id": "5c43c5d5",
   "metadata": {},
   "outputs": [
    {
     "data": {
      "text/html": [
       "<div>\n",
       "<style scoped>\n",
       "    .dataframe tbody tr th:only-of-type {\n",
       "        vertical-align: middle;\n",
       "    }\n",
       "\n",
       "    .dataframe tbody tr th {\n",
       "        vertical-align: top;\n",
       "    }\n",
       "\n",
       "    .dataframe thead th {\n",
       "        text-align: right;\n",
       "    }\n",
       "</style>\n",
       "<table border=\"1\" class=\"dataframe\">\n",
       "  <thead>\n",
       "    <tr style=\"text-align: right;\">\n",
       "      <th></th>\n",
       "      <th>page_Brand</th>\n",
       "      <th>page_Price</th>\n",
       "      <th>page_pdetails</th>\n",
       "    </tr>\n",
       "  </thead>\n",
       "  <tbody>\n",
       "    <tr>\n",
       "      <th>0</th>\n",
       "      <td>ROZZETTA CRAFT</td>\n",
       "      <td>₹399</td>\n",
       "      <td>UV Protection, Gradient Round Sunglasses (Free...</td>\n",
       "    </tr>\n",
       "    <tr>\n",
       "      <th>1</th>\n",
       "      <td>ROZZETTA CRAFT</td>\n",
       "      <td>₹649</td>\n",
       "      <td>UV Protection Aviator Sunglasses (55)</td>\n",
       "    </tr>\n",
       "    <tr>\n",
       "      <th>2</th>\n",
       "      <td>Fastrack</td>\n",
       "      <td>₹599</td>\n",
       "      <td>UV Protection Wayfarer Sunglasses (Free Size)</td>\n",
       "    </tr>\n",
       "    <tr>\n",
       "      <th>3</th>\n",
       "      <td>Elligator</td>\n",
       "      <td>₹149</td>\n",
       "      <td>UV Protection Cat-eye, Retro Square, Oval, Rou...</td>\n",
       "    </tr>\n",
       "    <tr>\n",
       "      <th>4</th>\n",
       "      <td>Fastrack</td>\n",
       "      <td>₹499</td>\n",
       "      <td>UV Protection Rectangular Sunglasses (Free Size)</td>\n",
       "    </tr>\n",
       "  </tbody>\n",
       "</table>\n",
       "</div>"
      ],
      "text/plain": [
       "       page_Brand page_Price  \\\n",
       "0  ROZZETTA CRAFT       ₹399   \n",
       "1  ROZZETTA CRAFT       ₹649   \n",
       "2        Fastrack       ₹599   \n",
       "3       Elligator       ₹149   \n",
       "4        Fastrack       ₹499   \n",
       "\n",
       "                                       page_pdetails  \n",
       "0  UV Protection, Gradient Round Sunglasses (Free...  \n",
       "1              UV Protection Aviator Sunglasses (55)  \n",
       "2      UV Protection Wayfarer Sunglasses (Free Size)  \n",
       "3  UV Protection Cat-eye, Retro Square, Oval, Rou...  \n",
       "4   UV Protection Rectangular Sunglasses (Free Size)  "
      ]
     },
     "execution_count": 1050,
     "metadata": {},
     "output_type": "execute_result"
    }
   ],
   "source": [
    "page1 = pd.DataFrame({})\n",
    "page1[\"page_Brand\"]=page1_Brand[:39]\n",
    "page1[\"page_Price\"]=page1_Price[:39]\n",
    "page1[\"page_pdetails\"]=page1_pdetails\n",
    "page1.head()"
   ]
  },
  {
   "cell_type": "code",
   "execution_count": 1051,
   "id": "64baeca3",
   "metadata": {},
   "outputs": [],
   "source": [
    "# Going to the Next Page\n",
    "next_button=driver.find_element(By.XPATH,\"/html/body/div[1]/div/div[3]/div[1]/div[2]/div[12]/div/div/nav/a[11]/span\")\n",
    "next_button.click()"
   ]
  },
  {
   "cell_type": "code",
   "execution_count": 1052,
   "id": "3d27fb0d",
   "metadata": {},
   "outputs": [
    {
     "data": {
      "text/plain": [
       "[<selenium.webdriver.remote.webelement.WebElement (session=\"7fc4dc6e3663c71330921038e2cfab93\", element=\"d3451862-5864-46dd-bf12-735f10f00ed9\")>,\n",
       " <selenium.webdriver.remote.webelement.WebElement (session=\"7fc4dc6e3663c71330921038e2cfab93\", element=\"fda4c367-ae79-4243-8354-9e0c525148c4\")>]"
      ]
     },
     "execution_count": 1052,
     "metadata": {},
     "output_type": "execute_result"
    }
   ],
   "source": [
    "Brand=driver.find_elements(By.XPATH,\"//div[@class='_2WkVRV']\")\n",
    "Brand[0:2]"
   ]
  },
  {
   "cell_type": "code",
   "execution_count": 1053,
   "id": "337dcf34",
   "metadata": {},
   "outputs": [
    {
     "data": {
      "text/plain": [
       "40"
      ]
     },
     "execution_count": 1053,
     "metadata": {},
     "output_type": "execute_result"
    }
   ],
   "source": [
    "len(Brand)"
   ]
  },
  {
   "cell_type": "code",
   "execution_count": 1054,
   "id": "1cb1e258",
   "metadata": {},
   "outputs": [
    {
     "data": {
      "text/plain": [
       "[<selenium.webdriver.remote.webelement.WebElement (session=\"7fc4dc6e3663c71330921038e2cfab93\", element=\"9b64305a-2bf2-4ecd-9d03-40509cf09816\")>,\n",
       " <selenium.webdriver.remote.webelement.WebElement (session=\"7fc4dc6e3663c71330921038e2cfab93\", element=\"4c9aa639-5c14-4d54-96f6-749be5d40538\")>]"
      ]
     },
     "execution_count": 1054,
     "metadata": {},
     "output_type": "execute_result"
    }
   ],
   "source": [
    "Price=driver.find_elements(By.XPATH,\"//div[@class='_30jeq3']\")\n",
    "Price[0:2]"
   ]
  },
  {
   "cell_type": "code",
   "execution_count": 1055,
   "id": "d9a5c058",
   "metadata": {},
   "outputs": [
    {
     "data": {
      "text/plain": [
       "40"
      ]
     },
     "execution_count": 1055,
     "metadata": {},
     "output_type": "execute_result"
    }
   ],
   "source": [
    "len(Price)"
   ]
  },
  {
   "cell_type": "code",
   "execution_count": 1056,
   "id": "b02f7d37",
   "metadata": {},
   "outputs": [
    {
     "data": {
      "text/plain": [
       "[<selenium.webdriver.remote.webelement.WebElement (session=\"7fc4dc6e3663c71330921038e2cfab93\", element=\"f527266b-457c-41f1-ba4b-5837957013b2\")>,\n",
       " <selenium.webdriver.remote.webelement.WebElement (session=\"7fc4dc6e3663c71330921038e2cfab93\", element=\"4133a9a7-30b5-4d46-8e1a-8091a94b161d\")>]"
      ]
     },
     "execution_count": 1056,
     "metadata": {},
     "output_type": "execute_result"
    }
   ],
   "source": [
    "pdetails=driver.find_elements(By.XPATH,\"//a[@class='IRpwTa']\")\n",
    "pdetails[0:2]"
   ]
  },
  {
   "cell_type": "code",
   "execution_count": 1057,
   "id": "54975539",
   "metadata": {},
   "outputs": [
    {
     "data": {
      "text/plain": [
       "37"
      ]
     },
     "execution_count": 1057,
     "metadata": {},
     "output_type": "execute_result"
    }
   ],
   "source": [
    "len(pdetails)"
   ]
  },
  {
   "cell_type": "code",
   "execution_count": 1058,
   "id": "6bf0c5e9",
   "metadata": {},
   "outputs": [
    {
     "data": {
      "text/plain": [
       "['EYELLUSION', 'Fastrack']"
      ]
     },
     "execution_count": 1058,
     "metadata": {},
     "output_type": "execute_result"
    }
   ],
   "source": [
    "# Extracting Page 2 Deatils for Product\n",
    "page2_Brand=[]\n",
    "for i in Brand:\n",
    "    Brand=i.text\n",
    "    page2_Brand.append(Brand)\n",
    "page2_Brand[0:2]"
   ]
  },
  {
   "cell_type": "code",
   "execution_count": 1059,
   "id": "7b92c4d9",
   "metadata": {},
   "outputs": [
    {
     "data": {
      "text/plain": [
       "['₹281', '₹519']"
      ]
     },
     "execution_count": 1059,
     "metadata": {},
     "output_type": "execute_result"
    }
   ],
   "source": [
    "# Extracting Page 2 details for Price\n",
    "page2_Price=[]\n",
    "for i in Price:\n",
    "    Price=i.text\n",
    "    page2_Price.append(Price)\n",
    "page2_Price[0:2]"
   ]
  },
  {
   "cell_type": "code",
   "execution_count": 1060,
   "id": "405398ee",
   "metadata": {},
   "outputs": [
    {
     "data": {
      "text/plain": [
       "['Night Vision, Polarized, UV Protection, Riding Glasses ...',\n",
       " 'Polarized Retro Square Sunglasses (Free Size)']"
      ]
     },
     "execution_count": 1060,
     "metadata": {},
     "output_type": "execute_result"
    }
   ],
   "source": [
    "page2_pdetails=[]\n",
    "for i in pdetails:\n",
    "    pdetails=i.text\n",
    "    page2_pdetails.append(pdetails)\n",
    "page2_pdetails[0:2]"
   ]
  },
  {
   "cell_type": "code",
   "execution_count": 1061,
   "id": "655255c0",
   "metadata": {},
   "outputs": [
    {
     "data": {
      "text/html": [
       "<div>\n",
       "<style scoped>\n",
       "    .dataframe tbody tr th:only-of-type {\n",
       "        vertical-align: middle;\n",
       "    }\n",
       "\n",
       "    .dataframe tbody tr th {\n",
       "        vertical-align: top;\n",
       "    }\n",
       "\n",
       "    .dataframe thead th {\n",
       "        text-align: right;\n",
       "    }\n",
       "</style>\n",
       "<table border=\"1\" class=\"dataframe\">\n",
       "  <thead>\n",
       "    <tr style=\"text-align: right;\">\n",
       "      <th></th>\n",
       "      <th>page_Brand</th>\n",
       "      <th>page_Price</th>\n",
       "      <th>page_pdetails</th>\n",
       "    </tr>\n",
       "  </thead>\n",
       "  <tbody>\n",
       "    <tr>\n",
       "      <th>0</th>\n",
       "      <td>EYELLUSION</td>\n",
       "      <td>₹281</td>\n",
       "      <td>Night Vision, Polarized, UV Protection, Riding...</td>\n",
       "    </tr>\n",
       "    <tr>\n",
       "      <th>1</th>\n",
       "      <td>Fastrack</td>\n",
       "      <td>₹519</td>\n",
       "      <td>Polarized Retro Square Sunglasses (Free Size)</td>\n",
       "    </tr>\n",
       "    <tr>\n",
       "      <th>2</th>\n",
       "      <td>Rich Club</td>\n",
       "      <td>₹258</td>\n",
       "      <td>UV Protection Retro Square Sunglasses (54)</td>\n",
       "    </tr>\n",
       "    <tr>\n",
       "      <th>3</th>\n",
       "      <td>ROZZETTA CRAFT</td>\n",
       "      <td>₹399</td>\n",
       "      <td>UV Protection Spectacle Sunglasses (Free Size)</td>\n",
       "    </tr>\n",
       "    <tr>\n",
       "      <th>4</th>\n",
       "      <td>NuVew</td>\n",
       "      <td>₹108</td>\n",
       "      <td>UV Protection, Mirrored Wayfarer Sunglasses (58)</td>\n",
       "    </tr>\n",
       "  </tbody>\n",
       "</table>\n",
       "</div>"
      ],
      "text/plain": [
       "       page_Brand page_Price  \\\n",
       "0      EYELLUSION       ₹281   \n",
       "1        Fastrack       ₹519   \n",
       "2       Rich Club       ₹258   \n",
       "3  ROZZETTA CRAFT       ₹399   \n",
       "4           NuVew       ₹108   \n",
       "\n",
       "                                       page_pdetails  \n",
       "0  Night Vision, Polarized, UV Protection, Riding...  \n",
       "1      Polarized Retro Square Sunglasses (Free Size)  \n",
       "2         UV Protection Retro Square Sunglasses (54)  \n",
       "3     UV Protection Spectacle Sunglasses (Free Size)  \n",
       "4   UV Protection, Mirrored Wayfarer Sunglasses (58)  "
      ]
     },
     "execution_count": 1061,
     "metadata": {},
     "output_type": "execute_result"
    }
   ],
   "source": [
    "# Making a Data Frame for page 2\n",
    "page2 = pd.DataFrame({})\n",
    "page2[\"page_Brand\"]=page2_Brand[:37]\n",
    "page2[\"page_Price\"]=page2_Price[:37]\n",
    "page2[\"page_pdetails\"]=page2_pdetails\n",
    "page2.head()"
   ]
  },
  {
   "cell_type": "code",
   "execution_count": 1062,
   "id": "91690a05",
   "metadata": {},
   "outputs": [],
   "source": [
    "# Clicking on Page 3\n",
    "\n",
    "next_button=driver.find_element(By.XPATH,\"/html/body/div[1]/div/div[3]/div[1]/div[2]/div[12]/div/div/nav/a[12]/span\")\n",
    "next_button.click()"
   ]
  },
  {
   "cell_type": "code",
   "execution_count": 1063,
   "id": "655d0736",
   "metadata": {},
   "outputs": [
    {
     "data": {
      "text/plain": [
       "[<selenium.webdriver.remote.webelement.WebElement (session=\"7fc4dc6e3663c71330921038e2cfab93\", element=\"80bf44b7-d8d6-4635-8a58-2b44f30fd690\")>,\n",
       " <selenium.webdriver.remote.webelement.WebElement (session=\"7fc4dc6e3663c71330921038e2cfab93\", element=\"c14f766c-328f-494b-9a2d-de5bb5c28f85\")>]"
      ]
     },
     "execution_count": 1063,
     "metadata": {},
     "output_type": "execute_result"
    }
   ],
   "source": [
    "Brand=driver.find_elements(By.XPATH,\"//div[@class='_2WkVRV']\")\n",
    "Brand[0:2]"
   ]
  },
  {
   "cell_type": "code",
   "execution_count": 1064,
   "id": "4ea88108",
   "metadata": {},
   "outputs": [
    {
     "data": {
      "text/plain": [
       "40"
      ]
     },
     "execution_count": 1064,
     "metadata": {},
     "output_type": "execute_result"
    }
   ],
   "source": [
    "len(Brand)"
   ]
  },
  {
   "cell_type": "code",
   "execution_count": 1065,
   "id": "f7b7d202",
   "metadata": {},
   "outputs": [
    {
     "data": {
      "text/plain": [
       "[<selenium.webdriver.remote.webelement.WebElement (session=\"7fc4dc6e3663c71330921038e2cfab93\", element=\"9c705398-9576-432e-a7eb-aa79e2e2ee7a\")>,\n",
       " <selenium.webdriver.remote.webelement.WebElement (session=\"7fc4dc6e3663c71330921038e2cfab93\", element=\"0cd0d9c6-ef4d-4ccf-8bb3-75b18e7a2123\")>]"
      ]
     },
     "execution_count": 1065,
     "metadata": {},
     "output_type": "execute_result"
    }
   ],
   "source": [
    "Price=driver.find_elements(By.XPATH,\"//div[@class='_30jeq3']\")\n",
    "Price[0:2]"
   ]
  },
  {
   "cell_type": "code",
   "execution_count": 1066,
   "id": "40deaf31",
   "metadata": {},
   "outputs": [
    {
     "data": {
      "text/plain": [
       "40"
      ]
     },
     "execution_count": 1066,
     "metadata": {},
     "output_type": "execute_result"
    }
   ],
   "source": [
    "len(Price)"
   ]
  },
  {
   "cell_type": "code",
   "execution_count": 1067,
   "id": "d576a564",
   "metadata": {},
   "outputs": [
    {
     "data": {
      "text/plain": [
       "[<selenium.webdriver.remote.webelement.WebElement (session=\"7fc4dc6e3663c71330921038e2cfab93\", element=\"84c117a4-bbf7-4597-b62d-fcc1173b7899\")>,\n",
       " <selenium.webdriver.remote.webelement.WebElement (session=\"7fc4dc6e3663c71330921038e2cfab93\", element=\"933b5570-7433-4ab9-a5b5-8b020e0eb409\")>]"
      ]
     },
     "execution_count": 1067,
     "metadata": {},
     "output_type": "execute_result"
    }
   ],
   "source": [
    "pdetails=driver.find_elements(By.XPATH,\"//a[@class='IRpwTa']\")\n",
    "pdetails[0:2]"
   ]
  },
  {
   "cell_type": "code",
   "execution_count": 1068,
   "id": "c3bcd8d3",
   "metadata": {},
   "outputs": [
    {
     "data": {
      "text/plain": [
       "38"
      ]
     },
     "execution_count": 1068,
     "metadata": {},
     "output_type": "execute_result"
    }
   ],
   "source": [
    "len(pdetails)"
   ]
  },
  {
   "cell_type": "code",
   "execution_count": 1069,
   "id": "9a5bc703",
   "metadata": {},
   "outputs": [
    {
     "data": {
      "text/plain": [
       "['kingsunglasses', 'Fastrack']"
      ]
     },
     "execution_count": 1069,
     "metadata": {},
     "output_type": "execute_result"
    }
   ],
   "source": [
    "# Extracting Page 3 Deatils for Product\n",
    "page3_Brand=[]\n",
    "for i in Brand:\n",
    "    Brand=i.text\n",
    "    page3_Brand.append(Brand)\n",
    "page3_Brand[0:2]"
   ]
  },
  {
   "cell_type": "code",
   "execution_count": 1070,
   "id": "684e3d37",
   "metadata": {},
   "outputs": [
    {
     "data": {
      "text/plain": [
       "['₹281', '₹579']"
      ]
     },
     "execution_count": 1070,
     "metadata": {},
     "output_type": "execute_result"
    }
   ],
   "source": [
    "# Extracting Page 3 details for Price\n",
    "page3_Price=[]\n",
    "for i in Price:\n",
    "    Price=i.text\n",
    "    page3_Price.append(Price)\n",
    "page3_Price[0:2]"
   ]
  },
  {
   "cell_type": "code",
   "execution_count": 1071,
   "id": "b925cbba",
   "metadata": {},
   "outputs": [
    {
     "data": {
      "text/plain": [
       "['UV Protection, Night Vision Wayfarer Sunglasses (Free S...',\n",
       " 'UV Protection Aviator Sunglasses (Free Size)']"
      ]
     },
     "execution_count": 1071,
     "metadata": {},
     "output_type": "execute_result"
    }
   ],
   "source": [
    "# Extracting Page 3 details for Product Details\n",
    "page3_pdetails=[]\n",
    "for i in pdetails:\n",
    "    pdetails=i.text\n",
    "    page3_pdetails.append(pdetails)\n",
    "page3_pdetails[0:2]"
   ]
  },
  {
   "cell_type": "code",
   "execution_count": 1074,
   "id": "0427bd77",
   "metadata": {},
   "outputs": [
    {
     "data": {
      "text/html": [
       "<div>\n",
       "<style scoped>\n",
       "    .dataframe tbody tr th:only-of-type {\n",
       "        vertical-align: middle;\n",
       "    }\n",
       "\n",
       "    .dataframe tbody tr th {\n",
       "        vertical-align: top;\n",
       "    }\n",
       "\n",
       "    .dataframe thead th {\n",
       "        text-align: right;\n",
       "    }\n",
       "</style>\n",
       "<table border=\"1\" class=\"dataframe\">\n",
       "  <thead>\n",
       "    <tr style=\"text-align: right;\">\n",
       "      <th></th>\n",
       "      <th>page_Brand</th>\n",
       "      <th>page_Price</th>\n",
       "      <th>page_pdetails</th>\n",
       "    </tr>\n",
       "  </thead>\n",
       "  <tbody>\n",
       "    <tr>\n",
       "      <th>0</th>\n",
       "      <td>kingsunglasses</td>\n",
       "      <td>₹281</td>\n",
       "      <td>UV Protection, Night Vision Wayfarer Sunglasse...</td>\n",
       "    </tr>\n",
       "    <tr>\n",
       "      <th>1</th>\n",
       "      <td>Fastrack</td>\n",
       "      <td>₹579</td>\n",
       "      <td>UV Protection Aviator Sunglasses (Free Size)</td>\n",
       "    </tr>\n",
       "    <tr>\n",
       "      <th>2</th>\n",
       "      <td>VINCENT CHASE</td>\n",
       "      <td>₹949</td>\n",
       "      <td>Polarized, UV Protection Round Sunglasses (50)</td>\n",
       "    </tr>\n",
       "    <tr>\n",
       "      <th>3</th>\n",
       "      <td>VINCENT CHASE</td>\n",
       "      <td>₹949</td>\n",
       "      <td>by Lenskart Polarized, UV Protection Cat-eye S...</td>\n",
       "    </tr>\n",
       "    <tr>\n",
       "      <th>4</th>\n",
       "      <td>Urbanic</td>\n",
       "      <td>₹479</td>\n",
       "      <td>Others Retro Square Sunglasses (Free Size)</td>\n",
       "    </tr>\n",
       "  </tbody>\n",
       "</table>\n",
       "</div>"
      ],
      "text/plain": [
       "       page_Brand page_Price  \\\n",
       "0  kingsunglasses       ₹281   \n",
       "1        Fastrack       ₹579   \n",
       "2   VINCENT CHASE       ₹949   \n",
       "3   VINCENT CHASE       ₹949   \n",
       "4         Urbanic       ₹479   \n",
       "\n",
       "                                       page_pdetails  \n",
       "0  UV Protection, Night Vision Wayfarer Sunglasse...  \n",
       "1       UV Protection Aviator Sunglasses (Free Size)  \n",
       "2     Polarized, UV Protection Round Sunglasses (50)  \n",
       "3  by Lenskart Polarized, UV Protection Cat-eye S...  \n",
       "4         Others Retro Square Sunglasses (Free Size)  "
      ]
     },
     "execution_count": 1074,
     "metadata": {},
     "output_type": "execute_result"
    }
   ],
   "source": [
    "# Making a Data Frame for page 3\n",
    "page3 = pd.DataFrame({})\n",
    "page3[\"page_Brand\"]=page3_Brand[:24]\n",
    "page3[\"page_Price\"]=page3_Price[:24]\n",
    "page3[\"page_pdetails\"]=page3_pdetails[:24]\n",
    "page3.head()"
   ]
  },
  {
   "cell_type": "code",
   "execution_count": 1075,
   "id": "9ee662ce",
   "metadata": {},
   "outputs": [
    {
     "data": {
      "text/html": [
       "<div>\n",
       "<style scoped>\n",
       "    .dataframe tbody tr th:only-of-type {\n",
       "        vertical-align: middle;\n",
       "    }\n",
       "\n",
       "    .dataframe tbody tr th {\n",
       "        vertical-align: top;\n",
       "    }\n",
       "\n",
       "    .dataframe thead th {\n",
       "        text-align: right;\n",
       "    }\n",
       "</style>\n",
       "<table border=\"1\" class=\"dataframe\">\n",
       "  <thead>\n",
       "    <tr style=\"text-align: right;\">\n",
       "      <th></th>\n",
       "      <th>page_Brand</th>\n",
       "      <th>page_Price</th>\n",
       "      <th>page_pdetails</th>\n",
       "    </tr>\n",
       "  </thead>\n",
       "  <tbody>\n",
       "    <tr>\n",
       "      <th>0</th>\n",
       "      <td>ROZZETTA CRAFT</td>\n",
       "      <td>₹399</td>\n",
       "      <td>UV Protection, Gradient Round Sunglasses (Free...</td>\n",
       "    </tr>\n",
       "    <tr>\n",
       "      <th>1</th>\n",
       "      <td>ROZZETTA CRAFT</td>\n",
       "      <td>₹649</td>\n",
       "      <td>UV Protection Aviator Sunglasses (55)</td>\n",
       "    </tr>\n",
       "    <tr>\n",
       "      <th>2</th>\n",
       "      <td>Fastrack</td>\n",
       "      <td>₹599</td>\n",
       "      <td>UV Protection Wayfarer Sunglasses (Free Size)</td>\n",
       "    </tr>\n",
       "    <tr>\n",
       "      <th>3</th>\n",
       "      <td>Elligator</td>\n",
       "      <td>₹149</td>\n",
       "      <td>UV Protection Cat-eye, Retro Square, Oval, Rou...</td>\n",
       "    </tr>\n",
       "    <tr>\n",
       "      <th>4</th>\n",
       "      <td>Fastrack</td>\n",
       "      <td>₹499</td>\n",
       "      <td>UV Protection Rectangular Sunglasses (Free Size)</td>\n",
       "    </tr>\n",
       "    <tr>\n",
       "      <th>...</th>\n",
       "      <td>...</td>\n",
       "      <td>...</td>\n",
       "      <td>...</td>\n",
       "    </tr>\n",
       "    <tr>\n",
       "      <th>19</th>\n",
       "      <td>CART2DEAL</td>\n",
       "      <td>₹1,244</td>\n",
       "      <td>by Lenskart Polarized, UV Protection Aviator S...</td>\n",
       "    </tr>\n",
       "    <tr>\n",
       "      <th>20</th>\n",
       "      <td>VINCENT CHASE</td>\n",
       "      <td>₹699</td>\n",
       "      <td>UV Protection Aviator Sunglasses (Free Size)</td>\n",
       "    </tr>\n",
       "    <tr>\n",
       "      <th>21</th>\n",
       "      <td>MGKNYAH</td>\n",
       "      <td>₹179</td>\n",
       "      <td>UV Protection, Gradient Cat-eye Sunglasses (61)</td>\n",
       "    </tr>\n",
       "    <tr>\n",
       "      <th>22</th>\n",
       "      <td>AISLIN</td>\n",
       "      <td>₹415</td>\n",
       "      <td>by Lenskart Polarized, UV Protection Retro Squ...</td>\n",
       "    </tr>\n",
       "    <tr>\n",
       "      <th>23</th>\n",
       "      <td>VINCENT CHASE</td>\n",
       "      <td>₹949</td>\n",
       "      <td>UV Protection Aviator Sunglasses (Free Size)</td>\n",
       "    </tr>\n",
       "  </tbody>\n",
       "</table>\n",
       "<p>100 rows × 3 columns</p>\n",
       "</div>"
      ],
      "text/plain": [
       "        page_Brand page_Price  \\\n",
       "0   ROZZETTA CRAFT       ₹399   \n",
       "1   ROZZETTA CRAFT       ₹649   \n",
       "2         Fastrack       ₹599   \n",
       "3        Elligator       ₹149   \n",
       "4         Fastrack       ₹499   \n",
       "..             ...        ...   \n",
       "19       CART2DEAL     ₹1,244   \n",
       "20   VINCENT CHASE       ₹699   \n",
       "21         MGKNYAH       ₹179   \n",
       "22          AISLIN       ₹415   \n",
       "23   VINCENT CHASE       ₹949   \n",
       "\n",
       "                                        page_pdetails  \n",
       "0   UV Protection, Gradient Round Sunglasses (Free...  \n",
       "1               UV Protection Aviator Sunglasses (55)  \n",
       "2       UV Protection Wayfarer Sunglasses (Free Size)  \n",
       "3   UV Protection Cat-eye, Retro Square, Oval, Rou...  \n",
       "4    UV Protection Rectangular Sunglasses (Free Size)  \n",
       "..                                                ...  \n",
       "19  by Lenskart Polarized, UV Protection Aviator S...  \n",
       "20       UV Protection Aviator Sunglasses (Free Size)  \n",
       "21    UV Protection, Gradient Cat-eye Sunglasses (61)  \n",
       "22  by Lenskart Polarized, UV Protection Retro Squ...  \n",
       "23       UV Protection Aviator Sunglasses (Free Size)  \n",
       "\n",
       "[100 rows x 3 columns]"
      ]
     },
     "execution_count": 1075,
     "metadata": {},
     "output_type": "execute_result"
    }
   ],
   "source": [
    "# Final 100 Glasses DataFrame\n",
    "\n",
    "flipkart_100_sunglasses = pd.concat([page1,page2,page3])\n",
    "flipkart_100_sunglasses"
   ]
  },
  {
   "cell_type": "markdown",
   "id": "0aecd4c1",
   "metadata": {},
   "source": [
    "# Q5: Scrape 100 reviews data from flipkart.com for iphone11 phone.\n",
    "\n",
    "you have to scrape the tick marked attributes.These are:\n",
    "\n",
    "Rating\n",
    "Review summary\n",
    "Full review\n",
    "You have to scrape this data for first 100 reviews."
   ]
  },
  {
   "cell_type": "code",
   "execution_count": 762,
   "id": "534acf59",
   "metadata": {},
   "outputs": [],
   "source": [
    "driver.get(\"https://www.flipkart.com/apple-iphone-11-black-64-gb-includes-earpods-power-adapter/product-reviews/itm0f37c2240b217?pid=MOBFKCTSVZAXUHGR&lid=LSTMOBFKCTSVZAXUHGREPBFGI&marketplace=FLIPKART\")"
   ]
  },
  {
   "cell_type": "code",
   "execution_count": 763,
   "id": "f409fe0e",
   "metadata": {},
   "outputs": [],
   "source": [
    "all_button=driver.find_element(By.XPATH,\"/html/body/div/div/div[3]/div/div[1]/div[2]/div[2]/div/div[2]\")\n",
    "all_button.click()\n",
    "\n"
   ]
  },
  {
   "cell_type": "code",
   "execution_count": 764,
   "id": "476f8079",
   "metadata": {},
   "outputs": [
    {
     "data": {
      "text/plain": [
       "[<selenium.webdriver.remote.webelement.WebElement (session=\"7fc4dc6e3663c71330921038e2cfab93\", element=\"89593c22-3869-4cb5-bc58-288d36994b6d\")>,\n",
       " <selenium.webdriver.remote.webelement.WebElement (session=\"7fc4dc6e3663c71330921038e2cfab93\", element=\"6432abac-109f-4f6b-bcee-b0a773ccbbe1\")>]"
      ]
     },
     "execution_count": 764,
     "metadata": {},
     "output_type": "execute_result"
    }
   ],
   "source": [
    "# Code for Rating\n",
    "\n",
    "Rating=driver.find_elements(By.XPATH,\"//div[@class='_3LWZlK _1BLPMq']\")\n",
    "Rating[0:2]"
   ]
  },
  {
   "cell_type": "code",
   "execution_count": 765,
   "id": "9662f6fd",
   "metadata": {},
   "outputs": [
    {
     "data": {
      "text/plain": [
       "['5', '5', '5', '4', '5', '5', '5', '5', '5', '4']"
      ]
     },
     "execution_count": 765,
     "metadata": {},
     "output_type": "execute_result"
    }
   ],
   "source": [
    "page1_Rating=[]\n",
    "for i in Rating:\n",
    "    Rating = i.text\n",
    "    page1_Rating.append(Rating)\n",
    "page1_Rating"
   ]
  },
  {
   "cell_type": "code",
   "execution_count": 766,
   "id": "f95ec444",
   "metadata": {},
   "outputs": [
    {
     "data": {
      "text/plain": [
       "[<selenium.webdriver.remote.webelement.WebElement (session=\"7fc4dc6e3663c71330921038e2cfab93\", element=\"23c202b7-52d3-429d-8f77-47663609d23a\")>,\n",
       " <selenium.webdriver.remote.webelement.WebElement (session=\"7fc4dc6e3663c71330921038e2cfab93\", element=\"fcfbe986-e066-4398-802e-4bf120ba3b56\")>]"
      ]
     },
     "execution_count": 766,
     "metadata": {},
     "output_type": "execute_result"
    }
   ],
   "source": [
    "# Getting the Review Summary\n",
    "\n",
    "Review_summary =driver.find_elements(By.XPATH,\"//p[@class='_2-N8zT']\")\n",
    "Review_summary[0:2]"
   ]
  },
  {
   "cell_type": "code",
   "execution_count": 767,
   "id": "8dcb5cc3",
   "metadata": {},
   "outputs": [
    {
     "data": {
      "text/plain": [
       "['Simply awesome',\n",
       " 'Perfect product!',\n",
       " 'Best in the market!',\n",
       " 'Value-for-money',\n",
       " 'Highly recommended',\n",
       " 'Worth every penny',\n",
       " 'Perfect product!',\n",
       " 'Highly recommended',\n",
       " 'Great product',\n",
       " 'Pretty good']"
      ]
     },
     "execution_count": 767,
     "metadata": {},
     "output_type": "execute_result"
    }
   ],
   "source": [
    "page1_Review_summary=[]\n",
    "for i in Review_summary:\n",
    "    Review_summarys = i.text\n",
    "    page1_Review_summary.append(Review_summarys)\n",
    "page1_Review_summary"
   ]
  },
  {
   "cell_type": "code",
   "execution_count": 768,
   "id": "180dca51",
   "metadata": {},
   "outputs": [
    {
     "data": {
      "text/plain": [
       "[<selenium.webdriver.remote.webelement.WebElement (session=\"7fc4dc6e3663c71330921038e2cfab93\", element=\"cb43d42a-9afc-4b81-ad61-cd0b221cbdc9\")>,\n",
       " <selenium.webdriver.remote.webelement.WebElement (session=\"7fc4dc6e3663c71330921038e2cfab93\", element=\"6cfc2ed7-de49-459b-9056-ffa516139be8\")>]"
      ]
     },
     "execution_count": 768,
     "metadata": {},
     "output_type": "execute_result"
    }
   ],
   "source": [
    "# Getting the Full Review\n",
    "\n",
    "full_review=driver.find_elements(By.XPATH,\"//div[@class='t-ZTKy']\")\n",
    "full_review[0:2]"
   ]
  },
  {
   "cell_type": "code",
   "execution_count": 769,
   "id": "25563def",
   "metadata": {},
   "outputs": [
    {
     "data": {
      "text/plain": [
       "['Really satisfied with the Product I received... It’s totally genuine and the packaging was also really good so if ur planning to buy just go for it.',\n",
       " 'Amazing phone with great cameras and better battery which gives you the best performance. I just love the camera .',\n",
       " 'Great iPhone very snappy experience as apple kind. Upgraded from iPhone 7..Pros.-Camera top class.- Battery top performed.-Chipset no need to say as apple kind.-Security as you expect from apple.- Display super bright industry leading colour.accuracy and super responsive.-Build quality as expect from apple sturdy.premium durable beautiful stylish..-Os most stable os in smartphone industry..Cons.-No 5G.-Display is not based on OLED technology.-Charger headphones and 1 apple stic....READ MORE',\n",
       " \"I'm Really happy with the product.Delivery was fast as well...it was a gift for my sister and she loved it so much.\",\n",
       " \"It's my first time to use iOS phone and I am loving my upgradation 😍😍 I love the color, I love the assebility of the phone....I need to learn more about its functionality, but as far as I have seen, it's quite easy and it has a lot of functions to work on, specially if you are a content writer or a blogger you get a lot of content creation platforms and they are really amazing...This phone not only for good quality photography but a lot of other task too.😍💯\",\n",
       " 'Previously I was using one plus 3t it was a great phone.And then I decided to upgrade I am stuck between Samsung s10 plus or iPhone 11.I have seen the specs and everything were good except the display it’s somewhere between 720-1080 and it’s not even an amoled it’s an LCD display.But I decided to go with iPhone because I have never used an IOS device I have Been an android user from the past 9 years I ordered IPhone 11 (128gb) product red.My experience after using 3 weeks.1. The delivery ....READ MORE',\n",
       " 'Value for money.5 star rating.Excellent camera.Battery backup full day in single charge...Tougher and water resistant design, glossy back..The screen has excellent brightness and contrast..Apple A13 Bionic is the fastest smartphone chip on the planet..Excellent battery life, fast charging support..Stereo speakers with great quality.',\n",
       " 'What a camera .....just awesome ..you can feel this iPhone just awesome . Good for gaming also ...try pubg in hd it’s just wow',\n",
       " 'Amazing Powerful and Durable Gadget...I’m am very happy with the camera picture quality, Amazing face id unlocked in dark room, Strong battery with perfect screen size as you can carry easily in pocket. This is my third iPhone...I shifted from android Samsung Note series to iPhone because of the strong build quality and peace of mind for next 3-4 years...Don’t think to much just go for it and I suggest you to go for minimum 128gb variant or more 256gb...I’ve attached my puppy pics and no fi....READ MORE',\n",
       " 'I was using Iphone 6s and also Oneplus 6t. Both mobiles were perfectly alright in Photos, gaming, and smooth interface . My 6s mobile getting battery issue. thought upgrade to 11. Really like this mobile of its Internal storage (compare to 6s) , camera and its touch feeling. Its a worth buying mobile for me.']"
      ]
     },
     "execution_count": 769,
     "metadata": {},
     "output_type": "execute_result"
    }
   ],
   "source": [
    "page1_full_review=[]\n",
    "for i in full_review:\n",
    "    full_reviews = i.text.replace(\"\\n\",\".\")\n",
    "    page1_full_review.append(full_reviews)\n",
    "page1_full_review"
   ]
  },
  {
   "cell_type": "code",
   "execution_count": 770,
   "id": "24ca1a37",
   "metadata": {},
   "outputs": [
    {
     "data": {
      "text/html": [
       "<div>\n",
       "<style scoped>\n",
       "    .dataframe tbody tr th:only-of-type {\n",
       "        vertical-align: middle;\n",
       "    }\n",
       "\n",
       "    .dataframe tbody tr th {\n",
       "        vertical-align: top;\n",
       "    }\n",
       "\n",
       "    .dataframe thead th {\n",
       "        text-align: right;\n",
       "    }\n",
       "</style>\n",
       "<table border=\"1\" class=\"dataframe\">\n",
       "  <thead>\n",
       "    <tr style=\"text-align: right;\">\n",
       "      <th></th>\n",
       "      <th>Rating</th>\n",
       "      <th>Review_summary</th>\n",
       "      <th>full_review</th>\n",
       "    </tr>\n",
       "  </thead>\n",
       "  <tbody>\n",
       "    <tr>\n",
       "      <th>0</th>\n",
       "      <td>5</td>\n",
       "      <td>Simply awesome</td>\n",
       "      <td>Really satisfied with the Product I received.....</td>\n",
       "    </tr>\n",
       "    <tr>\n",
       "      <th>1</th>\n",
       "      <td>5</td>\n",
       "      <td>Perfect product!</td>\n",
       "      <td>Amazing phone with great cameras and better ba...</td>\n",
       "    </tr>\n",
       "    <tr>\n",
       "      <th>2</th>\n",
       "      <td>5</td>\n",
       "      <td>Best in the market!</td>\n",
       "      <td>Great iPhone very snappy experience as apple k...</td>\n",
       "    </tr>\n",
       "    <tr>\n",
       "      <th>3</th>\n",
       "      <td>4</td>\n",
       "      <td>Value-for-money</td>\n",
       "      <td>I'm Really happy with the product.Delivery was...</td>\n",
       "    </tr>\n",
       "    <tr>\n",
       "      <th>4</th>\n",
       "      <td>5</td>\n",
       "      <td>Highly recommended</td>\n",
       "      <td>It's my first time to use iOS phone and I am l...</td>\n",
       "    </tr>\n",
       "    <tr>\n",
       "      <th>5</th>\n",
       "      <td>5</td>\n",
       "      <td>Worth every penny</td>\n",
       "      <td>Previously I was using one plus 3t it was a gr...</td>\n",
       "    </tr>\n",
       "    <tr>\n",
       "      <th>6</th>\n",
       "      <td>5</td>\n",
       "      <td>Perfect product!</td>\n",
       "      <td>Value for money.5 star rating.Excellent camera...</td>\n",
       "    </tr>\n",
       "    <tr>\n",
       "      <th>7</th>\n",
       "      <td>5</td>\n",
       "      <td>Highly recommended</td>\n",
       "      <td>What a camera .....just awesome ..you can feel...</td>\n",
       "    </tr>\n",
       "    <tr>\n",
       "      <th>8</th>\n",
       "      <td>5</td>\n",
       "      <td>Great product</td>\n",
       "      <td>Amazing Powerful and Durable Gadget...I’m am v...</td>\n",
       "    </tr>\n",
       "    <tr>\n",
       "      <th>9</th>\n",
       "      <td>4</td>\n",
       "      <td>Pretty good</td>\n",
       "      <td>I was using Iphone 6s and also Oneplus 6t. Bot...</td>\n",
       "    </tr>\n",
       "  </tbody>\n",
       "</table>\n",
       "</div>"
      ],
      "text/plain": [
       "  Rating       Review_summary  \\\n",
       "0      5       Simply awesome   \n",
       "1      5     Perfect product!   \n",
       "2      5  Best in the market!   \n",
       "3      4      Value-for-money   \n",
       "4      5   Highly recommended   \n",
       "5      5    Worth every penny   \n",
       "6      5     Perfect product!   \n",
       "7      5   Highly recommended   \n",
       "8      5        Great product   \n",
       "9      4          Pretty good   \n",
       "\n",
       "                                         full_review  \n",
       "0  Really satisfied with the Product I received.....  \n",
       "1  Amazing phone with great cameras and better ba...  \n",
       "2  Great iPhone very snappy experience as apple k...  \n",
       "3  I'm Really happy with the product.Delivery was...  \n",
       "4  It's my first time to use iOS phone and I am l...  \n",
       "5  Previously I was using one plus 3t it was a gr...  \n",
       "6  Value for money.5 star rating.Excellent camera...  \n",
       "7  What a camera .....just awesome ..you can feel...  \n",
       "8  Amazing Powerful and Durable Gadget...I’m am v...  \n",
       "9  I was using Iphone 6s and also Oneplus 6t. Bot...  "
      ]
     },
     "execution_count": 770,
     "metadata": {},
     "output_type": "execute_result"
    }
   ],
   "source": [
    "# Creating Data Frame for PAGE 1\n",
    "\n",
    "page1 = pd.DataFrame({})\n",
    "page1[\"Rating\"]=page1_Rating\n",
    "page1[\"Review_summary\"]=page1_Review_summary\n",
    "page1[\"full_review\"]=page1_full_review\n",
    "page1"
   ]
  },
  {
   "cell_type": "code",
   "execution_count": 771,
   "id": "cbe4e0bd",
   "metadata": {},
   "outputs": [],
   "source": [
    "# Going to the Page 2\n",
    "\n",
    "next_button=driver.find_element(By.XPATH,\"/html/body/div[1]/div/div[3]/div/div/div[2]/div[13]/div/div/nav/a[11]/span\")\n",
    "next_button.click()"
   ]
  },
  {
   "cell_type": "code",
   "execution_count": 772,
   "id": "57678dab",
   "metadata": {},
   "outputs": [
    {
     "data": {
      "text/plain": [
       "[<selenium.webdriver.remote.webelement.WebElement (session=\"7fc4dc6e3663c71330921038e2cfab93\", element=\"55ff98ca-8a14-4893-a615-4b25d2fd16ec\")>,\n",
       " <selenium.webdriver.remote.webelement.WebElement (session=\"7fc4dc6e3663c71330921038e2cfab93\", element=\"312d9c55-7039-4c3a-beb4-a2e5b162d601\")>]"
      ]
     },
     "execution_count": 772,
     "metadata": {},
     "output_type": "execute_result"
    }
   ],
   "source": [
    "# Rating frrom Page 2 \n",
    "\n",
    "Rating=driver.find_elements(By.XPATH,\"//div[@class='_3LWZlK _1BLPMq']\")\n",
    "Rating[0:2]"
   ]
  },
  {
   "cell_type": "code",
   "execution_count": 773,
   "id": "b9968e4b",
   "metadata": {},
   "outputs": [
    {
     "data": {
      "text/plain": [
       "['5', '5', '5', '4', '5', '4', '5', '5', '5', '5']"
      ]
     },
     "execution_count": 773,
     "metadata": {},
     "output_type": "execute_result"
    }
   ],
   "source": [
    "page2_Rating=[]\n",
    "for i in Rating:\n",
    "    Rating = i.text\n",
    "    page2_Rating.append(Rating)\n",
    "page2_Rating"
   ]
  },
  {
   "cell_type": "code",
   "execution_count": 774,
   "id": "39280c72",
   "metadata": {},
   "outputs": [
    {
     "data": {
      "text/plain": [
       "[<selenium.webdriver.remote.webelement.WebElement (session=\"7fc4dc6e3663c71330921038e2cfab93\", element=\"85c20ec1-d034-4f4c-bea3-254300f39863\")>,\n",
       " <selenium.webdriver.remote.webelement.WebElement (session=\"7fc4dc6e3663c71330921038e2cfab93\", element=\"deb220f0-33e6-4a67-9bb9-058292899b2d\")>]"
      ]
     },
     "execution_count": 774,
     "metadata": {},
     "output_type": "execute_result"
    }
   ],
   "source": [
    "# Getting the Review Summary from page 2\n",
    "\n",
    "Review_summary =driver.find_elements(By.XPATH,\"//p[@class='_2-N8zT']\")\n",
    "Review_summary[0:2]"
   ]
  },
  {
   "cell_type": "code",
   "execution_count": 775,
   "id": "5d44a28d",
   "metadata": {},
   "outputs": [
    {
     "data": {
      "text/plain": [
       "['Fabulous!',\n",
       " 'Classy product',\n",
       " 'Worth every penny',\n",
       " 'Value-for-money',\n",
       " 'Perfect product!',\n",
       " 'Good choice',\n",
       " 'Perfect product!',\n",
       " 'Highly recommended',\n",
       " 'Perfect product!',\n",
       " 'Highly recommended']"
      ]
     },
     "execution_count": 775,
     "metadata": {},
     "output_type": "execute_result"
    }
   ],
   "source": [
    "page2_Review_summary=[]\n",
    "for i in Review_summary:\n",
    "    Review_summarys = i.text\n",
    "    page2_Review_summary.append(Review_summarys)\n",
    "page2_Review_summary"
   ]
  },
  {
   "cell_type": "code",
   "execution_count": 776,
   "id": "f186fe52",
   "metadata": {},
   "outputs": [
    {
     "data": {
      "text/plain": [
       "[<selenium.webdriver.remote.webelement.WebElement (session=\"7fc4dc6e3663c71330921038e2cfab93\", element=\"2b89ecc6-9233-43b7-84be-17b35d59d40d\")>,\n",
       " <selenium.webdriver.remote.webelement.WebElement (session=\"7fc4dc6e3663c71330921038e2cfab93\", element=\"139af9a6-87ac-4723-9e67-93a5688326b7\")>]"
      ]
     },
     "execution_count": 776,
     "metadata": {},
     "output_type": "execute_result"
    }
   ],
   "source": [
    "# Getting the Full Review from Page 2\n",
    "\n",
    "full_review=driver.find_elements(By.XPATH,\"//div[@class='t-ZTKy']\")\n",
    "full_review[0:2]"
   ]
  },
  {
   "cell_type": "code",
   "execution_count": 777,
   "id": "cd8a5743",
   "metadata": {},
   "outputs": [
    {
     "data": {
      "text/plain": [
       "['This is my first iOS phone. I am very happy with this product. Very much satisfied with this. I love this phone.',\n",
       " 'Best and amazing product.....phone looks so premium.... battary is also good as expected .... Wide angle camera is so addictive ...if you are a IOS lover....then this phone will be the best choice for you all!!💯🔥',\n",
       " 'i11 is worthy to buy, too much happy with the product. Thank u flipkart I received the item on time..loved it..',\n",
       " \"Just got this iphone 11.And it is most powerful mobile phone I have used ever..So,go for it if you want a phone with best specification like camera,battery backup,display, A13 bionic chip..That's my review about this phone but yours can be differ from me....\",\n",
       " 'It’s a must buy who is looking for an upgrade from previous generation of iPhones. If you are using XR then still you can hold on for sometime and upgrade to 2020 model else this phone is a must buy . Camera quality is amazing and wide angle is something to count upon. Performance wise it’s amazing and feels premium while holding in hand. So a big YES for this device. Go for 128 GB variant as the 4K videos will occupy lots of space and the storage can get over very quickly. Try to buy it with....READ MORE',\n",
       " 'So far it’s been an AMAZING experience coming back to iOS after nearly a decade but it’s not as versatile as android though phone is sturdy dropped it accidentally a couple of times and nothing happened fortunately camera is awesome',\n",
       " 'Value for money❤️❤️.Its awesome mobile phone in the world ....Display was very good and bright ...Trust me freinds you r never regret after Buying...Just go for it.....I love this phone and i switch to iphone x to 11',\n",
       " 'iphone 11 is a very good phone to buy only if you can compromise for the display. The display on this is device is pretty good but you can get other options with better displays in this price segment..If you can survive with an HD+ LCD panel with thicker bezels and a notch up top then this is a very good phone for you..Cameras are awesome, battery backup excellent, great performance and a decent premium look. Good job Apple !',\n",
       " 'It is just awesome mobile for this price from Apple,..After 10 days review..Battery enough for 1 day even 24*7 Internet will be on and mostly internet usage..Camera is just awesome cool , android 64 MP is equal to this just 12 MP..A13 Bionic chip will give more high performance without hanging..Audio stereo speakers will give Dolby atoms sound with crystal clear..Video recording is like cinematic shots of every sec can be a 4K 60fps. Just awesome this phone.iPhone 11 loved one',\n",
       " 'Thanks Flipkart For this amazing deal! I had a dream of owning a iphone since i had known about..Im very happy with my purchase & it is totally worth it..Amazing experience all over !!..Anyone who’s thinking of buying it in 2021, i would simply say go for it without any second thoughts ❤️']"
      ]
     },
     "execution_count": 777,
     "metadata": {},
     "output_type": "execute_result"
    }
   ],
   "source": [
    "page2_full_review=[]\n",
    "for i in full_review:\n",
    "    full_reviews = i.text.replace(\"\\n\",\".\")\n",
    "    page2_full_review.append(full_reviews)\n",
    "page2_full_review"
   ]
  },
  {
   "cell_type": "code",
   "execution_count": 870,
   "id": "8fb037a2",
   "metadata": {},
   "outputs": [
    {
     "data": {
      "text/html": [
       "<div>\n",
       "<style scoped>\n",
       "    .dataframe tbody tr th:only-of-type {\n",
       "        vertical-align: middle;\n",
       "    }\n",
       "\n",
       "    .dataframe tbody tr th {\n",
       "        vertical-align: top;\n",
       "    }\n",
       "\n",
       "    .dataframe thead th {\n",
       "        text-align: right;\n",
       "    }\n",
       "</style>\n",
       "<table border=\"1\" class=\"dataframe\">\n",
       "  <thead>\n",
       "    <tr style=\"text-align: right;\">\n",
       "      <th></th>\n",
       "      <th>Rating</th>\n",
       "      <th>Review_summary</th>\n",
       "      <th>full_review</th>\n",
       "    </tr>\n",
       "  </thead>\n",
       "  <tbody>\n",
       "    <tr>\n",
       "      <th>0</th>\n",
       "      <td>5</td>\n",
       "      <td>Fabulous!</td>\n",
       "      <td>This is my first iOS phone. I am very happy wi...</td>\n",
       "    </tr>\n",
       "    <tr>\n",
       "      <th>1</th>\n",
       "      <td>5</td>\n",
       "      <td>Classy product</td>\n",
       "      <td>Best and amazing product.....phone looks so pr...</td>\n",
       "    </tr>\n",
       "    <tr>\n",
       "      <th>2</th>\n",
       "      <td>5</td>\n",
       "      <td>Worth every penny</td>\n",
       "      <td>i11 is worthy to buy, too much happy with the ...</td>\n",
       "    </tr>\n",
       "    <tr>\n",
       "      <th>3</th>\n",
       "      <td>4</td>\n",
       "      <td>Value-for-money</td>\n",
       "      <td>Just got this iphone 11.And it is most powerfu...</td>\n",
       "    </tr>\n",
       "    <tr>\n",
       "      <th>4</th>\n",
       "      <td>5</td>\n",
       "      <td>Perfect product!</td>\n",
       "      <td>It’s a must buy who is looking for an upgrade ...</td>\n",
       "    </tr>\n",
       "    <tr>\n",
       "      <th>5</th>\n",
       "      <td>4</td>\n",
       "      <td>Good choice</td>\n",
       "      <td>So far it’s been an AMAZING experience coming ...</td>\n",
       "    </tr>\n",
       "    <tr>\n",
       "      <th>6</th>\n",
       "      <td>5</td>\n",
       "      <td>Perfect product!</td>\n",
       "      <td>Value for money❤️❤️.Its awesome mobile phone i...</td>\n",
       "    </tr>\n",
       "    <tr>\n",
       "      <th>7</th>\n",
       "      <td>5</td>\n",
       "      <td>Highly recommended</td>\n",
       "      <td>iphone 11 is a very good phone to buy only if ...</td>\n",
       "    </tr>\n",
       "    <tr>\n",
       "      <th>8</th>\n",
       "      <td>5</td>\n",
       "      <td>Perfect product!</td>\n",
       "      <td>It is just awesome mobile for this price from ...</td>\n",
       "    </tr>\n",
       "    <tr>\n",
       "      <th>9</th>\n",
       "      <td>5</td>\n",
       "      <td>Highly recommended</td>\n",
       "      <td>Thanks Flipkart For this amazing deal! I had a...</td>\n",
       "    </tr>\n",
       "  </tbody>\n",
       "</table>\n",
       "</div>"
      ],
      "text/plain": [
       "  Rating      Review_summary  \\\n",
       "0      5           Fabulous!   \n",
       "1      5      Classy product   \n",
       "2      5   Worth every penny   \n",
       "3      4     Value-for-money   \n",
       "4      5    Perfect product!   \n",
       "5      4         Good choice   \n",
       "6      5    Perfect product!   \n",
       "7      5  Highly recommended   \n",
       "8      5    Perfect product!   \n",
       "9      5  Highly recommended   \n",
       "\n",
       "                                         full_review  \n",
       "0  This is my first iOS phone. I am very happy wi...  \n",
       "1  Best and amazing product.....phone looks so pr...  \n",
       "2  i11 is worthy to buy, too much happy with the ...  \n",
       "3  Just got this iphone 11.And it is most powerfu...  \n",
       "4  It’s a must buy who is looking for an upgrade ...  \n",
       "5  So far it’s been an AMAZING experience coming ...  \n",
       "6  Value for money❤️❤️.Its awesome mobile phone i...  \n",
       "7  iphone 11 is a very good phone to buy only if ...  \n",
       "8  It is just awesome mobile for this price from ...  \n",
       "9  Thanks Flipkart For this amazing deal! I had a...  "
      ]
     },
     "execution_count": 870,
     "metadata": {},
     "output_type": "execute_result"
    }
   ],
   "source": [
    "# Creating Data Frame for Page 2\n",
    "\n",
    "page2 = pd.DataFrame({})\n",
    "page2[\"Rating\"]=page2_Rating\n",
    "page2[\"Review_summary\"]=page2_Review_summary\n",
    "page2[\"full_review\"]=page2_full_review\n",
    "page2"
   ]
  },
  {
   "cell_type": "code",
   "execution_count": 779,
   "id": "b2c99d36",
   "metadata": {},
   "outputs": [],
   "source": [
    "# Clicking on Page 3\n",
    "\n",
    "\n",
    "next_button=driver.find_element(By.XPATH,\"/html/body/div[1]/div/div[3]/div/div/div[2]/div[13]/div/div/nav/a[12]/span\")\n",
    "next_button.click()"
   ]
  },
  {
   "cell_type": "code",
   "execution_count": 780,
   "id": "b750b34c",
   "metadata": {},
   "outputs": [
    {
     "data": {
      "text/plain": [
       "[<selenium.webdriver.remote.webelement.WebElement (session=\"7fc4dc6e3663c71330921038e2cfab93\", element=\"a50241ec-1c6a-406b-adbb-49dba6ecac93\")>,\n",
       " <selenium.webdriver.remote.webelement.WebElement (session=\"7fc4dc6e3663c71330921038e2cfab93\", element=\"a5223842-7187-43ac-83ea-6dc57360d343\")>]"
      ]
     },
     "execution_count": 780,
     "metadata": {},
     "output_type": "execute_result"
    }
   ],
   "source": [
    "# Rating frrom Page 3\n",
    "\n",
    "Rating=driver.find_elements(By.XPATH,\"//div[@class='_3LWZlK _1BLPMq']\")\n",
    "Rating[0:2]"
   ]
  },
  {
   "cell_type": "code",
   "execution_count": 781,
   "id": "1593a003",
   "metadata": {},
   "outputs": [
    {
     "data": {
      "text/plain": [
       "['5', '5', '5', '5', '5', '5', '5', '5', '5', '5']"
      ]
     },
     "execution_count": 781,
     "metadata": {},
     "output_type": "execute_result"
    }
   ],
   "source": [
    "page3_Rating=[]\n",
    "for i in Rating:\n",
    "    Rating=i.text\n",
    "    page3_Rating.append(Rating)\n",
    "page3_Rating"
   ]
  },
  {
   "cell_type": "code",
   "execution_count": 782,
   "id": "20191563",
   "metadata": {},
   "outputs": [
    {
     "data": {
      "text/plain": [
       "[<selenium.webdriver.remote.webelement.WebElement (session=\"7fc4dc6e3663c71330921038e2cfab93\", element=\"e597a963-654d-410b-9bdf-3a19932af2df\")>,\n",
       " <selenium.webdriver.remote.webelement.WebElement (session=\"7fc4dc6e3663c71330921038e2cfab93\", element=\"373ebe08-ca01-4b60-8619-abb24442b8f9\")>]"
      ]
     },
     "execution_count": 782,
     "metadata": {},
     "output_type": "execute_result"
    }
   ],
   "source": [
    "# Getting the Review Summary from page 3\n",
    "\n",
    "Review_summary =driver.find_elements(By.XPATH,\"//p[@class='_2-N8zT']\")\n",
    "Review_summary[0:2]"
   ]
  },
  {
   "cell_type": "code",
   "execution_count": 783,
   "id": "293ab2e8",
   "metadata": {},
   "outputs": [
    {
     "data": {
      "text/plain": [
       "['Highly recommended',\n",
       " 'Worth every penny',\n",
       " 'Terrific',\n",
       " 'Perfect product!',\n",
       " 'Must buy!',\n",
       " 'Excellent',\n",
       " 'Simply awesome',\n",
       " 'Worth every penny',\n",
       " 'Great product',\n",
       " 'Classy product']"
      ]
     },
     "execution_count": 783,
     "metadata": {},
     "output_type": "execute_result"
    }
   ],
   "source": [
    "page3_Review_summary=[]\n",
    "for i in Review_summary:\n",
    "    Review_summarys = i.text\n",
    "    page3_Review_summary.append(Review_summarys)\n",
    "page3_Review_summary"
   ]
  },
  {
   "cell_type": "code",
   "execution_count": 784,
   "id": "de4d6f07",
   "metadata": {},
   "outputs": [
    {
     "data": {
      "text/plain": [
       "[<selenium.webdriver.remote.webelement.WebElement (session=\"7fc4dc6e3663c71330921038e2cfab93\", element=\"e97aabe3-5135-4e7a-9ffd-c6b5a71e0a2c\")>,\n",
       " <selenium.webdriver.remote.webelement.WebElement (session=\"7fc4dc6e3663c71330921038e2cfab93\", element=\"b984c1c6-fd45-4689-9b12-8adcf4dd9841\")>]"
      ]
     },
     "execution_count": 784,
     "metadata": {},
     "output_type": "execute_result"
    }
   ],
   "source": [
    "# Getting the Full Review from Page 3\n",
    "\n",
    "full_review=driver.find_elements(By.XPATH,\"//div[@class='t-ZTKy']\")\n",
    "full_review[0:2]"
   ]
  },
  {
   "cell_type": "code",
   "execution_count": 785,
   "id": "11505a43",
   "metadata": {},
   "outputs": [
    {
     "data": {
      "text/plain": [
       "['Amazing camera quality as expected, battery also has very good performance. Display, body, and touch experience is the best I’ve ever had. Sound quality of speakers is more than sufficient. Apple is known for it’s customer friendly security services and I can see it how. The A13 processor is the best in its work. So I would definitely recommend it for everyone who are looking for it, just go for it without delay...The most amazing thing it the delivery. Flipkart has delivered it in the span ....READ MORE',\n",
       " 'Smooth like butter, camera like fantabulous, sound is crystal clear & its red color is damn attractive, i am just loving it. Must buy if you love photography...Lucky to get it in sale, thank you Flipkart.',\n",
       " 'Really worth of money. i just love it. It is the best phone ever.',\n",
       " \"Iphone is just awesome.. battery backup is very very nice.. continuously for 10 hours we can use it.camera is just awesome.. display is just fab.i love it alot..i had to wait 15 days for it as i pre ordered it..overalll it's worth the price..these all images are clicked by my iPhone..and i love it.\",\n",
       " 'Best Apple iPhone that i have bought at a very reasonable price, camera quality is next level just awesome n of superior quality android phones not even close(RIP) to that and also battery is really good but packaging by Flipkart of iPhone was very poor of such a expensive product, firstly im bit worried about the quality of product if i purchased it through online how was the product but i think now this was mine best decision to bought it through Flipkart online because i got genuine Apple....READ MORE',\n",
       " 'Its a fabulous mobile look awesome performance unbeaten camera like dslr battery good i think this is a beast of mobile',\n",
       " 'Excellent camera, good performance, no lag. The lcd display is also good.. but difference come when we watch movie in prime and Netflix, the colours are not vibrant.. as we see in amoled display.. and the charger in box is of 5 watts.. takes more than 3 hours to charge from 0 to 100.. so guys be prepare to buy 18 watts charger . Finally I am an android user, it was my first Iapple phone, I promise u guys the iOS is so smooth.. overall the phone is damn good.... close eyes to buy it.. thanks t....READ MORE',\n",
       " 'Best budget Iphone till date ❤️ go for it guys without second thought. Let me explain you guys about Camera, Display, battery, and performance...Camera: at this price range there is no comparison of camera, you’ll love the picture quality as well as video quality. I am a Vlogger I wanted an iPhone with 4k video by front camera and I got this phone and I am more than happy 😃..Battery: I use this phone roughly as I am active social media person and I have a youtube channel. so the battery ba....READ MORE',\n",
       " 'This is my first ever I phone. Before this I was using my google nexus 5. But moving from android to iOS is a great experience. It’s worth at this price. I will highly recommend it if you want to move to iOS. The best part of this phone is it’s camera and it’s battery life. This two things have won my heart. I loved it. Happy to have it in my hand. Still exploring its features. And can’t forget to mention Flipkart service. Very prompt service and fast delivery.',\n",
       " 'Totally in love with this ❤ the camera quality is amazing just love it 😘😘😘 itsss dammnnnnnn amazing... Must buy iPhone 11 this is my best experience ever ☀👌👌🧡🧡🧡🧡🧡 thanku apple ❤']"
      ]
     },
     "execution_count": 785,
     "metadata": {},
     "output_type": "execute_result"
    }
   ],
   "source": [
    "page3_full_review=[]\n",
    "for i in full_review:\n",
    "    full_reviews = i.text.replace(\"\\n\",\".\")\n",
    "    page3_full_review.append(full_reviews)\n",
    "page3_full_review"
   ]
  },
  {
   "cell_type": "code",
   "execution_count": 869,
   "id": "fcddceaa",
   "metadata": {},
   "outputs": [
    {
     "data": {
      "text/html": [
       "<div>\n",
       "<style scoped>\n",
       "    .dataframe tbody tr th:only-of-type {\n",
       "        vertical-align: middle;\n",
       "    }\n",
       "\n",
       "    .dataframe tbody tr th {\n",
       "        vertical-align: top;\n",
       "    }\n",
       "\n",
       "    .dataframe thead th {\n",
       "        text-align: right;\n",
       "    }\n",
       "</style>\n",
       "<table border=\"1\" class=\"dataframe\">\n",
       "  <thead>\n",
       "    <tr style=\"text-align: right;\">\n",
       "      <th></th>\n",
       "      <th>Rating</th>\n",
       "      <th>Review_summary</th>\n",
       "      <th>full_review</th>\n",
       "    </tr>\n",
       "  </thead>\n",
       "  <tbody>\n",
       "    <tr>\n",
       "      <th>0</th>\n",
       "      <td>5</td>\n",
       "      <td>Highly recommended</td>\n",
       "      <td>Amazing camera quality as expected, battery al...</td>\n",
       "    </tr>\n",
       "    <tr>\n",
       "      <th>1</th>\n",
       "      <td>5</td>\n",
       "      <td>Worth every penny</td>\n",
       "      <td>Smooth like butter, camera like fantabulous, s...</td>\n",
       "    </tr>\n",
       "    <tr>\n",
       "      <th>2</th>\n",
       "      <td>5</td>\n",
       "      <td>Terrific</td>\n",
       "      <td>Really worth of money. i just love it. It is t...</td>\n",
       "    </tr>\n",
       "    <tr>\n",
       "      <th>3</th>\n",
       "      <td>5</td>\n",
       "      <td>Perfect product!</td>\n",
       "      <td>Iphone is just awesome.. battery backup is ver...</td>\n",
       "    </tr>\n",
       "    <tr>\n",
       "      <th>4</th>\n",
       "      <td>5</td>\n",
       "      <td>Must buy!</td>\n",
       "      <td>Best Apple iPhone that i have bought at a very...</td>\n",
       "    </tr>\n",
       "    <tr>\n",
       "      <th>5</th>\n",
       "      <td>5</td>\n",
       "      <td>Excellent</td>\n",
       "      <td>Its a fabulous mobile look awesome performance...</td>\n",
       "    </tr>\n",
       "    <tr>\n",
       "      <th>6</th>\n",
       "      <td>5</td>\n",
       "      <td>Simply awesome</td>\n",
       "      <td>Excellent camera, good performance, no lag. Th...</td>\n",
       "    </tr>\n",
       "    <tr>\n",
       "      <th>7</th>\n",
       "      <td>5</td>\n",
       "      <td>Worth every penny</td>\n",
       "      <td>Best budget Iphone till date ❤️ go for it guys...</td>\n",
       "    </tr>\n",
       "    <tr>\n",
       "      <th>8</th>\n",
       "      <td>5</td>\n",
       "      <td>Great product</td>\n",
       "      <td>This is my first ever I phone. Before this I w...</td>\n",
       "    </tr>\n",
       "    <tr>\n",
       "      <th>9</th>\n",
       "      <td>5</td>\n",
       "      <td>Classy product</td>\n",
       "      <td>Totally in love with this ❤ the camera quality...</td>\n",
       "    </tr>\n",
       "  </tbody>\n",
       "</table>\n",
       "</div>"
      ],
      "text/plain": [
       "  Rating      Review_summary  \\\n",
       "0      5  Highly recommended   \n",
       "1      5   Worth every penny   \n",
       "2      5            Terrific   \n",
       "3      5    Perfect product!   \n",
       "4      5           Must buy!   \n",
       "5      5           Excellent   \n",
       "6      5      Simply awesome   \n",
       "7      5   Worth every penny   \n",
       "8      5       Great product   \n",
       "9      5      Classy product   \n",
       "\n",
       "                                         full_review  \n",
       "0  Amazing camera quality as expected, battery al...  \n",
       "1  Smooth like butter, camera like fantabulous, s...  \n",
       "2  Really worth of money. i just love it. It is t...  \n",
       "3  Iphone is just awesome.. battery backup is ver...  \n",
       "4  Best Apple iPhone that i have bought at a very...  \n",
       "5  Its a fabulous mobile look awesome performance...  \n",
       "6  Excellent camera, good performance, no lag. Th...  \n",
       "7  Best budget Iphone till date ❤️ go for it guys...  \n",
       "8  This is my first ever I phone. Before this I w...  \n",
       "9  Totally in love with this ❤ the camera quality...  "
      ]
     },
     "execution_count": 869,
     "metadata": {},
     "output_type": "execute_result"
    }
   ],
   "source": [
    "# Creating Data Frame for Page 3\n",
    "\n",
    "page3 = pd.DataFrame({})\n",
    "page3[\"Rating\"]=page3_Rating\n",
    "page3[\"Review_summary\"]=page3_Review_summary\n",
    "page3[\"full_review\"]=page3_full_review\n",
    "page3"
   ]
  },
  {
   "cell_type": "code",
   "execution_count": 788,
   "id": "4cbcc582",
   "metadata": {},
   "outputs": [],
   "source": [
    "# Clicking on Page 4\n",
    "\n",
    "\n",
    "next_button=driver.find_element(By.XPATH,\"/html/body/div[1]/div/div[3]/div/div/div[2]/div[13]/div/div/nav/a[12]/span\")\n",
    "next_button.click()"
   ]
  },
  {
   "cell_type": "code",
   "execution_count": 789,
   "id": "391dd30c",
   "metadata": {},
   "outputs": [
    {
     "data": {
      "text/plain": [
       "[<selenium.webdriver.remote.webelement.WebElement (session=\"7fc4dc6e3663c71330921038e2cfab93\", element=\"00aa71f7-3e4a-4d84-968d-3876c338193c\")>,\n",
       " <selenium.webdriver.remote.webelement.WebElement (session=\"7fc4dc6e3663c71330921038e2cfab93\", element=\"1d687e3d-41fc-42d3-8af4-0b4885368be2\")>]"
      ]
     },
     "execution_count": 789,
     "metadata": {},
     "output_type": "execute_result"
    }
   ],
   "source": [
    "# Rating frrom Page 4\n",
    "\n",
    "Rating=driver.find_elements(By.XPATH,\"//div[@class='_3LWZlK _1BLPMq']\")\n",
    "Rating[0:2]"
   ]
  },
  {
   "cell_type": "code",
   "execution_count": 701,
   "id": "a7dadab7",
   "metadata": {},
   "outputs": [
    {
     "data": {
      "text/plain": [
       "['5', '5', '5', '4', '5', '5', '5', '5', '5', '4']"
      ]
     },
     "execution_count": 701,
     "metadata": {},
     "output_type": "execute_result"
    }
   ],
   "source": [
    "page4_Rating=[]\n",
    "for i in Rating:\n",
    "    Rating=i.text\n",
    "    page4_Rating.append(Rating)\n",
    "page4_Rating"
   ]
  },
  {
   "cell_type": "code",
   "execution_count": 702,
   "id": "88e2177e",
   "metadata": {},
   "outputs": [
    {
     "data": {
      "text/plain": [
       "[<selenium.webdriver.remote.webelement.WebElement (session=\"239609649531a10f27dfa6be2b1f2628\", element=\"115ee7e6-2930-4e07-9f29-1138413cbfc8\")>,\n",
       " <selenium.webdriver.remote.webelement.WebElement (session=\"239609649531a10f27dfa6be2b1f2628\", element=\"7230dace-b04d-4f10-8cfe-77ad7954aa39\")>]"
      ]
     },
     "execution_count": 702,
     "metadata": {},
     "output_type": "execute_result"
    }
   ],
   "source": [
    "# Getting the Review Summary from page 4\n",
    "\n",
    "Review_summary =driver.find_elements(By.XPATH,\"//p[@class='_2-N8zT']\")\n",
    "Review_summary[0:2]"
   ]
  },
  {
   "cell_type": "code",
   "execution_count": 703,
   "id": "6da77b53",
   "metadata": {},
   "outputs": [
    {
     "data": {
      "text/plain": [
       "['Worth every penny',\n",
       " 'Super!',\n",
       " 'Just wow!',\n",
       " 'Good choice',\n",
       " 'Classy product',\n",
       " 'Brilliant',\n",
       " 'Perfect product!',\n",
       " 'Awesome',\n",
       " 'Classy product',\n",
       " 'Nice product']"
      ]
     },
     "execution_count": 703,
     "metadata": {},
     "output_type": "execute_result"
    }
   ],
   "source": [
    "page4_Review_summary=[]\n",
    "for i in Review_summary:\n",
    "    Review_summarys = i.text\n",
    "    page4_Review_summary.append(Review_summarys)\n",
    "page4_Review_summary"
   ]
  },
  {
   "cell_type": "code",
   "execution_count": 704,
   "id": "4ce694da",
   "metadata": {},
   "outputs": [
    {
     "data": {
      "text/plain": [
       "[<selenium.webdriver.remote.webelement.WebElement (session=\"239609649531a10f27dfa6be2b1f2628\", element=\"722a1f15-6b85-4a8f-a804-1719c2b973b1\")>,\n",
       " <selenium.webdriver.remote.webelement.WebElement (session=\"239609649531a10f27dfa6be2b1f2628\", element=\"f43a7e10-9907-4163-9d3d-abd4fd40a56a\")>]"
      ]
     },
     "execution_count": 704,
     "metadata": {},
     "output_type": "execute_result"
    }
   ],
   "source": [
    "# Getting the Full Review from Page 4\n",
    "\n",
    "full_review=driver.find_elements(By.XPATH,\"//div[@class='t-ZTKy']\")\n",
    "full_review[0:2]"
   ]
  },
  {
   "cell_type": "code",
   "execution_count": 705,
   "id": "6459e36a",
   "metadata": {},
   "outputs": [
    {
     "data": {
      "text/plain": [
       "['It’s been almost a month since I have been using this phone. I upgraded from an iPhone 8. The main issue with my 8 was battery and this phone is just awesome when it comes to battery. It lasts a day and a half for me with my regular use , internet connected always with 4g.Can’t move forward without saying this. Battery of this phone is a life saver when I am traveling or at work when I don’t get the option to charge.Camera is superb. Front cam selfies and back cam photos are just awesome......READ MORE',\n",
       " 'It’s been 7 years I was waiting for an income for my first iPhone .it was like a dream to me and finally I achieved it. Why chose iPhone?? It’s a premium standard level phone maybe you could find other brands valu like this but not all those are iPhone. If you are thinking to buy an iPhone don’t think too much grab it bro. Being an an iPhone owner can give you a feeling like owning an Lamborghini in your pocket According to me a middle class family boy....Best on camera and videography.Soun....READ MORE',\n",
       " 'Best in class. Battery backup is good especially when you play games like Pubg COD. But it is sort of heavy when you hold in hands. Portrait mode is best to click pictures. Stage light effect is awesome. Try to click photos outside in nature because photos inside home or room will not give you the quality in any phone even in DSLR.',\n",
       " 'Looking so good 👍 😍 super 👌 stylish 😎 phone.Clean box 📦 good 👍 delivery 👌 fast delivery.Original box Original iphone 📱 👌 😍😍😍',\n",
       " 'We are on apple ecosystem for almost eight years now with couple of iPads and iPhones, including Xr...Bought iPhone 11 as a gift to my daughter who loves it. We chose for a purple coloured one. Believe me it is gorgeous and towards the lighter shade. Dazzling and brilliant!..The phone is great and does excellent RAM management like any other Apple device...The screen, though a LCD and lesser ppi as compared to other flagship phones of competitor brands, is a delight to watch with perfect re....READ MORE',\n",
       " 'I have migrated from OP 7pro... and trust me, iPhone 11 is totally worth it.. following are the reasons:-.1)there is ABSOLUTELY NO ISSUE WITH THE DISPLAY... its crisp, sharp and I found it to be much much better than OP7 pro. Netflix, Prime video all run crisply... you won’t miss a thing. True Tone works flawlessly...the display brightness is perfect. OP have not calibrated their screens properly..2) iPhone 11 series have really good cameras... others have spoken in depth about them..3) bat....READ MORE',\n",
       " 'Battery backup is extraordinary, camera is decent & performance offered by A13 bionic is awsome. The display is good in practical usage like the visibility of display is very good in direct sun light compare to pro models. Iam extremely satisfied for the money I spent.',\n",
       " 'I am using this phone for 5 days and its one of the best camera out there ❤️ the screen is not oled and i am coming from iphone xs so its little bit not up to the mark i would say.But overall value for money💕😍the battery back up is far better than my iphone xs and its worth in my apple ecosystem💫❤️if u are an apple User and have the eco system then go for it❤️though i will be getting the new iphone but its pretty good💫',\n",
       " 'Superb Product !!!.A big and worthy upgrade from mi 3S to iphone 11 ..Totally loved it !',\n",
       " 'Awesome Phone. Slightly high price but worth. Better than iPhone XR..Camera is superb and wide angle camera is very clear..12MP selfie camera is also very good..A13 Chip gives a very good and smooth performance.']"
      ]
     },
     "execution_count": 705,
     "metadata": {},
     "output_type": "execute_result"
    }
   ],
   "source": [
    "page4_full_review=[]\n",
    "for i in full_review:\n",
    "    full_reviews = i.text.replace(\"\\n\",\".\")\n",
    "    page4_full_review.append(full_reviews)\n",
    "page4_full_review"
   ]
  },
  {
   "cell_type": "code",
   "execution_count": 868,
   "id": "8211ff9a",
   "metadata": {},
   "outputs": [
    {
     "data": {
      "text/html": [
       "<div>\n",
       "<style scoped>\n",
       "    .dataframe tbody tr th:only-of-type {\n",
       "        vertical-align: middle;\n",
       "    }\n",
       "\n",
       "    .dataframe tbody tr th {\n",
       "        vertical-align: top;\n",
       "    }\n",
       "\n",
       "    .dataframe thead th {\n",
       "        text-align: right;\n",
       "    }\n",
       "</style>\n",
       "<table border=\"1\" class=\"dataframe\">\n",
       "  <thead>\n",
       "    <tr style=\"text-align: right;\">\n",
       "      <th></th>\n",
       "      <th>Rating</th>\n",
       "      <th>Review_summary</th>\n",
       "      <th>full_review</th>\n",
       "    </tr>\n",
       "  </thead>\n",
       "  <tbody>\n",
       "    <tr>\n",
       "      <th>0</th>\n",
       "      <td>5</td>\n",
       "      <td>Worth every penny</td>\n",
       "      <td>It’s been almost a month since I have been usi...</td>\n",
       "    </tr>\n",
       "    <tr>\n",
       "      <th>1</th>\n",
       "      <td>5</td>\n",
       "      <td>Super!</td>\n",
       "      <td>It’s been 7 years I was waiting for an income ...</td>\n",
       "    </tr>\n",
       "    <tr>\n",
       "      <th>2</th>\n",
       "      <td>5</td>\n",
       "      <td>Just wow!</td>\n",
       "      <td>Best in class. Battery backup is good especial...</td>\n",
       "    </tr>\n",
       "    <tr>\n",
       "      <th>3</th>\n",
       "      <td>4</td>\n",
       "      <td>Good choice</td>\n",
       "      <td>Looking so good 👍 😍 super 👌 stylish 😎 phone.Cl...</td>\n",
       "    </tr>\n",
       "    <tr>\n",
       "      <th>4</th>\n",
       "      <td>5</td>\n",
       "      <td>Classy product</td>\n",
       "      <td>We are on apple ecosystem for almost eight yea...</td>\n",
       "    </tr>\n",
       "    <tr>\n",
       "      <th>5</th>\n",
       "      <td>5</td>\n",
       "      <td>Brilliant</td>\n",
       "      <td>I have migrated from OP 7pro... and trust me, ...</td>\n",
       "    </tr>\n",
       "    <tr>\n",
       "      <th>6</th>\n",
       "      <td>5</td>\n",
       "      <td>Perfect product!</td>\n",
       "      <td>Battery backup is extraordinary, camera is dec...</td>\n",
       "    </tr>\n",
       "    <tr>\n",
       "      <th>7</th>\n",
       "      <td>5</td>\n",
       "      <td>Awesome</td>\n",
       "      <td>I am using this phone for 5 days and its one o...</td>\n",
       "    </tr>\n",
       "    <tr>\n",
       "      <th>8</th>\n",
       "      <td>5</td>\n",
       "      <td>Classy product</td>\n",
       "      <td>Superb Product !!!.A big and worthy upgrade fr...</td>\n",
       "    </tr>\n",
       "    <tr>\n",
       "      <th>9</th>\n",
       "      <td>4</td>\n",
       "      <td>Nice product</td>\n",
       "      <td>Awesome Phone. Slightly high price but worth. ...</td>\n",
       "    </tr>\n",
       "  </tbody>\n",
       "</table>\n",
       "</div>"
      ],
      "text/plain": [
       "  Rating     Review_summary                                        full_review\n",
       "0      5  Worth every penny  It’s been almost a month since I have been usi...\n",
       "1      5             Super!  It’s been 7 years I was waiting for an income ...\n",
       "2      5          Just wow!  Best in class. Battery backup is good especial...\n",
       "3      4        Good choice  Looking so good 👍 😍 super 👌 stylish 😎 phone.Cl...\n",
       "4      5     Classy product  We are on apple ecosystem for almost eight yea...\n",
       "5      5          Brilliant  I have migrated from OP 7pro... and trust me, ...\n",
       "6      5   Perfect product!  Battery backup is extraordinary, camera is dec...\n",
       "7      5            Awesome  I am using this phone for 5 days and its one o...\n",
       "8      5     Classy product  Superb Product !!!.A big and worthy upgrade fr...\n",
       "9      4       Nice product  Awesome Phone. Slightly high price but worth. ..."
      ]
     },
     "execution_count": 868,
     "metadata": {},
     "output_type": "execute_result"
    }
   ],
   "source": [
    "# Creating Data Frame for Page 4\n",
    "\n",
    "page4 = pd.DataFrame({})\n",
    "page4[\"Rating\"]=page4_Rating\n",
    "page4[\"Review_summary\"]=page4_Review_summary\n",
    "page4[\"full_review\"]=page4_full_review\n",
    "page4"
   ]
  },
  {
   "cell_type": "code",
   "execution_count": 707,
   "id": "5641a73d",
   "metadata": {},
   "outputs": [],
   "source": [
    "# Clicking on Page 5\n",
    "\n",
    "\n",
    "next_button=driver.find_element(By.XPATH,\"/html/body/div[1]/div/div[3]/div/div/div[2]/div[13]/div/div/nav/a[12]/span\")\n",
    "next_button.click()"
   ]
  },
  {
   "cell_type": "code",
   "execution_count": 790,
   "id": "309c5814",
   "metadata": {},
   "outputs": [
    {
     "data": {
      "text/plain": [
       "[<selenium.webdriver.remote.webelement.WebElement (session=\"7fc4dc6e3663c71330921038e2cfab93\", element=\"00aa71f7-3e4a-4d84-968d-3876c338193c\")>,\n",
       " <selenium.webdriver.remote.webelement.WebElement (session=\"7fc4dc6e3663c71330921038e2cfab93\", element=\"1d687e3d-41fc-42d3-8af4-0b4885368be2\")>]"
      ]
     },
     "execution_count": 790,
     "metadata": {},
     "output_type": "execute_result"
    }
   ],
   "source": [
    "# Rating frrom Page 5\n",
    "\n",
    "Rating=driver.find_elements(By.XPATH,\"//div[@class='_3LWZlK _1BLPMq']\")\n",
    "Rating[0:2]"
   ]
  },
  {
   "cell_type": "code",
   "execution_count": 791,
   "id": "a7dd72b4",
   "metadata": {},
   "outputs": [
    {
     "data": {
      "text/plain": [
       "['5', '5', '5', '5', '5', '5', '5', '5', '5', '5']"
      ]
     },
     "execution_count": 791,
     "metadata": {},
     "output_type": "execute_result"
    }
   ],
   "source": [
    "page5_Rating=[]\n",
    "for i in Rating:\n",
    "    Rating=i.text\n",
    "    page5_Rating.append(Rating)\n",
    "page5_Rating"
   ]
  },
  {
   "cell_type": "code",
   "execution_count": 792,
   "id": "e75c654f",
   "metadata": {},
   "outputs": [
    {
     "data": {
      "text/plain": [
       "[<selenium.webdriver.remote.webelement.WebElement (session=\"7fc4dc6e3663c71330921038e2cfab93\", element=\"298b1c55-963c-4eb7-a78c-f8d5afb00a44\")>,\n",
       " <selenium.webdriver.remote.webelement.WebElement (session=\"7fc4dc6e3663c71330921038e2cfab93\", element=\"fd4cd575-fde4-45c9-8603-82e77c4d2e97\")>]"
      ]
     },
     "execution_count": 792,
     "metadata": {},
     "output_type": "execute_result"
    }
   ],
   "source": [
    "# Getting the Review Summary from page 5\n",
    "\n",
    "Review_summary =driver.find_elements(By.XPATH,\"//p[@class='_2-N8zT']\")\n",
    "Review_summary[0:2]"
   ]
  },
  {
   "cell_type": "code",
   "execution_count": 793,
   "id": "532d524e",
   "metadata": {},
   "outputs": [
    {
     "data": {
      "text/plain": [
       "['Great product',\n",
       " 'Must buy!',\n",
       " 'Classy product',\n",
       " 'Fabulous!',\n",
       " 'Perfect product!',\n",
       " 'Fabulous!',\n",
       " 'Wonderful',\n",
       " 'Simply awesome',\n",
       " 'Mind-blowing purchase',\n",
       " 'Terrific purchase']"
      ]
     },
     "execution_count": 793,
     "metadata": {},
     "output_type": "execute_result"
    }
   ],
   "source": [
    "page5_Review_summary=[]\n",
    "for i in Review_summary:\n",
    "    Review_summarys = i.text\n",
    "    page5_Review_summary.append(Review_summarys)\n",
    "page5_Review_summary"
   ]
  },
  {
   "cell_type": "code",
   "execution_count": 794,
   "id": "de3d6309",
   "metadata": {},
   "outputs": [
    {
     "data": {
      "text/plain": [
       "[<selenium.webdriver.remote.webelement.WebElement (session=\"7fc4dc6e3663c71330921038e2cfab93\", element=\"a430e139-6e78-4713-8436-b768a5bef06c\")>,\n",
       " <selenium.webdriver.remote.webelement.WebElement (session=\"7fc4dc6e3663c71330921038e2cfab93\", element=\"52eeef63-7f25-4ec6-a5fe-0b409a51cd3b\")>]"
      ]
     },
     "execution_count": 794,
     "metadata": {},
     "output_type": "execute_result"
    }
   ],
   "source": [
    "# Getting the Full Review from Page 5\n",
    "\n",
    "full_review=driver.find_elements(By.XPATH,\"//div[@class='t-ZTKy']\")\n",
    "full_review[0:2]"
   ]
  },
  {
   "cell_type": "code",
   "execution_count": 795,
   "id": "96f0afd0",
   "metadata": {},
   "outputs": [
    {
     "data": {
      "text/plain": [
       "[\"Again back to apple iphone after a gap of 2-3 years. It's pleasure to use iOS and the quality product by Apple. Iphone 11 still works like a beast in 2021 also. It really capable of doing day to day usage as well as hard core gaming. Battery is awesome. I'm really too much satisfied with it. Apart fto the very gorgious IPS LCD (AMOLED will be better) everything is mind boggling. Iphone💕.\",\n",
       " 'It’s an amazing product from apple and the camera is simply superb. Phone is faster.Night shot is simply superb and detailing and colour differentiation from camera is an added advantage..This review I have written from iPhone 11 only and I am glad to say outside...Cons wise if we see HD+ display only, no battery percentage indicator as in older iPhone 8..No assistive touch control button in it.No oleophobic coating on back panel glass and finger prints are visible but since I bought mint gr....READ MORE',\n",
       " 'Well while switching from android to iOS the first thing you need to be careful about is that you will loose all your whatsapp chat backups as both are different operating systems. Camera clarity is awesome and though being an lcd screen clarity and resolution is good. Battery backup is also good unlike previous gen iPhone. So far the experience is good will Padre after a few months of usage...P.S the black is more of a dark grey shade and not jet black',\n",
       " 'awesome phone to have. it has got many smart features apart from mind blowing looks, camera, display, battery and sound. have fallen in love with this phone. must buy phone if you have got enough money. thanks to flipkart and apple of course..',\n",
       " 'After 1 month use I found camera quality best compared to my previous Samsung note 10+.Display not good as note 10 also charging too slow.Apple should add fast charger like 11 plus and pro.Best phone for daily use',\n",
       " \"I can say I'm damn impressed with iPhone 11. As they says iPhone 11 have the toughest glass ever in the smartphone which you'll find on the front and back and it's totally smooth. The fit and finish is full apple quality - there's no sense that any cheaping out has happened in the construction. Without saying it's camera features this review won't complete. The iPhone 11 has a dual camera system, consisting of a wide angle len's that's pretty much same as found on the iPhone XR last year, but....READ MORE\",\n",
       " 'I just directly switch from iphone 6s to iphone 11 .The best premium smartphone I recommend to everyone. Excellent quality and colors the iphone have in 11 series..Camera quality is just awesome and the major feel when we hold in our hands. The sound quality and volume is also higher then the previous models..I will recommend to buy iphone 11 instead of pro models , there is nothing much difference as this model contains everything which fulfill our needs...Only one thing that I dislike abo....READ MORE',\n",
       " \"It's very high performances devise i am like the service of flipkart delevary very fast and packing very nice perfect phone\",\n",
       " 'Best Quality Product OF iPhone Series , Sound Quality & Camera quality is very awesome, Battery Life is very Sufficient for 24 hr Backup With Full Internet Access , I love this this Product too much , It is very fast & making me Very fast in all my daily Routine.Highlights;.1.Camera: 5 STAR.2.Video Recording: 5 star.3.Night mODE sHOOTING & Camera:4 star.4. Audio Quality: Awesome.5. Battery : 5 Star.6. Touch:5 Star.7. Processor: Very Fast.The M....READ MORE',\n",
       " 'Upgraded from iphone 6 to 11 best phone for iphone users battery is much better than other iphones camera is awesome love to use it.camera is so clear in night.']"
      ]
     },
     "execution_count": 795,
     "metadata": {},
     "output_type": "execute_result"
    }
   ],
   "source": [
    "page5_full_review=[]\n",
    "for i in full_review:\n",
    "    full_reviews = i.text.replace(\"\\n\",\".\")\n",
    "    page5_full_review.append(full_reviews)\n",
    "page5_full_review"
   ]
  },
  {
   "cell_type": "code",
   "execution_count": 867,
   "id": "8e5099ea",
   "metadata": {},
   "outputs": [
    {
     "data": {
      "text/html": [
       "<div>\n",
       "<style scoped>\n",
       "    .dataframe tbody tr th:only-of-type {\n",
       "        vertical-align: middle;\n",
       "    }\n",
       "\n",
       "    .dataframe tbody tr th {\n",
       "        vertical-align: top;\n",
       "    }\n",
       "\n",
       "    .dataframe thead th {\n",
       "        text-align: right;\n",
       "    }\n",
       "</style>\n",
       "<table border=\"1\" class=\"dataframe\">\n",
       "  <thead>\n",
       "    <tr style=\"text-align: right;\">\n",
       "      <th></th>\n",
       "      <th>Rating</th>\n",
       "      <th>Review_summary</th>\n",
       "      <th>full_review</th>\n",
       "    </tr>\n",
       "  </thead>\n",
       "  <tbody>\n",
       "    <tr>\n",
       "      <th>0</th>\n",
       "      <td>5</td>\n",
       "      <td>Great product</td>\n",
       "      <td>Again back to apple iphone after a gap of 2-3 ...</td>\n",
       "    </tr>\n",
       "    <tr>\n",
       "      <th>1</th>\n",
       "      <td>5</td>\n",
       "      <td>Must buy!</td>\n",
       "      <td>It’s an amazing product from apple and the cam...</td>\n",
       "    </tr>\n",
       "    <tr>\n",
       "      <th>2</th>\n",
       "      <td>5</td>\n",
       "      <td>Classy product</td>\n",
       "      <td>Well while switching from android to iOS the f...</td>\n",
       "    </tr>\n",
       "    <tr>\n",
       "      <th>3</th>\n",
       "      <td>5</td>\n",
       "      <td>Fabulous!</td>\n",
       "      <td>awesome phone to have. it has got many smart f...</td>\n",
       "    </tr>\n",
       "    <tr>\n",
       "      <th>4</th>\n",
       "      <td>5</td>\n",
       "      <td>Perfect product!</td>\n",
       "      <td>After 1 month use I found camera quality best ...</td>\n",
       "    </tr>\n",
       "    <tr>\n",
       "      <th>5</th>\n",
       "      <td>5</td>\n",
       "      <td>Fabulous!</td>\n",
       "      <td>I can say I'm damn impressed with iPhone 11. A...</td>\n",
       "    </tr>\n",
       "    <tr>\n",
       "      <th>6</th>\n",
       "      <td>5</td>\n",
       "      <td>Wonderful</td>\n",
       "      <td>I just directly switch from iphone 6s to iphon...</td>\n",
       "    </tr>\n",
       "    <tr>\n",
       "      <th>7</th>\n",
       "      <td>5</td>\n",
       "      <td>Simply awesome</td>\n",
       "      <td>It's very high performances devise i am like t...</td>\n",
       "    </tr>\n",
       "    <tr>\n",
       "      <th>8</th>\n",
       "      <td>5</td>\n",
       "      <td>Mind-blowing purchase</td>\n",
       "      <td>Best Quality Product OF iPhone Series , Sound ...</td>\n",
       "    </tr>\n",
       "    <tr>\n",
       "      <th>9</th>\n",
       "      <td>5</td>\n",
       "      <td>Terrific purchase</td>\n",
       "      <td>Upgraded from iphone 6 to 11 best phone for ip...</td>\n",
       "    </tr>\n",
       "  </tbody>\n",
       "</table>\n",
       "</div>"
      ],
      "text/plain": [
       "  Rating         Review_summary  \\\n",
       "0      5          Great product   \n",
       "1      5              Must buy!   \n",
       "2      5         Classy product   \n",
       "3      5              Fabulous!   \n",
       "4      5       Perfect product!   \n",
       "5      5              Fabulous!   \n",
       "6      5              Wonderful   \n",
       "7      5         Simply awesome   \n",
       "8      5  Mind-blowing purchase   \n",
       "9      5      Terrific purchase   \n",
       "\n",
       "                                         full_review  \n",
       "0  Again back to apple iphone after a gap of 2-3 ...  \n",
       "1  It’s an amazing product from apple and the cam...  \n",
       "2  Well while switching from android to iOS the f...  \n",
       "3  awesome phone to have. it has got many smart f...  \n",
       "4  After 1 month use I found camera quality best ...  \n",
       "5  I can say I'm damn impressed with iPhone 11. A...  \n",
       "6  I just directly switch from iphone 6s to iphon...  \n",
       "7  It's very high performances devise i am like t...  \n",
       "8  Best Quality Product OF iPhone Series , Sound ...  \n",
       "9  Upgraded from iphone 6 to 11 best phone for ip...  "
      ]
     },
     "execution_count": 867,
     "metadata": {},
     "output_type": "execute_result"
    }
   ],
   "source": [
    "# Creating Data Frame for Page 5\n",
    "\n",
    "page5 = pd.DataFrame({})\n",
    "page5[\"Rating\"]=page5_Rating\n",
    "page5[\"Review_summary\"]=page5_Review_summary\n",
    "page5[\"full_review\"]=page5_full_review\n",
    "page5"
   ]
  },
  {
   "cell_type": "code",
   "execution_count": 797,
   "id": "85bf7679",
   "metadata": {},
   "outputs": [],
   "source": [
    "# Clicking on Page 6\n",
    "\n",
    "\n",
    "next_button=driver.find_element(By.XPATH,\"/html/body/div[1]/div/div[3]/div/div/div[2]/div[13]/div/div/nav/a[12]/span\")\n",
    "next_button.click()"
   ]
  },
  {
   "cell_type": "code",
   "execution_count": 798,
   "id": "2611bafe",
   "metadata": {},
   "outputs": [
    {
     "data": {
      "text/plain": [
       "[<selenium.webdriver.remote.webelement.WebElement (session=\"7fc4dc6e3663c71330921038e2cfab93\", element=\"a1db66c0-35e1-4dd5-bae8-69cf15217e44\")>,\n",
       " <selenium.webdriver.remote.webelement.WebElement (session=\"7fc4dc6e3663c71330921038e2cfab93\", element=\"4b18ec4e-1b64-40fc-b534-c4aaae25cd1e\")>]"
      ]
     },
     "execution_count": 798,
     "metadata": {},
     "output_type": "execute_result"
    }
   ],
   "source": [
    "# Rating frrom Page 6\n",
    "\n",
    "Rating=driver.find_elements(By.XPATH,\"//div[@class='_3LWZlK _1BLPMq']\")\n",
    "Rating[0:2]"
   ]
  },
  {
   "cell_type": "code",
   "execution_count": 799,
   "id": "58b03dfc",
   "metadata": {},
   "outputs": [
    {
     "data": {
      "text/plain": [
       "['5', '5', '5', '5', '5', '4', '5', '5', '4']"
      ]
     },
     "execution_count": 799,
     "metadata": {},
     "output_type": "execute_result"
    }
   ],
   "source": [
    "page6_Rating=[]\n",
    "for i in Rating:\n",
    "    Rating=i.text\n",
    "    page6_Rating.append(Rating)\n",
    "    \n",
    "page6_Rating"
   ]
  },
  {
   "cell_type": "code",
   "execution_count": 800,
   "id": "30046264",
   "metadata": {},
   "outputs": [
    {
     "data": {
      "text/plain": [
       "['5', '5', '5', '5', '5', '4', '5', '5', '4', '1']"
      ]
     },
     "execution_count": 800,
     "metadata": {},
     "output_type": "execute_result"
    }
   ],
   "source": [
    "page6_Rating.insert(9,'1')\n",
    "page6_Rating"
   ]
  },
  {
   "cell_type": "code",
   "execution_count": 801,
   "id": "c1fc0e0e",
   "metadata": {},
   "outputs": [
    {
     "data": {
      "text/plain": [
       "[<selenium.webdriver.remote.webelement.WebElement (session=\"7fc4dc6e3663c71330921038e2cfab93\", element=\"1f193b6d-78c0-46de-9819-b35d4e5057c3\")>,\n",
       " <selenium.webdriver.remote.webelement.WebElement (session=\"7fc4dc6e3663c71330921038e2cfab93\", element=\"b7fb7bb5-4fd8-484c-b95b-0315fb03a923\")>]"
      ]
     },
     "execution_count": 801,
     "metadata": {},
     "output_type": "execute_result"
    }
   ],
   "source": [
    "# Getting the Review Summary from page 6\n",
    "\n",
    "Review_summary =driver.find_elements(By.XPATH,\"//p[@class='_2-N8zT']\")\n",
    "Review_summary[0:2]"
   ]
  },
  {
   "cell_type": "code",
   "execution_count": 802,
   "id": "90bf484f",
   "metadata": {},
   "outputs": [
    {
     "data": {
      "text/plain": [
       "['Excellent',\n",
       " 'Terrific purchase',\n",
       " 'Great product',\n",
       " 'Mind-blowing purchase',\n",
       " 'Terrific purchase',\n",
       " 'Very Good',\n",
       " 'Mind-blowing purchase',\n",
       " 'Simply awesome',\n",
       " 'Good quality product',\n",
       " 'Very poor']"
      ]
     },
     "execution_count": 802,
     "metadata": {},
     "output_type": "execute_result"
    }
   ],
   "source": [
    "page6_Review_summary=[]\n",
    "for i in Review_summary:\n",
    "    Review_summarys = i.text\n",
    "    page6_Review_summary.append(Review_summarys)\n",
    "page6_Review_summary"
   ]
  },
  {
   "cell_type": "code",
   "execution_count": 803,
   "id": "a07d3e0f",
   "metadata": {},
   "outputs": [
    {
     "data": {
      "text/plain": [
       "[<selenium.webdriver.remote.webelement.WebElement (session=\"7fc4dc6e3663c71330921038e2cfab93\", element=\"96251fe4-f1a1-4a68-a014-d91fd418a847\")>,\n",
       " <selenium.webdriver.remote.webelement.WebElement (session=\"7fc4dc6e3663c71330921038e2cfab93\", element=\"9db3bf4b-1322-4134-b115-559217390e35\")>]"
      ]
     },
     "execution_count": 803,
     "metadata": {},
     "output_type": "execute_result"
    }
   ],
   "source": [
    "# Getting the Full Review from Page 6\n",
    "\n",
    "full_review=driver.find_elements(By.XPATH,\"//div[@class='t-ZTKy']\")\n",
    "full_review[0:2]"
   ]
  },
  {
   "cell_type": "code",
   "execution_count": 804,
   "id": "b2533b1b",
   "metadata": {},
   "outputs": [
    {
     "data": {
      "text/plain": [
       "['Amazing camera and feel super machine I am not describe my feeling but this is amazing Phone I am so lucky I have this',\n",
       " 'The built quality is not very premium..The battery back is great ..The LCD panel is not so sharp but the brightness level is very High ..Camera is super duper awesome..The red colour which people think is bright is actually very soothing and excellent colour to choose from ..The A13 Bionic chip is really a flagship processor and can beat any phone which even has 12 gb ram ..Camera module is very great and looks very stylish.',\n",
       " 'Well you all know the specifications . One of a kind. Best iPhone till date. Many enhancements to the camera app with many options. Love the glass body with matte finish in the lens area on the back. Lovely colours to choose from. Best battery in an iPhone till date, enough to last more than a day in normal usage. I tested my iPhone 11 battery and lasted for than 24 hours after full charge still with 30% battery charge left. Watched movies for some time. Normal usage on calls, browsing, musi....READ MORE',\n",
       " 'First thanks to Flipkart for this amazing deal and phone is outstanding. I upgraded from iPhone 7 and this is like very big upgrade. But the packaging was very basic I expected a good packaging as they only wrapped one layer of bubble wrap which I don’t think is enough to protect this expensive phone. And I recommend this phone and seller as well...And I’m posting this review after using it for 4 days.',\n",
       " 'Its Very awesome product working and good camera quality and all about best product and also flipkart is very great deal and offer nice price',\n",
       " 'impressive super phone and best in class camera ,sound and face unlock is super fast just see and phone is unlock and fast in daily apps use',\n",
       " 'This will help you more. See if you are planning to buy iPhone 11. I will say. Yes. But there are some plans I just want to disclose before you buy. 1) If you are an existing iPhone X/XS/XS Max/ XR user, better you guys do not think it to buy. You guys have more or less better gadget. 2) If you are an android user and planning to buy premium phone. I will suggest them to please buy iPhone instead of buying an Android. I bet you will never go back to android after using IOS. Now I want to shar....READ MORE',\n",
       " 'Really good actually this is my first apple product am using its really awesome performance wise excellent. Am really happy with this iphone11',\n",
       " 'it is very good at performance. Camera is best like before and very smooth response even in water. Don’t buy 12 mini buy iPhone 11 , it is far better than 12 mini believe me ! Have a nice day \\uf8ff ☺️',\n",
       " 'Reviewing again after 5 months. At the beginning the battery and performance was good but it degraded soon. Also I was facing heating issues. The mobile will heat up like a stove sometimes. You cannot even play Pubg even in low settings properly, performance is not a problem but heating is. Also if you play that game for 10 mins the brightness will be automatically down due to over heating even when the auto brightness is set to off. This will not be solved even if u manually increase the bri....READ MORE']"
      ]
     },
     "execution_count": 804,
     "metadata": {},
     "output_type": "execute_result"
    }
   ],
   "source": [
    "page6_full_review=[]\n",
    "for i in full_review:\n",
    "    full_reviews = i.text.replace(\"\\n\",\".\")\n",
    "    page6_full_review.append(full_reviews)\n",
    "page6_full_review"
   ]
  },
  {
   "cell_type": "code",
   "execution_count": 805,
   "id": "9129f8aa",
   "metadata": {},
   "outputs": [
    {
     "name": "stdout",
     "output_type": "stream",
     "text": [
      "10 10 10\n"
     ]
    }
   ],
   "source": [
    "print(len(page6_Rating),len(page6_Review_summary),len(page6_full_review))"
   ]
  },
  {
   "cell_type": "code",
   "execution_count": 866,
   "id": "0b7951b2",
   "metadata": {},
   "outputs": [
    {
     "data": {
      "text/html": [
       "<div>\n",
       "<style scoped>\n",
       "    .dataframe tbody tr th:only-of-type {\n",
       "        vertical-align: middle;\n",
       "    }\n",
       "\n",
       "    .dataframe tbody tr th {\n",
       "        vertical-align: top;\n",
       "    }\n",
       "\n",
       "    .dataframe thead th {\n",
       "        text-align: right;\n",
       "    }\n",
       "</style>\n",
       "<table border=\"1\" class=\"dataframe\">\n",
       "  <thead>\n",
       "    <tr style=\"text-align: right;\">\n",
       "      <th></th>\n",
       "      <th>Rating</th>\n",
       "      <th>Review_summary</th>\n",
       "      <th>full_review</th>\n",
       "    </tr>\n",
       "  </thead>\n",
       "  <tbody>\n",
       "    <tr>\n",
       "      <th>0</th>\n",
       "      <td>5</td>\n",
       "      <td>Excellent</td>\n",
       "      <td>Amazing camera and feel super machine I am not...</td>\n",
       "    </tr>\n",
       "    <tr>\n",
       "      <th>1</th>\n",
       "      <td>5</td>\n",
       "      <td>Terrific purchase</td>\n",
       "      <td>The built quality is not very premium..The bat...</td>\n",
       "    </tr>\n",
       "    <tr>\n",
       "      <th>2</th>\n",
       "      <td>5</td>\n",
       "      <td>Great product</td>\n",
       "      <td>Well you all know the specifications . One of ...</td>\n",
       "    </tr>\n",
       "    <tr>\n",
       "      <th>3</th>\n",
       "      <td>5</td>\n",
       "      <td>Mind-blowing purchase</td>\n",
       "      <td>First thanks to Flipkart for this amazing deal...</td>\n",
       "    </tr>\n",
       "    <tr>\n",
       "      <th>4</th>\n",
       "      <td>5</td>\n",
       "      <td>Terrific purchase</td>\n",
       "      <td>Its Very awesome product working and good came...</td>\n",
       "    </tr>\n",
       "    <tr>\n",
       "      <th>5</th>\n",
       "      <td>4</td>\n",
       "      <td>Very Good</td>\n",
       "      <td>impressive super phone and best in class camer...</td>\n",
       "    </tr>\n",
       "    <tr>\n",
       "      <th>6</th>\n",
       "      <td>5</td>\n",
       "      <td>Mind-blowing purchase</td>\n",
       "      <td>This will help you more. See if you are planni...</td>\n",
       "    </tr>\n",
       "    <tr>\n",
       "      <th>7</th>\n",
       "      <td>5</td>\n",
       "      <td>Simply awesome</td>\n",
       "      <td>Really good actually this is my first apple pr...</td>\n",
       "    </tr>\n",
       "    <tr>\n",
       "      <th>8</th>\n",
       "      <td>4</td>\n",
       "      <td>Good quality product</td>\n",
       "      <td>it is very good at performance. Camera is best...</td>\n",
       "    </tr>\n",
       "    <tr>\n",
       "      <th>9</th>\n",
       "      <td>1</td>\n",
       "      <td>Very poor</td>\n",
       "      <td>Reviewing again after 5 months. At the beginni...</td>\n",
       "    </tr>\n",
       "  </tbody>\n",
       "</table>\n",
       "</div>"
      ],
      "text/plain": [
       "  Rating         Review_summary  \\\n",
       "0      5              Excellent   \n",
       "1      5      Terrific purchase   \n",
       "2      5          Great product   \n",
       "3      5  Mind-blowing purchase   \n",
       "4      5      Terrific purchase   \n",
       "5      4              Very Good   \n",
       "6      5  Mind-blowing purchase   \n",
       "7      5         Simply awesome   \n",
       "8      4   Good quality product   \n",
       "9      1              Very poor   \n",
       "\n",
       "                                         full_review  \n",
       "0  Amazing camera and feel super machine I am not...  \n",
       "1  The built quality is not very premium..The bat...  \n",
       "2  Well you all know the specifications . One of ...  \n",
       "3  First thanks to Flipkart for this amazing deal...  \n",
       "4  Its Very awesome product working and good came...  \n",
       "5  impressive super phone and best in class camer...  \n",
       "6  This will help you more. See if you are planni...  \n",
       "7  Really good actually this is my first apple pr...  \n",
       "8  it is very good at performance. Camera is best...  \n",
       "9  Reviewing again after 5 months. At the beginni...  "
      ]
     },
     "execution_count": 866,
     "metadata": {},
     "output_type": "execute_result"
    }
   ],
   "source": [
    "# Creating Data Frame for Page 6\n",
    "\n",
    "page6 = pd.DataFrame({})\n",
    "page6[\"Rating\"]=page6_Rating\n",
    "page6[\"Review_summary\"]=page6_Review_summary\n",
    "page6[\"full_review\"]=page6_full_review\n",
    "page6"
   ]
  },
  {
   "cell_type": "code",
   "execution_count": 807,
   "id": "27d37f79",
   "metadata": {},
   "outputs": [],
   "source": [
    "# Clicking on Page 7\n",
    "\n",
    "\n",
    "next_button=driver.find_element(By.XPATH,\"/html/body/div[1]/div/div[3]/div/div/div[2]/div[13]/div/div/nav/a[12]/span\")\n",
    "next_button.click()"
   ]
  },
  {
   "cell_type": "code",
   "execution_count": 808,
   "id": "080c18fa",
   "metadata": {},
   "outputs": [
    {
     "data": {
      "text/plain": [
       "[<selenium.webdriver.remote.webelement.WebElement (session=\"7fc4dc6e3663c71330921038e2cfab93\", element=\"d7e5a9fe-f04a-4ace-841f-2ca4614c3836\")>,\n",
       " <selenium.webdriver.remote.webelement.WebElement (session=\"7fc4dc6e3663c71330921038e2cfab93\", element=\"983e0e8f-8523-477b-b1bc-57ade91ef6aa\")>]"
      ]
     },
     "execution_count": 808,
     "metadata": {},
     "output_type": "execute_result"
    }
   ],
   "source": [
    "# Rating frrom Page 7\n",
    "\n",
    "Rating=driver.find_elements(By.XPATH,\"//div[@class='_3LWZlK _1BLPMq']\")\n",
    "Rating[0:2]"
   ]
  },
  {
   "cell_type": "code",
   "execution_count": 809,
   "id": "a073a895",
   "metadata": {},
   "outputs": [
    {
     "data": {
      "text/plain": [
       "[<selenium.webdriver.remote.webelement.WebElement (session=\"7fc4dc6e3663c71330921038e2cfab93\", element=\"d7e5a9fe-f04a-4ace-841f-2ca4614c3836\")>,\n",
       " <selenium.webdriver.remote.webelement.WebElement (session=\"7fc4dc6e3663c71330921038e2cfab93\", element=\"983e0e8f-8523-477b-b1bc-57ade91ef6aa\")>]"
      ]
     },
     "execution_count": 809,
     "metadata": {},
     "output_type": "execute_result"
    }
   ],
   "source": [
    "# Rating frrom Page 7\n",
    "\n",
    "Rating=driver.find_elements(By.XPATH,\"//div[@class='_3LWZlK _1BLPMq']\")\n",
    "Rating[0:2]"
   ]
  },
  {
   "cell_type": "code",
   "execution_count": 810,
   "id": "2789223d",
   "metadata": {},
   "outputs": [
    {
     "data": {
      "text/plain": [
       "['5', '5', '5', '5', '5', '5', '5', '5', '5']"
      ]
     },
     "execution_count": 810,
     "metadata": {},
     "output_type": "execute_result"
    }
   ],
   "source": [
    "page7_Rating=[]\n",
    "for i in Rating:\n",
    "    Rating=i.text\n",
    "    page7_Rating.append(Rating)\n",
    "    \n",
    "page7_Rating"
   ]
  },
  {
   "cell_type": "code",
   "execution_count": 811,
   "id": "5af4de7a",
   "metadata": {},
   "outputs": [
    {
     "data": {
      "text/plain": [
       "['5', '1', '5', '5', '5', '5', '5', '5', '5', '5']"
      ]
     },
     "execution_count": 811,
     "metadata": {},
     "output_type": "execute_result"
    }
   ],
   "source": [
    "page7_Rating.insert(1,'1')\n",
    "page7_Rating"
   ]
  },
  {
   "cell_type": "code",
   "execution_count": 812,
   "id": "c36fc237",
   "metadata": {},
   "outputs": [
    {
     "data": {
      "text/plain": [
       "[<selenium.webdriver.remote.webelement.WebElement (session=\"7fc4dc6e3663c71330921038e2cfab93\", element=\"de61d74e-5363-4342-8bea-8236aed44b33\")>,\n",
       " <selenium.webdriver.remote.webelement.WebElement (session=\"7fc4dc6e3663c71330921038e2cfab93\", element=\"fcc756cc-e2b9-484a-9490-92e526f34346\")>]"
      ]
     },
     "execution_count": 812,
     "metadata": {},
     "output_type": "execute_result"
    }
   ],
   "source": [
    "# Getting the Review Summary from page 7\n",
    "\n",
    "Review_summary =driver.find_elements(By.XPATH,\"//p[@class='_2-N8zT']\")\n",
    "Review_summary[0:2]"
   ]
  },
  {
   "cell_type": "code",
   "execution_count": 813,
   "id": "3dd29bb6",
   "metadata": {},
   "outputs": [
    {
     "data": {
      "text/plain": [
       "['Perfect product!',\n",
       " 'Worthless',\n",
       " 'Fabulous!',\n",
       " 'Wonderful',\n",
       " 'Must buy!',\n",
       " 'Great product',\n",
       " 'Just wow!',\n",
       " 'Wonderful',\n",
       " 'Wonderful',\n",
       " 'Simply awesome']"
      ]
     },
     "execution_count": 813,
     "metadata": {},
     "output_type": "execute_result"
    }
   ],
   "source": [
    "page7_Review_summary=[]\n",
    "for i in Review_summary:\n",
    "    Review_summarys = i.text\n",
    "    page7_Review_summary.append(Review_summarys)\n",
    "page7_Review_summary"
   ]
  },
  {
   "cell_type": "code",
   "execution_count": 814,
   "id": "57272b31",
   "metadata": {},
   "outputs": [
    {
     "data": {
      "text/plain": [
       "[<selenium.webdriver.remote.webelement.WebElement (session=\"7fc4dc6e3663c71330921038e2cfab93\", element=\"0aa0c069-63bb-4b29-9c12-047698dbad63\")>,\n",
       " <selenium.webdriver.remote.webelement.WebElement (session=\"7fc4dc6e3663c71330921038e2cfab93\", element=\"d41cc16b-d7ff-46a0-925a-a53a0c439bed\")>]"
      ]
     },
     "execution_count": 814,
     "metadata": {},
     "output_type": "execute_result"
    }
   ],
   "source": [
    "# Getting the Full Review from Page 7\n",
    "\n",
    "full_review=driver.find_elements(By.XPATH,\"//div[@class='t-ZTKy']\")\n",
    "full_review[0:2]"
   ]
  },
  {
   "cell_type": "code",
   "execution_count": 815,
   "id": "24b96d29",
   "metadata": {},
   "outputs": [
    {
     "data": {
      "text/plain": [
       "['In love with this iphone great performance,camera ,battery everything. Go for it have a uncompareble battery backup, no doubts in iPhone camera here You can see the picture which is shot on my iPhone In love with this iphone great performance,camera ,battery everything. Go for it have a uncompareble battery backup, no doubts in iPhone camera here You can see the picture which is shot on my iPhone In love with this iphone great performance,camera ,battery everything. Go for it have a uncompare....READ MORE',\n",
       " \"Phone is awesome no doubt. But Camera & Display is not great. Performance is mind blowing..But the phone is heating too much when charging or when you regularly used. It's experience after using 1 week. It's heating extrem when I play PUBG for 30 minutes..Go for iPhone 11 pro or 12. Otherwise go for Android phone you will get much better phone in less price.\",\n",
       " 'Everything is perfect pictures come out so clearly and at first I wasn’t sure when I got it then when I started to use it and get the hang of it it was amazing!! I can’t wait to see what the next future phones will be like. The screen display on this bad boy are unbelievable they are so clear and never fail me. The performance is super cool there is a lot of cool features as well I like this phone because I feel that it is easy to use and one of my favorite things about this phone is the Face....READ MORE',\n",
       " 'Superfast delivery by Flipkart. Thanks...1. iPhone 11 is a pretty solid phone for the money you are paying..2. All the bad reviews about the display is confusing. It’s not that bad..3. I switched from a Oneplus 7t. I have no complaints about the display quality of iPhone. Yes, it’s not OLED, so, we are missing on the deep blacks. But that’s it. It is a very colour accurate display. Gets adequately bright and I could not find any pixelation..4. Performance is one of the best, if not best, in ....READ MORE',\n",
       " 'I rate this product 5* as it has got amazing user experience with the best performing A13 bionic processor. The screen responds and graphics rendering is top notch. With casual gaming and internet browsing, the battery lasts for approx. 1 day. Camera is very good. You will fall in love with the portrait mode. You can call me a loyal Apple customer or whatever but I won’t stop praising the products and overall experience. That user experience matters and is worth every penny you pay...Below ar....READ MORE',\n",
       " \"I was using android phone earlier..I was thinking apple phones are much more costy than other phones with less specifications..so why to waste money in this??..But trust me guys once if you start using ios then you won't go back to android...beleive me this phone is the best than all other...There is no other phone which can beat iphones in terms of camera..iphones gives the best real image..its very faster and smoother than android phones...if you think to switch to ios iphone 11 is the best....READ MORE\",\n",
       " 'The ultimate performance.Camera is superb.The battery backup also very good i never saw iphone gives this much of battery backup.If any one wana buy iphone 11 definitely i will recommend this mobile.It has the better battery and powerfull processer peak performance glorious camera and the display also 100% high quality lcd display if u had money for for 12 if u dont wana invest much money on that then go for iphone 11 it has maximum same specs only main difference between the 12 and 11 is....READ MORE',\n",
       " 'Super and marvellous phone look very cute and nice sound. I love this phone i think white is good colur.Excellent camer 5*😍😘♥️♥️',\n",
       " 'Nice value for money good and best price I phone mind blowing camera processor very fast other android mobile I am happy India top selling phone 2020',\n",
       " 'Just awesome phone, everything works in such a smooth and refined way !!!.Camera - next level.Display - next level.Performance - monster.Battery - next level.Everything works at the best level with A13 Bionic Chip.Value for money iphone.You should go for this just killer performance 🔥🔥']"
      ]
     },
     "execution_count": 815,
     "metadata": {},
     "output_type": "execute_result"
    }
   ],
   "source": [
    "page7_full_review=[]\n",
    "for i in full_review:\n",
    "    full_reviews = i.text.replace(\"\\n\",\".\")\n",
    "    page7_full_review.append(full_reviews)\n",
    "page7_full_review"
   ]
  },
  {
   "cell_type": "code",
   "execution_count": 816,
   "id": "c6fc6a31",
   "metadata": {},
   "outputs": [
    {
     "name": "stdout",
     "output_type": "stream",
     "text": [
      "10 10 10\n"
     ]
    }
   ],
   "source": [
    "print(len(page7_Rating),len(page7_Review_summary),len(page7_full_review))"
   ]
  },
  {
   "cell_type": "code",
   "execution_count": 865,
   "id": "55915a88",
   "metadata": {},
   "outputs": [
    {
     "data": {
      "text/html": [
       "<div>\n",
       "<style scoped>\n",
       "    .dataframe tbody tr th:only-of-type {\n",
       "        vertical-align: middle;\n",
       "    }\n",
       "\n",
       "    .dataframe tbody tr th {\n",
       "        vertical-align: top;\n",
       "    }\n",
       "\n",
       "    .dataframe thead th {\n",
       "        text-align: right;\n",
       "    }\n",
       "</style>\n",
       "<table border=\"1\" class=\"dataframe\">\n",
       "  <thead>\n",
       "    <tr style=\"text-align: right;\">\n",
       "      <th></th>\n",
       "      <th>Rating</th>\n",
       "      <th>Review_summary</th>\n",
       "      <th>full_review</th>\n",
       "    </tr>\n",
       "  </thead>\n",
       "  <tbody>\n",
       "    <tr>\n",
       "      <th>0</th>\n",
       "      <td>5</td>\n",
       "      <td>Perfect product!</td>\n",
       "      <td>In love with this iphone great performance,cam...</td>\n",
       "    </tr>\n",
       "    <tr>\n",
       "      <th>1</th>\n",
       "      <td>1</td>\n",
       "      <td>Worthless</td>\n",
       "      <td>Phone is awesome no doubt. But Camera &amp; Displa...</td>\n",
       "    </tr>\n",
       "    <tr>\n",
       "      <th>2</th>\n",
       "      <td>5</td>\n",
       "      <td>Fabulous!</td>\n",
       "      <td>Everything is perfect pictures come out so cle...</td>\n",
       "    </tr>\n",
       "    <tr>\n",
       "      <th>3</th>\n",
       "      <td>5</td>\n",
       "      <td>Wonderful</td>\n",
       "      <td>Superfast delivery by Flipkart. Thanks...1. iP...</td>\n",
       "    </tr>\n",
       "    <tr>\n",
       "      <th>4</th>\n",
       "      <td>5</td>\n",
       "      <td>Must buy!</td>\n",
       "      <td>I rate this product 5* as it has got amazing u...</td>\n",
       "    </tr>\n",
       "    <tr>\n",
       "      <th>5</th>\n",
       "      <td>5</td>\n",
       "      <td>Great product</td>\n",
       "      <td>I was using android phone earlier..I was think...</td>\n",
       "    </tr>\n",
       "    <tr>\n",
       "      <th>6</th>\n",
       "      <td>5</td>\n",
       "      <td>Just wow!</td>\n",
       "      <td>The ultimate performance.Camera is superb.The ...</td>\n",
       "    </tr>\n",
       "    <tr>\n",
       "      <th>7</th>\n",
       "      <td>5</td>\n",
       "      <td>Wonderful</td>\n",
       "      <td>Super and marvellous phone look very cute and ...</td>\n",
       "    </tr>\n",
       "    <tr>\n",
       "      <th>8</th>\n",
       "      <td>5</td>\n",
       "      <td>Wonderful</td>\n",
       "      <td>Nice value for money good and best price I pho...</td>\n",
       "    </tr>\n",
       "    <tr>\n",
       "      <th>9</th>\n",
       "      <td>5</td>\n",
       "      <td>Simply awesome</td>\n",
       "      <td>Just awesome phone, everything works in such a...</td>\n",
       "    </tr>\n",
       "  </tbody>\n",
       "</table>\n",
       "</div>"
      ],
      "text/plain": [
       "  Rating    Review_summary                                        full_review\n",
       "0      5  Perfect product!  In love with this iphone great performance,cam...\n",
       "1      1         Worthless  Phone is awesome no doubt. But Camera & Displa...\n",
       "2      5         Fabulous!  Everything is perfect pictures come out so cle...\n",
       "3      5         Wonderful  Superfast delivery by Flipkart. Thanks...1. iP...\n",
       "4      5         Must buy!  I rate this product 5* as it has got amazing u...\n",
       "5      5     Great product  I was using android phone earlier..I was think...\n",
       "6      5         Just wow!  The ultimate performance.Camera is superb.The ...\n",
       "7      5         Wonderful  Super and marvellous phone look very cute and ...\n",
       "8      5         Wonderful  Nice value for money good and best price I pho...\n",
       "9      5    Simply awesome  Just awesome phone, everything works in such a..."
      ]
     },
     "execution_count": 865,
     "metadata": {},
     "output_type": "execute_result"
    }
   ],
   "source": [
    "# Creating Data Frame for Page 7\n",
    "\n",
    "page7 = pd.DataFrame({})\n",
    "page7[\"Rating\"]=page7_Rating\n",
    "page7[\"Review_summary\"]=page7_Review_summary\n",
    "page7[\"full_review\"]=page7_full_review\n",
    "page7"
   ]
  },
  {
   "cell_type": "code",
   "execution_count": 818,
   "id": "2977db60",
   "metadata": {},
   "outputs": [],
   "source": [
    "# Clicking on Page 8\n",
    "\n",
    "\n",
    "next_button=driver.find_element(By.XPATH,\"/html/body/div[1]/div/div[3]/div/div/div[2]/div[13]/div/div/nav/a[12]/span\")\n",
    "next_button.click()"
   ]
  },
  {
   "cell_type": "code",
   "execution_count": 819,
   "id": "6b23e7bd",
   "metadata": {},
   "outputs": [
    {
     "data": {
      "text/plain": [
       "[<selenium.webdriver.remote.webelement.WebElement (session=\"7fc4dc6e3663c71330921038e2cfab93\", element=\"63a2c484-8e68-44da-a0db-a9a27bcaacc9\")>,\n",
       " <selenium.webdriver.remote.webelement.WebElement (session=\"7fc4dc6e3663c71330921038e2cfab93\", element=\"9956ab00-8cc7-4895-9de9-9fdf2741d8e6\")>]"
      ]
     },
     "execution_count": 819,
     "metadata": {},
     "output_type": "execute_result"
    }
   ],
   "source": [
    "# Rating frrom Page 8\n",
    "\n",
    "Rating=driver.find_elements(By.XPATH,\"//div[@class='_3LWZlK _1BLPMq']\")\n",
    "Rating[0:2]"
   ]
  },
  {
   "cell_type": "code",
   "execution_count": 820,
   "id": "9e993301",
   "metadata": {},
   "outputs": [
    {
     "data": {
      "text/plain": [
       "['5', '5', '5', '5', '5', '5', '5', '5', '5', '5']"
      ]
     },
     "execution_count": 820,
     "metadata": {},
     "output_type": "execute_result"
    }
   ],
   "source": [
    "page8_Rating=[]\n",
    "for i in Rating:\n",
    "    Rating=i.text\n",
    "    page8_Rating.append(Rating)\n",
    "    \n",
    "page8_Rating"
   ]
  },
  {
   "cell_type": "code",
   "execution_count": 821,
   "id": "06ff1a03",
   "metadata": {},
   "outputs": [
    {
     "data": {
      "text/plain": [
       "[<selenium.webdriver.remote.webelement.WebElement (session=\"7fc4dc6e3663c71330921038e2cfab93\", element=\"c55d5ab2-579a-478c-bdbe-e31145a00613\")>,\n",
       " <selenium.webdriver.remote.webelement.WebElement (session=\"7fc4dc6e3663c71330921038e2cfab93\", element=\"dc1aa58f-8f7e-4ee9-8911-549939c97cb3\")>]"
      ]
     },
     "execution_count": 821,
     "metadata": {},
     "output_type": "execute_result"
    }
   ],
   "source": [
    "# Getting the Review Summary from page 8\n",
    "\n",
    "Review_summary =driver.find_elements(By.XPATH,\"//p[@class='_2-N8zT']\")\n",
    "Review_summary[0:2]"
   ]
  },
  {
   "cell_type": "code",
   "execution_count": 822,
   "id": "815f06da",
   "metadata": {},
   "outputs": [
    {
     "data": {
      "text/plain": [
       "['Excellent',\n",
       " 'Best in the market!',\n",
       " 'Worth every penny',\n",
       " 'Worth every penny',\n",
       " 'Worth every penny',\n",
       " 'Awesome',\n",
       " 'Excellent',\n",
       " 'Mind-blowing purchase',\n",
       " 'Excellent',\n",
       " 'Brilliant']"
      ]
     },
     "execution_count": 822,
     "metadata": {},
     "output_type": "execute_result"
    }
   ],
   "source": [
    "page8_Review_summary=[]\n",
    "for i in Review_summary:\n",
    "    Review_summarys = i.text\n",
    "    page8_Review_summary.append(Review_summarys)\n",
    "page8_Review_summary"
   ]
  },
  {
   "cell_type": "code",
   "execution_count": 823,
   "id": "a270a7de",
   "metadata": {},
   "outputs": [
    {
     "data": {
      "text/plain": [
       "[<selenium.webdriver.remote.webelement.WebElement (session=\"7fc4dc6e3663c71330921038e2cfab93\", element=\"6a62c503-622f-4ad9-b923-4db0163d3949\")>,\n",
       " <selenium.webdriver.remote.webelement.WebElement (session=\"7fc4dc6e3663c71330921038e2cfab93\", element=\"e251264d-4f73-4588-add9-f8bc18da126d\")>]"
      ]
     },
     "execution_count": 823,
     "metadata": {},
     "output_type": "execute_result"
    }
   ],
   "source": [
    "# Getting the Full Review from Page 8\n",
    "\n",
    "full_review=driver.find_elements(By.XPATH,\"//div[@class='t-ZTKy']\")\n",
    "full_review[0:2]"
   ]
  },
  {
   "cell_type": "code",
   "execution_count": 824,
   "id": "f2ffdb79",
   "metadata": {},
   "outputs": [
    {
     "data": {
      "text/plain": [
       "['Seller - SuperComNet ( my trust in you has grown deeper. Thanks for the genuine product ).The package came packed perfectly. The box was sealed which gave me a big relief...Apple needs no introduction since its the dominant market player. I just love the way how IPhone 11 stands out so boldly. The moment I took it out from the box, I could feel the premium intensity. The body is remarkable and crafted for giving you a elite vibe...Camera is to die for. There is no other phone that can beat....READ MORE',\n",
       " 'Don’t expect much from front camera… especially who loves beauty mode and filters.. back cameras are good…video department is always plus point in iPhones… battery capacity is really surprising lasts for one day at least… performance always good and smooth… speaker’s quality is good…built quality best and haptic feedback is enjoyable….Note : images are good after you edit',\n",
       " 'iPhone is delivered on time. Display is great u won’t feel that it’s a hd panel. Quality is excellent. Sounds is great it has stereo setup. Camera is good. iOS 14.2 comes in the box. U roughly get 113 gb free if u buy 128 gb. This is my second iPhone and i love it. Value for money.',\n",
       " 'Here is the thing..The only reason why you should buy this phone is for the camera, iOS, and if you have headaches looking at AMOLED display...I’m not an avid gamer but watch a lot of movies on smartphone. However, my migraine attacks increased considerably after using AMOLED Smartphone. That’s why I made a calculated decision to buy iPhone 11. It has the best LCD display and the blacks, though not as natural as an AMOLED, is better than some of the other smartphones...Adding to this the ste....READ MORE',\n",
       " \"It is better to buy iPhone 11 over iPhone 12 if you prioritize the camera,Its because the difference isn’t significantly huge except lowlight performance and Go for 128 GB variant rather than 64 GB because the system data alone contains 20 GB of data ..Even though it's 720p LCD display but it's better than todays Android's 1080p display. My phone was a 64GB mint green model and this one is really pretty especially in the real life. I can still get almost everything out of what i paid for at a....READ MORE\",\n",
       " 'Very excited to have this phone. This phone has the real power unlike the android phones having SD 855 . The battery life is very good and the camera quality is excellent as comapred to redmi and other phones except google pixel. I M enjoying every single bit of it. Would recommed only if you have the budget.',\n",
       " 'A perfect phone and a good battery super camera and the sound is dynamic overall the phone is perfect for upgrading from lower iPhone model to iPhone 11',\n",
       " 'Excellent camera 📸 And Display touching very Nice And Smooth and very improvement against.I phone 11 and new processor is very fast',\n",
       " '🤩🤩🤩🤩🤩🤩I loved the Phone.. Every time I pick up the phone it makes me happy... The phone is beast💪💪 and the camera is fabulous 🥰🥰🥰.. I think one of my great purchase from Flipkart.. Thank you Filpkart..',\n",
       " 'Excellent camera and display touching very nice and smooth very improvement against iPhone XR and new processor is very fast']"
      ]
     },
     "execution_count": 824,
     "metadata": {},
     "output_type": "execute_result"
    }
   ],
   "source": [
    "page8_full_review=[]\n",
    "for i in full_review:\n",
    "    full_reviews = i.text.replace(\"\\n\",\".\")\n",
    "    page8_full_review.append(full_reviews)\n",
    "page8_full_review"
   ]
  },
  {
   "cell_type": "code",
   "execution_count": 825,
   "id": "c1034517",
   "metadata": {},
   "outputs": [
    {
     "name": "stdout",
     "output_type": "stream",
     "text": [
      "10 10 10\n"
     ]
    }
   ],
   "source": [
    "print(len(page8_Rating),len(page8_Review_summary),len(page8_full_review))"
   ]
  },
  {
   "cell_type": "code",
   "execution_count": 864,
   "id": "caa4dc2e",
   "metadata": {},
   "outputs": [
    {
     "data": {
      "text/html": [
       "<div>\n",
       "<style scoped>\n",
       "    .dataframe tbody tr th:only-of-type {\n",
       "        vertical-align: middle;\n",
       "    }\n",
       "\n",
       "    .dataframe tbody tr th {\n",
       "        vertical-align: top;\n",
       "    }\n",
       "\n",
       "    .dataframe thead th {\n",
       "        text-align: right;\n",
       "    }\n",
       "</style>\n",
       "<table border=\"1\" class=\"dataframe\">\n",
       "  <thead>\n",
       "    <tr style=\"text-align: right;\">\n",
       "      <th></th>\n",
       "      <th>Rating</th>\n",
       "      <th>Review_summary</th>\n",
       "      <th>full_review</th>\n",
       "    </tr>\n",
       "  </thead>\n",
       "  <tbody>\n",
       "    <tr>\n",
       "      <th>0</th>\n",
       "      <td>5</td>\n",
       "      <td>Excellent</td>\n",
       "      <td>Seller - SuperComNet ( my trust in you has gro...</td>\n",
       "    </tr>\n",
       "    <tr>\n",
       "      <th>1</th>\n",
       "      <td>5</td>\n",
       "      <td>Best in the market!</td>\n",
       "      <td>Don’t expect much from front camera… especiall...</td>\n",
       "    </tr>\n",
       "    <tr>\n",
       "      <th>2</th>\n",
       "      <td>5</td>\n",
       "      <td>Worth every penny</td>\n",
       "      <td>iPhone is delivered on time. Display is great ...</td>\n",
       "    </tr>\n",
       "    <tr>\n",
       "      <th>3</th>\n",
       "      <td>5</td>\n",
       "      <td>Worth every penny</td>\n",
       "      <td>Here is the thing..The only reason why you sho...</td>\n",
       "    </tr>\n",
       "    <tr>\n",
       "      <th>4</th>\n",
       "      <td>5</td>\n",
       "      <td>Worth every penny</td>\n",
       "      <td>It is better to buy iPhone 11 over iPhone 12 i...</td>\n",
       "    </tr>\n",
       "    <tr>\n",
       "      <th>5</th>\n",
       "      <td>5</td>\n",
       "      <td>Awesome</td>\n",
       "      <td>Very excited to have this phone. This phone ha...</td>\n",
       "    </tr>\n",
       "    <tr>\n",
       "      <th>6</th>\n",
       "      <td>5</td>\n",
       "      <td>Excellent</td>\n",
       "      <td>A perfect phone and a good battery super camer...</td>\n",
       "    </tr>\n",
       "    <tr>\n",
       "      <th>7</th>\n",
       "      <td>5</td>\n",
       "      <td>Mind-blowing purchase</td>\n",
       "      <td>Excellent camera 📸 And Display touching very N...</td>\n",
       "    </tr>\n",
       "    <tr>\n",
       "      <th>8</th>\n",
       "      <td>5</td>\n",
       "      <td>Excellent</td>\n",
       "      <td>🤩🤩🤩🤩🤩🤩I loved the Phone.. Every time I pick up...</td>\n",
       "    </tr>\n",
       "    <tr>\n",
       "      <th>9</th>\n",
       "      <td>5</td>\n",
       "      <td>Brilliant</td>\n",
       "      <td>Excellent camera and display touching very nic...</td>\n",
       "    </tr>\n",
       "  </tbody>\n",
       "</table>\n",
       "</div>"
      ],
      "text/plain": [
       "  Rating         Review_summary  \\\n",
       "0      5              Excellent   \n",
       "1      5    Best in the market!   \n",
       "2      5      Worth every penny   \n",
       "3      5      Worth every penny   \n",
       "4      5      Worth every penny   \n",
       "5      5                Awesome   \n",
       "6      5              Excellent   \n",
       "7      5  Mind-blowing purchase   \n",
       "8      5              Excellent   \n",
       "9      5              Brilliant   \n",
       "\n",
       "                                         full_review  \n",
       "0  Seller - SuperComNet ( my trust in you has gro...  \n",
       "1  Don’t expect much from front camera… especiall...  \n",
       "2  iPhone is delivered on time. Display is great ...  \n",
       "3  Here is the thing..The only reason why you sho...  \n",
       "4  It is better to buy iPhone 11 over iPhone 12 i...  \n",
       "5  Very excited to have this phone. This phone ha...  \n",
       "6  A perfect phone and a good battery super camer...  \n",
       "7  Excellent camera 📸 And Display touching very N...  \n",
       "8  🤩🤩🤩🤩🤩🤩I loved the Phone.. Every time I pick up...  \n",
       "9  Excellent camera and display touching very nic...  "
      ]
     },
     "execution_count": 864,
     "metadata": {},
     "output_type": "execute_result"
    }
   ],
   "source": [
    "# Creating Data Frame for Page 8\n",
    "\n",
    "page8 = pd.DataFrame({})\n",
    "page8[\"Rating\"]=page8_Rating\n",
    "page8[\"Review_summary\"]=page8_Review_summary\n",
    "page8[\"full_review\"]=page8_full_review\n",
    "page8"
   ]
  },
  {
   "cell_type": "code",
   "execution_count": 827,
   "id": "7e1a2629",
   "metadata": {},
   "outputs": [],
   "source": [
    "# Clicking on Page 9\n",
    "\n",
    "\n",
    "next_button=driver.find_element(By.XPATH,\"/html/body/div[1]/div/div[3]/div/div/div[2]/div[13]/div/div/nav/a[12]/span\")\n",
    "next_button.click()"
   ]
  },
  {
   "cell_type": "code",
   "execution_count": 828,
   "id": "308e756b",
   "metadata": {},
   "outputs": [
    {
     "data": {
      "text/plain": [
       "[<selenium.webdriver.remote.webelement.WebElement (session=\"7fc4dc6e3663c71330921038e2cfab93\", element=\"8130f605-20d2-47e4-ad7a-78b5200be8ab\")>,\n",
       " <selenium.webdriver.remote.webelement.WebElement (session=\"7fc4dc6e3663c71330921038e2cfab93\", element=\"421414fa-11c8-4cd0-9e6f-36c947126fd9\")>]"
      ]
     },
     "execution_count": 828,
     "metadata": {},
     "output_type": "execute_result"
    }
   ],
   "source": [
    "# Rating frrom Page 9\n",
    "\n",
    "Rating=driver.find_elements(By.XPATH,\"//div[@class='_3LWZlK _1BLPMq']\")\n",
    "Rating[0:2]"
   ]
  },
  {
   "cell_type": "code",
   "execution_count": 829,
   "id": "6cb7747c",
   "metadata": {},
   "outputs": [
    {
     "data": {
      "text/plain": [
       "['5', '5', '5', '5', '5', '5', '3', '5', '5', '5']"
      ]
     },
     "execution_count": 829,
     "metadata": {},
     "output_type": "execute_result"
    }
   ],
   "source": [
    "page9_Rating=[]\n",
    "for i in Rating:\n",
    "    Rating=i.text\n",
    "    page9_Rating.append(Rating)\n",
    "    \n",
    "page9_Rating"
   ]
  },
  {
   "cell_type": "code",
   "execution_count": 830,
   "id": "49d45aa2",
   "metadata": {},
   "outputs": [
    {
     "data": {
      "text/plain": [
       "[<selenium.webdriver.remote.webelement.WebElement (session=\"7fc4dc6e3663c71330921038e2cfab93\", element=\"1e0fba2f-25d4-4ded-9066-94d822634720\")>,\n",
       " <selenium.webdriver.remote.webelement.WebElement (session=\"7fc4dc6e3663c71330921038e2cfab93\", element=\"9b129845-0d18-4bbb-8e65-e0e538c61db5\")>]"
      ]
     },
     "execution_count": 830,
     "metadata": {},
     "output_type": "execute_result"
    }
   ],
   "source": [
    "# Getting the Review Summary from page 9\n",
    "\n",
    "Review_summary =driver.find_elements(By.XPATH,\"//p[@class='_2-N8zT']\")\n",
    "Review_summary[0:2]"
   ]
  },
  {
   "cell_type": "code",
   "execution_count": 831,
   "id": "32009f6d",
   "metadata": {},
   "outputs": [
    {
     "data": {
      "text/plain": [
       "['Terrific',\n",
       " 'Fabulous!',\n",
       " 'Fabulous!',\n",
       " 'Perfect product!',\n",
       " 'Classy product',\n",
       " 'Awesome',\n",
       " 'Does the job',\n",
       " 'Super!',\n",
       " 'Brilliant',\n",
       " 'Must buy!']"
      ]
     },
     "execution_count": 831,
     "metadata": {},
     "output_type": "execute_result"
    }
   ],
   "source": [
    "page9_Review_summary=[]\n",
    "for i in Review_summary:\n",
    "    Review_summarys = i.text\n",
    "    page9_Review_summary.append(Review_summarys)\n",
    "page9_Review_summary"
   ]
  },
  {
   "cell_type": "code",
   "execution_count": 832,
   "id": "5e36295c",
   "metadata": {},
   "outputs": [
    {
     "data": {
      "text/plain": [
       "[<selenium.webdriver.remote.webelement.WebElement (session=\"7fc4dc6e3663c71330921038e2cfab93\", element=\"a4e19630-0d2d-4ad1-8b6c-8582680672d0\")>,\n",
       " <selenium.webdriver.remote.webelement.WebElement (session=\"7fc4dc6e3663c71330921038e2cfab93\", element=\"197b20e7-ae51-43e5-b7cf-1cd157eb6121\")>]"
      ]
     },
     "execution_count": 832,
     "metadata": {},
     "output_type": "execute_result"
    }
   ],
   "source": [
    "# Getting the Full Review from Page 9\n",
    "\n",
    "full_review=driver.find_elements(By.XPATH,\"//div[@class='t-ZTKy']\")\n",
    "full_review[0:2]"
   ]
  },
  {
   "cell_type": "code",
   "execution_count": 833,
   "id": "eb12f513",
   "metadata": {},
   "outputs": [
    {
     "data": {
      "text/plain": [
       "[\"I got this beast today. And I must say the picture quality of its camera is awesome. Both the cameras works fine...As for as the processing is concerned, it runs without any lag. You can play and do whatever you want without a glitch...The battery runs for a day with medium and high workload...The display is good and the speakers are working fine...The earphones doesn't have any base and you can use it for calling mostly...The charging time is approximately for 90 minutes for full charging....READ MORE\",\n",
       " 'Best phone in this price segment people say that it is a IPS display but don’t judge a book with the specs sheet only I have not seen any LCD Display like this in any smartphone industry leading IPS display . Everything is awesome in this phone but sometime but apple should have been giving OLED in this price segment',\n",
       " 'Gift this to your loved ones fabulous product and amazing super fast delivery by flipkart',\n",
       " 'Awesome purchase. Amazing phone with good battery backup. It’s a top notch device. White colour looks amazing. Phone has a few extra feature than iPhone XR. Overall, this is value for money',\n",
       " 'Gifted my man on his 30th birthday 🎂 He loves it.. Him happy so i am more than happy 😍😘❤️🥰',\n",
       " 'Always love the apple products, upgraded from old iPhone 6S plus to this after having my first baby. I just love to click baby’s photos with it. Overall I just love this phone. Battery back up is okay, sound quality is good. Haven’t tested yet waterproof yet. Only one thing I hate is apple could have given charger & headphones in box.',\n",
       " \"phone is good but in display is 720p lcd in this price range we can get full hd OLED displays with higher refresh rate processor is very good camera is nice but looks kind of oldish in front of todays phone also there's no charging in box had to buy it seperately\",\n",
       " 'This is my first ever iPhone..And I truly don’t regret switching to IOS from my Android...It is easily an alternative to a DSLR camera..If you’re obsessed with photos and videos, just don’t think twice or don’t compare to other androids(Samsung S10 lite or OnePlus 8/8T), as it’s far better from them in every field..Comparing will only make you confused...I am getting an average Screen on Time of around 10 hours with 30 percent left. I haven’t let my device discharged below 30 % as it aff....READ MORE',\n",
       " 'A wort full value for money decision it’s . Simply go for it in 2021 its still a good decision . Awesome camera , Super smothered performance, Heck of build quality. And Most important it protects your privacy.',\n",
       " 'Dear friends... I want to share my experience with you about this amazing I phone 11....this is my first iPhone and special things about this mobile is it has great camera, battery backup and awesome display.... I mean everything is perfect.loved it 👍👍👍']"
      ]
     },
     "execution_count": 833,
     "metadata": {},
     "output_type": "execute_result"
    }
   ],
   "source": [
    "page9_full_review=[]\n",
    "for i in full_review:\n",
    "    full_reviews = i.text.replace(\"\\n\",\".\")\n",
    "    page9_full_review.append(full_reviews)\n",
    "page9_full_review"
   ]
  },
  {
   "cell_type": "code",
   "execution_count": 834,
   "id": "3264bc00",
   "metadata": {},
   "outputs": [
    {
     "name": "stdout",
     "output_type": "stream",
     "text": [
      "10 10 10\n"
     ]
    }
   ],
   "source": [
    "print(len(page9_Rating),len(page9_Review_summary),len(page9_full_review))"
   ]
  },
  {
   "cell_type": "code",
   "execution_count": 863,
   "id": "6f3ea43c",
   "metadata": {},
   "outputs": [
    {
     "data": {
      "text/html": [
       "<div>\n",
       "<style scoped>\n",
       "    .dataframe tbody tr th:only-of-type {\n",
       "        vertical-align: middle;\n",
       "    }\n",
       "\n",
       "    .dataframe tbody tr th {\n",
       "        vertical-align: top;\n",
       "    }\n",
       "\n",
       "    .dataframe thead th {\n",
       "        text-align: right;\n",
       "    }\n",
       "</style>\n",
       "<table border=\"1\" class=\"dataframe\">\n",
       "  <thead>\n",
       "    <tr style=\"text-align: right;\">\n",
       "      <th></th>\n",
       "      <th>Rating</th>\n",
       "      <th>Review_summary</th>\n",
       "      <th>full_review</th>\n",
       "    </tr>\n",
       "  </thead>\n",
       "  <tbody>\n",
       "    <tr>\n",
       "      <th>0</th>\n",
       "      <td>5</td>\n",
       "      <td>Terrific</td>\n",
       "      <td>I got this beast today. And I must say the pic...</td>\n",
       "    </tr>\n",
       "    <tr>\n",
       "      <th>1</th>\n",
       "      <td>5</td>\n",
       "      <td>Fabulous!</td>\n",
       "      <td>Best phone in this price segment people say th...</td>\n",
       "    </tr>\n",
       "    <tr>\n",
       "      <th>2</th>\n",
       "      <td>5</td>\n",
       "      <td>Fabulous!</td>\n",
       "      <td>Gift this to your loved ones fabulous product ...</td>\n",
       "    </tr>\n",
       "    <tr>\n",
       "      <th>3</th>\n",
       "      <td>5</td>\n",
       "      <td>Perfect product!</td>\n",
       "      <td>Awesome purchase. Amazing phone with good batt...</td>\n",
       "    </tr>\n",
       "    <tr>\n",
       "      <th>4</th>\n",
       "      <td>5</td>\n",
       "      <td>Classy product</td>\n",
       "      <td>Gifted my man on his 30th birthday 🎂 He loves ...</td>\n",
       "    </tr>\n",
       "    <tr>\n",
       "      <th>5</th>\n",
       "      <td>5</td>\n",
       "      <td>Awesome</td>\n",
       "      <td>Always love the apple products, upgraded from ...</td>\n",
       "    </tr>\n",
       "    <tr>\n",
       "      <th>6</th>\n",
       "      <td>3</td>\n",
       "      <td>Does the job</td>\n",
       "      <td>phone is good but in display is 720p lcd in th...</td>\n",
       "    </tr>\n",
       "    <tr>\n",
       "      <th>7</th>\n",
       "      <td>5</td>\n",
       "      <td>Super!</td>\n",
       "      <td>This is my first ever iPhone..And I truly don’...</td>\n",
       "    </tr>\n",
       "    <tr>\n",
       "      <th>8</th>\n",
       "      <td>5</td>\n",
       "      <td>Brilliant</td>\n",
       "      <td>A wort full value for money decision it’s . Si...</td>\n",
       "    </tr>\n",
       "    <tr>\n",
       "      <th>9</th>\n",
       "      <td>5</td>\n",
       "      <td>Must buy!</td>\n",
       "      <td>Dear friends... I want to share my experience ...</td>\n",
       "    </tr>\n",
       "  </tbody>\n",
       "</table>\n",
       "</div>"
      ],
      "text/plain": [
       "  Rating    Review_summary                                        full_review\n",
       "0      5          Terrific  I got this beast today. And I must say the pic...\n",
       "1      5         Fabulous!  Best phone in this price segment people say th...\n",
       "2      5         Fabulous!  Gift this to your loved ones fabulous product ...\n",
       "3      5  Perfect product!  Awesome purchase. Amazing phone with good batt...\n",
       "4      5    Classy product  Gifted my man on his 30th birthday 🎂 He loves ...\n",
       "5      5           Awesome  Always love the apple products, upgraded from ...\n",
       "6      3      Does the job  phone is good but in display is 720p lcd in th...\n",
       "7      5            Super!  This is my first ever iPhone..And I truly don’...\n",
       "8      5         Brilliant  A wort full value for money decision it’s . Si...\n",
       "9      5         Must buy!  Dear friends... I want to share my experience ..."
      ]
     },
     "execution_count": 863,
     "metadata": {},
     "output_type": "execute_result"
    }
   ],
   "source": [
    "# Creating Data Frame for Page 9\n",
    "\n",
    "page9 = pd.DataFrame({})\n",
    "page9[\"Rating\"]=page9_Rating\n",
    "page9[\"Review_summary\"]=page9_Review_summary\n",
    "page9[\"full_review\"]=page9_full_review\n",
    "page9"
   ]
  },
  {
   "cell_type": "code",
   "execution_count": 836,
   "id": "09155828",
   "metadata": {},
   "outputs": [],
   "source": [
    "# Clicking on Page 10\n",
    "\n",
    "\n",
    "next_button=driver.find_element(By.XPATH,\"/html/body/div[1]/div/div[3]/div/div/div[2]/div[13]/div/div/nav/a[12]/span\")\n",
    "next_button.click()"
   ]
  },
  {
   "cell_type": "code",
   "execution_count": 837,
   "id": "ef3bfe70",
   "metadata": {},
   "outputs": [
    {
     "data": {
      "text/plain": [
       "[<selenium.webdriver.remote.webelement.WebElement (session=\"7fc4dc6e3663c71330921038e2cfab93\", element=\"7d425ccf-bfc5-493a-9eb1-76fd543ce3c3\")>,\n",
       " <selenium.webdriver.remote.webelement.WebElement (session=\"7fc4dc6e3663c71330921038e2cfab93\", element=\"650637a4-c178-45e6-9a13-e9a65e5a1c02\")>]"
      ]
     },
     "execution_count": 837,
     "metadata": {},
     "output_type": "execute_result"
    }
   ],
   "source": [
    "# Rating frrom Page 10\n",
    "\n",
    "Rating=driver.find_elements(By.XPATH,\"//div[@class='_3LWZlK _1BLPMq']\")\n",
    "Rating[0:2]"
   ]
  },
  {
   "cell_type": "code",
   "execution_count": 838,
   "id": "c8bf633a",
   "metadata": {},
   "outputs": [
    {
     "data": {
      "text/plain": [
       "['5', '5', '5', '5', '4', '5', '5', '5', '5']"
      ]
     },
     "execution_count": 838,
     "metadata": {},
     "output_type": "execute_result"
    }
   ],
   "source": [
    "page10_Rating=[]\n",
    "for i in Rating:\n",
    "    Rating=i.text\n",
    "    page10_Rating.append(Rating)\n",
    "    \n",
    "page10_Rating"
   ]
  },
  {
   "cell_type": "code",
   "execution_count": 839,
   "id": "8fa297f2",
   "metadata": {},
   "outputs": [
    {
     "data": {
      "text/plain": [
       "['5', '5', '5', '5', '4', '5', '5', '5', '5', '1']"
      ]
     },
     "execution_count": 839,
     "metadata": {},
     "output_type": "execute_result"
    }
   ],
   "source": [
    "page10_Rating.insert(9,'1')\n",
    "page10_Rating"
   ]
  },
  {
   "cell_type": "code",
   "execution_count": 840,
   "id": "7153d922",
   "metadata": {},
   "outputs": [
    {
     "data": {
      "text/plain": [
       "[<selenium.webdriver.remote.webelement.WebElement (session=\"7fc4dc6e3663c71330921038e2cfab93\", element=\"607993e3-5f26-4b5b-af25-ea89c65b0412\")>,\n",
       " <selenium.webdriver.remote.webelement.WebElement (session=\"7fc4dc6e3663c71330921038e2cfab93\", element=\"7ea29123-d804-4d4b-88f6-1beef2d02928\")>]"
      ]
     },
     "execution_count": 840,
     "metadata": {},
     "output_type": "execute_result"
    }
   ],
   "source": [
    "# Getting the Review Summary from page 10\n",
    "\n",
    "Review_summary =driver.find_elements(By.XPATH,\"//p[@class='_2-N8zT']\")\n",
    "Review_summary[0:2]"
   ]
  },
  {
   "cell_type": "code",
   "execution_count": 841,
   "id": "78c4a5a8",
   "metadata": {},
   "outputs": [
    {
     "data": {
      "text/plain": [
       "['Awesome',\n",
       " 'Best in the market!',\n",
       " 'Brilliant',\n",
       " 'Terrific purchase',\n",
       " 'Good quality product',\n",
       " 'Wonderful',\n",
       " 'Terrific',\n",
       " 'Best in the market!',\n",
       " 'Perfect product!',\n",
       " 'Absolute rubbish!']"
      ]
     },
     "execution_count": 841,
     "metadata": {},
     "output_type": "execute_result"
    }
   ],
   "source": [
    "page10_Review_summary=[]\n",
    "for i in Review_summary:\n",
    "    Review_summarys = i.text\n",
    "    page10_Review_summary.append(Review_summarys)\n",
    "page10_Review_summary"
   ]
  },
  {
   "cell_type": "code",
   "execution_count": 842,
   "id": "987a6100",
   "metadata": {},
   "outputs": [
    {
     "data": {
      "text/plain": [
       "[<selenium.webdriver.remote.webelement.WebElement (session=\"7fc4dc6e3663c71330921038e2cfab93\", element=\"ea4cecd5-3a8b-4c67-8160-ea77f08bdc2e\")>,\n",
       " <selenium.webdriver.remote.webelement.WebElement (session=\"7fc4dc6e3663c71330921038e2cfab93\", element=\"5aaa70b9-094e-4b9c-aa3c-728ad3705421\")>]"
      ]
     },
     "execution_count": 842,
     "metadata": {},
     "output_type": "execute_result"
    }
   ],
   "source": [
    "# Getting the Full Review from Page 10\n",
    "\n",
    "full_review=driver.find_elements(By.XPATH,\"//div[@class='t-ZTKy']\")\n",
    "full_review[0:2]"
   ]
  },
  {
   "cell_type": "code",
   "execution_count": 843,
   "id": "97ecfcee",
   "metadata": {},
   "outputs": [
    {
     "data": {
      "text/plain": [
       "['Can’t beat the software and hardware integration of apple..Performs like a beast. Great quality camera.6-7 hours screen on time which is good. Nothing much to complaint about the screen. Good connectivity speeds..Great buy and Flipkart’s delivery top notch as usual',\n",
       " \"The best all rounder iphone. Flipkart is doing a great job. They're delivery services are blazing fast. I got delivery on the same day. Genuine Apple Product. Working great. Talking about review There's no need of review for iphones. They're simply the best.\",\n",
       " 'Amazing phone and on great deal I received with super fast delivery by Flipkart...',\n",
       " 'finally an iPhone with very nice battery backup. update from iPhone 7 and happy to have it. camera is not up to the mark in low light but overall a recommended phone if your budget allows 😀',\n",
       " \"I'm switching this phone to oppo reno 10x zoom.It's really impressive.Rarely I'm missing smooth display touch response like oppo reno but.I really loved it..Camera really impressive\",\n",
       " 'Its good.. a little heavy on my pinky but its cute ! Well m not any great photographer but putting these pictures just in case u knw…. Would help someone make any decisions',\n",
       " 'Simply Awesome..I have upgraded from iPhone 7 to iPhone 11...3110 mah Battery is good. I am not a heavy gamer. For official purpose, this is better than 12 mini...Totally impressed with battery performance.',\n",
       " 'Damn this phone is a blast . Upgraded from android to ios and is a duperb experience. Battery backup is top notch and display also pretty good',\n",
       " 'Worth the money’ starting first from its performance it beats out all phones , second the smoothness of camera is awesome, contrast ratio is much than expected. Price will not matter if u r a quality person, if not other phones are available with better discount',\n",
       " 'Worst product delivered by Flipkart.After 10days of delivery mobile will not work properly.Volume and silent buttons are not working..No worth to buy in Flipkart..Please don’t buy apple products in Flipkart']"
      ]
     },
     "execution_count": 843,
     "metadata": {},
     "output_type": "execute_result"
    }
   ],
   "source": [
    "page10_full_review=[]\n",
    "for i in full_review:\n",
    "    full_reviews = i.text.replace(\"\\n\",\".\")\n",
    "    page10_full_review.append(full_reviews)\n",
    "page10_full_review"
   ]
  },
  {
   "cell_type": "code",
   "execution_count": 844,
   "id": "342e0328",
   "metadata": {},
   "outputs": [
    {
     "name": "stdout",
     "output_type": "stream",
     "text": [
      "10 10 10\n"
     ]
    }
   ],
   "source": [
    "print(len(page10_Rating),len(page10_Review_summary),len(page10_full_review))"
   ]
  },
  {
   "cell_type": "code",
   "execution_count": 853,
   "id": "4bb0e66a",
   "metadata": {},
   "outputs": [
    {
     "data": {
      "text/html": [
       "<div>\n",
       "<style scoped>\n",
       "    .dataframe tbody tr th:only-of-type {\n",
       "        vertical-align: middle;\n",
       "    }\n",
       "\n",
       "    .dataframe tbody tr th {\n",
       "        vertical-align: top;\n",
       "    }\n",
       "\n",
       "    .dataframe thead th {\n",
       "        text-align: right;\n",
       "    }\n",
       "</style>\n",
       "<table border=\"1\" class=\"dataframe\">\n",
       "  <thead>\n",
       "    <tr style=\"text-align: right;\">\n",
       "      <th></th>\n",
       "      <th>Rating</th>\n",
       "      <th>Review_summary</th>\n",
       "      <th>full_review</th>\n",
       "    </tr>\n",
       "  </thead>\n",
       "  <tbody>\n",
       "    <tr>\n",
       "      <th>0</th>\n",
       "      <td>5</td>\n",
       "      <td>Awesome</td>\n",
       "      <td>Can’t beat the software and hardware integrati...</td>\n",
       "    </tr>\n",
       "    <tr>\n",
       "      <th>1</th>\n",
       "      <td>5</td>\n",
       "      <td>Best in the market!</td>\n",
       "      <td>The best all rounder iphone. Flipkart is doing...</td>\n",
       "    </tr>\n",
       "    <tr>\n",
       "      <th>2</th>\n",
       "      <td>5</td>\n",
       "      <td>Brilliant</td>\n",
       "      <td>Amazing phone and on great deal I received wit...</td>\n",
       "    </tr>\n",
       "    <tr>\n",
       "      <th>3</th>\n",
       "      <td>5</td>\n",
       "      <td>Terrific purchase</td>\n",
       "      <td>finally an iPhone with very nice battery backu...</td>\n",
       "    </tr>\n",
       "    <tr>\n",
       "      <th>4</th>\n",
       "      <td>4</td>\n",
       "      <td>Good quality product</td>\n",
       "      <td>I'm switching this phone to oppo reno 10x zoom...</td>\n",
       "    </tr>\n",
       "    <tr>\n",
       "      <th>5</th>\n",
       "      <td>5</td>\n",
       "      <td>Wonderful</td>\n",
       "      <td>Its good.. a little heavy on my pinky but its ...</td>\n",
       "    </tr>\n",
       "    <tr>\n",
       "      <th>6</th>\n",
       "      <td>5</td>\n",
       "      <td>Terrific</td>\n",
       "      <td>Simply Awesome..I have upgraded from iPhone 7 ...</td>\n",
       "    </tr>\n",
       "    <tr>\n",
       "      <th>7</th>\n",
       "      <td>5</td>\n",
       "      <td>Best in the market!</td>\n",
       "      <td>Damn this phone is a blast . Upgraded from and...</td>\n",
       "    </tr>\n",
       "    <tr>\n",
       "      <th>8</th>\n",
       "      <td>5</td>\n",
       "      <td>Perfect product!</td>\n",
       "      <td>Worth the money’ starting first from its perfo...</td>\n",
       "    </tr>\n",
       "    <tr>\n",
       "      <th>9</th>\n",
       "      <td>1</td>\n",
       "      <td>Absolute rubbish!</td>\n",
       "      <td>Worst product delivered by Flipkart.After 10da...</td>\n",
       "    </tr>\n",
       "  </tbody>\n",
       "</table>\n",
       "</div>"
      ],
      "text/plain": [
       "  Rating        Review_summary  \\\n",
       "0      5               Awesome   \n",
       "1      5   Best in the market!   \n",
       "2      5             Brilliant   \n",
       "3      5     Terrific purchase   \n",
       "4      4  Good quality product   \n",
       "5      5             Wonderful   \n",
       "6      5              Terrific   \n",
       "7      5   Best in the market!   \n",
       "8      5      Perfect product!   \n",
       "9      1     Absolute rubbish!   \n",
       "\n",
       "                                         full_review  \n",
       "0  Can’t beat the software and hardware integrati...  \n",
       "1  The best all rounder iphone. Flipkart is doing...  \n",
       "2  Amazing phone and on great deal I received wit...  \n",
       "3  finally an iPhone with very nice battery backu...  \n",
       "4  I'm switching this phone to oppo reno 10x zoom...  \n",
       "5  Its good.. a little heavy on my pinky but its ...  \n",
       "6  Simply Awesome..I have upgraded from iPhone 7 ...  \n",
       "7  Damn this phone is a blast . Upgraded from and...  \n",
       "8  Worth the money’ starting first from its perfo...  \n",
       "9  Worst product delivered by Flipkart.After 10da...  "
      ]
     },
     "execution_count": 853,
     "metadata": {},
     "output_type": "execute_result"
    }
   ],
   "source": [
    "# Creating Data Frame for Page 10\n",
    "\n",
    "page10 = pd.DataFrame({})\n",
    "page10[\"Rating\"]=page10_Rating\n",
    "page10[\"Review_summary\"]=page10_Review_summary\n",
    "page10[\"full_review\"]=page10_full_review\n",
    "page10"
   ]
  },
  {
   "cell_type": "code",
   "execution_count": 871,
   "id": "b7537a85",
   "metadata": {},
   "outputs": [
    {
     "data": {
      "text/html": [
       "<div>\n",
       "<style scoped>\n",
       "    .dataframe tbody tr th:only-of-type {\n",
       "        vertical-align: middle;\n",
       "    }\n",
       "\n",
       "    .dataframe tbody tr th {\n",
       "        vertical-align: top;\n",
       "    }\n",
       "\n",
       "    .dataframe thead th {\n",
       "        text-align: right;\n",
       "    }\n",
       "</style>\n",
       "<table border=\"1\" class=\"dataframe\">\n",
       "  <thead>\n",
       "    <tr style=\"text-align: right;\">\n",
       "      <th></th>\n",
       "      <th>Rating</th>\n",
       "      <th>Review_summary</th>\n",
       "      <th>full_review</th>\n",
       "    </tr>\n",
       "  </thead>\n",
       "  <tbody>\n",
       "    <tr>\n",
       "      <th>0</th>\n",
       "      <td>5</td>\n",
       "      <td>Simply awesome</td>\n",
       "      <td>Really satisfied with the Product I received.....</td>\n",
       "    </tr>\n",
       "    <tr>\n",
       "      <th>1</th>\n",
       "      <td>5</td>\n",
       "      <td>Perfect product!</td>\n",
       "      <td>Amazing phone with great cameras and better ba...</td>\n",
       "    </tr>\n",
       "    <tr>\n",
       "      <th>2</th>\n",
       "      <td>5</td>\n",
       "      <td>Best in the market!</td>\n",
       "      <td>Great iPhone very snappy experience as apple k...</td>\n",
       "    </tr>\n",
       "    <tr>\n",
       "      <th>3</th>\n",
       "      <td>4</td>\n",
       "      <td>Value-for-money</td>\n",
       "      <td>I'm Really happy with the product.Delivery was...</td>\n",
       "    </tr>\n",
       "    <tr>\n",
       "      <th>4</th>\n",
       "      <td>5</td>\n",
       "      <td>Highly recommended</td>\n",
       "      <td>It's my first time to use iOS phone and I am l...</td>\n",
       "    </tr>\n",
       "    <tr>\n",
       "      <th>...</th>\n",
       "      <td>...</td>\n",
       "      <td>...</td>\n",
       "      <td>...</td>\n",
       "    </tr>\n",
       "    <tr>\n",
       "      <th>5</th>\n",
       "      <td>5</td>\n",
       "      <td>Wonderful</td>\n",
       "      <td>Its good.. a little heavy on my pinky but its ...</td>\n",
       "    </tr>\n",
       "    <tr>\n",
       "      <th>6</th>\n",
       "      <td>5</td>\n",
       "      <td>Terrific</td>\n",
       "      <td>Simply Awesome..I have upgraded from iPhone 7 ...</td>\n",
       "    </tr>\n",
       "    <tr>\n",
       "      <th>7</th>\n",
       "      <td>5</td>\n",
       "      <td>Best in the market!</td>\n",
       "      <td>Damn this phone is a blast . Upgraded from and...</td>\n",
       "    </tr>\n",
       "    <tr>\n",
       "      <th>8</th>\n",
       "      <td>5</td>\n",
       "      <td>Perfect product!</td>\n",
       "      <td>Worth the money’ starting first from its perfo...</td>\n",
       "    </tr>\n",
       "    <tr>\n",
       "      <th>9</th>\n",
       "      <td>1</td>\n",
       "      <td>Absolute rubbish!</td>\n",
       "      <td>Worst product delivered by Flipkart.After 10da...</td>\n",
       "    </tr>\n",
       "  </tbody>\n",
       "</table>\n",
       "<p>100 rows × 3 columns</p>\n",
       "</div>"
      ],
      "text/plain": [
       "   Rating       Review_summary  \\\n",
       "0       5       Simply awesome   \n",
       "1       5     Perfect product!   \n",
       "2       5  Best in the market!   \n",
       "3       4      Value-for-money   \n",
       "4       5   Highly recommended   \n",
       "..    ...                  ...   \n",
       "5       5            Wonderful   \n",
       "6       5             Terrific   \n",
       "7       5  Best in the market!   \n",
       "8       5     Perfect product!   \n",
       "9       1    Absolute rubbish!   \n",
       "\n",
       "                                          full_review  \n",
       "0   Really satisfied with the Product I received.....  \n",
       "1   Amazing phone with great cameras and better ba...  \n",
       "2   Great iPhone very snappy experience as apple k...  \n",
       "3   I'm Really happy with the product.Delivery was...  \n",
       "4   It's my first time to use iOS phone and I am l...  \n",
       "..                                                ...  \n",
       "5   Its good.. a little heavy on my pinky but its ...  \n",
       "6   Simply Awesome..I have upgraded from iPhone 7 ...  \n",
       "7   Damn this phone is a blast . Upgraded from and...  \n",
       "8   Worth the money’ starting first from its perfo...  \n",
       "9   Worst product delivered by Flipkart.After 10da...  \n",
       "\n",
       "[100 rows x 3 columns]"
      ]
     },
     "execution_count": 871,
     "metadata": {},
     "output_type": "execute_result"
    }
   ],
   "source": [
    "# Complete Final \n",
    "iphone11_phone_reviews =pd.concat([page1,page2,page3,page4,page5,page6,page7,page8,page9,page10])\n",
    "iphone11_phone_reviews"
   ]
  },
  {
   "cell_type": "markdown",
   "id": "2c2cb5c9",
   "metadata": {},
   "source": [
    "# Q6: Scrape data for first 100 sneakers you find when you visit flipkart.com andsearch for “sneakers” in the search field. You have to scrape 4 attributes of each sneaker:\n",
    "\n",
    "Brand\n",
    "Product Description\n",
    "Price"
   ]
  },
  {
   "cell_type": "code",
   "execution_count": 1076,
   "id": "92971003",
   "metadata": {},
   "outputs": [],
   "source": [
    "driver.get(\"https://www.flipkart.com/\")"
   ]
  },
  {
   "cell_type": "code",
   "execution_count": 1077,
   "id": "e0e5f6fb",
   "metadata": {},
   "outputs": [],
   "source": [
    "# Searching for the product\n",
    "Product=driver.find_element(By.CLASS_NAME,\"_3704LK\")\n",
    "Product.send_keys('sneakers')\n"
   ]
  },
  {
   "cell_type": "code",
   "execution_count": 1078,
   "id": "2d3bba53",
   "metadata": {},
   "outputs": [],
   "source": [
    "search=driver.find_element(By.XPATH,\"/html/body/div[1]/div/div[1]/div[1]/div[2]/div[2]/form/div/button\")\n",
    "search.click()\n"
   ]
  },
  {
   "cell_type": "code",
   "execution_count": 1079,
   "id": "a744a52b",
   "metadata": {},
   "outputs": [
    {
     "data": {
      "text/plain": [
       "[<selenium.webdriver.remote.webelement.WebElement (session=\"7fc4dc6e3663c71330921038e2cfab93\", element=\"2317caf0-6025-4dc8-b8f6-bc18ec2013b1\")>,\n",
       " <selenium.webdriver.remote.webelement.WebElement (session=\"7fc4dc6e3663c71330921038e2cfab93\", element=\"939098cc-3c8e-4623-9798-7ccc6e4efbe3\")>]"
      ]
     },
     "execution_count": 1079,
     "metadata": {},
     "output_type": "execute_result"
    }
   ],
   "source": [
    "# Searching Brand Name\n",
    "\n",
    "Brand=driver.find_elements(By.XPATH,\"//div[@class='_2WkVRV']\")\n",
    "Brand[0:2]"
   ]
  },
  {
   "cell_type": "code",
   "execution_count": 1080,
   "id": "f596aa36",
   "metadata": {},
   "outputs": [
    {
     "data": {
      "text/plain": [
       "['SFR', 'Labbin']"
      ]
     },
     "execution_count": 1080,
     "metadata": {},
     "output_type": "execute_result"
    }
   ],
   "source": [
    "page1_Brand=[]\n",
    "for i in Brand:\n",
    "    Brand=i.text\n",
    "    page1_Brand.append(Brand)\n",
    "page1_Brand[0:2]"
   ]
  },
  {
   "cell_type": "code",
   "execution_count": 1081,
   "id": "9e113754",
   "metadata": {},
   "outputs": [
    {
     "data": {
      "text/plain": [
       "[<selenium.webdriver.remote.webelement.WebElement (session=\"7fc4dc6e3663c71330921038e2cfab93\", element=\"195d9c7e-e92f-4154-baa6-3611bce4dc30\")>,\n",
       " <selenium.webdriver.remote.webelement.WebElement (session=\"7fc4dc6e3663c71330921038e2cfab93\", element=\"4ad64d9f-d8f8-4737-955a-3f30f45db4e5\")>]"
      ]
     },
     "execution_count": 1081,
     "metadata": {},
     "output_type": "execute_result"
    }
   ],
   "source": [
    "# Searching for price\n",
    "\n",
    "price=driver.find_elements(By.XPATH,\"//div[@class='_30jeq3']\")\n",
    "price[0:2]"
   ]
  },
  {
   "cell_type": "code",
   "execution_count": 1082,
   "id": "0279bb54",
   "metadata": {},
   "outputs": [
    {
     "data": {
      "text/plain": [
       "['₹399', '₹499']"
      ]
     },
     "execution_count": 1082,
     "metadata": {},
     "output_type": "execute_result"
    }
   ],
   "source": [
    "page1_price=[]\n",
    "for i in price:\n",
    "    prices=i.text\n",
    "    page1_price.append(prices)\n",
    "page1_price[0:2]"
   ]
  },
  {
   "cell_type": "code",
   "execution_count": 1083,
   "id": "53387079",
   "metadata": {},
   "outputs": [
    {
     "data": {
      "text/plain": [
       "[<selenium.webdriver.remote.webelement.WebElement (session=\"7fc4dc6e3663c71330921038e2cfab93\", element=\"c9183889-2954-491b-b293-b63ee6f7710d\")>,\n",
       " <selenium.webdriver.remote.webelement.WebElement (session=\"7fc4dc6e3663c71330921038e2cfab93\", element=\"dcfce625-068d-4b19-971b-3bd70803916f\")>]"
      ]
     },
     "execution_count": 1083,
     "metadata": {},
     "output_type": "execute_result"
    }
   ],
   "source": [
    "# Search Product Details\n",
    "\n",
    "pdetails=driver.find_elements(By.XPATH,\"//a[@class='IRpwTa']\")\n",
    "pdetails[0:2]"
   ]
  },
  {
   "cell_type": "code",
   "execution_count": 1084,
   "id": "be3c9e88",
   "metadata": {},
   "outputs": [
    {
     "data": {
      "text/plain": [
       "['2006 Trenddy Fashion Sporty Casuals Sneakers Running Sh...',\n",
       " 'Casual Sneakers Black Outdoor Shoes For Boys And Men Sn...']"
      ]
     },
     "execution_count": 1084,
     "metadata": {},
     "output_type": "execute_result"
    }
   ],
   "source": [
    "page1_pdetails=[]\n",
    "for i in pdetails:\n",
    "    pdetails=i.text\n",
    "    page1_pdetails.append(pdetails)\n",
    "page1_pdetails[0:2]"
   ]
  },
  {
   "cell_type": "code",
   "execution_count": 1085,
   "id": "ebde6e7d",
   "metadata": {},
   "outputs": [
    {
     "name": "stdout",
     "output_type": "stream",
     "text": [
      "40 40 39\n"
     ]
    }
   ],
   "source": [
    "print(len(page1_Brand),len(page1_price),len(page1_pdetails))"
   ]
  },
  {
   "cell_type": "code",
   "execution_count": 1087,
   "id": "476abce9",
   "metadata": {},
   "outputs": [
    {
     "data": {
      "text/html": [
       "<div>\n",
       "<style scoped>\n",
       "    .dataframe tbody tr th:only-of-type {\n",
       "        vertical-align: middle;\n",
       "    }\n",
       "\n",
       "    .dataframe tbody tr th {\n",
       "        vertical-align: top;\n",
       "    }\n",
       "\n",
       "    .dataframe thead th {\n",
       "        text-align: right;\n",
       "    }\n",
       "</style>\n",
       "<table border=\"1\" class=\"dataframe\">\n",
       "  <thead>\n",
       "    <tr style=\"text-align: right;\">\n",
       "      <th></th>\n",
       "      <th>page_Brand</th>\n",
       "      <th>page_Price</th>\n",
       "      <th>page_pdetails</th>\n",
       "    </tr>\n",
       "  </thead>\n",
       "  <tbody>\n",
       "    <tr>\n",
       "      <th>0</th>\n",
       "      <td>SFR</td>\n",
       "      <td>₹399</td>\n",
       "      <td>2006 Trenddy Fashion Sporty Casuals Sneakers R...</td>\n",
       "    </tr>\n",
       "    <tr>\n",
       "      <th>1</th>\n",
       "      <td>Labbin</td>\n",
       "      <td>₹649</td>\n",
       "      <td>Casual Sneakers Black Outdoor Shoes For Boys A...</td>\n",
       "    </tr>\n",
       "    <tr>\n",
       "      <th>2</th>\n",
       "      <td>World Wear Footwear</td>\n",
       "      <td>₹599</td>\n",
       "      <td>5011-Latest Collection Stylish &amp; Trendy Casual...</td>\n",
       "    </tr>\n",
       "    <tr>\n",
       "      <th>3</th>\n",
       "      <td>aadi</td>\n",
       "      <td>₹149</td>\n",
       "      <td>Mesh |Lightweight|Comfort|Summer|Trendy|Walkin...</td>\n",
       "    </tr>\n",
       "    <tr>\n",
       "      <th>4</th>\n",
       "      <td>HRX by Hrithik Roshan</td>\n",
       "      <td>₹499</td>\n",
       "      <td>ACTIVE RUN Sneakers For Men</td>\n",
       "    </tr>\n",
       "  </tbody>\n",
       "</table>\n",
       "</div>"
      ],
      "text/plain": [
       "              page_Brand page_Price  \\\n",
       "0                    SFR       ₹399   \n",
       "1                 Labbin       ₹649   \n",
       "2    World Wear Footwear       ₹599   \n",
       "3                   aadi       ₹149   \n",
       "4  HRX by Hrithik Roshan       ₹499   \n",
       "\n",
       "                                       page_pdetails  \n",
       "0  2006 Trenddy Fashion Sporty Casuals Sneakers R...  \n",
       "1  Casual Sneakers Black Outdoor Shoes For Boys A...  \n",
       "2  5011-Latest Collection Stylish & Trendy Casual...  \n",
       "3  Mesh |Lightweight|Comfort|Summer|Trendy|Walkin...  \n",
       "4                        ACTIVE RUN Sneakers For Men  "
      ]
     },
     "execution_count": 1087,
     "metadata": {},
     "output_type": "execute_result"
    }
   ],
   "source": [
    "page1 = pd.DataFrame({})\n",
    "page1[\"page_Brand\"]=page1_Brand[:39]\n",
    "page1[\"page_Price\"]=page1_Price[:39]\n",
    "page1[\"page_pdetails\"]=page1_pdetails\n",
    "page1.head()"
   ]
  },
  {
   "cell_type": "code",
   "execution_count": 1088,
   "id": "48a9eef7",
   "metadata": {},
   "outputs": [],
   "source": [
    "# Going to the page 2\n",
    "\n",
    "# Going to the Next Page\n",
    "next_button=driver.find_element(By.XPATH,\"/html/body/div[1]/div/div[3]/div[1]/div[2]/div[12]/div/div/nav/a[11]/span\")\n",
    "next_button.click()"
   ]
  },
  {
   "cell_type": "code",
   "execution_count": 1089,
   "id": "6751ad13",
   "metadata": {},
   "outputs": [
    {
     "data": {
      "text/plain": [
       "[<selenium.webdriver.remote.webelement.WebElement (session=\"7fc4dc6e3663c71330921038e2cfab93\", element=\"aa024cf0-b908-4d46-b559-594fcd6f8347\")>,\n",
       " <selenium.webdriver.remote.webelement.WebElement (session=\"7fc4dc6e3663c71330921038e2cfab93\", element=\"7b936045-bbdd-43bd-b462-37c695e31a56\")>]"
      ]
     },
     "execution_count": 1089,
     "metadata": {},
     "output_type": "execute_result"
    }
   ],
   "source": [
    "# Searching Brand Name in Page 2\n",
    "\n",
    "Brand=driver.find_elements(By.XPATH,\"//div[@class='_2WkVRV']\")\n",
    "Brand[0:2]"
   ]
  },
  {
   "cell_type": "code",
   "execution_count": 1090,
   "id": "1ad31db6",
   "metadata": {},
   "outputs": [
    {
     "data": {
      "text/plain": [
       "['HIGHLANDER', 'PUMA']"
      ]
     },
     "execution_count": 1090,
     "metadata": {},
     "output_type": "execute_result"
    }
   ],
   "source": [
    "page2_Brand=[]\n",
    "for i in Brand:\n",
    "    Brand=i.text\n",
    "    page2_Brand.append(Brand)\n",
    "page2_Brand[0:2]"
   ]
  },
  {
   "cell_type": "code",
   "execution_count": 1091,
   "id": "8ef38738",
   "metadata": {},
   "outputs": [
    {
     "data": {
      "text/plain": [
       "[<selenium.webdriver.remote.webelement.WebElement (session=\"7fc4dc6e3663c71330921038e2cfab93\", element=\"f379f3a9-cb83-4a98-bbe2-02394e55e283\")>,\n",
       " <selenium.webdriver.remote.webelement.WebElement (session=\"7fc4dc6e3663c71330921038e2cfab93\", element=\"8ca7a9a8-4142-4eb8-918a-0a77caee5481\")>]"
      ]
     },
     "execution_count": 1091,
     "metadata": {},
     "output_type": "execute_result"
    }
   ],
   "source": [
    "# Searching for price in page 2\n",
    "\n",
    "price=driver.find_elements(By.XPATH,\"//div[@class='_30jeq3']\")\n",
    "price[0:2]"
   ]
  },
  {
   "cell_type": "code",
   "execution_count": 1092,
   "id": "a6f088f3",
   "metadata": {},
   "outputs": [
    {
     "data": {
      "text/plain": [
       "['₹419', '₹1,504']"
      ]
     },
     "execution_count": 1092,
     "metadata": {},
     "output_type": "execute_result"
    }
   ],
   "source": [
    "page2_price=[]\n",
    "for i in price:\n",
    "    prices=i.text\n",
    "    page2_price.append(prices)\n",
    "page2_price[0:2]"
   ]
  },
  {
   "cell_type": "code",
   "execution_count": 1093,
   "id": "a366e60d",
   "metadata": {},
   "outputs": [
    {
     "data": {
      "text/plain": [
       "[<selenium.webdriver.remote.webelement.WebElement (session=\"7fc4dc6e3663c71330921038e2cfab93\", element=\"f4884989-85b8-4a6d-9419-5f2353fe9212\")>,\n",
       " <selenium.webdriver.remote.webelement.WebElement (session=\"7fc4dc6e3663c71330921038e2cfab93\", element=\"092c2928-690f-45da-96c7-493c974f144f\")>]"
      ]
     },
     "execution_count": 1093,
     "metadata": {},
     "output_type": "execute_result"
    }
   ],
   "source": [
    "# Search Product Details in page 2\n",
    "\n",
    "pdetails=driver.find_elements(By.XPATH,\"//a[@class='IRpwTa']\")\n",
    "pdetails[0:2]"
   ]
  },
  {
   "cell_type": "code",
   "execution_count": 1094,
   "id": "2b42c04b",
   "metadata": {},
   "outputs": [
    {
     "data": {
      "text/plain": [
       "['Sneakers For Men', 'Ziller V2 Sneakers For Men']"
      ]
     },
     "execution_count": 1094,
     "metadata": {},
     "output_type": "execute_result"
    }
   ],
   "source": [
    "page2_pdetails=[]\n",
    "for i in pdetails:\n",
    "    pdetails=i.text\n",
    "    page2_pdetails.append(pdetails)\n",
    "page2_pdetails[0:2]"
   ]
  },
  {
   "cell_type": "code",
   "execution_count": 1095,
   "id": "c2bed36e",
   "metadata": {},
   "outputs": [
    {
     "name": "stdout",
     "output_type": "stream",
     "text": [
      "40 40 38\n"
     ]
    }
   ],
   "source": [
    "print(len(page2_Brand),len(page2_price),len(page2_pdetails))"
   ]
  },
  {
   "cell_type": "code",
   "execution_count": 1096,
   "id": "99ae1d81",
   "metadata": {},
   "outputs": [
    {
     "data": {
      "text/html": [
       "<div>\n",
       "<style scoped>\n",
       "    .dataframe tbody tr th:only-of-type {\n",
       "        vertical-align: middle;\n",
       "    }\n",
       "\n",
       "    .dataframe tbody tr th {\n",
       "        vertical-align: top;\n",
       "    }\n",
       "\n",
       "    .dataframe thead th {\n",
       "        text-align: right;\n",
       "    }\n",
       "</style>\n",
       "<table border=\"1\" class=\"dataframe\">\n",
       "  <thead>\n",
       "    <tr style=\"text-align: right;\">\n",
       "      <th></th>\n",
       "      <th>page_Brand</th>\n",
       "      <th>page_Price</th>\n",
       "      <th>page_pdetails</th>\n",
       "    </tr>\n",
       "  </thead>\n",
       "  <tbody>\n",
       "    <tr>\n",
       "      <th>0</th>\n",
       "      <td>HIGHLANDER</td>\n",
       "      <td>₹281</td>\n",
       "      <td>Sneakers For Men</td>\n",
       "    </tr>\n",
       "    <tr>\n",
       "      <th>1</th>\n",
       "      <td>PUMA</td>\n",
       "      <td>₹519</td>\n",
       "      <td>Ziller V2 Sneakers For Men</td>\n",
       "    </tr>\n",
       "    <tr>\n",
       "      <th>2</th>\n",
       "      <td>U.S. POLO ASSN.</td>\n",
       "      <td>₹258</td>\n",
       "      <td>GAIMAN 2.O Sneakers For Men</td>\n",
       "    </tr>\n",
       "    <tr>\n",
       "      <th>3</th>\n",
       "      <td>SFR</td>\n",
       "      <td>₹399</td>\n",
       "      <td>Casual Shoes For Men Sneakers For Men</td>\n",
       "    </tr>\n",
       "    <tr>\n",
       "      <th>4</th>\n",
       "      <td>BIRDE</td>\n",
       "      <td>₹108</td>\n",
       "      <td>Premium White Casual Shoes Sneakers For Men Sn...</td>\n",
       "    </tr>\n",
       "  </tbody>\n",
       "</table>\n",
       "</div>"
      ],
      "text/plain": [
       "        page_Brand page_Price  \\\n",
       "0       HIGHLANDER       ₹281   \n",
       "1             PUMA       ₹519   \n",
       "2  U.S. POLO ASSN.       ₹258   \n",
       "3              SFR       ₹399   \n",
       "4            BIRDE       ₹108   \n",
       "\n",
       "                                       page_pdetails  \n",
       "0                                   Sneakers For Men  \n",
       "1                         Ziller V2 Sneakers For Men  \n",
       "2                        GAIMAN 2.O Sneakers For Men  \n",
       "3              Casual Shoes For Men Sneakers For Men  \n",
       "4  Premium White Casual Shoes Sneakers For Men Sn...  "
      ]
     },
     "execution_count": 1096,
     "metadata": {},
     "output_type": "execute_result"
    }
   ],
   "source": [
    "# Creating a dataframe for page 2\n",
    "\n",
    "page2 = pd.DataFrame({})\n",
    "page2[\"page_Brand\"]=page2_Brand[:38]\n",
    "page2[\"page_Price\"]=page2_Price[:38]\n",
    "page2[\"page_pdetails\"]=page2_pdetails\n",
    "page2.head()"
   ]
  },
  {
   "cell_type": "code",
   "execution_count": 1097,
   "id": "2c959ede",
   "metadata": {},
   "outputs": [],
   "source": [
    "# Going to the page 3\n",
    "\n",
    "\n",
    "next_button=driver.find_element(By.XPATH,\"html/body/div/div/div[3]/div[1]/div[2]/div[12]/div/div/nav/a[12]/span\")\n",
    "next_button.click()"
   ]
  },
  {
   "cell_type": "code",
   "execution_count": 1098,
   "id": "1908eeac",
   "metadata": {},
   "outputs": [
    {
     "data": {
      "text/plain": [
       "[<selenium.webdriver.remote.webelement.WebElement (session=\"7fc4dc6e3663c71330921038e2cfab93\", element=\"eb739c86-d7cd-42c1-abfa-ead940314b66\")>,\n",
       " <selenium.webdriver.remote.webelement.WebElement (session=\"7fc4dc6e3663c71330921038e2cfab93\", element=\"7f8abfee-0f10-4324-8b2a-830e643892a2\")>]"
      ]
     },
     "execution_count": 1098,
     "metadata": {},
     "output_type": "execute_result"
    }
   ],
   "source": [
    "# Searching Brand Name in Page 3\n",
    "\n",
    "Brand=driver.find_elements(By.XPATH,\"//div[@class='_2WkVRV']\")\n",
    "Brand[0:2]"
   ]
  },
  {
   "cell_type": "code",
   "execution_count": 1099,
   "id": "796d12b6",
   "metadata": {},
   "outputs": [
    {
     "data": {
      "text/plain": [
       "['NIKE', 'HIGHLANDER']"
      ]
     },
     "execution_count": 1099,
     "metadata": {},
     "output_type": "execute_result"
    }
   ],
   "source": [
    "page3_Brand=[]\n",
    "for i in Brand:\n",
    "    Brand=i.text\n",
    "    page3_Brand.append(Brand)\n",
    "page3_Brand[0:2]"
   ]
  },
  {
   "cell_type": "code",
   "execution_count": 1100,
   "id": "6d27db7e",
   "metadata": {},
   "outputs": [
    {
     "data": {
      "text/plain": [
       "[<selenium.webdriver.remote.webelement.WebElement (session=\"7fc4dc6e3663c71330921038e2cfab93\", element=\"3b793e1d-23f5-4ced-bea0-2cee7e4bbee4\")>,\n",
       " <selenium.webdriver.remote.webelement.WebElement (session=\"7fc4dc6e3663c71330921038e2cfab93\", element=\"f30df112-a1fd-44c4-80d8-995040fe2291\")>]"
      ]
     },
     "execution_count": 1100,
     "metadata": {},
     "output_type": "execute_result"
    }
   ],
   "source": [
    " #Searching for price in page 3\n",
    "\n",
    "price=driver.find_elements(By.XPATH,\"//div[@class='_30jeq3']\")\n",
    "price[0:2]"
   ]
  },
  {
   "cell_type": "code",
   "execution_count": 1101,
   "id": "ef353c06",
   "metadata": {},
   "outputs": [
    {
     "data": {
      "text/plain": [
       "['₹3,246', '₹696']"
      ]
     },
     "execution_count": 1101,
     "metadata": {},
     "output_type": "execute_result"
    }
   ],
   "source": [
    "page3_price=[]\n",
    "for i in price:\n",
    "    prices=i.text\n",
    "    page3_price.append(prices)\n",
    "page3_price[0:2]"
   ]
  },
  {
   "cell_type": "code",
   "execution_count": 1102,
   "id": "6f8bd20c",
   "metadata": {},
   "outputs": [
    {
     "data": {
      "text/plain": [
       "[<selenium.webdriver.remote.webelement.WebElement (session=\"7fc4dc6e3663c71330921038e2cfab93\", element=\"894b3355-3d01-4750-a4f6-878e3bf1330b\")>,\n",
       " <selenium.webdriver.remote.webelement.WebElement (session=\"7fc4dc6e3663c71330921038e2cfab93\", element=\"429f6cca-57b2-4cbc-a497-04cdfb7f485d\")>]"
      ]
     },
     "execution_count": 1102,
     "metadata": {},
     "output_type": "execute_result"
    }
   ],
   "source": [
    "# Search Product Details in page 3\n",
    "\n",
    "pdetails=driver.find_elements(By.XPATH,\"//a[@class='IRpwTa']\")\n",
    "pdetails[0:2]"
   ]
  },
  {
   "cell_type": "code",
   "execution_count": 1103,
   "id": "8a40918e",
   "metadata": {},
   "outputs": [
    {
     "data": {
      "text/plain": [
       "['Court Vision Low Better Sneakers For Men', 'Sneakers For Men']"
      ]
     },
     "execution_count": 1103,
     "metadata": {},
     "output_type": "execute_result"
    }
   ],
   "source": [
    "page3_pdetails=[]\n",
    "for i in pdetails:\n",
    "    pdetails=i.text\n",
    "    page3_pdetails.append(pdetails)\n",
    "page3_pdetails[0:2]"
   ]
  },
  {
   "cell_type": "code",
   "execution_count": 1104,
   "id": "4f8d1903",
   "metadata": {},
   "outputs": [
    {
     "name": "stdout",
     "output_type": "stream",
     "text": [
      "40 40 37\n"
     ]
    }
   ],
   "source": [
    "print(len(page3_Brand),len(page3_price),len(page3_pdetails))"
   ]
  },
  {
   "cell_type": "code",
   "execution_count": 1105,
   "id": "d64aac33",
   "metadata": {},
   "outputs": [
    {
     "data": {
      "text/html": [
       "<div>\n",
       "<style scoped>\n",
       "    .dataframe tbody tr th:only-of-type {\n",
       "        vertical-align: middle;\n",
       "    }\n",
       "\n",
       "    .dataframe tbody tr th {\n",
       "        vertical-align: top;\n",
       "    }\n",
       "\n",
       "    .dataframe thead th {\n",
       "        text-align: right;\n",
       "    }\n",
       "</style>\n",
       "<table border=\"1\" class=\"dataframe\">\n",
       "  <thead>\n",
       "    <tr style=\"text-align: right;\">\n",
       "      <th></th>\n",
       "      <th>page_Brand</th>\n",
       "      <th>page_Price</th>\n",
       "      <th>page_pdetails</th>\n",
       "    </tr>\n",
       "  </thead>\n",
       "  <tbody>\n",
       "    <tr>\n",
       "      <th>0</th>\n",
       "      <td>NIKE</td>\n",
       "      <td>₹281</td>\n",
       "      <td>Court Vision Low Better Sneakers For Men</td>\n",
       "    </tr>\n",
       "    <tr>\n",
       "      <th>1</th>\n",
       "      <td>HIGHLANDER</td>\n",
       "      <td>₹579</td>\n",
       "      <td>Sneakers For Men</td>\n",
       "    </tr>\n",
       "    <tr>\n",
       "      <th>2</th>\n",
       "      <td>U.S. POLO ASSN.</td>\n",
       "      <td>₹949</td>\n",
       "      <td>LEBRON 3.0 Sneakers For Men</td>\n",
       "    </tr>\n",
       "    <tr>\n",
       "      <th>3</th>\n",
       "      <td>GVR</td>\n",
       "      <td>₹949</td>\n",
       "      <td>CLASSIC CT SNEAKER Sneakers For Men</td>\n",
       "    </tr>\n",
       "    <tr>\n",
       "      <th>4</th>\n",
       "      <td>RED TAPE</td>\n",
       "      <td>₹479</td>\n",
       "      <td>Sneakers For Men</td>\n",
       "    </tr>\n",
       "  </tbody>\n",
       "</table>\n",
       "</div>"
      ],
      "text/plain": [
       "        page_Brand page_Price                             page_pdetails\n",
       "0             NIKE       ₹281  Court Vision Low Better Sneakers For Men\n",
       "1       HIGHLANDER       ₹579                          Sneakers For Men\n",
       "2  U.S. POLO ASSN.       ₹949               LEBRON 3.0 Sneakers For Men\n",
       "3              GVR       ₹949       CLASSIC CT SNEAKER Sneakers For Men\n",
       "4         RED TAPE       ₹479                          Sneakers For Men"
      ]
     },
     "execution_count": 1105,
     "metadata": {},
     "output_type": "execute_result"
    }
   ],
   "source": [
    "# Creating a dataframe for page 3\n",
    "\n",
    "page3 = pd.DataFrame({})\n",
    "page3[\"page_Brand\"]=page3_Brand[:23]\n",
    "page3[\"page_Price\"]=page3_Price[:23]\n",
    "page3[\"page_pdetails\"]=page3_pdetails[:23]\n",
    "page3.head()"
   ]
  },
  {
   "cell_type": "code",
   "execution_count": 1106,
   "id": "1b74f83d",
   "metadata": {},
   "outputs": [
    {
     "data": {
      "text/html": [
       "<div>\n",
       "<style scoped>\n",
       "    .dataframe tbody tr th:only-of-type {\n",
       "        vertical-align: middle;\n",
       "    }\n",
       "\n",
       "    .dataframe tbody tr th {\n",
       "        vertical-align: top;\n",
       "    }\n",
       "\n",
       "    .dataframe thead th {\n",
       "        text-align: right;\n",
       "    }\n",
       "</style>\n",
       "<table border=\"1\" class=\"dataframe\">\n",
       "  <thead>\n",
       "    <tr style=\"text-align: right;\">\n",
       "      <th></th>\n",
       "      <th>page_Brand</th>\n",
       "      <th>page_Price</th>\n",
       "      <th>page_pdetails</th>\n",
       "    </tr>\n",
       "  </thead>\n",
       "  <tbody>\n",
       "    <tr>\n",
       "      <th>0</th>\n",
       "      <td>SFR</td>\n",
       "      <td>₹399</td>\n",
       "      <td>2006 Trenddy Fashion Sporty Casuals Sneakers R...</td>\n",
       "    </tr>\n",
       "    <tr>\n",
       "      <th>1</th>\n",
       "      <td>Labbin</td>\n",
       "      <td>₹649</td>\n",
       "      <td>Casual Sneakers Black Outdoor Shoes For Boys A...</td>\n",
       "    </tr>\n",
       "    <tr>\n",
       "      <th>2</th>\n",
       "      <td>World Wear Footwear</td>\n",
       "      <td>₹599</td>\n",
       "      <td>5011-Latest Collection Stylish &amp; Trendy Casual...</td>\n",
       "    </tr>\n",
       "    <tr>\n",
       "      <th>3</th>\n",
       "      <td>aadi</td>\n",
       "      <td>₹149</td>\n",
       "      <td>Mesh |Lightweight|Comfort|Summer|Trendy|Walkin...</td>\n",
       "    </tr>\n",
       "    <tr>\n",
       "      <th>4</th>\n",
       "      <td>HRX by Hrithik Roshan</td>\n",
       "      <td>₹499</td>\n",
       "      <td>ACTIVE RUN Sneakers For Men</td>\n",
       "    </tr>\n",
       "    <tr>\n",
       "      <th>...</th>\n",
       "      <td>...</td>\n",
       "      <td>...</td>\n",
       "      <td>...</td>\n",
       "    </tr>\n",
       "    <tr>\n",
       "      <th>18</th>\n",
       "      <td>Sparx</td>\n",
       "      <td>₹260</td>\n",
       "      <td>Mesh |Lightweight|Comfort|Summer|Trendy|Walkin...</td>\n",
       "    </tr>\n",
       "    <tr>\n",
       "      <th>19</th>\n",
       "      <td>Zixer</td>\n",
       "      <td>₹1,244</td>\n",
       "      <td>Shoes Sneakers For Women</td>\n",
       "    </tr>\n",
       "    <tr>\n",
       "      <th>20</th>\n",
       "      <td>aadi</td>\n",
       "      <td>₹699</td>\n",
       "      <td>Basket Classic XXI Sneakers For Men</td>\n",
       "    </tr>\n",
       "    <tr>\n",
       "      <th>21</th>\n",
       "      <td>BIRDE</td>\n",
       "      <td>₹179</td>\n",
       "      <td>ARCH FIT-SERVITICA Sneakers For Men</td>\n",
       "    </tr>\n",
       "    <tr>\n",
       "      <th>22</th>\n",
       "      <td>PUMA</td>\n",
       "      <td>₹415</td>\n",
       "      <td>CAVE Sneakers For Men</td>\n",
       "    </tr>\n",
       "  </tbody>\n",
       "</table>\n",
       "<p>100 rows × 3 columns</p>\n",
       "</div>"
      ],
      "text/plain": [
       "               page_Brand page_Price  \\\n",
       "0                     SFR       ₹399   \n",
       "1                  Labbin       ₹649   \n",
       "2     World Wear Footwear       ₹599   \n",
       "3                    aadi       ₹149   \n",
       "4   HRX by Hrithik Roshan       ₹499   \n",
       "..                    ...        ...   \n",
       "18                  Sparx       ₹260   \n",
       "19                  Zixer     ₹1,244   \n",
       "20                   aadi       ₹699   \n",
       "21                  BIRDE       ₹179   \n",
       "22                   PUMA       ₹415   \n",
       "\n",
       "                                        page_pdetails  \n",
       "0   2006 Trenddy Fashion Sporty Casuals Sneakers R...  \n",
       "1   Casual Sneakers Black Outdoor Shoes For Boys A...  \n",
       "2   5011-Latest Collection Stylish & Trendy Casual...  \n",
       "3   Mesh |Lightweight|Comfort|Summer|Trendy|Walkin...  \n",
       "4                         ACTIVE RUN Sneakers For Men  \n",
       "..                                                ...  \n",
       "18  Mesh |Lightweight|Comfort|Summer|Trendy|Walkin...  \n",
       "19                           Shoes Sneakers For Women  \n",
       "20                Basket Classic XXI Sneakers For Men  \n",
       "21                ARCH FIT-SERVITICA Sneakers For Men  \n",
       "22                              CAVE Sneakers For Men  \n",
       "\n",
       "[100 rows x 3 columns]"
      ]
     },
     "execution_count": 1106,
     "metadata": {},
     "output_type": "execute_result"
    }
   ],
   "source": [
    "sneakers_details = pd.concat([page1,page2,page3])\n",
    "sneakers_details"
   ]
  },
  {
   "cell_type": "markdown",
   "id": "7c16171c",
   "metadata": {},
   "source": [
    "# Q7: Go to webpage https://www.amazon.in/ Enter “Laptop” in the search field and then click the search icon. Then set CPU Type filter to “Intel Core i7” as shown in the below image:"
   ]
  },
  {
   "cell_type": "code",
   "execution_count": 1326,
   "id": "ad4cbf95",
   "metadata": {},
   "outputs": [],
   "source": [
    "driver.get(\"https://www.amazon.in/\")"
   ]
  },
  {
   "cell_type": "code",
   "execution_count": 1327,
   "id": "4804d414",
   "metadata": {},
   "outputs": [],
   "source": [
    "search=driver.find_element(By.XPATH,\"/html/body/div[1]/header/div/div[1]/div[2]/div/form/div[2]/div[1]/input\")\n",
    "search.send_keys(\"Laptop\")"
   ]
  },
  {
   "cell_type": "code",
   "execution_count": 1328,
   "id": "a019b3c5",
   "metadata": {},
   "outputs": [],
   "source": [
    "search_button=driver.find_element(By.XPATH,\"/html/body/div[1]/header/div/div[1]/div[2]/div/form/div[3]/div/span/input\")\n",
    "search_button.click()"
   ]
  },
  {
   "cell_type": "code",
   "execution_count": 1329,
   "id": "38da6d63",
   "metadata": {},
   "outputs": [],
   "source": [
    "# Using the filter\n",
    "\n",
    "CPU=driver.find_element(By.XPATH,\"//*[@id='p_n_feature_thirteen_browse-bin/12598163031']/span/a\")\n",
    "CPU.click()"
   ]
  },
  {
   "cell_type": "code",
   "execution_count": 1330,
   "id": "fec12a03",
   "metadata": {},
   "outputs": [
    {
     "data": {
      "text/plain": [
       "[<selenium.webdriver.remote.webelement.WebElement (session=\"66f3f598f85b12829be0b82fd4b65352\", element=\"104f624e-91c0-4d2b-8507-5c389417a17e\")>,\n",
       " <selenium.webdriver.remote.webelement.WebElement (session=\"66f3f598f85b12829be0b82fd4b65352\", element=\"b9ae5445-839b-4872-b4f5-e4f2486132c0\")>]"
      ]
     },
     "execution_count": 1330,
     "metadata": {},
     "output_type": "execute_result"
    }
   ],
   "source": [
    "# Finding The Title\n",
    "\n",
    "title=driver.find_elements(By.XPATH,\"//h2[@class='a-size-mini a-spacing-none a-color-base s-line-clamp-2']\")\n",
    "title[0:2]"
   ]
  },
  {
   "cell_type": "code",
   "execution_count": 1331,
   "id": "5a5f3448",
   "metadata": {},
   "outputs": [
    {
     "data": {
      "text/plain": [
       "['LG Gram14 Intel EVO-[12th Gen Corei7/Win11/16GB/512GB SSD Intel Iris Xe Graphics] [Thunderbolt4/USB-C] [FHD Webcam+Built-in AI] 72WH Battery 3Yrs Warranty (Black,999 Grams)',\n",
       " 'Fujitsu UH-X 11th Gen Intel Core i7 13.3\" FHD IPS 400Nits 2-in1 Touch Convertible Laptop (16GB/1TB SSD/Windows 11/MS Office 2021/Iris Xe Graphics/2 Yr Warranty/Backlit Kb/Black/0.997 kg, 4ZR1F38027)']"
      ]
     },
     "execution_count": 1331,
     "metadata": {},
     "output_type": "execute_result"
    }
   ],
   "source": [
    "page1_title=[]\n",
    "for i in title:\n",
    "    titles=i.text\n",
    "    page1_title.append(titles)\n",
    "page1_title[0:2]"
   ]
  },
  {
   "cell_type": "code",
   "execution_count": 1332,
   "id": "77b21424",
   "metadata": {},
   "outputs": [
    {
     "data": {
      "text/plain": [
       "[<selenium.webdriver.remote.webelement.WebElement (session=\"66f3f598f85b12829be0b82fd4b65352\", element=\"c9fce3e3-40ef-4d66-a171-394299316bcf\")>,\n",
       " <selenium.webdriver.remote.webelement.WebElement (session=\"66f3f598f85b12829be0b82fd4b65352\", element=\"4a04a575-6ccc-4291-badc-1e5a37329f0e\")>]"
      ]
     },
     "execution_count": 1332,
     "metadata": {},
     "output_type": "execute_result"
    }
   ],
   "source": [
    "# Finding the Rating\n",
    "\n",
    "rating=driver.find_elements(By.XPATH,\"//span[@class='a-icon-alt']\")\n",
    "rating[0:2]"
   ]
  },
  {
   "cell_type": "code",
   "execution_count": 1333,
   "id": "9ecff057",
   "metadata": {},
   "outputs": [
    {
     "data": {
      "text/plain": [
       "['',\n",
       " '',\n",
       " '',\n",
       " '',\n",
       " '',\n",
       " '',\n",
       " '',\n",
       " '',\n",
       " '',\n",
       " '',\n",
       " '',\n",
       " '',\n",
       " '',\n",
       " '',\n",
       " '',\n",
       " '',\n",
       " '',\n",
       " '',\n",
       " '',\n",
       " '',\n",
       " '',\n",
       " '',\n",
       " '',\n",
       " '',\n",
       " '',\n",
       " '',\n",
       " '',\n",
       " '',\n",
       " '',\n",
       " '',\n",
       " '',\n",
       " '',\n",
       " '',\n",
       " '',\n",
       " '',\n",
       " '',\n",
       " '',\n",
       " '',\n",
       " '',\n",
       " '',\n",
       " '']"
      ]
     },
     "execution_count": 1333,
     "metadata": {},
     "output_type": "execute_result"
    }
   ],
   "source": [
    "page1_rating=[]\n",
    "for i in rating:\n",
    "    ratings=i.text\n",
    "    page1_rating.append(ratings)\n",
    "page1_rating"
   ]
  },
  {
   "cell_type": "code",
   "execution_count": 1334,
   "id": "e1592017",
   "metadata": {},
   "outputs": [
    {
     "data": {
      "text/plain": [
       "[<selenium.webdriver.remote.webelement.WebElement (session=\"66f3f598f85b12829be0b82fd4b65352\", element=\"58c9c191-5ab6-422f-8a57-ab47cd4ed56e\")>,\n",
       " <selenium.webdriver.remote.webelement.WebElement (session=\"66f3f598f85b12829be0b82fd4b65352\", element=\"9d4c7833-c1de-41b7-9290-1b7dfad800cb\")>]"
      ]
     },
     "execution_count": 1334,
     "metadata": {},
     "output_type": "execute_result"
    }
   ],
   "source": [
    "# Finding the Price\n",
    "\n",
    "price =driver.find_elements(By.XPATH,\"//span[@class='a-price-whole']\")\n",
    "price[0:2]"
   ]
  },
  {
   "cell_type": "code",
   "execution_count": 1335,
   "id": "a0f4b819",
   "metadata": {},
   "outputs": [
    {
     "data": {
      "text/plain": [
       "['84,500', '94,990']"
      ]
     },
     "execution_count": 1335,
     "metadata": {},
     "output_type": "execute_result"
    }
   ],
   "source": [
    "page1_price=[]\n",
    "for i in price:\n",
    "    prices=i.text\n",
    "    page1_price.append(prices)\n",
    "page1_price[0:2]"
   ]
  },
  {
   "cell_type": "code",
   "execution_count": 1336,
   "id": "7d1a593f",
   "metadata": {},
   "outputs": [
    {
     "name": "stdout",
     "output_type": "stream",
     "text": [
      "38 41 38\n"
     ]
    }
   ],
   "source": [
    "\n",
    "print(len(page1_price),len(page1_rating),len(page1_title))"
   ]
  },
  {
   "cell_type": "code",
   "execution_count": 1337,
   "id": "73f8b559",
   "metadata": {},
   "outputs": [
    {
     "data": {
      "text/html": [
       "<div>\n",
       "<style scoped>\n",
       "    .dataframe tbody tr th:only-of-type {\n",
       "        vertical-align: middle;\n",
       "    }\n",
       "\n",
       "    .dataframe tbody tr th {\n",
       "        vertical-align: top;\n",
       "    }\n",
       "\n",
       "    .dataframe thead th {\n",
       "        text-align: right;\n",
       "    }\n",
       "</style>\n",
       "<table border=\"1\" class=\"dataframe\">\n",
       "  <thead>\n",
       "    <tr style=\"text-align: right;\">\n",
       "      <th></th>\n",
       "      <th>title</th>\n",
       "      <th>rating</th>\n",
       "      <th>price</th>\n",
       "    </tr>\n",
       "  </thead>\n",
       "  <tbody>\n",
       "    <tr>\n",
       "      <th>0</th>\n",
       "      <td>LG Gram14 Intel EVO-[12th Gen Corei7/Win11/16G...</td>\n",
       "      <td></td>\n",
       "      <td>84,500</td>\n",
       "    </tr>\n",
       "    <tr>\n",
       "      <th>1</th>\n",
       "      <td>Fujitsu UH-X 11th Gen Intel Core i7 13.3\" FHD ...</td>\n",
       "      <td></td>\n",
       "      <td>94,990</td>\n",
       "    </tr>\n",
       "    <tr>\n",
       "      <th>2</th>\n",
       "      <td>ASUS Vivobook 14, Intel Core i7-1165G7 11th Ge...</td>\n",
       "      <td></td>\n",
       "      <td>56,990</td>\n",
       "    </tr>\n",
       "    <tr>\n",
       "      <th>3</th>\n",
       "      <td>Acer Nitro 5 Gaming Laptop Intel core i7 11th ...</td>\n",
       "      <td></td>\n",
       "      <td>78,106</td>\n",
       "    </tr>\n",
       "    <tr>\n",
       "      <th>4</th>\n",
       "      <td>HP Pavilion Plus, 12th Gen Intel Core i7 16GB ...</td>\n",
       "      <td></td>\n",
       "      <td>94,630</td>\n",
       "    </tr>\n",
       "    <tr>\n",
       "      <th>5</th>\n",
       "      <td>HP Victus Gaming Latest 12th Gen Intel Core i7...</td>\n",
       "      <td></td>\n",
       "      <td>84,990</td>\n",
       "    </tr>\n",
       "    <tr>\n",
       "      <th>6</th>\n",
       "      <td>Dell Alienware x14 Gaming Laptop, Intel i7-127...</td>\n",
       "      <td></td>\n",
       "      <td>1,69,990</td>\n",
       "    </tr>\n",
       "    <tr>\n",
       "      <th>7</th>\n",
       "      <td>Lenovo IdeaPad Slim 5 12th Gen Intel Core i7 1...</td>\n",
       "      <td></td>\n",
       "      <td>79,990</td>\n",
       "    </tr>\n",
       "    <tr>\n",
       "      <th>8</th>\n",
       "      <td>Lenovo ThinkPad E14 Intel Core i7 12th Gen 14\"...</td>\n",
       "      <td></td>\n",
       "      <td>1,02,490</td>\n",
       "    </tr>\n",
       "    <tr>\n",
       "      <th>9</th>\n",
       "      <td>Samsung Galaxy Book2 360 Intel 12th Gen i7 Evo...</td>\n",
       "      <td></td>\n",
       "      <td>1,03,990</td>\n",
       "    </tr>\n",
       "  </tbody>\n",
       "</table>\n",
       "</div>"
      ],
      "text/plain": [
       "                                               title rating     price\n",
       "0  LG Gram14 Intel EVO-[12th Gen Corei7/Win11/16G...           84,500\n",
       "1  Fujitsu UH-X 11th Gen Intel Core i7 13.3\" FHD ...           94,990\n",
       "2  ASUS Vivobook 14, Intel Core i7-1165G7 11th Ge...           56,990\n",
       "3  Acer Nitro 5 Gaming Laptop Intel core i7 11th ...           78,106\n",
       "4  HP Pavilion Plus, 12th Gen Intel Core i7 16GB ...           94,630\n",
       "5  HP Victus Gaming Latest 12th Gen Intel Core i7...           84,990\n",
       "6  Dell Alienware x14 Gaming Laptop, Intel i7-127...         1,69,990\n",
       "7  Lenovo IdeaPad Slim 5 12th Gen Intel Core i7 1...           79,990\n",
       "8  Lenovo ThinkPad E14 Intel Core i7 12th Gen 14\"...         1,02,490\n",
       "9  Samsung Galaxy Book2 360 Intel 12th Gen i7 Evo...         1,03,990"
      ]
     },
     "execution_count": 1337,
     "metadata": {},
     "output_type": "execute_result"
    }
   ],
   "source": [
    "# Creating the Final Data Frame\n",
    "\n",
    "laptop_details=pd.DataFrame({})\n",
    "laptop_details[\"title\"]=page1_title[0:10]\n",
    "laptop_details[\"rating\"]=page1_rating[0:10]\n",
    "laptop_details[\"price\"]=page1_price[0:10]\n",
    "laptop_details"
   ]
  },
  {
   "cell_type": "markdown",
   "id": "809ec4ae",
   "metadata": {},
   "source": [
    "# Q8: Write a python program to scrape data for Top 1000 Quotes of All Time."
   ]
  },
  {
   "cell_type": "code",
   "execution_count": 1454,
   "id": "222fe1c1",
   "metadata": {},
   "outputs": [],
   "source": [
    "driver.get(\"https://www.azquotes.com/\")"
   ]
  },
  {
   "cell_type": "code",
   "execution_count": 1455,
   "id": "f16ec8e5",
   "metadata": {},
   "outputs": [],
   "source": [
    "# Searching for the top Quotes\n",
    "Top_Quotes=driver.find_element(By.XPATH,\"/html/body/div[1]/div[1]/div[1]/div/div[3]/ul/li[5]/a\")\n",
    "Top_Quotes.click()"
   ]
  },
  {
   "cell_type": "code",
   "execution_count": 1258,
   "id": "8c455709",
   "metadata": {},
   "outputs": [],
   "source": [
    "search=driver.find_element(By.XPATH,\"/html/body/div[1]/div[1]/div[1]/div/div[2]/div[1]/a\")\n",
    "search.send_keys(\"TOP QUOTES\")"
   ]
  },
  {
   "cell_type": "code",
   "execution_count": 1377,
   "id": "262f538d",
   "metadata": {},
   "outputs": [
    {
     "data": {
      "text/plain": [
       "[<selenium.webdriver.remote.webelement.WebElement (session=\"dd1197ad3b36ddca03cd1ff4cc8ea25b\", element=\"c7108484-a838-428b-853c-12a97391c442\")>,\n",
       " <selenium.webdriver.remote.webelement.WebElement (session=\"dd1197ad3b36ddca03cd1ff4cc8ea25b\", element=\"a84be393-f4a5-4599-8a2b-3448657c2203\")>]"
      ]
     },
     "execution_count": 1377,
     "metadata": {},
     "output_type": "execute_result"
    }
   ],
   "source": [
    "# Finding The Qoute\n",
    "\n",
    "title=driver.find_elements(By.XPATH,\"//a[@class='title']\")\n",
    "\n",
    "\n",
    "title[0:2]"
   ]
  },
  {
   "cell_type": "code",
   "execution_count": 1378,
   "id": "1200e15c",
   "metadata": {},
   "outputs": [
    {
     "data": {
      "text/plain": [
       "['The essence of strategy is choosing what not to do.',\n",
       " 'One cannot and must not try to erase the past merely because it does not fit the present.',\n",
       " 'Patriotism means to stand by the country. It does not mean to stand by the president.',\n",
       " 'Death is something inevitable. When a man has done what he considers to be his duty to his people and his country, he can rest in peace. I believe I have made that effort and that is, therefore, why I will sleep for the eternity.',\n",
       " 'You have to love a nation that celebrates its independence every July 4, not with a parade of guns, tanks, and soldiers who file by the White House in a show of strength and muscle, but with family picnics where kids throw Frisbees, the potato salad gets iffy, and the flies die from happiness. You may think you have overeaten, but it is patriotism.',\n",
       " 'Be more concerned with your character than your reputation, because your character is what you really are, while your reputation is merely what others think you are.',\n",
       " 'Weak people revenge. Strong people forgive. Intelligent People Ignore.',\n",
       " \"A mind is like a parachute. It doesn't work if it is not open.\",\n",
       " 'Never be afraid to raise your voice for honesty and truth and compassion against injustice and lying and greed. If people all over the world...would do this, it would change the earth.',\n",
       " 'There are three kinds of men. The one that learns by reading. The few who learn by observation. The rest of them have to pee on the electric fence for themselves.',\n",
       " \"A strong nation, like a strong person, can afford to be gentle, firm, thoughtful, and restrained. It can afford to extend a helping hand to others. It's a weak nation, like a weak person, that must behave with bluster and boasting and rashness and other signs of insecurity.\",\n",
       " 'The difference between stupidity and genius is that genius has its limits.',\n",
       " 'We the people are the rightful masters of both Congress and the courts, not to overthrow the Constitution but to overthrow the men who pervert the Constitution.',\n",
       " 'With or without religion, you would have good people doing good things and evil people doing evil things. But for good people to do evil things, that takes religion.',\n",
       " 'Human kindness has never weakened the stamina or softened the fiber of a free people. A nation does not have to be cruel to be tough.',\n",
       " 'A person who never made a mistake never tried anything new.',\n",
       " 'My mission in life is not merely to survive, but to thrive; and to do so with some passion, some compassion, some humor, and some style',\n",
       " 'Life is short, Break the Rules. Forgive quickly, Kiss slowly. Love truly. Laugh uncontrollably And never regret ANYTHING That makes you smile.',\n",
       " 'This country will not be a good place for any of us to live in unless we make it a good place for all of us to live in.',\n",
       " 'In a world filled with hate, we must still dare to hope. In a world filled with anger, we must still dare to comfort. In a world filled with despair, we must still dare to dream. And in a world filled with distrust, we must still dare to believe.',\n",
       " 'Darkness cannot drive out darkness; only light can do that. Hate cannot drive out hate; only love can do that.',\n",
       " 'To be a Christian means to forgive the inexcusable because God has forgiven the inexcusable in you.',\n",
       " 'A man who is good enough to shed his blood for the country is good enough to be given a square deal afterwards.',\n",
       " 'Kindness is the language which the deaf can hear and the blind can see.',\n",
       " 'Most folks are as happy as they make up their minds to be.',\n",
       " 'A happy marriage is the union of two good forgivers.',\n",
       " 'I believe in Christianity as I believe that the sun has risen: not only because I see it, but because by it I see everything else.',\n",
       " 'Politics is the art of looking for trouble, finding it everywhere, diagnosing it incorrectly and applying the wrong remedies.',\n",
       " \"I believe in everything until it's disproved. So I believe in fairies, the myths, dragons. It all exists, even if it's in your mind. Who's to say that dreams and nightmares aren't as real as the here and now?\",\n",
       " 'At the end of your life, you will never regret not having passed one more test, not winning one more verdict or not closing one more deal. You will regret time not spent with a husband, a friend, a child, or a parent.',\n",
       " 'I never think of the future - it comes soon enough.',\n",
       " \"Our greatest fear should not be of failure but of succeeding at things in life that don't really matter.\",\n",
       " 'Failure is simply the opportunity to begin again, this time more intelligently.',\n",
       " 'Music expresses that which cannot be put into words.',\n",
       " 'Good actions are a guard against the blows of adversity.',\n",
       " 'Positive thinking will let you do everything better than negative thinking will.',\n",
       " \"You have enemies? Good. That means you've stood up for something, sometime in your life.\",\n",
       " \"You don't have to be great to start, but you have to start to be great\",\n",
       " 'Let every nation know, whether it wishes us well or ill, that we shall pay any price, bear any burden, meet any hardship, support any friend, oppose any foe to assure the survival and the success of liberty.',\n",
       " \"If you want total security, go to prison. There you're fed, clothed, given medical care and so on. The only thing lacking... is freedom.\",\n",
       " 'Socialism is a philosophy of failure, the creed of ignorance, and the gospel of envy, its inherent virtue is the equal sharing of misery.',\n",
       " 'It is the supreme art of the teacher to awaken joy in creative expression and knowledge.',\n",
       " \"Once you replace negative thoughts with positive ones, you'll start having positive results.\",\n",
       " \"You build on failure. You use it as a stepping stone. Close the door on the past. You don't try to forget the mistakes, but you don't dwell on it. You don't let it have any of your energy, or any of your time, or any of your space.\",\n",
       " 'All my life through, the new sights of Nature made me rejoice like a child.',\n",
       " \"I've learned that people will forget what you said, people will forget what you did, but people will never forget how you made them feel.\",\n",
       " 'Marriage is not a ritual or an end. It is a long, intricate, intimate dance together and nothing matters more than your own sense of balance and your choice of partner.',\n",
       " 'When obstacles arise, you change your direction to reach your goal; you do not change your decision to get there.',\n",
       " 'Time you enjoy wasting, was not wasted.',\n",
       " 'The next time some academics tell you how important diversity is, ask how many Republicans there are in their sociology department.',\n",
       " 'Faith is not the belief that God will do what you want. It is the belief that God will do what is right.',\n",
       " \"If you can't fly then run, if you can't run then walk, if you can't walk then crawl, but whatever you do you have to keep moving forward.\",\n",
       " 'I say that the most liberating thing about beauty is realizing that you are the beholder.',\n",
       " 'It is hard to imagine a more stupid or more dangerous way of making decisions than by putting those decisions in the hands of people who pay no price for being wrong.',\n",
       " 'The ultimate measure of a man is not where he stands in moments of comfort and convenience, but where he stands at times of challenge and controversy.',\n",
       " 'The soldier, above all other people, prays for peace, for he must suffer and bear the deepest wounds and scars of war.',\n",
       " 'A true leader has the confidence to stand alone, the courage to make tough decisions, and the compassion to listen to the needs of others. He does not set out to be a leader, but becomes one by the equality of his actions and the integrity of his intent.',\n",
       " 'I am a Soldier, I fight where I am told, and I win where I fight.',\n",
       " \"Trying to do the Lord's work in your own strength is the most confusing, exhausting, and tedious of all work. But when you are filled with the Holy Spirit, then the ministry of Jesus just flows out of you.\",\n",
       " \"Sports for me is when a guy walks off the court, and you really can't tell whether he won or lost, when he carries himself with pride either way.\",\n",
       " 'Expect the best. Prepare for the worst. Capitalize on what comes.',\n",
       " 'I became insane, with long intervals of horrible sanity.',\n",
       " 'Failure is a detour, not a dead-end street.',\n",
       " 'I am not a product of my circumstances. I am a product of my decisions.',\n",
       " 'You can cut all the flowers but you cannot keep spring from coming.',\n",
       " \"Life doesn't run away from nobody. Life runs at people.\",\n",
       " 'In order to succeed, your desire for success should be greater than your fear of failure.',\n",
       " \"It's difficult to think anything but pleasant thoughts while eating a homegrown tomato.\",\n",
       " 'Too many of us are not living our dreams because we are living our fears.',\n",
       " 'If the only prayer you ever say in your entire life is thank you, it will be enough.',\n",
       " \"It's just a job. Grass grows, birds fly, waves pound the sand. I beat people up.\",\n",
       " 'A man must be big enough to admit his mistakes, smart enough to profit from them, and strong enough to correct them.',\n",
       " 'Our greatest weakness lies in giving up. The most certain way to succeed is always to try just one more time.',\n",
       " 'This is one small step for a man, one giant leap for mankind.',\n",
       " \"It has been said, 'time heals all wounds.' I do not agree. The wounds remain. In time, the mind, protecting its sanity, covers them with scar tissue and the pain lessens. But it is never gone.\",\n",
       " \"I have held many things in my hands, and I have lost them all; but whatever I have placed in God's hands, that I still possess.\",\n",
       " \"Welfare's purpose should be to eliminate, as far as possible, the need for its own existence.\",\n",
       " 'Each time, before you intercede, be quiet first, and worship God in His glory. Think of what He can do, and how He delights to hear the prayers of His redeemed people. Think of your place and privilege in Christ, and expect great things!',\n",
       " \"Failure is not the opposite of success; it's part of success.\",\n",
       " 'No one has ever become poor by giving.',\n",
       " 'It is not my ability, but my response to God’s ability, that counts.',\n",
       " 'No matter what people tell you, words and ideas can change the world.',\n",
       " 'No one is born hating another person because of the color of his skin, or his background, or his religion. People must learn to hate, and if they can learn to hate, they can be taught to love, for love comes more naturally to the human heart than its opposite.',\n",
       " 'A man should never neglect his family for business.',\n",
       " 'Those who dare to fail miserably can achieve greatly.',\n",
       " 'The two most important days in your life are the day you are born and the day you find out why.',\n",
       " 'We must be global Christians with a global vision because our God is a global God.',\n",
       " 'With everything that has happened to you, you can either feel sorry for yourself or treat what has happened as a gift. Everything is either an opportunity to grow or an obstacle to keep you from growing. You get to choose.',\n",
       " 'Don’t let the noise of others’ opinions drown out your own inner voice.',\n",
       " 'History, despite its wrenching pain, cannot be unlived, but if faced with courage, need not be lived again.',\n",
       " \"How old would you be if you didn't know how old you are?\",\n",
       " 'Leadership is a privilege to better the lives of others. It is not an opportunity to satisfy personal greed.',\n",
       " 'If you have good thoughts they will shine out of your face like sunbeams and you will always look lovely.',\n",
       " 'Never cut a tree down in the wintertime. Never make a negative decision in the low time. Never make your most important decisions when you are in your worst moods. Wait. Be patient. The storm will pass. The spring will come.',\n",
       " 'An optimist stays up until midnight to see the new year in. A pessimist stays up to make sure the old year leaves.',\n",
       " 'When the going gets weird, the weird turn pro.',\n",
       " \"When a train goes through a tunnel and it gets dark, you don't throw away the ticket and jump off. You sit still and trust the engineer.\",\n",
       " 'If you think you are too small to make a difference, try sleeping with a mosquito.',\n",
       " \"God doesn't require us to succeed, he only requires that you try.\",\n",
       " 'Change your thoughts and you change your world.']"
      ]
     },
     "execution_count": 1378,
     "metadata": {},
     "output_type": "execute_result"
    }
   ],
   "source": [
    "page1_title=[]\n",
    "for i in title:\n",
    "    titles=i.text\n",
    "    page1_title.append(titles)\n",
    "page1_title"
   ]
  },
  {
   "cell_type": "code",
   "execution_count": 1362,
   "id": "42d73e10",
   "metadata": {},
   "outputs": [
    {
     "name": "stdout",
     "output_type": "stream",
     "text": [
      "100\n"
     ]
    }
   ],
   "source": [
    "print(len(page1_title))"
   ]
  },
  {
   "cell_type": "code",
   "execution_count": 1363,
   "id": "bd5478a4",
   "metadata": {},
   "outputs": [
    {
     "data": {
      "text/plain": [
       "[<selenium.webdriver.remote.webelement.WebElement (session=\"66f3f598f85b12829be0b82fd4b65352\", element=\"23a94fd7-5a5d-46ad-bc07-b569b595cea6\")>,\n",
       " <selenium.webdriver.remote.webelement.WebElement (session=\"66f3f598f85b12829be0b82fd4b65352\", element=\"3131aa1b-3e59-4174-93fe-1c00e5e95c5f\")>]"
      ]
     },
     "execution_count": 1363,
     "metadata": {},
     "output_type": "execute_result"
    }
   ],
   "source": [
    "# Finding The Author\n",
    "\n",
    "author=driver.find_elements(By.XPATH,\"//div[@class='author']\")\n",
    "\n",
    "\n",
    "author[0:2]\n"
   ]
  },
  {
   "cell_type": "code",
   "execution_count": 1364,
   "id": "3c383de1",
   "metadata": {},
   "outputs": [
    {
     "data": {
      "text/plain": [
       "['Michael Porter',\n",
       " 'Golda Meir',\n",
       " 'Theodore Roosevelt',\n",
       " 'Nelson Mandela',\n",
       " 'Erma Bombeck',\n",
       " 'John Wooden',\n",
       " 'Albert Einstein',\n",
       " 'Frank Zappa',\n",
       " 'William Faulkner',\n",
       " 'Will Rogers',\n",
       " 'Jimmy Carter',\n",
       " 'Albert Einstein',\n",
       " 'Abraham Lincoln',\n",
       " 'Steven Weinberg',\n",
       " 'Franklin D. Roosevelt',\n",
       " 'Albert Einstein',\n",
       " 'Maya Angelou',\n",
       " 'Mark Twain',\n",
       " 'Theodore Roosevelt',\n",
       " 'Michael Jackson',\n",
       " 'Martin Luther King, Jr.',\n",
       " 'C. S. Lewis',\n",
       " 'Theodore Roosevelt',\n",
       " 'Mark Twain',\n",
       " 'Abraham Lincoln',\n",
       " 'Ruth Graham',\n",
       " 'C. S. Lewis',\n",
       " 'Groucho Marx',\n",
       " 'John Lennon',\n",
       " 'Barbara Bush',\n",
       " 'Albert Einstein',\n",
       " 'Francis Chan',\n",
       " 'Henry Ford',\n",
       " 'Victor Hugo',\n",
       " 'Abu Bakr',\n",
       " 'Zig Ziglar',\n",
       " 'Winston Churchill',\n",
       " 'Zig Ziglar',\n",
       " 'John F. Kennedy',\n",
       " 'Dwight D. Eisenhower',\n",
       " 'Winston Churchill',\n",
       " 'Albert Einstein',\n",
       " 'Willie Nelson',\n",
       " 'Johnny Cash',\n",
       " 'Marie Curie',\n",
       " 'Maya Angelou',\n",
       " 'Amy Bloom',\n",
       " 'Zig Ziglar',\n",
       " 'John Lennon',\n",
       " 'Thomas Sowell',\n",
       " 'Max Lucado',\n",
       " 'Martin Luther King, Jr.',\n",
       " 'Salma Hayek',\n",
       " 'Thomas Sowell',\n",
       " 'Martin Luther King, Jr.',\n",
       " 'Douglas MacArthur',\n",
       " 'Douglas MacArthur',\n",
       " 'George S. Patton',\n",
       " 'Corrie Ten Boom',\n",
       " 'Jim Courier',\n",
       " 'Zig Ziglar',\n",
       " 'Edgar Allan Poe',\n",
       " 'Zig Ziglar',\n",
       " 'Stephen Covey',\n",
       " 'Pablo Neruda',\n",
       " 'Joe Frazier',\n",
       " 'Bill Cosby',\n",
       " 'Lewis Grizzard',\n",
       " 'Les Brown',\n",
       " 'Meister Eckhart',\n",
       " 'Muhammad Ali',\n",
       " 'John C. Maxwell',\n",
       " 'Thomas A. Edison',\n",
       " 'Neil Armstrong',\n",
       " 'Rose Kennedy',\n",
       " 'Martin Luther',\n",
       " 'Ronald Reagan',\n",
       " 'Andrew Murray',\n",
       " 'Arianna Huffington',\n",
       " 'Anne Frank',\n",
       " 'Corrie Ten Boom',\n",
       " 'Robin Williams',\n",
       " 'Nelson Mandela',\n",
       " 'Walt Disney',\n",
       " 'John F. Kennedy',\n",
       " 'Mark Twain',\n",
       " 'John Stott',\n",
       " 'Wayne Dyer',\n",
       " 'Steve Jobs',\n",
       " 'Maya Angelou',\n",
       " 'Satchel Paige',\n",
       " 'Mwai Kibaki',\n",
       " 'Roald Dahl',\n",
       " 'Robert H. Schuller',\n",
       " 'Bill Vaughan',\n",
       " 'Hunter S. Thompson',\n",
       " 'Corrie Ten Boom',\n",
       " 'Dalai Lama',\n",
       " 'Mother Teresa',\n",
       " 'Norman Vincent Peale']"
      ]
     },
     "execution_count": 1364,
     "metadata": {},
     "output_type": "execute_result"
    }
   ],
   "source": [
    "page1_author=[]\n",
    "for i in author:\n",
    "    authors=i.text\n",
    "    page1_author.append(authors)\n",
    "page1_author"
   ]
  },
  {
   "cell_type": "code",
   "execution_count": 1365,
   "id": "486cf45f",
   "metadata": {},
   "outputs": [
    {
     "name": "stdout",
     "output_type": "stream",
     "text": [
      "100\n"
     ]
    }
   ],
   "source": [
    "print(len(page1_author))"
   ]
  },
  {
   "cell_type": "code",
   "execution_count": 1368,
   "id": "e78722dd",
   "metadata": {},
   "outputs": [
    {
     "data": {
      "text/plain": [
       "[<selenium.webdriver.remote.webelement.WebElement (session=\"66f3f598f85b12829be0b82fd4b65352\", element=\"50ac3701-4e6a-41f7-a4df-807d1ba27f0e\")>,\n",
       " <selenium.webdriver.remote.webelement.WebElement (session=\"66f3f598f85b12829be0b82fd4b65352\", element=\"00cea4c7-2b02-4156-847f-009c75796fcb\")>]"
      ]
     },
     "execution_count": 1368,
     "metadata": {},
     "output_type": "execute_result"
    }
   ],
   "source": [
    "# Scrapping Type of Quotes\n",
    "\n",
    "tag=driver.find_elements(By.XPATH,\"//div[@class='tags']\")\n",
    "\n",
    "\n",
    "tag[0:2]\n",
    "\n",
    "\n",
    "\n"
   ]
  },
  {
   "cell_type": "code",
   "execution_count": 1369,
   "id": "11883b40",
   "metadata": {},
   "outputs": [
    {
     "data": {
      "text/plain": [
       "['Essence, Deep Thought, Transcendentalism',\n",
       " 'Inspiration, Past, Trying',\n",
       " 'Country, Peace, War',\n",
       " 'Inspirational, Motivational, Death',\n",
       " '4th Of July, Food, Patriotic',\n",
       " 'Inspirational, Success, Basketball',\n",
       " 'Strong, Revenge, Intelligent',\n",
       " 'Inspirational, Teacher, Religious',\n",
       " 'Truth, Honesty, Lying',\n",
       " 'Funny, Reading, Learning',\n",
       " 'Strong, Thoughtful, Compassion',\n",
       " 'Love, Funny, Life',\n",
       " 'Freedom, Men, Democracies Have',\n",
       " 'God, Religious, Atheist',\n",
       " 'Respect, Kindness, Character',\n",
       " 'Inspirational, Motivational, Change',\n",
       " 'Inspirational, Life, Inspiring',\n",
       " 'Love, Inspirational, Life',\n",
       " 'Inspiring, Country, 4th Of July',\n",
       " 'Inspirational, Dream, Hate',\n",
       " 'Love, Inspirational, Life',\n",
       " 'Forgiveness, God, Christian',\n",
       " 'Country, Men, Squares',\n",
       " 'Inspirational, Relationship, Positive',\n",
       " 'Inspirational, Motivational, Positive',\n",
       " 'Love, Friendship, Relationship',\n",
       " 'Faith, God, Christian',\n",
       " 'Art, Freedom, Political Will',\n",
       " 'Inspirational, Life, Faith',\n",
       " 'Inspirational, Life, Meaningful',\n",
       " 'Happiness, Time, Clever',\n",
       " 'Inspirational, Inspiring, Success',\n",
       " 'Love, Inspirational, Life',\n",
       " 'Music, Sound And Music, Musical Life',\n",
       " 'Adversity, Blow, Action',\n",
       " 'Positive, Thinking Of You, Attitude',\n",
       " 'Inspirational, Funny, Life',\n",
       " 'Inspirational, Life, Motivational',\n",
       " 'Inspirational, Memorial Day, Freedom',\n",
       " 'Freedom, Patriotic, Vaccines',\n",
       " 'Philosophy, Ignorance, Democratic Socialism',\n",
       " 'Inspirational, Dance, Education',\n",
       " 'Life, Change, Positive',\n",
       " 'Life, Bullying, Mistake',\n",
       " 'Life, Nature, Children',\n",
       " 'Inspirational, Life, Motivational',\n",
       " 'Marriage, Love You, Long',\n",
       " 'Inspirational, Motivational, Success',\n",
       " 'Love, Inspirational, Life',\n",
       " 'Diversity, Important, Liberty',\n",
       " 'Inspirational, God, Faith',\n",
       " 'Inspirational, Motivational, Inspiring',\n",
       " 'Beauty, Love Yourself, Your Beautiful',\n",
       " 'Business, Stupid, Government',\n",
       " 'Inspirational, Life, Motivational',\n",
       " 'Peace, Military, War',\n",
       " 'Inspirational, Leadership, Confidence',\n",
       " 'Motivational, Military, War',\n",
       " 'Christian, Jesus, Confusing',\n",
       " 'Inspirational, Success, Sports',\n",
       " 'Inspirational, Motivational, Success',\n",
       " 'Inspirational, Life, Clever',\n",
       " 'Inspirational, Death, Failure',\n",
       " 'Inspirational, Life, Motivational',\n",
       " 'Inspiring, Hope, Spring',\n",
       " 'Motivational, Running, People',\n",
       " 'Inspirational, Motivational, Positive',\n",
       " 'Summer, Food, Garden',\n",
       " 'Inspirational, Life, Motivational',\n",
       " 'Inspirational, Life, Thank You',\n",
       " 'Funny, Sports, Jobs',\n",
       " 'Being Strong, Wisdom, Stay Strong',\n",
       " 'Inspirational, Motivational, Positive',\n",
       " 'Motivational, Positive, Moon',\n",
       " 'Time, Pain, Get Well',\n",
       " 'Life, God, Christian',\n",
       " 'President, Needs, Purpose',\n",
       " 'God, Faith, Christian',\n",
       " 'Women, Failure, Successful',\n",
       " 'Inspirational, Morning, Kindness',\n",
       " 'Hiding Place, Ability, Baby Boom',\n",
       " 'Inspirational, Change, Philosophy',\n",
       " 'Love, Inspirational, Life',\n",
       " 'Inspirational, Family, Inspiring',\n",
       " 'Inspirational, Success, Courage',\n",
       " 'Inspirational, Life, Motivational',\n",
       " 'Christian, Vision, Missionary',\n",
       " 'Inspirational, Positive, Regret',\n",
       " 'Love, Inspirational, Life',\n",
       " 'Inspirational, Life, Encouragement',\n",
       " 'Happy Birthday, Baseball, Fun',\n",
       " 'Leadership, Power, Opportunity',\n",
       " 'Inspirational, Life, Positive',\n",
       " 'Inspirational, Encouraging, Patience',\n",
       " 'New Year, Fun, New Beginnings',\n",
       " 'Music, Sports, Hunting',\n",
       " 'Trust, Encouraging, Uplifting',\n",
       " 'Inspirational, Funny, Change',\n",
       " 'Success, God, Mother',\n",
       " 'Inspirational, Motivational, Change']"
      ]
     },
     "execution_count": 1369,
     "metadata": {},
     "output_type": "execute_result"
    }
   ],
   "source": [
    "page1_tag=[]\n",
    "for i in tag:\n",
    "    tags=i.text\n",
    "    page1_tag.append(tags)\n",
    "page1_tag"
   ]
  },
  {
   "cell_type": "code",
   "execution_count": 1370,
   "id": "61ea0d4c",
   "metadata": {},
   "outputs": [
    {
     "name": "stdout",
     "output_type": "stream",
     "text": [
      "100\n"
     ]
    }
   ],
   "source": [
    "print(len(page1_tag))"
   ]
  },
  {
   "cell_type": "code",
   "execution_count": 1371,
   "id": "ae68ee15",
   "metadata": {},
   "outputs": [
    {
     "data": {
      "text/html": [
       "<div>\n",
       "<style scoped>\n",
       "    .dataframe tbody tr th:only-of-type {\n",
       "        vertical-align: middle;\n",
       "    }\n",
       "\n",
       "    .dataframe tbody tr th {\n",
       "        vertical-align: top;\n",
       "    }\n",
       "\n",
       "    .dataframe thead th {\n",
       "        text-align: right;\n",
       "    }\n",
       "</style>\n",
       "<table border=\"1\" class=\"dataframe\">\n",
       "  <thead>\n",
       "    <tr style=\"text-align: right;\">\n",
       "      <th></th>\n",
       "      <th>page_title</th>\n",
       "      <th>page_author</th>\n",
       "      <th>page_tag</th>\n",
       "    </tr>\n",
       "  </thead>\n",
       "  <tbody>\n",
       "    <tr>\n",
       "      <th>0</th>\n",
       "      <td>The essence of strategy is choosing what not t...</td>\n",
       "      <td>Michael Porter</td>\n",
       "      <td>Essence, Deep Thought, Transcendentalism</td>\n",
       "    </tr>\n",
       "    <tr>\n",
       "      <th>1</th>\n",
       "      <td>One cannot and must not try to erase the past ...</td>\n",
       "      <td>Golda Meir</td>\n",
       "      <td>Inspiration, Past, Trying</td>\n",
       "    </tr>\n",
       "    <tr>\n",
       "      <th>2</th>\n",
       "      <td>Patriotism means to stand by the country. It d...</td>\n",
       "      <td>Theodore Roosevelt</td>\n",
       "      <td>Country, Peace, War</td>\n",
       "    </tr>\n",
       "    <tr>\n",
       "      <th>3</th>\n",
       "      <td>Death is something inevitable. When a man has ...</td>\n",
       "      <td>Nelson Mandela</td>\n",
       "      <td>Inspirational, Motivational, Death</td>\n",
       "    </tr>\n",
       "    <tr>\n",
       "      <th>4</th>\n",
       "      <td>You have to love a nation that celebrates its ...</td>\n",
       "      <td>Erma Bombeck</td>\n",
       "      <td>4th Of July, Food, Patriotic</td>\n",
       "    </tr>\n",
       "  </tbody>\n",
       "</table>\n",
       "</div>"
      ],
      "text/plain": [
       "                                          page_title         page_author  \\\n",
       "0  The essence of strategy is choosing what not t...      Michael Porter   \n",
       "1  One cannot and must not try to erase the past ...          Golda Meir   \n",
       "2  Patriotism means to stand by the country. It d...  Theodore Roosevelt   \n",
       "3  Death is something inevitable. When a man has ...      Nelson Mandela   \n",
       "4  You have to love a nation that celebrates its ...        Erma Bombeck   \n",
       "\n",
       "                                   page_tag  \n",
       "0  Essence, Deep Thought, Transcendentalism  \n",
       "1                 Inspiration, Past, Trying  \n",
       "2                       Country, Peace, War  \n",
       "3        Inspirational, Motivational, Death  \n",
       "4              4th Of July, Food, Patriotic  "
      ]
     },
     "execution_count": 1371,
     "metadata": {},
     "output_type": "execute_result"
    }
   ],
   "source": [
    "# Creating Data Frame for Page 1\n",
    "\n",
    "page1 = pd.DataFrame({})\n",
    "page1[\"page_title\"]=page1_title\n",
    "page1[\"page_author\"]=page1_author\n",
    "page1[\"page_tag\"]=page1_tag\n",
    "page1.head()"
   ]
  },
  {
   "cell_type": "code",
   "execution_count": 1380,
   "id": "3ded1a48",
   "metadata": {},
   "outputs": [],
   "source": [
    "# Clicking on Page 2\n",
    "\n",
    "\n",
    "next_button=driver.find_element(By.XPATH,\"//html/body/div[1]/div[2]/div/div/div/div[1]/div/div[3]/li[12]/a\")\n",
    "next_button.click()"
   ]
  },
  {
   "cell_type": "code",
   "execution_count": 1381,
   "id": "64e53127",
   "metadata": {},
   "outputs": [
    {
     "data": {
      "text/plain": [
       "[<selenium.webdriver.remote.webelement.WebElement (session=\"dd1197ad3b36ddca03cd1ff4cc8ea25b\", element=\"a184510a-8ffd-4fa6-8ddb-5467bcb346b1\")>,\n",
       " <selenium.webdriver.remote.webelement.WebElement (session=\"dd1197ad3b36ddca03cd1ff4cc8ea25b\", element=\"bf0c7c14-87f3-476f-b599-a10741b9d0a4\")>]"
      ]
     },
     "execution_count": 1381,
     "metadata": {},
     "output_type": "execute_result"
    }
   ],
   "source": [
    "# Finding The Qoute from page 2\n",
    "\n",
    "title=driver.find_elements(By.XPATH,\"//a[@class='title']\")\n",
    "\n",
    "\n",
    "title[0:2]"
   ]
  },
  {
   "cell_type": "code",
   "execution_count": 1382,
   "id": "22b4dacb",
   "metadata": {},
   "outputs": [
    {
     "data": {
      "text/plain": [
       "['Can words describe the fragrance of the very breath of spring?',\n",
       " 'When everything seems to be going against you, remember that the airplane takes off against the wind, not with it.',\n",
       " 'Faith is to believe what you do not see; the reward of this faith is to see what you believe.',\n",
       " 'I have found that if you love life, life will love you back.',\n",
       " 'To disarm the people... was the best and most effectual way to enslave them.',\n",
       " 'Today a reader, tomorrow a leader.',\n",
       " \"A dream doesn't become reality through magic; it takes sweat, determination and hard work.\",\n",
       " 'Whoever would overthrow the liberty of a nation must begin by subduing the freeness of speech.',\n",
       " \"It's better to be a lion for a day than a sheep all your life.\",\n",
       " 'Resolution One: I will live for God. Resolution Two: If no one else does, I still will.',\n",
       " 'Tell me and I forget. Teach me and I remember. Involve me and I learn.',\n",
       " 'Fear is the main source of superstition, and one of the main sources of cruelty. To conquer fear is the beginning of wisdom.',\n",
       " 'Do not be embarrassed by your failures, learn from them and start again.',\n",
       " 'Everyone should be respected as an individual, but no one idolized.',\n",
       " \"Our worst days are never so bad that you are beyond the reach of God's grace. And your best days are never so good that you are beyond the need of God's grace.\",\n",
       " 'The more you like yourself, the less you are like anyone else, which makes you unique.',\n",
       " 'If there is no struggle, there is no progress.',\n",
       " 'If more of us valued food and cheer and song above hoarded gold, it would be a merrier world.',\n",
       " 'Success consists of going from failure to failure without loss of enthusiasm.',\n",
       " \"Don't aim for success if you want it; just do what you love and believe in, and it will come naturally.\",\n",
       " \"You know why there's a Second Amendment? In case the government fails to follow the first one.\",\n",
       " 'There are no secrets to success. It is the result of preparation, hard work, and learning from failure.',\n",
       " 'Nothing will work unless you do.',\n",
       " 'The hunger for love is much more difficult to remove than the hunger for bread.',\n",
       " 'Love yourself. It is important to stay positive because beauty comes from the inside out.',\n",
       " \"Life's most persistent and urgent question is, 'What are you doing for others?'\",\n",
       " 'Be faithful in small things because it is in them that your strength lies.',\n",
       " 'There is no greater happiness for a man than approaching a door at the end of a day knowing someone on the other side of that door is waiting for the sound of his footsteps.',\n",
       " 'Underlying most arguments against the free market is a lack of belief in freedom itself.',\n",
       " 'I hear and I forget. I see and I remember. I do and I understand.',\n",
       " \"It happens to everyone as they grow up. You find out who you are and what you want, and then you realize that people you've known forever don't see things the way you do. So you keep the wonderful memories, but find yourself moving on.\",\n",
       " 'An intelligent hell would be better than a stupid paradise.',\n",
       " 'I have a dream that my four little children will one day live in a nation where they will not be judged by the color of their skin, but by the content of their character.',\n",
       " 'Never worry about numbers. Help one person at a time and always start with the person nearest you.',\n",
       " 'Run when you can, walk if you have to, crawl if you must; just never give up.',\n",
       " 'If you want others to be happy, practice compassion. If you want to be happy, practice compassion.',\n",
       " \"You are responsible for your life. You can't keep blaming somebody else for your dysfunction. Life is really about moving on.\",\n",
       " \"Don't limit yourself. Many people limit themselves to what they think they can do. You can go as far as your mind lets you. What you believe, remember, you can achieve.\",\n",
       " 'When we lose one blessing, another is often most unexpectedly given in its place.',\n",
       " 'I only regret that I have but one life to lose for my country.',\n",
       " 'The only place success comes before work is in the dictionary.',\n",
       " 'Music was my refuge. I could crawl into the space between the notes and curl my back to loneliness.',\n",
       " 'The greatest enemy to human souls is the self-righteous spirit which makes men look to themselves for salvation.',\n",
       " 'My religion is very simple. My religion is kindness.',\n",
       " 'The Marines I have seen around the world have the cleanest bodies, the filthiest minds, the highest morale, and the lowest morals of any group of animals I have ever seen. Thank God for the United States Marine Corps!',\n",
       " 'With God in charge, I believe everything will work out for the best in the end.',\n",
       " 'A government that robs Peter to pay Paul can always depend on the support of Paul.',\n",
       " \"We can't help everyone, but everyone can help someone.\",\n",
       " \"Tolerance implies no lack of commitment to one's own beliefs. Rather it condemns the oppression or persecution of others.\",\n",
       " 'Worry does not empty tomorrow of its sorrow. It empties today of its strength.',\n",
       " 'Luck is predictable; the harder you work, the luckier you get.',\n",
       " 'Beware of false knowledge; it is more dangerous than ignorance.',\n",
       " 'A successful man is one who can lay a firm foundation with the bricks others have thrown at him.',\n",
       " 'There is no substitute for hard work.',\n",
       " \"When you have a dream, you've got to grab it and never let go.\",\n",
       " 'He is happiest, be he king or peasant, who finds peace in his home.',\n",
       " 'Whoever said the pen is mightier than the sword obviously never encountered automatic weapons.',\n",
       " 'The greatest discovery of all time is that a person can change his future by merely changing his attitude.',\n",
       " 'The size of your success is measured by the strength of your desire; the size of your dream; and how you handle disappointment along the way.',\n",
       " \"The dog is a gentleman; I hope to go to his heaven not man's.\",\n",
       " \"Don't judge each day by the harvest you reap but by the seeds that you plant.\",\n",
       " 'I can be changed by what happens to me. But I refuse to be reduced by it.',\n",
       " 'To acquire knowledge, one must study; but to acquire wisdom, one must observe.',\n",
       " 'No person is your friend who demands your silence, or denies your right to grow.',\n",
       " \"If you can't make it good, at least make it look good.\",\n",
       " 'Love begins by taking care of the closest ones - the ones at home.',\n",
       " 'Our death is not an end if we can live on in our children and the younger generation. For they are us; our bodies are only wilted leaves on the tree of life.',\n",
       " 'All great change in America begins at the dinner table.',\n",
       " 'Winning takes talent; to repeat takes character.',\n",
       " \"Humility is not thinking less of yourself, it's thinking of yourself less.\",\n",
       " 'You are always a student, never a master. You have to keep moving forward.',\n",
       " \"That's the real trouble with the world, too many people grow up.\",\n",
       " 'If we want to find safe alternatives to obstetrics, we must rediscover midwifery. To rediscover midwifery is the same as giving back childbirth to women. And imagine the future if surgical teams were at the service of the midwives and the women instead of controlling them.',\n",
       " 'Women are made to be loved, not understood.',\n",
       " \"Don't wait. The time will never be just right.\",\n",
       " 'One of the greatest diseases is to be nobody to anybody.',\n",
       " 'Real loss is only possible when you love something more than you love yourself.',\n",
       " 'Opportunity is missed by most people because it is dressed in overalls and looks like work.',\n",
       " \"A mother's love for her child is like nothing else in the world. It knows no law, no pity, it dares all things and crushes down remorselessly all that stands in its path.\",\n",
       " 'When a woman becomes her own best friend life is easier.',\n",
       " 'One of the most tragic things I know about human nature is that all of us tend to put off living. We are all dreaming of some magical rose garden over the horizon instead of enjoying the roses that are blooming outside our windows today.',\n",
       " 'If your actions inspire others to dream more, learn more, do more and become more, you are a leader.',\n",
       " 'Children learn more from what you are than what you teach.',\n",
       " 'Optimism is a happiness magnet. If you stay positive, good things and good people will be drawn to you.',\n",
       " \"We cannot be both the world's leading champion of peace and the world's leading supplier of the weapons of war.\",\n",
       " \"Life isn't about finding yourself. Life is about creating yourself.\",\n",
       " 'The only thing worse than being blind is having sight but no vision.',\n",
       " \"I'd rather attempt to do something great and fail than to attempt to do nothing and succeed.\",\n",
       " 'Keep your dreams alive. Understand to achieve anything requires faith and belief in yourself, vision, hard work, determination, and dedication. Remember all things are possible for those who believe.',\n",
       " 'Whatever you want in life, other people are going to want it too. Believe in yourself enough to accept the idea that you have an equal right to it.',\n",
       " 'Even if I knew that tomorrow the world would go to pieces, I would still plant my apple tree.',\n",
       " 'Disciplining yourself to do what you know is right and important, although difficult, is the highroad to pride, self-esteem, and personal satisfaction.',\n",
       " 'All great achievements require time.',\n",
       " 'Success is not the key to happiness. Happiness is the key to success. If you love what you are doing, you will be successful.',\n",
       " 'Discipline is the bridge between goals and accomplishment.',\n",
       " 'When one door closes, another opens; but we often look so long and so regretfully upon the closed door that we do not see the one which has opened for us.',\n",
       " \"Don't find fault, find a remedy.\",\n",
       " \"I used to think the worst thing in life was to end up all alone. It's not. The worst thing in life is to end up with people who make you feel all alone.\",\n",
       " \"Friends and good manners will carry you where money won't go.\",\n",
       " 'If you want to make a permanent change, stop focusing on the size of your problems and start focusing on the size of you!']"
      ]
     },
     "execution_count": 1382,
     "metadata": {},
     "output_type": "execute_result"
    }
   ],
   "source": [
    "page2_title=[]\n",
    "for i in title:\n",
    "    titles=i.text\n",
    "    page2_title.append(titles)\n",
    "page2_title"
   ]
  },
  {
   "cell_type": "code",
   "execution_count": 1383,
   "id": "277680a0",
   "metadata": {},
   "outputs": [
    {
     "name": "stdout",
     "output_type": "stream",
     "text": [
      "100\n"
     ]
    }
   ],
   "source": [
    "print(len(page2_title))"
   ]
  },
  {
   "cell_type": "code",
   "execution_count": 1384,
   "id": "6ca6e917",
   "metadata": {},
   "outputs": [
    {
     "data": {
      "text/plain": [
       "[<selenium.webdriver.remote.webelement.WebElement (session=\"dd1197ad3b36ddca03cd1ff4cc8ea25b\", element=\"837ccf81-a86a-42c6-a028-a12e87a711eb\")>,\n",
       " <selenium.webdriver.remote.webelement.WebElement (session=\"dd1197ad3b36ddca03cd1ff4cc8ea25b\", element=\"3aa623e0-ad85-462b-9fc2-52a8a6b26b20\")>]"
      ]
     },
     "execution_count": 1384,
     "metadata": {},
     "output_type": "execute_result"
    }
   ],
   "source": [
    "# Finding The Author from Page 2\n",
    "\n",
    "author=driver.find_elements(By.XPATH,\"//div[@class='author']\")\n",
    "\n",
    "\n",
    "author[0:2]"
   ]
  },
  {
   "cell_type": "code",
   "execution_count": 1385,
   "id": "f8c37555",
   "metadata": {},
   "outputs": [
    {
     "data": {
      "text/plain": [
       "['Neltje Blanchan',\n",
       " 'Henry Ford',\n",
       " 'Saint Augustine',\n",
       " 'Arthur Rubinstein',\n",
       " 'George Mason',\n",
       " 'Margaret Fuller',\n",
       " 'Colin Powell',\n",
       " 'Benjamin Franklin',\n",
       " 'Elizabeth Kenny',\n",
       " 'Jonathan Edwards',\n",
       " 'Xunzi',\n",
       " 'Bertrand Russell',\n",
       " 'Richard Branson',\n",
       " 'Albert Einstein',\n",
       " 'Jerry Bridges',\n",
       " 'Walt Disney',\n",
       " 'Frederick Douglass',\n",
       " 'J. R. R. Tolkien',\n",
       " 'Winston Churchill',\n",
       " 'David Frost',\n",
       " 'Rush Limbaugh',\n",
       " 'Colin Powell',\n",
       " 'Maya Angelou',\n",
       " 'Mother Teresa',\n",
       " 'Jenn Proske',\n",
       " 'Martin Luther King, Jr.',\n",
       " 'Mother Teresa',\n",
       " 'Ronald Reagan',\n",
       " 'Milton Friedman',\n",
       " 'Confucius',\n",
       " 'Nicholas Sparks',\n",
       " 'Victor Hugo',\n",
       " 'Martin Luther King, Jr.',\n",
       " 'Mother Teresa',\n",
       " 'Dean Karnazes',\n",
       " 'Dalai Lama',\n",
       " 'Oprah Winfrey',\n",
       " 'Mary Kay Ash',\n",
       " 'C. S. Lewis',\n",
       " 'Nathan Hale',\n",
       " 'Vince Lombardi',\n",
       " 'Maya Angelou',\n",
       " 'Charles Spurgeon',\n",
       " 'Dalai Lama',\n",
       " 'Eleanor Roosevelt',\n",
       " 'Henry Ford',\n",
       " 'George Bernard Shaw',\n",
       " 'Ronald Reagan',\n",
       " 'John F. Kennedy',\n",
       " 'Corrie Ten Boom',\n",
       " 'Brian Tracy',\n",
       " 'George Bernard Shaw',\n",
       " 'David Brinkley',\n",
       " 'Thomas A. Edison',\n",
       " 'Carol Burnett',\n",
       " 'Johann Wolfgang von Goethe',\n",
       " 'Douglas MacArthur',\n",
       " 'Oprah Winfrey',\n",
       " 'Robert Kiyosaki',\n",
       " 'Mark Twain',\n",
       " 'Robert Louis Stevenson',\n",
       " 'Maya Angelou',\n",
       " 'Marilyn vos Savant',\n",
       " 'Alice Walker',\n",
       " 'Bill Gates',\n",
       " 'Mother Teresa',\n",
       " 'Albert Einstein',\n",
       " 'Ronald Reagan',\n",
       " 'John Wooden',\n",
       " 'C. S. Lewis',\n",
       " 'Conrad Hall',\n",
       " 'Walt Disney',\n",
       " 'Michel Odent',\n",
       " 'Oscar Wilde',\n",
       " 'Napoleon Hill',\n",
       " 'Mother Teresa',\n",
       " 'Robin Williams',\n",
       " 'Thomas A. Edison',\n",
       " 'Agatha Christie',\n",
       " 'Diane von Furstenberg',\n",
       " 'Dale Carnegie',\n",
       " 'John Quincy Adams',\n",
       " 'W. E. B. Du Bois',\n",
       " 'Mary Lou Retton',\n",
       " 'Jimmy Carter',\n",
       " 'George Bernard Shaw',\n",
       " 'Helen Keller',\n",
       " 'Robert H. Schuller',\n",
       " 'Gail Devers',\n",
       " 'Diane Sawyer',\n",
       " 'Martin Luther',\n",
       " 'Margaret Thatcher',\n",
       " 'Maya Angelou',\n",
       " 'Albert Schweitzer',\n",
       " 'Jim Rohn',\n",
       " 'Alexander Graham Bell',\n",
       " 'Henry Ford',\n",
       " 'Robin Williams',\n",
       " 'Margaret Walker',\n",
       " 'T. Harv Eker']"
      ]
     },
     "execution_count": 1385,
     "metadata": {},
     "output_type": "execute_result"
    }
   ],
   "source": [
    "page2_author=[]\n",
    "for i in author:\n",
    "    authors=i.text\n",
    "    page2_author.append(authors)\n",
    "page2_author"
   ]
  },
  {
   "cell_type": "code",
   "execution_count": 1386,
   "id": "0cf7df9e",
   "metadata": {},
   "outputs": [
    {
     "name": "stdout",
     "output_type": "stream",
     "text": [
      "100\n"
     ]
    }
   ],
   "source": [
    "print(len(page2_author))"
   ]
  },
  {
   "cell_type": "code",
   "execution_count": 1390,
   "id": "cc3d6ee0",
   "metadata": {},
   "outputs": [
    {
     "data": {
      "text/plain": [
       "[<selenium.webdriver.remote.webelement.WebElement (session=\"dd1197ad3b36ddca03cd1ff4cc8ea25b\", element=\"5890c120-2641-4938-ac9f-0acb41bd0a43\")>,\n",
       " <selenium.webdriver.remote.webelement.WebElement (session=\"dd1197ad3b36ddca03cd1ff4cc8ea25b\", element=\"8b9d8160-c960-45ec-85a5-9dc2196547b5\")>]"
      ]
     },
     "execution_count": 1390,
     "metadata": {},
     "output_type": "execute_result"
    }
   ],
   "source": [
    "# Scrapping Type of Quotes from page 2\n",
    "\n",
    "tag=driver.find_elements(By.XPATH,\"//div[@class='tags']\")\n",
    "\n",
    "\n",
    "tag[0:2]"
   ]
  },
  {
   "cell_type": "code",
   "execution_count": 1391,
   "id": "f214522c",
   "metadata": {},
   "outputs": [
    {
     "data": {
      "text/plain": [
       "['Spring, April, Fragrance',\n",
       " 'Inspirational, Motivational, Positive',\n",
       " 'Inspirational, Faith, Spiritual',\n",
       " 'Love, Inspirational, Life',\n",
       " 'Strength, Peace, Gun',\n",
       " 'Inspirational, Happiness, Leadership',\n",
       " 'Motivational, Dream, Determination',\n",
       " 'Freedom, Independent, Science',\n",
       " 'Life, Being Strong, Wisdom',\n",
       " 'Happy, God, New Year',\n",
       " 'Inspiring, Leadership, Teacher',\n",
       " 'Inspirational, Motivational, Fear',\n",
       " 'Inspirational, Success, Business',\n",
       " 'Inspirational, Respect, Idols',\n",
       " 'God, Bridges, Grace',\n",
       " 'Inspirational, Life, Self Esteem',\n",
       " 'Inspirational, Change, Moving On',\n",
       " 'Life, Change, Happiness',\n",
       " 'Inspirational, Life, Motivational',\n",
       " 'Love, Success, Encouraging',\n",
       " 'Government, Gun Control, Second Amendment',\n",
       " 'Inspirational, Life, Motivational',\n",
       " 'Inspirational, Motivational, Moving On',\n",
       " 'Love, Life, Positive',\n",
       " 'Love, Loving Yourself, Stay Positive',\n",
       " 'Inspirational, Life, Motivational',\n",
       " 'Inspirational, Life, Motivational',\n",
       " 'Love, Marriage, Wedding',\n",
       " 'Freedom, Liberty, Libertarian',\n",
       " 'Inspirational, Motivational, Positive',\n",
       " 'Moving On, Growing Up, Memories',\n",
       " 'Art, Philosophy, Crazy',\n",
       " 'Dream, Kings, Children',\n",
       " 'Self Esteem, Helping Others, Numbers',\n",
       " 'Inspirational, Motivational, Sports',\n",
       " 'Inspirational, Happiness, Happy',\n",
       " 'Happiness, Moving On, Letting Go',\n",
       " 'Inspirational, Motivational, Success',\n",
       " 'Inspirational, Blessed, Blessing',\n",
       " 'Inspirational, Life, Country',\n",
       " 'Inspirational, Funny, Life',\n",
       " 'Inspirational, Music, Lonely',\n",
       " 'Men, Self, Soul',\n",
       " 'Inspirational, Success, God',\n",
       " 'Thank You, Military, Marine',\n",
       " 'Trust, God, Confidence',\n",
       " 'Inspirational, Funny, Witty',\n",
       " 'Inspirational, Motivational, Inspiring',\n",
       " 'Motivational, Commitment, Tolerance',\n",
       " 'Inspirational, Life, Motivational',\n",
       " 'Motivational, Perseverance, Work',\n",
       " 'Ignorance, Knowledge, Hunting',\n",
       " 'Inspirational, Motivational, Positive',\n",
       " 'Motivational, Perseverance, Morning',\n",
       " 'Inspirational, Success, Letting Go',\n",
       " 'Happiness, Being Happy, Peace',\n",
       " 'Military, Army, Warfare',\n",
       " 'Inspirational, Change, Positive',\n",
       " 'Strength, Inspiring, Dream',\n",
       " 'Dog, Men, Animal',\n",
       " 'Inspirational, Life, Motivational',\n",
       " 'Inspirational, Motivational, Change',\n",
       " 'Inspirational, Leadership, Wise',\n",
       " 'Friendship, Fake Friends, Memorable',\n",
       " 'Inspirational, Money, Business',\n",
       " 'Love, Marriage, Home',\n",
       " 'Life, Death, Wisdom',\n",
       " 'Change, America, Presidential',\n",
       " 'Basketball, Motivational Sports, Character',\n",
       " 'Inspirational, Inspiring, Christian',\n",
       " 'Inspirational, Education, Moving',\n",
       " 'Inspirational, Children, Growing Up',\n",
       " 'Inspiring, Children, Team',\n",
       " 'Love, Funny, Sarcastic',\n",
       " 'Inspirational, Motivational, Change',\n",
       " 'Inspirational, Relationship, Inspiring',\n",
       " 'Death, Philosophy, Real',\n",
       " 'Funny, Life, Motivational',\n",
       " 'Love, Birthday, Family',\n",
       " 'Life, Friendship, Best Friend',\n",
       " 'Inspirational, Life, Motivational',\n",
       " 'Inspirational, Life, Motivational',\n",
       " 'Teacher, Peace, Children',\n",
       " 'Inspirational, Life, Positive',\n",
       " 'Peace, War, Memorable',\n",
       " 'Inspirational, Life, Motivational',\n",
       " 'Inspirational, Women, Sight',\n",
       " 'Motivational, Success, Encouragement',\n",
       " 'Motivational, Faith, Sports',\n",
       " 'Positive, Inspiring, Success',\n",
       " 'Inspirational, Faith, Hope',\n",
       " 'Love, Inspirational, Motivational',\n",
       " 'Success, Encouraging, Patience',\n",
       " 'Love, Inspirational, Motivational',\n",
       " 'Inspirational, Life, Motivational',\n",
       " 'Love, Inspirational, Life',\n",
       " 'Inspirational, Motivational, Positive',\n",
       " 'Love, Life, Lonely',\n",
       " 'Love, Inspirational, Friendship',\n",
       " 'Inspirational, Change, Inspiring']"
      ]
     },
     "execution_count": 1391,
     "metadata": {},
     "output_type": "execute_result"
    }
   ],
   "source": [
    "page2_tag=[]\n",
    "for i in tag:\n",
    "    tags=i.text\n",
    "    page2_tag.append(tags)\n",
    "page2_tag"
   ]
  },
  {
   "cell_type": "code",
   "execution_count": 1392,
   "id": "f66116b6",
   "metadata": {},
   "outputs": [
    {
     "name": "stdout",
     "output_type": "stream",
     "text": [
      "100\n"
     ]
    }
   ],
   "source": [
    "print(len(page2_tag))"
   ]
  },
  {
   "cell_type": "code",
   "execution_count": 1393,
   "id": "d21c298a",
   "metadata": {},
   "outputs": [
    {
     "data": {
      "text/html": [
       "<div>\n",
       "<style scoped>\n",
       "    .dataframe tbody tr th:only-of-type {\n",
       "        vertical-align: middle;\n",
       "    }\n",
       "\n",
       "    .dataframe tbody tr th {\n",
       "        vertical-align: top;\n",
       "    }\n",
       "\n",
       "    .dataframe thead th {\n",
       "        text-align: right;\n",
       "    }\n",
       "</style>\n",
       "<table border=\"1\" class=\"dataframe\">\n",
       "  <thead>\n",
       "    <tr style=\"text-align: right;\">\n",
       "      <th></th>\n",
       "      <th>page_title</th>\n",
       "      <th>page_author</th>\n",
       "      <th>page_tag</th>\n",
       "    </tr>\n",
       "  </thead>\n",
       "  <tbody>\n",
       "    <tr>\n",
       "      <th>0</th>\n",
       "      <td>Can words describe the fragrance of the very b...</td>\n",
       "      <td>Neltje Blanchan</td>\n",
       "      <td>Spring, April, Fragrance</td>\n",
       "    </tr>\n",
       "    <tr>\n",
       "      <th>1</th>\n",
       "      <td>When everything seems to be going against you,...</td>\n",
       "      <td>Henry Ford</td>\n",
       "      <td>Inspirational, Motivational, Positive</td>\n",
       "    </tr>\n",
       "    <tr>\n",
       "      <th>2</th>\n",
       "      <td>Faith is to believe what you do not see; the r...</td>\n",
       "      <td>Saint Augustine</td>\n",
       "      <td>Inspirational, Faith, Spiritual</td>\n",
       "    </tr>\n",
       "    <tr>\n",
       "      <th>3</th>\n",
       "      <td>I have found that if you love life, life will ...</td>\n",
       "      <td>Arthur Rubinstein</td>\n",
       "      <td>Love, Inspirational, Life</td>\n",
       "    </tr>\n",
       "    <tr>\n",
       "      <th>4</th>\n",
       "      <td>To disarm the people... was the best and most ...</td>\n",
       "      <td>George Mason</td>\n",
       "      <td>Strength, Peace, Gun</td>\n",
       "    </tr>\n",
       "  </tbody>\n",
       "</table>\n",
       "</div>"
      ],
      "text/plain": [
       "                                          page_title        page_author  \\\n",
       "0  Can words describe the fragrance of the very b...    Neltje Blanchan   \n",
       "1  When everything seems to be going against you,...         Henry Ford   \n",
       "2  Faith is to believe what you do not see; the r...    Saint Augustine   \n",
       "3  I have found that if you love life, life will ...  Arthur Rubinstein   \n",
       "4  To disarm the people... was the best and most ...       George Mason   \n",
       "\n",
       "                                page_tag  \n",
       "0               Spring, April, Fragrance  \n",
       "1  Inspirational, Motivational, Positive  \n",
       "2        Inspirational, Faith, Spiritual  \n",
       "3              Love, Inspirational, Life  \n",
       "4                   Strength, Peace, Gun  "
      ]
     },
     "execution_count": 1393,
     "metadata": {},
     "output_type": "execute_result"
    }
   ],
   "source": [
    "# Creating Data Frame for Page 2\n",
    "\n",
    "page2 = pd.DataFrame({})\n",
    "page2[\"page_title\"]=page2_title\n",
    "page2[\"page_author\"]=page2_author\n",
    "page2[\"page_tag\"]=page2_tag\n",
    "page2.head()"
   ]
  },
  {
   "cell_type": "code",
   "execution_count": 1396,
   "id": "17e1ddb3",
   "metadata": {},
   "outputs": [],
   "source": [
    "# Clicking on Page 3\n",
    "\n",
    "\n",
    "next_button=driver.find_element(By.XPATH,\"/html/body/div[1]/div[2]/div/div/div/div[1]/div/div[3]/li[13]/a\")\n",
    "next_button.click()"
   ]
  },
  {
   "cell_type": "code",
   "execution_count": 1397,
   "id": "2cb4e66c",
   "metadata": {},
   "outputs": [
    {
     "data": {
      "text/plain": [
       "[<selenium.webdriver.remote.webelement.WebElement (session=\"dd1197ad3b36ddca03cd1ff4cc8ea25b\", element=\"2cc09888-6857-4ac1-a862-05edf8df5f51\")>,\n",
       " <selenium.webdriver.remote.webelement.WebElement (session=\"dd1197ad3b36ddca03cd1ff4cc8ea25b\", element=\"a7e3de81-2aab-4ee0-8839-6b3b81d2bc59\")>]"
      ]
     },
     "execution_count": 1397,
     "metadata": {},
     "output_type": "execute_result"
    }
   ],
   "source": [
    "# Finding The Qoute from page 3\n",
    "\n",
    "title=driver.find_elements(By.XPATH,\"//a[@class='title']\")\n",
    "\n",
    "\n",
    "title[0:2]"
   ]
  },
  {
   "cell_type": "code",
   "execution_count": 1398,
   "id": "b5f0f393",
   "metadata": {},
   "outputs": [
    {
     "data": {
      "text/plain": [
       "['Success is not final, failure is not fatal: it is the courage to continue that counts.',\n",
       " 'A day of worry is more exhausting than a week of work.',\n",
       " 'Strive not to be a success, but rather to be of value.',\n",
       " 'Cancer can take away all of my physical abilities. It cannot touch my mind, it cannot touch my heart, and it cannot touch my soul.',\n",
       " 'Honesty is the first chapter in the book of wisdom.',\n",
       " 'Build your own dreams, or someone else will hire you to build theirs.',\n",
       " 'Intense love does not measure, it just gives.',\n",
       " \"Try to be a rainbow in someone's cloud.\",\n",
       " 'A failure is not always a mistake, it may simply be the best one can do under the circumstances. The real mistake is to stop trying.',\n",
       " 'Whatever we plant in our subconscious mind and nourish with repetition and emotion will one day become a reality.',\n",
       " 'I have decided to stick with love. Hate is too great a burden to bear.',\n",
       " 'All of our dreams can come true...',\n",
       " 'If I were not a physicist, I would probably be a musician. I often think in music. I live my daydreams in music. I see my life in terms of music.',\n",
       " 'Your most unhappy customers are your greatest source of learning.',\n",
       " 'Coming together is a beginning; keeping together is progress; working together is success.',\n",
       " 'Never do anything against conscience even if the state demands it.',\n",
       " 'The future belongs to those who believe in the beauty of their dreams.',\n",
       " 'Baseball was, is and always will be to me the best game in the world.',\n",
       " 'Go for it now. The future is promised to no one.',\n",
       " 'Monsters are real, and ghosts are real too. They live inside us, and sometimes, they win.',\n",
       " 'Never, never and never again shall it be that this beautiful land will again experience the oppression of one by another.',\n",
       " \"When you can't make them see the light, make them feel the heat.\",\n",
       " 'Action may not always bring happiness; but there is no happiness without action.',\n",
       " 'The way to get started is to quit talking and begin doing.',\n",
       " 'The soul always knows what to do to heal itself. The challenge is to silence the mind',\n",
       " 'What can you do to promote world peace? Go home and love your family.',\n",
       " \"You don't have to see the whole staircase, just take the first step.\",\n",
       " 'Our life is what our thoughts make it.',\n",
       " 'Delete the negative; accentuate the positive!',\n",
       " 'Boys, you must strive to find your own voice, because the longer you wait to begin the less likely you are to find it at all.',\n",
       " \"There are two ways of exerting one's strength: one is pushing down, the other is pulling up.\",\n",
       " 'Great minds have purposes; others have wishes.',\n",
       " \"Don't waste a minute not being happy. If one window closes, run to the next window- or break down a door.\",\n",
       " 'A good conscience is a continual Christmas.',\n",
       " \"A mother's arms are more comforting than anyone else's.\",\n",
       " 'Before anything else, preparation is the key to success.',\n",
       " 'Laziness may appear attractive, but work gives satisfaction.',\n",
       " 'Sometimes I am two people. Johnny is the nice one. Cash causes all the trouble. They fight.',\n",
       " 'Yesterday is not ours to recover, but tomorrow is ours to win or lose.',\n",
       " 'It does not matter how slowly you go as long as you do not stop.',\n",
       " 'Leadership is the capacity to translate vision into reality.',\n",
       " 'If you take responsibility for yourself you will develop a hunger to accomplish your dreams.',\n",
       " 'Success is getting what you want. Happiness is wanting what you get.',\n",
       " 'Success is having to worry about every damn thing in the world, except money.',\n",
       " 'Optimism is the faith that leads to achievement. Nothing can be done without hope and confidence.',\n",
       " 'No one remembers who came in second.',\n",
       " 'The way I see it, if you want the rainbow, you gotta put up with the rain.',\n",
       " 'The object of war is not to die for your country but to make the other bastard die for his.',\n",
       " 'Formal education will make you a living; self-education will make you a fortune.',\n",
       " 'A warm smile is the universal language of kindness.',\n",
       " 'To improve is to change; to be perfect is to change often.',\n",
       " \"I, not events, have the power to make me happy or unhappy today. I can choose which it shall be. Yesterday is dead, tomorrow hasn't arrived yet. I have just one day, today, and I'm going to be happy in it.\",\n",
       " \"Don't be pushed by your problems. Be led by your dreams.\",\n",
       " \"Don't wait around for other people to be happy for you. Any happiness you get you've got to make yourself.\",\n",
       " \"Our prime purpose in this life is to help others. And if you can't help them, at least don't hurt them.\",\n",
       " 'The amount of good luck coming your way depends on your willingness to act.',\n",
       " 'How people treat you is their karma; how you react is yours.',\n",
       " \"Be happy in the moment, that's enough. Each moment is all we need, not more.\",\n",
       " 'Live without pretending, love without depending, listen without defending, speak without offending.',\n",
       " \"I believe that everything happens for a reason. People change so that you can learn to let go, things go wrong so that you appreciate them when they're right, you believe lies so you eventually learn to trust no one but yourself, and sometimes good things fall apart so better things can fall together.\",\n",
       " \"Promise me you'll always remember: You're braver than you believe, and stronger than you seem, and smarter than you think.\",\n",
       " \"If winning isn't everything, why do they keep score?\",\n",
       " 'The only person you are destined to become is the person you decide to be.',\n",
       " 'Happiness is not something you postpone for the future; it is something you design for the present.',\n",
       " 'Love is a fruit in season at all times, and within reach of every hand.',\n",
       " \"You may be disappointed if you fail, but you are doomed if you don't try.\",\n",
       " \"My home is in Heaven. I'm just traveling through this world.\",\n",
       " \"Opportunities are usually disguised as hard work, so most people don't recognize them.\",\n",
       " 'History does not long entrust the care of freedom to the weak or the timid.',\n",
       " 'We all have ability. The difference is how we use it.',\n",
       " 'You know, one day you look at the person and you see something more than you did the night before. Like a switch has been flicked somewhere. And the person who was just a friend is... suddenly the only person you can ever imagine yourself with.',\n",
       " 'Too often we underestimate the power of a touch, a smile, a kind word, a listening ear, an honest compliment, or the smallest act of caring, all of which have the potential to turn a life around.',\n",
       " \"Let others lead small lives, but not you. Let others argue over small things, but not you. Let others cry over small hurts, but not you. Let others leave their future in someone else's hands, but not you.\",\n",
       " \"The Marine Corps has just been called by the New York Times, 'The elite of this country.' I think it is the elite of the world.\",\n",
       " \"I didn't fail the test, I just found 100 ways to do it wrong.\",\n",
       " 'Our life is frittered away by detail... simplify, simplify.',\n",
       " 'Strength does not come from physical capacity. It comes from an indomitable will.',\n",
       " 'All successful people, men and women, are big dreamers. They imagine what their future could be, ideal in every respect, and then they work every day toward their distant vision, that goal or purpose.',\n",
       " \"Never limit yourself because of others' limited imagination; never limit others because of your own limited imagination.\",\n",
       " 'Wherever you go, go with all your heart.',\n",
       " \"I wasn't afraid to fail. Something good always comes out of failure.\",\n",
       " \"I don't believe you have to be better than everybody else. I believe you have to be better than you ever thought you could be.\",\n",
       " 'A life spent making mistakes is not only more honorable, but more useful than a life spent doing nothing.',\n",
       " 'Getting over a painful experience is much like crossing monkey bars. You have to let go at some point in order to move forward.',\n",
       " 'We can complain because rose bushes have thorns, or rejoice because thorn bushes have roses.',\n",
       " \"How do you tell a communist? Well, it's someone who reads Marx and Lenin. And how do you tell an anti-Communist? It's someone who understands Marx and Lenin.\",\n",
       " \"I don't know the key to success, but the key to failure is trying to please everybody.\",\n",
       " 'The primary cause of unhappiness is never the situation but your thoughts about it.',\n",
       " 'Only those who will risk going too far can possibly find out how far one can go.',\n",
       " 'To change a habit, make a conscious decision, then act out the new behavior.',\n",
       " \"Don't worry about failure; you only have to be right once.\",\n",
       " \"Your present circumstances don't determine where you can go; they merely determine where you start.\",\n",
       " 'If you are not willing to risk the unusual, you will have to settle for the ordinary.',\n",
       " 'Happiness is when what you think, what you say, and what you do are in harmony.',\n",
       " 'The past cannot be changed. The future is yet in your power.',\n",
       " \"Don't watch the clock; do what it does. Keep going.\",\n",
       " \"Don't wait for extraordinary opportunities. Seize common occasions and make them great. Weak men wait for opportunities; strong men make them.\",\n",
       " 'I celebrated Thanksgiving in an old-fashioned way. I invited everyone in my neighborhood to my house, we had an enormous feast, and then I killed them and took their land.',\n",
       " \"If you're not careful, the newspapers will have you hating the people who are being oppressed, and loving the people who are doing the oppressing.\",\n",
       " \"A dress should be tight enough to show you're a woman and loose enough to prove you're a lady.\"]"
      ]
     },
     "execution_count": 1398,
     "metadata": {},
     "output_type": "execute_result"
    }
   ],
   "source": [
    "page3_title=[]\n",
    "for i in title:\n",
    "    titles=i.text\n",
    "    page3_title.append(titles)\n",
    "page3_title"
   ]
  },
  {
   "cell_type": "code",
   "execution_count": 1399,
   "id": "4e24bd2b",
   "metadata": {},
   "outputs": [
    {
     "name": "stdout",
     "output_type": "stream",
     "text": [
      "100\n"
     ]
    }
   ],
   "source": [
    "print(len(page3_title))"
   ]
  },
  {
   "cell_type": "code",
   "execution_count": 1400,
   "id": "16dbc1e7",
   "metadata": {},
   "outputs": [
    {
     "data": {
      "text/plain": [
       "[<selenium.webdriver.remote.webelement.WebElement (session=\"dd1197ad3b36ddca03cd1ff4cc8ea25b\", element=\"9492ce6a-6ff5-4b1b-82b1-937cd7bd5742\")>,\n",
       " <selenium.webdriver.remote.webelement.WebElement (session=\"dd1197ad3b36ddca03cd1ff4cc8ea25b\", element=\"19a520d0-8611-46b0-8324-bedca7fad711\")>]"
      ]
     },
     "execution_count": 1400,
     "metadata": {},
     "output_type": "execute_result"
    }
   ],
   "source": [
    "# Finding The Author from Page 3\n",
    "\n",
    "author=driver.find_elements(By.XPATH,\"//div[@class='author']\")\n",
    "\n",
    "\n",
    "author[0:2]"
   ]
  },
  {
   "cell_type": "code",
   "execution_count": 1401,
   "id": "796ec643",
   "metadata": {},
   "outputs": [
    {
     "data": {
      "text/plain": [
       "['Winston Churchill',\n",
       " 'John Lubbock',\n",
       " 'Albert Einstein',\n",
       " 'Jim Valvano',\n",
       " 'Thomas Jefferson',\n",
       " 'Farrah Gray',\n",
       " 'Mother Teresa',\n",
       " 'Maya Angelou',\n",
       " 'B. F. Skinner',\n",
       " 'Earl Nightingale',\n",
       " 'Martin Luther King, Jr.',\n",
       " 'Walt Disney',\n",
       " 'Albert Einstein',\n",
       " 'Bill Gates',\n",
       " 'Henry Ford',\n",
       " 'Albert Einstein',\n",
       " 'Eleanor Roosevelt',\n",
       " 'Babe Ruth',\n",
       " 'Wayne Dyer',\n",
       " 'Stephen King',\n",
       " 'Nelson Mandela',\n",
       " 'Ronald Reagan',\n",
       " 'Benjamin Disraeli',\n",
       " 'Walt Disney',\n",
       " 'Caroline Myss',\n",
       " 'Mother Teresa',\n",
       " 'Martin Luther King, Jr.',\n",
       " 'Marcus Aurelius',\n",
       " 'Donna Karan',\n",
       " 'Robin Williams',\n",
       " 'Booker T. Washington',\n",
       " 'Washington Irving',\n",
       " 'Brooke Shields',\n",
       " 'Benjamin Franklin',\n",
       " 'Princess Diana',\n",
       " 'Alexander Graham Bell',\n",
       " 'Anne Frank',\n",
       " 'Johnny Cash',\n",
       " 'Lyndon B. Johnson',\n",
       " 'Confucius',\n",
       " 'Warren G. Bennis',\n",
       " 'Les Brown',\n",
       " 'Dale Carnegie',\n",
       " 'Johnny Cash',\n",
       " 'Helen Keller',\n",
       " 'Walter Hagen',\n",
       " 'Dolly Parton',\n",
       " 'George S. Patton',\n",
       " 'Jim Rohn',\n",
       " 'William Arthur Ward',\n",
       " 'Winston Churchill',\n",
       " 'Groucho Marx',\n",
       " 'Ralph Waldo Emerson',\n",
       " 'Alice Walker',\n",
       " 'Dalai Lama',\n",
       " 'Barbara Sher',\n",
       " 'Wayne Dyer',\n",
       " 'Mother Teresa',\n",
       " 'Drake',\n",
       " 'Marilyn Monroe',\n",
       " 'A. A. Milne',\n",
       " 'Vince Lombardi',\n",
       " 'Ralph Waldo Emerson',\n",
       " 'Jim Rohn',\n",
       " 'Mother Teresa',\n",
       " 'Beverly Sills',\n",
       " 'Billy Graham',\n",
       " 'Ann Landers',\n",
       " 'Dwight D. Eisenhower',\n",
       " 'Stevie Wonder',\n",
       " 'Gillian Anderson',\n",
       " 'Leo Buscaglia',\n",
       " 'Jim Rohn',\n",
       " 'William Halsey',\n",
       " 'Benjamin Franklin',\n",
       " 'Henry David Thoreau',\n",
       " 'Mahatma Gandhi',\n",
       " 'Brian Tracy',\n",
       " 'Mae Jemison',\n",
       " 'Confucius',\n",
       " 'Anne Baxter',\n",
       " 'Ken Venturi',\n",
       " 'George Bernard Shaw',\n",
       " 'C. S. Lewis',\n",
       " 'Abraham Lincoln',\n",
       " 'Ronald Reagan',\n",
       " 'Bill Cosby',\n",
       " 'Eckhart Tolle',\n",
       " 'T. S. Eliot',\n",
       " 'Maxwell Maltz',\n",
       " 'Drew Houston',\n",
       " 'Nido R Qubein',\n",
       " 'Jim Rohn',\n",
       " 'Mahatma Gandhi',\n",
       " 'Mary Pickford',\n",
       " 'Sam Levenson',\n",
       " 'Orison Swett Marden',\n",
       " 'Jon Stewart',\n",
       " 'Malcolm X',\n",
       " 'Edith Head']"
      ]
     },
     "execution_count": 1401,
     "metadata": {},
     "output_type": "execute_result"
    }
   ],
   "source": [
    "page3_author=[]\n",
    "for i in author:\n",
    "    authors=i.text\n",
    "    page3_author.append(authors)\n",
    "page3_author"
   ]
  },
  {
   "cell_type": "code",
   "execution_count": 1402,
   "id": "5da7f756",
   "metadata": {},
   "outputs": [
    {
     "name": "stdout",
     "output_type": "stream",
     "text": [
      "100\n"
     ]
    }
   ],
   "source": [
    "print(len(page3_author))"
   ]
  },
  {
   "cell_type": "code",
   "execution_count": 1403,
   "id": "471b5468",
   "metadata": {},
   "outputs": [
    {
     "data": {
      "text/plain": [
       "[<selenium.webdriver.remote.webelement.WebElement (session=\"dd1197ad3b36ddca03cd1ff4cc8ea25b\", element=\"09e4281b-fd1a-44f4-b936-b633c26a3577\")>,\n",
       " <selenium.webdriver.remote.webelement.WebElement (session=\"dd1197ad3b36ddca03cd1ff4cc8ea25b\", element=\"b1269925-590f-4421-96f7-e9e7f0d6d1ec\")>]"
      ]
     },
     "execution_count": 1403,
     "metadata": {},
     "output_type": "execute_result"
    }
   ],
   "source": [
    "# Scrapping Type of Quotes from page 3\n",
    "\n",
    "tag=driver.find_elements(By.XPATH,\"//div[@class='tags']\")\n",
    "\n",
    "\n",
    "tag[0:2]"
   ]
  },
  {
   "cell_type": "code",
   "execution_count": 1404,
   "id": "fd1e5aaf",
   "metadata": {},
   "outputs": [
    {
     "data": {
      "text/plain": [
       "['Inspirational, Motivational, Positive',\n",
       " 'Motivational, Happiness, Letting Go',\n",
       " 'Inspirational, Motivational, Positive',\n",
       " 'Encouraging, Basketball, Uplifting',\n",
       " 'Inspirational, Positive, Wisdom',\n",
       " 'Inspirational, Motivational, Positive',\n",
       " 'Love, Wisdom, Inspiration',\n",
       " 'Inspirational, Relationship, Inspiring',\n",
       " 'Education, Perseverance, Giving Up',\n",
       " 'Inspirational, Motivational, Positive',\n",
       " 'Love, Inspirational, Inspiring',\n",
       " 'Inspirational, Dream, Children',\n",
       " 'Inspirational, Music, Spiritual',\n",
       " 'Leadership, Business, Motivation',\n",
       " 'Inspirational, Success, Leadership',\n",
       " 'Love, Life, God',\n",
       " 'Inspirational, Change, Positive',\n",
       " 'Baseball, Motivational Sports, Games',\n",
       " 'Motivational, Graduation, Dream',\n",
       " 'Hate, Real, Winning',\n",
       " 'Inspiring, Beautiful, Hair',\n",
       " 'Business, Light, Politics',\n",
       " 'Inspirational, Motivational, Positive',\n",
       " 'Inspirational, Motivational, Positive',\n",
       " 'Inspiring, Inspiration, Healing',\n",
       " 'Love, Family, Marriage',\n",
       " 'Inspirational, Positive, Faith',\n",
       " 'Inspirational, Life, Change',\n",
       " 'Positive, Fashion, Hair',\n",
       " 'Carpe Diem, Boys, Dead Poets Society',\n",
       " 'Positive, Strength, Success',\n",
       " 'Inspirational, Positive, Meaningful',\n",
       " 'Inspirational, Happy, Wise',\n",
       " 'Happiness, Christmas, Sarcastic',\n",
       " 'Mothers Day, Mom, Mother Daughter',\n",
       " 'Success, Stress, Congratulations',\n",
       " 'Motivational, Positive, Work',\n",
       " 'Nice, Fighting, Cash Flow',\n",
       " 'Inspirational, Life, Motivational',\n",
       " 'Inspirational, Motivational, Positive',\n",
       " 'Inspirational, Motivational, Leadership',\n",
       " 'Music, Dream, Teacher',\n",
       " 'Love, Inspirational, Funny',\n",
       " 'Money, Worry, World',\n",
       " 'Inspirational, Motivational, Positive',\n",
       " 'Memories, Remember, Second Place',\n",
       " 'Inspirational, Motivational, Positive',\n",
       " 'Country, Military, War',\n",
       " 'Motivational, Success, Education',\n",
       " 'Inspirational, Positive, Smile',\n",
       " 'Inspirational, Change, Inspiring',\n",
       " 'Inspirational, Happiness, Happy',\n",
       " 'Inspirational, Positive, Dream',\n",
       " 'Happiness, Success, Being Happy',\n",
       " 'Inspirational, Life, Motivational',\n",
       " 'Good Luck, Lucky, Way',\n",
       " 'Inspirational, Life, Karma',\n",
       " 'Inspirational, Birthday, Happiness',\n",
       " 'Life, Humble, Positivity',\n",
       " 'Love, Inspirational, Life',\n",
       " 'Love, Inspirational, Friendship',\n",
       " 'Softball, Sports, Athlete',\n",
       " 'Inspirational, Motivational, Positive',\n",
       " 'Inspirational, Positive, Happiness',\n",
       " 'Love, Inspirational, Life',\n",
       " 'Inspirational, Motivational, Positive',\n",
       " 'Christian, Travel, Home',\n",
       " 'Inspirational, Motivational, Success',\n",
       " 'Veterans Day, Freedom, Military',\n",
       " 'Inspirational, Life, Inspiring',\n",
       " 'Relationship, Night, Just Friends',\n",
       " 'Inspirational, Motivational, Positive',\n",
       " 'Life, Motivational, Positive',\n",
       " 'Country, New York, Military',\n",
       " 'Inspirational, Inspiring, Perseverance',\n",
       " 'Life, Business, Simple',\n",
       " 'Inspirational, Motivational, Positive',\n",
       " 'Inspirational, Life, Motivational',\n",
       " 'Inspiring, Strong Women, History',\n",
       " 'Inspirational, Happiness, Graduation',\n",
       " 'Motivational, Failure, Inspiration',\n",
       " 'Motivational, Get Well, Believe',\n",
       " 'Inspirational, Life, Motivational',\n",
       " 'Inspirational, Change, Inspiring',\n",
       " 'Inspirational, Positive, Happiness',\n",
       " 'Business, Government, Political',\n",
       " 'Inspirational, Motivational, Success',\n",
       " 'Inspirational, Life, Happiness',\n",
       " 'Inspirational, Life, Motivational',\n",
       " 'Change, Decision, Cybernetics',\n",
       " 'Inspirational, Motivational, Business',\n",
       " 'Inspirational, Life, Motivational',\n",
       " 'Inspirational, Motivational, Success',\n",
       " 'Inspirational, Positive, Happiness',\n",
       " 'Inspirational, Motivational, Positive',\n",
       " 'Motivational, Moving On, Success',\n",
       " 'Inspirational, Strength, Strong',\n",
       " 'Funny, Thanksgiving, Holiday',\n",
       " 'Hate, Lying, Media',\n",
       " 'Fashion, Eyebrows, Icons']"
      ]
     },
     "execution_count": 1404,
     "metadata": {},
     "output_type": "execute_result"
    }
   ],
   "source": [
    "page3_tag=[]\n",
    "for i in tag:\n",
    "    tags=i.text\n",
    "    page3_tag.append(tags)\n",
    "page3_tag"
   ]
  },
  {
   "cell_type": "code",
   "execution_count": 1405,
   "id": "5684da2f",
   "metadata": {},
   "outputs": [
    {
     "name": "stdout",
     "output_type": "stream",
     "text": [
      "100\n"
     ]
    }
   ],
   "source": [
    "print(len(page3_tag))"
   ]
  },
  {
   "cell_type": "code",
   "execution_count": 1406,
   "id": "591dae73",
   "metadata": {},
   "outputs": [
    {
     "data": {
      "text/html": [
       "<div>\n",
       "<style scoped>\n",
       "    .dataframe tbody tr th:only-of-type {\n",
       "        vertical-align: middle;\n",
       "    }\n",
       "\n",
       "    .dataframe tbody tr th {\n",
       "        vertical-align: top;\n",
       "    }\n",
       "\n",
       "    .dataframe thead th {\n",
       "        text-align: right;\n",
       "    }\n",
       "</style>\n",
       "<table border=\"1\" class=\"dataframe\">\n",
       "  <thead>\n",
       "    <tr style=\"text-align: right;\">\n",
       "      <th></th>\n",
       "      <th>page_title</th>\n",
       "      <th>page_author</th>\n",
       "      <th>page_tag</th>\n",
       "    </tr>\n",
       "  </thead>\n",
       "  <tbody>\n",
       "    <tr>\n",
       "      <th>0</th>\n",
       "      <td>Success is not final, failure is not fatal: it...</td>\n",
       "      <td>Winston Churchill</td>\n",
       "      <td>Inspirational, Motivational, Positive</td>\n",
       "    </tr>\n",
       "    <tr>\n",
       "      <th>1</th>\n",
       "      <td>A day of worry is more exhausting than a week ...</td>\n",
       "      <td>John Lubbock</td>\n",
       "      <td>Motivational, Happiness, Letting Go</td>\n",
       "    </tr>\n",
       "    <tr>\n",
       "      <th>2</th>\n",
       "      <td>Strive not to be a success, but rather to be o...</td>\n",
       "      <td>Albert Einstein</td>\n",
       "      <td>Inspirational, Motivational, Positive</td>\n",
       "    </tr>\n",
       "    <tr>\n",
       "      <th>3</th>\n",
       "      <td>Cancer can take away all of my physical abilit...</td>\n",
       "      <td>Jim Valvano</td>\n",
       "      <td>Encouraging, Basketball, Uplifting</td>\n",
       "    </tr>\n",
       "    <tr>\n",
       "      <th>4</th>\n",
       "      <td>Honesty is the first chapter in the book of wi...</td>\n",
       "      <td>Thomas Jefferson</td>\n",
       "      <td>Inspirational, Positive, Wisdom</td>\n",
       "    </tr>\n",
       "  </tbody>\n",
       "</table>\n",
       "</div>"
      ],
      "text/plain": [
       "                                          page_title        page_author  \\\n",
       "0  Success is not final, failure is not fatal: it...  Winston Churchill   \n",
       "1  A day of worry is more exhausting than a week ...       John Lubbock   \n",
       "2  Strive not to be a success, but rather to be o...    Albert Einstein   \n",
       "3  Cancer can take away all of my physical abilit...        Jim Valvano   \n",
       "4  Honesty is the first chapter in the book of wi...   Thomas Jefferson   \n",
       "\n",
       "                                page_tag  \n",
       "0  Inspirational, Motivational, Positive  \n",
       "1    Motivational, Happiness, Letting Go  \n",
       "2  Inspirational, Motivational, Positive  \n",
       "3     Encouraging, Basketball, Uplifting  \n",
       "4        Inspirational, Positive, Wisdom  "
      ]
     },
     "execution_count": 1406,
     "metadata": {},
     "output_type": "execute_result"
    }
   ],
   "source": [
    "# Creating Data Frame for Page 3\n",
    "\n",
    "page3 = pd.DataFrame({})\n",
    "page3[\"page_title\"]=page3_title\n",
    "page3[\"page_author\"]=page3_author\n",
    "page3[\"page_tag\"]=page3_tag\n",
    "page3.head()"
   ]
  },
  {
   "cell_type": "code",
   "execution_count": 1408,
   "id": "6da89679",
   "metadata": {},
   "outputs": [],
   "source": [
    "# Clicking on Page 4\n",
    "\n",
    "\n",
    "next_button=driver.find_element(By.XPATH,\"/html/body/div[1]/div[2]/div/div/div/div[1]/div/div[3]/li[13]/a\")\n",
    "next_button.click()"
   ]
  },
  {
   "cell_type": "code",
   "execution_count": 1409,
   "id": "05326676",
   "metadata": {},
   "outputs": [
    {
     "data": {
      "text/plain": [
       "[<selenium.webdriver.remote.webelement.WebElement (session=\"dd1197ad3b36ddca03cd1ff4cc8ea25b\", element=\"6bd49ec0-b18a-4f71-a1e4-f61fb1d567dd\")>,\n",
       " <selenium.webdriver.remote.webelement.WebElement (session=\"dd1197ad3b36ddca03cd1ff4cc8ea25b\", element=\"5c688f6d-8f82-4ec6-9796-6a7b813ae9f1\")>]"
      ]
     },
     "execution_count": 1409,
     "metadata": {},
     "output_type": "execute_result"
    }
   ],
   "source": [
    "# Finding The Qoute from page 4\n",
    "\n",
    "title=driver.find_elements(By.XPATH,\"//a[@class='title']\")\n",
    "\n",
    "\n",
    "title[0:2]"
   ]
  },
  {
   "cell_type": "code",
   "execution_count": 1410,
   "id": "f6e57cae",
   "metadata": {},
   "outputs": [
    {
     "data": {
      "text/plain": [
       "[\"One of the things I learned the hard way was that it doesn't pay to get discouraged. Keeping busy and making optimism a way of life can restore your faith in yourself.\",\n",
       " \"Sir, my concern is not whether God is on our side; my greatest concern is to be on God's side, for God is always right.\",\n",
       " 'If you love what you are doing, you will be successful.',\n",
       " 'Patience, persistence and perspiration make an unbeatable combination for success.',\n",
       " 'Christmas is the season of joy, of holiday greetings exchanged, of gift-giving,and of families united.',\n",
       " 'Setting goals is the first step in turning the invisible into the visible.',\n",
       " \"Above all, we must realize that no arsenal, or no weapon in the arsenals of the world, is so formidable as the will and moral courage of free men and women. It is a weapon our adversaries in today's world do not have.\",\n",
       " \"Take chances, make mistakes. That's how you grow. Pain nourishes your courage. You have to fail in order to practice being brave.\",\n",
       " \"Define success on your own terms, achieve it by your own rules, and build a life you're proud to live.\",\n",
       " 'A nation that continues year after year to spend more money on military defense than on programs of social uplift is approaching spiritual doom.',\n",
       " 'If you judge people, you have no time to love them.',\n",
       " \"Take care of your body. It's the only place you have to live.\",\n",
       " 'Only I can change my life. No one can do it for me.',\n",
       " \"Don't give up at half time. Concentrate on winning the second half.\",\n",
       " \"The most important thing is to enjoy your life - to be happy - it's all that matters.\",\n",
       " 'Never let your head hang down. Never give up and sit down and grieve. Find another way.',\n",
       " 'If you fell down yesterday, stand up today.',\n",
       " 'It is not how much we have, but how much we enjoy, that makes happiness.',\n",
       " 'Losers live in the past. Winners learn from the past and enjoy working in the present toward the future.',\n",
       " \"Don't dwell on what went wrong.\\nInstead, focus on what to do next.\\nSpend your energies on moving forward\\ntoward finding the answer.\",\n",
       " 'We must be willing to let go of the life we have planned, so as to have the life that is waiting for us.',\n",
       " 'A mind that is stretched by a new experience can never go back to its old dimensions.',\n",
       " 'The most important thing a father can do for his children is to love their mother.',\n",
       " 'The starting point of all achievement is desire.',\n",
       " 'Pray, and let God worry.',\n",
       " 'Work harder on yourself than you do on your job.',\n",
       " 'Nothing in life is to be feared, it is only to be understood. Now is the time to understand more, so that we may fear less.',\n",
       " \"Set your goals high, and don't stop till you get there.\",\n",
       " \"What is a teacher? I'll tell you: it isn't someone who teaches something, but someone who inspires the student to give of her best in order to discover what she already knows.\",\n",
       " 'Like slavery and apartheid, poverty is not natural. It is man-made and it can be overcome and eradicated by the actions of human beings.',\n",
       " 'Success depends upon previous preparation, and without such preparation there is sure to be failure.',\n",
       " 'We must let go of the life we have planned, so as to accept the one that is waiting for us.',\n",
       " 'A leader is a dealer in hope.',\n",
       " \"A leader takes people where they want to go. A great leader takes people where they don't necessarily want to go, but ought to be.\",\n",
       " 'Belief in oneself is one of the most important bricks in building any successful venture.',\n",
       " \"You don't learn to walk by following rules. You learn by doing, and by falling over.\",\n",
       " 'Experience is simply the name we give our mistakes.',\n",
       " 'The meaning of life is to find your gift. The purpose of life is to give it away.',\n",
       " \"If you are a pop band, don't say you're a metal band. Poison and Warrant were about as metal as the Backstreet Boys.\",\n",
       " 'One person with passion is better than forty people merely interested.',\n",
       " 'Change the changeable, accept the unchangeable, and remove yourself from the unacceptable.',\n",
       " 'I like to see a man proud of the place in which he lives. I like to see a man live so that his place will be proud of him.',\n",
       " \"It's not what you look at that matters, it's what you see.\",\n",
       " \"Life is simple. Everything happens for you, not to you. Everything happens at exactly the right moment, neither too soon nor too late. You don't have to like it... it's just easier if you do.\",\n",
       " \"Hard work spotlights the character of people: some turn up their sleeves, some turn up their noses, and some don't turn up at all.\",\n",
       " 'A leader is one who knows the way, goes the way, and shows the way.',\n",
       " 'Never give up on a dream just because of the time it will take to accomplish it. The time will pass anyway.',\n",
       " 'It is not the employer who pays the wages. Employers only handle the money. It is the customer who pays the wages.',\n",
       " 'People grow through experience if they meet life honestly and courageously. This is how character is built.',\n",
       " 'Love is friendship that has caught fire. It is quiet understanding, mutual confidence, sharing and forgiving. It is loyalty through good and bad times. It settles for less than perfection and makes allowances for human weaknesses.',\n",
       " 'Extraordinary people survive under the most terrible circumstances and they become more extraordinary because of it.',\n",
       " 'It is in your moments of decision that your destiny is shaped.',\n",
       " 'Never go backward. Attempt, and do it with all your might. Determination is power.',\n",
       " \"Successful people are always looking for opportunities to help others. Unsuccessful people are always asking, What's in it for me?\",\n",
       " 'I like to listen. I have learned a great deal from listening carefully. Most people never listen.',\n",
       " \"Experience is not what happens to you; it's what you do with what happens to you.\",\n",
       " 'Defeat is not the worst of failures. Not to have tried is the true failure.',\n",
       " 'Courage is what it takes to stand up and speak; courage is also what it takes to sit down and listen.',\n",
       " 'All truth passes through three stages. First, it is ridiculed. Second, it is violently opposed. Third, it is accepted as being self-evident.',\n",
       " 'For over 221 years our Corps has done two things for this great Nation. We make Marines, and we win battles.',\n",
       " 'I have found the paradox, that if you love until it hurts, there can be no more hurt, only more love.',\n",
       " 'If you set goals and go after them with all the determination you can muster, your gifts will take you places that will amaze you.',\n",
       " 'If you smile when no one else is around, you really mean it.',\n",
       " 'The price of success is hard work, dedication to the job at hand, and the determination that whether we win or lose, we have applied the best of ourselves to the task at hand.',\n",
       " 'Trust is to human relationships what faith is to gospel living. It is the beginning place, the foundation upon which more can be built. Where trust is, love can flourish.',\n",
       " \"Don't go around saying the world owes you a living. The world owes you nothing. It was here first.\",\n",
       " 'Never apologize for showing feeling. When you do so, you apologize for the truth.',\n",
       " 'In the wake of 9/11, my meetings with Arab and Pakistani Americans, for example, have a more urgent quality, for the stories of detentions and FBI questioning and hard stares from neighbors have shaken their sense of security and belonging. They have been reminded that the history of immigration in this country has a dark underbelly; they need specific reassurances that their citizenship really means something, that America has learned the right lessons from the Japanese internments during World War II, and that I will stand with them should the political winds shift in an ugly direction.',\n",
       " 'I have nothing to offer but blood, toil, tears and sweat.',\n",
       " 'Correction does much, but encouragement does more.',\n",
       " 'You change your life by changing your heart.',\n",
       " 'Lead me, follow me, or get out of my way.',\n",
       " 'The Constitution is the guide which I never will abandon.',\n",
       " \"Life is hard; it's harder if you're stupid.\",\n",
       " 'The true secret of happiness lies in taking a genuine interest in all the details of daily life.',\n",
       " 'The deadliest weapon in the world is a MARINE and his rifle!',\n",
       " 'Failure is not fatal, but failure to change might be.',\n",
       " 'After climbing a great hill, one only finds that there are many more hills to climb.',\n",
       " 'The best preparation for good work tomorrow is to do good work today.',\n",
       " 'Blues is easy to play, but hard to feel.',\n",
       " \"I've found that luck is quite predictable. If you want more luck, take more chances. Be more active. Show up more often.\",\n",
       " 'Even if you are on the brink of damnation, even if you have one foot in hell, even if you have sold your soul to the devil as sorcerers do who practice black magic, and even if you are a heretic as obstinate as a devil, sooner or later you will be converted and will amend your life and will save your soul, if-and mark well what I say-if you say the Holy Rosary devoutly every day until death for the purpose of knowing the truth and obtaining contrition and pardon for your sins.',\n",
       " 'Success is falling nine times and getting up ten.',\n",
       " 'The whole purpose of education is to turn mirrors into windows.',\n",
       " 'The nation which forgets its defenders will be itself forgotten.',\n",
       " \"Don't let the fear of losing be greater than the excitement of winning.\",\n",
       " 'Every saint has a past, and every sinner has a future.',\n",
       " \"There is no pit so deep, that God's love is not deeper still.\",\n",
       " 'I am not afraid of storms for I am learning how to sail my ship.',\n",
       " 'There is only one success - to be able to spend your life in your own way.',\n",
       " \"It doesn't take a hero to order men into battle. It takes a hero to be one of those men who goes into battle.\",\n",
       " \"I have not failed. I've just found 10,000 ways that won't work.\",\n",
       " 'Only when we are no longer afraid do we begin to live.',\n",
       " 'Returning violence for violence multiplies violence, adding deeper darkness to a night already devoid of stars.',\n",
       " \"Be a yardstick of quality. Some people aren't used to an environment where excellence is expected.\",\n",
       " 'Risks must be taken because the greatest hazard in life is to risk nothing.',\n",
       " 'He who has never learned to obey cannot be a good commander.',\n",
       " 'Change before you have to.',\n",
       " \"I don't need a friend who changes when I change and who nods when I nod; my shadow does that much better.\",\n",
       " \"You don't get paid for the hour. You get paid for the value you bring to the hour.\"]"
      ]
     },
     "execution_count": 1410,
     "metadata": {},
     "output_type": "execute_result"
    }
   ],
   "source": [
    "page4_title=[]\n",
    "for i in title:\n",
    "    titles=i.text\n",
    "    page4_title.append(titles)\n",
    "page4_title"
   ]
  },
  {
   "cell_type": "code",
   "execution_count": 1411,
   "id": "979c8cd1",
   "metadata": {},
   "outputs": [
    {
     "name": "stdout",
     "output_type": "stream",
     "text": [
      "100\n"
     ]
    }
   ],
   "source": [
    "print(len(page4_title))"
   ]
  },
  {
   "cell_type": "code",
   "execution_count": 1412,
   "id": "e90d9ef4",
   "metadata": {},
   "outputs": [
    {
     "data": {
      "text/plain": [
       "[<selenium.webdriver.remote.webelement.WebElement (session=\"dd1197ad3b36ddca03cd1ff4cc8ea25b\", element=\"0102ced7-fc66-49eb-86da-408589a5926b\")>,\n",
       " <selenium.webdriver.remote.webelement.WebElement (session=\"dd1197ad3b36ddca03cd1ff4cc8ea25b\", element=\"b3dc7f3a-3fe2-4641-bc28-90a88a9007d6\")>]"
      ]
     },
     "execution_count": 1412,
     "metadata": {},
     "output_type": "execute_result"
    }
   ],
   "source": [
    "# Finding The Author from Page 4\n",
    "\n",
    "author=driver.find_elements(By.XPATH,\"//div[@class='author']\")\n",
    "\n",
    "\n",
    "author[0:2]"
   ]
  },
  {
   "cell_type": "code",
   "execution_count": 1413,
   "id": "cd326e03",
   "metadata": {},
   "outputs": [
    {
     "data": {
      "text/plain": [
       "['Lucille Ball',\n",
       " 'Abraham Lincoln',\n",
       " 'Albert Schweitzer',\n",
       " 'Napoleon Hill',\n",
       " 'Norman Vincent Peale',\n",
       " 'Tony Robbins',\n",
       " 'Ronald Reagan',\n",
       " 'Mary Tyler Moore',\n",
       " 'Anne Sweeney',\n",
       " 'Martin Luther King, Jr.',\n",
       " 'Mother Teresa',\n",
       " 'Jim Rohn',\n",
       " 'Carol Burnett',\n",
       " 'Bear Bryant',\n",
       " 'Audrey Hepburn',\n",
       " 'Satchel Paige',\n",
       " 'H. G. Wells',\n",
       " 'Charles Spurgeon',\n",
       " 'Denis Waitley',\n",
       " 'Denis Waitley',\n",
       " 'E. M. Forster',\n",
       " 'Oliver Wendell Holmes, Jr.',\n",
       " 'Theodore Hesburgh',\n",
       " 'Napoleon Hill',\n",
       " 'Martin Luther',\n",
       " 'Jim Rohn',\n",
       " 'Marie Curie',\n",
       " 'Bo Jackson',\n",
       " 'Paulo Coelho',\n",
       " 'Nelson Mandela',\n",
       " 'Confucius',\n",
       " 'Joseph Campbell',\n",
       " 'Napoleon Bonaparte',\n",
       " 'Rosalynn Carter',\n",
       " 'Lydia M. Child',\n",
       " 'Richard Branson',\n",
       " 'Oscar Wilde',\n",
       " 'Pablo Picasso',\n",
       " 'Geezer Butler',\n",
       " 'E. M. Forster',\n",
       " 'Denis Waitley',\n",
       " 'Abraham Lincoln',\n",
       " 'Henry David Thoreau',\n",
       " 'Byron Katie',\n",
       " 'Sam Ewing',\n",
       " 'John C. Maxwell',\n",
       " 'Earl Nightingale',\n",
       " 'Henry Ford',\n",
       " 'Eleanor Roosevelt',\n",
       " 'Ann Landers',\n",
       " 'Robertson Davies',\n",
       " 'Tony Robbins',\n",
       " 'Charles Simmons',\n",
       " 'Brian Tracy',\n",
       " 'Ernest Hemingway',\n",
       " 'Aldous Huxley',\n",
       " 'George Edward Woodberry',\n",
       " 'Winston Churchill',\n",
       " 'Arthur Schopenhauer',\n",
       " 'Charles C. Krulak',\n",
       " 'Mother Teresa',\n",
       " 'Les Brown',\n",
       " 'Andy Rooney',\n",
       " 'Vince Lombardi',\n",
       " 'Barbara Smith',\n",
       " 'Mark Twain',\n",
       " 'Benjamin Disraeli',\n",
       " 'Barack Obama',\n",
       " 'Winston Churchill',\n",
       " 'Johann Wolfgang von Goethe',\n",
       " 'Max Lucado',\n",
       " 'George S. Patton',\n",
       " 'George Washington',\n",
       " 'John Wayne',\n",
       " 'William Morris',\n",
       " 'John J. Pershing',\n",
       " 'John Wooden',\n",
       " 'Nelson Mandela',\n",
       " 'Elbert Hubbard',\n",
       " 'Jimi Hendrix',\n",
       " 'Brian Tracy',\n",
       " 'Louis de Montfort',\n",
       " 'Jon Bon Jovi',\n",
       " 'Sydney J. Harris',\n",
       " 'Calvin Coolidge',\n",
       " 'Robert Kiyosaki',\n",
       " 'Oscar Wilde',\n",
       " 'Corrie Ten Boom',\n",
       " 'Louisa May Alcott',\n",
       " 'Christopher Morley',\n",
       " 'Norman Schwarzkopf',\n",
       " 'Thomas A. Edison',\n",
       " 'Dorothy Thompson',\n",
       " 'Martin Luther King, Jr.',\n",
       " 'Steve Jobs',\n",
       " 'Leo Buscaglia',\n",
       " 'Aristotle',\n",
       " 'Jack Welch',\n",
       " 'Plutarch',\n",
       " 'Jim Rohn']"
      ]
     },
     "execution_count": 1413,
     "metadata": {},
     "output_type": "execute_result"
    }
   ],
   "source": [
    "page4_author=[]\n",
    "for i in author:\n",
    "    authors=i.text\n",
    "    page4_author.append(authors)\n",
    "page4_author"
   ]
  },
  {
   "cell_type": "code",
   "execution_count": 1414,
   "id": "27f721d0",
   "metadata": {},
   "outputs": [
    {
     "name": "stdout",
     "output_type": "stream",
     "text": [
      "100\n"
     ]
    }
   ],
   "source": [
    "print(len(page4_author))"
   ]
  },
  {
   "cell_type": "code",
   "execution_count": 1415,
   "id": "c6dbbbd3",
   "metadata": {},
   "outputs": [
    {
     "data": {
      "text/plain": [
       "[<selenium.webdriver.remote.webelement.WebElement (session=\"dd1197ad3b36ddca03cd1ff4cc8ea25b\", element=\"eaf05df6-91e3-427b-9016-a4d630d4fe73\")>,\n",
       " <selenium.webdriver.remote.webelement.WebElement (session=\"dd1197ad3b36ddca03cd1ff4cc8ea25b\", element=\"d56cd191-f089-463a-bd05-2c36d7c3bd9b\")>]"
      ]
     },
     "execution_count": 1415,
     "metadata": {},
     "output_type": "execute_result"
    }
   ],
   "source": [
    "# Scrapping Type of Quotes from page 4\n",
    "\n",
    "tag=driver.find_elements(By.XPATH,\"//div[@class='tags']\")\n",
    "\n",
    "\n",
    "tag[0:2]"
   ]
  },
  {
   "cell_type": "code",
   "execution_count": 1416,
   "id": "d10885af",
   "metadata": {},
   "outputs": [
    {
     "data": {
      "text/plain": [
       "['Inspirational, Life, Positive',\n",
       " 'Leadership, God, Wisdom',\n",
       " 'Happiness, Success, Happy',\n",
       " 'Inspirational, Positive, Success',\n",
       " 'Christmas, Holiday, Giving',\n",
       " 'Inspirational, Motivational, Powerful',\n",
       " 'Courage, War, Patriotic',\n",
       " 'Inspirational, Positive, Courage',\n",
       " 'Positive, Inspiring, Success',\n",
       " 'Change, Uplifting, Spiritual',\n",
       " 'Inspirational, Friendship, Positive',\n",
       " 'Life, Motivational, Inspiring',\n",
       " 'Inspirational, Change, Attitude',\n",
       " 'Inspirational, Sports, Football',\n",
       " 'Life, Happiness, Happy',\n",
       " 'Inspirational, Encouraging, Sports',\n",
       " 'Motivational, Strength, Moving On',\n",
       " 'Positive, Happiness, Being Happy',\n",
       " 'Motivational, Past, Insightful',\n",
       " 'Success, Moving On, Letting Go',\n",
       " 'Break Up, Letting Go, Breakup',\n",
       " 'Inspirational, Wise, Travel',\n",
       " 'Love, Inspirational, Funny',\n",
       " 'Inspirational, Motivational, Success',\n",
       " 'Trust, Encouraging, Hope',\n",
       " 'Spiritual, Jobs, Work',\n",
       " 'Life, Encouraging, Being Strong',\n",
       " 'Inspirational, Motivational, Sports',\n",
       " 'Inspiring, Teacher, Teaching',\n",
       " 'Men, Justice, Overcoming',\n",
       " 'Success, Congratulations, Failure',\n",
       " 'Inspirational, Life, Change',\n",
       " 'Inspirational, Leadership, Encouraging',\n",
       " 'Motivational, Leadership, People',\n",
       " 'Inspirational, Motivational, Success',\n",
       " 'Inspirational, Success, Encouraging',\n",
       " 'Inspirational, Funny, Motivational',\n",
       " 'Inspirational, Life, Inspiring',\n",
       " 'Music, Boys, Poison',\n",
       " 'Football, Motivation, Passion',\n",
       " 'Motivational, Change, Stay Strong',\n",
       " 'Inspirational, Life, 4th Of July',\n",
       " 'Inspirational, Motivational, Positive',\n",
       " 'Life, Positive, Wisdom',\n",
       " 'Motivational, Success, Attitude',\n",
       " 'Inspirational, Leadership, Basketball',\n",
       " 'Inspirational, Motivational, Success',\n",
       " 'Inspirational, Loyalty, Money',\n",
       " 'Inspirational, Life, Motivational',\n",
       " 'Love, Friendship, Forgiveness',\n",
       " 'Courage, Adversity, Ordinary Extraordinary',\n",
       " 'Inspirational, Life, Motivational',\n",
       " 'Determination, Power, Trying',\n",
       " 'Inspirational, Positive, Success',\n",
       " 'Inspirational, Relationship, Peace',\n",
       " 'Inspirational, Life, Motivational',\n",
       " 'Inspirational, Success, Motivational Sports',\n",
       " 'Inspirational, Motivational, Strength',\n",
       " 'Inspirational, Witty, Truth',\n",
       " 'Military, Marine, Winning',\n",
       " 'Love, Positive, Marriage',\n",
       " 'Inspirational, Motivational, Determination',\n",
       " 'Love, Happiness, Smile',\n",
       " 'Inspirational, Motivational, Success',\n",
       " 'Love, Life, Trust',\n",
       " 'Life, Graduation, Wise',\n",
       " 'Inspirational, Being Yourself, Clever',\n",
       " 'Country, War, Mean',\n",
       " 'Determination, Military, War',\n",
       " 'Inspirational, Funny, Motivational',\n",
       " 'Inspirational, Change, Uplifting',\n",
       " 'Leadership, Military, Bad Ass',\n",
       " '4th Of July, America, Liberty',\n",
       " 'Funny, Life, Leadership',\n",
       " 'Inspirational, Life, Positive',\n",
       " 'Military, Marine, Rifles',\n",
       " 'Inspirational, Life, Change',\n",
       " 'Inspirational, Motivational, Inspiring',\n",
       " 'Morning, Business, Work',\n",
       " 'Play, Easy, Feels',\n",
       " 'Inspirational, Motivational, Success',\n",
       " 'Christian, Religious, Prayer',\n",
       " 'Positive, Success, Fall',\n",
       " 'Graduation, Education, Wall',\n",
       " 'Military, Army, Navy',\n",
       " 'Inspirational, Motivational, Success',\n",
       " 'Inspirational, Funny, Life',\n",
       " 'Inspirational, Motivational, Love Is',\n",
       " 'Inspirational, Confidence, Wisdom',\n",
       " 'Inspirational, Life, Positive',\n",
       " 'Inspiring, Courage, Veterans Day',\n",
       " 'Inspirational, Funny, Motivational',\n",
       " 'Love, Inspirational, Motivational',\n",
       " 'Kings, Stars, Hate',\n",
       " 'Inspirational, Motivational, Leadership',\n",
       " 'Inspirational, Life, Motivational',\n",
       " 'Inspirational, Leadership, Insperational',\n",
       " 'Life, Motivational, Change',\n",
       " 'Friendship, Change, Philosophy',\n",
       " 'Funny, Motivational, Positive Thinking']"
      ]
     },
     "execution_count": 1416,
     "metadata": {},
     "output_type": "execute_result"
    }
   ],
   "source": [
    "page4_tag=[]\n",
    "for i in tag:\n",
    "    tags=i.text\n",
    "    page4_tag.append(tags)\n",
    "page4_tag"
   ]
  },
  {
   "cell_type": "code",
   "execution_count": 1417,
   "id": "7cef230c",
   "metadata": {},
   "outputs": [
    {
     "name": "stdout",
     "output_type": "stream",
     "text": [
      "100\n"
     ]
    }
   ],
   "source": [
    "print(len(page4_tag))"
   ]
  },
  {
   "cell_type": "code",
   "execution_count": 1418,
   "id": "b4a6a7c8",
   "metadata": {},
   "outputs": [
    {
     "data": {
      "text/html": [
       "<div>\n",
       "<style scoped>\n",
       "    .dataframe tbody tr th:only-of-type {\n",
       "        vertical-align: middle;\n",
       "    }\n",
       "\n",
       "    .dataframe tbody tr th {\n",
       "        vertical-align: top;\n",
       "    }\n",
       "\n",
       "    .dataframe thead th {\n",
       "        text-align: right;\n",
       "    }\n",
       "</style>\n",
       "<table border=\"1\" class=\"dataframe\">\n",
       "  <thead>\n",
       "    <tr style=\"text-align: right;\">\n",
       "      <th></th>\n",
       "      <th>page_title</th>\n",
       "      <th>page_author</th>\n",
       "      <th>page_tag</th>\n",
       "    </tr>\n",
       "  </thead>\n",
       "  <tbody>\n",
       "    <tr>\n",
       "      <th>0</th>\n",
       "      <td>One of the things I learned the hard way was t...</td>\n",
       "      <td>Lucille Ball</td>\n",
       "      <td>Inspirational, Life, Positive</td>\n",
       "    </tr>\n",
       "    <tr>\n",
       "      <th>1</th>\n",
       "      <td>Sir, my concern is not whether God is on our s...</td>\n",
       "      <td>Abraham Lincoln</td>\n",
       "      <td>Leadership, God, Wisdom</td>\n",
       "    </tr>\n",
       "    <tr>\n",
       "      <th>2</th>\n",
       "      <td>If you love what you are doing, you will be su...</td>\n",
       "      <td>Albert Schweitzer</td>\n",
       "      <td>Happiness, Success, Happy</td>\n",
       "    </tr>\n",
       "    <tr>\n",
       "      <th>3</th>\n",
       "      <td>Patience, persistence and perspiration make an...</td>\n",
       "      <td>Napoleon Hill</td>\n",
       "      <td>Inspirational, Positive, Success</td>\n",
       "    </tr>\n",
       "    <tr>\n",
       "      <th>4</th>\n",
       "      <td>Christmas is the season of joy, of holiday gre...</td>\n",
       "      <td>Norman Vincent Peale</td>\n",
       "      <td>Christmas, Holiday, Giving</td>\n",
       "    </tr>\n",
       "  </tbody>\n",
       "</table>\n",
       "</div>"
      ],
      "text/plain": [
       "                                          page_title           page_author  \\\n",
       "0  One of the things I learned the hard way was t...          Lucille Ball   \n",
       "1  Sir, my concern is not whether God is on our s...       Abraham Lincoln   \n",
       "2  If you love what you are doing, you will be su...     Albert Schweitzer   \n",
       "3  Patience, persistence and perspiration make an...         Napoleon Hill   \n",
       "4  Christmas is the season of joy, of holiday gre...  Norman Vincent Peale   \n",
       "\n",
       "                           page_tag  \n",
       "0     Inspirational, Life, Positive  \n",
       "1           Leadership, God, Wisdom  \n",
       "2         Happiness, Success, Happy  \n",
       "3  Inspirational, Positive, Success  \n",
       "4        Christmas, Holiday, Giving  "
      ]
     },
     "execution_count": 1418,
     "metadata": {},
     "output_type": "execute_result"
    }
   ],
   "source": [
    "# Creating Data Frame for Page 4\n",
    "\n",
    "page4 = pd.DataFrame({})\n",
    "page4[\"page_title\"]=page4_title\n",
    "page4[\"page_author\"]=page4_author\n",
    "page4[\"page_tag\"]=page4_tag\n",
    "page4.head()"
   ]
  },
  {
   "cell_type": "code",
   "execution_count": 1419,
   "id": "9ded66df",
   "metadata": {},
   "outputs": [],
   "source": [
    "# Clicking on Page 5\n",
    "\n",
    "\n",
    "next_button=driver.find_element(By.XPATH,\"/html/body/div[1]/div[2]/div/div/div/div[1]/div/div[3]/li[13]/a\")\n",
    "next_button.click()"
   ]
  },
  {
   "cell_type": "code",
   "execution_count": 1420,
   "id": "49e44f70",
   "metadata": {},
   "outputs": [
    {
     "data": {
      "text/plain": [
       "[<selenium.webdriver.remote.webelement.WebElement (session=\"dd1197ad3b36ddca03cd1ff4cc8ea25b\", element=\"e9424c07-8a2e-4f63-b3de-9d9e794655b2\")>,\n",
       " <selenium.webdriver.remote.webelement.WebElement (session=\"dd1197ad3b36ddca03cd1ff4cc8ea25b\", element=\"6478bf33-8ea8-441a-bd7d-48bb4f0cfc43\")>]"
      ]
     },
     "execution_count": 1420,
     "metadata": {},
     "output_type": "execute_result"
    }
   ],
   "source": [
    "# Finding The Qoute from page 5\n",
    "\n",
    "title=driver.find_elements(By.XPATH,\"//a[@class='title']\")\n",
    "\n",
    "\n",
    "title[0:2]"
   ]
  },
  {
   "cell_type": "code",
   "execution_count": 1421,
   "id": "5127c081",
   "metadata": {},
   "outputs": [
    {
     "data": {
      "text/plain": [
       "['The only person who is educated is the one who has learned how to learn and change.',\n",
       " 'Carry out a random act of kindness, with no expectation of reward, safe in the knowledge that one day someone might do the same for you.',\n",
       " \"Don't be afraid to give up the good to go for the great.\",\n",
       " \"Honor to the soldier and sailor everywhere, who bravely bears his country's cause. Honor, also, to the citizen who cares for his brother in the field and serves, as he best can, the same cause.\",\n",
       " 'Everyone has talent. What is rare is the courage to follow the talent to the dark place where it leads.',\n",
       " 'Character cannot be developed in ease and quiet. Only through experience of trial and suffering can the soul be strengthened, ambition inspired, and success achieved.',\n",
       " 'My best successes came on the heels of failures.',\n",
       " 'A lie can travel half way around the world while the truth is putting on its shoes.',\n",
       " 'When we seek to discover the best in others, we somehow bring out the best in ourselves.',\n",
       " \"Wisdom is the reward you get for a lifetime of listening when you'd have preferred to talk.\",\n",
       " 'Most of the important things in the world have been accomplished by people who have kept on trying when there seemed to be no hope at all.',\n",
       " 'Creativity requires the courage to let go of certainties.',\n",
       " 'Positive anything is better than negative nothing.',\n",
       " \"Racism isn't born, folks, it's taught. I have a two-year-old son. You know what he hates? Naps! End of list.\",\n",
       " 'Spread love everywhere you go. Let no one ever come to you without leaving happier.',\n",
       " 'Turn your wounds into wisdom.',\n",
       " 'The most beautiful thing we can experience is the mysterious. It is the source of all true art and science.',\n",
       " 'Happiness is a direction, not a place.',\n",
       " 'A wise man can learn more from a foolish question than a fool can learn from a wise answer.',\n",
       " \"One of the greatest discoveries a man makes, one of his great surprises, is to find he can do what he was afraid he couldn't do.\",\n",
       " 'Courage - a perfect sensibility of the measure of danger, and a mental willingness to endure it.',\n",
       " 'I learned that courage was not the absence of fear, but the triumph over it. The brave man is not he who does not feel afraid, but he who conquers that fear.',\n",
       " 'An appeaser is one who feeds a crocodile, hoping it will eat him last.',\n",
       " 'If everyone is moving forward together, then success takes care of itself.',\n",
       " 'Time is more valuable than money. You can get more money, but you cannot get more time.',\n",
       " 'Money has never made man happy, nor will it, there is nothing in its nature to produce happiness. The more of it one has the more one wants.',\n",
       " 'The more you know the less you need to say.',\n",
       " 'If you are carrying strong feelings about something that happened in your past, they may hinder your ability to live in the present.',\n",
       " \"Be miserable. Or motivate yourself. Whatever has to be done, it's always your choice.\",\n",
       " \"I'm the one that's got to die when it's time for me to die, so let me live my life the way I want to.\",\n",
       " 'If one had but a single glance to give the world, one should gaze on Istanbul.',\n",
       " 'Bravery is the capacity to perform properly even when scared half to death.',\n",
       " \"When it is obvious that the goals cannot be reached, don't adjust the goals, adjust the action steps.\",\n",
       " \"Being the richest man in the cemetery doesn't matter to me ... Going to bed at night saying we've done something wonderful... that's what matters to me.\",\n",
       " 'Never give up, for that is just the place and time that the tide will turn.',\n",
       " \"And above all, watch with glittering eyes the whole world around you because the greatest secrets are always hidden in the most unlikely places. Those who don't believe in magic will never find it.\",\n",
       " 'Is prayer your steering wheel or your spare tire?',\n",
       " 'All change is not growth, as all movement is not forward.',\n",
       " \"Too many people spend money they haven't earned to buy things they don't want to impress people they don't like.\",\n",
       " 'Before marriage, a girl has to make love to a man to hold him. After marriage, she has to hold him to make love to him.',\n",
       " 'Some of us think holding on makes us strong; but sometimes it is letting go.',\n",
       " 'I would rather die of passion than of boredom.',\n",
       " 'Run often. Run long. But never outrun your joy of running.',\n",
       " 'Success is a personal standard, reaching for the highest that is in us, becoming all that we can be.',\n",
       " 'Happiness is not a goal; it is a by-product.',\n",
       " 'Destiny is no matter of chance. It is a matter of choice. It is not a thing to be waited for, it is a thing to be achieved.',\n",
       " 'Valor is stability, not of legs and arms, but of courage and the soul.',\n",
       " 'Yesterday is gone. Tomorrow has not yet come. We have only today. Let us begin.',\n",
       " 'The secret of getting ahead is getting started',\n",
       " 'If you want to lift yourself up, lift up someone else.',\n",
       " \"We all die. The goal isn't to live forever, the goal is to create something that will.\",\n",
       " 'Men have called me mad; but the question is not yet settled, whether madness is or is not the loftiest intelligence– whether much that is glorious– whether all that is profound– does not spring from disease of thought– from moods of mind exalted at the expense of the general intellect.',\n",
       " 'Do not let what you cannot do interfere with what you can do.',\n",
       " 'The only thing necessary for the triumph of evil is for good men to do nothing.',\n",
       " 'The greatest obstacle to discovery is not ignorance - it is the illusion of knowledge.',\n",
       " 'Time is what we want most, but what we use worst.',\n",
       " \"No matter what you've done for yourself or for humanity, if you can't look back on having given love and attention to your own family, what have you really accomplished?\",\n",
       " 'Imagination is more important than knowledge. Knowledge is limited. Imagination encircles the world.',\n",
       " 'He who avoids complaint invites happiness.',\n",
       " 'Sometimes the questions are complicated and the answers are simple.',\n",
       " \"Do not plan for ventures before finishing what's at hand.\",\n",
       " 'Your life does not get better by chance, it gets better by change.',\n",
       " 'Doing what you love is the cornerstone of having abundance in your life.',\n",
       " 'Overcoming poverty is not a gesture of charity. It is an act of justice. It is the protection of a fundamental human right, the right to dignity and a decent life . . .',\n",
       " 'Patience and time do more than strength or passion.',\n",
       " 'Do more than belong: participate. Do more than care: help. Do more than believe: practice. Do more than be fair: be kind. Do more than forgive: forget. Do more than dream: work.',\n",
       " 'If you have knowledge, let others light their candles in it.',\n",
       " 'Courage is resistance to fear, mastery of fear, not absence of fear.',\n",
       " 'Disneyland will never be completed. It will continue to grow as long as there is imagination left in the world.',\n",
       " 'Believe and act as if it were impossible to fail.',\n",
       " 'Money cannot buy peace of mind. It cannot heal ruptured relationships, or build meaning into a life that has none.',\n",
       " 'Everything we hear is an opinion, not a fact. Everything we see is a perspective, not the truth.',\n",
       " \"Don't worry that children never listen to you; worry that they are always watching you.\",\n",
       " 'If evolution really works, how come mothers only have two hands?',\n",
       " \"Don't wish it were easier, wish you were better.\",\n",
       " 'I have been driven many times upon my knees by the overwhelming conviction that I had no where else to go. My own wisdom and that of all about me seemed insufficient for that day.',\n",
       " 'A smile is the light in your window that tells others that there is a caring, sharing person inside.',\n",
       " 'You cannot find peace by avoiding life.',\n",
       " 'There are no failures - just experiences and your reactions to them',\n",
       " 'My message, especially to young people is to have courage to think differently, courage to invent, to travel the unexplored path, courage to discover the impossible and to conquer the problems and succeed. These are great qualities that they must work towards. This is my message to the young people.',\n",
       " 'Persistent people begin their success where others end in failure.',\n",
       " 'Imagination is more important than knowledge.',\n",
       " 'Love is the only force capable of transforming an enemy into friend.',\n",
       " \"Life is about not knowing, having to change, taking the moment and making the best of it, without knowing what's going to happen next.\",\n",
       " 'You cannot make progress without making decisions.',\n",
       " \"The grace of God means something like: Here is your life. You might never have been, but you are because the party wouldn't have been complete without you.\",\n",
       " 'Get mad, then get over it.',\n",
       " 'When the sun is shining I can do anything; no mountain is too high, no trouble too difficult to overcome.',\n",
       " 'Everything that is really great and inspiring is created by the individual who can labor in freedom.',\n",
       " 'I never learn anything talking. I only learn things when I ask questions.',\n",
       " \"Let our New Year's resolution be this: we will be there for one another as fellow members of humanity, in the finest sense of the word.\",\n",
       " 'Throughout life people will make you mad, disrespect you and treat you bad. Let God deal with the things they do, cause hate in your heart will consume you too.',\n",
       " \"Faith is taking the first step even when you don't see the whole staircase.\",\n",
       " 'Never lose sight of the fact that the most important yardstick of your success will be how you treat other people - your family, friends, and coworkers, and even strangers you meet along the way.',\n",
       " \"Life isn't a matter of milestones, but of moments.\",\n",
       " 'Let us not seek the Republican answer or the Democratic answer, but the right answer. Let us not seek to fix the blame for the past. Let us accept our own responsibility for the future.',\n",
       " 'Whatever you want to do, do it now. There are only so many tomorrows.',\n",
       " \"be yourself- not your idea of what you think somebody else's idea of yourself should be.\",\n",
       " 'The time is always right to do what is right.',\n",
       " \"Potentially, a government is the most dangerous threat to man's rights: it holds a legal monopoly on the use of physical force against legally disarmed victims.\"]"
      ]
     },
     "execution_count": 1421,
     "metadata": {},
     "output_type": "execute_result"
    }
   ],
   "source": [
    "page5_title=[]\n",
    "for i in title:\n",
    "    titles=i.text\n",
    "    page5_title.append(titles)\n",
    "page5_title"
   ]
  },
  {
   "cell_type": "code",
   "execution_count": 1422,
   "id": "d7024a6f",
   "metadata": {},
   "outputs": [
    {
     "name": "stdout",
     "output_type": "stream",
     "text": [
      "100\n"
     ]
    }
   ],
   "source": [
    "print(len(page5_title))"
   ]
  },
  {
   "cell_type": "code",
   "execution_count": 1423,
   "id": "bef6e07a",
   "metadata": {},
   "outputs": [
    {
     "data": {
      "text/plain": [
       "[<selenium.webdriver.remote.webelement.WebElement (session=\"dd1197ad3b36ddca03cd1ff4cc8ea25b\", element=\"b98674e8-5178-4520-ad81-7c89474f6060\")>,\n",
       " <selenium.webdriver.remote.webelement.WebElement (session=\"dd1197ad3b36ddca03cd1ff4cc8ea25b\", element=\"84a12194-6675-4fe5-969d-40b5b96d03c9\")>]"
      ]
     },
     "execution_count": 1423,
     "metadata": {},
     "output_type": "execute_result"
    }
   ],
   "source": [
    "# Finding The Author from Page 5\n",
    "\n",
    "author=driver.find_elements(By.XPATH,\"//div[@class='author']\")\n",
    "\n",
    "\n",
    "author[0:2]"
   ]
  },
  {
   "cell_type": "code",
   "execution_count": 1424,
   "id": "1e2692f9",
   "metadata": {},
   "outputs": [
    {
     "data": {
      "text/plain": [
       "['Carl Rogers',\n",
       " 'Princess Diana',\n",
       " 'John D. Rockefeller',\n",
       " 'Abraham Lincoln',\n",
       " 'Erica Jong',\n",
       " 'Helen Keller',\n",
       " 'Barbara Corcoran',\n",
       " 'Charles Spurgeon',\n",
       " 'William Arthur Ward',\n",
       " 'Doug Larson',\n",
       " 'Dale Carnegie',\n",
       " 'Erich Fromm',\n",
       " 'Elbert Hubbard',\n",
       " 'Denis Leary',\n",
       " 'Mother Teresa',\n",
       " 'Oprah Winfrey',\n",
       " 'Albert Einstein',\n",
       " 'Sydney J. Harris',\n",
       " 'Bruce Lee',\n",
       " 'Henry Ford',\n",
       " 'William Tecumseh Sherman',\n",
       " 'Nelson Mandela',\n",
       " 'Winston Churchill',\n",
       " 'Henry Ford',\n",
       " 'Jim Rohn',\n",
       " 'Benjamin Franklin',\n",
       " 'Jim Rohn',\n",
       " 'Les Brown',\n",
       " 'Wayne Dyer',\n",
       " 'Jimi Hendrix',\n",
       " 'Alphonse de Lamartine',\n",
       " 'Omar N. Bradley',\n",
       " 'Confucius',\n",
       " 'Steve Jobs',\n",
       " 'Harriet Beecher Stowe',\n",
       " 'Roald Dahl',\n",
       " 'Corrie Ten Boom',\n",
       " 'Ellen Glasgow',\n",
       " 'Will Rogers',\n",
       " 'Marilyn Monroe',\n",
       " 'Hermann Hesse',\n",
       " 'Emile Zola',\n",
       " 'Julie Isphording',\n",
       " 'Zig Ziglar',\n",
       " 'Eleanor Roosevelt',\n",
       " 'William Jennings Bryan',\n",
       " 'Michel de Montaigne',\n",
       " 'Mother Teresa',\n",
       " 'Mark Twain',\n",
       " 'Booker T. Washington',\n",
       " 'Chuck Palahniuk',\n",
       " 'Edgar Allan Poe',\n",
       " 'John Wooden',\n",
       " 'Edmund Burke',\n",
       " 'Daniel J. Boorstin',\n",
       " 'William Penn',\n",
       " 'Lee Iacocca',\n",
       " 'Albert Einstein',\n",
       " 'Abu Bakr',\n",
       " 'Dr. Seuss',\n",
       " 'Euripides',\n",
       " 'Jim Rohn',\n",
       " 'Wayne Dyer',\n",
       " 'Nelson Mandela',\n",
       " 'Jean de La Fontaine',\n",
       " 'William Arthur Ward',\n",
       " 'Margaret Fuller',\n",
       " 'Mark Twain',\n",
       " 'Walt Disney',\n",
       " 'Charles Kettering',\n",
       " 'Richard DeVos',\n",
       " 'Marcus Aurelius',\n",
       " 'Robert Fulghum',\n",
       " 'Milton Berle',\n",
       " 'Jim Rohn',\n",
       " 'Abraham Lincoln',\n",
       " 'Denis Waitley',\n",
       " 'Virginia Woolf',\n",
       " 'Tom Krause',\n",
       " 'Abdul Kalam',\n",
       " 'Edward Eggleston',\n",
       " 'Albert Einstein',\n",
       " 'Martin Luther King, Jr.',\n",
       " 'Gilda Radner',\n",
       " 'Jim Rohn',\n",
       " 'Frederick Buechner',\n",
       " 'Colin Powell',\n",
       " 'Wilma Rudolph',\n",
       " 'Albert Einstein',\n",
       " 'Lou Holtz',\n",
       " 'Goran Persson',\n",
       " 'Will Smith',\n",
       " 'Martin Luther King, Jr.',\n",
       " 'Barbara Bush',\n",
       " 'Rose Kennedy',\n",
       " 'John F. Kennedy',\n",
       " 'Michael Landon',\n",
       " 'Henry David Thoreau',\n",
       " 'Martin Luther King, Jr.',\n",
       " 'Ayn Rand']"
      ]
     },
     "execution_count": 1424,
     "metadata": {},
     "output_type": "execute_result"
    }
   ],
   "source": [
    "page5_author=[]\n",
    "for i in author:\n",
    "    authors=i.text\n",
    "    page5_author.append(authors)\n",
    "page5_author"
   ]
  },
  {
   "cell_type": "code",
   "execution_count": 1425,
   "id": "a41f1f20",
   "metadata": {},
   "outputs": [
    {
     "name": "stdout",
     "output_type": "stream",
     "text": [
      "100\n"
     ]
    }
   ],
   "source": [
    "print(len(page5_author))"
   ]
  },
  {
   "cell_type": "code",
   "execution_count": 1426,
   "id": "0ad11aef",
   "metadata": {},
   "outputs": [
    {
     "data": {
      "text/plain": [
       "[<selenium.webdriver.remote.webelement.WebElement (session=\"dd1197ad3b36ddca03cd1ff4cc8ea25b\", element=\"d09f1001-8ee9-4e2b-a5fe-568dc83f46dd\")>,\n",
       " <selenium.webdriver.remote.webelement.WebElement (session=\"dd1197ad3b36ddca03cd1ff4cc8ea25b\", element=\"aa97ee31-9cb7-4cbd-9c94-78589851e239\")>]"
      ]
     },
     "execution_count": 1426,
     "metadata": {},
     "output_type": "execute_result"
    }
   ],
   "source": [
    "# Scrapping Type of Quotes from page 5\n",
    "\n",
    "tag=driver.find_elements(By.XPATH,\"//div[@class='tags']\")\n",
    "\n",
    "\n",
    "tag[0:2]"
   ]
  },
  {
   "cell_type": "code",
   "execution_count": 1427,
   "id": "7cfa00ed",
   "metadata": {},
   "outputs": [
    {
     "data": {
      "text/plain": [
       "['Inspirational, Motivational, Education',\n",
       " 'Inspirational, Motivational, Kindness',\n",
       " 'Inspirational, Motivational, Positive',\n",
       " 'Country, Veterans Day, Brother',\n",
       " 'Inspirational, Life, Success',\n",
       " 'Inspirational, Life, Motivational',\n",
       " 'Inspirational, Strong Women, Empowering',\n",
       " 'Trust, Travel, Truth',\n",
       " 'Inspirational, Friendship, Relationship',\n",
       " 'Inspirational, Wise, Wisdom',\n",
       " 'Inspirational, Life, Motivational',\n",
       " 'Letting Go, Spiritual, Courage',\n",
       " 'Motivational, Positive, Gratitude',\n",
       " 'Powerful, Hate, Son',\n",
       " 'Love, Positive, Happiness',\n",
       " 'Inspirational, Life, Positive',\n",
       " 'Inspirational, Life, Friendship',\n",
       " 'Happiness, Happy, Being Happy',\n",
       " 'Wise, Wisdom, Stupid',\n",
       " 'Inspirational, Life, Education',\n",
       " 'Courage, Men, Perfect',\n",
       " 'Inspirational, Inspiring, Courage',\n",
       " 'Nature, Educational, Humorous',\n",
       " 'Inspirational, Motivational, Success',\n",
       " 'Inspirational, Money, Time',\n",
       " 'Happiness, Witty, Money',\n",
       " 'Inspirational, Life, Wisdom',\n",
       " 'Strong, Powerful, Past',\n",
       " 'Inspirational, Motivational, Positive',\n",
       " 'Inspirational, Life, Music',\n",
       " 'Travel, Istanbul, Cities',\n",
       " 'Memorial Day, Courage, Adventure',\n",
       " 'Inspirational, Motivational, Change',\n",
       " 'Inspirational, Attitude, Yoga',\n",
       " 'Inspirational, Motivational, Moving On',\n",
       " 'Inspirational, Life, Believe',\n",
       " 'Faith, God, Christian',\n",
       " 'Change, Positive, Organization',\n",
       " 'Inspirational, Life, Positive',\n",
       " 'Love, Funny, Relationship',\n",
       " 'Love, Life, Strength',\n",
       " 'Inspirational, Life, Positive',\n",
       " 'Running, Long, Joy',\n",
       " 'Motivational, Success, Business',\n",
       " 'Happiness, Success, Happy',\n",
       " 'Inspirational, Life, Motivational',\n",
       " 'Veterans Day, Memorial Day, Courage',\n",
       " 'Life, New Year, Mother',\n",
       " 'Inspirational, Life, Motivational',\n",
       " 'Inspirational, Life, Motivational',\n",
       " 'Inspirational, Life, Inspiring',\n",
       " 'Depression, Spring, Science',\n",
       " 'Inspirational, Life, Motivational',\n",
       " 'Inspirational, Wisdom, Witty',\n",
       " 'Inspiring, Education, Wisdom',\n",
       " 'Time, Top Management, Want',\n",
       " 'Love, Family, Wise',\n",
       " 'Inspirational, Education, Knowledge',\n",
       " 'Complaints, Caliphs, Invites',\n",
       " 'Inspirational, Life, Inspiring',\n",
       " 'Inspirational, Wisdom, Hands',\n",
       " 'Inspirational, Life, Motivational',\n",
       " 'Motivational, Spiritual, Work',\n",
       " 'Justice, Overcoming, Fundamentals',\n",
       " 'Inspirational, Strength, Being Strong',\n",
       " 'Inspirational, Motivational, Dream',\n",
       " 'Inspirational, Positive, Education',\n",
       " 'Inspirational, Motivational, Positive',\n",
       " 'Inspirational, Positive Thinking, Long',\n",
       " 'Motivational, Positive, Faith',\n",
       " 'Life, Relationship, Money',\n",
       " 'Truth, Intelligent, Greatness',\n",
       " 'Marriage, Mother, Children',\n",
       " 'Funny, Mothers Day, Hilarious',\n",
       " 'Inspirational, Motivational, Positive',\n",
       " 'Motivational, Faith, Attitude',\n",
       " 'Love, Happiness, Smile',\n",
       " 'Life, Meaningful, Peace',\n",
       " 'Inspirational, Positive, Cheer',\n",
       " 'Courage, Thinking, People',\n",
       " 'Change, Success, Running',\n",
       " 'Inspirational, Positive, Leadership',\n",
       " 'Love, Friendship, Change',\n",
       " 'Life, Change, Goodbye',\n",
       " 'Inspirational, Decisions You Make, Progress',\n",
       " 'Life, God, Christian',\n",
       " 'Life, Moving On, Wise',\n",
       " 'Inspirational, Positive, Determination',\n",
       " 'Motivational, Education, Freedom',\n",
       " 'Inspirational, Volleyball, Football',\n",
       " 'Inspirational, New Year, Time',\n",
       " 'Forgiveness, Jealousy, Hater',\n",
       " 'Inspirational, Motivational, Change',\n",
       " 'Success, Congratulations, Teaching',\n",
       " 'Inspirational, Life, Change',\n",
       " '4th Of July, Responsibility, Past',\n",
       " 'Motivational, Positive, Death',\n",
       " 'Inspirational, Being Yourself, Real',\n",
       " 'Inspirational, Positive, Inspiring',\n",
       " 'Men, Rights, Use']"
      ]
     },
     "execution_count": 1427,
     "metadata": {},
     "output_type": "execute_result"
    }
   ],
   "source": [
    "page5_tag=[]\n",
    "for i in tag:\n",
    "    tags=i.text\n",
    "    page5_tag.append(tags)\n",
    "page5_tag"
   ]
  },
  {
   "cell_type": "code",
   "execution_count": 1428,
   "id": "6155c07e",
   "metadata": {},
   "outputs": [
    {
     "name": "stdout",
     "output_type": "stream",
     "text": [
      "100\n"
     ]
    }
   ],
   "source": [
    "print(len(page5_tag))"
   ]
  },
  {
   "cell_type": "code",
   "execution_count": 1429,
   "id": "8390d2a5",
   "metadata": {},
   "outputs": [
    {
     "data": {
      "text/html": [
       "<div>\n",
       "<style scoped>\n",
       "    .dataframe tbody tr th:only-of-type {\n",
       "        vertical-align: middle;\n",
       "    }\n",
       "\n",
       "    .dataframe tbody tr th {\n",
       "        vertical-align: top;\n",
       "    }\n",
       "\n",
       "    .dataframe thead th {\n",
       "        text-align: right;\n",
       "    }\n",
       "</style>\n",
       "<table border=\"1\" class=\"dataframe\">\n",
       "  <thead>\n",
       "    <tr style=\"text-align: right;\">\n",
       "      <th></th>\n",
       "      <th>page_title</th>\n",
       "      <th>page_author</th>\n",
       "      <th>page_tag</th>\n",
       "    </tr>\n",
       "  </thead>\n",
       "  <tbody>\n",
       "    <tr>\n",
       "      <th>0</th>\n",
       "      <td>The only person who is educated is the one who...</td>\n",
       "      <td>Carl Rogers</td>\n",
       "      <td>Inspirational, Motivational, Education</td>\n",
       "    </tr>\n",
       "    <tr>\n",
       "      <th>1</th>\n",
       "      <td>Carry out a random act of kindness, with no ex...</td>\n",
       "      <td>Princess Diana</td>\n",
       "      <td>Inspirational, Motivational, Kindness</td>\n",
       "    </tr>\n",
       "    <tr>\n",
       "      <th>2</th>\n",
       "      <td>Don't be afraid to give up the good to go for ...</td>\n",
       "      <td>John D. Rockefeller</td>\n",
       "      <td>Inspirational, Motivational, Positive</td>\n",
       "    </tr>\n",
       "    <tr>\n",
       "      <th>3</th>\n",
       "      <td>Honor to the soldier and sailor everywhere, wh...</td>\n",
       "      <td>Abraham Lincoln</td>\n",
       "      <td>Country, Veterans Day, Brother</td>\n",
       "    </tr>\n",
       "    <tr>\n",
       "      <th>4</th>\n",
       "      <td>Everyone has talent. What is rare is the coura...</td>\n",
       "      <td>Erica Jong</td>\n",
       "      <td>Inspirational, Life, Success</td>\n",
       "    </tr>\n",
       "  </tbody>\n",
       "</table>\n",
       "</div>"
      ],
      "text/plain": [
       "                                          page_title          page_author  \\\n",
       "0  The only person who is educated is the one who...          Carl Rogers   \n",
       "1  Carry out a random act of kindness, with no ex...       Princess Diana   \n",
       "2  Don't be afraid to give up the good to go for ...  John D. Rockefeller   \n",
       "3  Honor to the soldier and sailor everywhere, wh...      Abraham Lincoln   \n",
       "4  Everyone has talent. What is rare is the coura...           Erica Jong   \n",
       "\n",
       "                                 page_tag  \n",
       "0  Inspirational, Motivational, Education  \n",
       "1   Inspirational, Motivational, Kindness  \n",
       "2   Inspirational, Motivational, Positive  \n",
       "3          Country, Veterans Day, Brother  \n",
       "4            Inspirational, Life, Success  "
      ]
     },
     "execution_count": 1429,
     "metadata": {},
     "output_type": "execute_result"
    }
   ],
   "source": [
    "# Creating Data Frame for Page 5\n",
    "\n",
    "page5 = pd.DataFrame({})\n",
    "page5[\"page_title\"]=page5_title\n",
    "page5[\"page_author\"]=page5_author\n",
    "page5[\"page_tag\"]=page5_tag\n",
    "page5.head()"
   ]
  },
  {
   "cell_type": "code",
   "execution_count": 1440,
   "id": "d50642ff",
   "metadata": {},
   "outputs": [],
   "source": [
    "# Clicking on Page 6\n",
    "\n",
    "\n",
    "next_button=driver.find_element(By.XPATH,\"/html/body/div[1]/div[2]/div/div/div/div[1]/div/div[3]/li[13]/a\")\n",
    "next_button.click()"
   ]
  },
  {
   "cell_type": "code",
   "execution_count": 1441,
   "id": "26f9898c",
   "metadata": {},
   "outputs": [
    {
     "data": {
      "text/plain": [
       "[<selenium.webdriver.remote.webelement.WebElement (session=\"70a940ddc0de5523c7493518f441ec6b\", element=\"c704165a-129a-41f9-b468-ee19002be0c7\")>,\n",
       " <selenium.webdriver.remote.webelement.WebElement (session=\"70a940ddc0de5523c7493518f441ec6b\", element=\"514e4925-4af5-453b-804c-d37560512b95\")>]"
      ]
     },
     "execution_count": 1441,
     "metadata": {},
     "output_type": "execute_result"
    }
   ],
   "source": [
    "# Finding The Qoute from page 6\n",
    "\n",
    "title=driver.find_elements(By.XPATH,\"//a[@class='title']\")\n",
    "\n",
    "\n",
    "title[0:2]"
   ]
  },
  {
   "cell_type": "code",
   "execution_count": 1442,
   "id": "a369074e",
   "metadata": {},
   "outputs": [
    {
     "data": {
      "text/plain": [
       "['If music be the food of love, play on, Give me excess of it; that surfeiting, The appetite may sicken, and so die.',\n",
       " \"Marriage: If you want something to last forever, you treat it differently. You shield it and protect it. You never abuse it. You don't expose it to the elements. You don't make it common or ordinary. If it ever becomes tarnished, you lovingly polish it until it gleams like new. It becomes special because you have made it so, and it grows more beautiful and precious as time goes by.\",\n",
       " 'Eighty percent of success is showing up.',\n",
       " 'A hero is an ordinary individual who finds the strength to persevere and endure in spite of overwhelming obstacles.',\n",
       " 'Our dilemma is that we hate change and love it at the same time; what we really want is for things to remain the same but get better.',\n",
       " \"If you believe you can, you probably can. If you believe you won't, you most assuredly won't.\\nBelief is the ignition switch that gets you off the launching pad.\",\n",
       " \"It's easy to make a buck. It's a lot tougher to make a difference.\",\n",
       " \"Ever since I was a child I have had this instinctive urge for expansion and growth. To me, the function and duty of a quality human being is the sincere and honest development of one's potential.\",\n",
       " 'If you focus on results, you will never change. If you focus on change, you will get results.',\n",
       " 'To find joy in work is to discover the fountain of youth.',\n",
       " 'Expect great things from God, attempt great things for God.',\n",
       " \"The greatest day in your life and mine is when we take total responsibility for our attitudes. That's the day we truly grow up.\",\n",
       " 'Education is what remains after one has forgotten what one has learned in school.',\n",
       " \"I mean, if the relationship can't survive the long term, why on earth would it be worth my time and energy for the short term?\",\n",
       " 'The privilege of a lifetime is being who you are.',\n",
       " 'Hating people is like burning down your own house to get rid of a rat.',\n",
       " \"Your time is limited, so don't waste it living someone else's life.\",\n",
       " 'Trust yourself. Create the kind of self that you will be happy to live with all your life. Make the most of yourself by fanning the tiny, inner sparks of possibility into flames of achievement.',\n",
       " 'If I take care of my character, my reputation will take care of me.',\n",
       " \"Success is a lousy teacher. It seduces smart people into thinking they can't lose.\",\n",
       " 'You will never reach your destination if you stop and throw stones at every dog that barks.',\n",
       " 'Life can only be understood backwards; but it must be lived forwards.',\n",
       " 'A good friend is a connection to life - a tie to the past, a road to the future, the key to sanity in a totally insane world.',\n",
       " 'Speak when you are angry and you will make the best speech you will ever regret.',\n",
       " \"Anybody can become angry - that is easy, but to be angry with the right person and to the right degree and at the right time and for the right purpose, and in the right way - that is not within everybody's power and is not easy.\",\n",
       " 'Neither a wise man nor a brave man lies down on the tracks of history to wait for the train of the future to run over him.',\n",
       " 'Courage is grace under pressure.',\n",
       " 'Talent hits a target no one else can hit; Genius hits a target no one else can see.',\n",
       " 'Trust yourself. Create the kind of self that you will be happy to live with all your life.',\n",
       " 'Dream and give yourself permission to envision a You that you choose to be.',\n",
       " 'Live out of your imagination, not your history.',\n",
       " 'Love yourself first and everything else falls into line. You really have to love yourself to get anything done in this world.',\n",
       " 'Success is peace of mind which is a direct result of self-satisfaction in knowing you did your best to become the best you are capable of becoming.',\n",
       " 'Great achievement is usually born of great sacrifice, and is never the result of selfishness.',\n",
       " 'The connections between and among women are the most feared, the most problematic, and the most potentially transforming force on the planet.',\n",
       " \"Don't let the fear of striking out hold you back.\",\n",
       " 'A nation can survive its fools, and even the ambitious. But it cannot survive treason from within. An enemy at the gates is less formidable, for he is known and carries his banner openly. But the traitor moves amongst those within the gate freely, his sly whispers rustling through all the alleys, heard in the very halls of government itself.',\n",
       " 'Being ignorant is not so much a shame, as being unwilling to learn.',\n",
       " \"Even if you're on the right track, you'll get run over if you just sit there.\",\n",
       " 'There are only two options regarding commitment; you’re either in or you’re out.',\n",
       " 'Above all, be the heroine of your life, not the victim.',\n",
       " 'Think of all the beauty still left around you and be happy.',\n",
       " 'The entrepreneur always searches for change, responds to it, and exploits it as an opportunity.',\n",
       " \"If you spend your whole life waiting for the storm, you'll never enjoy the sunshine.\",\n",
       " 'If you want your children to improve, let them overhear the nice things you say about them to others.',\n",
       " 'Your success and happiness lies in you. Resolve to keep happy, and your joy and you shall form an invincible host against difficulties.',\n",
       " 'Start where you are, use what you have.',\n",
       " 'Many marriages would be better if the husband and the wife clearly understood that they are on the same side.',\n",
       " 'We make a living by what we get, but we make a life by what we give.',\n",
       " 'I would rather have a mind opened by wonder than one closed by belief.',\n",
       " 'Success is a state of mind. If you want success, start thinking of yourself as a success.',\n",
       " 'You must either modify your dreams or magnify your skills',\n",
       " 'You cannot escape the responsibility of tomorrow by evading it today.',\n",
       " 'I knew what my job was; it was to go out and meet the people and love them.',\n",
       " 'When we are no longer able to change a situation - we are challenged to change ourselves.',\n",
       " 'If you look the right way, you can see that the whole world is a garden.',\n",
       " 'To hell with circumstances; I create opportunities.',\n",
       " 'Education is for improving the lives of others and for leaving your community and world better than you found it.',\n",
       " 'There is no death, only a change of worlds.',\n",
       " 'A person who is nice to you, but rude to the waiter, is not a nice person.',\n",
       " 'I attribute my success to this - I never gave or took any excuse.',\n",
       " 'Success is nothing more than a few simple disciplines, practiced every day.',\n",
       " 'If there must be trouble, let it be in my day, that my child may have peace.',\n",
       " \"I have a very strict gun control policy: if there's a gun around, I want to be in control of it.\",\n",
       " \"I have learned over the years that when one's mind is made up, this diminishes fear; knowing what must be done does away with fear.\",\n",
       " 'The beautiful thing about learning is nobody can take it away from you.',\n",
       " 'I am always doing that which I cannot do, in order that I may learn how to do it.',\n",
       " 'Security is mostly a superstition. It does not exist in nature.',\n",
       " \"If you're offered a seat on a rocket ship, don't ask what seat! Just get on.\",\n",
       " \"Don't be distracted by criticism. Remember ~ the only taste of success some people have is when they take a bite out of you.\",\n",
       " \"It's not your job to like me - it's mine\",\n",
       " 'We gain strength, and courage, and confidence by each experience in which we really stop to look fear in the face... we must do that which we think we cannot.',\n",
       " 'Aging is not \"lost youth\" but a new stage of opportunity and strength.',\n",
       " 'Gratitude makes sense of our past, brings peace for today, and creates a vision for tomorrow.',\n",
       " 'The pessimist complains about the wind; the optimist expects it to change; the realist adjusts the sails.',\n",
       " 'Far and away the best prize that life has to offer is the chance to work hard at work worth doing.',\n",
       " 'It is better to look ahead and prepare than to look back and regret.',\n",
       " 'Perfection is not attainable, but if we chase perfection we can catch excellence.',\n",
       " \"I hated every minute of training, but I said, 'Don't quit. Suffer now and live the rest of your life as a champion.'\",\n",
       " 'Fame is a vapor, popularity an accident, and riches take wings. Only one thing endures and that is character.',\n",
       " 'One good thing about music, when it hits you, you feel no pain.',\n",
       " 'Happiness in intelligent people is the rarest thing I know.',\n",
       " 'Develop an attitude of gratitude, and give thanks for everything that happens to you, knowing that every step forward is a step toward achieving something bigger and better than your current situation.',\n",
       " \"For every failure, there's an alternative course of action. You just have to find it. When you come to a roadblock, take a detour.\",\n",
       " 'The best way to make your dreams come true is to wake up.',\n",
       " 'Life is 10 percent what you make it, and 90 percent how you take it.',\n",
       " 'My heroes are the ones who survived doing it wrong, who made mistakes, but recovered from them.',\n",
       " 'Small deeds done are better than great deeds planned.',\n",
       " \"Tis' better to live your own life imperfectly than to imitate someone else's perfectly.\",\n",
       " 'If you are neutral in situations of injustice, you have chosen the side of the oppressor. If an elephant has its foot on the tail of a mouse and you say that you are neutral, the mouse will not appreciate your neutrality.',\n",
       " 'You are the average of the five people you spend the most time with.',\n",
       " 'A loving person lives in a loving world. A hostile person lives in a hostile world.',\n",
       " 'Make everything as simple as possible, but not simpler.',\n",
       " 'The most beautiful people we have known are those who have known defeat, known suffering, known struggle, known loss, and have found their way out of those depths.',\n",
       " 'Successful people ask better questions, and as a result, they get better answers.',\n",
       " 'There are three constants in life... change, choice and principles.',\n",
       " 'Young people need models, not critics.',\n",
       " \"Advice is what we ask for when we already know the answer but wish we didn't.\",\n",
       " 'Clear thinking requires courage rather than intelligence.',\n",
       " 'The great use of life is to spend it for something that will outlast it.']"
      ]
     },
     "execution_count": 1442,
     "metadata": {},
     "output_type": "execute_result"
    }
   ],
   "source": [
    "page6_title=[]\n",
    "for i in title:\n",
    "    titles=i.text\n",
    "    page6_title.append(titles)\n",
    "page6_title"
   ]
  },
  {
   "cell_type": "code",
   "execution_count": 1443,
   "id": "6d7a4fbc",
   "metadata": {},
   "outputs": [
    {
     "name": "stdout",
     "output_type": "stream",
     "text": [
      "100\n"
     ]
    }
   ],
   "source": [
    "print(len(page6_title))"
   ]
  },
  {
   "cell_type": "code",
   "execution_count": 1444,
   "id": "1761ccc6",
   "metadata": {},
   "outputs": [
    {
     "data": {
      "text/plain": [
       "[<selenium.webdriver.remote.webelement.WebElement (session=\"70a940ddc0de5523c7493518f441ec6b\", element=\"e312a0a9-4651-4ee5-8326-75aacdaf357d\")>,\n",
       " <selenium.webdriver.remote.webelement.WebElement (session=\"70a940ddc0de5523c7493518f441ec6b\", element=\"874f5053-e4dd-4d50-8261-334cd1d2e2de\")>]"
      ]
     },
     "execution_count": 1444,
     "metadata": {},
     "output_type": "execute_result"
    }
   ],
   "source": [
    "# Finding The Author from Page 6\n",
    "\n",
    "author=driver.find_elements(By.XPATH,\"//div[@class='author']\")\n",
    "\n",
    "\n",
    "author[0:2]"
   ]
  },
  {
   "cell_type": "code",
   "execution_count": 1445,
   "id": "2b8e86be",
   "metadata": {},
   "outputs": [
    {
     "data": {
      "text/plain": [
       "['William Shakespeare',\n",
       " 'F. Burton Howard',\n",
       " 'Woody Allen',\n",
       " 'Christopher Reeve',\n",
       " 'Sydney J. Harris',\n",
       " 'Denis Waitley',\n",
       " 'Tom Brokaw',\n",
       " 'Bruce Lee',\n",
       " 'Jack Dixon',\n",
       " 'Pearl S. Buck',\n",
       " 'William Carey',\n",
       " 'John C. Maxwell',\n",
       " 'Albert Einstein',\n",
       " 'Nicholas Sparks',\n",
       " 'Joseph Campbell',\n",
       " 'Harry Emerson Fosdick',\n",
       " 'Steve Jobs',\n",
       " 'Golda Meir',\n",
       " 'Dwight L. Moody',\n",
       " 'Bill Gates',\n",
       " 'Winston Churchill',\n",
       " 'Soren Kierkegaard',\n",
       " 'Lois Wyse',\n",
       " 'Ambrose Bierce',\n",
       " 'Aristotle',\n",
       " 'Dwight D. Eisenhower',\n",
       " 'Ernest Hemingway',\n",
       " 'Arthur Schopenhauer',\n",
       " 'Golda Meir',\n",
       " 'Joy Page',\n",
       " 'Stephen Covey',\n",
       " 'Lucille Ball',\n",
       " 'John Wooden',\n",
       " 'Napoleon Hill',\n",
       " 'Adrienne Rich',\n",
       " 'Babe Ruth',\n",
       " 'Marcus Tullius Cicero',\n",
       " 'Benjamin Franklin',\n",
       " 'Will Rogers',\n",
       " 'Pat Riley',\n",
       " 'Nora Ephron',\n",
       " 'Anne Frank',\n",
       " 'Peter Drucker',\n",
       " 'Morris West',\n",
       " 'Haim Ginott',\n",
       " 'Helen Keller',\n",
       " 'Arthur Ashe',\n",
       " 'Zig Ziglar',\n",
       " 'Winston Churchill',\n",
       " 'Gerry Spence',\n",
       " 'Joyce Brothers',\n",
       " 'Jim Rohn',\n",
       " 'Abraham Lincoln',\n",
       " 'Princess Diana',\n",
       " 'Viktor E. Frankl',\n",
       " 'Frances Hodgson Burnett',\n",
       " 'Bruce Lee',\n",
       " 'Marian Wright Edelman',\n",
       " 'Chief Seattle',\n",
       " 'Dave Barry',\n",
       " 'Florence Nightingale',\n",
       " 'Jim Rohn',\n",
       " 'Thomas Paine',\n",
       " 'Clint Eastwood',\n",
       " 'Rosa Parks',\n",
       " 'B. B. King',\n",
       " 'Pablo Picasso',\n",
       " 'Helen Keller',\n",
       " 'Sheryl Sandberg',\n",
       " 'Zig Ziglar',\n",
       " 'Byron Katie',\n",
       " 'Eleanor Roosevelt',\n",
       " 'Betty Friedan',\n",
       " 'Melody Beattie',\n",
       " 'William Arthur Ward',\n",
       " 'Theodore Roosevelt',\n",
       " 'Jackie Joyner-Kersee',\n",
       " 'Vince Lombardi',\n",
       " 'Muhammad Ali',\n",
       " 'Horace Greeley',\n",
       " 'Bob Marley',\n",
       " 'Ernest Hemingway',\n",
       " 'Brian Tracy',\n",
       " 'Mary Kay Ash',\n",
       " 'Paul Valery',\n",
       " 'Irving Berlin',\n",
       " 'Bono',\n",
       " 'Peter Marshall',\n",
       " 'Elizabeth Gilbert',\n",
       " 'Desmond Tutu',\n",
       " 'Jim Rohn',\n",
       " 'Ken Keyes Jr.',\n",
       " 'Albert Einstein',\n",
       " 'Elisabeth Kubler-Ross',\n",
       " 'Tony Robbins',\n",
       " 'Stephen Covey',\n",
       " 'John Wooden',\n",
       " 'Erica Jong',\n",
       " 'Thomas Szasz',\n",
       " 'William James']"
      ]
     },
     "execution_count": 1445,
     "metadata": {},
     "output_type": "execute_result"
    }
   ],
   "source": [
    "page6_author=[]\n",
    "for i in author:\n",
    "    authors=i.text\n",
    "    page6_author.append(authors)\n",
    "page6_author"
   ]
  },
  {
   "cell_type": "code",
   "execution_count": 1446,
   "id": "580801e2",
   "metadata": {},
   "outputs": [
    {
     "name": "stdout",
     "output_type": "stream",
     "text": [
      "100\n"
     ]
    }
   ],
   "source": [
    "print(len(page6_author))"
   ]
  },
  {
   "cell_type": "code",
   "execution_count": 1447,
   "id": "cf8de0da",
   "metadata": {},
   "outputs": [
    {
     "data": {
      "text/plain": [
       "[<selenium.webdriver.remote.webelement.WebElement (session=\"70a940ddc0de5523c7493518f441ec6b\", element=\"bccfe239-602e-4818-b45a-9b17a6458340\")>,\n",
       " <selenium.webdriver.remote.webelement.WebElement (session=\"70a940ddc0de5523c7493518f441ec6b\", element=\"c294ff14-a6b6-4d6d-8749-12aa7d5580d2\")>]"
      ]
     },
     "execution_count": 1447,
     "metadata": {},
     "output_type": "execute_result"
    }
   ],
   "source": [
    "# Scrapping Type of Quotes from page 6\n",
    "\n",
    "tag=driver.find_elements(By.XPATH,\"//div[@class='tags']\")\n",
    "\n",
    "\n",
    "tag[0:2]"
   ]
  },
  {
   "cell_type": "code",
   "execution_count": 1448,
   "id": "1ae18fc9",
   "metadata": {},
   "outputs": [
    {
     "data": {
      "text/plain": [
       "['Music, Food, Unrequited Love',\n",
       " 'Love, Family, Marriage',\n",
       " 'Inspirational, Positive, Inspiring',\n",
       " 'Inspirational, Motivational, Strength',\n",
       " 'Love, Funny, Change',\n",
       " 'Positive, Confidence, Buddhist',\n",
       " 'Inspirational, Appreciation, Motivation',\n",
       " 'Children, Greatness, Organization',\n",
       " 'Motivational, Change, Basketball',\n",
       " 'Inspirational, Monday, Work',\n",
       " 'Christian, Spiritual, Religion',\n",
       " 'Inspirational, Spiritual, Growing Up',\n",
       " 'Inspirational, Education, Learning',\n",
       " 'Relationship, Mean, Long',\n",
       " 'Inspirational, Being Yourself, Appreciation',\n",
       " 'Inspirational, Funny, Sad',\n",
       " 'Inspirational, Life, Motivational',\n",
       " 'Motivational, Happiness, Happy',\n",
       " 'Leadership, Character, Care',\n",
       " 'Inspirational, Success, Teacher',\n",
       " 'Inspirational, Inspiring, Dog',\n",
       " 'Love, Life, Positive',\n",
       " 'Life, Friendship, Best Friend',\n",
       " 'Inspirational, Cute, Sad',\n",
       " 'Life, Success, Wisdom',\n",
       " 'Life, Change, Wise',\n",
       " 'Inspirational, Positive, Courage',\n",
       " 'Inspirational, Life, Beautiful',\n",
       " 'Inspirational, Life, Change',\n",
       " 'Dream, Giving, Permission',\n",
       " 'Inspirational, Motivational, Courage',\n",
       " 'Love, Inspirational, Relationship',\n",
       " 'Inspirational, Motivational, Success',\n",
       " 'Love, Inspirational, Family',\n",
       " 'Inspirational, Motivational, Feminist',\n",
       " 'Success, Baseball, Fear',\n",
       " 'Moving, Tyrants, World Government',\n",
       " 'Inspirational, Learning, Ignorance',\n",
       " 'Inspirational, Funny, Life',\n",
       " 'Inspirational, Basketball, Sports',\n",
       " 'Life, Inspiring, Encouraging',\n",
       " 'Inspirational, Life, Positive',\n",
       " 'Inspirational, Motivational, Business',\n",
       " 'Happiness, Summer, Christian',\n",
       " 'Children, Nice, Self Esteem',\n",
       " 'Inspirational, Life, Motivational',\n",
       " 'Inspirational, Motivational, Positive',\n",
       " 'Inspirational, Funny, Life',\n",
       " 'Love, Inspirational, Life',\n",
       " 'Life, Faith, Religious',\n",
       " 'Positive, Success, Determination',\n",
       " 'Motivational, Success, Dream',\n",
       " 'Inspirational, Basketball, Peace',\n",
       " 'Jobs, Women, Princess',\n",
       " 'Inspirational, Change, Positive',\n",
       " 'Cheer Up, Positive Attitude, Garden',\n",
       " \"Motivation, Don't Give Up, Positivity\",\n",
       " 'Education, Learning, Community',\n",
       " 'Change, Sympathy, Native American',\n",
       " 'Inspirational, Motivational, Respect',\n",
       " 'Inspirational, Life, Motivational',\n",
       " 'Inspiring, Success, Life And Love',\n",
       " 'Veterans Day, Time, Peace',\n",
       " 'Funny, Gun, Want',\n",
       " 'Inspirational, Positive, Inspiring',\n",
       " 'Love, Inspirational, Life',\n",
       " 'Inspirational, Life, Success',\n",
       " 'Death, Spiritual, Courage',\n",
       " 'Inspirational, Life, Motivational',\n",
       " 'Inspirational, Motivational, Encouraging',\n",
       " 'Inspiring, Boyfriend, Strong Women',\n",
       " 'Inspirational, Life, Motivational',\n",
       " 'Birthday, Strength, Inspiring',\n",
       " 'Happiness, Thanksgiving, Thank You',\n",
       " 'Inspirational, Inspiring, Leadership',\n",
       " 'Inspirational, Life, Motivational',\n",
       " 'Inspirational, Motivational, Success',\n",
       " 'Inspirational, Life, Motivational',\n",
       " 'Inspirational, Motivational, Sports',\n",
       " 'Wisdom, Character, Wings',\n",
       " 'Funny, Music, Wisdom',\n",
       " 'Life, Happiness, Happy',\n",
       " 'Thankful, Gratitude, Appreciation',\n",
       " 'Inspiring, Success, Failure',\n",
       " 'Inspirational, Motivational, Positive',\n",
       " 'Life, Veterans Day, Attitude',\n",
       " 'Love, Inspirational, Motivational',\n",
       " 'Love, Motivational, Family',\n",
       " 'Life, Being Yourself, Positivity',\n",
       " 'Bullying, Peace, Elephants',\n",
       " 'Inspirational, Motivational, Success',\n",
       " 'Love, Inspirational, Positive',\n",
       " 'Inspirational, Funny, Witty',\n",
       " 'Inspirational, Beauty, Beautiful',\n",
       " 'Success, Tattoo, Business',\n",
       " 'Life, Change, Bad Ass',\n",
       " 'Basketball, Youth Of Today, Nba',\n",
       " 'Funny, Being Strong, Spiritual',\n",
       " 'Courage, Thinking, Clear',\n",
       " 'Inspirational, Life, Motivational']"
      ]
     },
     "execution_count": 1448,
     "metadata": {},
     "output_type": "execute_result"
    }
   ],
   "source": [
    "page6_tag=[]\n",
    "for i in tag:\n",
    "    tags=i.text\n",
    "    page6_tag.append(tags)\n",
    "page6_tag"
   ]
  },
  {
   "cell_type": "code",
   "execution_count": 1449,
   "id": "3df5fda3",
   "metadata": {},
   "outputs": [
    {
     "name": "stdout",
     "output_type": "stream",
     "text": [
      "100\n"
     ]
    }
   ],
   "source": [
    "print(len(page6_tag))"
   ]
  },
  {
   "cell_type": "code",
   "execution_count": 1450,
   "id": "8ad5b5b6",
   "metadata": {},
   "outputs": [
    {
     "data": {
      "text/html": [
       "<div>\n",
       "<style scoped>\n",
       "    .dataframe tbody tr th:only-of-type {\n",
       "        vertical-align: middle;\n",
       "    }\n",
       "\n",
       "    .dataframe tbody tr th {\n",
       "        vertical-align: top;\n",
       "    }\n",
       "\n",
       "    .dataframe thead th {\n",
       "        text-align: right;\n",
       "    }\n",
       "</style>\n",
       "<table border=\"1\" class=\"dataframe\">\n",
       "  <thead>\n",
       "    <tr style=\"text-align: right;\">\n",
       "      <th></th>\n",
       "      <th>page_title</th>\n",
       "      <th>page_author</th>\n",
       "      <th>page_tag</th>\n",
       "    </tr>\n",
       "  </thead>\n",
       "  <tbody>\n",
       "    <tr>\n",
       "      <th>0</th>\n",
       "      <td>If music be the food of love, play on, Give me...</td>\n",
       "      <td>William Shakespeare</td>\n",
       "      <td>Music, Food, Unrequited Love</td>\n",
       "    </tr>\n",
       "    <tr>\n",
       "      <th>1</th>\n",
       "      <td>Marriage: If you want something to last foreve...</td>\n",
       "      <td>F. Burton Howard</td>\n",
       "      <td>Love, Family, Marriage</td>\n",
       "    </tr>\n",
       "    <tr>\n",
       "      <th>2</th>\n",
       "      <td>Eighty percent of success is showing up.</td>\n",
       "      <td>Woody Allen</td>\n",
       "      <td>Inspirational, Positive, Inspiring</td>\n",
       "    </tr>\n",
       "    <tr>\n",
       "      <th>3</th>\n",
       "      <td>A hero is an ordinary individual who finds the...</td>\n",
       "      <td>Christopher Reeve</td>\n",
       "      <td>Inspirational, Motivational, Strength</td>\n",
       "    </tr>\n",
       "    <tr>\n",
       "      <th>4</th>\n",
       "      <td>Our dilemma is that we hate change and love it...</td>\n",
       "      <td>Sydney J. Harris</td>\n",
       "      <td>Love, Funny, Change</td>\n",
       "    </tr>\n",
       "  </tbody>\n",
       "</table>\n",
       "</div>"
      ],
      "text/plain": [
       "                                          page_title          page_author  \\\n",
       "0  If music be the food of love, play on, Give me...  William Shakespeare   \n",
       "1  Marriage: If you want something to last foreve...     F. Burton Howard   \n",
       "2           Eighty percent of success is showing up.          Woody Allen   \n",
       "3  A hero is an ordinary individual who finds the...    Christopher Reeve   \n",
       "4  Our dilemma is that we hate change and love it...     Sydney J. Harris   \n",
       "\n",
       "                                page_tag  \n",
       "0           Music, Food, Unrequited Love  \n",
       "1                 Love, Family, Marriage  \n",
       "2     Inspirational, Positive, Inspiring  \n",
       "3  Inspirational, Motivational, Strength  \n",
       "4                    Love, Funny, Change  "
      ]
     },
     "execution_count": 1450,
     "metadata": {},
     "output_type": "execute_result"
    }
   ],
   "source": [
    "# Creating Data Frame for Page 6\n",
    "\n",
    "page6 = pd.DataFrame({})\n",
    "page6[\"page_title\"]=page6_title\n",
    "page6[\"page_author\"]=page6_author\n",
    "page6[\"page_tag\"]=page6_tag\n",
    "page6.head()"
   ]
  },
  {
   "cell_type": "code",
   "execution_count": 1456,
   "id": "841a850a",
   "metadata": {},
   "outputs": [],
   "source": [
    "# Clicking on Page 7\n",
    "\n",
    "\n",
    "next_button=driver.find_element(By.XPATH,\"/html/body/div[1]/div[2]/div/div/div/div[1]/div/div[3]/li[13]/a\")\n",
    "next_button.click()"
   ]
  },
  {
   "cell_type": "code",
   "execution_count": 1457,
   "id": "8e55e9d2",
   "metadata": {},
   "outputs": [
    {
     "data": {
      "text/plain": [
       "[<selenium.webdriver.remote.webelement.WebElement (session=\"c2597f11652987a099fc3c4f5c0e3474\", element=\"8cf0d58b-7aa2-4438-86bb-bf24f2ae37cb\")>,\n",
       " <selenium.webdriver.remote.webelement.WebElement (session=\"c2597f11652987a099fc3c4f5c0e3474\", element=\"e6e2bc73-fa09-445a-929c-5af949dbec69\")>]"
      ]
     },
     "execution_count": 1457,
     "metadata": {},
     "output_type": "execute_result"
    }
   ],
   "source": [
    "# Finding The Qoute from page 7\n",
    "\n",
    "title=driver.find_elements(By.XPATH,\"//a[@class='title']\")\n",
    "\n",
    "\n",
    "title[0:2]"
   ]
  },
  {
   "cell_type": "code",
   "execution_count": 1458,
   "id": "7e738073",
   "metadata": {},
   "outputs": [
    {
     "data": {
      "text/plain": [
       "['A man is not old until regrets take the place of dreams.',\n",
       " 'A part of kindness consists in loving people more than they deserve.',\n",
       " 'When you start to develop your powers of empathy and imagination, the whole world opens up to you.',\n",
       " 'Judge a man by his questions rather than his answers.',\n",
       " 'If you make a sale, you can make a living. If you make an investment of time and good service in a customer, you can make a fortune.',\n",
       " 'Never let a problem to be solved become more important than a person to be loved.',\n",
       " 'If a free society cannot help the many who are poor, it cannot save the few who are rich.',\n",
       " 'Our happiest moments as tourists always seem to come when we stumble upon one thing while in pursuit of something else.',\n",
       " 'People might not get all they work for in this world, but they must certainly work for all they get.',\n",
       " 'We should regret our mistakes and learn from them, but never carry them forward into the future with us.',\n",
       " 'You cannot create experience. You must undergo it.',\n",
       " 'Do you know what my favorite part of the game is? The opportunity to play.',\n",
       " \"The miracle isn't that I finished. The miracle is that I had the courage to start.\",\n",
       " 'It is easy to sit up and take notice, What is difficult is getting up and taking action.',\n",
       " 'Happiness is not a destination. It is a method of life.',\n",
       " 'Meditation is not a way of making your mind quiet. It is a way of entering into the quiet that is already there - buried under the 50,000 thoughts the average person thinks every day',\n",
       " 'The more anger towards the past you carry in your heart, the less capable you are of loving in the present.',\n",
       " 'It takes as much energy to wish as it does to plan.',\n",
       " \"If you hear a voice within you say 'you cannot paint,' then by all means paint, and that voice will be silenced.\",\n",
       " 'The only way to get the best of an argument is to avoid it.',\n",
       " \"If you tell the truth, you don't have to remember anything.\",\n",
       " 'Our incomes are like our shoes; if too small, they gall and pinch us; but if too large, they cause us to stumble and to trip.',\n",
       " 'Perseverance is failing 19 times and succeeding the 20th.',\n",
       " \"You don't need strength to let go of something. What you really need is understanding.\",\n",
       " 'You never really understand a person until you consider things from his point of view.',\n",
       " \"Until you value yourself, you won't value your time. Until you value your time, you will not do anything with it.\",\n",
       " 'Goodbyes are only for those who love with their eyes. Because for those who love with heart and soul there is no such thing as separation.',\n",
       " 'Human behavior flows from three main sources: desire, emotion, and knowledge.',\n",
       " 'Courage is contagious. When a brave man takes a stand, the spines of others are often stiffened.',\n",
       " 'A mediocre idea that generates enthusiasm will go further than a great idea that inspires no one.',\n",
       " 'Death is a challenge. It tells us not to waste time... It tells us to tell each other right now that we love each other.',\n",
       " \"Only those who have learned the power of sincere and selfless contribution experience life's deepest joy: true fulfillment.\",\n",
       " 'More things are wrought by prayer than this world dreams of.',\n",
       " 'I learned the value of hard work by working hard.',\n",
       " 'A child who is allowed to be disrespectful to his parents will not have true respect for anyone.',\n",
       " 'An effort made for the happiness of others lifts above ourselves.',\n",
       " 'The kind of beauty I want most is the hard-to-get kind that comes from within - strength, courage, dignity.',\n",
       " 'If you want to be happy, be.',\n",
       " \"I can accept failure, everyone fails at something. But I can't accept not trying.\",\n",
       " \"It's fine to celebrate success but it is more important to heed the lessons of failure.\",\n",
       " 'There is little success where there is little laughter.',\n",
       " 'Experience is a hard teacher because she gives the test first, the lesson afterward.',\n",
       " \"Life shrinks or expands in proportion to one's courage.\",\n",
       " 'The ultimate reason for setting goals is to entice you to become the person it takes to achieve them',\n",
       " 'Should I kill myself, or have a cup of coffee?',\n",
       " 'He who learns but does not think, is lost. He who thinks but does not learn is in great danger.',\n",
       " 'Of the billionaires I have known, money just brings out the basic traits in them. If they were jerks before they had money, they are simply jerks with a billion dollars.',\n",
       " 'Christmas is the time when kids tell Santa what they want and adults pay for it. Deficits are when adults tell government what they want and their kids pay for it.',\n",
       " \"The key is not to prioritize what's on your schedule, but to schedule your priorities.\",\n",
       " 'When the Holy Rosary is said well, it gives Jesus and Mary more glory and is more meritorious than any other prayer.',\n",
       " \"We've begun to raise daughters more like sons... but few have the courage to raise our sons more like our daughters.\",\n",
       " \"A woman's perfume tells more about her than her handwriting.\",\n",
       " 'I am always ready to learn although I do not always like being taught.',\n",
       " 'Simply put, you believer that things or people make you unhappy, but this is not accurate. You make yourself unhappy.',\n",
       " 'A well regulated militia, composed of the body of the people, trained in arms, is the best most natural defense of a free country.',\n",
       " \"People won't have time for you if you are always angry or complaining.\",\n",
       " \"I don't believe people are looking for the meaning of life as much as they are looking for the experience of being alive.\",\n",
       " \"I believe that whatever doesn't kill you, simply makes you... stranger.\",\n",
       " \"Don't wish it was easier wish you were better. Don't wish for less problems wish for more skills. Don't wish for less challenge wish for more wisdom\",\n",
       " 'Excuses are the nails used to build a house of failure.',\n",
       " 'Everything will line up perfectly when knowing and living the truth becomes more important than looking good.',\n",
       " 'There is no medicine like hope, no incentive so great, and no tonic so powerful as expectation of something tomorrow.',\n",
       " \"The Christian life is not a constant high. I have my moments of deep discouragement. I have to go to God in prayer with tears in my eyes, and say, 'O God, forgive me,' or 'Help me.'\",\n",
       " 'For every minute you remain angry, you give up sixty seconds of peace of mind.',\n",
       " 'As long as I live, I\\'ll hear waterfalls and birds and winds sing. I\\'ll interpret the rocks, learn the language of flood, storm, and the avalanche. I\\'ll acquaint myself with the glaciers and wild gardens, and get as near the heart of the world as I can\".',\n",
       " 'The greatest achievement was at first and for a time a dream. The oak sleeps in the acorn, the bird waits in the egg, and in the highest vision of the soul a waking angel stirs. Dreams are the seedlings of realities.',\n",
       " 'Learning never exhausts the mind.',\n",
       " \"It's not the events of our lives that shape us, but our beliefs as to what those events mean.\",\n",
       " \"Victory is sweetest when you've known defeat.\",\n",
       " 'What we fear doing most is usually what we most need to do.',\n",
       " 'The body does not want you to do this. As you run, it tells you to stop but the mind must be strong. You always go too far for your body. You must handle the pain with strategy...It is not age; it is not diet. It is the will to succeed.',\n",
       " \"What sunshine is to flowers, smiles are to humanity. These are but trifles, to be sure; but scattered along life's pathway, the good they do is inconceivable.\",\n",
       " 'The way to get things done is not to mind who gets the credit for doing them.',\n",
       " 'You cannot change your destination overnight, but you can change your direction overnight.',\n",
       " 'Success is the sum of small efforts, repeated day-in and day-out.',\n",
       " \"You will never 'find' time for anything. If you want time, you must make it.\",\n",
       " 'You have succeeded in life when all you really want is only what you really need.',\n",
       " 'The harder you work, the harder it is to surrender.',\n",
       " 'If you realized how powerful your thoughts are, you would never think a negative thought.',\n",
       " 'Winning is great, sure, but if you are really going to do something in life, the secret is learning how to lose.',\n",
       " 'You must take personal responsibility. You cannot change the circumstances, the seasons, or the wind, but you can change yourself. That is something you have charge of.',\n",
       " 'If you only read the books that everyone else is reading, you can only think what everyone else is thinking.',\n",
       " 'Not everything that is faced can be changed. But nothing can be changed until it is faced.',\n",
       " 'In all human affairs there are efforts, and there are results, and the strength of the effort is the measure of the result.',\n",
       " 'It is so hard to leave—until you leave. And then it is the easiest goddamned thing in the world.',\n",
       " 'People who boast about their I.Q. are losers.',\n",
       " 'To understand the heart and mind of a person, look not at what he has already achieved, but at what he aspires to.',\n",
       " \"Miss a meal if you have to, but don't miss a book.\",\n",
       " 'It is better to be alone than in bad company.',\n",
       " 'Try to learn something about everything and everything about something.',\n",
       " 'Help others achieve their dreams and you will achieve yours.',\n",
       " \"You don't fight racism with racism, the best way to fight racism is with solidarity.\",\n",
       " 'Effort and courage are not enough without purpose and direction.',\n",
       " \"One doesn't discover new lands without consenting to lose sight, for a very long time, of the shore.\",\n",
       " 'We are what we pretend to be, so we must be careful what we pretend to be.',\n",
       " 'All things are difficult before they are easy.',\n",
       " 'People ask the difference between a leader and a boss. The leader leads, and the boss drives.',\n",
       " 'The thing that is really hard, and really amazing, is giving up on being perfect and beginning the work of becoming yourself.',\n",
       " 'Love is the ability and willingness to allow those that you care for to be what they choose for themselves without any insistence that they satisfy you.',\n",
       " 'Sooner or later, those who win are those who think they can.']"
      ]
     },
     "execution_count": 1458,
     "metadata": {},
     "output_type": "execute_result"
    }
   ],
   "source": [
    "page7_title=[]\n",
    "for i in title:\n",
    "    titles=i.text\n",
    "    page7_title.append(titles)\n",
    "page7_title"
   ]
  },
  {
   "cell_type": "code",
   "execution_count": 1459,
   "id": "d83e6e57",
   "metadata": {},
   "outputs": [
    {
     "name": "stdout",
     "output_type": "stream",
     "text": [
      "100\n"
     ]
    }
   ],
   "source": [
    "print(len(page7_title))"
   ]
  },
  {
   "cell_type": "code",
   "execution_count": 1460,
   "id": "5b6e7d95",
   "metadata": {},
   "outputs": [
    {
     "data": {
      "text/plain": [
       "[<selenium.webdriver.remote.webelement.WebElement (session=\"c2597f11652987a099fc3c4f5c0e3474\", element=\"38832dc8-3591-4dcf-ac85-3be9334ac73b\")>,\n",
       " <selenium.webdriver.remote.webelement.WebElement (session=\"c2597f11652987a099fc3c4f5c0e3474\", element=\"4a805d3f-a870-4279-8355-c0467157c85c\")>]"
      ]
     },
     "execution_count": 1460,
     "metadata": {},
     "output_type": "execute_result"
    }
   ],
   "source": [
    "# Finding The Author from Page 7\n",
    "\n",
    "author=driver.find_elements(By.XPATH,\"//div[@class='author']\")\n",
    "\n",
    "\n",
    "author[0:2]"
   ]
  },
  {
   "cell_type": "code",
   "execution_count": 1461,
   "id": "1bf48167",
   "metadata": {},
   "outputs": [
    {
     "data": {
      "text/plain": [
       "['John Barrymore',\n",
       " 'Joseph Joubert',\n",
       " 'Susan Sarandon',\n",
       " 'Voltaire',\n",
       " 'Jim Rohn',\n",
       " 'Barbara Johnson',\n",
       " 'John F. Kennedy',\n",
       " 'Lawrence Block',\n",
       " 'Frederick Douglass',\n",
       " 'Lucy Maud Montgomery',\n",
       " 'Albert Camus',\n",
       " 'Mike Singletary',\n",
       " 'John Bingham',\n",
       " 'Honore de Balzac',\n",
       " 'Burton Hill',\n",
       " 'Deepak Chopra',\n",
       " 'Barbara De Angelis',\n",
       " 'Eleanor Roosevelt',\n",
       " 'Vincent Van Gogh',\n",
       " 'Dale Carnegie',\n",
       " 'Mark Twain',\n",
       " 'John Locke',\n",
       " 'Julie Andrews',\n",
       " 'Guy Finley',\n",
       " 'Harper Lee',\n",
       " 'M. Scott Peck',\n",
       " 'Rumi',\n",
       " 'Plato',\n",
       " 'Billy Graham',\n",
       " 'Mary Kay Ash',\n",
       " 'Leo Buscaglia',\n",
       " 'Tony Robbins',\n",
       " 'Alfred Lord Tennyson',\n",
       " 'Margaret Mead',\n",
       " 'Billy Graham',\n",
       " 'Lydia M. Child',\n",
       " 'Ruby Dee',\n",
       " 'Leo Tolstoy',\n",
       " 'Michael Jordan',\n",
       " 'Bill Gates',\n",
       " 'Andrew Carnegie',\n",
       " 'Vern Law',\n",
       " 'Anais Nin',\n",
       " 'Jim Rohn',\n",
       " 'Albert Camus',\n",
       " 'Confucius',\n",
       " 'Warren Buffett',\n",
       " 'Richard Lamm',\n",
       " 'Stephen Covey',\n",
       " 'Louis de Montfort',\n",
       " 'Gloria Steinem',\n",
       " 'Christian Dior',\n",
       " 'Winston Churchill',\n",
       " 'Wayne Dyer',\n",
       " 'James Madison',\n",
       " 'Stephen Hawking',\n",
       " 'Joseph Campbell',\n",
       " 'Heath Ledger',\n",
       " 'Jim Rohn',\n",
       " 'Jim Rohn',\n",
       " 'Alan Cohen',\n",
       " 'Orison Swett Marden',\n",
       " 'Billy Graham',\n",
       " 'Ralph Waldo Emerson',\n",
       " 'John Muir',\n",
       " 'James Allen',\n",
       " 'Leonardo da Vinci',\n",
       " 'Tony Robbins',\n",
       " 'Malcolm Forbes',\n",
       " 'Tim Ferriss',\n",
       " 'Jacqueline Gareau',\n",
       " 'Joseph Addison',\n",
       " 'Benjamin Jowett',\n",
       " 'Jim Rohn',\n",
       " 'Robert Collier',\n",
       " 'Charles Buxton',\n",
       " 'Vernon Howard',\n",
       " 'Vince Lombardi',\n",
       " 'Peace Pilgrim',\n",
       " 'Wilma Rudolph',\n",
       " 'Jim Rohn',\n",
       " 'Haruki Murakami',\n",
       " 'James A. Baldwin',\n",
       " 'James Allen',\n",
       " 'John Green',\n",
       " 'Stephen Hawking',\n",
       " 'Khalil Gibran',\n",
       " 'Jim Rohn',\n",
       " 'Unknown',\n",
       " 'Thomas Huxley',\n",
       " 'Les Brown',\n",
       " 'Bobby Seale',\n",
       " 'John F. Kennedy',\n",
       " 'Andre Gide',\n",
       " 'Kurt Vonnegut',\n",
       " 'Thomas Fuller',\n",
       " 'Theodore Roosevelt',\n",
       " 'Anna Quindlen',\n",
       " 'Wayne Dyer',\n",
       " 'Paul Tournier']"
      ]
     },
     "execution_count": 1461,
     "metadata": {},
     "output_type": "execute_result"
    }
   ],
   "source": [
    "page7_author=[]\n",
    "for i in author:\n",
    "    authors=i.text\n",
    "    page7_author.append(authors)\n",
    "page7_author"
   ]
  },
  {
   "cell_type": "code",
   "execution_count": 1462,
   "id": "13dfef5b",
   "metadata": {},
   "outputs": [
    {
     "name": "stdout",
     "output_type": "stream",
     "text": [
      "100\n"
     ]
    }
   ],
   "source": [
    "print(len(page7_author))"
   ]
  },
  {
   "cell_type": "code",
   "execution_count": 1463,
   "id": "29a472af",
   "metadata": {},
   "outputs": [
    {
     "data": {
      "text/plain": [
       "[<selenium.webdriver.remote.webelement.WebElement (session=\"c2597f11652987a099fc3c4f5c0e3474\", element=\"3e27072a-9445-49d4-8925-07880282280d\")>,\n",
       " <selenium.webdriver.remote.webelement.WebElement (session=\"c2597f11652987a099fc3c4f5c0e3474\", element=\"17e0d9cf-d892-4ee9-a6a4-4658b233c328\")>]"
      ]
     },
     "execution_count": 1463,
     "metadata": {},
     "output_type": "execute_result"
    }
   ],
   "source": [
    "# Scrapping Type of Quotes from page 7\n",
    "\n",
    "tag=driver.find_elements(By.XPATH,\"//div[@class='tags']\")\n",
    "\n",
    "\n",
    "tag[0:2]"
   ]
  },
  {
   "cell_type": "code",
   "execution_count": 1464,
   "id": "65f77078",
   "metadata": {},
   "outputs": [
    {
     "data": {
      "text/plain": [
       "['Love, Inspirational, Life',\n",
       " 'Love, Kindness, Women',\n",
       " 'Kindness, Power, Imagination',\n",
       " 'Wisdom, Clever, Men',\n",
       " 'Inspirational, Business, Investment',\n",
       " 'Love, Inspirational, Life',\n",
       " 'Inspirational, Success, Helping Others',\n",
       " 'Inspirational, Funny, Travel',\n",
       " 'Life, Freedom, Work',\n",
       " 'Regret, Mistake, Should',\n",
       " 'Understanding, Experience, Minimalist',\n",
       " 'Inspirational, Sports, Football',\n",
       " 'Inspirational, Softball, Sports',\n",
       " 'Inspirational, Motivational, Helping Others',\n",
       " 'Inspirational, Life, Happiness',\n",
       " 'Spiritual, Yoga, Positive Thinking',\n",
       " 'Love, Letting Go, Meaningful',\n",
       " 'Inspirational, Life, Motivational',\n",
       " 'Inspirational, Motivational, Positive',\n",
       " 'Sweet, Grandchildren, Way',\n",
       " 'Life, Cheating, Funny Inspirational',\n",
       " 'Funny, Money, Shoes',\n",
       " 'Inspirational, Positive, Success',\n",
       " 'Inspirational, Single, Letting Go',\n",
       " 'Powerful, Positivity, Sunshine',\n",
       " 'Inspirational, Funny, Motivational',\n",
       " 'Sympathy, Death, True Love',\n",
       " 'Plato, Desire, Three',\n",
       " 'Motivational, Veterans Day, Memorial Day',\n",
       " 'Inspirational, Success, Enthusiasm For Life',\n",
       " 'Love, Death, Positivity',\n",
       " 'Inspirational, Life, Family',\n",
       " 'Dream, Spiritual, Prayer',\n",
       " 'Uplifting, Determination, Work',\n",
       " 'Family, Respect, Children',\n",
       " 'Happiness, Happy, Helping Others',\n",
       " 'Strength, Inspiring, Beauty',\n",
       " 'Life, Birthday, Happiness',\n",
       " 'Inspirational, Motivational, Change',\n",
       " 'Inspirational, Success, Motivation',\n",
       " 'Motivational, Success, Encouragement',\n",
       " 'Inspirational, Sports, Education',\n",
       " 'Inspirational, Life, Motivational',\n",
       " 'Goal, Self Help, Reason',\n",
       " 'Suicide, Coffee, Optimistic',\n",
       " 'Education, Giving Up, Philosophical',\n",
       " 'Money, Business, Dollars',\n",
       " 'Funny, Christmas, Xmas',\n",
       " 'Inspirational, Inspiring, Life Changing',\n",
       " 'Christian, Jesus, Prayer',\n",
       " 'Mother Daughter, Courage, Honesty',\n",
       " 'Love, Fashion, Women',\n",
       " 'Funny, Leadership, Education',\n",
       " 'Motivational, Happiness, People',\n",
       " 'Country, People, Liberty',\n",
       " 'Anger, People, Always Complaining',\n",
       " 'Inspirational, Life, Happiness',\n",
       " 'Believe, Dark, Knights',\n",
       " 'Inspirational, Motivational, Positive',\n",
       " 'Motivational, Failure, House',\n",
       " 'Inspirational, Being Yourself, Truth',\n",
       " 'Hope, Powerful, Get Well Soon',\n",
       " 'Life, Faith, Forgiveness',\n",
       " 'Inspirational, Success, Forgiveness',\n",
       " 'Nature, Heart, Garden',\n",
       " 'Inspirational, Dream, Sleep',\n",
       " 'Inspirational, Education, Teaching',\n",
       " 'Life, Motivational, Spiritual',\n",
       " 'Positive, Success, Gymnastics',\n",
       " 'Inspirational, Positive, Inspiring',\n",
       " 'Motivational, Fitness, Running',\n",
       " 'Inspirational, Life, Friendship',\n",
       " 'Life, Positive, Business',\n",
       " 'Motivational, Change, Greatness',\n",
       " 'Inspirational, Motivational, Success',\n",
       " 'Inspirational, Motivational, Change',\n",
       " 'Life, Happiness, Success',\n",
       " 'Inspirational, Motivational, Basketball',\n",
       " 'Inspirational, Positive, Trust',\n",
       " 'Sports, Running, Winning',\n",
       " 'Inspirational, Life, Change',\n",
       " 'Inspirational, Book, Reading',\n",
       " 'Inspirational, Change, Leadership',\n",
       " 'Strength, Determination, Service Culture',\n",
       " 'Inspirational, Life, Hipster',\n",
       " 'Education, Science, People',\n",
       " 'Inspirational, Life, Dream',\n",
       " 'Inspirational, Missing You, Book',\n",
       " 'Inspirational, Friendship, Lonely',\n",
       " 'Graduation, Witty, Educational',\n",
       " 'Inspirational, Inspiring, Success',\n",
       " 'Fighting, Racism, Brotherhood',\n",
       " 'Inspirational, Leadership, Basketball',\n",
       " 'Inspirational, Motivational, Change',\n",
       " 'Life, Happiness, Wisdom',\n",
       " 'Inspirational, Motivational, Positive',\n",
       " 'Leadership, Differences, People',\n",
       " 'Confidence, Letting Go, Being Yourself',\n",
       " 'Love, Anxiety, Self Improvement',\n",
       " 'Positive, Sports, Confidence']"
      ]
     },
     "execution_count": 1464,
     "metadata": {},
     "output_type": "execute_result"
    }
   ],
   "source": [
    "page7_tag=[]\n",
    "for i in tag:\n",
    "    tags=i.text\n",
    "    page7_tag.append(tags)\n",
    "page7_tag"
   ]
  },
  {
   "cell_type": "code",
   "execution_count": 1465,
   "id": "4473e800",
   "metadata": {},
   "outputs": [
    {
     "name": "stdout",
     "output_type": "stream",
     "text": [
      "100\n"
     ]
    }
   ],
   "source": [
    "print(len(page7_tag))"
   ]
  },
  {
   "cell_type": "code",
   "execution_count": 1466,
   "id": "418e2b3c",
   "metadata": {},
   "outputs": [
    {
     "data": {
      "text/html": [
       "<div>\n",
       "<style scoped>\n",
       "    .dataframe tbody tr th:only-of-type {\n",
       "        vertical-align: middle;\n",
       "    }\n",
       "\n",
       "    .dataframe tbody tr th {\n",
       "        vertical-align: top;\n",
       "    }\n",
       "\n",
       "    .dataframe thead th {\n",
       "        text-align: right;\n",
       "    }\n",
       "</style>\n",
       "<table border=\"1\" class=\"dataframe\">\n",
       "  <thead>\n",
       "    <tr style=\"text-align: right;\">\n",
       "      <th></th>\n",
       "      <th>page_title</th>\n",
       "      <th>page_author</th>\n",
       "      <th>page_tag</th>\n",
       "    </tr>\n",
       "  </thead>\n",
       "  <tbody>\n",
       "    <tr>\n",
       "      <th>0</th>\n",
       "      <td>A man is not old until regrets take the place ...</td>\n",
       "      <td>John Barrymore</td>\n",
       "      <td>Love, Inspirational, Life</td>\n",
       "    </tr>\n",
       "    <tr>\n",
       "      <th>1</th>\n",
       "      <td>A part of kindness consists in loving people m...</td>\n",
       "      <td>Joseph Joubert</td>\n",
       "      <td>Love, Kindness, Women</td>\n",
       "    </tr>\n",
       "    <tr>\n",
       "      <th>2</th>\n",
       "      <td>When you start to develop your powers of empat...</td>\n",
       "      <td>Susan Sarandon</td>\n",
       "      <td>Kindness, Power, Imagination</td>\n",
       "    </tr>\n",
       "    <tr>\n",
       "      <th>3</th>\n",
       "      <td>Judge a man by his questions rather than his a...</td>\n",
       "      <td>Voltaire</td>\n",
       "      <td>Wisdom, Clever, Men</td>\n",
       "    </tr>\n",
       "    <tr>\n",
       "      <th>4</th>\n",
       "      <td>If you make a sale, you can make a living. If ...</td>\n",
       "      <td>Jim Rohn</td>\n",
       "      <td>Inspirational, Business, Investment</td>\n",
       "    </tr>\n",
       "  </tbody>\n",
       "</table>\n",
       "</div>"
      ],
      "text/plain": [
       "                                          page_title     page_author  \\\n",
       "0  A man is not old until regrets take the place ...  John Barrymore   \n",
       "1  A part of kindness consists in loving people m...  Joseph Joubert   \n",
       "2  When you start to develop your powers of empat...  Susan Sarandon   \n",
       "3  Judge a man by his questions rather than his a...        Voltaire   \n",
       "4  If you make a sale, you can make a living. If ...        Jim Rohn   \n",
       "\n",
       "                              page_tag  \n",
       "0            Love, Inspirational, Life  \n",
       "1                Love, Kindness, Women  \n",
       "2         Kindness, Power, Imagination  \n",
       "3                  Wisdom, Clever, Men  \n",
       "4  Inspirational, Business, Investment  "
      ]
     },
     "execution_count": 1466,
     "metadata": {},
     "output_type": "execute_result"
    }
   ],
   "source": [
    "# Creating Data Frame for Page 7\n",
    "\n",
    "page7 = pd.DataFrame({})\n",
    "page7[\"page_title\"]=page7_title\n",
    "page7[\"page_author\"]=page7_author\n",
    "page7[\"page_tag\"]=page7_tag\n",
    "page7.head()"
   ]
  },
  {
   "cell_type": "code",
   "execution_count": 1468,
   "id": "b510f1b7",
   "metadata": {},
   "outputs": [],
   "source": [
    "# Clicking on Page 8\n",
    "\n",
    "\n",
    "next_button=driver.find_element(By.XPATH,\"/html/body/div[1]/div[2]/div/div/div/div[1]/div/div[3]/li[13]/a\")\n",
    "next_button.click()"
   ]
  },
  {
   "cell_type": "code",
   "execution_count": 1469,
   "id": "a55e9244",
   "metadata": {},
   "outputs": [
    {
     "data": {
      "text/plain": [
       "[<selenium.webdriver.remote.webelement.WebElement (session=\"c2597f11652987a099fc3c4f5c0e3474\", element=\"8ca3c1fc-e52c-4a01-bd0c-ef4f565845d4\")>,\n",
       " <selenium.webdriver.remote.webelement.WebElement (session=\"c2597f11652987a099fc3c4f5c0e3474\", element=\"dea3b301-e54b-4aa7-8692-d74dc9ec0c67\")>]"
      ]
     },
     "execution_count": 1469,
     "metadata": {},
     "output_type": "execute_result"
    }
   ],
   "source": [
    "# Finding The Qoute from page 8\n",
    "\n",
    "title=driver.find_elements(By.XPATH,\"//a[@class='title']\")\n",
    "\n",
    "\n",
    "title[0:2]"
   ]
  },
  {
   "cell_type": "code",
   "execution_count": 1470,
   "id": "703f2e3c",
   "metadata": {},
   "outputs": [
    {
     "data": {
      "text/plain": [
       "[\"Those who matter don't mind, and those who mind don't matter.\",\n",
       " 'You were born to win, but to be a winner, you must plan to win, prepare to win, and expect to win.',\n",
       " \"If you don't like something, change it. If you can't change it, change your attitude.\",\n",
       " 'Everyone seems to have a clear idea of how other people should lead their lives, but none about his or her own.',\n",
       " 'Gratitude unlocks the fullness of life. It turns what we have into enough, and more. It turns denial into acceptance, chaos to order, confusion to clarity. It can turn a meal into a feast, a house into a home, a stranger into a friend.',\n",
       " \"I don't go by the rule book... I lead from the heart, not the head.\",\n",
       " 'A hero is someone who has given his or her life to something bigger than oneself.',\n",
       " 'Man never made any material as resilient as the human spirit.',\n",
       " 'The more one judges, the less one loves.',\n",
       " 'The best way to find out if you can trust somebody is to trust them.',\n",
       " \"At the end of the day, all you can hope for is to go on. The older I get, the more I realize that just keeping on keeping on is what life's all about.\",\n",
       " 'I cannot always control what goes on outside. But I can always control what goes on inside.',\n",
       " 'Expect trouble as an inevitable part of life and when it comes, hold your head high, look it squarely in the eye and say “I will be bigger than you. You cannot defeat me.” Then repeat to yourself the most comforting of all words , “This too shall pass.”',\n",
       " 'I have witnessed the softening of the hardest of hearts by a simple smile.',\n",
       " 'When you judge another, you do not define them, you define yourself.',\n",
       " 'The only way to live is to accept each minute as an unrepeatable miracle, which is exactly what it is: a miracle and unrepeatable.',\n",
       " 'We are all here for some special reason. Stop being a prisoner of your past. Become the architect of your future.',\n",
       " 'He who is not everyday conquering some fear has not learned the secret of life.',\n",
       " \"When I do good, I feel good. When I do bad, I feel bad. That's my religion.\",\n",
       " \"I don't know what the future may hold, but I know who holds the future.\",\n",
       " 'The best way out is always through.',\n",
       " 'People become really quite remarkable when they start thinking that they can do things. When they believe in themselves they have the first secret of success.',\n",
       " 'Always walk through life as if you have something new to learn, and you will.',\n",
       " \"The elevator to success is out of order. You'll have to use the stairs... one step at a time.\",\n",
       " 'True terror is to wake up one morning and discover that your high school class is running the country.',\n",
       " \"Every time you don't follow your inner guidance, you feel a loss of energy, loss of power, a sense of spiritual deadness.\",\n",
       " 'Silence is the sleep that nourishes wisdom.',\n",
       " \"Believe in love. Believe in magic. Hell, believe in Santa Clause. Believe in others. Believe in yourself. Believe in your dreams. If you don't, who will?\",\n",
       " 'Never mistake motion for action.',\n",
       " 'Maxim for life: You get treated in life the way you teach people to treat you.',\n",
       " 'Stay committed to your decisions, but stay flexible in your approach.',\n",
       " 'You can tell whether a man is clever by his answers. You can tell whether a man is wise by his questions.',\n",
       " 'If one advances confidently in the direction of his dreams, and endeavors to live the life which he has imagined, he will meet with a success unexpected in common hours.',\n",
       " 'Develop success from failures. Discouragement and failure are two of the surest stepping stones to success.',\n",
       " \"The very purpose of Christ's coming into the world was that He might offer up His life as a sacrifice for the sins of men. He came to die. This is the heart of Christmas.\",\n",
       " 'You have to grow from the inside out. None can teach you, none can make you spiritual. There is no other teacher but your own soul.',\n",
       " 'God has given us two hands, one to receive with and the other to give with.',\n",
       " 'If Tyranny and Oppression come to this land, it will be in the guise of fighting a foreign enemy.',\n",
       " \"You can close your eyes to the things you don't want to see, but you can't close your heart to the things you don't want to feel.\",\n",
       " \"The most common way people give up their power is by thinking they don't have any.\",\n",
       " 'If you can believe it, the mind can achieve it.',\n",
       " \"I do believe we're all connected. I do believe in positive energy. I do believe in the power of prayer. I do believe in putting good out into the world. And I believe in taking care of each other.\",\n",
       " 'What we think or what we know or what we believe is in the end of little consequence. The only thing of consequence is what we do',\n",
       " 'Never dull your shine for somebody else.',\n",
       " 'It can not be emphasized too strongly or too often that this great nation was founded, not by religionists, but by Christians, not on religions, but on the gospel of Jesus Christ!',\n",
       " 'To give thanks in solitude is enough. Thanksgiving has wings and goes where it must go. Your prayer knows much more about it than you do.',\n",
       " 'The tree of liberty must be refreshed from time to time with the blood of patriots and tyrants.',\n",
       " \"Don't compare your life to others. You have no idea what they have been through.\",\n",
       " 'The minute I heard my first love story, I started looking for you.',\n",
       " 'Knowledge is of no value unless you put it into practice.',\n",
       " 'All the great things are simple, and many can be expressed in a single word: freedom, justice, honor, duty, mercy, hope.',\n",
       " 'Faith is the strength by which a shattered world shall emerge into the light.',\n",
       " 'If you are losing faith in human nature, go out and watch a marathon.',\n",
       " 'From what we get, we can make a living; what we give, however, makes a life.',\n",
       " \"I've read the last page of the Bible. It's all going to turn out all right.\",\n",
       " \"Just because Fate doesn't deal you the right cards, it doesn't mean you should give up. It just means you have to play the cards you get to their maximum potential.\",\n",
       " \"Don't you ever let a soul in the world tell you that you can't be exactly who you are.\",\n",
       " 'We must overcome the notion that we must be regular... it robs you of the chance to be extraordinary and leads you to the mediocre.',\n",
       " 'Today, more than ever before, life must be characterized by a sense of Universal responsibility, not only nation to nation and human to human, but also human to other forms of life.',\n",
       " 'You have not lived today until you have done something for someone who can never repay you.',\n",
       " \"Exercise is king. Nutrition is queen. Put them together and you've got a kingdom.\",\n",
       " 'Talent is cheaper than table salt. What separates the talented individual from the successful one is a lot of hard work.',\n",
       " 'Watch your manner of speech if you wish to develop a peaceful state of mind. Start each day by affirming peaceful, contented and happy attitudes and your days will tend to be pleasant and successful.',\n",
       " 'Nothing is so permanent as a temporary government program.',\n",
       " 'Humor is by far the most significant activity of the human brain.',\n",
       " 'When a person really desires something, all the universe conspires to help that person to realize his dream.',\n",
       " 'The brighter you are, the more you have to learn.',\n",
       " \"When you dance, your purpose is not to get to a certain place on the floor. It's to enjoy each step along the way.\",\n",
       " \"Most people ask for happiness on condition. Happiness can only be felt if you don't set any condition.\",\n",
       " 'The person born with a talent they are meant to use will find their greatest happiness in using it.',\n",
       " 'Effort only fully releases its reward after a person refuses to quit.',\n",
       " \"You're never as good as everyone tells you when you win, and you're never as bad as they say when you lose.\",\n",
       " 'I do not think much of a man who is not wiser today than he was yesterday.',\n",
       " 'When you arise in the morning, think of what a precious privilege it is to be alive - to breathe, to think, to enjoy, to love.',\n",
       " 'As the family goes, so goes the nation and so goes the whole world in which we live.',\n",
       " 'We should certainly count our blessings, but we should also make our blessings count.',\n",
       " \"Everyone has inside of him a piece of good news. The good news is that you don't know how great you can be! How much you can love! What you can accomplish! And what your potential is!\",\n",
       " \"If everyone is thinking alike, then somebody isn't thinking.\",\n",
       " 'Act as if what you do makes a difference. It does.',\n",
       " 'The supreme art of war is to subdue the enemy without fighting.',\n",
       " \"I have never met a man so ignorant that I couldn't learn something from him.\",\n",
       " \"When you are offended at any man's fault, turn to yourself and study your own failings. Then you will forget your anger.\",\n",
       " 'It is foolish and wrong to mourn the men who died. Rather we should thank God that such men lived.',\n",
       " 'An invincible determination can accomplish almost anything and in this lies the great distinction between great men and little men.',\n",
       " 'The quality of a leader is reflected in the standards they set for themselves.',\n",
       " 'Can anything be sadder than work left unfinished? Yes, work never begun.',\n",
       " \"Don't just read the easy stuff. You may be entertained by it, but you will never grow from it.\",\n",
       " \"You've got to get to the stage in life where going for it is more important than winning or losing.\",\n",
       " 'And by the way, everything in life is writable about if you have the outgoing guts to do it, and the imagination to improvise. The worst enemy to creativity is self-doubt.',\n",
       " \"One of the hardest things in life is having words in your heart that you can't utter.\",\n",
       " 'Success is not to be pursued; it is to be attracted by the person you become.',\n",
       " 'Never allow someone to be your priority while allowing yourself to be their option.',\n",
       " 'Realize that true happiness lies within you. Waste no time and effort searching for peace and contentment and joy in the world outside. Remember that there is no happiness in having or in getting, but only in giving. Reach out. Share. Smile. Hug. Happiness is a perfume you cannot pour on others without getting a few drops on yourself.',\n",
       " \"You can't separate peace from freedom because no one can be at peace unless he has his freedom.\",\n",
       " 'There is little difference in people, but that little difference makes a big difference. The little difference is attitude. The big difference is whether it is positive or negative.',\n",
       " 'The average dog is a nicer person than the average person.',\n",
       " 'Faithful servants never retire. You can retire from your career, but you will never retire from serving God.',\n",
       " 'America will never be destroyed from the outside. If we falter and lose our freedoms, it will be because we destroyed ourselves.',\n",
       " 'In matters of style, swim with the current; in matters of principle, stand like a rock.',\n",
       " \"Dad needs to show an incredible amount of respect and humor and friendship toward his mate so the kids understand their parents are sexy, they're fun, they do things together, they're best friends. Kids learn by example. If I respect Mom, they're going to respect Mom.\"]"
      ]
     },
     "execution_count": 1470,
     "metadata": {},
     "output_type": "execute_result"
    }
   ],
   "source": [
    "page8_title=[]\n",
    "for i in title:\n",
    "    titles=i.text\n",
    "    page8_title.append(titles)\n",
    "page8_title"
   ]
  },
  {
   "cell_type": "code",
   "execution_count": 1471,
   "id": "4edc0601",
   "metadata": {},
   "outputs": [
    {
     "name": "stdout",
     "output_type": "stream",
     "text": [
      "100\n"
     ]
    }
   ],
   "source": [
    "print(len(page8_title))"
   ]
  },
  {
   "cell_type": "code",
   "execution_count": 1472,
   "id": "3a879543",
   "metadata": {},
   "outputs": [
    {
     "data": {
      "text/plain": [
       "[<selenium.webdriver.remote.webelement.WebElement (session=\"c2597f11652987a099fc3c4f5c0e3474\", element=\"4a86b887-0fdb-4b56-86f7-4316bebc8379\")>,\n",
       " <selenium.webdriver.remote.webelement.WebElement (session=\"c2597f11652987a099fc3c4f5c0e3474\", element=\"3d302469-119d-4537-a6a7-2f4d580c32f7\")>]"
      ]
     },
     "execution_count": 1472,
     "metadata": {},
     "output_type": "execute_result"
    }
   ],
   "source": [
    "# Finding The Author from Page 8\n",
    "\n",
    "author=driver.find_elements(By.XPATH,\"//div[@class='author']\")\n",
    "\n",
    "\n",
    "author[0:2]"
   ]
  },
  {
   "cell_type": "code",
   "execution_count": 1473,
   "id": "25285873",
   "metadata": {},
   "outputs": [
    {
     "data": {
      "text/plain": [
       "['Bernard Baruch',\n",
       " 'Zig Ziglar',\n",
       " 'Maya Angelou',\n",
       " 'Paulo Coelho',\n",
       " 'Melody Beattie',\n",
       " 'Princess Diana',\n",
       " 'Joseph Campbell',\n",
       " 'Bernard Williams',\n",
       " 'Honore de Balzac',\n",
       " 'Ernest Hemingway',\n",
       " 'Janis Ian',\n",
       " 'Wayne Dyer',\n",
       " 'Ann Landers',\n",
       " 'Goldie Hawn',\n",
       " 'Wayne Dyer',\n",
       " 'Storm Jameson',\n",
       " 'Robin Sharma',\n",
       " 'Ralph Waldo Emerson',\n",
       " 'Abraham Lincoln',\n",
       " 'Ralph Abernathy',\n",
       " 'Robert Frost',\n",
       " 'Norman Vincent Peale',\n",
       " 'Vernon Howard',\n",
       " 'Joe Girard',\n",
       " 'Kurt Vonnegut',\n",
       " 'Shakti Gawain',\n",
       " 'Francis Bacon',\n",
       " 'Jon Bon Jovi',\n",
       " 'Ernest Hemingway',\n",
       " 'Wayne Dyer',\n",
       " 'Tony Robbins',\n",
       " 'Naguib Mahfouz',\n",
       " 'Henry David Thoreau',\n",
       " 'Dale Carnegie',\n",
       " 'Billy Graham',\n",
       " 'Swami Vivekananda',\n",
       " 'Billy Graham',\n",
       " 'James Madison',\n",
       " 'Johnny Depp',\n",
       " 'Alice Walker',\n",
       " 'Ronnie Lott',\n",
       " 'Harvey Fierstein',\n",
       " 'John Ruskin',\n",
       " 'Tyra Banks',\n",
       " 'Unknown',\n",
       " 'Victor Hugo',\n",
       " 'Thomas Jefferson',\n",
       " 'Sam Cawthorn',\n",
       " 'Rumi',\n",
       " 'Anton Chekhov',\n",
       " 'Winston Churchill',\n",
       " 'Helen Keller',\n",
       " 'Kathrine Switzer',\n",
       " 'Arthur Ashe',\n",
       " 'Billy Graham',\n",
       " 'Les Brown',\n",
       " 'Lady Gaga',\n",
       " 'Uta Hagen',\n",
       " 'Dalai Lama',\n",
       " 'John Bunyan',\n",
       " 'Jack LaLanne',\n",
       " 'Stephen King',\n",
       " 'Norman Vincent Peale',\n",
       " 'Milton Friedman',\n",
       " 'Edward de Bono',\n",
       " 'Paulo Coelho',\n",
       " 'Don Herold',\n",
       " 'Wayne Dyer',\n",
       " 'Arthur Rubinstein',\n",
       " 'Johann Wolfgang von Goethe',\n",
       " 'Napoleon Hill',\n",
       " 'Lou Holtz',\n",
       " 'Abraham Lincoln',\n",
       " 'Marcus Aurelius',\n",
       " 'Pope John Paul II',\n",
       " 'Neal A. Maxwell',\n",
       " 'Anne Frank',\n",
       " 'George S. Patton',\n",
       " 'William James',\n",
       " 'Sun Tzu',\n",
       " 'Galileo Galilei',\n",
       " 'Epictetus',\n",
       " 'George S. Patton',\n",
       " 'Thomas Fuller',\n",
       " 'Ray Kroc',\n",
       " 'Christina Rossetti',\n",
       " 'Jim Rohn',\n",
       " 'Arthur Ashe',\n",
       " 'Sylvia Plath',\n",
       " 'James Earl Jones',\n",
       " 'Jim Rohn',\n",
       " 'Mark Twain',\n",
       " 'Og Mandino',\n",
       " 'Malcolm X',\n",
       " 'W. Clement Stone',\n",
       " 'Andy Rooney',\n",
       " 'Rick Warren',\n",
       " 'Abraham Lincoln',\n",
       " 'Thomas Jefferson',\n",
       " 'Tim Allen']"
      ]
     },
     "execution_count": 1473,
     "metadata": {},
     "output_type": "execute_result"
    }
   ],
   "source": [
    "page8_author=[]\n",
    "for i in author:\n",
    "    authors=i.text\n",
    "    page8_author.append(authors)\n",
    "page8_author"
   ]
  },
  {
   "cell_type": "code",
   "execution_count": 1474,
   "id": "ce3b10ba",
   "metadata": {},
   "outputs": [
    {
     "name": "stdout",
     "output_type": "stream",
     "text": [
      "100\n"
     ]
    }
   ],
   "source": [
    "print(len(page8_author))"
   ]
  },
  {
   "cell_type": "code",
   "execution_count": 1475,
   "id": "c2a75aa1",
   "metadata": {},
   "outputs": [
    {
     "data": {
      "text/plain": [
       "[<selenium.webdriver.remote.webelement.WebElement (session=\"c2597f11652987a099fc3c4f5c0e3474\", element=\"d482d4af-5ce9-44be-badf-26def8456a32\")>,\n",
       " <selenium.webdriver.remote.webelement.WebElement (session=\"c2597f11652987a099fc3c4f5c0e3474\", element=\"868251db-30dc-4f1a-9421-79e1aaadcb89\")>]"
      ]
     },
     "execution_count": 1475,
     "metadata": {},
     "output_type": "execute_result"
    }
   ],
   "source": [
    "# Scrapping Type of Quotes from page 8\n",
    "\n",
    "tag=driver.find_elements(By.XPATH,\"//div[@class='tags']\")\n",
    "\n",
    "\n",
    "tag[0:2]"
   ]
  },
  {
   "cell_type": "code",
   "execution_count": 1476,
   "id": "b6c422b2",
   "metadata": {},
   "outputs": [
    {
     "data": {
      "text/plain": [
       "['Inspirational, Funny, Life',\n",
       " 'Inspirational, Life, Motivational',\n",
       " 'Inspirational, Motivational, Change',\n",
       " 'Inspirational, Life, Happiness',\n",
       " 'Inspirational, Life, Change',\n",
       " 'Women, Book, Heart',\n",
       " 'Life, Inspiring, Veterans Day',\n",
       " 'Inspirational, Positive, Inspiring',\n",
       " 'Love, Inspiring, Positivity',\n",
       " 'Relationship, Inspiring, Trust',\n",
       " 'The End Of The Day, Goes On, Realizing',\n",
       " 'Inspirational, Life, Motivational',\n",
       " 'Inspirational, Life, Motivational',\n",
       " 'Happiness, Smile, Inspiration',\n",
       " 'Inspirational, Leadership, Karma',\n",
       " 'Life, Miracle, Way To Live',\n",
       " 'Life, Positive, Time',\n",
       " 'Inspirational, Life, Fear',\n",
       " 'Inspirational, Positive, Religious',\n",
       " 'Future, Kwanzaa, African American',\n",
       " 'Inspirational, Motivational, Positive',\n",
       " 'Inspirational, Life, Motivational',\n",
       " 'Inspirational, Life, Inspiring',\n",
       " 'Inspirational, Motivational, Inspiring',\n",
       " 'Funny, Running, Country',\n",
       " 'Inspirational, Motivational, Spiritual',\n",
       " 'Wise, Wisdom, Clever',\n",
       " 'Inspiring, Christmas, Dream',\n",
       " 'Positive, Witty, Mistake',\n",
       " 'Life, Karma, People',\n",
       " 'Inspirational, Education, Teacher',\n",
       " 'Inspirational, Leadership, Wise',\n",
       " 'Love, Inspirational, Life',\n",
       " 'Inspirational, Success, Encouraging',\n",
       " 'Christmas, Xmas, Heart',\n",
       " 'Inspirational, Motivational, Spiritual',\n",
       " 'Motivational, God, Religious',\n",
       " 'Inspirational, Freedom, Fear',\n",
       " 'Inspirational, Relationship, Broken Heart',\n",
       " 'Inspirational, Motivational, Positive',\n",
       " 'Graduation, Sports, Football',\n",
       " 'Positive, Prayer, Life Changing',\n",
       " 'Motivational, Believe, Acceptance',\n",
       " 'Confidence, Being Yourself, Self Esteem',\n",
       " 'Bible, God, Education',\n",
       " 'Thanksgiving, Prayer, Wings',\n",
       " 'Strength, Wisdom, Veterans Day',\n",
       " 'Inspirational, Life, Jealousy',\n",
       " 'Anniversary, Marriage, Valentines Day',\n",
       " 'Knowledge, Technology, Practice',\n",
       " 'Inspirational, Hope, Freedom',\n",
       " 'Softball, Faith, Inspiration',\n",
       " 'Faith, Sports, Running',\n",
       " 'Inspirational, Kindness, Teaching',\n",
       " 'Hope, Wisdom, Godly',\n",
       " 'Giving Up, Powerful, Mean',\n",
       " 'Inspirational, Confidence, Cute Relationship',\n",
       " 'Life, Self Esteem, Women',\n",
       " 'Peace, Nature, Inspiration',\n",
       " 'Motivational, Success, Perseverance',\n",
       " 'Inspirational, Motivational, Sports',\n",
       " 'Motivational, Success, Encouragement',\n",
       " 'Love, Motivational, Family',\n",
       " 'Government, Liberty, Libertarian',\n",
       " 'Funny, Wisdom, Humorous',\n",
       " 'Inspirational, Motivational, Positive',\n",
       " 'Learning, Intelligent, Perspective',\n",
       " 'Inspirational, Happiness, Inspiring',\n",
       " 'Life, Happiness, People',\n",
       " 'Happiness, Teaching, Use',\n",
       " 'Inspirational, Perseverance, Determination',\n",
       " 'Motivational, Basketball, Confidence',\n",
       " 'Inspirational, Life, Motivational',\n",
       " 'Love, Inspirational, Life',\n",
       " 'Family, Faith, Inspiration',\n",
       " 'Motivational, Thanksgiving, Gratitude',\n",
       " 'Love, Inspirational, Motivational',\n",
       " 'Motivational, Business, Military',\n",
       " 'Inspirational, Motivational, Positive',\n",
       " 'Art, Crazy, War',\n",
       " 'Inspirational, Attitude, Learning',\n",
       " 'Forgiveness, Spiritual, Wisdom',\n",
       " 'Sympathy, Death, Wisdom',\n",
       " 'Inspirational, Motivational, Determination',\n",
       " 'Inspirational, Motivational, Leadership',\n",
       " 'Inspirational, Work, Women',\n",
       " 'Inspirational, Life, Motivational',\n",
       " 'Life, Motivation, Winning',\n",
       " 'Life, Sad, Writing',\n",
       " 'Love, Life, Heart',\n",
       " 'Inspirational, Success, Basketball',\n",
       " 'Life, Broken Heart, Heartbreak',\n",
       " 'Happiness, Smile, Happy',\n",
       " 'Peace, Freedom, Inspiration',\n",
       " 'Inspirational, Life, Positive',\n",
       " 'Inspirational, Funny, Dog',\n",
       " 'Reality, Servant Of God, Careers',\n",
       " 'Wisdom, Religious, Freedom',\n",
       " 'Inspirational, Motivational, Success',\n",
       " 'Friendship, Teamwork, Mom']"
      ]
     },
     "execution_count": 1476,
     "metadata": {},
     "output_type": "execute_result"
    }
   ],
   "source": [
    "page8_tag=[]\n",
    "for i in tag:\n",
    "    tags=i.text\n",
    "    page8_tag.append(tags)\n",
    "page8_tag"
   ]
  },
  {
   "cell_type": "code",
   "execution_count": 1477,
   "id": "42e91326",
   "metadata": {},
   "outputs": [
    {
     "name": "stdout",
     "output_type": "stream",
     "text": [
      "100\n"
     ]
    }
   ],
   "source": [
    "print(len(page8_tag))"
   ]
  },
  {
   "cell_type": "code",
   "execution_count": 1478,
   "id": "244d6c39",
   "metadata": {},
   "outputs": [
    {
     "data": {
      "text/html": [
       "<div>\n",
       "<style scoped>\n",
       "    .dataframe tbody tr th:only-of-type {\n",
       "        vertical-align: middle;\n",
       "    }\n",
       "\n",
       "    .dataframe tbody tr th {\n",
       "        vertical-align: top;\n",
       "    }\n",
       "\n",
       "    .dataframe thead th {\n",
       "        text-align: right;\n",
       "    }\n",
       "</style>\n",
       "<table border=\"1\" class=\"dataframe\">\n",
       "  <thead>\n",
       "    <tr style=\"text-align: right;\">\n",
       "      <th></th>\n",
       "      <th>page_title</th>\n",
       "      <th>page_author</th>\n",
       "      <th>page_tag</th>\n",
       "    </tr>\n",
       "  </thead>\n",
       "  <tbody>\n",
       "    <tr>\n",
       "      <th>0</th>\n",
       "      <td>Those who matter don't mind, and those who min...</td>\n",
       "      <td>Bernard Baruch</td>\n",
       "      <td>Inspirational, Funny, Life</td>\n",
       "    </tr>\n",
       "    <tr>\n",
       "      <th>1</th>\n",
       "      <td>You were born to win, but to be a winner, you ...</td>\n",
       "      <td>Zig Ziglar</td>\n",
       "      <td>Inspirational, Life, Motivational</td>\n",
       "    </tr>\n",
       "    <tr>\n",
       "      <th>2</th>\n",
       "      <td>If you don't like something, change it. If you...</td>\n",
       "      <td>Maya Angelou</td>\n",
       "      <td>Inspirational, Motivational, Change</td>\n",
       "    </tr>\n",
       "    <tr>\n",
       "      <th>3</th>\n",
       "      <td>Everyone seems to have a clear idea of how oth...</td>\n",
       "      <td>Paulo Coelho</td>\n",
       "      <td>Inspirational, Life, Happiness</td>\n",
       "    </tr>\n",
       "    <tr>\n",
       "      <th>4</th>\n",
       "      <td>Gratitude unlocks the fullness of life. It tur...</td>\n",
       "      <td>Melody Beattie</td>\n",
       "      <td>Inspirational, Life, Change</td>\n",
       "    </tr>\n",
       "  </tbody>\n",
       "</table>\n",
       "</div>"
      ],
      "text/plain": [
       "                                          page_title     page_author  \\\n",
       "0  Those who matter don't mind, and those who min...  Bernard Baruch   \n",
       "1  You were born to win, but to be a winner, you ...      Zig Ziglar   \n",
       "2  If you don't like something, change it. If you...    Maya Angelou   \n",
       "3  Everyone seems to have a clear idea of how oth...    Paulo Coelho   \n",
       "4  Gratitude unlocks the fullness of life. It tur...  Melody Beattie   \n",
       "\n",
       "                              page_tag  \n",
       "0           Inspirational, Funny, Life  \n",
       "1    Inspirational, Life, Motivational  \n",
       "2  Inspirational, Motivational, Change  \n",
       "3       Inspirational, Life, Happiness  \n",
       "4          Inspirational, Life, Change  "
      ]
     },
     "execution_count": 1478,
     "metadata": {},
     "output_type": "execute_result"
    }
   ],
   "source": [
    "# Creating Data Frame for Page 8\n",
    "\n",
    "page8 = pd.DataFrame({})\n",
    "page8[\"page_title\"]=page8_title\n",
    "page8[\"page_author\"]=page8_author\n",
    "page8[\"page_tag\"]=page8_tag\n",
    "page8.head()"
   ]
  },
  {
   "cell_type": "code",
   "execution_count": 1479,
   "id": "8c85d623",
   "metadata": {},
   "outputs": [],
   "source": [
    "# Clicking on Page 9\n",
    "\n",
    "\n",
    "next_button=driver.find_element(By.XPATH,\"/html/body/div[1]/div[2]/div/div/div/div[1]/div/div[3]/li[13]/a\")\n",
    "next_button.click()"
   ]
  },
  {
   "cell_type": "code",
   "execution_count": 1480,
   "id": "a1eb21ab",
   "metadata": {},
   "outputs": [
    {
     "data": {
      "text/plain": [
       "[<selenium.webdriver.remote.webelement.WebElement (session=\"c2597f11652987a099fc3c4f5c0e3474\", element=\"b49e8bcc-6fb9-4e89-b5f9-8339c8a7b685\")>,\n",
       " <selenium.webdriver.remote.webelement.WebElement (session=\"c2597f11652987a099fc3c4f5c0e3474\", element=\"f3a332e8-7f24-4dd1-bfb4-8587aa1ce69b\")>]"
      ]
     },
     "execution_count": 1480,
     "metadata": {},
     "output_type": "execute_result"
    }
   ],
   "source": [
    "# Finding The Qoute from page 9\n",
    "\n",
    "title=driver.find_elements(By.XPATH,\"//a[@class='title']\")\n",
    "\n",
    "\n",
    "title[0:2]"
   ]
  },
  {
   "cell_type": "code",
   "execution_count": 1481,
   "id": "27286ad8",
   "metadata": {},
   "outputs": [
    {
     "data": {
      "text/plain": [
       "['We are United States Marines, and for two and a quarter centuries we have defined the standards of courage, esprit, and military prowess.',\n",
       " 'Patience is the companion of wisdom.',\n",
       " 'Peace cannot be kept by force; it can only be achieved by understanding.',\n",
       " 'I prefer to be true to myself, even at the hazard of incurring the ridicule of others, rather than to be false, and to incur my own abhorrence.',\n",
       " 'The two hardest tests on the spiritual road are the patience to wait for the right moment and the courage not to be disappointed with what we encounter.',\n",
       " 'The revolution is not an apple that falls when it is ripe. You have to make it fall.',\n",
       " \"We can always choose to perceive things differently. You can focus on what's wrong in your life, or you can focus on what's right.\",\n",
       " 'Always seek out the seed of triumph in every adversity.',\n",
       " 'Self-worth comes from one thing - thinking that you are worthy.',\n",
       " 'The best vision is insight.',\n",
       " \"You may have a fresh start any moment you choose, for this thing that we call 'failure' is not the falling down, but the staying down.\",\n",
       " 'Learning is the beginning of wealth. Learning is the beginning of health. Learning is the beginning of spirituality. Searching and learning is where the miracle process all begins.',\n",
       " 'Being entirely honest with oneself is a good exercise.',\n",
       " \"Take it from a guy: If you're in love with somebody, you will swim the stream, you will climb the mountain, you will slay the dragon. You're going to get to her somehow, some way.\",\n",
       " 'The best and most beautiful things in the world cannot be seen or even touched - they must be felt with the heart.',\n",
       " 'You can love someone so much...But you can never love people as much as you can miss them.',\n",
       " 'If you break your neck, if you have nothing to eat, if your house is on fire, then you got a problem. Everything else is inconvenience.',\n",
       " 'Gratitude is riches. Complaint is poverty.',\n",
       " 'Your attitude is like a box of crayons that color your world. Constantly color your picture gray, and your picture will always be bleak. Try adding some bright colors to the picture by including humor, and your picture begins to lighten up.',\n",
       " 'Miracles come in moments. Be ready and willing.',\n",
       " 'Stop acting as if life is a rehearsal. Live this day as if it were your last. The past is over and gone. The future is not guaranteed.',\n",
       " 'The harder the conflict, the more glorious the triumph.',\n",
       " \"It's amazing what ordinary people can do if they set out without preconceived notions.\",\n",
       " 'You teach best what you most need to learn.',\n",
       " 'All I have seen teaches me to trust the creator for all I have not seen.',\n",
       " 'Either you run the day or the day runs you.',\n",
       " 'Never forget the three powerful resources you always have available to you: love, prayer, and forgiveness.',\n",
       " 'It is impossible for a man to learn what he thinks he already knows.',\n",
       " 'My attitude is that if you push me towards something that you think is a weakness, then I will turn that perceived weakness into a strength.',\n",
       " 'Without leaps of imagination, or dreaming, we lose the excitement of possibilities. Dreaming, after all, is a form of planning.',\n",
       " 'I have just returned from visiting the Marines at the front, and there is not a finer fighting organization in the world!',\n",
       " 'The successful man will profit from his mistakes and try again in a different way.',\n",
       " 'Your family and your love must be cultivated like a garden. Time, effort, and imagination must be summoned constantly to keep any relationship flourishing and growing.',\n",
       " 'Being ready is not what matters. What matters is winning after you get there.',\n",
       " 'In the beginning of a change the patriot is a scarce man, and brave, and hated and scorned. When his cause succeeds, the timid join him, for then it costs nothing to be a patriot.',\n",
       " 'Let my soul smile through my heart and my heart smile through my eyes, that I may scatter rich smiles in sad hearts.',\n",
       " 'We should not judge people by their peak of excellence; but by the distance they have traveled from the point where they started.',\n",
       " 'One reason so few of us achieve what we truly want is that we never direct our focus; we never concentrate our power. Most people dabble their way through life, never deciding to master anything in particular.',\n",
       " 'Learning is not attained by chance, it must be sought for with ardor and diligence.',\n",
       " \"We've all got both light and dark inside us. What matters is the part we choose to act on. That's who we really are.\",\n",
       " 'Our freedom can be measured by the number of things we can walk away from.',\n",
       " 'The highest form of worship is the worship of unselfish Christian service. The greatest form of praise is the sound of consecrated feet seeking out the lost and helpless.',\n",
       " \"Nothing I've ever done has given me more joys and rewards than being a father to my children.\",\n",
       " \"One isn't necessarily born with courage, but one is born with potential. Without courage, we cannot practice any other virtue with consistency. We can't be kind, true, merciful, generous, or honest.\",\n",
       " 'What is hell? I maintain that it is the suffering of being unable to love.',\n",
       " 'If you can learn to love yourself and all the flaws, you can love other people so much better. And that makes you so happy.',\n",
       " \"There is only one corner of the universe you can be certain of improving, and that's your own self.\",\n",
       " 'There is not one blade of grass, there is no color in this world that is not intended to make men rejoice.',\n",
       " 'Stay away from what might have been, and look at what can be.',\n",
       " 'Success is achieved by developing our strengths, not by eliminating our weaknesses.',\n",
       " 'Do not seek to follow in the footsteps of the wise. Seek what they sought.',\n",
       " \"In three words I can sum up everything I've learned about life: it goes on.\",\n",
       " 'We think too much and feel too little.',\n",
       " 'Failure is simply a few errors in judgment, repeated every day.',\n",
       " \"Missions is not the ultimate goal of the church. Worship is. Missions exists because worship doesn't.\",\n",
       " \"It's what you learn after you know it all that counts.\",\n",
       " 'Great spirits have always encountered opposition from mediocre minds. The mediocre mind is incapable of understanding the man who refuses to bow blindly to conventional prejudices and chooses instead to express his opinions courageously and honestly.',\n",
       " 'Maturity is the ability to think, speak and act your feelings within the bounds of dignity. The measure of your maturity is how spiritual you become during the midst of your frustrations.',\n",
       " \"Do what you feel in your heart to be right - for you'll be criticized anyway. You'll be damned if you do, and damned if you don't.\",\n",
       " 'As we express our gratitude, we must never forget that the highest appreciation is not to utter words, but to live by them.',\n",
       " 'Human beings can alter their lives by altering their attitudes of mind.',\n",
       " 'I pretended to be somebody I wanted to be until finally I became that person. Or he became me.',\n",
       " \"The only way that I could figure they could improve upon Coca-Cola, one of life's most delightful elixirs, which studies prove will heal the sick and occasionally raise the dead, is to put bourbon in it.\",\n",
       " 'It is not until you become a mother that your judgment slowly turns to compassion and understanding.',\n",
       " 'You must make a decision that you are going to move on. It wont happen automatically. You will have to rise up and say, ‘I don’t care how hard this is, I don’t care how disappointed I am, I’m not going to let this get the best of me. I’m moving on with my life.',\n",
       " \"If you don't stand for something you will fall for anything.\",\n",
       " 'Searching and learning is where the miracle process all begins.',\n",
       " \"These young guys are playing checkers. I'm out there playing chess.\",\n",
       " \"I firmly believe that any man's finest hour, the greatest fulfillment of all that he holds dear, is that moment when he has worked his heart out in a good cause and lies exhausted on the field of battle - victorious.\",\n",
       " \"If we're growing, we're always going to be out of our comfort zone.\",\n",
       " \"It doesn't matter which side of the fence you get off on sometimes. What matters most is getting off. You cannot make progress without making decisions.\",\n",
       " 'Greed is a bottomless pit which exhausts the person in an endless effort to satisfy the need without ever reaching satisfaction.',\n",
       " 'Out of suffering have emerged the strongest souls; the most massive characters are seared with scars.',\n",
       " \"You just can't beat the person who never gives up.\",\n",
       " 'When I was 5 years old, my mother always told me that happiness was the key to life. When I went to school, they asked me what I wanted to be when I grew up. I wrote down ‘happy’. They told me I didn’t understand the assignment, and I told them they didn’t understand life.',\n",
       " 'Common sense is the collection of prejudices acquired by age eighteen.',\n",
       " 'Our attitude towards others determines their attitude towards us.',\n",
       " 'The happiness of your life depends upon the quality of your thoughts.',\n",
       " \"Be nice to people on your way up because you'll meet them on your way down.\",\n",
       " 'If we learn to open our hearts, anyone, including the people who drive us crazy, can be our teacher.',\n",
       " \"There is some good in this world, and it's worth fighting for.\",\n",
       " 'The cost of freedom is always high, but Americans have always paid it. And one path we shall never choose, and that is the path of surrender, or submission.',\n",
       " 'Carpe diem! Rejoice while you are alive; enjoy the day; live life to the fullest; make the most of what you have. It is later than you think.',\n",
       " \"You're mind is working at its best when you're being paranoid. You explore every avenue and possibility of your situation at high speed with total clarity.\",\n",
       " 'Without a sense of urgency, desire loses its value.',\n",
       " 'Whatever good things we build end up building us.',\n",
       " 'The purpose of life is to live it, to taste experience to the utmost, to reach out eagerly and without fear for newer and richer experience.',\n",
       " \"They're on our right, they're on our left, they're in front of us, they're behind us; they can't get away from us this time.\",\n",
       " \"I'm not in this world to live up to your expectations and you're not in this world to live up to mine.\",\n",
       " 'The major value in life is not what you get. The major value in life is what you become.',\n",
       " 'Give me six hours to chop down a tree and I will spend the first four sharpening the axe.',\n",
       " 'We have to be careful in how we use this light shined on us.',\n",
       " 'To solve any problem, here are three questions to ask yourself: First, what could I do? Second, what could I read? And third, who could I ask?',\n",
       " \"You've got to know your limitations. I don't know what your limitations are. I found out what mine were when I was twelve. I found out that there weren't too many limitations, if I did it my way.\",\n",
       " 'I always wonder why birds choose to stay in the same place when they can fly anywhere on the earth, then I ask myself the same question.',\n",
       " 'To love means loving the unlovable. To forgive means pardoning the unpardonable. Faith means believing the unbelievable. Hope means hoping when everything seems hopeless.',\n",
       " \"If you really want to do something, you'll find a way. If you don't, you'll find an excuse.\",\n",
       " 'Be brave. Take risks. Nothing can substitute experience.',\n",
       " 'It is neither wealth nor splendor; but tranquility and occupation which give you happiness.',\n",
       " 'A thousand words will not leave so deep an impression as one deed.']"
      ]
     },
     "execution_count": 1481,
     "metadata": {},
     "output_type": "execute_result"
    }
   ],
   "source": [
    "page9_title=[]\n",
    "for i in title:\n",
    "    titles=i.text\n",
    "    page9_title.append(titles)\n",
    "page9_title"
   ]
  },
  {
   "cell_type": "code",
   "execution_count": 1482,
   "id": "e66be0ab",
   "metadata": {},
   "outputs": [
    {
     "name": "stdout",
     "output_type": "stream",
     "text": [
      "100\n"
     ]
    }
   ],
   "source": [
    "print(len(page9_title))"
   ]
  },
  {
   "cell_type": "code",
   "execution_count": 1483,
   "id": "5b0ebbad",
   "metadata": {},
   "outputs": [
    {
     "data": {
      "text/plain": [
       "[<selenium.webdriver.remote.webelement.WebElement (session=\"c2597f11652987a099fc3c4f5c0e3474\", element=\"a228eea0-e8b0-4216-81b8-70fce567752a\")>,\n",
       " <selenium.webdriver.remote.webelement.WebElement (session=\"c2597f11652987a099fc3c4f5c0e3474\", element=\"e9b6c0d6-af10-46fa-b6dc-0badcaa6d72d\")>]"
      ]
     },
     "execution_count": 1483,
     "metadata": {},
     "output_type": "execute_result"
    }
   ],
   "source": [
    "# Finding The Author from Page 9\n",
    "\n",
    "author=driver.find_elements(By.XPATH,\"//div[@class='author']\")\n",
    "\n",
    "\n",
    "author[0:2]"
   ]
  },
  {
   "cell_type": "code",
   "execution_count": 1484,
   "id": "53066b68",
   "metadata": {},
   "outputs": [
    {
     "data": {
      "text/plain": [
       "['James L. Jones',\n",
       " 'Saint Augustine',\n",
       " 'Albert Einstein',\n",
       " 'Frederick Douglass',\n",
       " 'Paulo Coelho',\n",
       " 'Che Guevara',\n",
       " 'Marianne Williamson',\n",
       " 'Og Mandino',\n",
       " 'Wayne Dyer',\n",
       " 'Malcolm Forbes',\n",
       " 'Mary Pickford',\n",
       " 'Jim Rohn',\n",
       " 'Sigmund Freud',\n",
       " 'Phil McGraw',\n",
       " 'Helen Keller',\n",
       " 'John Green',\n",
       " 'Robert Fulghum',\n",
       " 'Doris Day',\n",
       " 'Allen Klein',\n",
       " 'Wayne Dyer',\n",
       " 'Wayne Dyer',\n",
       " 'Thomas Paine',\n",
       " 'Ben Stein',\n",
       " 'Richard Bach',\n",
       " 'Ralph Waldo Emerson',\n",
       " 'Jim Rohn',\n",
       " 'H. Jackson Brown, Jr.',\n",
       " 'Epictetus',\n",
       " 'Michael Jordan',\n",
       " 'Gloria Steinem',\n",
       " 'Douglas MacArthur',\n",
       " 'Dale Carnegie',\n",
       " 'Jim Rohn',\n",
       " 'Victor H. Krulak',\n",
       " 'Mark Twain',\n",
       " 'Paramahansa Yogananda',\n",
       " 'Henry Ward Beecher',\n",
       " 'Tony Robbins',\n",
       " 'Abigail Adams',\n",
       " 'J. K. Rowling',\n",
       " 'Vernon Howard',\n",
       " 'Billy Graham',\n",
       " 'Bill Cosby',\n",
       " 'Maya Angelou',\n",
       " 'Fyodor Dostoevsky',\n",
       " 'Kristin Chenoweth',\n",
       " 'Aldous Huxley',\n",
       " 'John Calvin',\n",
       " 'Marsha Petrie Sue',\n",
       " 'Marilyn vos Savant',\n",
       " 'Matsuo Basho',\n",
       " 'Robert Frost',\n",
       " 'Charlie Chaplin',\n",
       " 'Jim Rohn',\n",
       " 'John Piper',\n",
       " 'John Wooden',\n",
       " 'Albert Einstein',\n",
       " 'Samuel Ullman',\n",
       " 'Eleanor Roosevelt',\n",
       " 'John F. Kennedy',\n",
       " 'William James',\n",
       " 'Cary Grant',\n",
       " 'Lewis Grizzard',\n",
       " 'Erma Bombeck',\n",
       " 'Joel Osteen',\n",
       " 'Malcolm X',\n",
       " 'Jim Rohn',\n",
       " 'Kobe Bryant',\n",
       " 'Vince Lombardi',\n",
       " 'John C. Maxwell',\n",
       " 'Jim Rohn',\n",
       " 'Erich Fromm',\n",
       " 'Khalil Gibran',\n",
       " 'Babe Ruth',\n",
       " 'John Lennon',\n",
       " 'Albert Einstein',\n",
       " 'Earl Nightingale',\n",
       " 'Marcus Aurelius',\n",
       " 'Wilson Mizner',\n",
       " 'Pema Chodron',\n",
       " 'J. R. R. Tolkien',\n",
       " 'John F. Kennedy',\n",
       " 'Horace',\n",
       " 'Banksy',\n",
       " 'Jim Rohn',\n",
       " 'Jim Rohn',\n",
       " 'Eleanor Roosevelt',\n",
       " 'Chesty Puller',\n",
       " 'Bruce Lee',\n",
       " 'Jim Rohn',\n",
       " 'Abraham Lincoln',\n",
       " 'Melinda Gates',\n",
       " 'Jim Rohn',\n",
       " 'Johnny Cash',\n",
       " 'Harun Yahya',\n",
       " 'Gilbert K. Chesterton',\n",
       " 'Jim Rohn',\n",
       " 'Paulo Coelho',\n",
       " 'Thomas Jefferson',\n",
       " 'Henrik Ibsen']"
      ]
     },
     "execution_count": 1484,
     "metadata": {},
     "output_type": "execute_result"
    }
   ],
   "source": [
    "page9_author=[]\n",
    "for i in author:\n",
    "    authors=i.text\n",
    "    page9_author.append(authors)\n",
    "page9_author"
   ]
  },
  {
   "cell_type": "code",
   "execution_count": 1485,
   "id": "7a42916f",
   "metadata": {},
   "outputs": [
    {
     "name": "stdout",
     "output_type": "stream",
     "text": [
      "100\n"
     ]
    }
   ],
   "source": [
    "print(len(page9_author))"
   ]
  },
  {
   "cell_type": "code",
   "execution_count": 1486,
   "id": "f72398a5",
   "metadata": {},
   "outputs": [
    {
     "data": {
      "text/plain": [
       "[<selenium.webdriver.remote.webelement.WebElement (session=\"c2597f11652987a099fc3c4f5c0e3474\", element=\"9900f8ff-abf5-45be-8872-e76acaeff5c8\")>,\n",
       " <selenium.webdriver.remote.webelement.WebElement (session=\"c2597f11652987a099fc3c4f5c0e3474\", element=\"724449c3-3c4f-4114-a560-db7cbe1da0d1\")>]"
      ]
     },
     "execution_count": 1486,
     "metadata": {},
     "output_type": "execute_result"
    }
   ],
   "source": [
    "# Scrapping Type of Quotes from page 9\n",
    "\n",
    "tag=driver.find_elements(By.XPATH,\"//div[@class='tags']\")\n",
    "\n",
    "\n",
    "tag[0:2]"
   ]
  },
  {
   "cell_type": "code",
   "execution_count": 1487,
   "id": "1a581424",
   "metadata": {},
   "outputs": [
    {
     "data": {
      "text/plain": [
       "['Military, Marine, Two',\n",
       " 'Inspirational, Patience, Spiritual',\n",
       " 'Love, Inspirational, Life',\n",
       " 'Respect, Fear, Integrity',\n",
       " 'Love, Life, Patience',\n",
       " 'Fall, Revolutionary Leaders, Apples',\n",
       " 'Love, Forgiveness, Peace',\n",
       " 'Wisdom, Adversity, Triumph',\n",
       " 'Motivational, Spiritual, Self Esteem',\n",
       " 'Inspirational, Business, Imagination',\n",
       " 'Inspirational, Life, Motivational',\n",
       " 'Motivational, Success, Education',\n",
       " 'Inspiring, Education, Teacher',\n",
       " 'Determination, Dragons, Hiking',\n",
       " 'Love, Inspirational, Funny',\n",
       " 'Moving On, Break Up, I Miss You',\n",
       " 'Life, Positive, Encouraging',\n",
       " 'Thanksgiving, Thankful, Gratitude',\n",
       " 'Attitude, Positive Thinking, Positivity',\n",
       " 'Inspiration, Miracle, Preparation',\n",
       " 'Life, Motivational, Positive',\n",
       " 'Inspirational, Life, Motivational',\n",
       " 'Inspirational, Success, Determination',\n",
       " 'Education, Wisdom, Teaching',\n",
       " 'Trust, Faith, Spiritual',\n",
       " 'Inspirational, Life, Motivational',\n",
       " 'Love, Inspirational, Forgiveness',\n",
       " 'Inspirational, Change, Inspiring',\n",
       " 'Inspirational, Motivational, Strength',\n",
       " 'Inspirational, Life, Motivational',\n",
       " 'Military, Fighting, Marine',\n",
       " 'Inspirational, Motivational, Success',\n",
       " 'Love, Family, Marriage',\n",
       " 'Motivational, Military, Marine',\n",
       " 'Change, Thank You, Memorial Day',\n",
       " 'Inspirational, Change, Smile',\n",
       " 'Leadership, Wisdom, Distance',\n",
       " 'Inspirational, Funny, Life',\n",
       " 'Inspirational, Education, Perseverance',\n",
       " 'Love, Inspirational, Dark',\n",
       " 'Freedom, Numbers, Being Free',\n",
       " 'Christian, Feet, Sound',\n",
       " 'Family, Fathers Day, Children',\n",
       " 'Inspirational, Strength, Inspiring',\n",
       " 'Love, Life, Suffering',\n",
       " 'Love, Life, Happy',\n",
       " 'Inspirational, Motivational, Positive',\n",
       " 'Inspirational, Spiritual, Nature',\n",
       " 'New Year, New Beginnings, Might',\n",
       " 'Inspirational, Strength, Success',\n",
       " 'Inspirational, Life, Positive',\n",
       " 'Inspirational, Life, Motivational',\n",
       " 'Kindness, Thinking, Wicked World',\n",
       " 'Success, Greatness, Errors',\n",
       " 'Christian, Goal, Church',\n",
       " 'Motivational, Inspiring, Graduation',\n",
       " 'Inspirational, Life, Being Yourself',\n",
       " 'Inspirational, Spiritual, Time',\n",
       " 'Integrity, Heart, Positivity',\n",
       " 'Inspirational, Thank You, Thanksgiving',\n",
       " 'Inspirational, Positive, Success',\n",
       " 'Writing, Self Improvement, Self Help',\n",
       " 'Drinking, Sick, Way',\n",
       " 'Family, Mom, Mother',\n",
       " 'Inspirational, Positive, Moving On',\n",
       " 'Love, Inspirational, Life',\n",
       " 'Learning, Miracle, Process',\n",
       " 'Funny, Basketball, Sports',\n",
       " 'Inspirational, Motivational, Positive',\n",
       " 'Change, Positive, Courage',\n",
       " 'Inspirational, Greatness, What Matters',\n",
       " 'Effort, Greed, Needs',\n",
       " 'Inspirational, Life, Motivational',\n",
       " 'Life, Motivational, Stay Strong',\n",
       " 'Inspirational, Life, Motivational',\n",
       " 'Inspirational, Funny, Leadership',\n",
       " 'Inspirational, Positive, Determination',\n",
       " 'Inspirational, Life, Motivational',\n",
       " 'Inspirational, Success, Graduation',\n",
       " 'Teacher, Inspirational Love, Peace',\n",
       " 'Hope, Optimistic, Fighting',\n",
       " 'Inspirational, Memorial Day, Freedom',\n",
       " 'Inspirational, Life, Positive',\n",
       " 'Art, Creativity, Mind',\n",
       " 'Motivational, Good Life, Greatness',\n",
       " 'Self Esteem, Greatness, Goal',\n",
       " 'Inspirational, Life, Fear',\n",
       " 'War, Military, Marine',\n",
       " 'Inspirational, Life, Karma',\n",
       " 'Inspirational, Life, Fitness Motivational',\n",
       " 'Inspirational, Motivational, Leadership',\n",
       " 'Light, Use, Be Careful',\n",
       " 'Inspirational, Mistake, Learning',\n",
       " 'Twelve, Way, Found',\n",
       " 'Inspirational, Success, Travel',\n",
       " 'Love, Inspirational, Success',\n",
       " 'Inspirational, Motivational, Success',\n",
       " 'Encouraging, Courage, Inspiration',\n",
       " 'Life, Happiness, Work',\n",
       " 'Inspirational, Inspiring, Positivity']"
      ]
     },
     "execution_count": 1487,
     "metadata": {},
     "output_type": "execute_result"
    }
   ],
   "source": [
    "page9_tag=[]\n",
    "for i in tag:\n",
    "    tags=i.text\n",
    "    page9_tag.append(tags)\n",
    "page9_tag"
   ]
  },
  {
   "cell_type": "code",
   "execution_count": 1488,
   "id": "9957a63e",
   "metadata": {},
   "outputs": [
    {
     "name": "stdout",
     "output_type": "stream",
     "text": [
      "100\n"
     ]
    }
   ],
   "source": [
    "print(len(page9_tag))"
   ]
  },
  {
   "cell_type": "code",
   "execution_count": 1489,
   "id": "470b1f25",
   "metadata": {},
   "outputs": [
    {
     "data": {
      "text/html": [
       "<div>\n",
       "<style scoped>\n",
       "    .dataframe tbody tr th:only-of-type {\n",
       "        vertical-align: middle;\n",
       "    }\n",
       "\n",
       "    .dataframe tbody tr th {\n",
       "        vertical-align: top;\n",
       "    }\n",
       "\n",
       "    .dataframe thead th {\n",
       "        text-align: right;\n",
       "    }\n",
       "</style>\n",
       "<table border=\"1\" class=\"dataframe\">\n",
       "  <thead>\n",
       "    <tr style=\"text-align: right;\">\n",
       "      <th></th>\n",
       "      <th>page_title</th>\n",
       "      <th>page_author</th>\n",
       "      <th>page_tag</th>\n",
       "    </tr>\n",
       "  </thead>\n",
       "  <tbody>\n",
       "    <tr>\n",
       "      <th>0</th>\n",
       "      <td>We are United States Marines, and for two and ...</td>\n",
       "      <td>James L. Jones</td>\n",
       "      <td>Military, Marine, Two</td>\n",
       "    </tr>\n",
       "    <tr>\n",
       "      <th>1</th>\n",
       "      <td>Patience is the companion of wisdom.</td>\n",
       "      <td>Saint Augustine</td>\n",
       "      <td>Inspirational, Patience, Spiritual</td>\n",
       "    </tr>\n",
       "    <tr>\n",
       "      <th>2</th>\n",
       "      <td>Peace cannot be kept by force; it can only be ...</td>\n",
       "      <td>Albert Einstein</td>\n",
       "      <td>Love, Inspirational, Life</td>\n",
       "    </tr>\n",
       "    <tr>\n",
       "      <th>3</th>\n",
       "      <td>I prefer to be true to myself, even at the haz...</td>\n",
       "      <td>Frederick Douglass</td>\n",
       "      <td>Respect, Fear, Integrity</td>\n",
       "    </tr>\n",
       "    <tr>\n",
       "      <th>4</th>\n",
       "      <td>The two hardest tests on the spiritual road ar...</td>\n",
       "      <td>Paulo Coelho</td>\n",
       "      <td>Love, Life, Patience</td>\n",
       "    </tr>\n",
       "  </tbody>\n",
       "</table>\n",
       "</div>"
      ],
      "text/plain": [
       "                                          page_title         page_author  \\\n",
       "0  We are United States Marines, and for two and ...      James L. Jones   \n",
       "1               Patience is the companion of wisdom.     Saint Augustine   \n",
       "2  Peace cannot be kept by force; it can only be ...     Albert Einstein   \n",
       "3  I prefer to be true to myself, even at the haz...  Frederick Douglass   \n",
       "4  The two hardest tests on the spiritual road ar...        Paulo Coelho   \n",
       "\n",
       "                             page_tag  \n",
       "0               Military, Marine, Two  \n",
       "1  Inspirational, Patience, Spiritual  \n",
       "2           Love, Inspirational, Life  \n",
       "3            Respect, Fear, Integrity  \n",
       "4                Love, Life, Patience  "
      ]
     },
     "execution_count": 1489,
     "metadata": {},
     "output_type": "execute_result"
    }
   ],
   "source": [
    "# Creating Data Frame for Page 9\n",
    "\n",
    "page9 = pd.DataFrame({})\n",
    "page9[\"page_title\"]=page9_title\n",
    "page9[\"page_author\"]=page9_author\n",
    "page9[\"page_tag\"]=page9_tag\n",
    "page9.head()"
   ]
  },
  {
   "cell_type": "code",
   "execution_count": 1490,
   "id": "6ea51338",
   "metadata": {},
   "outputs": [],
   "source": [
    "# Clicking on Page 10\n",
    "\n",
    "\n",
    "next_button=driver.find_element(By.XPATH,\"/html/body/div[1]/div[2]/div/div/div/div[1]/div/div[3]/li[13]/a\")\n",
    "next_button.click()"
   ]
  },
  {
   "cell_type": "code",
   "execution_count": 1491,
   "id": "888aaeba",
   "metadata": {},
   "outputs": [
    {
     "data": {
      "text/plain": [
       "[<selenium.webdriver.remote.webelement.WebElement (session=\"c2597f11652987a099fc3c4f5c0e3474\", element=\"f74aeab7-a1d0-41a0-a218-f6c82440493c\")>,\n",
       " <selenium.webdriver.remote.webelement.WebElement (session=\"c2597f11652987a099fc3c4f5c0e3474\", element=\"4cadce70-3ef2-43a4-b257-09472ccddd20\")>]"
      ]
     },
     "execution_count": 1491,
     "metadata": {},
     "output_type": "execute_result"
    }
   ],
   "source": [
    "# Finding The Qoute from page 10\n",
    "\n",
    "title=driver.find_elements(By.XPATH,\"//a[@class='title']\")\n",
    "\n",
    "\n",
    "title[0:2]"
   ]
  },
  {
   "cell_type": "code",
   "execution_count": 1492,
   "id": "8e353e30",
   "metadata": {},
   "outputs": [
    {
     "data": {
      "text/plain": [
       "['Courage is the price that life exacts for granting peace.',\n",
       " 'The worst evils which mankind has ever had to endure were inflicted by bad governments.',\n",
       " 'The moment we begin to fear the opinions of others and hesitate to tell the truth that is in us, and from motives of policy are silent when we should speak, the divine floods of light and life no longer flow into our souls.',\n",
       " 'Trust yourself, you know more than you think you do.',\n",
       " 'High achievement always takes place in the framework of high expectation.',\n",
       " 'Some people want it to happen, some wish it would happen, others make it happen.',\n",
       " 'The body is your temple. Keep it pure and clean for the soul to reside in.',\n",
       " 'Be like a duck. Calm on the surface, but always paddling like the dickens underneath.',\n",
       " 'Tears shed for self are tears of weakness, but tears shed for others are a sign of strength.',\n",
       " 'Success is neither magical nor mysterious. Success is the natural consequence of consistently applying the basic fundamentals.',\n",
       " 'It is wise to direct your anger towards problems - not people; to focus your energies on answers - not excuses.',\n",
       " 'If we did all the things we are capable of doing, we would literally astound ourselves.',\n",
       " \"As long as there's pasta and Chinese food in the world, I'm okay.\",\n",
       " 'I ask, sir, what is the militia? It is the whole people except for a few public officials.',\n",
       " 'Love is our true destiny. We do not find the meaning of life by ourselves alone - we find it with another.',\n",
       " 'The few who do are the envy of the many who only watch.',\n",
       " \"Don't brood. Get on with living and loving. You don't have forever.\",\n",
       " 'The Marines have landed and the situation is well in hand.',\n",
       " \"Tricks and treachery are the practice of fools, that don't have brains enough to be honest.\",\n",
       " \"Life is one big road with lots of signs,\\nSo when you riding through the ruts,\\nDon't you complicate your mind\\nFlee from hate, mischief and jealousy\\nDon't bury your thoughts; put your vision to reality.\",\n",
       " 'There is always some madness in love. But there is also always some reason in madness.',\n",
       " 'For peace of mind, we need to resign as general manager of the universe.',\n",
       " 'I am free, no matter what rules surround me. If I find them tolerable, I tolerate them; if I find them too obnoxious, I break them. I am free because I know that I alone am morally responsible for everything I do.',\n",
       " 'Only put off until tomorrow what you are willing to die having left undone.',\n",
       " \"It's very hard in the beginning to understand that the whole idea is not to beat the other runners. Eventually you learn that the competition is against the little voice inside you that wants you to quit.\",\n",
       " 'The will to win, the desire to succeed, the urge to reach your full potential... these are the keys that will unlock the door to personal excellence.',\n",
       " 'Difficulties are meant to rouse, not discourage. The human spirit is to grow strong by conflict.',\n",
       " 'A well-developed sense of humor is the pole that adds balance to your steps as you walk the tightrope of life.',\n",
       " 'We relish news of our heroes, forgetting that we are extraordinary to somebody too.',\n",
       " \"It isn't the mountain ahead that wears you out; it's the grain of sand in your shoe.\",\n",
       " 'Empty your mind, be formless. Shapeless, like water. If you put water into a cup, it becomes the cup. You put water into a bottle and it becomes the bottle. You put it in a teapot it becomes the teapot. Now, water can flow or it can crash. Be water, my friend.',\n",
       " 'It takes less time to do a thing right, than it does to explain why you did it wrong.',\n",
       " 'The longer we dwell on our misfortunes, the greater is their power to harm us',\n",
       " \"Sometimes I've believed as many as six impossible things before breakfast.\",\n",
       " 'Do not fear mistakes. There are none.',\n",
       " 'Expose yourself to your deepest fear; after that, fear has no power, and the fear of freedom shrinks and vanishes. You are free.',\n",
       " 'Anger is an acid that can do more harm to the vessel in which it is stored than to anything on which it is poured.',\n",
       " 'Failure is success if we learn from it.',\n",
       " 'You are here to enable the divine purpose of the Universe to unfold. That is how important you are!',\n",
       " 'People like us, who believe in physics, know that the distinction between past, present, and future is only a stubbornly persistent illusion.',\n",
       " 'I still need Marines who can shoot and salute. But I need Marines who can fix jet engines and man sophisticated radar sets, as well.',\n",
       " \"You can't expect to hit the jackpot if you don't put a few nickels in the machine.\",\n",
       " 'It is what we know already that often prevents us from learning.',\n",
       " 'The only limit to our realization of tomorrow will be our doubts of today.',\n",
       " 'One of the penalties for refusing to participate in politics is that you end up being governed by your inferiors.',\n",
       " \"I've learned that making a 'living' is not the same thing as 'making a life'.\",\n",
       " 'The spirit, the will to win, and the will to excel are the things that endure. These qualities are so much more important than the events that occur.',\n",
       " 'When I started counting my blessings, my whole life turned around.',\n",
       " \"What doesn't kill you makes you smaller\",\n",
       " 'Ninety-nine percent of the failures come from people who have the habit of making excuses.',\n",
       " 'Everything comes to us that belongs to us if we create the capacity to receive it.',\n",
       " 'Every time you smile at someone, it is an action of love, a gift to that person, a beautiful thing.',\n",
       " 'The difficulties you meet will resolve themselves as you advance. Proceed, and light will dawn, and shine with increasing clearness on your path.',\n",
       " \"It's not what's happening to you now or what has happened in your past that determines who you become. Rather, it's your decisions about what to focus on, what things mean to you, and what you're going to do about them that will determine your ultimate destiny.\",\n",
       " 'Live your life and forget your age.',\n",
       " 'We may not be able to prepare the future for our children, but we can at least prepare our children for the future.',\n",
       " \"That's been one of my mantras - focus and simplicity. Simple can be harder than complex: You have to work hard to get your thinking clean to make it simple. But it's worth it in the end because once you get there, you can move mountains.\",\n",
       " 'Men occasionally stumble over the truth, but most of them pick themselves up and hurry off as if nothing had happened.',\n",
       " 'The trouble with most of us is that we would rather be ruined by praise than saved by criticism.',\n",
       " 'The smallest deed is better than the greatest intention.',\n",
       " \"Only two things are infinite, the universe and human stupidity, and I'm not sure about the former.\",\n",
       " 'A nation of sheep will beget a government of wolves.',\n",
       " \"Nothing else can quite substitute for a few well-chosen,\\nwell-timed, sincere words of praise.\\nThey're absolutely free and worth a fortune\",\n",
       " \"There is nothing in a caterpillar that tells you it's going to be a butterfly.\",\n",
       " \"A charming woman... doesn't follow the crowd. She is herself.\",\n",
       " \"You don't understand anything until you learn it more than one way.\",\n",
       " 'Doubt yourself and you doubt everything you see. Judge yourself and you see judges everywhere. But if you listen to the sound of your own voice, you can rise above doubt and judgment. And you can see forever.',\n",
       " \"Find the good. It's all around you. Find it, showcase it and you'll start believing in it.\",\n",
       " 'Happiness in marriage is entirely a matter of chance.',\n",
       " 'The difference between a mountain and a molehill is your perspective.',\n",
       " 'It is best to act with confidence, no matter how little right you have to it.',\n",
       " \"People usually consider walking on water or in thin air a miracle. But I think the real miracle is not to walk either on water or in thin air, but to walk on earth. Every day we are engaged in a miracle which we don't even recognize: a blue sky, white clouds, green leaves, the black, curious eyes of a child -- our own two eyes. All is a miracle.\",\n",
       " 'Freedom means the opportunity to be what we never thought we would be.',\n",
       " 'For it was not into my ear you whispered, but into my heart. It was not my lips you kissed, but my soul.',\n",
       " 'I will love the light for it shows me the way, yet I will endure the darkness because it shows me the stars.',\n",
       " \"If you run, you are a runner. It doesn't matter how fast or how far. It doesn't matter if today is your first day or if you've been running for twenty years. There is no test to pass, no license to earn, no membership card to get. You just run.\",\n",
       " 'The deepest principle in human nature is the craving to be appreciated.',\n",
       " \"The world is a dangerous place to live; not because of the people who are evil, but because of the people who don't do anything about it.\",\n",
       " 'To find out what one is fitted to do, and to secure an opportunity to do it, is the key to happiness.',\n",
       " 'Forgiveness says you are given another chance to make a new beginning.',\n",
       " \"About all you can do in life is be who you are. Some people will love you for you. Most will love you for what you can do for them, and some won't like you at all.\",\n",
       " 'What is success? I think it is a mixture of having a flair for the thing that you are doing; knowing that it is not enough, that you have got to have hard work and a certain sense of purpose.',\n",
       " 'The past has no power over the present moment.',\n",
       " \"Do not let your fire go out, spark by irreplaceable spark in the hopeless swamps of the not-quite, the not-yet, and the not-at-all. Do not let the hero in your soul perish in lonely frustration for the life you deserved and have never been able to reach. The world you desire can be won. It exists.. it is real.. it is possible.. it's yours.\",\n",
       " 'No person was ever honored for what he received. Honor has been the reward for what he gave.',\n",
       " 'Wherever you are, and whatever you do, be in love.',\n",
       " 'Love yourself-accept yourself-forgive yourself-and be good to yourself, because without you the rest of us are without a source of many wonderful things.',\n",
       " 'Whenever you find yourself on the side of the majority, it is time to pause and reflect.',\n",
       " 'And those who were seen dancing were thought to be insane by those who could not hear the music.',\n",
       " \"I love things that age well - things that don't date, that stand the test of time and that become living examples of the absolute best.\",\n",
       " 'Better be wise by the misfortunes of others than by your own.',\n",
       " 'The person, be it gentleman or lady, who has not pleasure in a good novel, must be intolerably stupid.',\n",
       " 'Curiosity is one of the most permanent and certain characteristics of a vigorous intellect.',\n",
       " 'Leaders must be close enough to relate to others, but far enough ahead to motivate them.',\n",
       " \"The opposite of love is not hate, it's indifference. The opposite of art is not ugliness, it's indifference. The opposite of faith is not heresy, it's indifference. And the opposite of life is not death, it's indifference.\",\n",
       " 'Regret for the things we did can be tempered by time; it is regret for the things we did not do that is inconsolable.',\n",
       " 'America... just a nation of two hundred million used car salesmen with all the money we need to buy guns and no qualms about killing anybody else in the world who tries to make us uncomfortable.',\n",
       " 'For every disciplined effort there is a multiple reward.',\n",
       " \"The spiritual journey is individual, highly personal. It can't be organized or regulated. It isn't true that everyone should follow one path. Listen to your own truth.\",\n",
       " 'The mind is not a vessel to be filled but a fire to be kindled.']"
      ]
     },
     "execution_count": 1492,
     "metadata": {},
     "output_type": "execute_result"
    }
   ],
   "source": [
    "page10_title=[]\n",
    "for i in title:\n",
    "    titles=i.text\n",
    "    page10_title.append(titles)\n",
    "page10_title"
   ]
  },
  {
   "cell_type": "code",
   "execution_count": 1493,
   "id": "8de3dfd0",
   "metadata": {},
   "outputs": [
    {
     "name": "stdout",
     "output_type": "stream",
     "text": [
      "100\n"
     ]
    }
   ],
   "source": [
    "print(len(page10_title))"
   ]
  },
  {
   "cell_type": "code",
   "execution_count": 1494,
   "id": "b27ac3ca",
   "metadata": {},
   "outputs": [
    {
     "data": {
      "text/plain": [
       "[<selenium.webdriver.remote.webelement.WebElement (session=\"c2597f11652987a099fc3c4f5c0e3474\", element=\"c67a7ecd-49dc-490e-bcf4-f44bd96ce9f7\")>,\n",
       " <selenium.webdriver.remote.webelement.WebElement (session=\"c2597f11652987a099fc3c4f5c0e3474\", element=\"3d73c96b-a832-4295-8979-38ecc3e0f223\")>]"
      ]
     },
     "execution_count": 1494,
     "metadata": {},
     "output_type": "execute_result"
    }
   ],
   "source": [
    "# Finding The Author from Page 10\n",
    "\n",
    "author=driver.find_elements(By.XPATH,\"//div[@class='author']\")\n",
    "\n",
    "\n",
    "author[0:2]"
   ]
  },
  {
   "cell_type": "code",
   "execution_count": 1495,
   "id": "63903c95",
   "metadata": {},
   "outputs": [
    {
     "data": {
      "text/plain": [
       "['Amelia Earhart',\n",
       " 'Ludwig von Mises',\n",
       " 'Elizabeth Cady Stanton',\n",
       " 'Benjamin Spock',\n",
       " 'Charles Kettering',\n",
       " 'Michael Jordan',\n",
       " 'B.K.S. Iyengar',\n",
       " 'Michael Caine',\n",
       " 'Billy Graham',\n",
       " 'Jim Rohn',\n",
       " 'William Arthur Ward',\n",
       " 'Thomas A. Edison',\n",
       " 'Michael Chang',\n",
       " 'George Mason',\n",
       " 'Thomas Merton',\n",
       " 'Jim Rohn',\n",
       " 'Leo Buscaglia',\n",
       " 'Richard Harding Davis',\n",
       " 'Benjamin Franklin',\n",
       " 'Bob Marley',\n",
       " 'Friedrich Nietzsche',\n",
       " 'Larry Eisenberg',\n",
       " 'Robert A. Heinlein',\n",
       " 'Pablo Picasso',\n",
       " 'George A. Sheehan',\n",
       " 'Confucius',\n",
       " 'William Ellery Channing',\n",
       " 'William Arthur Ward',\n",
       " 'Helen Hayes',\n",
       " 'Robert W. Service',\n",
       " 'Bruce Lee',\n",
       " 'Henry Wadsworth Longfellow',\n",
       " 'Voltaire',\n",
       " 'Lewis Carroll',\n",
       " 'Miles Davis',\n",
       " 'Jim Morrison',\n",
       " 'Mark Twain',\n",
       " 'Malcolm Forbes',\n",
       " 'Eckhart Tolle',\n",
       " 'Albert Einstein',\n",
       " 'Robert E. Cushman, Jr.',\n",
       " 'Flip Wilson',\n",
       " 'Claude Bernard',\n",
       " 'Franklin D. Roosevelt',\n",
       " 'Plato',\n",
       " 'Maya Angelou',\n",
       " 'Vince Lombardi',\n",
       " 'Willie Nelson',\n",
       " 'Mario',\n",
       " 'George Washington Carver',\n",
       " 'Rabindranath Tagore',\n",
       " 'Mother Teresa',\n",
       " 'Jim Rohn',\n",
       " 'Tony Robbins',\n",
       " 'Norman Vincent Peale',\n",
       " 'Franklin D. Roosevelt',\n",
       " 'Steve Jobs',\n",
       " 'Winston Churchill',\n",
       " 'Norman Vincent Peale',\n",
       " 'John Burroughs',\n",
       " 'Albert Einstein',\n",
       " 'Edward R. Murrow',\n",
       " 'Sam Walton',\n",
       " 'R. Buckminster Fuller',\n",
       " 'Loretta Young',\n",
       " 'Marvin Minsky',\n",
       " 'Nancy Lopez',\n",
       " 'Jesse Owens',\n",
       " 'Jane Austen',\n",
       " 'Al Neuharth',\n",
       " 'Lillian Hellman',\n",
       " 'Nhat Hanh',\n",
       " 'Daniel J. Boorstin',\n",
       " 'Judy Garland',\n",
       " 'Og Mandino',\n",
       " 'John Bingham',\n",
       " 'William James',\n",
       " 'Albert Einstein',\n",
       " 'John Dewey',\n",
       " 'Desmond Tutu',\n",
       " 'Rita Mae Brown',\n",
       " 'Margaret Thatcher',\n",
       " 'Eckhart Tolle',\n",
       " 'Ayn Rand',\n",
       " 'Calvin Coolidge',\n",
       " 'Rumi',\n",
       " 'Leo Buscaglia',\n",
       " 'Mark Twain',\n",
       " 'Friedrich Nietzsche',\n",
       " 'Giorgio Armani',\n",
       " 'Aesop',\n",
       " 'Jane Austen',\n",
       " 'Samuel Johnson',\n",
       " 'John C. Maxwell',\n",
       " 'Elie Wiesel',\n",
       " 'Sydney J. Harris',\n",
       " 'Hunter S. Thompson',\n",
       " 'Jim Rohn',\n",
       " 'Ram Dass',\n",
       " 'Plutarch']"
      ]
     },
     "execution_count": 1495,
     "metadata": {},
     "output_type": "execute_result"
    }
   ],
   "source": [
    "page10_author=[]\n",
    "for i in author:\n",
    "    authors=i.text\n",
    "    page10_author.append(authors)\n",
    "page10_author"
   ]
  },
  {
   "cell_type": "code",
   "execution_count": 1496,
   "id": "edeb6b27",
   "metadata": {},
   "outputs": [
    {
     "name": "stdout",
     "output_type": "stream",
     "text": [
      "100\n"
     ]
    }
   ],
   "source": [
    "print(len(page10_author))"
   ]
  },
  {
   "cell_type": "code",
   "execution_count": 1497,
   "id": "a56c206e",
   "metadata": {},
   "outputs": [
    {
     "data": {
      "text/plain": [
       "[<selenium.webdriver.remote.webelement.WebElement (session=\"c2597f11652987a099fc3c4f5c0e3474\", element=\"8ea08166-21f3-4f5f-a702-a3de040e9053\")>,\n",
       " <selenium.webdriver.remote.webelement.WebElement (session=\"c2597f11652987a099fc3c4f5c0e3474\", element=\"14e872dd-001b-4c54-8956-4dfc890373f6\")>]"
      ]
     },
     "execution_count": 1497,
     "metadata": {},
     "output_type": "execute_result"
    }
   ],
   "source": [
    "# Scrapping Type of Quotes from page 10\n",
    "\n",
    "tag=driver.find_elements(By.XPATH,\"//div[@class='tags']\")\n",
    "\n",
    "\n",
    "tag[0:2]"
   ]
  },
  {
   "cell_type": "code",
   "execution_count": 1498,
   "id": "b2ca0754",
   "metadata": {},
   "outputs": [
    {
     "data": {
      "text/plain": [
       "['Inspirational, Life, Success',\n",
       " 'Peace, War, Government',\n",
       " 'Life, Strength, Courage',\n",
       " 'Positive, Family, Trust',\n",
       " 'Inspirational, Motivational, Teacher',\n",
       " 'Inspirational, Life, Motivational',\n",
       " 'Success, Spiritual, Wisdom',\n",
       " 'Inspiring, Encouragement, Bad Day',\n",
       " 'Strength, Christian, Self',\n",
       " 'Life, Motivational, Success',\n",
       " 'Inspirational, Success, Basketball',\n",
       " 'Inspirational, Motivational, Positive',\n",
       " 'Long, Chinese, World',\n",
       " 'Gun, People, Second Amendment',\n",
       " 'Love, Valentines Day, Fate',\n",
       " 'Inspirational, Greatness, Envy',\n",
       " 'Love, Inspiring, Positivity',\n",
       " 'Military, Marine, Hands',\n",
       " 'Practice, Political, Deception',\n",
       " 'Inspirational, Life, Motivational',\n",
       " 'Love, Life, Crush',\n",
       " 'Inspirational, Motivational, Peace',\n",
       " 'Inspirational, Freedom, Responsibility',\n",
       " 'Inspirational, Life, Motivational',\n",
       " 'Motivational, Running, Ideas',\n",
       " 'Inspirational, Positive, Success',\n",
       " 'Inspirational, God, Stay Strong',\n",
       " 'Inspirational, Life, Happiness',\n",
       " 'Sports, Hero, News',\n",
       " 'Anger, Adversity, Climbing',\n",
       " 'Inspirational, Inspiring, Friends',\n",
       " 'Inspirational, Funny, Positive',\n",
       " 'Motivational, Inspiration, Adversity',\n",
       " 'Children, Creativity, Ignorance',\n",
       " 'Life, Music, Beautiful',\n",
       " 'Inspirational, Positive, Freedom',\n",
       " 'Inspirational, Life, Bullying',\n",
       " 'Inspirational, Motivational, Success',\n",
       " 'Inspirational, Inspiring, Beauty',\n",
       " 'Witty, Attitude, Freedom',\n",
       " 'Military, Marine, Men',\n",
       " 'Motivational, Success, Positivity',\n",
       " 'Inspirational, Educational, Learning',\n",
       " 'Inspirational, Motivational, Success',\n",
       " 'Plato, War, Government',\n",
       " 'Inspirational, Life, Second Chance',\n",
       " 'Motivational, Sports, Football',\n",
       " 'Thanksgiving, Thankful, Gratitude',\n",
       " 'Funny, Humorous, Character',\n",
       " 'Inspirational, Motivational, Badass',\n",
       " 'Life, Inspiring, Encouragement',\n",
       " 'Love, Happiness, Smile',\n",
       " 'Moving On, Famous Inspirational, Greatness',\n",
       " 'Motivational, Happiness, Mean',\n",
       " 'Life, Birthday, Inspiring',\n",
       " 'Children, Educational, Future',\n",
       " 'Change, Inspiring, Life Changing',\n",
       " 'Inspirational, Funny, Life',\n",
       " 'Inspirational, Integrity, Yoga',\n",
       " 'Inspirational, Positive, Wisdom',\n",
       " 'Funny, Hilarious, Education',\n",
       " 'Sheep, Government, Political',\n",
       " 'Leadership, Appreciation, Team Building',\n",
       " 'Inspirational, Change, Success',\n",
       " 'Empowerment, Crowds, Empowering Women',\n",
       " 'Education, Learning, Knowledge',\n",
       " 'Fear, Positivity, Doubting Everything',\n",
       " 'Inspirational, Motivational, Sports',\n",
       " 'Happiness, Inspiring, Happy',\n",
       " 'Funny, Attitude, Climbing',\n",
       " 'Confidence, Littles, Matter',\n",
       " 'Motivational, Buddhist, Children',\n",
       " 'Mean, Opportunity, Nerd',\n",
       " 'Love, Funny, Romantic',\n",
       " 'Inspirational, Positive, Stars',\n",
       " 'Running, Years, Tests',\n",
       " 'Inspirational, Motivational, Relationship',\n",
       " 'Peace, Integrity, Patriotic',\n",
       " 'Happiness, Work, Opportunity',\n",
       " 'Inspiring, Forgiveness, New Beginnings',\n",
       " 'Love, Life, Being Yourself',\n",
       " 'Motivational, Success, Work',\n",
       " 'Positive, Wisdom, Philosophical',\n",
       " 'Inspirational, Life, Motivational',\n",
       " 'Life, Leadership, Motivational Sports',\n",
       " 'Spiritual, Sufi, Wherever You Are',\n",
       " 'Love, Confidence, Forgiving',\n",
       " 'Inspirational, Motivational, Change',\n",
       " 'Inspirational, Life, Music',\n",
       " 'Artist, Age, Example',\n",
       " 'Inspirational, Motivational, Wise',\n",
       " 'Inspirational, Funny, Stupid',\n",
       " 'Education, Curiosity, Genius',\n",
       " 'Motivational, Inspiring, Leadership',\n",
       " 'Love, Inspirational, Life',\n",
       " 'Love, Inspirational, Motivational',\n",
       " 'Gun, Two, Qualms About',\n",
       " 'Inspirational, Greatness, Best Effort',\n",
       " 'Spiritual, Truth, Yoga',\n",
       " 'Inspirational, Leadership, Education']"
      ]
     },
     "execution_count": 1498,
     "metadata": {},
     "output_type": "execute_result"
    }
   ],
   "source": [
    "page10_tag=[]\n",
    "for i in tag:\n",
    "    tags=i.text\n",
    "    page10_tag.append(tags)\n",
    "page10_tag"
   ]
  },
  {
   "cell_type": "code",
   "execution_count": 1499,
   "id": "dbf54059",
   "metadata": {},
   "outputs": [
    {
     "name": "stdout",
     "output_type": "stream",
     "text": [
      "100\n"
     ]
    }
   ],
   "source": [
    "print(len(page10_tag))"
   ]
  },
  {
   "cell_type": "code",
   "execution_count": 1500,
   "id": "d1395c98",
   "metadata": {},
   "outputs": [
    {
     "data": {
      "text/html": [
       "<div>\n",
       "<style scoped>\n",
       "    .dataframe tbody tr th:only-of-type {\n",
       "        vertical-align: middle;\n",
       "    }\n",
       "\n",
       "    .dataframe tbody tr th {\n",
       "        vertical-align: top;\n",
       "    }\n",
       "\n",
       "    .dataframe thead th {\n",
       "        text-align: right;\n",
       "    }\n",
       "</style>\n",
       "<table border=\"1\" class=\"dataframe\">\n",
       "  <thead>\n",
       "    <tr style=\"text-align: right;\">\n",
       "      <th></th>\n",
       "      <th>page_title</th>\n",
       "      <th>page_author</th>\n",
       "      <th>page_tag</th>\n",
       "    </tr>\n",
       "  </thead>\n",
       "  <tbody>\n",
       "    <tr>\n",
       "      <th>0</th>\n",
       "      <td>Courage is the price that life exacts for gran...</td>\n",
       "      <td>Amelia Earhart</td>\n",
       "      <td>Inspirational, Life, Success</td>\n",
       "    </tr>\n",
       "    <tr>\n",
       "      <th>1</th>\n",
       "      <td>The worst evils which mankind has ever had to ...</td>\n",
       "      <td>Ludwig von Mises</td>\n",
       "      <td>Peace, War, Government</td>\n",
       "    </tr>\n",
       "    <tr>\n",
       "      <th>2</th>\n",
       "      <td>The moment we begin to fear the opinions of ot...</td>\n",
       "      <td>Elizabeth Cady Stanton</td>\n",
       "      <td>Life, Strength, Courage</td>\n",
       "    </tr>\n",
       "    <tr>\n",
       "      <th>3</th>\n",
       "      <td>Trust yourself, you know more than you think y...</td>\n",
       "      <td>Benjamin Spock</td>\n",
       "      <td>Positive, Family, Trust</td>\n",
       "    </tr>\n",
       "    <tr>\n",
       "      <th>4</th>\n",
       "      <td>High achievement always takes place in the fra...</td>\n",
       "      <td>Charles Kettering</td>\n",
       "      <td>Inspirational, Motivational, Teacher</td>\n",
       "    </tr>\n",
       "  </tbody>\n",
       "</table>\n",
       "</div>"
      ],
      "text/plain": [
       "                                          page_title             page_author  \\\n",
       "0  Courage is the price that life exacts for gran...          Amelia Earhart   \n",
       "1  The worst evils which mankind has ever had to ...        Ludwig von Mises   \n",
       "2  The moment we begin to fear the opinions of ot...  Elizabeth Cady Stanton   \n",
       "3  Trust yourself, you know more than you think y...          Benjamin Spock   \n",
       "4  High achievement always takes place in the fra...       Charles Kettering   \n",
       "\n",
       "                               page_tag  \n",
       "0          Inspirational, Life, Success  \n",
       "1                Peace, War, Government  \n",
       "2               Life, Strength, Courage  \n",
       "3               Positive, Family, Trust  \n",
       "4  Inspirational, Motivational, Teacher  "
      ]
     },
     "execution_count": 1500,
     "metadata": {},
     "output_type": "execute_result"
    }
   ],
   "source": [
    "# Creating Data Frame for Page 10\n",
    "\n",
    "page10 = pd.DataFrame({})\n",
    "page10[\"page_title\"]=page10_title\n",
    "page10[\"page_author\"]=page10_author\n",
    "page10[\"page_tag\"]=page10_tag\n",
    "page10.head()"
   ]
  },
  {
   "cell_type": "code",
   "execution_count": 1501,
   "id": "ed28e224",
   "metadata": {},
   "outputs": [
    {
     "data": {
      "text/html": [
       "<div>\n",
       "<style scoped>\n",
       "    .dataframe tbody tr th:only-of-type {\n",
       "        vertical-align: middle;\n",
       "    }\n",
       "\n",
       "    .dataframe tbody tr th {\n",
       "        vertical-align: top;\n",
       "    }\n",
       "\n",
       "    .dataframe thead th {\n",
       "        text-align: right;\n",
       "    }\n",
       "</style>\n",
       "<table border=\"1\" class=\"dataframe\">\n",
       "  <thead>\n",
       "    <tr style=\"text-align: right;\">\n",
       "      <th></th>\n",
       "      <th>page_title</th>\n",
       "      <th>page_author</th>\n",
       "      <th>page_tag</th>\n",
       "    </tr>\n",
       "  </thead>\n",
       "  <tbody>\n",
       "    <tr>\n",
       "      <th>0</th>\n",
       "      <td>The essence of strategy is choosing what not t...</td>\n",
       "      <td>Michael Porter</td>\n",
       "      <td>Essence, Deep Thought, Transcendentalism</td>\n",
       "    </tr>\n",
       "    <tr>\n",
       "      <th>1</th>\n",
       "      <td>One cannot and must not try to erase the past ...</td>\n",
       "      <td>Golda Meir</td>\n",
       "      <td>Inspiration, Past, Trying</td>\n",
       "    </tr>\n",
       "    <tr>\n",
       "      <th>2</th>\n",
       "      <td>Patriotism means to stand by the country. It d...</td>\n",
       "      <td>Theodore Roosevelt</td>\n",
       "      <td>Country, Peace, War</td>\n",
       "    </tr>\n",
       "    <tr>\n",
       "      <th>3</th>\n",
       "      <td>Death is something inevitable. When a man has ...</td>\n",
       "      <td>Nelson Mandela</td>\n",
       "      <td>Inspirational, Motivational, Death</td>\n",
       "    </tr>\n",
       "    <tr>\n",
       "      <th>4</th>\n",
       "      <td>You have to love a nation that celebrates its ...</td>\n",
       "      <td>Erma Bombeck</td>\n",
       "      <td>4th Of July, Food, Patriotic</td>\n",
       "    </tr>\n",
       "    <tr>\n",
       "      <th>...</th>\n",
       "      <td>...</td>\n",
       "      <td>...</td>\n",
       "      <td>...</td>\n",
       "    </tr>\n",
       "    <tr>\n",
       "      <th>95</th>\n",
       "      <td>Regret for the things we did can be tempered b...</td>\n",
       "      <td>Sydney J. Harris</td>\n",
       "      <td>Love, Inspirational, Motivational</td>\n",
       "    </tr>\n",
       "    <tr>\n",
       "      <th>96</th>\n",
       "      <td>America... just a nation of two hundred millio...</td>\n",
       "      <td>Hunter S. Thompson</td>\n",
       "      <td>Gun, Two, Qualms About</td>\n",
       "    </tr>\n",
       "    <tr>\n",
       "      <th>97</th>\n",
       "      <td>For every disciplined effort there is a multip...</td>\n",
       "      <td>Jim Rohn</td>\n",
       "      <td>Inspirational, Greatness, Best Effort</td>\n",
       "    </tr>\n",
       "    <tr>\n",
       "      <th>98</th>\n",
       "      <td>The spiritual journey is individual, highly pe...</td>\n",
       "      <td>Ram Dass</td>\n",
       "      <td>Spiritual, Truth, Yoga</td>\n",
       "    </tr>\n",
       "    <tr>\n",
       "      <th>99</th>\n",
       "      <td>The mind is not a vessel to be filled but a fi...</td>\n",
       "      <td>Plutarch</td>\n",
       "      <td>Inspirational, Leadership, Education</td>\n",
       "    </tr>\n",
       "  </tbody>\n",
       "</table>\n",
       "<p>1000 rows × 3 columns</p>\n",
       "</div>"
      ],
      "text/plain": [
       "                                           page_title         page_author  \\\n",
       "0   The essence of strategy is choosing what not t...      Michael Porter   \n",
       "1   One cannot and must not try to erase the past ...          Golda Meir   \n",
       "2   Patriotism means to stand by the country. It d...  Theodore Roosevelt   \n",
       "3   Death is something inevitable. When a man has ...      Nelson Mandela   \n",
       "4   You have to love a nation that celebrates its ...        Erma Bombeck   \n",
       "..                                                ...                 ...   \n",
       "95  Regret for the things we did can be tempered b...    Sydney J. Harris   \n",
       "96  America... just a nation of two hundred millio...  Hunter S. Thompson   \n",
       "97  For every disciplined effort there is a multip...            Jim Rohn   \n",
       "98  The spiritual journey is individual, highly pe...            Ram Dass   \n",
       "99  The mind is not a vessel to be filled but a fi...            Plutarch   \n",
       "\n",
       "                                    page_tag  \n",
       "0   Essence, Deep Thought, Transcendentalism  \n",
       "1                  Inspiration, Past, Trying  \n",
       "2                        Country, Peace, War  \n",
       "3         Inspirational, Motivational, Death  \n",
       "4               4th Of July, Food, Patriotic  \n",
       "..                                       ...  \n",
       "95         Love, Inspirational, Motivational  \n",
       "96                    Gun, Two, Qualms About  \n",
       "97     Inspirational, Greatness, Best Effort  \n",
       "98                    Spiritual, Truth, Yoga  \n",
       "99      Inspirational, Leadership, Education  \n",
       "\n",
       "[1000 rows x 3 columns]"
      ]
     },
     "execution_count": 1501,
     "metadata": {},
     "output_type": "execute_result"
    }
   ],
   "source": [
    "# Complete Final \n",
    "Finale_1000_quotes =pd.concat([page1,page2,page3,page4,page5,page6,page7,page8,page9,page10])\n",
    "Finale_1000_quotes"
   ]
  },
  {
   "cell_type": "markdown",
   "id": "71b72c83",
   "metadata": {},
   "source": [
    "# Q9: Write a python program to display list of respected former Prime Ministers of India(i.e. Name, Born-Dead, Term of office, Remarks) from https://www.jagranjosh.com/.\n"
   ]
  },
  {
   "cell_type": "code",
   "execution_count": 1536,
   "id": "026c1127",
   "metadata": {},
   "outputs": [],
   "source": [
    "driver.get(\"http://www.jagranjosh.com/\")"
   ]
  },
  {
   "cell_type": "code",
   "execution_count": 1537,
   "id": "eaeb5299",
   "metadata": {},
   "outputs": [],
   "source": [
    "# Searching for the GK Option\n",
    "GK=driver.find_element(By.XPATH,\"/html/body/div/div[1]/div/div[1]/div/div[6]/div/div[1]/header/div[3]/ul/li[9]/a\")\n",
    "GK.click()"
   ]
  },
  {
   "cell_type": "code",
   "execution_count": 1538,
   "id": "30cd6b77",
   "metadata": {},
   "outputs": [],
   "source": [
    "# Searching for the list of prime miniter of India\n",
    "Prime_Minster_India=driver.find_element(By.XPATH,\"/html/body/div/div/div/div[2]/div/div[10]/div/div/ul/li[2]/a\")\n",
    "Prime_Minster_India.click()"
   ]
  },
  {
   "cell_type": "code",
   "execution_count": 1582,
   "id": "82771c74",
   "metadata": {},
   "outputs": [
    {
     "data": {
      "text/plain": [
       "[<selenium.webdriver.remote.webelement.WebElement (session=\"50d6e21b1e125a4ff8d6705365ad1ed6\", element=\"2710fb34-0070-41d8-aaa3-0fddbfce1ce4\")>]"
      ]
     },
     "execution_count": 1582,
     "metadata": {},
     "output_type": "execute_result"
    }
   ],
   "source": [
    "# Finding The Name\n",
    "\n",
    "name=driver.find_elements(By.XPATH,\"/html/body/div[1]/div[2]/div/div[2]/div/div[1]/div/div/div/div[4]/span/div[2]/table/tbody/tr[2]/td[2]/p/strong/a\")\n",
    "\n",
    "\n",
    "name[0:2]"
   ]
  },
  {
   "cell_type": "code",
   "execution_count": 1583,
   "id": "2420062d",
   "metadata": {},
   "outputs": [
    {
     "data": {
      "text/plain": [
       "['Jawahar Lal Nehru']"
      ]
     },
     "execution_count": 1583,
     "metadata": {},
     "output_type": "execute_result"
    }
   ],
   "source": [
    "PM1_name=[]\n",
    "for i in name:\n",
    "    names=i.text\n",
    "    PM1_name.append(names)\n",
    "PM1_name"
   ]
  },
  {
   "cell_type": "code",
   "execution_count": 1584,
   "id": "bdd0278e",
   "metadata": {},
   "outputs": [
    {
     "data": {
      "text/plain": [
       "['(1889–1964)']"
      ]
     },
     "execution_count": 1584,
     "metadata": {},
     "output_type": "execute_result"
    }
   ],
   "source": [
    "# Find DOB for 1st prime minister\n",
    "\n",
    "DOB=driver.find_elements(By.XPATH,\"/html/body/div[1]/div[2]/div/div[2]/div/div[1]/div/div/div/div[4]/span/div[2]/table/tbody/tr[2]/td[3]\")\n",
    "\n",
    "\n",
    "DOB[0:2]\n",
    "\n",
    "PM1_DOB=[]\n",
    "for i in DOB:\n",
    "    DOBs=i.text\n",
    "    PM1_DOB.append(DOBs)\n",
    "PM1_DOB"
   ]
  },
  {
   "cell_type": "code",
   "execution_count": 1577,
   "id": "387b232d",
   "metadata": {},
   "outputs": [
    {
     "data": {
      "text/plain": [
       "[<selenium.webdriver.remote.webelement.WebElement (session=\"50d6e21b1e125a4ff8d6705365ad1ed6\", element=\"4622861a-a0a1-4cfd-91ba-12802bbdadce\")>]"
      ]
     },
     "execution_count": 1577,
     "metadata": {},
     "output_type": "execute_result"
    }
   ],
   "source": [
    " # Finding the Term of Office for 1st PM\n",
    "    \n",
    "\n",
    "Term=driver.find_elements(By.XPATH,\"/html/body/div[1]/div[2]/div/div[2]/div/div[1]/div/div/div/div[4]/span/div[2]/table/tbody/tr[2]/td[4]/p[1]/span\")\n",
    "\n",
    "\n",
    "Term[0:2]"
   ]
  },
  {
   "cell_type": "code",
   "execution_count": 1585,
   "id": "4d9562e3",
   "metadata": {},
   "outputs": [
    {
     "data": {
      "text/plain": [
       "['15 August 1947 to 27 May 1964']"
      ]
     },
     "execution_count": 1585,
     "metadata": {},
     "output_type": "execute_result"
    }
   ],
   "source": [
    "PM1_Term=[]\n",
    "for i in Term:\n",
    "    Terms=i.text\n",
    "    PM1_Term.append(Terms)\n",
    "PM1_Term"
   ]
  },
  {
   "cell_type": "code",
   "execution_count": 1586,
   "id": "4eea633f",
   "metadata": {},
   "outputs": [
    {
     "data": {
      "text/plain": [
       "[<selenium.webdriver.remote.webelement.WebElement (session=\"50d6e21b1e125a4ff8d6705365ad1ed6\", element=\"cb1d0774-fe6a-403c-859a-7e565070b285\")>]"
      ]
     },
     "execution_count": 1586,
     "metadata": {},
     "output_type": "execute_result"
    }
   ],
   "source": [
    "# Finding the Remark for 1st PM\n",
    "    \n",
    "\n",
    "remark=driver.find_elements(By.XPATH,\"/html/body/div[1]/div[2]/div/div[2]/div/div[1]/div/div/div/div[4]/span/div[2]/table/tbody/tr[2]/td[5]/p\")\n",
    "\n",
    "\n",
    "remark[0:2]"
   ]
  },
  {
   "cell_type": "code",
   "execution_count": 1587,
   "id": "6b369bf7",
   "metadata": {},
   "outputs": [
    {
     "data": {
      "text/plain": [
       "['The first prime minister of India and the longest-serving PM of India, the first to die in office.']"
      ]
     },
     "execution_count": 1587,
     "metadata": {},
     "output_type": "execute_result"
    }
   ],
   "source": [
    "PM1_remark=[]\n",
    "for i in remark:\n",
    "    remarks=i.text\n",
    "    PM1_remark.append(remarks)\n",
    "PM1_remark"
   ]
  },
  {
   "cell_type": "code",
   "execution_count": 1588,
   "id": "5a816927",
   "metadata": {},
   "outputs": [
    {
     "data": {
      "text/html": [
       "<div>\n",
       "<style scoped>\n",
       "    .dataframe tbody tr th:only-of-type {\n",
       "        vertical-align: middle;\n",
       "    }\n",
       "\n",
       "    .dataframe tbody tr th {\n",
       "        vertical-align: top;\n",
       "    }\n",
       "\n",
       "    .dataframe thead th {\n",
       "        text-align: right;\n",
       "    }\n",
       "</style>\n",
       "<table border=\"1\" class=\"dataframe\">\n",
       "  <thead>\n",
       "    <tr style=\"text-align: right;\">\n",
       "      <th></th>\n",
       "      <th>PM_name</th>\n",
       "      <th>PM_DOB</th>\n",
       "      <th>PM_Term</th>\n",
       "      <th>PM_remark</th>\n",
       "    </tr>\n",
       "  </thead>\n",
       "  <tbody>\n",
       "    <tr>\n",
       "      <th>0</th>\n",
       "      <td>Jawahar Lal Nehru</td>\n",
       "      <td>(1889–1964)</td>\n",
       "      <td>15 August 1947 to 27 May 1964</td>\n",
       "      <td>The first prime minister of India and the long...</td>\n",
       "    </tr>\n",
       "  </tbody>\n",
       "</table>\n",
       "</div>"
      ],
      "text/plain": [
       "             PM_name       PM_DOB                        PM_Term  \\\n",
       "0  Jawahar Lal Nehru  (1889–1964)  15 August 1947 to 27 May 1964   \n",
       "\n",
       "                                           PM_remark  \n",
       "0  The first prime minister of India and the long...  "
      ]
     },
     "execution_count": 1588,
     "metadata": {},
     "output_type": "execute_result"
    }
   ],
   "source": [
    "# Creating Data Frame for Page 1\n",
    "\n",
    "PM1 = pd.DataFrame({})\n",
    "PM1[\"PM_name\"]=PM1_name\n",
    "PM1[\"PM_DOB\"]=PM1_DOB\n",
    "PM1[\"PM_Term\"]=PM1_Term\n",
    "PM1[\"PM_remark\"]=PM1_remark\n",
    "PM1"
   ]
  },
  {
   "cell_type": "code",
   "execution_count": 1589,
   "id": "72cef96f",
   "metadata": {},
   "outputs": [
    {
     "data": {
      "text/plain": [
       "['Gulzarilal Nanda (Acting)']"
      ]
     },
     "execution_count": 1589,
     "metadata": {},
     "output_type": "execute_result"
    }
   ],
   "source": [
    "# Finding The Name of next PM\n",
    "\n",
    "name=driver.find_elements(By.XPATH,\"/html/body/div[1]/div[2]/div/div[2]/div/div[1]/div/div/div/div[4]/span/div[2]/table/tbody/tr[3]/td[2]/p\")\n",
    "name\n",
    "\n",
    "PM2_name=[]\n",
    "for i in name:\n",
    "    names=i.text\n",
    "    PM2_name.append(names)\n",
    "PM2_name"
   ]
  },
  {
   "cell_type": "code",
   "execution_count": 1590,
   "id": "a67b8599",
   "metadata": {},
   "outputs": [
    {
     "data": {
      "text/plain": [
       "['(1898-1998)']"
      ]
     },
     "execution_count": 1590,
     "metadata": {},
     "output_type": "execute_result"
    }
   ],
   "source": [
    "# Find DOB for next prime minister\n",
    "\n",
    "DOB=driver.find_elements(By.XPATH,\"/html/body/div[1]/div[2]/div/div[2]/div/div[1]/div/div/div/div[4]/span/div[2]/table/tbody/tr[3]/td[3]/p\")\n",
    "\n",
    "\n",
    "DOB[0:2]\n",
    "\n",
    "PM2_DOB=[]\n",
    "for i in DOB:\n",
    "    DOBs=i.text\n",
    "    PM2_DOB.append(DOBs)\n",
    "PM2_DOB"
   ]
  },
  {
   "cell_type": "code",
   "execution_count": 1593,
   "id": "30bfee91",
   "metadata": {},
   "outputs": [
    {
     "data": {
      "text/plain": [
       "['27 May 1964 to 9 June 1964,']"
      ]
     },
     "execution_count": 1593,
     "metadata": {},
     "output_type": "execute_result"
    }
   ],
   "source": [
    "# Finding the Term of Office for next Pm\n",
    "    \n",
    "\n",
    "\n",
    "\n",
    "Term=driver.find_elements(By.XPATH,\"/html/body/div[1]/div[2]/div/div[2]/div/div[1]/div/div/div/div[4]/span/div[2]/table/tbody/tr[3]/td[4]/p[1]/span\")\n",
    "\n",
    "\n",
    "Term[0:2]\n",
    "\n",
    "PM2_Term=[]\n",
    "for i in Term:\n",
    "    Terms=i.text\n",
    "    PM2_Term.append(Terms)\n",
    "PM2_Term"
   ]
  },
  {
   "cell_type": "code",
   "execution_count": 1594,
   "id": "3a2a98e1",
   "metadata": {},
   "outputs": [
    {
     "data": {
      "text/plain": [
       "['First acting PM of India']"
      ]
     },
     "execution_count": 1594,
     "metadata": {},
     "output_type": "execute_result"
    }
   ],
   "source": [
    "# Finding the Remark for next PM\n",
    "    \n",
    "\n",
    "remark=driver.find_elements(By.XPATH,\"/html/body/div[1]/div[2]/div/div[2]/div/div[1]/div/div/div/div[4]/span/div[2]/table/tbody/tr[3]/td[5]/p\")\n",
    "\n",
    "\n",
    "remark[0:2]\n",
    "\n",
    "PM2_remark=[]\n",
    "for i in remark:\n",
    "    remarks=i.text\n",
    "    PM2_remark.append(remarks)\n",
    "PM2_remark"
   ]
  },
  {
   "cell_type": "code",
   "execution_count": 1595,
   "id": "eb03c167",
   "metadata": {},
   "outputs": [
    {
     "data": {
      "text/html": [
       "<div>\n",
       "<style scoped>\n",
       "    .dataframe tbody tr th:only-of-type {\n",
       "        vertical-align: middle;\n",
       "    }\n",
       "\n",
       "    .dataframe tbody tr th {\n",
       "        vertical-align: top;\n",
       "    }\n",
       "\n",
       "    .dataframe thead th {\n",
       "        text-align: right;\n",
       "    }\n",
       "</style>\n",
       "<table border=\"1\" class=\"dataframe\">\n",
       "  <thead>\n",
       "    <tr style=\"text-align: right;\">\n",
       "      <th></th>\n",
       "      <th>PM_name</th>\n",
       "      <th>PM_DOB</th>\n",
       "      <th>PM_Term</th>\n",
       "      <th>PM_remark</th>\n",
       "    </tr>\n",
       "  </thead>\n",
       "  <tbody>\n",
       "    <tr>\n",
       "      <th>0</th>\n",
       "      <td>Gulzarilal Nanda (Acting)</td>\n",
       "      <td>(1898-1998)</td>\n",
       "      <td>27 May 1964 to 9 June 1964,</td>\n",
       "      <td>First acting PM of India</td>\n",
       "    </tr>\n",
       "  </tbody>\n",
       "</table>\n",
       "</div>"
      ],
      "text/plain": [
       "                     PM_name       PM_DOB                      PM_Term  \\\n",
       "0  Gulzarilal Nanda (Acting)  (1898-1998)  27 May 1964 to 9 June 1964,   \n",
       "\n",
       "                  PM_remark  \n",
       "0  First acting PM of India  "
      ]
     },
     "execution_count": 1595,
     "metadata": {},
     "output_type": "execute_result"
    }
   ],
   "source": [
    "# Creating Data Frame for PM2\n",
    "\n",
    "PM2 = pd.DataFrame({})\n",
    "PM2[\"PM_name\"]=PM2_name\n",
    "PM2[\"PM_DOB\"]=PM2_DOB\n",
    "PM2[\"PM_Term\"]=PM2_Term\n",
    "PM2[\"PM_remark\"]=PM2_remark\n",
    "PM2"
   ]
  },
  {
   "cell_type": "code",
   "execution_count": 1596,
   "id": "825127b0",
   "metadata": {},
   "outputs": [
    {
     "data": {
      "text/plain": [
       "['Lal Bahadur Shastri']"
      ]
     },
     "execution_count": 1596,
     "metadata": {},
     "output_type": "execute_result"
    }
   ],
   "source": [
    "# Finding The Name of next PM\n",
    "\n",
    "name=driver.find_elements(By.XPATH,\"/html/body/div[1]/div[2]/div/div[2]/div/div[1]/div/div/div/div[4]/span/div[2]/table/tbody/tr[4]/td[2]/p\")\n",
    "name\n",
    "\n",
    "PM3_name=[]\n",
    "for i in name:\n",
    "    names=i.text\n",
    "    PM3_name.append(names)\n",
    "PM3_name"
   ]
  },
  {
   "cell_type": "code",
   "execution_count": 1598,
   "id": "74c47ec4",
   "metadata": {},
   "outputs": [
    {
     "data": {
      "text/plain": [
       "['(1904–1966)']"
      ]
     },
     "execution_count": 1598,
     "metadata": {},
     "output_type": "execute_result"
    }
   ],
   "source": [
    "# Find DOB for next prime minister\n",
    "\n",
    "DOB=driver.find_elements(By.XPATH,\"/html/body/div[1]/div[2]/div/div[2]/div/div[1]/div/div/div/div[4]/span/div[2]/table/tbody/tr[4]/td[3]/p\")\n",
    "\n",
    "\n",
    "DOB\n",
    "\n",
    "PM3_DOB=[]\n",
    "for i in DOB:\n",
    "    DOBs=i.text\n",
    "    PM3_DOB.append(DOBs)\n",
    "PM3_DOB"
   ]
  },
  {
   "cell_type": "code",
   "execution_count": 1601,
   "id": "31bc650e",
   "metadata": {},
   "outputs": [
    {
     "data": {
      "text/plain": [
       "['9 June 1964 to 11 January 1966']"
      ]
     },
     "execution_count": 1601,
     "metadata": {},
     "output_type": "execute_result"
    }
   ],
   "source": [
    "# Finding the Term of Office for next Pm\n",
    "    \n",
    "\n",
    "Term=driver.find_elements(By.XPATH,\"/html/body/div[1]/div[2]/div/div[2]/div/div[1]/div/div/div/div[4]/span/div[2]/table/tbody/tr[4]/td[4]/p[1]/span\")\n",
    "\n",
    "\n",
    "Term\n",
    "\n",
    "PM3_Term=[]\n",
    "for i in Term:\n",
    "    Terms=i.text\n",
    "    PM3_Term.append(Terms)\n",
    "        \n",
    "PM3_Term"
   ]
  },
  {
   "cell_type": "code",
   "execution_count": 1602,
   "id": "fe1d15ce",
   "metadata": {},
   "outputs": [
    {
     "data": {
      "text/plain": [
       "[\"He has given the slogan of 'Jai Jawan Jai Kisan' during the Indo-Pak war of 1965\"]"
      ]
     },
     "execution_count": 1602,
     "metadata": {},
     "output_type": "execute_result"
    }
   ],
   "source": [
    "# Finding the Remark for next PM\n",
    "    \n",
    "\n",
    "remark=driver.find_elements(By.XPATH,\"/html/body/div[1]/div[2]/div/div[2]/div/div[1]/div/div/div/div[4]/span/div[2]/table/tbody/tr[4]/td[5]/p\")\n",
    "\n",
    "\n",
    "remark\n",
    "\n",
    "PM3_remark=[]\n",
    "for i in remark:\n",
    "    remarks=i.text\n",
    "    PM3_remark.append(remarks)\n",
    "PM3_remark"
   ]
  },
  {
   "cell_type": "code",
   "execution_count": 1603,
   "id": "ec8db6eb",
   "metadata": {},
   "outputs": [
    {
     "data": {
      "text/html": [
       "<div>\n",
       "<style scoped>\n",
       "    .dataframe tbody tr th:only-of-type {\n",
       "        vertical-align: middle;\n",
       "    }\n",
       "\n",
       "    .dataframe tbody tr th {\n",
       "        vertical-align: top;\n",
       "    }\n",
       "\n",
       "    .dataframe thead th {\n",
       "        text-align: right;\n",
       "    }\n",
       "</style>\n",
       "<table border=\"1\" class=\"dataframe\">\n",
       "  <thead>\n",
       "    <tr style=\"text-align: right;\">\n",
       "      <th></th>\n",
       "      <th>PM_name</th>\n",
       "      <th>PM_DOB</th>\n",
       "      <th>PM_Term</th>\n",
       "      <th>PM_remark</th>\n",
       "    </tr>\n",
       "  </thead>\n",
       "  <tbody>\n",
       "    <tr>\n",
       "      <th>0</th>\n",
       "      <td>Lal Bahadur Shastri</td>\n",
       "      <td>(1904–1966)</td>\n",
       "      <td>9 June 1964 to 11 January 1966</td>\n",
       "      <td>He has given the slogan of 'Jai Jawan Jai Kisa...</td>\n",
       "    </tr>\n",
       "  </tbody>\n",
       "</table>\n",
       "</div>"
      ],
      "text/plain": [
       "               PM_name       PM_DOB                         PM_Term  \\\n",
       "0  Lal Bahadur Shastri  (1904–1966)  9 June 1964 to 11 January 1966   \n",
       "\n",
       "                                           PM_remark  \n",
       "0  He has given the slogan of 'Jai Jawan Jai Kisa...  "
      ]
     },
     "execution_count": 1603,
     "metadata": {},
     "output_type": "execute_result"
    }
   ],
   "source": [
    "# Creating Data Frame for PM3\n",
    "\n",
    "PM3 = pd.DataFrame({})\n",
    "PM3[\"PM_name\"]=PM3_name\n",
    "PM3[\"PM_DOB\"]=PM3_DOB\n",
    "PM3[\"PM_Term\"]=PM3_Term\n",
    "PM3[\"PM_remark\"]=PM3_remark\n",
    "PM3"
   ]
  },
  {
   "cell_type": "code",
   "execution_count": 1604,
   "id": "aaca5162",
   "metadata": {},
   "outputs": [
    {
     "data": {
      "text/plain": [
       "['Gulzari Lal Nanda  (Acting)']"
      ]
     },
     "execution_count": 1604,
     "metadata": {},
     "output_type": "execute_result"
    }
   ],
   "source": [
    "# Finding The Name of next PM\n",
    "\n",
    "name=driver.find_elements(By.XPATH,\"/html/body/div[1]/div[2]/div/div[2]/div/div[1]/div/div/div/div[4]/span/div[2]/table/tbody/tr[5]/td[2]/p\")\n",
    "name\n",
    "\n",
    "PM4_name=[]\n",
    "for i in name:\n",
    "    names=i.text\n",
    "    PM4_name.append(names)\n",
    "PM4_name"
   ]
  },
  {
   "cell_type": "code",
   "execution_count": 1605,
   "id": "be0b5a48",
   "metadata": {},
   "outputs": [
    {
     "data": {
      "text/plain": [
       "['(1898-1998)']"
      ]
     },
     "execution_count": 1605,
     "metadata": {},
     "output_type": "execute_result"
    }
   ],
   "source": [
    "# Find DOB for next prime minister\n",
    "\n",
    "DOB=driver.find_elements(By.XPATH,\"/html/body/div[1]/div[2]/div/div[2]/div/div[1]/div/div/div/div[4]/span/div[2]/table/tbody/tr[5]/td[3]/p\")\n",
    "\n",
    "\n",
    "DOB\n",
    "\n",
    "PM4_DOB=[]\n",
    "for i in DOB:\n",
    "    DOBs=i.text\n",
    "    PM4_DOB.append(DOBs)\n",
    "PM4_DOB"
   ]
  },
  {
   "cell_type": "code",
   "execution_count": 1606,
   "id": "43a6282c",
   "metadata": {},
   "outputs": [
    {
     "data": {
      "text/plain": [
       "['11 January 1966 to 24 January 1966']"
      ]
     },
     "execution_count": 1606,
     "metadata": {},
     "output_type": "execute_result"
    }
   ],
   "source": [
    "# Finding the Term of Office for next Pm\n",
    "    \n",
    "\n",
    "Term=driver.find_elements(By.XPATH,\"/html/body/div[1]/div[2]/div/div[2]/div/div[1]/div/div/div/div[4]/span/div[2]/table/tbody/tr[5]/td[4]/p[1]\")\n",
    "\n",
    "\n",
    "Term\n",
    "\n",
    "PM4_Term=[]\n",
    "for i in Term:\n",
    "    Terms=i.text\n",
    "    PM4_Term.append(Terms)\n",
    "PM4_Term"
   ]
  },
  {
   "cell_type": "code",
   "execution_count": 1607,
   "id": "74518699",
   "metadata": {},
   "outputs": [
    {
     "data": {
      "text/plain": [
       "['-']"
      ]
     },
     "execution_count": 1607,
     "metadata": {},
     "output_type": "execute_result"
    }
   ],
   "source": [
    "# Finding the Remark for next PM\n",
    "    \n",
    "\n",
    "remark=driver.find_elements(By.XPATH,\"/html/body/div[1]/div[2]/div/div[2]/div/div[1]/div/div/div/div[4]/span/div[2]/table/tbody/tr[5]/td[5]/p\")\n",
    "\n",
    "\n",
    "remark\n",
    "\n",
    "PM4_remark=[]\n",
    "for i in remark:\n",
    "    remarks=i.text\n",
    "    PM4_remark.append(remarks)\n",
    "PM4_remark"
   ]
  },
  {
   "cell_type": "code",
   "execution_count": 1608,
   "id": "b5880b8b",
   "metadata": {},
   "outputs": [
    {
     "data": {
      "text/html": [
       "<div>\n",
       "<style scoped>\n",
       "    .dataframe tbody tr th:only-of-type {\n",
       "        vertical-align: middle;\n",
       "    }\n",
       "\n",
       "    .dataframe tbody tr th {\n",
       "        vertical-align: top;\n",
       "    }\n",
       "\n",
       "    .dataframe thead th {\n",
       "        text-align: right;\n",
       "    }\n",
       "</style>\n",
       "<table border=\"1\" class=\"dataframe\">\n",
       "  <thead>\n",
       "    <tr style=\"text-align: right;\">\n",
       "      <th></th>\n",
       "      <th>PM_name</th>\n",
       "      <th>PM_DOB</th>\n",
       "      <th>PM_Term</th>\n",
       "      <th>PM_remark</th>\n",
       "    </tr>\n",
       "  </thead>\n",
       "  <tbody>\n",
       "    <tr>\n",
       "      <th>0</th>\n",
       "      <td>Gulzari Lal Nanda  (Acting)</td>\n",
       "      <td>(1898-1998)</td>\n",
       "      <td>11 January 1966 to 24 January 1966</td>\n",
       "      <td>-</td>\n",
       "    </tr>\n",
       "  </tbody>\n",
       "</table>\n",
       "</div>"
      ],
      "text/plain": [
       "                       PM_name       PM_DOB  \\\n",
       "0  Gulzari Lal Nanda  (Acting)  (1898-1998)   \n",
       "\n",
       "                              PM_Term PM_remark  \n",
       "0  11 January 1966 to 24 January 1966         -  "
      ]
     },
     "execution_count": 1608,
     "metadata": {},
     "output_type": "execute_result"
    }
   ],
   "source": [
    "# Creating Data Frame for PM4\n",
    "\n",
    "PM4 = pd.DataFrame({})\n",
    "PM4[\"PM_name\"]=PM4_name\n",
    "PM4[\"PM_DOB\"]=PM4_DOB\n",
    "PM4[\"PM_Term\"]=PM4_Term\n",
    "PM4[\"PM_remark\"]=PM4_remark\n",
    "PM4"
   ]
  },
  {
   "cell_type": "code",
   "execution_count": 1609,
   "id": "951b4df0",
   "metadata": {},
   "outputs": [
    {
     "data": {
      "text/plain": [
       "['Indira Gandhi']"
      ]
     },
     "execution_count": 1609,
     "metadata": {},
     "output_type": "execute_result"
    }
   ],
   "source": [
    "# Finding The Name of next PM\n",
    "\n",
    "name=driver.find_elements(By.XPATH,\"/html/body/div[1]/div[2]/div/div[2]/div/div[1]/div/div/div/div[4]/span/div[2]/table/tbody/tr[6]/td[2]/p/strong/a\")\n",
    "name\n",
    "\n",
    "PM5_name=[]\n",
    "for i in name:\n",
    "    names=i.text\n",
    "    PM5_name.append(names)\n",
    "PM5_name"
   ]
  },
  {
   "cell_type": "code",
   "execution_count": 1610,
   "id": "a207d682",
   "metadata": {},
   "outputs": [
    {
     "data": {
      "text/plain": [
       "['(1917–1984)']"
      ]
     },
     "execution_count": 1610,
     "metadata": {},
     "output_type": "execute_result"
    }
   ],
   "source": [
    "# Find DOB for next prime minister\n",
    "\n",
    "DOB=driver.find_elements(By.XPATH,\"/html/body/div[1]/div[2]/div/div[2]/div/div[1]/div/div/div/div[4]/span/div[2]/table/tbody/tr[6]/td[3]/p\")\n",
    "\n",
    "\n",
    "DOB\n",
    "\n",
    "PM5_DOB=[]\n",
    "for i in DOB:\n",
    "    DOBs=i.text\n",
    "    PM5_DOB.append(DOBs)\n",
    "PM5_DOB"
   ]
  },
  {
   "cell_type": "code",
   "execution_count": 1611,
   "id": "7776da15",
   "metadata": {},
   "outputs": [
    {
     "data": {
      "text/plain": [
       "['24 January 1966 to 24 March 1977']"
      ]
     },
     "execution_count": 1611,
     "metadata": {},
     "output_type": "execute_result"
    }
   ],
   "source": [
    "# Finding the Term of Office for next Pm\n",
    "    \n",
    "\n",
    "Term=driver.find_elements(By.XPATH,\"/html/body/div[1]/div[2]/div/div[2]/div/div[1]/div/div/div/div[4]/span/div[2]/table/tbody/tr[6]/td[4]/p[1]\")\n",
    "\n",
    "\n",
    "Term\n",
    "\n",
    "PM5_Term=[]\n",
    "for i in Term:\n",
    "    Terms=i.text\n",
    "    PM5_Term.append(Terms)\n",
    "PM5_Term"
   ]
  },
  {
   "cell_type": "code",
   "execution_count": 1614,
   "id": "50ad7d2b",
   "metadata": {},
   "outputs": [
    {
     "data": {
      "text/plain": [
       "['First female Prime Minister of India']"
      ]
     },
     "execution_count": 1614,
     "metadata": {},
     "output_type": "execute_result"
    }
   ],
   "source": [
    "# Finding the Remark for next PM\n",
    "    \n",
    "\n",
    "remark=driver.find_elements(By.XPATH,\"/html/body/div[1]/div[2]/div/div[2]/div/div[1]/div/div/div/div[4]/span/div[2]/table/tbody/tr[6]/td[5]/p\")\n",
    "\n",
    "\n",
    "remark\n",
    "\n",
    "PM5_remark=[]\n",
    "for i in remark:\n",
    "    remarks=i.text\n",
    "    PM5_remark.append(remarks)\n",
    "PM5_remark"
   ]
  },
  {
   "cell_type": "code",
   "execution_count": 1615,
   "id": "b2e2a1b9",
   "metadata": {},
   "outputs": [
    {
     "data": {
      "text/html": [
       "<div>\n",
       "<style scoped>\n",
       "    .dataframe tbody tr th:only-of-type {\n",
       "        vertical-align: middle;\n",
       "    }\n",
       "\n",
       "    .dataframe tbody tr th {\n",
       "        vertical-align: top;\n",
       "    }\n",
       "\n",
       "    .dataframe thead th {\n",
       "        text-align: right;\n",
       "    }\n",
       "</style>\n",
       "<table border=\"1\" class=\"dataframe\">\n",
       "  <thead>\n",
       "    <tr style=\"text-align: right;\">\n",
       "      <th></th>\n",
       "      <th>PM_name</th>\n",
       "      <th>PM_DOB</th>\n",
       "      <th>PM_Term</th>\n",
       "      <th>PM_remark</th>\n",
       "    </tr>\n",
       "  </thead>\n",
       "  <tbody>\n",
       "    <tr>\n",
       "      <th>0</th>\n",
       "      <td>Indira Gandhi</td>\n",
       "      <td>(1917–1984)</td>\n",
       "      <td>24 January 1966 to 24 March 1977</td>\n",
       "      <td>First female Prime Minister of India</td>\n",
       "    </tr>\n",
       "  </tbody>\n",
       "</table>\n",
       "</div>"
      ],
      "text/plain": [
       "         PM_name       PM_DOB                           PM_Term  \\\n",
       "0  Indira Gandhi  (1917–1984)  24 January 1966 to 24 March 1977   \n",
       "\n",
       "                              PM_remark  \n",
       "0  First female Prime Minister of India  "
      ]
     },
     "execution_count": 1615,
     "metadata": {},
     "output_type": "execute_result"
    }
   ],
   "source": [
    "# Creating Data Frame for PM5\n",
    "\n",
    "PM5 = pd.DataFrame({})\n",
    "PM5[\"PM_name\"]=PM5_name\n",
    "PM5[\"PM_DOB\"]=PM5_DOB\n",
    "PM5[\"PM_Term\"]=PM5_Term\n",
    "PM5[\"PM_remark\"]=PM5_remark\n",
    "PM5"
   ]
  },
  {
   "cell_type": "code",
   "execution_count": 1616,
   "id": "cd0c4b26",
   "metadata": {},
   "outputs": [
    {
     "data": {
      "text/plain": [
       "['Morarji Desai']"
      ]
     },
     "execution_count": 1616,
     "metadata": {},
     "output_type": "execute_result"
    }
   ],
   "source": [
    "# Finding The Name of next PM\n",
    "\n",
    "name=driver.find_elements(By.XPATH,\"/html/body/div[1]/div[2]/div/div[2]/div/div[1]/div/div/div/div[4]/span/div[2]/table/tbody/tr[7]/td[2]/p\")\n",
    "name\n",
    "\n",
    "PM6_name=[]\n",
    "for i in name:\n",
    "    names=i.text\n",
    "    PM6_name.append(names)\n",
    "PM6_name"
   ]
  },
  {
   "cell_type": "code",
   "execution_count": 1617,
   "id": "bf751802",
   "metadata": {},
   "outputs": [
    {
     "data": {
      "text/plain": [
       "['(1896–1995)']"
      ]
     },
     "execution_count": 1617,
     "metadata": {},
     "output_type": "execute_result"
    }
   ],
   "source": [
    "# Find DOB for next prime minister\n",
    "\n",
    "DOB=driver.find_elements(By.XPATH,\"/html/body/div[1]/div[2]/div/div[2]/div/div[1]/div/div/div/div[4]/span/div[2]/table/tbody/tr[7]/td[3]/p\")\n",
    "\n",
    "\n",
    "DOB\n",
    "\n",
    "PM6_DOB=[]\n",
    "for i in DOB:\n",
    "    DOBs=i.text\n",
    "    PM6_DOB.append(DOBs)\n",
    "PM6_DOB"
   ]
  },
  {
   "cell_type": "code",
   "execution_count": 1621,
   "id": "f336b79c",
   "metadata": {},
   "outputs": [
    {
     "data": {
      "text/plain": [
       "['24 March 1977 to  28 July 1979 ']"
      ]
     },
     "execution_count": 1621,
     "metadata": {},
     "output_type": "execute_result"
    }
   ],
   "source": [
    "# Finding the Term of Office for next Pm\n",
    "    \n",
    "\n",
    "Term=driver.find_elements(By.XPATH,\"/html/body/div[1]/div[2]/div/div[2]/div/div[1]/div/div/div/div[4]/span/div[2]/table/tbody/tr[7]/td[4]/p[1]/span\")\n",
    "\n",
    "\n",
    "Term\n",
    "\n",
    "PM6_Term=[]\n",
    "for i in Term:\n",
    "    Terms=i.text\n",
    "    PM6_Term.append(Terms)\n",
    "PM6_Term"
   ]
  },
  {
   "cell_type": "code",
   "execution_count": 1619,
   "id": "5e464228",
   "metadata": {},
   "outputs": [
    {
     "data": {
      "text/plain": [
       "['Oldest to become PM (81 years old) and first to resign from office']"
      ]
     },
     "execution_count": 1619,
     "metadata": {},
     "output_type": "execute_result"
    }
   ],
   "source": [
    "# Finding the Remark for next PM\n",
    "    \n",
    "\n",
    "remark=driver.find_elements(By.XPATH,\"/html/body/div[1]/div[2]/div/div[2]/div/div[1]/div/div/div/div[4]/span/div[2]/table/tbody/tr[7]/td[5]/p\")\n",
    "\n",
    "\n",
    "remark\n",
    "\n",
    "PM6_remark=[]\n",
    "for i in remark:\n",
    "    remarks=i.text\n",
    "    PM6_remark.append(remarks)\n",
    "PM6_remark"
   ]
  },
  {
   "cell_type": "code",
   "execution_count": 1622,
   "id": "28609599",
   "metadata": {},
   "outputs": [
    {
     "data": {
      "text/html": [
       "<div>\n",
       "<style scoped>\n",
       "    .dataframe tbody tr th:only-of-type {\n",
       "        vertical-align: middle;\n",
       "    }\n",
       "\n",
       "    .dataframe tbody tr th {\n",
       "        vertical-align: top;\n",
       "    }\n",
       "\n",
       "    .dataframe thead th {\n",
       "        text-align: right;\n",
       "    }\n",
       "</style>\n",
       "<table border=\"1\" class=\"dataframe\">\n",
       "  <thead>\n",
       "    <tr style=\"text-align: right;\">\n",
       "      <th></th>\n",
       "      <th>PM_name</th>\n",
       "      <th>PM_DOB</th>\n",
       "      <th>PM_Term</th>\n",
       "      <th>PM_remark</th>\n",
       "    </tr>\n",
       "  </thead>\n",
       "  <tbody>\n",
       "    <tr>\n",
       "      <th>0</th>\n",
       "      <td>Morarji Desai</td>\n",
       "      <td>(1896–1995)</td>\n",
       "      <td>24 March 1977 to  28 July 1979</td>\n",
       "      <td>Oldest to become PM (81 years old) and first t...</td>\n",
       "    </tr>\n",
       "  </tbody>\n",
       "</table>\n",
       "</div>"
      ],
      "text/plain": [
       "         PM_name       PM_DOB                          PM_Term  \\\n",
       "0  Morarji Desai  (1896–1995)  24 March 1977 to  28 July 1979    \n",
       "\n",
       "                                           PM_remark  \n",
       "0  Oldest to become PM (81 years old) and first t...  "
      ]
     },
     "execution_count": 1622,
     "metadata": {},
     "output_type": "execute_result"
    }
   ],
   "source": [
    "# Creating Data Frame for PM3\n",
    "\n",
    "PM6 = pd.DataFrame({})\n",
    "PM6[\"PM_name\"]=PM6_name\n",
    "PM6[\"PM_DOB\"]=PM6_DOB\n",
    "PM6[\"PM_Term\"]=PM6_Term\n",
    "PM6[\"PM_remark\"]=PM6_remark\n",
    "PM6"
   ]
  },
  {
   "cell_type": "code",
   "execution_count": 1623,
   "id": "1a95f6ff",
   "metadata": {},
   "outputs": [
    {
     "data": {
      "text/plain": [
       "['Charan Singh']"
      ]
     },
     "execution_count": 1623,
     "metadata": {},
     "output_type": "execute_result"
    }
   ],
   "source": [
    "# Finding The Name of next PM\n",
    "\n",
    "name=driver.find_elements(By.XPATH,\"/html/body/div[1]/div[2]/div/div[2]/div/div[1]/div/div/div/div[4]/span/div[2]/table/tbody/tr[8]/td[2]/p\")\n",
    "name\n",
    "\n",
    "PM7_name=[]\n",
    "for i in name:\n",
    "    names=i.text\n",
    "    PM7_name.append(names)\n",
    "PM7_name"
   ]
  },
  {
   "cell_type": "code",
   "execution_count": 1624,
   "id": "2ef32acd",
   "metadata": {},
   "outputs": [
    {
     "data": {
      "text/plain": [
       "['(1889–1964)']"
      ]
     },
     "execution_count": 1624,
     "metadata": {},
     "output_type": "execute_result"
    }
   ],
   "source": [
    "# Find DOB for next prime minister\n",
    "\n",
    "DOB=driver.find_elements(By.XPATH,\"/html/body/div[1]/div[2]/div/div[2]/div/div[1]/div/div/div/div[4]/span/div[2]/table/tbody/tr[2]/td[3]\")\n",
    "\n",
    "\n",
    "DOB\n",
    "\n",
    "PM7_DOB=[]\n",
    "for i in DOB:\n",
    "    DOBs=i.text\n",
    "    PM7_DOB.append(DOBs)\n",
    "PM7_DOB"
   ]
  },
  {
   "cell_type": "code",
   "execution_count": 1625,
   "id": "38a3b6ea",
   "metadata": {},
   "outputs": [
    {
     "data": {
      "text/plain": [
       "['28 July 1979 to 14 January 1980']"
      ]
     },
     "execution_count": 1625,
     "metadata": {},
     "output_type": "execute_result"
    }
   ],
   "source": [
    "# Finding the Term of Office for next Pm\n",
    "    \n",
    "\n",
    "Term=driver.find_elements(By.XPATH,\"/html/body/div[1]/div[2]/div/div[2]/div/div[1]/div/div/div/div[4]/span/div[2]/table/tbody/tr[8]/td[4]/p[1]/span\")\n",
    "\n",
    "\n",
    "Term\n",
    "\n",
    "PM7_Term=[]\n",
    "for i in Term:\n",
    "    Terms=i.text\n",
    "    PM7_Term.append(Terms)\n",
    "PM7_Term"
   ]
  },
  {
   "cell_type": "code",
   "execution_count": 1626,
   "id": "b084493b",
   "metadata": {},
   "outputs": [
    {
     "data": {
      "text/plain": [
       "['Only PM who did not face the Parliament']"
      ]
     },
     "execution_count": 1626,
     "metadata": {},
     "output_type": "execute_result"
    }
   ],
   "source": [
    "# Finding the Remark for next PM\n",
    "    \n",
    "\n",
    "remark=driver.find_elements(By.XPATH,\"/html/body/div[1]/div[2]/div/div[2]/div/div[1]/div/div/div/div[4]/span/div[2]/table/tbody/tr[8]/td[5]/p\")\n",
    "\n",
    "\n",
    "remark\n",
    "\n",
    "PM7_remark=[]\n",
    "for i in remark:\n",
    "    remarks=i.text\n",
    "    PM7_remark.append(remarks)\n",
    "PM7_remark"
   ]
  },
  {
   "cell_type": "code",
   "execution_count": 1627,
   "id": "96415572",
   "metadata": {},
   "outputs": [
    {
     "data": {
      "text/html": [
       "<div>\n",
       "<style scoped>\n",
       "    .dataframe tbody tr th:only-of-type {\n",
       "        vertical-align: middle;\n",
       "    }\n",
       "\n",
       "    .dataframe tbody tr th {\n",
       "        vertical-align: top;\n",
       "    }\n",
       "\n",
       "    .dataframe thead th {\n",
       "        text-align: right;\n",
       "    }\n",
       "</style>\n",
       "<table border=\"1\" class=\"dataframe\">\n",
       "  <thead>\n",
       "    <tr style=\"text-align: right;\">\n",
       "      <th></th>\n",
       "      <th>PM_name</th>\n",
       "      <th>PM_DOB</th>\n",
       "      <th>PM_Term</th>\n",
       "      <th>PM_remark</th>\n",
       "    </tr>\n",
       "  </thead>\n",
       "  <tbody>\n",
       "    <tr>\n",
       "      <th>0</th>\n",
       "      <td>Charan Singh</td>\n",
       "      <td>(1889–1964)</td>\n",
       "      <td>28 July 1979 to 14 January 1980</td>\n",
       "      <td>Only PM who did not face the Parliament</td>\n",
       "    </tr>\n",
       "  </tbody>\n",
       "</table>\n",
       "</div>"
      ],
      "text/plain": [
       "        PM_name       PM_DOB                          PM_Term  \\\n",
       "0  Charan Singh  (1889–1964)  28 July 1979 to 14 January 1980   \n",
       "\n",
       "                                 PM_remark  \n",
       "0  Only PM who did not face the Parliament  "
      ]
     },
     "execution_count": 1627,
     "metadata": {},
     "output_type": "execute_result"
    }
   ],
   "source": [
    "# Creating Data Frame for PM7\n",
    "\n",
    "PM7 = pd.DataFrame({})\n",
    "PM7[\"PM_name\"]=PM7_name\n",
    "PM7[\"PM_DOB\"]=PM7_DOB\n",
    "PM7[\"PM_Term\"]=PM7_Term\n",
    "PM7[\"PM_remark\"]=PM7_remark\n",
    "PM7"
   ]
  },
  {
   "cell_type": "code",
   "execution_count": 1628,
   "id": "d37b5b56",
   "metadata": {},
   "outputs": [
    {
     "data": {
      "text/plain": [
       "['Indira Gandhi']"
      ]
     },
     "execution_count": 1628,
     "metadata": {},
     "output_type": "execute_result"
    }
   ],
   "source": [
    "# Finding The Name of next PM\n",
    "\n",
    "name=driver.find_elements(By.XPATH,\"/html/body/div[1]/div[2]/div/div[2]/div/div[1]/div/div/div/div[4]/span/div[2]/table/tbody/tr[9]/td[2]/p/strong/a\")\n",
    "name\n",
    "\n",
    "PM8_name=[]\n",
    "for i in name:\n",
    "    names=i.text\n",
    "    PM8_name.append(names)\n",
    "PM8_name"
   ]
  },
  {
   "cell_type": "code",
   "execution_count": 1630,
   "id": "2b3cdabf",
   "metadata": {},
   "outputs": [
    {
     "data": {
      "text/plain": [
       "['(1917–1984)']"
      ]
     },
     "execution_count": 1630,
     "metadata": {},
     "output_type": "execute_result"
    }
   ],
   "source": [
    "# Find DOB for next prime minister\n",
    "\n",
    "DOB=driver.find_elements(By.XPATH,\"/html/body/div[1]/div[2]/div/div[2]/div/div[1]/div/div/div/div[4]/span/div[2]/table/tbody/tr[9]/td[3]/p\")\n",
    "\n",
    "\n",
    "DOB\n",
    "\n",
    "PM8_DOB=[]\n",
    "for i in DOB:\n",
    "    DOBs=i.text\n",
    "    PM8_DOB.append(DOBs)\n",
    "PM8_DOB"
   ]
  },
  {
   "cell_type": "code",
   "execution_count": 1631,
   "id": "540c66b3",
   "metadata": {},
   "outputs": [
    {
     "data": {
      "text/plain": [
       "['14 January 1980 to 31 October 1984']"
      ]
     },
     "execution_count": 1631,
     "metadata": {},
     "output_type": "execute_result"
    }
   ],
   "source": [
    "# Finding the Term of Office for next Pm\n",
    "    \n",
    "\n",
    "Term=driver.find_elements(By.XPATH,\"/html/body/div[1]/div[2]/div/div[2]/div/div[1]/div/div/div/div[4]/span/div[2]/table/tbody/tr[9]/td[4]/p[1]/span\")\n",
    "\n",
    "\n",
    "Term\n",
    "\n",
    "PM8_Term=[]\n",
    "for i in Term:\n",
    "    Terms=i.text\n",
    "    PM8_Term.append(Terms)\n",
    "PM8_Term"
   ]
  },
  {
   "cell_type": "code",
   "execution_count": 1632,
   "id": "071450c1",
   "metadata": {},
   "outputs": [
    {
     "data": {
      "text/plain": [
       "['The first lady who served as PM for the second term']"
      ]
     },
     "execution_count": 1632,
     "metadata": {},
     "output_type": "execute_result"
    }
   ],
   "source": [
    "# Finding the Remark for next PM\n",
    "    \n",
    "\n",
    "remark=driver.find_elements(By.XPATH,\"/html/body/div[1]/div[2]/div/div[2]/div/div[1]/div/div/div/div[4]/span/div[2]/table/tbody/tr[9]/td[5]/p\")\n",
    "\n",
    "\n",
    "remark\n",
    "\n",
    "PM8_remark=[]\n",
    "for i in remark:\n",
    "    remarks=i.text\n",
    "    PM8_remark.append(remarks)\n",
    "PM8_remark"
   ]
  },
  {
   "cell_type": "code",
   "execution_count": 1633,
   "id": "b403e226",
   "metadata": {},
   "outputs": [
    {
     "data": {
      "text/html": [
       "<div>\n",
       "<style scoped>\n",
       "    .dataframe tbody tr th:only-of-type {\n",
       "        vertical-align: middle;\n",
       "    }\n",
       "\n",
       "    .dataframe tbody tr th {\n",
       "        vertical-align: top;\n",
       "    }\n",
       "\n",
       "    .dataframe thead th {\n",
       "        text-align: right;\n",
       "    }\n",
       "</style>\n",
       "<table border=\"1\" class=\"dataframe\">\n",
       "  <thead>\n",
       "    <tr style=\"text-align: right;\">\n",
       "      <th></th>\n",
       "      <th>PM_name</th>\n",
       "      <th>PM_DOB</th>\n",
       "      <th>PM_Term</th>\n",
       "      <th>PM_remark</th>\n",
       "    </tr>\n",
       "  </thead>\n",
       "  <tbody>\n",
       "    <tr>\n",
       "      <th>0</th>\n",
       "      <td>Indira Gandhi</td>\n",
       "      <td>(1917–1984)</td>\n",
       "      <td>14 January 1980 to 31 October 1984</td>\n",
       "      <td>The first lady who served as PM for the second...</td>\n",
       "    </tr>\n",
       "  </tbody>\n",
       "</table>\n",
       "</div>"
      ],
      "text/plain": [
       "         PM_name       PM_DOB                             PM_Term  \\\n",
       "0  Indira Gandhi  (1917–1984)  14 January 1980 to 31 October 1984   \n",
       "\n",
       "                                           PM_remark  \n",
       "0  The first lady who served as PM for the second...  "
      ]
     },
     "execution_count": 1633,
     "metadata": {},
     "output_type": "execute_result"
    }
   ],
   "source": [
    "# Creating Data Frame for PM3\n",
    "\n",
    "PM8 = pd.DataFrame({})\n",
    "PM8[\"PM_name\"]=PM8_name\n",
    "PM8[\"PM_DOB\"]=PM8_DOB\n",
    "PM8[\"PM_Term\"]=PM8_Term\n",
    "PM8[\"PM_remark\"]=PM8_remark\n",
    "PM8"
   ]
  },
  {
   "cell_type": "code",
   "execution_count": 1634,
   "id": "63b103b0",
   "metadata": {},
   "outputs": [
    {
     "data": {
      "text/plain": [
       "['Rajiv Gandhi']"
      ]
     },
     "execution_count": 1634,
     "metadata": {},
     "output_type": "execute_result"
    }
   ],
   "source": [
    "# Finding The Name of next PM\n",
    "\n",
    "name=driver.find_elements(By.XPATH,\"/html/body/div[1]/div[2]/div/div[2]/div/div[1]/div/div/div/div[4]/span/div[2]/table/tbody/tr[10]/td[2]/p/a\")\n",
    "name\n",
    "\n",
    "PM9_name=[]\n",
    "for i in name:\n",
    "    names=i.text\n",
    "    PM9_name.append(names)\n",
    "PM9_name"
   ]
  },
  {
   "cell_type": "code",
   "execution_count": 1635,
   "id": "f819785e",
   "metadata": {},
   "outputs": [
    {
     "data": {
      "text/plain": [
       "['(1944–1991)']"
      ]
     },
     "execution_count": 1635,
     "metadata": {},
     "output_type": "execute_result"
    }
   ],
   "source": [
    "# Find DOB for next prime minister\n",
    "\n",
    "DOB=driver.find_elements(By.XPATH,\"/html/body/div[1]/div[2]/div/div[2]/div/div[1]/div/div/div/div[4]/span/div[2]/table/tbody/tr[10]/td[3]/p\")\n",
    "\n",
    "\n",
    "DOB\n",
    "\n",
    "PM9_DOB=[]\n",
    "for i in DOB:\n",
    "    DOBs=i.text\n",
    "    PM9_DOB.append(DOBs)\n",
    "PM9_DOB"
   ]
  },
  {
   "cell_type": "code",
   "execution_count": 1636,
   "id": "52af4a30",
   "metadata": {},
   "outputs": [
    {
     "data": {
      "text/plain": [
       "['31 October 1984 to 2 December 1989']"
      ]
     },
     "execution_count": 1636,
     "metadata": {},
     "output_type": "execute_result"
    }
   ],
   "source": [
    "# Finding the Term of Office for next Pm\n",
    "    \n",
    "\n",
    "Term=driver.find_elements(By.XPATH,\"/html/body/div[1]/div[2]/div/div[2]/div/div[1]/div/div/div/div[4]/span/div[2]/table/tbody/tr[10]/td[4]/p[1]\")\n",
    "\n",
    "\n",
    "Term\n",
    "\n",
    "PM9_Term=[]\n",
    "for i in Term:\n",
    "    Terms=i.text\n",
    "    PM9_Term.append(Terms)\n",
    "PM9_Term"
   ]
  },
  {
   "cell_type": "code",
   "execution_count": 1637,
   "id": "33a5f4aa",
   "metadata": {},
   "outputs": [
    {
     "data": {
      "text/plain": [
       "['Youngest to become PM (40 years old)']"
      ]
     },
     "execution_count": 1637,
     "metadata": {},
     "output_type": "execute_result"
    }
   ],
   "source": [
    "# Finding the Remark for next PM\n",
    "    \n",
    "\n",
    "remark=driver.find_elements(By.XPATH,\"/html/body/div[1]/div[2]/div/div[2]/div/div[1]/div/div/div/div[4]/span/div[2]/table/tbody/tr[10]/td[5]/p\")\n",
    "\n",
    "\n",
    "remark\n",
    "\n",
    "PM9_remark=[]\n",
    "for i in remark:\n",
    "    remarks=i.text\n",
    "    PM9_remark.append(remarks)\n",
    "PM9_remark"
   ]
  },
  {
   "cell_type": "code",
   "execution_count": 1638,
   "id": "ba33509e",
   "metadata": {},
   "outputs": [
    {
     "data": {
      "text/html": [
       "<div>\n",
       "<style scoped>\n",
       "    .dataframe tbody tr th:only-of-type {\n",
       "        vertical-align: middle;\n",
       "    }\n",
       "\n",
       "    .dataframe tbody tr th {\n",
       "        vertical-align: top;\n",
       "    }\n",
       "\n",
       "    .dataframe thead th {\n",
       "        text-align: right;\n",
       "    }\n",
       "</style>\n",
       "<table border=\"1\" class=\"dataframe\">\n",
       "  <thead>\n",
       "    <tr style=\"text-align: right;\">\n",
       "      <th></th>\n",
       "      <th>PM_name</th>\n",
       "      <th>PM_DOB</th>\n",
       "      <th>PM_Term</th>\n",
       "      <th>PM_remark</th>\n",
       "    </tr>\n",
       "  </thead>\n",
       "  <tbody>\n",
       "    <tr>\n",
       "      <th>0</th>\n",
       "      <td>Rajiv Gandhi</td>\n",
       "      <td>(1944–1991)</td>\n",
       "      <td>31 October 1984 to 2 December 1989</td>\n",
       "      <td>Youngest to become PM (40 years old)</td>\n",
       "    </tr>\n",
       "  </tbody>\n",
       "</table>\n",
       "</div>"
      ],
      "text/plain": [
       "        PM_name       PM_DOB                             PM_Term  \\\n",
       "0  Rajiv Gandhi  (1944–1991)  31 October 1984 to 2 December 1989   \n",
       "\n",
       "                              PM_remark  \n",
       "0  Youngest to become PM (40 years old)  "
      ]
     },
     "execution_count": 1638,
     "metadata": {},
     "output_type": "execute_result"
    }
   ],
   "source": [
    "# Creating Data Frame for PM9\n",
    "\n",
    "PM9 = pd.DataFrame({})\n",
    "PM9[\"PM_name\"]=PM9_name\n",
    "PM9[\"PM_DOB\"]=PM9_DOB\n",
    "PM9[\"PM_Term\"]=PM9_Term\n",
    "PM9[\"PM_remark\"]=PM9_remark\n",
    "PM9"
   ]
  },
  {
   "cell_type": "code",
   "execution_count": 1639,
   "id": "b568a3ac",
   "metadata": {},
   "outputs": [
    {
     "data": {
      "text/plain": [
       "['V. P. Singh']"
      ]
     },
     "execution_count": 1639,
     "metadata": {},
     "output_type": "execute_result"
    }
   ],
   "source": [
    "# Finding The Name of next PM\n",
    "\n",
    "name=driver.find_elements(By.XPATH,\"/html/body/div[1]/div[2]/div/div[2]/div/div[1]/div/div/div/div[4]/span/div[2]/table/tbody/tr[11]/td[2]/p\")\n",
    "name\n",
    "\n",
    "PM10_name=[]\n",
    "for i in name:\n",
    "    names=i.text\n",
    "    PM10_name.append(names)\n",
    "PM10_name"
   ]
  },
  {
   "cell_type": "code",
   "execution_count": 1640,
   "id": "5ae700c2",
   "metadata": {},
   "outputs": [
    {
     "data": {
      "text/plain": [
       "['(1931–2008)']"
      ]
     },
     "execution_count": 1640,
     "metadata": {},
     "output_type": "execute_result"
    }
   ],
   "source": [
    "# Find DOB for next prime minister\n",
    "\n",
    "DOB=driver.find_elements(By.XPATH,\"/html/body/div[1]/div[2]/div/div[2]/div/div[1]/div/div/div/div[4]/span/div[2]/table/tbody/tr[11]/td[3]/p\")\n",
    "\n",
    "\n",
    "DOB\n",
    "\n",
    "PM10_DOB=[]\n",
    "for i in DOB:\n",
    "    DOBs=i.text\n",
    "    PM10_DOB.append(DOBs)\n",
    "PM10_DOB"
   ]
  },
  {
   "cell_type": "code",
   "execution_count": 1641,
   "id": "86d230ed",
   "metadata": {},
   "outputs": [
    {
     "data": {
      "text/plain": [
       "['2 December 1989 to 10 November 1990']"
      ]
     },
     "execution_count": 1641,
     "metadata": {},
     "output_type": "execute_result"
    }
   ],
   "source": [
    "# Finding the Term of Office for next Pm\n",
    "    \n",
    "\n",
    "Term=driver.find_elements(By.XPATH,\"/html/body/div[1]/div[2]/div/div[2]/div/div[1]/div/div/div/div[4]/span/div[2]/table/tbody/tr[11]/td[4]/p[1]/span\")\n",
    "\n",
    "\n",
    "Term\n",
    "\n",
    "PM10_Term=[]\n",
    "for i in Term:\n",
    "    Terms=i.text\n",
    "    PM10_Term.append(Terms)\n",
    "PM10_Term"
   ]
  },
  {
   "cell_type": "code",
   "execution_count": 1642,
   "id": "c6e5571b",
   "metadata": {},
   "outputs": [
    {
     "data": {
      "text/plain": [
       "['First PM to step down after a vote of no confidence']"
      ]
     },
     "execution_count": 1642,
     "metadata": {},
     "output_type": "execute_result"
    }
   ],
   "source": [
    "# Finding the Remark for next PM\n",
    "    \n",
    "\n",
    "remark=driver.find_elements(By.XPATH,\"/html/body/div[1]/div[2]/div/div[2]/div/div[1]/div/div/div/div[4]/span/div[2]/table/tbody/tr[11]/td[5]/p\")\n",
    "\n",
    "\n",
    "remark\n",
    "\n",
    "PM10_remark=[]\n",
    "for i in remark:\n",
    "    remarks=i.text\n",
    "    PM10_remark.append(remarks)\n",
    "PM10_remark"
   ]
  },
  {
   "cell_type": "code",
   "execution_count": 1643,
   "id": "bf8489a8",
   "metadata": {},
   "outputs": [
    {
     "data": {
      "text/html": [
       "<div>\n",
       "<style scoped>\n",
       "    .dataframe tbody tr th:only-of-type {\n",
       "        vertical-align: middle;\n",
       "    }\n",
       "\n",
       "    .dataframe tbody tr th {\n",
       "        vertical-align: top;\n",
       "    }\n",
       "\n",
       "    .dataframe thead th {\n",
       "        text-align: right;\n",
       "    }\n",
       "</style>\n",
       "<table border=\"1\" class=\"dataframe\">\n",
       "  <thead>\n",
       "    <tr style=\"text-align: right;\">\n",
       "      <th></th>\n",
       "      <th>PM_name</th>\n",
       "      <th>PM_DOB</th>\n",
       "      <th>PM_Term</th>\n",
       "      <th>PM_remark</th>\n",
       "    </tr>\n",
       "  </thead>\n",
       "  <tbody>\n",
       "    <tr>\n",
       "      <th>0</th>\n",
       "      <td>V. P. Singh</td>\n",
       "      <td>(1931–2008)</td>\n",
       "      <td>2 December 1989 to 10 November 1990</td>\n",
       "      <td>First PM to step down after a vote of no confi...</td>\n",
       "    </tr>\n",
       "  </tbody>\n",
       "</table>\n",
       "</div>"
      ],
      "text/plain": [
       "       PM_name       PM_DOB                              PM_Term  \\\n",
       "0  V. P. Singh  (1931–2008)  2 December 1989 to 10 November 1990   \n",
       "\n",
       "                                           PM_remark  \n",
       "0  First PM to step down after a vote of no confi...  "
      ]
     },
     "execution_count": 1643,
     "metadata": {},
     "output_type": "execute_result"
    }
   ],
   "source": [
    "# Creating Data Frame for PM3\n",
    "\n",
    "PM10 = pd.DataFrame({})\n",
    "PM10[\"PM_name\"]=PM10_name\n",
    "PM10[\"PM_DOB\"]=PM10_DOB\n",
    "PM10[\"PM_Term\"]=PM10_Term\n",
    "PM10[\"PM_remark\"]=PM10_remark\n",
    "PM10"
   ]
  },
  {
   "cell_type": "code",
   "execution_count": 1644,
   "id": "bbf2cc62",
   "metadata": {},
   "outputs": [
    {
     "data": {
      "text/plain": [
       "['Chandra Shekhar']"
      ]
     },
     "execution_count": 1644,
     "metadata": {},
     "output_type": "execute_result"
    }
   ],
   "source": [
    "# Finding The Name of next PM\n",
    "\n",
    "name=driver.find_elements(By.XPATH,\"/html/body/div[1]/div[2]/div/div[2]/div/div[1]/div/div/div/div[4]/span/div[2]/table/tbody/tr[12]/td[2]/p/strong/a\")\n",
    "name\n",
    "\n",
    "PM11_name=[]\n",
    "for i in name:\n",
    "    names=i.text\n",
    "    PM11_name.append(names)\n",
    "PM11_name"
   ]
  },
  {
   "cell_type": "code",
   "execution_count": 1645,
   "id": "6312c9d9",
   "metadata": {},
   "outputs": [
    {
     "data": {
      "text/plain": [
       "['(1927–2007)']"
      ]
     },
     "execution_count": 1645,
     "metadata": {},
     "output_type": "execute_result"
    }
   ],
   "source": [
    "# Find DOB for next prime minister\n",
    "\n",
    "DOB=driver.find_elements(By.XPATH,\"/html/body/div[1]/div[2]/div/div[2]/div/div[1]/div/div/div/div[4]/span/div[2]/table/tbody/tr[12]/td[3]/p\")\n",
    "\n",
    "\n",
    "DOB\n",
    "\n",
    "PM11_DOB=[]\n",
    "for i in DOB:\n",
    "    DOBs=i.text\n",
    "    PM11_DOB.append(DOBs)\n",
    "PM11_DOB"
   ]
  },
  {
   "cell_type": "code",
   "execution_count": 1647,
   "id": "5095be1b",
   "metadata": {},
   "outputs": [
    {
     "data": {
      "text/plain": [
       "['10 November 1990 to 21 June 1991']"
      ]
     },
     "execution_count": 1647,
     "metadata": {},
     "output_type": "execute_result"
    }
   ],
   "source": [
    "# Finding the Term of Office for next Pm\n",
    "    \n",
    "\n",
    "Term=driver.find_elements(By.XPATH,\"/html/body/div[1]/div[2]/div/div[2]/div/div[1]/div/div/div/div[4]/span/div[2]/table/tbody/tr[12]/td[4]/p[1]/span\")\n",
    "\n",
    "\n",
    "Term\n",
    "\n",
    "PM11_Term=[]\n",
    "for i in Term:\n",
    "    Terms=i.text\n",
    "    PM11_Term.append(Terms)\n",
    "PM11_Term"
   ]
  },
  {
   "cell_type": "code",
   "execution_count": 1648,
   "id": "93550a70",
   "metadata": {},
   "outputs": [
    {
     "data": {
      "text/plain": [
       "['He belongs to  Samajwadi Janata Party']"
      ]
     },
     "execution_count": 1648,
     "metadata": {},
     "output_type": "execute_result"
    }
   ],
   "source": [
    "# Finding the Remark for next PM\n",
    "    \n",
    "\n",
    "remark=driver.find_elements(By.XPATH,\"/html/body/div[1]/div[2]/div/div[2]/div/div[1]/div/div/div/div[4]/span/div[2]/table/tbody/tr[12]/td[5]/p\")\n",
    "\n",
    "\n",
    "remark\n",
    "\n",
    "PM11_remark=[]\n",
    "for i in remark:\n",
    "    remarks=i.text\n",
    "    PM11_remark.append(remarks)\n",
    "PM11_remark"
   ]
  },
  {
   "cell_type": "code",
   "execution_count": 1649,
   "id": "280e12db",
   "metadata": {},
   "outputs": [
    {
     "data": {
      "text/html": [
       "<div>\n",
       "<style scoped>\n",
       "    .dataframe tbody tr th:only-of-type {\n",
       "        vertical-align: middle;\n",
       "    }\n",
       "\n",
       "    .dataframe tbody tr th {\n",
       "        vertical-align: top;\n",
       "    }\n",
       "\n",
       "    .dataframe thead th {\n",
       "        text-align: right;\n",
       "    }\n",
       "</style>\n",
       "<table border=\"1\" class=\"dataframe\">\n",
       "  <thead>\n",
       "    <tr style=\"text-align: right;\">\n",
       "      <th></th>\n",
       "      <th>PM_name</th>\n",
       "      <th>PM_DOB</th>\n",
       "      <th>PM_Term</th>\n",
       "      <th>PM_remark</th>\n",
       "    </tr>\n",
       "  </thead>\n",
       "  <tbody>\n",
       "    <tr>\n",
       "      <th>0</th>\n",
       "      <td>Chandra Shekhar</td>\n",
       "      <td>(1927–2007)</td>\n",
       "      <td>10 November 1990 to 21 June 1991</td>\n",
       "      <td>He belongs to  Samajwadi Janata Party</td>\n",
       "    </tr>\n",
       "  </tbody>\n",
       "</table>\n",
       "</div>"
      ],
      "text/plain": [
       "           PM_name       PM_DOB                           PM_Term  \\\n",
       "0  Chandra Shekhar  (1927–2007)  10 November 1990 to 21 June 1991   \n",
       "\n",
       "                               PM_remark  \n",
       "0  He belongs to  Samajwadi Janata Party  "
      ]
     },
     "execution_count": 1649,
     "metadata": {},
     "output_type": "execute_result"
    }
   ],
   "source": [
    "# Creating Data Frame for PM3\n",
    "\n",
    "PM11 = pd.DataFrame({})\n",
    "PM11[\"PM_name\"]=PM11_name\n",
    "PM11[\"PM_DOB\"]=PM11_DOB\n",
    "PM11[\"PM_Term\"]=PM11_Term\n",
    "PM11[\"PM_remark\"]=PM11_remark\n",
    "PM11"
   ]
  },
  {
   "cell_type": "code",
   "execution_count": 1650,
   "id": "33ba4009",
   "metadata": {},
   "outputs": [
    {
     "data": {
      "text/plain": [
       "['P. V. Narasimha Rao']"
      ]
     },
     "execution_count": 1650,
     "metadata": {},
     "output_type": "execute_result"
    }
   ],
   "source": [
    "# Finding The Name of next PM\n",
    "\n",
    "name=driver.find_elements(By.XPATH,\"/html/body/div[1]/div[2]/div/div[2]/div/div[1]/div/div/div/div[4]/span/div[2]/table/tbody/tr[13]/td[2]/p\")\n",
    "name\n",
    "\n",
    "PM12_name=[]\n",
    "for i in name:\n",
    "    names=i.text\n",
    "    PM12_name.append(names)\n",
    "PM12_name"
   ]
  },
  {
   "cell_type": "code",
   "execution_count": 1651,
   "id": "a4fa9ff4",
   "metadata": {},
   "outputs": [
    {
     "data": {
      "text/plain": [
       "['(1921–2004)']"
      ]
     },
     "execution_count": 1651,
     "metadata": {},
     "output_type": "execute_result"
    }
   ],
   "source": [
    "# Find DOB for next prime minister\n",
    "\n",
    "DOB=driver.find_elements(By.XPATH,\"/html/body/div[1]/div[2]/div/div[2]/div/div[1]/div/div/div/div[4]/span/div[2]/table/tbody/tr[13]/td[3]/p\")\n",
    "\n",
    "\n",
    "DOB\n",
    "\n",
    "PM12_DOB=[]\n",
    "for i in DOB:\n",
    "    DOBs=i.text\n",
    "    PM12_DOB.append(DOBs)\n",
    "PM12_DOB"
   ]
  },
  {
   "cell_type": "code",
   "execution_count": 1652,
   "id": "c29d19a7",
   "metadata": {},
   "outputs": [
    {
     "data": {
      "text/plain": [
       "['16 May 1996 to 1 June 1996']"
      ]
     },
     "execution_count": 1652,
     "metadata": {},
     "output_type": "execute_result"
    }
   ],
   "source": [
    "# Finding the Term of Office for next Pm\n",
    "    \n",
    "\n",
    "Term=driver.find_elements(By.XPATH,\"/html/body/div[1]/div[2]/div/div[2]/div/div[1]/div/div/div/div[4]/span/div[2]/table/tbody/tr[14]/td[4]/p[1]/span\")\n",
    "\n",
    "\n",
    "Term\n",
    "\n",
    "PM12_Term=[]\n",
    "for i in Term:\n",
    "    Terms=i.text\n",
    "    PM12_Term.append(Terms)\n",
    "PM12_Term"
   ]
  },
  {
   "cell_type": "code",
   "execution_count": 1653,
   "id": "74d72563",
   "metadata": {},
   "outputs": [
    {
     "data": {
      "text/plain": [
       "['First PM from south India']"
      ]
     },
     "execution_count": 1653,
     "metadata": {},
     "output_type": "execute_result"
    }
   ],
   "source": [
    "# Finding the Remark for next PM\n",
    "    \n",
    "\n",
    "remark=driver.find_elements(By.XPATH,\"/html/body/div[1]/div[2]/div/div[2]/div/div[1]/div/div/div/div[4]/span/div[2]/table/tbody/tr[13]/td[5]/p\")\n",
    "\n",
    "\n",
    "remark\n",
    "\n",
    "PM12_remark=[]\n",
    "for i in remark:\n",
    "    remarks=i.text\n",
    "    PM12_remark.append(remarks)\n",
    "PM12_remark"
   ]
  },
  {
   "cell_type": "code",
   "execution_count": 1654,
   "id": "c37fbbf3",
   "metadata": {},
   "outputs": [
    {
     "data": {
      "text/html": [
       "<div>\n",
       "<style scoped>\n",
       "    .dataframe tbody tr th:only-of-type {\n",
       "        vertical-align: middle;\n",
       "    }\n",
       "\n",
       "    .dataframe tbody tr th {\n",
       "        vertical-align: top;\n",
       "    }\n",
       "\n",
       "    .dataframe thead th {\n",
       "        text-align: right;\n",
       "    }\n",
       "</style>\n",
       "<table border=\"1\" class=\"dataframe\">\n",
       "  <thead>\n",
       "    <tr style=\"text-align: right;\">\n",
       "      <th></th>\n",
       "      <th>PM_name</th>\n",
       "      <th>PM_DOB</th>\n",
       "      <th>PM_Term</th>\n",
       "      <th>PM_remark</th>\n",
       "    </tr>\n",
       "  </thead>\n",
       "  <tbody>\n",
       "    <tr>\n",
       "      <th>0</th>\n",
       "      <td>P. V. Narasimha Rao</td>\n",
       "      <td>(1921–2004)</td>\n",
       "      <td>16 May 1996 to 1 June 1996</td>\n",
       "      <td>First PM from south India</td>\n",
       "    </tr>\n",
       "  </tbody>\n",
       "</table>\n",
       "</div>"
      ],
      "text/plain": [
       "               PM_name       PM_DOB                     PM_Term  \\\n",
       "0  P. V. Narasimha Rao  (1921–2004)  16 May 1996 to 1 June 1996   \n",
       "\n",
       "                   PM_remark  \n",
       "0  First PM from south India  "
      ]
     },
     "execution_count": 1654,
     "metadata": {},
     "output_type": "execute_result"
    }
   ],
   "source": [
    "# Creating Data Frame for PM3\n",
    "\n",
    "PM12 = pd.DataFrame({})\n",
    "PM12[\"PM_name\"]=PM12_name\n",
    "PM12[\"PM_DOB\"]=PM12_DOB\n",
    "PM12[\"PM_Term\"]=PM12_Term\n",
    "PM12[\"PM_remark\"]=PM12_remark\n",
    "PM12"
   ]
  },
  {
   "cell_type": "code",
   "execution_count": 1655,
   "id": "ce063a83",
   "metadata": {},
   "outputs": [
    {
     "data": {
      "text/plain": [
       "['Atal Bihari Vajpayee']"
      ]
     },
     "execution_count": 1655,
     "metadata": {},
     "output_type": "execute_result"
    }
   ],
   "source": [
    "# Finding The Name of next PM\n",
    "\n",
    "name=driver.find_elements(By.XPATH,\"/html/body/div[1]/div[2]/div/div[2]/div/div[1]/div/div/div/div[4]/span/div[2]/table/tbody/tr[14]/td[2]/p/strong/a\")\n",
    "name\n",
    "\n",
    "PM13_name=[]\n",
    "for i in name:\n",
    "    names=i.text\n",
    "    PM13_name.append(names)\n",
    "PM13_name"
   ]
  },
  {
   "cell_type": "code",
   "execution_count": 1656,
   "id": "b06684ec",
   "metadata": {},
   "outputs": [
    {
     "data": {
      "text/plain": [
       "['(1924- 2018)']"
      ]
     },
     "execution_count": 1656,
     "metadata": {},
     "output_type": "execute_result"
    }
   ],
   "source": [
    "# Find DOB for next prime minister\n",
    "\n",
    "DOB=driver.find_elements(By.XPATH,\"/html/body/div[1]/div[2]/div/div[2]/div/div[1]/div/div/div/div[4]/span/div[2]/table/tbody/tr[14]/td[3]/p\")\n",
    "\n",
    "\n",
    "DOB\n",
    "\n",
    "PM13_DOB=[]\n",
    "for i in DOB:\n",
    "    DOBs=i.text\n",
    "    PM13_DOB.append(DOBs)\n",
    "PM13_DOB"
   ]
  },
  {
   "cell_type": "code",
   "execution_count": 1657,
   "id": "bcb81707",
   "metadata": {},
   "outputs": [
    {
     "data": {
      "text/plain": [
       "['16 May 1996 to 1 June 1996']"
      ]
     },
     "execution_count": 1657,
     "metadata": {},
     "output_type": "execute_result"
    }
   ],
   "source": [
    "# Finding the Term of Office for next Pm\n",
    "    \n",
    "\n",
    "Term=driver.find_elements(By.XPATH,\"/html/body/div[1]/div[2]/div/div[2]/div/div[1]/div/div/div/div[4]/span/div[2]/table/tbody/tr[14]/td[4]/p[1]\")\n",
    "\n",
    "\n",
    "Term\n",
    "\n",
    "PM13_Term=[]\n",
    "for i in Term:\n",
    "    Terms=i.text\n",
    "    PM13_Term.append(Terms)\n",
    "PM13_Term"
   ]
  },
  {
   "cell_type": "code",
   "execution_count": 1658,
   "id": "33697526",
   "metadata": {},
   "outputs": [
    {
     "data": {
      "text/plain": [
       "['PM for shortest tenure']"
      ]
     },
     "execution_count": 1658,
     "metadata": {},
     "output_type": "execute_result"
    }
   ],
   "source": [
    "# Finding the Remark for next PM\n",
    "    \n",
    "\n",
    "remark=driver.find_elements(By.XPATH,\"/html/body/div[1]/div[2]/div/div[2]/div/div[1]/div/div/div/div[4]/span/div[2]/table/tbody/tr[14]/td[5]\")\n",
    "\n",
    "\n",
    "remark\n",
    "\n",
    "PM13_remark=[]\n",
    "for i in remark:\n",
    "    remarks=i.text\n",
    "    PM13_remark.append(remarks)\n",
    "PM13_remark"
   ]
  },
  {
   "cell_type": "code",
   "execution_count": 1659,
   "id": "8ec1e6ad",
   "metadata": {},
   "outputs": [
    {
     "data": {
      "text/html": [
       "<div>\n",
       "<style scoped>\n",
       "    .dataframe tbody tr th:only-of-type {\n",
       "        vertical-align: middle;\n",
       "    }\n",
       "\n",
       "    .dataframe tbody tr th {\n",
       "        vertical-align: top;\n",
       "    }\n",
       "\n",
       "    .dataframe thead th {\n",
       "        text-align: right;\n",
       "    }\n",
       "</style>\n",
       "<table border=\"1\" class=\"dataframe\">\n",
       "  <thead>\n",
       "    <tr style=\"text-align: right;\">\n",
       "      <th></th>\n",
       "      <th>PM_name</th>\n",
       "      <th>PM_DOB</th>\n",
       "      <th>PM_Term</th>\n",
       "      <th>PM_remark</th>\n",
       "    </tr>\n",
       "  </thead>\n",
       "  <tbody>\n",
       "    <tr>\n",
       "      <th>0</th>\n",
       "      <td>Atal Bihari Vajpayee</td>\n",
       "      <td>(1924- 2018)</td>\n",
       "      <td>16 May 1996 to 1 June 1996</td>\n",
       "      <td>PM for shortest tenure</td>\n",
       "    </tr>\n",
       "  </tbody>\n",
       "</table>\n",
       "</div>"
      ],
      "text/plain": [
       "                PM_name        PM_DOB                     PM_Term  \\\n",
       "0  Atal Bihari Vajpayee  (1924- 2018)  16 May 1996 to 1 June 1996   \n",
       "\n",
       "                PM_remark  \n",
       "0  PM for shortest tenure  "
      ]
     },
     "execution_count": 1659,
     "metadata": {},
     "output_type": "execute_result"
    }
   ],
   "source": [
    "# Creating Data Frame for PM3\n",
    "\n",
    "PM13 = pd.DataFrame({})\n",
    "PM13[\"PM_name\"]=PM13_name\n",
    "PM13[\"PM_DOB\"]=PM13_DOB\n",
    "PM13[\"PM_Term\"]=PM13_Term\n",
    "PM13[\"PM_remark\"]=PM13_remark\n",
    "PM13"
   ]
  },
  {
   "cell_type": "code",
   "execution_count": 1660,
   "id": "3525130b",
   "metadata": {},
   "outputs": [
    {
     "data": {
      "text/plain": [
       "['H. D. Deve Gowda']"
      ]
     },
     "execution_count": 1660,
     "metadata": {},
     "output_type": "execute_result"
    }
   ],
   "source": [
    "# Finding The Name of next PM\n",
    "\n",
    "name=driver.find_elements(By.XPATH,\"/html/body/div[1]/div[2]/div/div[2]/div/div[1]/div/div/div/div[4]/span/div[2]/table/tbody/tr[15]/td[2]/p\")\n",
    "name\n",
    "\n",
    "PM14_name=[]\n",
    "for i in name:\n",
    "    names=i.text\n",
    "    PM14_name.append(names)\n",
    "PM14_name"
   ]
  },
  {
   "cell_type": "code",
   "execution_count": 1661,
   "id": "cf3533ac",
   "metadata": {},
   "outputs": [
    {
     "data": {
      "text/plain": [
       "['(born 1933)']"
      ]
     },
     "execution_count": 1661,
     "metadata": {},
     "output_type": "execute_result"
    }
   ],
   "source": [
    "# Find DOB for next prime minister\n",
    "\n",
    "DOB=driver.find_elements(By.XPATH,\"/html/body/div[1]/div[2]/div/div[2]/div/div[1]/div/div/div/div[4]/span/div[2]/table/tbody/tr[15]/td[3]/p\")\n",
    "\n",
    "\n",
    "DOB\n",
    "\n",
    "PM14_DOB=[]\n",
    "for i in DOB:\n",
    "    DOBs=i.text\n",
    "    PM14_DOB.append(DOBs)\n",
    "PM14_DOB"
   ]
  },
  {
   "cell_type": "code",
   "execution_count": 1662,
   "id": "cfdb076a",
   "metadata": {},
   "outputs": [
    {
     "data": {
      "text/plain": [
       "['1 June 1996 to 21 April 1997']"
      ]
     },
     "execution_count": 1662,
     "metadata": {},
     "output_type": "execute_result"
    }
   ],
   "source": [
    "# Finding the Term of Office for next Pm\n",
    "    \n",
    "\n",
    "Term=driver.find_elements(By.XPATH,\"/html/body/div[1]/div[2]/div/div[2]/div/div[1]/div/div/div/div[4]/span/div[2]/table/tbody/tr[15]/td[4]/p[1]\")\n",
    "\n",
    "\n",
    "Term\n",
    "\n",
    "PM14_Term=[]\n",
    "for i in Term:\n",
    "    Terms=i.text\n",
    "    PM14_Term.append(Terms)\n",
    "PM14_Term"
   ]
  },
  {
   "cell_type": "code",
   "execution_count": 1663,
   "id": "29d581aa",
   "metadata": {},
   "outputs": [
    {
     "data": {
      "text/plain": [
       "['He belongs to  Janata Dal']"
      ]
     },
     "execution_count": 1663,
     "metadata": {},
     "output_type": "execute_result"
    }
   ],
   "source": [
    "# Finding the Remark for next PM\n",
    "    \n",
    "\n",
    "remark=driver.find_elements(By.XPATH,\"/html/body/div[1]/div[2]/div/div[2]/div/div[1]/div/div/div/div[4]/span/div[2]/table/tbody/tr[15]/td[5]/p\")\n",
    "\n",
    "\n",
    "remark\n",
    "\n",
    "PM14_remark=[]\n",
    "for i in remark:\n",
    "    remarks=i.text\n",
    "    PM14_remark.append(remarks)\n",
    "PM14_remark"
   ]
  },
  {
   "cell_type": "code",
   "execution_count": 1664,
   "id": "661bbf84",
   "metadata": {},
   "outputs": [
    {
     "data": {
      "text/html": [
       "<div>\n",
       "<style scoped>\n",
       "    .dataframe tbody tr th:only-of-type {\n",
       "        vertical-align: middle;\n",
       "    }\n",
       "\n",
       "    .dataframe tbody tr th {\n",
       "        vertical-align: top;\n",
       "    }\n",
       "\n",
       "    .dataframe thead th {\n",
       "        text-align: right;\n",
       "    }\n",
       "</style>\n",
       "<table border=\"1\" class=\"dataframe\">\n",
       "  <thead>\n",
       "    <tr style=\"text-align: right;\">\n",
       "      <th></th>\n",
       "      <th>PM_name</th>\n",
       "      <th>PM_DOB</th>\n",
       "      <th>PM_Term</th>\n",
       "      <th>PM_remark</th>\n",
       "    </tr>\n",
       "  </thead>\n",
       "  <tbody>\n",
       "    <tr>\n",
       "      <th>0</th>\n",
       "      <td>H. D. Deve Gowda</td>\n",
       "      <td>(born 1933)</td>\n",
       "      <td>1 June 1996 to 21 April 1997</td>\n",
       "      <td>He belongs to  Janata Dal</td>\n",
       "    </tr>\n",
       "  </tbody>\n",
       "</table>\n",
       "</div>"
      ],
      "text/plain": [
       "            PM_name       PM_DOB                       PM_Term  \\\n",
       "0  H. D. Deve Gowda  (born 1933)  1 June 1996 to 21 April 1997   \n",
       "\n",
       "                   PM_remark  \n",
       "0  He belongs to  Janata Dal  "
      ]
     },
     "execution_count": 1664,
     "metadata": {},
     "output_type": "execute_result"
    }
   ],
   "source": [
    "# Creating Data Frame for PM3\n",
    "\n",
    "PM14 = pd.DataFrame({})\n",
    "PM14[\"PM_name\"]=PM14_name\n",
    "PM14[\"PM_DOB\"]=PM14_DOB\n",
    "PM14[\"PM_Term\"]=PM14_Term\n",
    "PM14[\"PM_remark\"]=PM14_remark\n",
    "PM14"
   ]
  },
  {
   "cell_type": "code",
   "execution_count": 1665,
   "id": "ba156bef",
   "metadata": {},
   "outputs": [
    {
     "data": {
      "text/plain": [
       "['Inder Kumar Gujral']"
      ]
     },
     "execution_count": 1665,
     "metadata": {},
     "output_type": "execute_result"
    }
   ],
   "source": [
    "# Finding The Name of next PM\n",
    "\n",
    "name=driver.find_elements(By.XPATH,\"/html/body/div[1]/div[2]/div/div[2]/div/div[1]/div/div/div/div[4]/span/div[2]/table/tbody/tr[16]/td[2]/p\")\n",
    "name\n",
    "\n",
    "PM15_name=[]\n",
    "for i in name:\n",
    "    names=i.text\n",
    "    PM15_name.append(names)\n",
    "PM15_name"
   ]
  },
  {
   "cell_type": "code",
   "execution_count": 1666,
   "id": "b8091c03",
   "metadata": {},
   "outputs": [
    {
     "data": {
      "text/plain": [
       "['(1919–2012)']"
      ]
     },
     "execution_count": 1666,
     "metadata": {},
     "output_type": "execute_result"
    }
   ],
   "source": [
    "# Find DOB for next prime minister\n",
    "\n",
    "DOB=driver.find_elements(By.XPATH,\"/html/body/div[1]/div[2]/div/div[2]/div/div[1]/div/div/div/div[4]/span/div[2]/table/tbody/tr[16]/td[3]/p\")\n",
    "\n",
    "\n",
    "DOB\n",
    "\n",
    "PM15_DOB=[]\n",
    "for i in DOB:\n",
    "    DOBs=i.text\n",
    "    PM15_DOB.append(DOBs)\n",
    "PM15_DOB"
   ]
  },
  {
   "cell_type": "code",
   "execution_count": 1668,
   "id": "1f3a9dfa",
   "metadata": {},
   "outputs": [
    {
     "data": {
      "text/plain": [
       "['21 April 1997 to 19 March 1998 ']"
      ]
     },
     "execution_count": 1668,
     "metadata": {},
     "output_type": "execute_result"
    }
   ],
   "source": [
    "# Finding the Term of Office for next Pm\n",
    "    \n",
    "\n",
    "Term=driver.find_elements(By.XPATH,\"/html/body/div[1]/div[2]/div/div[2]/div/div[1]/div/div/div/div[4]/span/div[2]/table/tbody/tr[16]/td[4]/p[1]\")\n",
    "\n",
    "\n",
    "Term\n",
    "\n",
    "PM15_Term=[]\n",
    "for i in Term:\n",
    "    Terms=i.text\n",
    "    PM15_Term.append(Terms)\n",
    "PM15_Term"
   ]
  },
  {
   "cell_type": "code",
   "execution_count": 1669,
   "id": "662d02c3",
   "metadata": {},
   "outputs": [
    {
     "data": {
      "text/plain": [
       "['------']"
      ]
     },
     "execution_count": 1669,
     "metadata": {},
     "output_type": "execute_result"
    }
   ],
   "source": [
    "# Finding the Remark for next PM\n",
    "    \n",
    "\n",
    "remark=driver.find_elements(By.XPATH,\"/html/body/div[1]/div[2]/div/div[2]/div/div[1]/div/div/div/div[4]/span/div[2]/table/tbody/tr[16]/td[5]/p\")\n",
    "\n",
    "\n",
    "remark\n",
    "\n",
    "PM15_remark=[]\n",
    "for i in remark:\n",
    "    remarks=i.text\n",
    "    PM15_remark.append(remarks)\n",
    "PM15_remark"
   ]
  },
  {
   "cell_type": "code",
   "execution_count": 1670,
   "id": "f5a90dca",
   "metadata": {},
   "outputs": [
    {
     "data": {
      "text/html": [
       "<div>\n",
       "<style scoped>\n",
       "    .dataframe tbody tr th:only-of-type {\n",
       "        vertical-align: middle;\n",
       "    }\n",
       "\n",
       "    .dataframe tbody tr th {\n",
       "        vertical-align: top;\n",
       "    }\n",
       "\n",
       "    .dataframe thead th {\n",
       "        text-align: right;\n",
       "    }\n",
       "</style>\n",
       "<table border=\"1\" class=\"dataframe\">\n",
       "  <thead>\n",
       "    <tr style=\"text-align: right;\">\n",
       "      <th></th>\n",
       "      <th>PM_name</th>\n",
       "      <th>PM_DOB</th>\n",
       "      <th>PM_Term</th>\n",
       "      <th>PM_remark</th>\n",
       "    </tr>\n",
       "  </thead>\n",
       "  <tbody>\n",
       "    <tr>\n",
       "      <th>0</th>\n",
       "      <td>Inder Kumar Gujral</td>\n",
       "      <td>(1919–2012)</td>\n",
       "      <td>21 April 1997 to 19 March 1998</td>\n",
       "      <td>------</td>\n",
       "    </tr>\n",
       "  </tbody>\n",
       "</table>\n",
       "</div>"
      ],
      "text/plain": [
       "              PM_name       PM_DOB                          PM_Term PM_remark\n",
       "0  Inder Kumar Gujral  (1919–2012)  21 April 1997 to 19 March 1998     ------"
      ]
     },
     "execution_count": 1670,
     "metadata": {},
     "output_type": "execute_result"
    }
   ],
   "source": [
    "# Creating Data Frame for PM3\n",
    "\n",
    "PM15 = pd.DataFrame({})\n",
    "PM15[\"PM_name\"]=PM15_name\n",
    "PM15[\"PM_DOB\"]=PM15_DOB\n",
    "PM15[\"PM_Term\"]=PM15_Term\n",
    "PM15[\"PM_remark\"]=PM15_remark\n",
    "PM15"
   ]
  },
  {
   "cell_type": "code",
   "execution_count": 1671,
   "id": "18d139fa",
   "metadata": {},
   "outputs": [
    {
     "data": {
      "text/plain": [
       "['Atal Bihari Vajpayee']"
      ]
     },
     "execution_count": 1671,
     "metadata": {},
     "output_type": "execute_result"
    }
   ],
   "source": [
    "# Finding The Name of next PM\n",
    "\n",
    "name=driver.find_elements(By.XPATH,\"/html/body/div[1]/div[2]/div/div[2]/div/div[1]/div/div/div/div[4]/span/div[2]/table/tbody/tr[17]/td[2]/p/a/strong\")\n",
    "name\n",
    "\n",
    "PM16_name=[]\n",
    "for i in name:\n",
    "    names=i.text\n",
    "    PM16_name.append(names)\n",
    "PM16_name"
   ]
  },
  {
   "cell_type": "code",
   "execution_count": 1672,
   "id": "a3ee4301",
   "metadata": {},
   "outputs": [
    {
     "data": {
      "text/plain": [
       "['(1924-2018)']"
      ]
     },
     "execution_count": 1672,
     "metadata": {},
     "output_type": "execute_result"
    }
   ],
   "source": [
    "# Find DOB for next prime minister\n",
    "\n",
    "DOB=driver.find_elements(By.XPATH,\"/html/body/div[1]/div[2]/div/div[2]/div/div[1]/div/div/div/div[4]/span/div[2]/table/tbody/tr[17]/td[3]/p\")\n",
    "\n",
    "\n",
    "DOB\n",
    "\n",
    "PM16_DOB=[]\n",
    "for i in DOB:\n",
    "    DOBs=i.text\n",
    "    PM16_DOB.append(DOBs)\n",
    "PM16_DOB"
   ]
  },
  {
   "cell_type": "code",
   "execution_count": 1673,
   "id": "2f926783",
   "metadata": {},
   "outputs": [
    {
     "data": {
      "text/plain": [
       "['19 March 1998 to 22 May 2004 ']"
      ]
     },
     "execution_count": 1673,
     "metadata": {},
     "output_type": "execute_result"
    }
   ],
   "source": [
    "# Finding the Term of Office for next Pm\n",
    "    \n",
    "\n",
    "Term=driver.find_elements(By.XPATH,\"/html/body/div[1]/div[2]/div/div[2]/div/div[1]/div/div/div/div[4]/span/div[2]/table/tbody/tr[17]/td[4]/p[1]/span\")\n",
    "\n",
    "\n",
    "Term\n",
    "\n",
    "PM16_Term=[]\n",
    "for i in Term:\n",
    "    Terms=i.text\n",
    "    PM16_Term.append(Terms)\n",
    "PM16_Term"
   ]
  },
  {
   "cell_type": "code",
   "execution_count": 1674,
   "id": "a33a4cb7",
   "metadata": {},
   "outputs": [
    {
     "data": {
      "text/plain": [
       "[' The first non-congress PM who completed a full term as PM']"
      ]
     },
     "execution_count": 1674,
     "metadata": {},
     "output_type": "execute_result"
    }
   ],
   "source": [
    "# Finding the Remark for next PM\n",
    "    \n",
    "\n",
    "remark=driver.find_elements(By.XPATH,\"/html/body/div[1]/div[2]/div/div[2]/div/div[1]/div/div/div/div[4]/span/div[2]/table/tbody/tr[17]/td[5]/p\")\n",
    "\n",
    "\n",
    "remark\n",
    "\n",
    "PM16_remark=[]\n",
    "for i in remark:\n",
    "    remarks=i.text\n",
    "    PM16_remark.append(remarks)\n",
    "PM16_remark"
   ]
  },
  {
   "cell_type": "code",
   "execution_count": 1675,
   "id": "84e224da",
   "metadata": {},
   "outputs": [
    {
     "data": {
      "text/html": [
       "<div>\n",
       "<style scoped>\n",
       "    .dataframe tbody tr th:only-of-type {\n",
       "        vertical-align: middle;\n",
       "    }\n",
       "\n",
       "    .dataframe tbody tr th {\n",
       "        vertical-align: top;\n",
       "    }\n",
       "\n",
       "    .dataframe thead th {\n",
       "        text-align: right;\n",
       "    }\n",
       "</style>\n",
       "<table border=\"1\" class=\"dataframe\">\n",
       "  <thead>\n",
       "    <tr style=\"text-align: right;\">\n",
       "      <th></th>\n",
       "      <th>PM_name</th>\n",
       "      <th>PM_DOB</th>\n",
       "      <th>PM_Term</th>\n",
       "      <th>PM_remark</th>\n",
       "    </tr>\n",
       "  </thead>\n",
       "  <tbody>\n",
       "    <tr>\n",
       "      <th>0</th>\n",
       "      <td>Atal Bihari Vajpayee</td>\n",
       "      <td>(1924-2018)</td>\n",
       "      <td>19 March 1998 to 22 May 2004</td>\n",
       "      <td>The first non-congress PM who completed a ful...</td>\n",
       "    </tr>\n",
       "  </tbody>\n",
       "</table>\n",
       "</div>"
      ],
      "text/plain": [
       "                PM_name       PM_DOB                        PM_Term  \\\n",
       "0  Atal Bihari Vajpayee  (1924-2018)  19 March 1998 to 22 May 2004    \n",
       "\n",
       "                                           PM_remark  \n",
       "0   The first non-congress PM who completed a ful...  "
      ]
     },
     "execution_count": 1675,
     "metadata": {},
     "output_type": "execute_result"
    }
   ],
   "source": [
    "# Creating Data Frame for PM3\n",
    "\n",
    "PM16 = pd.DataFrame({})\n",
    "PM16[\"PM_name\"]=PM16_name\n",
    "PM16[\"PM_DOB\"]=PM16_DOB\n",
    "PM16[\"PM_Term\"]=PM16_Term\n",
    "PM16[\"PM_remark\"]=PM16_remark\n",
    "PM16"
   ]
  },
  {
   "cell_type": "code",
   "execution_count": 1676,
   "id": "d2723519",
   "metadata": {},
   "outputs": [
    {
     "data": {
      "text/plain": [
       "['Manmohan Singh']"
      ]
     },
     "execution_count": 1676,
     "metadata": {},
     "output_type": "execute_result"
    }
   ],
   "source": [
    "# Finding The Name of next PM\n",
    "\n",
    "name=driver.find_elements(By.XPATH,\"/html/body/div[1]/div[2]/div/div[2]/div/div[1]/div/div/div/div[4]/span/div[2]/table/tbody/tr[18]/td[2]/p/strong/a\")\n",
    "name\n",
    "\n",
    "PM17_name=[]\n",
    "for i in name:\n",
    "    names=i.text\n",
    "    PM17_name.append(names)\n",
    "PM17_name"
   ]
  },
  {
   "cell_type": "code",
   "execution_count": 1677,
   "id": "8d25be5b",
   "metadata": {},
   "outputs": [
    {
     "data": {
      "text/plain": [
       "['(born 1932)']"
      ]
     },
     "execution_count": 1677,
     "metadata": {},
     "output_type": "execute_result"
    }
   ],
   "source": [
    "# Find DOB for next prime minister\n",
    "\n",
    "DOB=driver.find_elements(By.XPATH,\"/html/body/div[1]/div[2]/div/div[2]/div/div[1]/div/div/div/div[4]/span/div[2]/table/tbody/tr[18]/td[3]/p\")\n",
    "\n",
    "\n",
    "DOB\n",
    "\n",
    "PM17_DOB=[]\n",
    "for i in DOB:\n",
    "    DOBs=i.text\n",
    "    PM17_DOB.append(DOBs)\n",
    "PM17_DOB"
   ]
  },
  {
   "cell_type": "code",
   "execution_count": 1678,
   "id": "bddf0dd0",
   "metadata": {},
   "outputs": [
    {
     "data": {
      "text/plain": [
       "['22 May 2004 to 26 May 2014   ']"
      ]
     },
     "execution_count": 1678,
     "metadata": {},
     "output_type": "execute_result"
    }
   ],
   "source": [
    "# Finding the Term of Office for next Pm\n",
    "    \n",
    "\n",
    "Term=driver.find_elements(By.XPATH,\"/html/body/div[1]/div[2]/div/div[2]/div/div[1]/div/div/div/div[4]/span/div[2]/table/tbody/tr[18]/td[4]/p[1]/span\")\n",
    "\n",
    "\n",
    "Term\n",
    "\n",
    "PM17_Term=[]\n",
    "for i in Term:\n",
    "    Terms=i.text\n",
    "    PM17_Term.append(Terms)\n",
    "PM17_Term"
   ]
  },
  {
   "cell_type": "code",
   "execution_count": 1679,
   "id": "79004f6f",
   "metadata": {},
   "outputs": [
    {
     "data": {
      "text/plain": [
       "[' First Sikh PM']"
      ]
     },
     "execution_count": 1679,
     "metadata": {},
     "output_type": "execute_result"
    }
   ],
   "source": [
    "# Finding the Remark for next PM\n",
    "    \n",
    "\n",
    "remark=driver.find_elements(By.XPATH,\"/html/body/div[1]/div[2]/div/div[2]/div/div[1]/div/div/div/div[4]/span/div[2]/table/tbody/tr[18]/td[5]/p\")\n",
    "\n",
    "\n",
    "remark\n",
    "\n",
    "PM17_remark=[]\n",
    "for i in remark:\n",
    "    remarks=i.text\n",
    "    PM17_remark.append(remarks)\n",
    "PM17_remark"
   ]
  },
  {
   "cell_type": "code",
   "execution_count": 1680,
   "id": "95a7c9dd",
   "metadata": {},
   "outputs": [
    {
     "data": {
      "text/html": [
       "<div>\n",
       "<style scoped>\n",
       "    .dataframe tbody tr th:only-of-type {\n",
       "        vertical-align: middle;\n",
       "    }\n",
       "\n",
       "    .dataframe tbody tr th {\n",
       "        vertical-align: top;\n",
       "    }\n",
       "\n",
       "    .dataframe thead th {\n",
       "        text-align: right;\n",
       "    }\n",
       "</style>\n",
       "<table border=\"1\" class=\"dataframe\">\n",
       "  <thead>\n",
       "    <tr style=\"text-align: right;\">\n",
       "      <th></th>\n",
       "      <th>PM_name</th>\n",
       "      <th>PM_DOB</th>\n",
       "      <th>PM_Term</th>\n",
       "      <th>PM_remark</th>\n",
       "    </tr>\n",
       "  </thead>\n",
       "  <tbody>\n",
       "    <tr>\n",
       "      <th>0</th>\n",
       "      <td>Manmohan Singh</td>\n",
       "      <td>(born 1932)</td>\n",
       "      <td>22 May 2004 to 26 May 2014</td>\n",
       "      <td>First Sikh PM</td>\n",
       "    </tr>\n",
       "  </tbody>\n",
       "</table>\n",
       "</div>"
      ],
      "text/plain": [
       "          PM_name       PM_DOB                        PM_Term       PM_remark\n",
       "0  Manmohan Singh  (born 1932)  22 May 2004 to 26 May 2014      First Sikh PM"
      ]
     },
     "execution_count": 1680,
     "metadata": {},
     "output_type": "execute_result"
    }
   ],
   "source": [
    "# Creating Data Frame for PM3\n",
    "\n",
    "PM17 = pd.DataFrame({})\n",
    "PM17[\"PM_name\"]=PM17_name\n",
    "PM17[\"PM_DOB\"]=PM17_DOB\n",
    "PM17[\"PM_Term\"]=PM17_Term\n",
    "PM17[\"PM_remark\"]=PM17_remark\n",
    "PM17"
   ]
  },
  {
   "cell_type": "code",
   "execution_count": 1681,
   "id": "2874d99a",
   "metadata": {},
   "outputs": [
    {
     "data": {
      "text/plain": [
       "['Narendra Modi']"
      ]
     },
     "execution_count": 1681,
     "metadata": {},
     "output_type": "execute_result"
    }
   ],
   "source": [
    "# Finding The Name of next PM\n",
    "\n",
    "name=driver.find_elements(By.XPATH,\"/html/body/div[1]/div[2]/div/div[2]/div/div[1]/div/div/div/div[4]/span/div[2]/table/tbody/tr[19]/td[2]/p/a/strong\")\n",
    "name\n",
    "\n",
    "PM18_name=[]\n",
    "for i in name:\n",
    "    names=i.text\n",
    "    PM18_name.append(names)\n",
    "PM18_name"
   ]
  },
  {
   "cell_type": "code",
   "execution_count": 1682,
   "id": "0f68b909",
   "metadata": {},
   "outputs": [
    {
     "data": {
      "text/plain": [
       "['(born 1950)']"
      ]
     },
     "execution_count": 1682,
     "metadata": {},
     "output_type": "execute_result"
    }
   ],
   "source": [
    "# Find DOB for next prime minister\n",
    "\n",
    "DOB=driver.find_elements(By.XPATH,\"/html/body/div[1]/div[2]/div/div[2]/div/div[1]/div/div/div/div[4]/span/div[2]/table/tbody/tr[19]/td[3]/p\")\n",
    "\n",
    "\n",
    "DOB\n",
    "\n",
    "PM18_DOB=[]\n",
    "for i in DOB:\n",
    "    DOBs=i.text\n",
    "    PM18_DOB.append(DOBs)\n",
    "PM18_DOB"
   ]
  },
  {
   "cell_type": "code",
   "execution_count": 1684,
   "id": "6c57b846",
   "metadata": {},
   "outputs": [
    {
     "data": {
      "text/plain": [
       "['26 May 2014 - Present']"
      ]
     },
     "execution_count": 1684,
     "metadata": {},
     "output_type": "execute_result"
    }
   ],
   "source": [
    "# Finding the Term of Office for next Pm\n",
    "    \n",
    "\n",
    "Term=driver.find_elements(By.XPATH,\"/html/body/div[1]/div[2]/div/div[2]/div/div[1]/div/div/div/div[4]/span/div[2]/table/tbody/tr[19]/td[4]/p\")\n",
    "\n",
    "\n",
    "Term\n",
    "\n",
    "PM18_Term=[]\n",
    "for i in Term:\n",
    "    Terms=i.text\n",
    "    PM18_Term.append(Terms)\n",
    "PM18_Term"
   ]
  },
  {
   "cell_type": "code",
   "execution_count": 1685,
   "id": "be1f8c51",
   "metadata": {},
   "outputs": [
    {
     "data": {
      "text/plain": [
       "['4th Prime Minister of India who served two consecutive tenures']"
      ]
     },
     "execution_count": 1685,
     "metadata": {},
     "output_type": "execute_result"
    }
   ],
   "source": [
    "# Finding the Remark for next PM\n",
    "    \n",
    "\n",
    "remark=driver.find_elements(By.XPATH,\"/html/body/div[1]/div[2]/div/div[2]/div/div[1]/div/div/div/div[4]/span/div[2]/table/tbody/tr[19]/td[5]/p\")\n",
    "\n",
    "\n",
    "remark\n",
    "\n",
    "PM18_remark=[]\n",
    "for i in remark:\n",
    "    remarks=i.text\n",
    "    PM18_remark.append(remarks)\n",
    "PM18_remark"
   ]
  },
  {
   "cell_type": "code",
   "execution_count": 1686,
   "id": "4f31a354",
   "metadata": {},
   "outputs": [
    {
     "data": {
      "text/html": [
       "<div>\n",
       "<style scoped>\n",
       "    .dataframe tbody tr th:only-of-type {\n",
       "        vertical-align: middle;\n",
       "    }\n",
       "\n",
       "    .dataframe tbody tr th {\n",
       "        vertical-align: top;\n",
       "    }\n",
       "\n",
       "    .dataframe thead th {\n",
       "        text-align: right;\n",
       "    }\n",
       "</style>\n",
       "<table border=\"1\" class=\"dataframe\">\n",
       "  <thead>\n",
       "    <tr style=\"text-align: right;\">\n",
       "      <th></th>\n",
       "      <th>PM_name</th>\n",
       "      <th>PM_DOB</th>\n",
       "      <th>PM_Term</th>\n",
       "      <th>PM_remark</th>\n",
       "    </tr>\n",
       "  </thead>\n",
       "  <tbody>\n",
       "    <tr>\n",
       "      <th>0</th>\n",
       "      <td>Narendra Modi</td>\n",
       "      <td>(born 1950)</td>\n",
       "      <td>26 May 2014 - Present</td>\n",
       "      <td>4th Prime Minister of India who served two con...</td>\n",
       "    </tr>\n",
       "  </tbody>\n",
       "</table>\n",
       "</div>"
      ],
      "text/plain": [
       "         PM_name       PM_DOB                PM_Term  \\\n",
       "0  Narendra Modi  (born 1950)  26 May 2014 - Present   \n",
       "\n",
       "                                           PM_remark  \n",
       "0  4th Prime Minister of India who served two con...  "
      ]
     },
     "execution_count": 1686,
     "metadata": {},
     "output_type": "execute_result"
    }
   ],
   "source": [
    "# Creating Data Frame for PM3\n",
    "\n",
    "PM18 = pd.DataFrame({})\n",
    "PM18[\"PM_name\"]=PM18_name\n",
    "PM18[\"PM_DOB\"]=PM18_DOB\n",
    "PM18[\"PM_Term\"]=PM18_Term\n",
    "PM18[\"PM_remark\"]=PM18_remark\n",
    "PM18"
   ]
  },
  {
   "cell_type": "code",
   "execution_count": 1689,
   "id": "b13db1dc",
   "metadata": {},
   "outputs": [
    {
     "data": {
      "text/html": [
       "<div>\n",
       "<style scoped>\n",
       "    .dataframe tbody tr th:only-of-type {\n",
       "        vertical-align: middle;\n",
       "    }\n",
       "\n",
       "    .dataframe tbody tr th {\n",
       "        vertical-align: top;\n",
       "    }\n",
       "\n",
       "    .dataframe thead th {\n",
       "        text-align: right;\n",
       "    }\n",
       "</style>\n",
       "<table border=\"1\" class=\"dataframe\">\n",
       "  <thead>\n",
       "    <tr style=\"text-align: right;\">\n",
       "      <th></th>\n",
       "      <th>PM_name</th>\n",
       "      <th>PM_DOB</th>\n",
       "      <th>PM_Term</th>\n",
       "      <th>PM_remark</th>\n",
       "    </tr>\n",
       "  </thead>\n",
       "  <tbody>\n",
       "    <tr>\n",
       "      <th>0</th>\n",
       "      <td>Jawahar Lal Nehru</td>\n",
       "      <td>(1889–1964)</td>\n",
       "      <td>15 August 1947 to 27 May 1964</td>\n",
       "      <td>The first prime minister of India and the long...</td>\n",
       "    </tr>\n",
       "    <tr>\n",
       "      <th>0</th>\n",
       "      <td>Gulzarilal Nanda (Acting)</td>\n",
       "      <td>(1898-1998)</td>\n",
       "      <td>27 May 1964 to 9 June 1964,</td>\n",
       "      <td>First acting PM of India</td>\n",
       "    </tr>\n",
       "    <tr>\n",
       "      <th>0</th>\n",
       "      <td>Lal Bahadur Shastri</td>\n",
       "      <td>(1904–1966)</td>\n",
       "      <td>9 June 1964 to 11 January 1966</td>\n",
       "      <td>He has given the slogan of 'Jai Jawan Jai Kisa...</td>\n",
       "    </tr>\n",
       "    <tr>\n",
       "      <th>0</th>\n",
       "      <td>Gulzari Lal Nanda  (Acting)</td>\n",
       "      <td>(1898-1998)</td>\n",
       "      <td>11 January 1966 to 24 January 1966</td>\n",
       "      <td>-</td>\n",
       "    </tr>\n",
       "    <tr>\n",
       "      <th>0</th>\n",
       "      <td>Indira Gandhi</td>\n",
       "      <td>(1917–1984)</td>\n",
       "      <td>24 January 1966 to 24 March 1977</td>\n",
       "      <td>First female Prime Minister of India</td>\n",
       "    </tr>\n",
       "    <tr>\n",
       "      <th>0</th>\n",
       "      <td>Morarji Desai</td>\n",
       "      <td>(1896–1995)</td>\n",
       "      <td>24 March 1977 to  28 July 1979</td>\n",
       "      <td>Oldest to become PM (81 years old) and first t...</td>\n",
       "    </tr>\n",
       "    <tr>\n",
       "      <th>0</th>\n",
       "      <td>Charan Singh</td>\n",
       "      <td>(1889–1964)</td>\n",
       "      <td>28 July 1979 to 14 January 1980</td>\n",
       "      <td>Only PM who did not face the Parliament</td>\n",
       "    </tr>\n",
       "    <tr>\n",
       "      <th>0</th>\n",
       "      <td>Indira Gandhi</td>\n",
       "      <td>(1917–1984)</td>\n",
       "      <td>14 January 1980 to 31 October 1984</td>\n",
       "      <td>The first lady who served as PM for the second...</td>\n",
       "    </tr>\n",
       "    <tr>\n",
       "      <th>0</th>\n",
       "      <td>Rajiv Gandhi</td>\n",
       "      <td>(1944–1991)</td>\n",
       "      <td>31 October 1984 to 2 December 1989</td>\n",
       "      <td>Youngest to become PM (40 years old)</td>\n",
       "    </tr>\n",
       "    <tr>\n",
       "      <th>0</th>\n",
       "      <td>V. P. Singh</td>\n",
       "      <td>(1931–2008)</td>\n",
       "      <td>2 December 1989 to 10 November 1990</td>\n",
       "      <td>First PM to step down after a vote of no confi...</td>\n",
       "    </tr>\n",
       "    <tr>\n",
       "      <th>0</th>\n",
       "      <td>Chandra Shekhar</td>\n",
       "      <td>(1927–2007)</td>\n",
       "      <td>10 November 1990 to 21 June 1991</td>\n",
       "      <td>He belongs to  Samajwadi Janata Party</td>\n",
       "    </tr>\n",
       "    <tr>\n",
       "      <th>0</th>\n",
       "      <td>P. V. Narasimha Rao</td>\n",
       "      <td>(1921–2004)</td>\n",
       "      <td>16 May 1996 to 1 June 1996</td>\n",
       "      <td>First PM from south India</td>\n",
       "    </tr>\n",
       "    <tr>\n",
       "      <th>0</th>\n",
       "      <td>Atal Bihari Vajpayee</td>\n",
       "      <td>(1924- 2018)</td>\n",
       "      <td>16 May 1996 to 1 June 1996</td>\n",
       "      <td>PM for shortest tenure</td>\n",
       "    </tr>\n",
       "    <tr>\n",
       "      <th>0</th>\n",
       "      <td>H. D. Deve Gowda</td>\n",
       "      <td>(born 1933)</td>\n",
       "      <td>1 June 1996 to 21 April 1997</td>\n",
       "      <td>He belongs to  Janata Dal</td>\n",
       "    </tr>\n",
       "    <tr>\n",
       "      <th>0</th>\n",
       "      <td>Inder Kumar Gujral</td>\n",
       "      <td>(1919–2012)</td>\n",
       "      <td>21 April 1997 to 19 March 1998</td>\n",
       "      <td>------</td>\n",
       "    </tr>\n",
       "    <tr>\n",
       "      <th>0</th>\n",
       "      <td>Atal Bihari Vajpayee</td>\n",
       "      <td>(1924-2018)</td>\n",
       "      <td>19 March 1998 to 22 May 2004</td>\n",
       "      <td>The first non-congress PM who completed a ful...</td>\n",
       "    </tr>\n",
       "    <tr>\n",
       "      <th>0</th>\n",
       "      <td>Manmohan Singh</td>\n",
       "      <td>(born 1932)</td>\n",
       "      <td>22 May 2004 to 26 May 2014</td>\n",
       "      <td>First Sikh PM</td>\n",
       "    </tr>\n",
       "    <tr>\n",
       "      <th>0</th>\n",
       "      <td>Narendra Modi</td>\n",
       "      <td>(born 1950)</td>\n",
       "      <td>26 May 2014 - Present</td>\n",
       "      <td>4th Prime Minister of India who served two con...</td>\n",
       "    </tr>\n",
       "  </tbody>\n",
       "</table>\n",
       "</div>"
      ],
      "text/plain": [
       "                       PM_name        PM_DOB  \\\n",
       "0            Jawahar Lal Nehru   (1889–1964)   \n",
       "0    Gulzarilal Nanda (Acting)   (1898-1998)   \n",
       "0          Lal Bahadur Shastri   (1904–1966)   \n",
       "0  Gulzari Lal Nanda  (Acting)   (1898-1998)   \n",
       "0                Indira Gandhi   (1917–1984)   \n",
       "0                Morarji Desai   (1896–1995)   \n",
       "0                 Charan Singh   (1889–1964)   \n",
       "0                Indira Gandhi   (1917–1984)   \n",
       "0                 Rajiv Gandhi   (1944–1991)   \n",
       "0                  V. P. Singh   (1931–2008)   \n",
       "0              Chandra Shekhar   (1927–2007)   \n",
       "0          P. V. Narasimha Rao   (1921–2004)   \n",
       "0         Atal Bihari Vajpayee  (1924- 2018)   \n",
       "0             H. D. Deve Gowda   (born 1933)   \n",
       "0           Inder Kumar Gujral   (1919–2012)   \n",
       "0         Atal Bihari Vajpayee   (1924-2018)   \n",
       "0               Manmohan Singh   (born 1932)   \n",
       "0                Narendra Modi   (born 1950)   \n",
       "\n",
       "                               PM_Term  \\\n",
       "0        15 August 1947 to 27 May 1964   \n",
       "0          27 May 1964 to 9 June 1964,   \n",
       "0       9 June 1964 to 11 January 1966   \n",
       "0   11 January 1966 to 24 January 1966   \n",
       "0     24 January 1966 to 24 March 1977   \n",
       "0      24 March 1977 to  28 July 1979    \n",
       "0      28 July 1979 to 14 January 1980   \n",
       "0   14 January 1980 to 31 October 1984   \n",
       "0   31 October 1984 to 2 December 1989   \n",
       "0  2 December 1989 to 10 November 1990   \n",
       "0     10 November 1990 to 21 June 1991   \n",
       "0           16 May 1996 to 1 June 1996   \n",
       "0           16 May 1996 to 1 June 1996   \n",
       "0         1 June 1996 to 21 April 1997   \n",
       "0      21 April 1997 to 19 March 1998    \n",
       "0        19 March 1998 to 22 May 2004    \n",
       "0        22 May 2004 to 26 May 2014      \n",
       "0                26 May 2014 - Present   \n",
       "\n",
       "                                           PM_remark  \n",
       "0  The first prime minister of India and the long...  \n",
       "0                           First acting PM of India  \n",
       "0  He has given the slogan of 'Jai Jawan Jai Kisa...  \n",
       "0                                                  -  \n",
       "0               First female Prime Minister of India  \n",
       "0  Oldest to become PM (81 years old) and first t...  \n",
       "0            Only PM who did not face the Parliament  \n",
       "0  The first lady who served as PM for the second...  \n",
       "0               Youngest to become PM (40 years old)  \n",
       "0  First PM to step down after a vote of no confi...  \n",
       "0              He belongs to  Samajwadi Janata Party  \n",
       "0                          First PM from south India  \n",
       "0                             PM for shortest tenure  \n",
       "0                          He belongs to  Janata Dal  \n",
       "0                                             ------  \n",
       "0   The first non-congress PM who completed a ful...  \n",
       "0                                      First Sikh PM  \n",
       "0  4th Prime Minister of India who served two con...  "
      ]
     },
     "execution_count": 1689,
     "metadata": {},
     "output_type": "execute_result"
    }
   ],
   "source": [
    "# Complete list of PM's\n",
    "Complete_List_PM =pd.concat([PM1,PM2,PM3,PM4,PM5,PM6,PM7,PM8,PM9,PM10,PM11,PM12,PM13,PM14,PM15,PM16,PM17,PM18])\n",
    "Complete_List_PM "
   ]
  },
  {
   "cell_type": "markdown",
   "id": "499ff14b",
   "metadata": {},
   "source": [
    "# Q10: Write a python program to display list of 50 Most expensive cars in the world (i.e. Car name and Price) from https://www.motor1.com/\n"
   ]
  },
  {
   "cell_type": "code",
   "execution_count": 1710,
   "id": "0839cb2d",
   "metadata": {},
   "outputs": [],
   "source": [
    "# Let's first connect\n",
    "\n",
    "driver=webdriver.Chrome(r\"/Users/asiya/Desktop/chromedriver\\ 4\\\\chromedriver.exe\")"
   ]
  },
  {
   "cell_type": "code",
   "execution_count": 1714,
   "id": "ce33e957",
   "metadata": {},
   "outputs": [],
   "source": [
    "driver.get(\"https://www.motor1.com/\")"
   ]
  },
  {
   "cell_type": "code",
   "execution_count": 1717,
   "id": "e72799dd",
   "metadata": {},
   "outputs": [],
   "source": [
    "# Searching for the menu Option\n",
    "menu=driver.find_element(By.XPATH,\"/html/body/div[3]/div[2]/div/div/div[1]/div/span[2]\")\n",
    "menu.click()"
   ]
  },
  {
   "cell_type": "code",
   "execution_count": 1719,
   "id": "4a41c2d8",
   "metadata": {},
   "outputs": [],
   "source": [
    "List=driver.find_element(By.XPATH,\"/html/body/div[4]/div[1]/div[3]/ul/li[6]/ul/li[1]/a\")\n",
    "List.click()"
   ]
  },
  {
   "cell_type": "code",
   "execution_count": 1720,
   "id": "de62549d",
   "metadata": {},
   "outputs": [],
   "source": [
    "# Searching for the List Option\n",
    "\n",
    "List=driver.find_element(By.XPATH,\"/html/body/div[3]/div[9]/div[1]/div[1]/div/div/div[9]/div/div[1]/h3/a\")\n",
    "List.click()\n"
   ]
  },
  {
   "cell_type": "code",
   "execution_count": 1737,
   "id": "559f65b7",
   "metadata": {},
   "outputs": [
    {
     "data": {
      "text/plain": [
       "[<selenium.webdriver.remote.webelement.WebElement (session=\"eb2eb7c0b7e0f717de85b7c3e6a00743\", element=\"43a686ba-186a-4f9d-9f6b-5d8f6d146a4a\")>,\n",
       " <selenium.webdriver.remote.webelement.WebElement (session=\"eb2eb7c0b7e0f717de85b7c3e6a00743\", element=\"589b2e6d-6d83-4e11-bc72-fdfb88bd7d3b\")>]"
      ]
     },
     "execution_count": 1737,
     "metadata": {},
     "output_type": "execute_result"
    }
   ],
   "source": [
    "# Finding The Car Name\n",
    "\n",
    "name=driver.find_elements(By.XPATH,\"//h3[@class='subheader']\")\n",
    "\n",
    "\n",
    "name[0:2]"
   ]
  },
  {
   "cell_type": "code",
   "execution_count": 1749,
   "id": "c935377a",
   "metadata": {},
   "outputs": [
    {
     "data": {
      "text/plain": [
       "[]"
      ]
     },
     "execution_count": 1749,
     "metadata": {},
     "output_type": "execute_result"
    }
   ],
   "source": [
    "name=[]\n",
    "for i in name:\n",
    "    name=i.text\n",
    "    names.append(names)\n",
    "name[0:2]"
   ]
  },
  {
   "cell_type": "code",
   "execution_count": 1750,
   "id": "d7fe9970",
   "metadata": {},
   "outputs": [
    {
     "data": {
      "text/plain": [
       "[]"
      ]
     },
     "execution_count": 1750,
     "metadata": {},
     "output_type": "execute_result"
    }
   ],
   "source": [
    "\n",
    "name=driver.find_elements(By.XPATH,\"/html/body/div[3]/div[7]/div[2]/div[1]/div[2]/div[1]/h3[1]/a\")\n",
    "\n",
    "name=[]\n",
    "for i in name:\n",
    "    name=i.text\n",
    "    names.append(names)\n",
    "name[0:2]"
   ]
  },
  {
   "cell_type": "code",
   "execution_count": 1751,
   "id": "949b483a",
   "metadata": {},
   "outputs": [],
   "source": [
    "# Unable to pull details using xpath or class. Ticket Raised and was asked to skip the question."
   ]
  },
  {
   "cell_type": "code",
   "execution_count": null,
   "id": "af77f1f8",
   "metadata": {},
   "outputs": [],
   "source": []
  }
 ],
 "metadata": {
  "kernelspec": {
   "display_name": "Python 3 (ipykernel)",
   "language": "python",
   "name": "python3"
  },
  "language_info": {
   "codemirror_mode": {
    "name": "ipython",
    "version": 3
   },
   "file_extension": ".py",
   "mimetype": "text/x-python",
   "name": "python",
   "nbconvert_exporter": "python",
   "pygments_lexer": "ipython3",
   "version": "3.9.12"
  }
 },
 "nbformat": 4,
 "nbformat_minor": 5
}
