{
 "cells": [
  {
   "cell_type": "code",
   "execution_count": 1276,
   "id": "1d82eb1f",
   "metadata": {},
   "outputs": [],
   "source": [
    "# Importing the libraries\n",
    "\n",
    "import selenium\n",
    "import pandas as pd\n",
    "from selenium import webdriver\n",
    "import warnings\n",
    "warnings.filterwarnings('ignore')\n",
    "from selenium.common.exceptions import StaleElementReferenceException,NoSuchElementException\n",
    "from selenium.webdriver.common.by import By\n",
    "import time"
   ]
  },
  {
   "cell_type": "code",
   "execution_count": 1277,
   "id": "d3cc2de0",
   "metadata": {},
   "outputs": [],
   "source": [
    "# Let's first connect\n",
    "\n",
    "driver=webdriver.Chrome(r\"/Users/asiya/Desktop/chromedriver\\ 4\\\\chromedriver.exe\")"
   ]
  },
  {
   "cell_type": "markdown",
   "id": "c1142191",
   "metadata": {},
   "source": [
    "# 1) Write a python program which searches all the product under a particular product from www.amazon.in.\n",
    "The product to be searched will be taken as input from user. For e.g. If user input is ‘guitar’. Then search for guitars.\n",
    "\n",
    "2) In the above question, now scrape the following details of each product listed in first 3 pages of your\n",
    "search results and save it in a data frame and csv. In case if any product has less than 3 pages in search results then scrape all the products available under that product name. Details to be scraped are: \"Brand Name\", \"Name of the Product\", \"Price\", \"Return/Exchange\", \"Expected Delivery\", \"Availability\" and “Product URL”. In case, if any of the details are missing for any of the product then replace it by “-“."
   ]
  },
  {
   "cell_type": "code",
   "execution_count": 1278,
   "id": "7d988708",
   "metadata": {},
   "outputs": [],
   "source": [
    "driver.get(\"https://www.amazon.in/\")"
   ]
  },
  {
   "cell_type": "code",
   "execution_count": 1279,
   "id": "25c321b9",
   "metadata": {},
   "outputs": [],
   "source": [
    "from selenium.common.exceptions import ElementNotInteractableException"
   ]
  },
  {
   "cell_type": "code",
   "execution_count": 1284,
   "id": "b98303cc",
   "metadata": {},
   "outputs": [
    {
     "name": "stdout",
     "output_type": "stream",
     "text": [
      "Enter the product you want to search : guitar\n"
     ]
    }
   ],
   "source": [
    "# search the user input product\n",
    "search_bar = driver.find_element(By.ID,\"twotabsearchtextbox\")    \n",
    "search_bar.clear()                                               \n",
    "search_bar.send_keys(input('Enter the product you want to search : '))\n",
    "time.sleep(3)\n",
    "driver.find_element(By.XPATH,'//div[@class=\"nav-search-submit nav-sprite\"]/span/input').click() \n"
   ]
  },
  {
   "cell_type": "code",
   "execution_count": 32,
   "id": "ccaf622f",
   "metadata": {},
   "outputs": [
    {
     "data": {
      "text/plain": [
       "[<selenium.webdriver.remote.webelement.WebElement (session=\"4ceb5404ac41bb92a8b7d96954227283\", element=\"f8db552b-4791-4ce1-993b-1144241dc080\")>,\n",
       " <selenium.webdriver.remote.webelement.WebElement (session=\"4ceb5404ac41bb92a8b7d96954227283\", element=\"4d044700-e868-49ff-990a-3a5d9a4b3f08\")>]"
      ]
     },
     "execution_count": 32,
     "metadata": {},
     "output_type": "execute_result"
    }
   ],
   "source": [
    "# Finding the name\n",
    "\n",
    "name=driver.find_elements(By.XPATH,'//span[@class=\"a-size-base-plus a-color-base a-text-normal\"]')\n",
    "name[:2]"
   ]
  },
  {
   "cell_type": "code",
   "execution_count": 33,
   "id": "63addea3",
   "metadata": {},
   "outputs": [
    {
     "data": {
      "text/plain": [
       "['Kadence Frontier guitar with Online Guitar learning course , Wine Red Acoustic Guitar with Die Cast Keys, Set of Strings, Strap, Picks and Bag (Wine Red, Acoustic)',\n",
       " 'Kadence rosewood Guitar Frontier Series, Electric Acoustic Black Guitar With EQ, Die Cast Keys, Set Of Strings, Strap, Picks And Bag (Black EQ, Electric Acoustic)',\n",
       " 'Kadence Slowhand Premium Jumbo Semi Acoustic Guitar with Heavy Padded Bag, guitar cable, Pro Capo (Black Spruce Wood)',\n",
       " 'Medellin 38\" Acoustic Guitar premium wood with adjustable Truss-rod, free online learning course, Set Of Strings, Strap, Bag and 3 Picks (Black Truss Rod)']"
      ]
     },
     "execution_count": 33,
     "metadata": {},
     "output_type": "execute_result"
    }
   ],
   "source": [
    "pname=[]\n",
    "for i in name:\n",
    "    title=i.text\n",
    "    pname.append(title)\n",
    "pname[0:4]"
   ]
  },
  {
   "cell_type": "code",
   "execution_count": 37,
   "id": "f8860fb7",
   "metadata": {},
   "outputs": [
    {
     "data": {
      "text/plain": [
       "[<selenium.webdriver.remote.webelement.WebElement (session=\"4ceb5404ac41bb92a8b7d96954227283\", element=\"026e2c87-4bdd-4304-973e-78c59a7d949c\")>,\n",
       " <selenium.webdriver.remote.webelement.WebElement (session=\"4ceb5404ac41bb92a8b7d96954227283\", element=\"8dfe1f61-6ff8-4511-8699-a0cb64b8e818\")>]"
      ]
     },
     "execution_count": 37,
     "metadata": {},
     "output_type": "execute_result"
    }
   ],
   "source": [
    "# Finding the Availability\n",
    "avail=driver.find_elements(By.XPATH,\"//span[@class='a-badge-label-inner a-text-ellipsis']\")\n",
    "avail[:2]"
   ]
  },
  {
   "cell_type": "code",
   "execution_count": 38,
   "id": "4b5aa26b",
   "metadata": {},
   "outputs": [
    {
     "data": {
      "text/plain": [
       "['Deal of the Day',\n",
       " 'Best seller',\n",
       " 'Deal of the Day',\n",
       " 'Deal of the Day',\n",
       " 'Best seller',\n",
       " 'Limited time deal',\n",
       " \"Amazon's Choice\",\n",
       " '',\n",
       " 'Best seller',\n",
       " 'Deal of the Day',\n",
       " 'Limited time deal',\n",
       " 'Deal of the Day',\n",
       " 'Limited time deal',\n",
       " 'Limited time deal',\n",
       " 'Limited time deal',\n",
       " 'Limited time deal',\n",
       " 'Best seller',\n",
       " 'Deal of the Day',\n",
       " 'Limited time deal',\n",
       " 'Best seller',\n",
       " 'Deal of the Day',\n",
       " 'Best seller',\n",
       " 'Deal of the Day']"
      ]
     },
     "execution_count": 38,
     "metadata": {},
     "output_type": "execute_result"
    }
   ],
   "source": [
    "# Finding the Availability\n",
    "availability=[]\n",
    "for i in avail:\n",
    "    title1=i.text\n",
    "    availability.append(title1)\n",
    "availability"
   ]
  },
  {
   "cell_type": "code",
   "execution_count": 39,
   "id": "eedcbafb",
   "metadata": {},
   "outputs": [
    {
     "data": {
      "text/plain": [
       "[<selenium.webdriver.remote.webelement.WebElement (session=\"4ceb5404ac41bb92a8b7d96954227283\", element=\"abc3fa04-f79e-43f1-a818-1a453355e90f\")>,\n",
       " <selenium.webdriver.remote.webelement.WebElement (session=\"4ceb5404ac41bb92a8b7d96954227283\", element=\"7e02595d-d50c-4117-b698-62982b29d240\")>]"
      ]
     },
     "execution_count": 39,
     "metadata": {},
     "output_type": "execute_result"
    }
   ],
   "source": [
    "# Finding the price\n",
    "pri=driver.find_elements(By.XPATH,\"//span[@class='a-price-whole']\")\n",
    "pri[:2]"
   ]
  },
  {
   "cell_type": "code",
   "execution_count": 40,
   "id": "a6c71804",
   "metadata": {},
   "outputs": [
    {
     "data": {
      "text/plain": [
       "['4,799', '5,199', '14,999', '2,199']"
      ]
     },
     "execution_count": 40,
     "metadata": {},
     "output_type": "execute_result"
    }
   ],
   "source": [
    "\n",
    "price=[]\n",
    "for i in pri:\n",
    "    title1=i.text\n",
    "    price.append(title1)\n",
    "price[0:4]"
   ]
  },
  {
   "cell_type": "code",
   "execution_count": 41,
   "id": "2e95b579",
   "metadata": {},
   "outputs": [
    {
     "data": {
      "text/plain": [
       "[<selenium.webdriver.remote.webelement.WebElement (session=\"4ceb5404ac41bb92a8b7d96954227283\", element=\"a935f31b-cea7-4b44-b146-5849a9a355e5\")>,\n",
       " <selenium.webdriver.remote.webelement.WebElement (session=\"4ceb5404ac41bb92a8b7d96954227283\", element=\"66cdc20d-be49-4331-a21d-d9549ab5d5ad\")>]"
      ]
     },
     "execution_count": 41,
     "metadata": {},
     "output_type": "execute_result"
    }
   ],
   "source": [
    "# Finding the expected delivery\n",
    "ex_del=driver.find_elements(By.XPATH,\"//span[@class='a-color-base a-text-bold']\")\n",
    "ex_del[:2]"
   ]
  },
  {
   "cell_type": "code",
   "execution_count": 42,
   "id": "8c5087ba",
   "metadata": {},
   "outputs": [
    {
     "data": {
      "text/plain": [
       "['Wednesday, January 25',\n",
       " 'Tomorrow, January 24',\n",
       " 'Tomorrow, January 24',\n",
       " 'Wednesday, January 25']"
      ]
     },
     "execution_count": 42,
     "metadata": {},
     "output_type": "execute_result"
    }
   ],
   "source": [
    "expected_delivery=[]\n",
    "for i in ex_del:\n",
    "    title1=i.text\n",
    "    expected_delivery.append(title1)\n",
    "expected_delivery[0:4]"
   ]
  },
  {
   "cell_type": "code",
   "execution_count": 43,
   "id": "c36faadf",
   "metadata": {},
   "outputs": [
    {
     "data": {
      "text/plain": [
       "['https://www.amazon.in/sspa/click?ie=UTF8&spc=MTo0OTIyMjg5Mjc3MDA3NjQ6MTY3NDQ4MTg0NzpzcF9hdGY6MjAwNjE2MjA2OTYyMDQ6OjA6Og&url=%2FKadence-Frontier-Acoustic-Guitar-Strings%2Fdp%2FB01GDZ46AA%2Fref%3Dsr_1_1_sspa%3Fcrid%3D171AZDOZQCX8J%26keywords%3Dguitar%26qid%3D1674481847%26sprefix%3Dguitar%252Caps%252C488%26sr%3D8-1-spons%26sp_csd%3Dd2lkZ2V0TmFtZT1zcF9hdGY%26psc%3D1',\n",
       " 'https://www.amazon.in/sspa/click?ie=UTF8&spc=MTo0OTIyMjg5Mjc3MDA3NjQ6MTY3NDQ4MTg0NzpzcF9hdGY6MjAwNjE1OTg0OTYzMDQ6OjA6Og&url=%2FKadence-Frontier-Acoustic-Guitar-Strings%2Fdp%2FB078GTJP5Y%2Fref%3Dsr_1_2_sspa%3Fcrid%3D171AZDOZQCX8J%26keywords%3Dguitar%26qid%3D1674481847%26sprefix%3Dguitar%252Caps%252C488%26sr%3D8-2-spons%26sp_csd%3Dd2lkZ2V0TmFtZT1zcF9hdGY%26psc%3D1%26smid%3DAM04Z7MH4HSDD',\n",
       " 'https://www.amazon.in/sspa/click?ie=UTF8&spc=MTo0OTIyMjg5Mjc3MDA3NjQ6MTY3NDQ4MTg0NzpzcF9hdGY6MjAwNTcxOTMwNTYyMDQ6OjA6Og&url=%2FKadence-Slowhand-Premium-Acoustic-Instrument%2Fdp%2FB077SZ667X%2Fref%3Dsr_1_3_sspa%3Fcrid%3D171AZDOZQCX8J%26keywords%3Dguitar%26qid%3D1674481847%26sprefix%3Dguitar%252Caps%252C488%26sr%3D8-3-spons%26sp_csd%3Dd2lkZ2V0TmFtZT1zcF9hdGY%26psc%3D1',\n",
       " 'https://www.amazon.in/sspa/click?ie=UTF8&spc=MTo0OTIyMjg5Mjc3MDA3NjQ6MTY3NDQ4MTg0NzpzcF9hdGY6MjAxMDI4NDExNjQ1OTg6OjA6Og&url=%2FMedellin-Acoustic-adjustable-Truss-rod-learning%2Fdp%2FB0BMKHTNX1%2Fref%3Dsr_1_4_sspa%3Fcrid%3D171AZDOZQCX8J%26keywords%3Dguitar%26qid%3D1674481847%26sprefix%3Dguitar%252Caps%252C488%26sr%3D8-4-spons%26sp_csd%3Dd2lkZ2V0TmFtZT1zcF9hdGY%26psc%3D1']"
      ]
     },
     "execution_count": 43,
     "metadata": {},
     "output_type": "execute_result"
    }
   ],
   "source": [
    "# Finding the Urls\n",
    "\n",
    "url=driver.find_elements(By.XPATH,\"//a[@class='a-link-normal s-no-outline']\")\n",
    "urls=[]\n",
    "for i in url:\n",
    "    link = i.get_attribute('href')\n",
    "    urls.append(link)\n",
    "urls[:4]"
   ]
  },
  {
   "cell_type": "code",
   "execution_count": 62,
   "id": "83921139",
   "metadata": {},
   "outputs": [
    {
     "data": {
      "text/plain": [
       "(64, 64, 64, 64, 64)"
      ]
     },
     "execution_count": 62,
     "metadata": {},
     "output_type": "execute_result"
    }
   ],
   "source": [
    "len(urls),len(expected_delivery),len(price),len(availability),len(pname)"
   ]
  },
  {
   "cell_type": "code",
   "execution_count": 59,
   "id": "0a3d9800",
   "metadata": {},
   "outputs": [],
   "source": [
    "# As lenghth was not equal and had missing values so used the -\n",
    "expected_delivery.extend([\"-\",\"-\",\"-\",\"-\",\"-\"])"
   ]
  },
  {
   "cell_type": "code",
   "execution_count": 61,
   "id": "6b15afd0",
   "metadata": {},
   "outputs": [],
   "source": [
    "# Did this to make the length equal\n",
    "\n",
    "del expected_delivery[64:]\n",
    "\n",
    "del availability[64:]\n",
    "                "
   ]
  },
  {
   "cell_type": "code",
   "execution_count": 46,
   "id": "94185730",
   "metadata": {},
   "outputs": [],
   "source": [
    "del price[-1]\n",
    "\n"
   ]
  },
  {
   "cell_type": "code",
   "execution_count": 58,
   "id": "18ac8fad",
   "metadata": {},
   "outputs": [
    {
     "data": {
      "text/html": [
       "<div>\n",
       "<style scoped>\n",
       "    .dataframe tbody tr th:only-of-type {\n",
       "        vertical-align: middle;\n",
       "    }\n",
       "\n",
       "    .dataframe tbody tr th {\n",
       "        vertical-align: top;\n",
       "    }\n",
       "\n",
       "    .dataframe thead th {\n",
       "        text-align: right;\n",
       "    }\n",
       "</style>\n",
       "<table border=\"1\" class=\"dataframe\">\n",
       "  <thead>\n",
       "    <tr style=\"text-align: right;\">\n",
       "      <th></th>\n",
       "      <th>productname</th>\n",
       "      <th>availability</th>\n",
       "      <th>price</th>\n",
       "      <th>expected_delivery</th>\n",
       "      <th>urls</th>\n",
       "    </tr>\n",
       "  </thead>\n",
       "  <tbody>\n",
       "    <tr>\n",
       "      <th>0</th>\n",
       "      <td>Kadence Frontier guitar with Online Guitar lea...</td>\n",
       "      <td>Deal of the Day</td>\n",
       "      <td>4,799</td>\n",
       "      <td>Wednesday, January 25</td>\n",
       "      <td>https://www.amazon.in/sspa/click?ie=UTF8&amp;spc=M...</td>\n",
       "    </tr>\n",
       "    <tr>\n",
       "      <th>1</th>\n",
       "      <td>Kadence rosewood Guitar Frontier Series, Elect...</td>\n",
       "      <td>Best seller</td>\n",
       "      <td>5,199</td>\n",
       "      <td>Tomorrow, January 24</td>\n",
       "      <td>https://www.amazon.in/sspa/click?ie=UTF8&amp;spc=M...</td>\n",
       "    </tr>\n",
       "    <tr>\n",
       "      <th>2</th>\n",
       "      <td>Kadence Slowhand Premium Jumbo Semi Acoustic G...</td>\n",
       "      <td>Deal of the Day</td>\n",
       "      <td>14,999</td>\n",
       "      <td>Tomorrow, January 24</td>\n",
       "      <td>https://www.amazon.in/sspa/click?ie=UTF8&amp;spc=M...</td>\n",
       "    </tr>\n",
       "    <tr>\n",
       "      <th>3</th>\n",
       "      <td>Medellin 38\" Acoustic Guitar premium wood with...</td>\n",
       "      <td>Deal of the Day</td>\n",
       "      <td>2,199</td>\n",
       "      <td>Wednesday, January 25</td>\n",
       "      <td>https://www.amazon.in/sspa/click?ie=UTF8&amp;spc=M...</td>\n",
       "    </tr>\n",
       "    <tr>\n",
       "      <th>4</th>\n",
       "      <td>Juârez Acoustic Guitar, 38 Inch Cutaway, 038C ...</td>\n",
       "      <td>Best seller</td>\n",
       "      <td>2,148</td>\n",
       "      <td>Saturday, January 28</td>\n",
       "      <td>https://www.amazon.in/Juarez-Acoustic-Cutaway-...</td>\n",
       "    </tr>\n",
       "  </tbody>\n",
       "</table>\n",
       "</div>"
      ],
      "text/plain": [
       "                                         productname     availability   price  \\\n",
       "0  Kadence Frontier guitar with Online Guitar lea...  Deal of the Day   4,799   \n",
       "1  Kadence rosewood Guitar Frontier Series, Elect...      Best seller   5,199   \n",
       "2  Kadence Slowhand Premium Jumbo Semi Acoustic G...  Deal of the Day  14,999   \n",
       "3  Medellin 38\" Acoustic Guitar premium wood with...  Deal of the Day   2,199   \n",
       "4  Juârez Acoustic Guitar, 38 Inch Cutaway, 038C ...      Best seller   2,148   \n",
       "\n",
       "       expected_delivery                                               urls  \n",
       "0  Wednesday, January 25  https://www.amazon.in/sspa/click?ie=UTF8&spc=M...  \n",
       "1   Tomorrow, January 24  https://www.amazon.in/sspa/click?ie=UTF8&spc=M...  \n",
       "2   Tomorrow, January 24  https://www.amazon.in/sspa/click?ie=UTF8&spc=M...  \n",
       "3  Wednesday, January 25  https://www.amazon.in/sspa/click?ie=UTF8&spc=M...  \n",
       "4   Saturday, January 28  https://www.amazon.in/Juarez-Acoustic-Cutaway-...  "
      ]
     },
     "execution_count": 58,
     "metadata": {},
     "output_type": "execute_result"
    }
   ],
   "source": [
    "# Create a Data Frame\n",
    "\n",
    "page1 = pd.DataFrame({})\n",
    "page1[\"productname\"] = pname\n",
    "page1[\"availability\"]=availability\n",
    "page1[\"price\"]= price\n",
    "page1[\"expected_delivery\"]=expected_delivery\n",
    "page1[\"urls\"]=urls\n",
    "page1.head()"
   ]
  },
  {
   "cell_type": "code",
   "execution_count": 118,
   "id": "d87b2805",
   "metadata": {},
   "outputs": [],
   "source": [
    "# Page 2\n",
    "\n",
    "next_button=driver.find_element(By.XPATH,\"/html/body/div[1]/div[2]/div[1]/div[1]/div/span[1]/div[1]/div[66]/div/div/span/a[3]\")\n",
    "next_button.click()"
   ]
  },
  {
   "cell_type": "code",
   "execution_count": 76,
   "id": "ad59eaae",
   "metadata": {},
   "outputs": [
    {
     "data": {
      "text/plain": [
       "[<selenium.webdriver.remote.webelement.WebElement (session=\"2bc2609b03f718b8f80a0336d1f57f35\", element=\"837e929b-21fa-4039-8a3f-2a80494df49e\")>,\n",
       " <selenium.webdriver.remote.webelement.WebElement (session=\"2bc2609b03f718b8f80a0336d1f57f35\", element=\"af5230fd-c6d6-4fba-8eed-09b4edb4377c\")>]"
      ]
     },
     "execution_count": 76,
     "metadata": {},
     "output_type": "execute_result"
    }
   ],
   "source": [
    "# Finding the Name from page 2\n",
    "name2=driver.find_elements(By.XPATH,\"//div[@class='a-section a-spacing-none a-spacing-top-small s-title-instructions-style']\")\n",
    "name2[:2]"
   ]
  },
  {
   "cell_type": "code",
   "execution_count": 77,
   "id": "fc124140",
   "metadata": {},
   "outputs": [
    {
     "data": {
      "text/plain": [
       "['Sponsored\\nGUITAR BRO - COMBO (Blue Acoustic Guitar for Beginner, Guitar Learning Kit, Song Book, Video Lectures, Accessories like Pick, Bag)',\n",
       " 'Sponsored\\nVault DA40 41 Inch Premium Solid Spruce-Top Dreadnought Acoustic Guitar With Allen Key',\n",
       " 'Yamaha C-40 Fullsized Classic Guitar With Gloss Finish',\n",
       " 'Medellin MDCF38BK Carbon Fiber Acoustic Guitar With Handrest, Set Of Strings, Strap, Bag, 3 Picks, Capo, Guitar Wall Hanging Stand (Matt, Sunburst)']"
      ]
     },
     "execution_count": 77,
     "metadata": {},
     "output_type": "execute_result"
    }
   ],
   "source": [
    "pname2=[]\n",
    "for i in name2:\n",
    "    title=i.text\n",
    "    pname2.append(title)\n",
    "pname2[0:4]"
   ]
  },
  {
   "cell_type": "code",
   "execution_count": 79,
   "id": "e8cc41f1",
   "metadata": {},
   "outputs": [
    {
     "data": {
      "text/plain": [
       "[<selenium.webdriver.remote.webelement.WebElement (session=\"2bc2609b03f718b8f80a0336d1f57f35\", element=\"ed21e587-d490-47e4-a117-c1d42d57043f\")>,\n",
       " <selenium.webdriver.remote.webelement.WebElement (session=\"2bc2609b03f718b8f80a0336d1f57f35\", element=\"16135248-45d7-4196-8676-c0d96f6a0880\")>]"
      ]
     },
     "execution_count": 79,
     "metadata": {},
     "output_type": "execute_result"
    }
   ],
   "source": [
    "# Finding availabilty from page 2\n",
    "avail=driver.find_elements(By.XPATH,\"//span[@class='a-badge-label-inner a-text-ellipsis']\")\n",
    "avail[:2]"
   ]
  },
  {
   "cell_type": "code",
   "execution_count": 80,
   "id": "118354e4",
   "metadata": {},
   "outputs": [
    {
     "data": {
      "text/plain": [
       "['Deal of the Day',\n",
       " 'Deal of the Day',\n",
       " 'Deal of the Day',\n",
       " 'Deal of the Day',\n",
       " 'Limited time deal',\n",
       " 'Limited time deal',\n",
       " 'Best seller',\n",
       " 'Deal of the Day']"
      ]
     },
     "execution_count": 80,
     "metadata": {},
     "output_type": "execute_result"
    }
   ],
   "source": [
    "availability=[]\n",
    "for i in avail:\n",
    "    title1=i.text\n",
    "    availability.append(title1)\n",
    "availability"
   ]
  },
  {
   "cell_type": "code",
   "execution_count": 82,
   "id": "5703d7a0",
   "metadata": {},
   "outputs": [
    {
     "data": {
      "text/plain": [
       "[<selenium.webdriver.remote.webelement.WebElement (session=\"2bc2609b03f718b8f80a0336d1f57f35\", element=\"52d561ad-6672-4d0e-b8d9-ec5c94c62c0e\")>,\n",
       " <selenium.webdriver.remote.webelement.WebElement (session=\"2bc2609b03f718b8f80a0336d1f57f35\", element=\"66023759-893c-4783-8602-69d0b228f1b8\")>]"
      ]
     },
     "execution_count": 82,
     "metadata": {},
     "output_type": "execute_result"
    }
   ],
   "source": [
    "# Finding the price details from page 2\n",
    "pri=driver.find_elements(By.XPATH,\"//span[@class='a-price-whole']\")\n",
    "pri[:2]"
   ]
  },
  {
   "cell_type": "code",
   "execution_count": 83,
   "id": "c4b20c3c",
   "metadata": {},
   "outputs": [
    {
     "data": {
      "text/plain": [
       "['8,999', '6,582', '7,590', '2,199']"
      ]
     },
     "execution_count": 83,
     "metadata": {},
     "output_type": "execute_result"
    }
   ],
   "source": [
    "price=[]\n",
    "for i in pri:\n",
    "    title1=i.text\n",
    "    price.append(title1)\n",
    "price[0:4]"
   ]
  },
  {
   "cell_type": "code",
   "execution_count": 84,
   "id": "5c6e05ea",
   "metadata": {},
   "outputs": [
    {
     "data": {
      "text/plain": [
       "[<selenium.webdriver.remote.webelement.WebElement (session=\"2bc2609b03f718b8f80a0336d1f57f35\", element=\"e1dc37c4-5b62-4b82-acf7-0bf28984f526\")>,\n",
       " <selenium.webdriver.remote.webelement.WebElement (session=\"2bc2609b03f718b8f80a0336d1f57f35\", element=\"fa74a452-b846-4f08-b4f0-b85e3aee3df6\")>]"
      ]
     },
     "execution_count": 84,
     "metadata": {},
     "output_type": "execute_result"
    }
   ],
   "source": [
    "# Finding expected delivery from page 2\n",
    "\n",
    "ex_del=driver.find_elements(By.XPATH,\"//span[@class='a-color-base a-text-bold']\")\n",
    "ex_del[:2]"
   ]
  },
  {
   "cell_type": "code",
   "execution_count": 85,
   "id": "2ca3d6c6",
   "metadata": {},
   "outputs": [
    {
     "data": {
      "text/plain": [
       "['Friday, January 27',\n",
       " 'Tuesday, January 31',\n",
       " 'Friday, January 27',\n",
       " 'Thursday, January 26']"
      ]
     },
     "execution_count": 85,
     "metadata": {},
     "output_type": "execute_result"
    }
   ],
   "source": [
    "expected_delivery=[]\n",
    "for i in ex_del:\n",
    "    title1=i.text\n",
    "    expected_delivery.append(title1)\n",
    "expected_delivery[0:4]"
   ]
  },
  {
   "cell_type": "code",
   "execution_count": 87,
   "id": "4a7ec9ed",
   "metadata": {},
   "outputs": [
    {
     "data": {
      "text/plain": [
       "['https://www.amazon.in/sspa/click?ie=UTF8&spc=MTo4ODk2NjI3Mzc5NjE0OTA2OjE2NzQ0ODk0MzI6c3BfYXRmX25leHQ6MjAwNDkxMjkxMzYzMDE6OjA6Og&url=%2FGUITAR-BRO-Acoustic-Beginner-Accessories%2Fdp%2FB07TC7TWCR%2Fref%3Dsr_1_49_sspa%3Fcrid%3D14J8ULR7PVUNV%26keywords%3Dguitar%26qid%3D1674489432%26sprefix%3Dguitar%252Caps%252C485%26sr%3D8-49-spons%26sp_csd%3Dd2lkZ2V0TmFtZT1zcF9hdGZfbmV4dA%26psc%3D1',\n",
       " 'https://www.amazon.in/sspa/click?ie=UTF8&spc=MTo4ODk2NjI3Mzc5NjE0OTA2OjE2NzQ0ODk0MzI6c3BfYXRmX25leHQ6MjAwOTI2MjQwMjE0OTg6OjA6Og&url=%2FPremium-Spruce-Top-Dreadnought-Acoustic-Guitar%2Fdp%2FB0BJK1CWSN%2Fref%3Dsr_1_50_sspa%3Fcrid%3D14J8ULR7PVUNV%26keywords%3Dguitar%26qid%3D1674489432%26sprefix%3Dguitar%252Caps%252C485%26sr%3D8-50-spons%26sp_csd%3Dd2lkZ2V0TmFtZT1zcF9hdGZfbmV4dA%26psc%3D1',\n",
       " 'https://www.amazon.in/Yamaha-Fullsized-Classic-Guitar-Finish/dp/B005B6EZ36/ref=sr_1_51?crid=14J8ULR7PVUNV&keywords=guitar&qid=1674489432&sprefix=guitar%2Caps%2C485&sr=8-51',\n",
       " 'https://www.amazon.in/Medellin-Acoustic-specailized-learning-beginners/dp/B09MSGN39M/ref=sr_1_52?crid=14J8ULR7PVUNV&keywords=guitar&qid=1674489432&sprefix=guitar%2Caps%2C485&sr=8-52']"
      ]
     },
     "execution_count": 87,
     "metadata": {},
     "output_type": "execute_result"
    }
   ],
   "source": [
    "# Finding the url from page 2\n",
    "\n",
    "url=driver.find_elements(By.XPATH,\"//a[@class='a-link-normal s-no-outline']\")\n",
    "urls=[]\n",
    "for i in url:\n",
    "    link = i.get_attribute('href')\n",
    "    urls.append(link)\n",
    "urls[:4]\n"
   ]
  },
  {
   "cell_type": "code",
   "execution_count": 106,
   "id": "cd1bf0af",
   "metadata": {},
   "outputs": [
    {
     "data": {
      "text/plain": [
       "(64, 64, 64, 64, 64)"
      ]
     },
     "execution_count": 106,
     "metadata": {},
     "output_type": "execute_result"
    }
   ],
   "source": [
    "# Check the len to check for any null value\n",
    "\n",
    "len(urls),len(expected_delivery),len(price),len(availability),len(pname2)"
   ]
  },
  {
   "cell_type": "code",
   "execution_count": 95,
   "id": "3931254e",
   "metadata": {},
   "outputs": [],
   "source": [
    "urls.extend([\"-\",\"-\",\"-\",\"-\",\"-\",\"-\",\"-\",\"-\",\"-\",\"-\"])"
   ]
  },
  {
   "cell_type": "code",
   "execution_count": 97,
   "id": "e04e32a9",
   "metadata": {},
   "outputs": [],
   "source": [
    "urls.extend([\"-\",\"-\",\"-\",\"-\"])"
   ]
  },
  {
   "cell_type": "code",
   "execution_count": 100,
   "id": "7d22e0c4",
   "metadata": {},
   "outputs": [],
   "source": [
    "expected_delivery.extend([\"-\",\"-\",\"-\",\"-\",\"-\",\"-\",\"-\",\"-\",\"-\",\"-\",\"-\",\"-\",\"-\"])\n"
   ]
  },
  {
   "cell_type": "code",
   "execution_count": 102,
   "id": "6faf6ee0",
   "metadata": {},
   "outputs": [],
   "source": [
    "price.extend([\"-\",\"-\",\"-\",\"-\",\"-\",\"-\",\"-\",\"-\",\"-\",\"-\",\"-\",\"-\"])"
   ]
  },
  {
   "cell_type": "code",
   "execution_count": 104,
   "id": "25ab7c32",
   "metadata": {},
   "outputs": [],
   "source": [
    "# Did this to make the length equallen(urls).extend([\"-\",\n",
    "\n",
    "del availability[64:]\n",
    "\n",
    "\n",
    "                "
   ]
  },
  {
   "cell_type": "code",
   "execution_count": 105,
   "id": "b4a29405",
   "metadata": {},
   "outputs": [],
   "source": [
    "pname2.extend([\"-\",\"-\",\"-\",\"-\",\"-\",\"-\",\"-\",\"-\",\"-\",\"-\",\"-\",\"-\",\"-\",\"-\"])"
   ]
  },
  {
   "cell_type": "code",
   "execution_count": 107,
   "id": "599ede13",
   "metadata": {},
   "outputs": [
    {
     "data": {
      "text/html": [
       "<div>\n",
       "<style scoped>\n",
       "    .dataframe tbody tr th:only-of-type {\n",
       "        vertical-align: middle;\n",
       "    }\n",
       "\n",
       "    .dataframe tbody tr th {\n",
       "        vertical-align: top;\n",
       "    }\n",
       "\n",
       "    .dataframe thead th {\n",
       "        text-align: right;\n",
       "    }\n",
       "</style>\n",
       "<table border=\"1\" class=\"dataframe\">\n",
       "  <thead>\n",
       "    <tr style=\"text-align: right;\">\n",
       "      <th></th>\n",
       "      <th>productname</th>\n",
       "      <th>availability</th>\n",
       "      <th>price</th>\n",
       "      <th>expected_delivery</th>\n",
       "      <th>urls</th>\n",
       "    </tr>\n",
       "  </thead>\n",
       "  <tbody>\n",
       "    <tr>\n",
       "      <th>0</th>\n",
       "      <td>Sponsored\\nGUITAR BRO - COMBO (Blue Acoustic G...</td>\n",
       "      <td>Deal of the Day</td>\n",
       "      <td>8,999</td>\n",
       "      <td>Friday, January 27</td>\n",
       "      <td>https://www.amazon.in/sspa/click?ie=UTF8&amp;spc=M...</td>\n",
       "    </tr>\n",
       "    <tr>\n",
       "      <th>1</th>\n",
       "      <td>Sponsored\\nVault DA40 41 Inch Premium Solid Sp...</td>\n",
       "      <td>Deal of the Day</td>\n",
       "      <td>6,582</td>\n",
       "      <td>Tuesday, January 31</td>\n",
       "      <td>https://www.amazon.in/sspa/click?ie=UTF8&amp;spc=M...</td>\n",
       "    </tr>\n",
       "    <tr>\n",
       "      <th>2</th>\n",
       "      <td>Yamaha C-40 Fullsized Classic Guitar With Glos...</td>\n",
       "      <td>Deal of the Day</td>\n",
       "      <td>7,590</td>\n",
       "      <td>Friday, January 27</td>\n",
       "      <td>https://www.amazon.in/Yamaha-Fullsized-Classic...</td>\n",
       "    </tr>\n",
       "    <tr>\n",
       "      <th>3</th>\n",
       "      <td>Medellin MDCF38BK Carbon Fiber Acoustic Guitar...</td>\n",
       "      <td>Deal of the Day</td>\n",
       "      <td>2,199</td>\n",
       "      <td>Thursday, January 26</td>\n",
       "      <td>https://www.amazon.in/Medellin-Acoustic-specai...</td>\n",
       "    </tr>\n",
       "    <tr>\n",
       "      <th>4</th>\n",
       "      <td>Henrix 38C 38 Inch Cutaway Acoustic Guitar Wit...</td>\n",
       "      <td>Limited time deal</td>\n",
       "      <td>2,658</td>\n",
       "      <td>Wednesday, January 25</td>\n",
       "      <td>https://www.amazon.in/Henrix-Acoustic-Guitar-D...</td>\n",
       "    </tr>\n",
       "  </tbody>\n",
       "</table>\n",
       "</div>"
      ],
      "text/plain": [
       "                                         productname       availability  \\\n",
       "0  Sponsored\\nGUITAR BRO - COMBO (Blue Acoustic G...    Deal of the Day   \n",
       "1  Sponsored\\nVault DA40 41 Inch Premium Solid Sp...    Deal of the Day   \n",
       "2  Yamaha C-40 Fullsized Classic Guitar With Glos...    Deal of the Day   \n",
       "3  Medellin MDCF38BK Carbon Fiber Acoustic Guitar...    Deal of the Day   \n",
       "4  Henrix 38C 38 Inch Cutaway Acoustic Guitar Wit...  Limited time deal   \n",
       "\n",
       "   price      expected_delivery  \\\n",
       "0  8,999     Friday, January 27   \n",
       "1  6,582    Tuesday, January 31   \n",
       "2  7,590     Friday, January 27   \n",
       "3  2,199   Thursday, January 26   \n",
       "4  2,658  Wednesday, January 25   \n",
       "\n",
       "                                                urls  \n",
       "0  https://www.amazon.in/sspa/click?ie=UTF8&spc=M...  \n",
       "1  https://www.amazon.in/sspa/click?ie=UTF8&spc=M...  \n",
       "2  https://www.amazon.in/Yamaha-Fullsized-Classic...  \n",
       "3  https://www.amazon.in/Medellin-Acoustic-specai...  \n",
       "4  https://www.amazon.in/Henrix-Acoustic-Guitar-D...  "
      ]
     },
     "execution_count": 107,
     "metadata": {},
     "output_type": "execute_result"
    }
   ],
   "source": [
    "# Creating a Data Frame\n",
    "page2 = pd.DataFrame({})\n",
    "page2[\"productname\"] = pname2\n",
    "page2[\"availability\"]=availability\n",
    "page2[\"price\"]= price\n",
    "page2[\"expected_delivery\"]=expected_delivery\n",
    "page2[\"urls\"]=urls\n",
    "page2.head()"
   ]
  },
  {
   "cell_type": "code",
   "execution_count": 121,
   "id": "3490404b",
   "metadata": {},
   "outputs": [],
   "source": [
    "# Page 3\n",
    "\n",
    "next_button=driver.find_element(By.XPATH,\"/html/body/div[1]/div[2]/div[1]/div[1]/div/span[1]/div[1]/div[55]/div/div/span/a[4]\")\n",
    "next_button.click()"
   ]
  },
  {
   "cell_type": "code",
   "execution_count": 122,
   "id": "8de51979",
   "metadata": {},
   "outputs": [
    {
     "data": {
      "text/plain": [
       "[<selenium.webdriver.remote.webelement.WebElement (session=\"f548e4ce72a18a6ba273881ecdd316ef\", element=\"851b3e89-5ede-42af-bf81-7b1e4a9842cf\")>,\n",
       " <selenium.webdriver.remote.webelement.WebElement (session=\"f548e4ce72a18a6ba273881ecdd316ef\", element=\"9b979d38-afe7-444b-863a-9b4f45b87da3\")>]"
      ]
     },
     "execution_count": 122,
     "metadata": {},
     "output_type": "execute_result"
    }
   ],
   "source": [
    "# Finding name from page 3\n",
    "\n",
    "name3=driver.find_elements(By.XPATH,\"//div[@class='a-section a-spacing-none a-spacing-top-small s-title-instructions-style']\")\n",
    "name3[:2]"
   ]
  },
  {
   "cell_type": "code",
   "execution_count": 123,
   "id": "a69cfc73",
   "metadata": {},
   "outputs": [
    {
     "data": {
      "text/plain": [
       "['JUAREZ JRZ41C 41 Inch ACOUSTIC GUITAR WITH ACC (3TS SUNBURST)',\n",
       " 'Epiphone DR-100 Acoustic Guitar, Vintage Sunburst',\n",
       " 'Orangewood 6 String Acoustic Guitar, Right, Spruce (OW-DANA-S)',\n",
       " 'Juârez JRZ38C/VTS 6 Strings Acoustic Guitar 38 Inch Cutaway, Right Handed, Violet/Purple with Bag, Strings, Picks and Strap']"
      ]
     },
     "execution_count": 123,
     "metadata": {},
     "output_type": "execute_result"
    }
   ],
   "source": [
    "pname3=[]\n",
    "for i in name3:\n",
    "    title=i.text\n",
    "    pname3.append(title)\n",
    "pname3[0:4]"
   ]
  },
  {
   "cell_type": "code",
   "execution_count": 124,
   "id": "c8de1b3f",
   "metadata": {},
   "outputs": [
    {
     "data": {
      "text/plain": [
       "[<selenium.webdriver.remote.webelement.WebElement (session=\"f548e4ce72a18a6ba273881ecdd316ef\", element=\"899882a0-ab16-45db-aaff-b1436982bca0\")>,\n",
       " <selenium.webdriver.remote.webelement.WebElement (session=\"f548e4ce72a18a6ba273881ecdd316ef\", element=\"895495e8-dcc2-44f6-ac53-6917b35c7ddb\")>]"
      ]
     },
     "execution_count": 124,
     "metadata": {},
     "output_type": "execute_result"
    }
   ],
   "source": [
    "# Finding availibility from page \n",
    "\n",
    "avail=driver.find_elements(By.XPATH,\"//span[@class='a-badge-label-inner a-text-ellipsis']\")\n",
    "avail[:2]"
   ]
  },
  {
   "cell_type": "code",
   "execution_count": 125,
   "id": "436b956a",
   "metadata": {},
   "outputs": [
    {
     "data": {
      "text/plain": [
       "['Limited time deal',\n",
       " 'Deal of the Day',\n",
       " 'Limited time deal',\n",
       " 'Deal of the Day',\n",
       " 'Deal of the Day',\n",
       " 'Deal of the Day',\n",
       " 'Limited time deal',\n",
       " 'Limited time deal',\n",
       " 'Deal of the Day',\n",
       " 'Deal of the Day']"
      ]
     },
     "execution_count": 125,
     "metadata": {},
     "output_type": "execute_result"
    }
   ],
   "source": [
    "availability=[]\n",
    "for i in avail:\n",
    "    title1=i.text\n",
    "    availability.append(title1)\n",
    "availability"
   ]
  },
  {
   "cell_type": "code",
   "execution_count": 126,
   "id": "41fd88a7",
   "metadata": {},
   "outputs": [
    {
     "data": {
      "text/plain": [
       "[<selenium.webdriver.remote.webelement.WebElement (session=\"f548e4ce72a18a6ba273881ecdd316ef\", element=\"711bf6c6-43d6-4d91-9cdb-da62ef84e5df\")>,\n",
       " <selenium.webdriver.remote.webelement.WebElement (session=\"f548e4ce72a18a6ba273881ecdd316ef\", element=\"b1a998ab-e8cb-4297-a289-d74d676aefcd\")>]"
      ]
     },
     "execution_count": 126,
     "metadata": {},
     "output_type": "execute_result"
    }
   ],
   "source": [
    "# Finding price from page 3\n",
    "\n",
    "pri=driver.find_elements(By.XPATH,\"//span[@class='a-price-whole']\")\n",
    "pri[:2]"
   ]
  },
  {
   "cell_type": "code",
   "execution_count": 127,
   "id": "139b04ce",
   "metadata": {},
   "outputs": [
    {
     "data": {
      "text/plain": [
       "['4,336', '15,200', '12,999', '3,484']"
      ]
     },
     "execution_count": 127,
     "metadata": {},
     "output_type": "execute_result"
    }
   ],
   "source": [
    "price=[]\n",
    "for i in pri:\n",
    "    title1=i.text\n",
    "    price.append(title1)\n",
    "price[0:4]"
   ]
  },
  {
   "cell_type": "code",
   "execution_count": 128,
   "id": "303a5805",
   "metadata": {},
   "outputs": [
    {
     "data": {
      "text/plain": [
       "[<selenium.webdriver.remote.webelement.WebElement (session=\"f548e4ce72a18a6ba273881ecdd316ef\", element=\"a258f190-5263-4efb-93ae-1fc35ebf0e8f\")>,\n",
       " <selenium.webdriver.remote.webelement.WebElement (session=\"f548e4ce72a18a6ba273881ecdd316ef\", element=\"fb139cda-c59f-49eb-9b33-24da9095bdf3\")>]"
      ]
     },
     "execution_count": 128,
     "metadata": {},
     "output_type": "execute_result"
    }
   ],
   "source": [
    "# Finding expected delivery\n",
    "\n",
    "ex_del=driver.find_elements_by_xpath(\"//span[@class='a-color-base a-text-bold']\")\n",
    "ex_del[:2]"
   ]
  },
  {
   "cell_type": "code",
   "execution_count": 129,
   "id": "052a0d97",
   "metadata": {},
   "outputs": [
    {
     "data": {
      "text/plain": [
       "['Tomorrow, January 24',\n",
       " 'Thursday, January 26',\n",
       " 'Wednesday, January 25',\n",
       " 'Saturday, January 28']"
      ]
     },
     "execution_count": 129,
     "metadata": {},
     "output_type": "execute_result"
    }
   ],
   "source": [
    "expected_delivery=[]\n",
    "for i in ex_del:\n",
    "    title1=i.text\n",
    "    expected_delivery.append(title1)\n",
    "expected_delivery[0:4]"
   ]
  },
  {
   "cell_type": "code",
   "execution_count": 130,
   "id": "9d17fb33",
   "metadata": {},
   "outputs": [
    {
     "data": {
      "text/plain": [
       "['https://www.amazon.in/JUAREZ-JRZ41C-ACOUSTIC-GUITAR-SUNBURST/dp/B07X1XQC4Z/ref=sr_1_97?crid=3O80PLAWPCNEQ&keywords=guitar&qid=1674491656&sprefix=guitar%2Caps%2C514&sr=8-97',\n",
       " 'https://www.amazon.in/Epiphone-DR-100-Acoustic-Vintage-Sunburst/dp/B0002F7IV2/ref=sr_1_98?crid=3O80PLAWPCNEQ&keywords=guitar&qid=1674491656&sprefix=guitar%2Caps%2C514&sr=8-98',\n",
       " 'https://www.amazon.in/Orangewood-Acoustic-Earthwood-Strings-Included/dp/B07BN8WJN5/ref=sr_1_99?crid=3O80PLAWPCNEQ&keywords=guitar&qid=1674491656&sprefix=guitar%2Caps%2C514&sr=8-99',\n",
       " 'https://www.amazon.in/JRZ38C-VTS-Strings-Acoustic-Cutaway/dp/B072MFLQC9/ref=sr_1_100?crid=3O80PLAWPCNEQ&keywords=guitar&qid=1674491656&sprefix=guitar%2Caps%2C514&sr=8-100']"
      ]
     },
     "execution_count": 130,
     "metadata": {},
     "output_type": "execute_result"
    }
   ],
   "source": [
    "# Finding url from page 3\n",
    "\n",
    "url=driver.find_elements(By.XPATH,\"//a[@class='a-link-normal s-no-outline']\")\n",
    "urls=[]\n",
    "for i in url:\n",
    "    link = i.get_attribute('href')\n",
    "    urls.append(link)\n",
    "urls[:4]"
   ]
  },
  {
   "cell_type": "code",
   "execution_count": 143,
   "id": "2268b0e7",
   "metadata": {},
   "outputs": [
    {
     "data": {
      "text/plain": [
       "(64, 64, 64, 64, 64)"
      ]
     },
     "execution_count": 143,
     "metadata": {},
     "output_type": "execute_result"
    }
   ],
   "source": [
    "len(urls),len(expected_delivery),len(price),len(availability),len(pname2)"
   ]
  },
  {
   "cell_type": "code",
   "execution_count": 132,
   "id": "900d2146",
   "metadata": {},
   "outputs": [],
   "source": [
    "urls.extend([\"-\",\"-\",\"-\",\"-\",\"-\",\"-\",\"-\",\"-\",\"-\",\"-\",\"-\",\"-\",\"-\",\"-\",\"-\",\"-\"])"
   ]
  },
  {
   "cell_type": "code",
   "execution_count": 134,
   "id": "b5f263d5",
   "metadata": {},
   "outputs": [],
   "source": [
    "expected_delivery.extend([\"-\",\"-\",\"-\",\"-\",\"-\",\"-\",\"-\",\"-\",\"-\",\"-\",\"-\"])"
   ]
  },
  {
   "cell_type": "code",
   "execution_count": 136,
   "id": "74baec13",
   "metadata": {},
   "outputs": [],
   "source": [
    "price.extend([\"-\",\"-\",\"-\",\"-\",\"-\",\"-\",\"-\",\"-\",\"-\",\"-\",\"-\",\"-\",\"-\",\"-\",\"-\"])"
   ]
  },
  {
   "cell_type": "code",
   "execution_count": 140,
   "id": "dfd6d5a5",
   "metadata": {},
   "outputs": [],
   "source": [
    "availability.extend([\"-\",\"-\",\"-\",\"-\",\"-\",\"-\",\"-\",\"-\",\"-\",\"-\",\"-\",\"-\",\"-\",\"-\",\"-\",\"-\",\"-\",\"-\",\"-\",\"-\",\"-\",\"-\",\"-\",\"-\",\"-\",\"-\",\"-\",\"-\",\"-\",\"-\",\"-\",\"-\",\"-\",\"-\",\"-\",\"-\",\"-\",\"-\",\"-\",\"-\",\"-\",\"-\",\"-\",\"-\",\"-\",\"-\",\"-\",\"-\",\"-\",\"-\",\"-\",\"-\"])"
   ]
  },
  {
   "cell_type": "code",
   "execution_count": 142,
   "id": "71f32c86",
   "metadata": {},
   "outputs": [],
   "source": [
    "availability.extend([\"-\"])"
   ]
  },
  {
   "cell_type": "code",
   "execution_count": 144,
   "id": "2eae1c65",
   "metadata": {},
   "outputs": [
    {
     "data": {
      "text/html": [
       "<div>\n",
       "<style scoped>\n",
       "    .dataframe tbody tr th:only-of-type {\n",
       "        vertical-align: middle;\n",
       "    }\n",
       "\n",
       "    .dataframe tbody tr th {\n",
       "        vertical-align: top;\n",
       "    }\n",
       "\n",
       "    .dataframe thead th {\n",
       "        text-align: right;\n",
       "    }\n",
       "</style>\n",
       "<table border=\"1\" class=\"dataframe\">\n",
       "  <thead>\n",
       "    <tr style=\"text-align: right;\">\n",
       "      <th></th>\n",
       "      <th>productname</th>\n",
       "      <th>availability</th>\n",
       "      <th>price</th>\n",
       "      <th>expected_delivery</th>\n",
       "      <th>urls</th>\n",
       "    </tr>\n",
       "  </thead>\n",
       "  <tbody>\n",
       "    <tr>\n",
       "      <th>0</th>\n",
       "      <td>Sponsored\\nGUITAR BRO - COMBO (Blue Acoustic G...</td>\n",
       "      <td>Limited time deal</td>\n",
       "      <td>4,336</td>\n",
       "      <td>Tomorrow, January 24</td>\n",
       "      <td>https://www.amazon.in/JUAREZ-JRZ41C-ACOUSTIC-G...</td>\n",
       "    </tr>\n",
       "    <tr>\n",
       "      <th>1</th>\n",
       "      <td>Sponsored\\nVault DA40 41 Inch Premium Solid Sp...</td>\n",
       "      <td>Deal of the Day</td>\n",
       "      <td>15,200</td>\n",
       "      <td>Thursday, January 26</td>\n",
       "      <td>https://www.amazon.in/Epiphone-DR-100-Acoustic...</td>\n",
       "    </tr>\n",
       "    <tr>\n",
       "      <th>2</th>\n",
       "      <td>Yamaha C-40 Fullsized Classic Guitar With Glos...</td>\n",
       "      <td>Limited time deal</td>\n",
       "      <td>12,999</td>\n",
       "      <td>Wednesday, January 25</td>\n",
       "      <td>https://www.amazon.in/Orangewood-Acoustic-Eart...</td>\n",
       "    </tr>\n",
       "    <tr>\n",
       "      <th>3</th>\n",
       "      <td>Medellin MDCF38BK Carbon Fiber Acoustic Guitar...</td>\n",
       "      <td>Deal of the Day</td>\n",
       "      <td>3,484</td>\n",
       "      <td>Saturday, January 28</td>\n",
       "      <td>https://www.amazon.in/JRZ38C-VTS-Strings-Acous...</td>\n",
       "    </tr>\n",
       "    <tr>\n",
       "      <th>4</th>\n",
       "      <td>Henrix 38C 38 Inch Cutaway Acoustic Guitar Wit...</td>\n",
       "      <td>Deal of the Day</td>\n",
       "      <td>18,908</td>\n",
       "      <td>Wednesday, January 25</td>\n",
       "      <td>https://www.amazon.in/Fender-FA125CE-Spruce-Se...</td>\n",
       "    </tr>\n",
       "  </tbody>\n",
       "</table>\n",
       "</div>"
      ],
      "text/plain": [
       "                                         productname       availability  \\\n",
       "0  Sponsored\\nGUITAR BRO - COMBO (Blue Acoustic G...  Limited time deal   \n",
       "1  Sponsored\\nVault DA40 41 Inch Premium Solid Sp...    Deal of the Day   \n",
       "2  Yamaha C-40 Fullsized Classic Guitar With Glos...  Limited time deal   \n",
       "3  Medellin MDCF38BK Carbon Fiber Acoustic Guitar...    Deal of the Day   \n",
       "4  Henrix 38C 38 Inch Cutaway Acoustic Guitar Wit...    Deal of the Day   \n",
       "\n",
       "    price      expected_delivery  \\\n",
       "0   4,336   Tomorrow, January 24   \n",
       "1  15,200   Thursday, January 26   \n",
       "2  12,999  Wednesday, January 25   \n",
       "3   3,484   Saturday, January 28   \n",
       "4  18,908  Wednesday, January 25   \n",
       "\n",
       "                                                urls  \n",
       "0  https://www.amazon.in/JUAREZ-JRZ41C-ACOUSTIC-G...  \n",
       "1  https://www.amazon.in/Epiphone-DR-100-Acoustic...  \n",
       "2  https://www.amazon.in/Orangewood-Acoustic-Eart...  \n",
       "3  https://www.amazon.in/JRZ38C-VTS-Strings-Acous...  \n",
       "4  https://www.amazon.in/Fender-FA125CE-Spruce-Se...  "
      ]
     },
     "execution_count": 144,
     "metadata": {},
     "output_type": "execute_result"
    }
   ],
   "source": [
    "# Creating Data Frame for page 3\n",
    "\n",
    "page3 = pd.DataFrame({})\n",
    "page3[\"productname\"] = pname2\n",
    "page3[\"availability\"]=availability\n",
    "page3[\"price\"]= price\n",
    "page3[\"expected_delivery\"]=expected_delivery\n",
    "page3[\"urls\"]=urls\n",
    "page3.head()"
   ]
  },
  {
   "cell_type": "code",
   "execution_count": 148,
   "id": "19a064bb",
   "metadata": {},
   "outputs": [
    {
     "data": {
      "text/html": [
       "<div>\n",
       "<style scoped>\n",
       "    .dataframe tbody tr th:only-of-type {\n",
       "        vertical-align: middle;\n",
       "    }\n",
       "\n",
       "    .dataframe tbody tr th {\n",
       "        vertical-align: top;\n",
       "    }\n",
       "\n",
       "    .dataframe thead th {\n",
       "        text-align: right;\n",
       "    }\n",
       "</style>\n",
       "<table border=\"1\" class=\"dataframe\">\n",
       "  <thead>\n",
       "    <tr style=\"text-align: right;\">\n",
       "      <th></th>\n",
       "      <th>productname</th>\n",
       "      <th>availability</th>\n",
       "      <th>price</th>\n",
       "      <th>expected_delivery</th>\n",
       "      <th>urls</th>\n",
       "    </tr>\n",
       "  </thead>\n",
       "  <tbody>\n",
       "    <tr>\n",
       "      <th>0</th>\n",
       "      <td>Kadence Frontier guitar with Online Guitar lea...</td>\n",
       "      <td>Deal of the Day</td>\n",
       "      <td>4,799</td>\n",
       "      <td>Wednesday, January 25</td>\n",
       "      <td>https://www.amazon.in/sspa/click?ie=UTF8&amp;spc=M...</td>\n",
       "    </tr>\n",
       "    <tr>\n",
       "      <th>1</th>\n",
       "      <td>Kadence rosewood Guitar Frontier Series, Elect...</td>\n",
       "      <td>Best seller</td>\n",
       "      <td>5,199</td>\n",
       "      <td>Tomorrow, January 24</td>\n",
       "      <td>https://www.amazon.in/sspa/click?ie=UTF8&amp;spc=M...</td>\n",
       "    </tr>\n",
       "    <tr>\n",
       "      <th>2</th>\n",
       "      <td>Kadence Slowhand Premium Jumbo Semi Acoustic G...</td>\n",
       "      <td>Deal of the Day</td>\n",
       "      <td>14,999</td>\n",
       "      <td>Tomorrow, January 24</td>\n",
       "      <td>https://www.amazon.in/sspa/click?ie=UTF8&amp;spc=M...</td>\n",
       "    </tr>\n",
       "    <tr>\n",
       "      <th>3</th>\n",
       "      <td>Medellin 38\" Acoustic Guitar premium wood with...</td>\n",
       "      <td>Deal of the Day</td>\n",
       "      <td>2,199</td>\n",
       "      <td>Wednesday, January 25</td>\n",
       "      <td>https://www.amazon.in/sspa/click?ie=UTF8&amp;spc=M...</td>\n",
       "    </tr>\n",
       "    <tr>\n",
       "      <th>4</th>\n",
       "      <td>Juârez Acoustic Guitar, 38 Inch Cutaway, 038C ...</td>\n",
       "      <td>Best seller</td>\n",
       "      <td>2,148</td>\n",
       "      <td>Saturday, January 28</td>\n",
       "      <td>https://www.amazon.in/Juarez-Acoustic-Cutaway-...</td>\n",
       "    </tr>\n",
       "  </tbody>\n",
       "</table>\n",
       "</div>"
      ],
      "text/plain": [
       "                                         productname     availability   price  \\\n",
       "0  Kadence Frontier guitar with Online Guitar lea...  Deal of the Day   4,799   \n",
       "1  Kadence rosewood Guitar Frontier Series, Elect...      Best seller   5,199   \n",
       "2  Kadence Slowhand Premium Jumbo Semi Acoustic G...  Deal of the Day  14,999   \n",
       "3  Medellin 38\" Acoustic Guitar premium wood with...  Deal of the Day   2,199   \n",
       "4  Juârez Acoustic Guitar, 38 Inch Cutaway, 038C ...      Best seller   2,148   \n",
       "\n",
       "       expected_delivery                                               urls  \n",
       "0  Wednesday, January 25  https://www.amazon.in/sspa/click?ie=UTF8&spc=M...  \n",
       "1   Tomorrow, January 24  https://www.amazon.in/sspa/click?ie=UTF8&spc=M...  \n",
       "2   Tomorrow, January 24  https://www.amazon.in/sspa/click?ie=UTF8&spc=M...  \n",
       "3  Wednesday, January 25  https://www.amazon.in/sspa/click?ie=UTF8&spc=M...  \n",
       "4   Saturday, January 28  https://www.amazon.in/Juarez-Acoustic-Cutaway-...  "
      ]
     },
     "execution_count": 148,
     "metadata": {},
     "output_type": "execute_result"
    }
   ],
   "source": [
    "# Creating the Final Data Frame\n",
    "guitar = pd.concat([page1,page2,page3])\n",
    "guitar.head()"
   ]
  },
  {
   "cell_type": "code",
   "execution_count": 150,
   "id": "c4607780",
   "metadata": {},
   "outputs": [],
   "source": [
    "# saving the dataframe into.csv\n",
    "guitar.to_csv('file1.csv')"
   ]
  },
  {
   "cell_type": "markdown",
   "id": "3cd4e4f3",
   "metadata": {},
   "source": [
    "# 3) Write a python program to access the search bar and search button on images.google.com and scrape 10\n",
    "images each for keywords ‘fruits’, ‘cars’ and ‘Machine Learning’, ‘Guitar’, ‘Cakes’."
   ]
  },
  {
   "cell_type": "code",
   "execution_count": 176,
   "id": "4455881b",
   "metadata": {},
   "outputs": [],
   "source": [
    "driver.get(\"https://www.google.com/\")"
   ]
  },
  {
   "cell_type": "code",
   "execution_count": 177,
   "id": "af2108df",
   "metadata": {},
   "outputs": [
    {
     "ename": "NoSuchElementException",
     "evalue": "Message: no such element: Unable to locate element: {\"method\":\"css selector\",\"selector\":\".gLFyf gsfi\"}\n  (Session info: chrome=109.0.5414.87)\nStacktrace:\n0   chromedriver                        0x0000000105c64fa8 chromedriver + 4886440\n1   chromedriver                        0x0000000105be2643 chromedriver + 4351555\n2   chromedriver                        0x0000000105830b27 chromedriver + 477991\n3   chromedriver                        0x000000010587576c chromedriver + 759660\n4   chromedriver                        0x00000001058759c1 chromedriver + 760257\n5   chromedriver                        0x00000001058b9204 chromedriver + 1036804\n6   chromedriver                        0x000000010589b5fd chromedriver + 914941\n7   chromedriver                        0x00000001058b65fe chromedriver + 1025534\n8   chromedriver                        0x000000010589b3a3 chromedriver + 914339\n9   chromedriver                        0x000000010586557f chromedriver + 693631\n10  chromedriver                        0x0000000105866b1e chromedriver + 699166\n11  chromedriver                        0x0000000105c31b9e chromedriver + 4676510\n12  chromedriver                        0x0000000105c3691e chromedriver + 4696350\n13  chromedriver                        0x0000000105c3e19f chromedriver + 4727199\n14  chromedriver                        0x0000000105c3781a chromedriver + 4700186\n15  chromedriver                        0x0000000105c0aa62 chromedriver + 4516450\n16  chromedriver                        0x0000000105c568c8 chromedriver + 4827336\n17  chromedriver                        0x0000000105c56a45 chromedriver + 4827717\n18  chromedriver                        0x0000000105c6c7ef chromedriver + 4917231\n19  libsystem_pthread.dylib             0x00007ff810a59259 _pthread_start + 125\n20  libsystem_pthread.dylib             0x00007ff810a54c7b thread_start + 15\n",
     "output_type": "error",
     "traceback": [
      "\u001b[0;31m---------------------------------------------------------------------------\u001b[0m",
      "\u001b[0;31mNoSuchElementException\u001b[0m                    Traceback (most recent call last)",
      "Input \u001b[0;32mIn [177]\u001b[0m, in \u001b[0;36m<cell line: 1>\u001b[0;34m()\u001b[0m\n\u001b[0;32m----> 1\u001b[0m search_designation\u001b[38;5;241m=\u001b[39m\u001b[43mdriver\u001b[49m\u001b[38;5;241;43m.\u001b[39;49m\u001b[43mfind_element\u001b[49m\u001b[43m(\u001b[49m\u001b[43mBy\u001b[49m\u001b[38;5;241;43m.\u001b[39;49m\u001b[43mCLASS_NAME\u001b[49m\u001b[43m,\u001b[49m\u001b[38;5;124;43m\"\u001b[39;49m\u001b[38;5;124;43mgLFyf gsfi\u001b[39;49m\u001b[38;5;124;43m\"\u001b[39;49m\u001b[43m)\u001b[49m\n\u001b[1;32m      2\u001b[0m search_designation\u001b[38;5;241m.\u001b[39msend_keys(\u001b[38;5;124m\"\u001b[39m\u001b[38;5;124mimages\u001b[39m\u001b[38;5;124m\"\u001b[39m)\n",
      "File \u001b[0;32m~/opt/anaconda3/lib/python3.9/site-packages/selenium/webdriver/remote/webdriver.py:861\u001b[0m, in \u001b[0;36mWebDriver.find_element\u001b[0;34m(self, by, value)\u001b[0m\n\u001b[1;32m    858\u001b[0m     by \u001b[38;5;241m=\u001b[39m By\u001b[38;5;241m.\u001b[39mCSS_SELECTOR\n\u001b[1;32m    859\u001b[0m     value \u001b[38;5;241m=\u001b[39m \u001b[38;5;124m'\u001b[39m\u001b[38;5;124m[name=\u001b[39m\u001b[38;5;124m\"\u001b[39m\u001b[38;5;132;01m%s\u001b[39;00m\u001b[38;5;124m\"\u001b[39m\u001b[38;5;124m]\u001b[39m\u001b[38;5;124m'\u001b[39m \u001b[38;5;241m%\u001b[39m value\n\u001b[0;32m--> 861\u001b[0m \u001b[38;5;28;01mreturn\u001b[39;00m \u001b[38;5;28;43mself\u001b[39;49m\u001b[38;5;241;43m.\u001b[39;49m\u001b[43mexecute\u001b[49m\u001b[43m(\u001b[49m\u001b[43mCommand\u001b[49m\u001b[38;5;241;43m.\u001b[39;49m\u001b[43mFIND_ELEMENT\u001b[49m\u001b[43m,\u001b[49m\u001b[43m \u001b[49m\u001b[43m{\u001b[49m\u001b[38;5;124;43m\"\u001b[39;49m\u001b[38;5;124;43musing\u001b[39;49m\u001b[38;5;124;43m\"\u001b[39;49m\u001b[43m:\u001b[49m\u001b[43m \u001b[49m\u001b[43mby\u001b[49m\u001b[43m,\u001b[49m\u001b[43m \u001b[49m\u001b[38;5;124;43m\"\u001b[39;49m\u001b[38;5;124;43mvalue\u001b[39;49m\u001b[38;5;124;43m\"\u001b[39;49m\u001b[43m:\u001b[49m\u001b[43m \u001b[49m\u001b[43mvalue\u001b[49m\u001b[43m}\u001b[49m\u001b[43m)\u001b[49m[\u001b[38;5;124m\"\u001b[39m\u001b[38;5;124mvalue\u001b[39m\u001b[38;5;124m\"\u001b[39m]\n",
      "File \u001b[0;32m~/opt/anaconda3/lib/python3.9/site-packages/selenium/webdriver/remote/webdriver.py:444\u001b[0m, in \u001b[0;36mWebDriver.execute\u001b[0;34m(self, driver_command, params)\u001b[0m\n\u001b[1;32m    442\u001b[0m response \u001b[38;5;241m=\u001b[39m \u001b[38;5;28mself\u001b[39m\u001b[38;5;241m.\u001b[39mcommand_executor\u001b[38;5;241m.\u001b[39mexecute(driver_command, params)\n\u001b[1;32m    443\u001b[0m \u001b[38;5;28;01mif\u001b[39;00m response:\n\u001b[0;32m--> 444\u001b[0m     \u001b[38;5;28;43mself\u001b[39;49m\u001b[38;5;241;43m.\u001b[39;49m\u001b[43merror_handler\u001b[49m\u001b[38;5;241;43m.\u001b[39;49m\u001b[43mcheck_response\u001b[49m\u001b[43m(\u001b[49m\u001b[43mresponse\u001b[49m\u001b[43m)\u001b[49m\n\u001b[1;32m    445\u001b[0m     response[\u001b[38;5;124m\"\u001b[39m\u001b[38;5;124mvalue\u001b[39m\u001b[38;5;124m\"\u001b[39m] \u001b[38;5;241m=\u001b[39m \u001b[38;5;28mself\u001b[39m\u001b[38;5;241m.\u001b[39m_unwrap_value(response\u001b[38;5;241m.\u001b[39mget(\u001b[38;5;124m\"\u001b[39m\u001b[38;5;124mvalue\u001b[39m\u001b[38;5;124m\"\u001b[39m, \u001b[38;5;28;01mNone\u001b[39;00m))\n\u001b[1;32m    446\u001b[0m     \u001b[38;5;28;01mreturn\u001b[39;00m response\n",
      "File \u001b[0;32m~/opt/anaconda3/lib/python3.9/site-packages/selenium/webdriver/remote/errorhandler.py:249\u001b[0m, in \u001b[0;36mErrorHandler.check_response\u001b[0;34m(self, response)\u001b[0m\n\u001b[1;32m    247\u001b[0m         alert_text \u001b[38;5;241m=\u001b[39m value[\u001b[38;5;124m\"\u001b[39m\u001b[38;5;124malert\u001b[39m\u001b[38;5;124m\"\u001b[39m]\u001b[38;5;241m.\u001b[39mget(\u001b[38;5;124m\"\u001b[39m\u001b[38;5;124mtext\u001b[39m\u001b[38;5;124m\"\u001b[39m)\n\u001b[1;32m    248\u001b[0m     \u001b[38;5;28;01mraise\u001b[39;00m exception_class(message, screen, stacktrace, alert_text)  \u001b[38;5;66;03m# type: ignore[call-arg]  # mypy is not smart enough here\u001b[39;00m\n\u001b[0;32m--> 249\u001b[0m \u001b[38;5;28;01mraise\u001b[39;00m exception_class(message, screen, stacktrace)\n",
      "\u001b[0;31mNoSuchElementException\u001b[0m: Message: no such element: Unable to locate element: {\"method\":\"css selector\",\"selector\":\".gLFyf gsfi\"}\n  (Session info: chrome=109.0.5414.87)\nStacktrace:\n0   chromedriver                        0x0000000105c64fa8 chromedriver + 4886440\n1   chromedriver                        0x0000000105be2643 chromedriver + 4351555\n2   chromedriver                        0x0000000105830b27 chromedriver + 477991\n3   chromedriver                        0x000000010587576c chromedriver + 759660\n4   chromedriver                        0x00000001058759c1 chromedriver + 760257\n5   chromedriver                        0x00000001058b9204 chromedriver + 1036804\n6   chromedriver                        0x000000010589b5fd chromedriver + 914941\n7   chromedriver                        0x00000001058b65fe chromedriver + 1025534\n8   chromedriver                        0x000000010589b3a3 chromedriver + 914339\n9   chromedriver                        0x000000010586557f chromedriver + 693631\n10  chromedriver                        0x0000000105866b1e chromedriver + 699166\n11  chromedriver                        0x0000000105c31b9e chromedriver + 4676510\n12  chromedriver                        0x0000000105c3691e chromedriver + 4696350\n13  chromedriver                        0x0000000105c3e19f chromedriver + 4727199\n14  chromedriver                        0x0000000105c3781a chromedriver + 4700186\n15  chromedriver                        0x0000000105c0aa62 chromedriver + 4516450\n16  chromedriver                        0x0000000105c568c8 chromedriver + 4827336\n17  chromedriver                        0x0000000105c56a45 chromedriver + 4827717\n18  chromedriver                        0x0000000105c6c7ef chromedriver + 4917231\n19  libsystem_pthread.dylib             0x00007ff810a59259 _pthread_start + 125\n20  libsystem_pthread.dylib             0x00007ff810a54c7b thread_start + 15\n"
     ]
    }
   ],
   "source": [
    "search_designation=driver.find_element(By.CLASS_NAME,\"gLFyf gsfi\")\n",
    "search_designation.send_keys(\"images\")"
   ]
  },
  {
   "cell_type": "code",
   "execution_count": 179,
   "id": "070339a9",
   "metadata": {},
   "outputs": [],
   "source": [
    "from selenium.common.exceptions import NoSuchElementException"
   ]
  },
  {
   "cell_type": "code",
   "execution_count": 182,
   "id": "673cb4aa",
   "metadata": {},
   "outputs": [],
   "source": [
    "try:\n",
    "    search_designation=driver.find_element(By.XPATH,\"/html/body/div[1]/div[3]/form/div[1]/div[1]/div[1]/div/div[2]/input\")\n",
    "    search_designation.click()\n",
    "except NoSuchElementException as e:\n",
    "    print(e)"
   ]
  },
  {
   "cell_type": "code",
   "execution_count": 183,
   "id": "2e12383f",
   "metadata": {},
   "outputs": [],
   "source": [
    "search_option=driver.find_element(By.XPATH,\"/html/body/div[1]/div[3]/form/div[1]/div[1]/div[1]/div/div[2]/input\")\n",
    "search_option.send_keys(\"fruits\")"
   ]
  },
  {
   "cell_type": "code",
   "execution_count": 188,
   "id": "601fe19f",
   "metadata": {},
   "outputs": [],
   "source": [
    "images=driver.find_element(By.XPATH,\"/html/body/div[7]/div/div[4]/div/div[1]/div/div[1]/div/div[2]/a\")\n",
    "images.click()"
   ]
  },
  {
   "cell_type": "code",
   "execution_count": 192,
   "id": "c1a8a491",
   "metadata": {},
   "outputs": [
    {
     "data": {
      "text/plain": [
       "[<selenium.webdriver.remote.webelement.WebElement (session=\"127aff13fdb7f32fe50d6c63bc98f34c\", element=\"dd586c69-dfa2-467b-801b-5d950b150d2b\")>,\n",
       " <selenium.webdriver.remote.webelement.WebElement (session=\"127aff13fdb7f32fe50d6c63bc98f34c\", element=\"590aaecc-b4d2-4e02-a10c-0860aab74f2b\")>]"
      ]
     },
     "execution_count": 192,
     "metadata": {},
     "output_type": "execute_result"
    }
   ],
   "source": [
    "image=driver.find_elements(By.XPATH,\"//img[@class='rg_i Q4LuWd']\")\n",
    "image[:2]"
   ]
  },
  {
   "cell_type": "code",
   "execution_count": 193,
   "id": "34f167a2",
   "metadata": {},
   "outputs": [
    {
     "data": {
      "text/plain": [
       "['', '', '', '']"
      ]
     },
     "execution_count": 193,
     "metadata": {},
     "output_type": "execute_result"
    }
   ],
   "source": [
    "fruits=[]\n",
    "for i in image:\n",
    "    title1=i.text\n",
    "    fruits.append(title1)\n",
    "fruits[0:4]"
   ]
  },
  {
   "cell_type": "code",
   "execution_count": 196,
   "id": "a037aa01",
   "metadata": {},
   "outputs": [
    {
     "data": {
      "text/plain": [
       "['data:image/jpeg;base64,/9j/4AAQSkZJRgABAQAAAQABAAD/2wCEAAkGBxMTEhUTExMWFhUXGB8cGBgYGCAcIBweIxgeGyAfGx4eHykhGyImHhwhIjIiKCosLy8vGyA0OTQuOCkuLywBCgoKDg0OHBAQHDMmIScxLiwwLy4zLjYwLjAxLi4wNjguMC4uLi4uMC4zLi4uMC4xLi4uLjAuLjAuLi4uMDAuLv/AABEIALcBEwMBIgACEQEDEQH/xAAcAAACAwEBAQEAAAAAAAAAAAAFBgMEBwABAgj/xAA+EAABAwIEBAQDBgUEAwADAQABAgMRACEEBRIxBkFRYRMicYEykaEHFEKxwfAjUmLR4RUzcoKSovEkY7IW/8QAGwEAAwEBAQEBAAAAAAAAAAAAAwQFAgYBAAf/xAA0EQACAgEDAgQDBwMFAQAAAAABAgADEQQSITFBBRMiUTJhcRSBkaGx0fEjwfAVM1Ji4UL/2gAMAwEAAhEDEQA/ABPGGBVhCBqKmlSEq5j+lUWmOfOKWMHnC2VEhUoMa2yVALgGPhINietMfE+b+M2UG+qD6Hcel6pZa64wwpzDsoU6gytRTqUEmR5Qd4tMbTSvhtZ+PoRHtbYceUeRjiKkOPLUlpClqVPlA1HvzkRRnFFKihplHmA06lKOpRiCVSdKR2AEdajez1etLqiPEKSlagmCRNpt0/Oh7eLJcWsbmq29R3zmTvL9xLH31xhd1AlKpCgQoKgRuLGAYrsbminxcqUo9b94AFS4LFpUhYUkK1RANzOwA9Z29K2HgngTD4dtClpC3olajeD0HYbCldTqfLGAc57Qy0gkFh98yVrJMSpBJYcAI/lN63DBcDsO4JhjFJ8QoQmFJJQpKtABKCkiNvfnV3NMYygGY96t5FnCH2UuIIIuLdjH6VLGt3ttbt7Qtum2KHAOJ85cVYYIZWor0phKzusC14tqiJ679gTcWCJEGdx1qpmDIcTvB/Ceh5H98iaHZdmG6VWIMKHQ/u/oRSp1BrfY3wnpMbcjIkOLa8Eyn/aP/oenp06bdKnZxVfeJjzTdCviB+U0Iw5Lay0ozF0nqnl7jY+nelG9DcdP0mviEIYtIB8Qf9x1HX1H1HoKi8eK5bsUBxWN8JZQraNSPTmP+p+hFL2sSTieLCuemcGE6U6S5ck7fEuRcXtHuaSvu5N5t8/n7fpRnKs3bxS14NxekrIWyr+oCCPdPLeNUXqk42pC1hyym1GZFjextBSCNt5lPSrmnJalc9hiX/DLQFKjrnP4zsqxyMO5qKFqUR5SmNQmATcEAWN79qp4rEeK6pUBBKiBPmA5eWU9BE/lUJOozttBgeu09Oo5p71IhB0FQImRE8udvp/ejlzjAlMUqH8w9TxPXcCSUCUpBUBMmRPOxkfnbYU+YrPG0Y44cqGs4dKx3HiLB/SlTIMrU7pfdhDDZ1KWSIhFyIOwkXPrSXmWdOYnMVYtEpBWBh1KEJGkaUoUdhrBNjeVRQ7ajZUyjjPSRvFLgXVM5xnPyz/E2bEZpaxoBm2LJBJNCcw4na1pbaStby7JaSklRI3tyHc2tNKHFWeYoEtusuMA2lQt7KHlPzqLTpL3PIx9eJLYBeshZzGcU4NwUhKfUEn9fpRf79CVCYiFEDmbx9Os0PwHB7wQ06skLcB8NqIVGk+ZZURoGnr/ADDnavj7wUKU05KHEGCFb9j0M2vPSr4QKox2man3AkyxjMQVfET8It0IH96p6Sff5dJmvXl9P36VEp1WlRSkkADUQPhEwJ97TWycCekc8z148psNz++ck0zfZY4k4le58t+8KIAA9d/+I60mO4kqhIgEm56DrWt/ZVlLbbCngmFPHeb6R5UgGfc9Sa9Re8De4+GPKX1H8J/KonH1Xsf39KjxT5RGmVSdh+49qruKWoQZQo9IJHc0UxadicxAgAwb9p3P5ih+IxJEJUSB1J35xvPtA25194tKyfIqFRabxfc9T/ahOWqe1L8RQK5EETBgdDzJmhtYQYPBJl7F5kEo8qVQL+VKjyPMD9/ll3FeOSmVNJ8PxCfETBSSq9yec3nv61pD2JN5UbCNPX9+nMUtcQtpfTodAIBBAnaCPcAm3cGtecVGZuu01OG7TJ1O966taw7OFCQPu7dh/KP7V1L/AGxPcQ3+rf8AX85n75SpaUTAm56Dmat4vF4dDJW0txTqVlCkrAAiYBTHYAn1oG6qCFCJBkgzBHS1yO3OreBU2kqdxOGcW1uhMqQlRMC0CNI3j9KpaNAqEd5i+4s4YQlw9kiX0HEvplMkJTy3ifpTCrCYYJlOGT4OxX4Y09rx3qzkeDUvCpR4Rb3htwFMpm0djRp/7+8nwVeChodBNvwgekVNsGXbcehiD2O7nJImb8Q5OMI80+2nUguJUhMfiB1aR2MWrZ8n8UspceBaUsTo3XHKRMJt1odlGEYXiAkgL+6J8RXZxUpRPKY1GOXlo84sqJKok1K12pwoB6y9pN5QbuvvBmZ5Gy+CFKdAI38lvY+lVOHsqdwS1JCw7hnLoWBBQvYpWnlIiCLSDtIk2Unpavtq1iJSqywdiOnqN6m1XkjbjEccsV2k5HtPtvFX0nnt6/8AwUIzz+EoYgfCLO/8eS/+p3/pPavVPaHFskypEEH+ZBulX0I9QatKeCkwYIO4P1BonmbgUsiLDYZ4jEak9aq46VJBT/uN3T3HMe4+sUJwLvguHDKJgDU0Tzbnb1QfKe2k86uOPQQrp+VZ3MPS38iYPXIk7eIC0BQMgilnjQksFaRK2jqjqn8Q/wDG/qBVw4sNulE+VzzJ9fxD5396+W8GcQ6W58v4qY09T2WrtGf2hkp35xMzxGJLq0eDqKwZ8oMjaIi9aTlmeqWgDMMM7KRAfSi5H9aefrB9KPrYweXtwEJ1RZIH1NI2ecSF1RMgDkByroGrFS7RHtHoyfXuIHv0/CHhgsC4ZRmDSUmTC41el1JgDpFW8HgMtU4ltOJL7mmSltUgxzJHwi8fEOQua+eDeG2Q394xCErcc8yUkWSDcSDuedT8TZkxhtLiW0BROmyQkkRJv0BAMn9aVa9EwTjJ7d4jf4pqMlFbgZGf45i79qq8R4QbQW0YRMJ8NuQSdxrtBFrAWB60pcM41MpROkK8oJEpJMbyIPz3FaPmGCQ9iG231ILAGvRJla9gFctIBNuZozmWLa8Mo0pDYTBSQNMd+UV8usVFy/vwOvETo1rVtkjOeuYvZMx92xJWyx4q1jQVBQSEiZMlU2JAuBy9KO5jh8wfTthMOP6peUf/AFSBQPC5u2Alxvfed7EcxzH7tV3FcQOLTaI/pI+tWvs6WYPadBdovOIYKPqf8xAGYcPgeL94xDj61p0nZIjWlRgGZkpHypfxmXt+GlDpWA2NLbyRJSkbJcAuQNgocrHaaZyhxfl0FU84t89hVnhpzDIcWl9IXfy/iEjlba9veivpq9mFGMdMRm3Q0nTkEZI5GOszDEMuDZ1Dkjy6VTqExMH5Wm9qdvspwCVt4t14pKDDZSq4gDUqR31AR2poz/OcvW8jDYhLKkpjSmxCDySroP8AFXziG2yA2kJSBMoA0xFvS9hY+kVDe3qpHecu+74ZnWY/Z9ifva04VA8GJSpa4CZN0c1KII3jaJrR8rbOEYabcADkBAAUPMYuBcTz5VZxmceCwt4oJDaNSwgAqMJ1GJjlffakbh7iD768MQtQB1q0t/yJHwgdbGT1JooZoJFJM0lHiG6lBI572H6n9+sOIUhE81mwnlP75jryvQ53HBPmJsP36Dn/AJmqGCxxUS6ZAEhIJ+vra315UXzBPiuIXcWEQJMm5t+pMATzPW1CMRiYcV/V8+m1uk8hXwvFyTf9ekc7z3oPmWIUClV4ChNupj235V9uBmdsv45SdOkqJPLnpm0Tz3I+U9ll3EhRUh7bmTsQT9Beiq+4/e9KHFONTrSgdyr0mwP50O3JQrMOs0XD45CUgaU2FdWSJzPTbxCI7qr2pv2e33/KL+S0OOZZg2C4Hytwm7YB0jT1JAuZHptRTFZ3h38MkuILi0+dPmgJKTIEC1iIMi9As2zFtbS0OMp1hZ0un4tMCBPLnt8qEnFNJw6GvAhcypzWQVz0ExHtXR6a0LUoYjJHJ9419mcAM+SflJsxzxTii54rheUCEgapSSbXmCBNgOfKjqcBmjo8NCnimACQecX81jvNCuAsMl7MGwoToCldrCB//U+1bnhsX4aIFvSpmqvTzdre2cyggDjcQM9oo/ZhlD2FGKZdQpC1hCk9TpJ1beoPvTnz/wAUu55m7iCHm/jQZAPMcwe0UYy3M2sY34zJn+ds/EhXQjn67RULWDzMuvOP0jfw8+/6whrQEzeSIjcbyN+dz2qouP8A7v8AXavAkkwB7D9zXmKWhhsvPKCEj8J3PYevSkvNtvIBXoMTSqE78mJP2hZx92x2EjYMw6OxUNM+l6Jox3wrSZSd/Tr7UjZlONxLmIcmVbJ6JGw/fWruXYw4YpZcJKFf7ayPmk9x+oqlfp1NasnxDqPl+8WtqsHL9O0ac8ZK0BaP9xs6kHvzSf6VCx9jyqgxmPiI1D3B3B5g+hr7wuJN0m4/D6dKCZs592c8SP4az5wOSv5vfnSaLvO3v2/aeIuOshzXEqOkD4krEHsd/pP0r5RnymZKVQedV8W4lSkOTCIKtW9vhmN/it3vQfM1FVzCauaH+muSMSroQmxu5/tLOLzhbpK1KJJ6mhbiydtyYA9a9weFU6tDbSSoqUEg3iT1OwA3rQHfs4DSNYxGp0DmkaAdzA+m5pqxwATEtb4jgbRPeEs6fX4eHMEDy+IQZAA2N4mBH96fXA0B5R6k7mq+BwjLTCW0IAhO/U9f1mkbM8ycWXEeKVN6iALARMEWFxyvUd8Ix2YJI6+053dnlo65StlLavDCYWSdQvzIt26AW6Ul8S4PUtxHiq8PcJsAOcGNwO9Usjzs4Vnw1NKUlJPhkH8MkwZ6Tynfa1DcM/icY8oBSUJWrcchtv2FrXPatJvZvUBgcAw1VLWnCyyUM4dLbSnVh0NpUfLqSQrkLi467V2Tu630JkAFY39amxuAVhYQ+kPNbBRspPdKviT/AIEyKA48eEQ624VtkghX4kGbBYGx6KFj22q7RrOx7TrdPrtqiuzj2PvNm4uwjLjSm1HzECCDMEXFvbasqx7brBGoQkWCk7f49D7TQ0568TJeWfUzU6s6UsaVKImxkageV+f0NL+fqEsyMEe0VrbV6c+n1L/nSfGHyNzE6ltoOiT5lkATN78/WtFwWOw+AyxnxQnUNQ0IuVr1qEj1n4jYfKvnG4CQyy2QlvypBH4RaTfe1VDk4Q+4wtWsJT/KACDcADsSa8axmBc4xIWo8SNr4ZfTnt1hXhbPn8SwfHwqdJQQShyNQIiyFC0g/wA1JT2SowhBQVIMb+34htPKvrKuI1tBSNXwqKSPRUVfzvFIxDQ82lwjyyYBPT5V7ZYtarnvOkr01NWXwCpgdHEanFBlXLc9u3aKZVZq2E2WAALCY+lZdiwtCpmFJmSedxTZw5wbjcYErdhlncFQ8yu4TyHc/I195ZPK95z+qdVcxqwHw6jYquf0obxDmbKGzqWncQJk7g8qvu8L4BmzrinF7HUsnt8IgfSvhGGwCZAbTA56R/airSR1Ig/L1FgylZI/CKeb8WiClnc7En9xSqnFSSpSgVHeetayw5gTu0n3QKnGQ5a9uy3PZOk/SK35WehEG9WoQeusiY7vfrXVravs/wAt6kdvEXb611feU8H5p/4N+EZ+HuE8K0ArQlbkSpxYBUT7/D6Cworj8E2RBSlQ6EA/nQZzHkc6gezGBc1xjagOmCMt7zpV07Z4PEGYvhxhl9GLYSG1onWlAhK0kQfLyI3BG8X7W3sclQBSoEG4I50NzLObEDaKR8lRjFvraww1JCpOowlE3ueXoJPaj0U2XKWduVHf2+s81FARQcdT2jnmj/lN7RzpSbweMU4HMKFtRs7qKB7c1D2Ip+wOQpSErfPiOd/hHon9TJ9NqvOqBHlFM0sa/hwfr+0+r02RgmLP/wDqczbTocfQT/OGxq9zsflQPGYh15Wp1xTiuqjt6DYe1M+b4ZsJ1urSgdVHf0G59qXsY4yhKy2sKWkSlKwUhXm0eWd4VaJkwbWppBv5/iGJppGO/wCct5BhipdhJ7U9P5Gw4z4LzYc/FFxpJESFAgpMcxSzk+Zstqbbc8RS1JSoaEpCSCqOVwASBJiZp2ZELJ3k1usspyRFrmF3HYRSz3JxhGfGQolCVDUFXKQTAg7kAkC8mOdVWcsVjwgIENq3V6G8eh/e5DTxg0lxgMzBfcQ2PTVqV8kJUfamDJsMhpIQlIASABHQcqHXp6zaD84MttTpBOF4Hw/hobcSHEtiEJXcJ3PlGwuTffvS9xF9nrKjLfkI2EAp+R29q0h12KE4569ULiqLwYKl2J56RAzLNGMOhKRob8OyUAQbf0i5qjnuc4teH8raGypMzqKjBtKbQD60W4yyhDqdceYX+VRqKFtgctNRjcvJJyR+En6vT+Ww2dDF/Cvv/dw194WRERYECOSgJ9qW2GcUStpgEpBImNjN4MTT7wZwS+6C466pLSiSlIABKZMSYkWrS8u4fZZSEoQABTFa2EnYoI9+0ylGPiMxxKNLKUup0KE2VaOsTuKFcO49KD5bJBMfO1q2vPcpadSQpINZFxnw6GVJcaJAKtKgPp/ahK2bPKfgnp7R3Sf0GLDkGXM3zlLiYUQaRcS4pK4bkkgykCQR3FPOEywBky2lRIMlQ76iEnkRMT/SapZVgGhiY8rZOoSrnCuc9RMHuO1UdPSKsnOZQ1ZZkAxj6Rf4Y4cdxjpaCg2QgkFc3Okx7agJ6A86bV/Z68lLxZV4pTZnZM2uSogAGdo5b71omXZb4GnSkEOFXiTNhEWG07CSL1OnDfxNSVqDXheGWySUkcjB5xYnnXj6jOcfdx2g0scLye0z/KswGJaWwpSRiGlaVCbakmAoTBKSRIqLEP8A3YO4nFuBTqpCQDyAsEjnMUx8Y5W0/h3AVlspIIUkHVIsDIvAn5TWPZzl7rS9DuomPKSSrUOoJ/d6xp7VuG3OPlJtvhWTvB4lMY0rUpRtrUVHtJmiWW5ohCk+INSR8NpIJ6eu1BlYYxPKnb7LeEvHeTiHRLaTKQecc+97fOnrEUrtMJbqmqrCkfICNfBPBPiOHHYtO5lppWyRuFKB/F0HL12O8Q8QaZQi0Wq5nmYq+BCSALCKScd5iZ3rZ/poFWUvCvDg7ebdyT+UpYrFajJ3JqBSSRArg35gD13NSl/wXGW3gUKWLggg6iU6TB5b2oCkkzpLHrpErJSqec1aw760XuP3/miWGbUAgLFy2XFKiLhaUpEdwon/AK1G6hCkyFAxMkbTJt7UQqw6RdL67B0g/wC/Krq+fu07T868oW8w/lVS69mCwZoZi8zWo32p5zXgB0JJZxBB6KSCPpBHzrMOJMBi8MqHUpj+ZIP96k1aTnBGD85ztfiCFcngwlgCp93w0nupXQf3PL/FP+XsIZQEISEgfU8yTuSetK/BeXeGwlZ+JwBaj67D2Ee80w4rFpaQXFzpHS59h1rLqC+1e3H3x4HcgZvr9Je0zf3nl70vucZ4dClIb0qckJSpSvKVk2EC+k7a/hBUJKZpd4p4kOIaDDXkCjKxErQASnzlKiFTIMDYEiDFBcLiEs/7alCQorKPLpUCFJS9qbA0nQVBIibDlelp9AMbrPwkfV+IEnZX095YxGaOK1IeeLi1LStQSQoABMhPwEgHyiNoCusmPD4dtC0gMKccWA4FLCg2hwXVEp/iQDJkaQeYiTLl2XBGlxdtUrCiVDcjw0JSUhBJhQCSdiRNiA98K8HKw6y7iHA64sTpAOlOq5SpE6ZCtKrAAFIpuxkVcdvYf+RGtHds/nI+C+HilQxKyNSgShCQUhEqN4gC6QIEc+wp3bTFRsoPO560E4s4jQ1GGQ6ht5xPxquGkm2tUd9h1vypBsufmZTSvbhV5gtWdh7Ng2ky3hkK93CQD/4jy+uqnhrF2BrC+HnG8NjBD3iJJKNZTAVJEKuZuRz61q7GLATE+lYtHkvtHTH5w5qOz1dYVxOP3JNUXcZq50Kx+KoerGxSF9rMOsESqjiF8WvUkpoHwRkDrz7/AIi1fdm3NKUWhRgKImJ0iYifyqROY/EegJ9gJJ+V/amjgt8DBtK5rBWfVRKv1rGjRiSGHBnliZrB7xxYQEpgCBXw+7AJ5UNdzC1qGY7NbG9XTcqpgRevTMxkuLxMTekHjh+WVGdiCPYg0ZxWbgzNqS+JscHIQkxqITYEm56C59Kl7d1ysB3jtlOxDmQ/6qRCrCDMX6QCbjvcf4qpmD7jytYKdQO1h+Ecz0jaTOqedA3cUttZRAUUe4tzgiLzeRz63qPDeIuUTpCiLxdMTF+kGO9WzWBzJ76lm4M2nhjGqU0HkyrUhK1DvpE/M1YdzxQbSS2mVK88SNPKUCkbKsXCUsQUeGlIkK1a+cna5VNogSIpkTPlUUncKE8/8Vz9rvUxTPGe/t8pYqrSxQ/WXsTjUaSpYKjpmEkSeXv6UIzvAtYpiFL8MaSUqidKhBE8yN7V684pRKnQNU3tAuZFulVM3zYttaUp/wBwRKkmIG8e20UvWD5g29c9YVwoSZh4anHRhwZJXpkfWJremcInB4VDQsqBJHLsOw2rOOB8sS5mrZKVAgayCPLGnykc/wANPPFyyp7TNr/QGumByNxHTj7zIWk041Otw/RZUdeUq+oj0ryCoX8wHMi/96FYfFKCrwBMb/ufSrGIxBHWT+/avNxPM6w07TgT5xWEB2+VD321agpalLKbArJUQAZgEkkCaNtYxFvEv3/e9c/gSfMhSVJPzHtQ8ntPg+DhxAKX3ARJJEzHX9/pX3g8SgDTNgFFR2udS1GOcrVAHT0qbFtQOQ5W/f0oVisOIj8vb9+9ehoVq1cZHXtL7StaUqmJSDHSwtty2rqX04YIGkBVu9dXuYLZZ7CfobGY8AVnfHWIbeZWkgSASKnez1TqihvzH8vU8qXOIcucj+I55eaUiJHqfzikmNlpyOnvOJqqcnMK5er+GgdEiPlVPirEkMaQ2HNagAkqULi4sgEqvB02Bi8gQa3C2NDjQQLFHkImdrC5ubRVji3LnVsoDaZVq/mKR/2gi3ehUrstG73nSag79P6O4iZleVLdXDGtZmVr/hoNkqkiT/DSFR+GfOBe0t2WcIOrbcS48tpM6D4iQkLRpE6NCgogXAEkbyKvZHlqGNKxHiAKBUkaQdSgownYXA6m29GU4mTNyepMn5mmrtaWOEPEnU+FEDc/WEWUNttobaTpSgCCQJtzEfDeT71ZbRO1VsEyVCTtQPNOIluuHCYCFvbOOm6Gh6/iV2HvQl9XAEY2BPSs84042RhE+EiFPq2G4QP5lfonn2FZdnTmGWpboL+tQB1KKVFSo82o2EE7ACwtaK0jB/Y+hQ1vvuOLUZUraTzPU+5qvnn2WYcDyuOJPUqmPYzTqDylyfvOJhSjAqMZ7cnI/tMxwGVvPqAaiQkuSSlISlNypR1eWI9accu4gVoSF2cjnYEdRO4PUULThcRlLni6kqCgUpURKSCCClQ5Wofl+bBeJS86hLoQZCVGE7k6R/TNovArdtVeoUYnqo1fBPJ7ZjQ7nZ1xFo5VG9jCohKRKlWApXbdUt4hoAa1HSmbDchIJ+Qnmav8KOOKzLDIcBR55IVYx4aliQdpEG/IilV8OJcA9PeS9RdtJAPIhzIHC+3jjNkYNz2UpMJ+gVRLgbiAKw7bc+ZICY77W96tcAZQ2pOag/A5iXGZB2bSFRB5CHOVR8KcLtJcxGMcTpY+FhtMAE6BqUUi0A2A66j0NONoh5YUdoOjxAV2EvyMQu5ngnST/ihGLzebcqSmc8TrcAMp1q0H+nUdP0ivsZolSoF+fyEn8qQelgcHtOlq1FOwMO8L43MbEz6Ve4WyxspL76hrWP4aVH4UkWMbyoGewtvNJWbZgIKRvRnD5lrbSZ5AR6cqJUmz1ERPVXhztBhVlLTbqfFAUnXeRskm1+YFj86bczODaQFpaRJFiAL1mOOxUySbAGfl+dTYLHKdZCCoWiCeUXops2jMnWIGYYlrOMySFOOpbkxpAJKdMwZiN42ojkecB5IUTOhIBk/CBYSOX5XpdwuC+8vJw6XAVuKKnFC+kC5Ue/bqRT2jKMvwoDXhpJULkp1kgGZWY2mOgBiIpe+pLRgZz/aaGv8AsxweR7So+/OpRUVJ2N5i1vSgvEGY6khKlDyqMeu2/S1G834ZQ4hSsMvTItp+ExcSBYiQDWfZVh9T8YqYQqFJ22Hpt36VmjQ+rkxuvxJNR6UHMZ/smzEqzFKVKJ8iwkE7WmB052p44ybIWTtBrOWMczhcW3iG06NDg220Gyh7Cta4nwwcSFpuFCZHpY1VZAFKiB0GdPrvWfiEz9GKKdiRIvB37EbHrB6VPggrwvMrUqR68z6Dfl26VQfSpKyDEXEE/qII+fK9fWMSWlDxU+YAKCTvfZSwDKeoB7mkwDOuuCE57/rLxVBk7C3WOvuDUqHyPhPtMfnvUP3kGUhSnUosFxpkchf5D5ncVYxCBp1DoNupPX8vQmvsZgt2cBh1nhx+uyx2kbj161Hisu8oKTqHbl6jlVVRvcX7fu9fAeWlUpURfl/ms/Wb2EfBx+k+PAVyH0rqJ/6mn8SETzrq1sX3mPOs9p5krvhIgi5Mq69ha9D+IszCoAknYQJk9uZN9r7igT+brVCE6lEmwSCVKMbJAkmBP1pq+zXK3Bi1O4xhxqEAsBxBTqVfUQVASpKRtvCiayxwPkJzJKVjHeecNfZ9j0hWJ8dvDqVcNKSV6gNg5BGj2kjttRrIM1VikKS4EJdaUpDiE7AhRAIkzBTBB2NMPEmdhCYQQBe2/wAulY3l2TuZhj3S0vwkhXmdTI0gAJITBEkwY+tCUDUkj27waXPV6uvymoow/IVUxGc4PDGHHka/5QQVe4Hw35mB3ojgeBsG2hPiB14gQS86tYPqidB/8aF5zwzgg4lKcMlBVsttOgJPL4bexBB52oiaAZ5MLZ4mzDAGIkcX8e4h6WGU+A2d7/xFXIhR/BMfCLwRe9aF9muWN4fDoH4leZauprPOK+G1IeQ4II1ISuBEiQkLjlYQQLCAdjbSMkxASgJnYWotm2raFm9KrWVsx68D7o343MylMp9KW3c7/ihCrkj0H7tSn9oGfYltCkNFIC0lPeDzRcEK78qWMJnjx0BQHlRonUSoxAEzyAvzJKpm9yO4ZMzKVBLApmjcSYVp9ooUJBHT8qxI5WUYn7vq/FE9RO/9/Q1rS8aPBBVIkfpWd4tIdxRWQrQlCp0xPmSUAybCJKyTslCjyoWmJ3kdjN64KtYJ6iExkPhYN51HnKFNPtORBU2RBHbSRrI9DzpixWUA5nhMUhPldDmvtDCtJPqDHsKuZNhV/dPu7kSypxp3oWvDITHWUFv5X51dwmI8JjDBwhRDKEqI/nCAk/8AsADVlRgCchZb6ix/kSvgX0YbAuoSYWta1K9dKQPnA96ov49f3AMtyXFBQSBfTKykG3/l6Jrlv4calrTrJVCUHY85PW527UMVnHhp0psZJhtIEk8haw2E9q9fHaIh2J6/KBcPwm215sQrSAJIsDHcmyB3gnpGwrYjGF4+Fg2kMtC2sJhSuXxXWT9fSiLGBVi30h8nSoz4aNhH5/8AIn2k1p2U5Th8OBoYSSOalfoBUTWawUts7ylSWYZJz+kUeHPswQUBx5RUo3hUj6Ag/MmnrL+CcI0SlLKCLmVJSTttJHpVs5yQICUp9B/c1X+/OOHdRPa35RU5/FKsgDLGNBW7mVc64FwTzakqbQgkWUgBKh3BHS1jINAeGfs3wSVltyXlASVE+UiRsAe/500LwgA1vGEjrcnsPWg+AzApxKHAYCjo0D+UiwjsQD8+tYbUuwAIKjrjPM1WzKwxC2N4ew2FT4jLSEqBAKki+km4+cUJxWJThsSh9Wrw3ElDliqeYt+Z6CmnM8UFNkHmIpCHFjLZLWJhBFpPwn35H1o2i1SmwqvSb1VTthxzJsY/h2sU2MIpBbeSStCL6YFiB+AG4IttS9nHCzj+PJbWEJKPN1ME7DlY7nt7WHeIcDhwpxtTalHYN+Yn5WT7kUrYXiZTqy4uygqQgfCRMgE8+h/SqiNmzcRxN+GU7rstxwcfMybi7hgNJ8rylqM2UBBjlINj0JkHtvTZ9lXFoca+4PmHkCGtVipP8t/xJ6dPQ0j5tmiifMoEyYAvF+XQdKqu4BtCG3W1qS6PMIN0kSZHv+ZpkncSV4xKOt0+SCrciadnXDLiNTm/mkCPz60qNKUjVqlUkk6hzP5dN+nSnHgDjVvHo+74ggYhI9A4B+JPfqPer+c8KJJCk2SLn970FqsjKyh4d4sjtsv4I4iWiFDSFyoiVSg+ZU/CmJkXAvHOpn8UpKFp0pWde5sobpI3hMncnaK9x+G8HUACSdj0M/vah6SdKUpSZuCReRsABEC8kk/pS5GDLxAccdPeXglRblaQFBRSqCIkEWF5MDnEdeVQqSYBB5nn8/7fOodQQ4G9OkpPwEEG0ADTvveK9XiVBJ1jTBgBQukdxvqMmx61nnExyvGQZ7qP7j+1dXzhm2VJClEgn9jn0r2vdpnnmJ/gjbwBlTGGZS+YLzyArUfwoPmSlM7WIJPM+gpjx2YF1pxCULWYsEjzdQRG1+fasWf4ifbWpsAqSmTpPlgTsTsNx860r7NOIEuYVXip0lS1BQnpEfSPnU++u1W3ucKTjM5VgqkoOSJn3GTmYtrKFoWllxZS28UmFJJtChYW52JiRHJ34JwAYYSgABSybdEb/Mjc9TRHizMEO4ZxqykoOoi1hq1JPeFR9KoZPjfFUFz+BMDoFJ1H32+VP6WxCMIMY9ovardTGzEv2t+G36UIefN4N+nv/avMRjY2gnpf8+lAF4oiCowspAN9p57A/h3ppjmYQYnmZYlKgpEDUNgTaYiJFoO1UcjzAk6YJKTFgT7G1feBwCsS9AOlA3jpMx3k/rTjpaYTobQC4SIQIlRJ3v8AUnoaXsG8bR1hV8S+zEqBnPUQDmwbcTCt++9LKcMhKrCnbMmkYltadOlxI8w2Uk1lb2bFsrbcnUhRSYHS3+aEK3U4Ijem8RS8EHgj3hrN8bCYm1BMkxetxGklK0u60rCj/uR5QUzABAiYm+8WoXmGZKXEC375Uy8GlTjiSpE6fwE7DdOkmSEyJ0z5SkEQCae01ZU+qTfFNTuXCn749ZaSkvslWpJZUW1G5IsEg906o9u1JuYZiqSne9hF5J2AHp+dOAbbTjEpdVpQSVIULXKZg9JAIr4Jwq8W4sFLQSnzEAXiEkA/h394qmDxOWYFs/WJzeCdUPMUp1H8Rk8hAA5/KpGcC1snEAn8RCREk2lU29PWiWZMMqWstAoSE2dUVLBkQYQCAN97d7UuYzCLSClGIK7WSlCUQeUkrsO8k9qWsc54Mcq04wMwxwtlgTjgpzGBQKSlIQDNymxBEBNtxvaYrXk5IjmpxRt+IR+VYDw9kjrmIAUoNzeZCirrJk0y4/Fv4YpQt4gKOlBSpUEjlA2qHrAht9QDGVV0zivf2mtu4bDNCV6ExzUoH87UFzLi/Dtj+F5z2sP36VmD75Cj4i0g/wBSwD7yZqk9m6E31aj/AECZ9Dt9aENxGK1AHyE+FZPEdMyztb3mUdthyHoNh73rzJgVuBfJEwf6iCPoCR79qT8uz5twnV5QnfUfzvt6UxHOVNI1ll3RFlBpemOytMEd6TvpsztxzGaKP/oxtxWOhMzWX5jgRiHFLWopRe8TBmJjnf5U24rKcyxTeptDTaTyUs647DTpn1NfXBn2fuuMkPuONIKlSi2tRkgmTZImeRnfYyT+GUrUS7cnpxHQyK2G6TKcbhNBgKlM77W9OVWl4NIaBB8xNv8ANaVxb9m7DaApl1wmQClwg6pMeUpSIPz25Ut4rgTEIAUBqAO29VRrqlyDPCKy2QOIOwvA7pbDynEhJ28wJ+XIUHXgnklSBBAHxA2gn92piwuJcQVodSYMygqIAvMwOVVvDU88hpi6lhSVGDCecm14AP0602r1PgLD2VoqZB6/mIJxuTLw6m1IeBVCVBSCQUHpJ2UP30rVOCftB1kYXHQh7ZLhslzpP8qj8jy3ilvOsmw6WUnxi44ZkatuUaeXpBoHnGYpfT/EA8qfKZG0bda0wxyOsDfoK2G4cfvNvzDJkLSYAg37j0pJzTBrRqSmdA5jcdelBuCPtEcw8MYslxn8LtypA6K5rSOu478tRLDGJQHEFKkqEhSSCD786yVFnyMHovE307bLeRM+Qp7SfCKFqJJLy0ecT8SvEJKgQLAiguIxBCyoOlSkq1aj5lBQIMqKgdR1flzpwzvI1NAlEwdxy+XWlz7ozp0qSEqNjOwHytb9aXdCODOjoepxvTBzx/Mr4T7sE/xWMW45Kipbb0JUSomQARG9+811SqwyPwoUBysv9TXV9z7fpPPsqfP8TFtGVuONrxL5ErBgHnaZtznai3DjgRh1KSogoVDiSZ1GB5knuIt2ihubZlKQmYSOVQ5Bkz+JlSPK3zPX0n86w6CxNpHE5e8PkFD6h/nMKHikJdKQ1rQpKkrCuaSkg6b7+tu3MM+SgNj4raUKCuoLaSJHIxv3ms7zDB+EqSYOrTBIPuPfn2NOmV4orQGx8QSNEWnnpP1I9e4rKotS8dO80C7n19YSxDknVq7DYjYD6ztQ3GvACNRKvKZKr9SO4mTzo9w5w0vFpKyfDaBICiJUozB0ja20/sXs74RY0ENvLSuIBMETPMACelYt1CV8seJpV3cQdwE8CXZ3ChN+RE0SwnEDDC8Q6fO6tYQ20ACvyiJ2lIPvaOsVmuGzd7A4lZUAdMBxANjJEFJ9Lj5GOTMxxxl8+JpPiG5/hnVYc4Gn60wj4GQM5kvUUuLCQIxZRrSh55+ErcUVkckiNp7AUi5JkTGLcfxbp1BTiihuSAQDpBVpIV0J5QfnJmGePZjKG0rbw4UA6qJVpJA80WSI/DMn0p6UwyyyyhhhZaSoedSISUp8x6FYVe5H4ib2la6xiDg4PSaoTYDnrA2P4LwhPiIWyEpEK0pEAxAKoVtJE+XkZr3LchdwDGtYw6vDlwaRCyNU+dZjUItHKOe9G84x7LrSksnxNOjUlCFFCQDqKdQTAMciflVkZzhQlASUjWCSiJVZW6emlXI9K8rdlYgnj3zNFqydp5iy9jQ2/qcZWoAFRCkzoVPS4jcgg9wYoNmOY4Jx2VsLSVDdMonukbLPW3zq3xWtbTi3WFrKEjYE/wAMaUqSNri52tfqbqGacQuKUkQkpUJKfLExBJESkk38qkxNoqlXcSIqdHhsg5E+c1S0lYl55aFXEiDEwQpGpCgR6EHcVSxDLKRIlSe0pUN/wqBBH/bpVvAYJ3EveED/AA5N3PMUpJtCvinbYgVq+S/Z4yhAMTb4lE3PptSt+s8s4UFj7D+8pU6TK5Y4EyfhHFobfkGReOW/Xoa0d7Nmg2mACo7A3IPbvVjOuF8GuC6jSAYLjcJUPU9OoNGMs4IwLJQsF1S0KCkqW4o3FxIEIj2qQxTWHzBxjqOJSNqUIEYZ9j7zNftG4Vcw7TWIUCSoDxuelZv/AI9qVpGgEGbX9a/RGfYFvEtqZdEtridJ5WO4uP7VmXHeRZZg2w2ylwYhweRAdUQBca1hRPlm0bk7bEirU+30RFbW3ZPUwT9meUtO4tC3kgpSCsA3BIiLdpn/AK1tT2dNmRsBz61hTOKXh9BPltIMH+3OjWW8ZLeIbbwy3HeiVCPUkjyj2NJalL2Y4EZKLgEx1zXiosjQ0gKWoeUmyRcjzHlR1jPUrbCknlBuDB5iRb3FLfDfCBccL+MVqUqwaQSEIHSxlW9yeZo+7whhmwTh0Fkq3LZInuQZST3IrH+m3GvAOIB9RVniLmcZ1LzcmwMgd/8AFN2ThLyNSrjlSRjOAnSsrTiFFX/7BqB7SLj2Bo5kWJcwzQbeTCxIsZBvYpPMR8udJ2UeQylxx3zDgrYvoPMXvtNyVsFLylFCAoBRSmYn3BEm03udqW8uxiG0KUlpxYSJlpBJB30rX/Kee0binHiF1vGqGD1DW8QDBuhCfMo9iAm08yKZ/uzOHw4ZaQEJFgBy79z1J3purWCpM498fSe7einrMPzbN23j4kqE30xtN+VqW8ao6xa3LvTpxrh2WcYdMJS4NUHYKmCfff1mg+V4dLz4TGoAWPL61WqvFlYsHeD1mowmWPSCFurUmAgnvFXOHeI8XgFamlEJJ8zaroV7cj3EGtKRw634ciB2IpUzjJYVYAi+1C+0Mp9QkGzX1tww4j9w5x7hMcA25/CeP4FmxP8AQrZXpY9qI5xkQUk+HF97A/KRb1F6wXF4COVHuH+O8XhISVeM1/Ks3H/Fe495ptbAw55/WNafUvSd1TZHsY5/cnRaNu6q6pGftNwRAKkugncaJj3m9eVrbX7/AJGU/wDXrP8AgYjZLl7ayXcSfIPgb5r7n+np19KOY/NxAQyA2gCAEn25UtZRg8RinktNS44rboBzUrkkDmfztWx5Fw5hsuTqc/jYrTq1FMhNoGgfhE2n4jf0pc1vmardW4UEn9ZmGM4Vx76QW8M6pI5kJQI7aymvtWCxDLel9lxpYESQQJBkHUPKT79K0h7FuOgnWrWCfjSQmwPwlKoA6fDM8zV3J8zU4PAIDsk3cAgI8sgkfFAPLcmLCsueMZjLaRlBf8R7SrwnxGtWGbUpxBRp0kRB8QG4N+e/vzmheeZy0i6iSVEBKbqUokmyUi6iSYimtjhHAt+J4belS/ihajG8DSVaQne0RvQrgnhnDsPPYlSlOOg6EeIdRbAHmCZuJMiegtY3j21ozgM2B/n4RdXwCQOYkY7gjMcSovFpDQUZ0uOAKgJhNkhUbkwTzvUOWcENpSsuqUp2YDYtMCTp31AG0mxiSLiNPzrNtIISZpVyXP2Eu4hLi0pKYC5SSSFBJAEX3i3PamKNSbGKJwoEDamF3t1l13HNfdTh8C0ohKQFaUJShOxUCpRELI3mdwT0M73FyXUlDLTin1JUnREpQdpXKgE3G83hUc6o5fxG02z4bwWwdSleZsjW2VKUIBgkAW5GBtVLIOIm23HFrSpCHV/w3A0pCEQlKAm+0hNwQBJtTaru59+snbzwc/Iw7lWeYdGH8FavBU0ka0OADXAnVa0E3lJInrzDcPZ+whUOynWtSm1qQdKQozA1DzAzqgWGqhfFGNZdxKCpxDjbaSXFBJIgx8QCSR6km3UmreaYpr7qpSBqIkpdsCozIKr/AFiLbV4F/KDyxOPbpJ3uIgUOsaS4lWtPiaJBncKSblJJM8hyN6zviPLEsFsJCrjVfmCEkR8z19eQaTj2kYdehaCVJkx+FYMDSQJv0pV4lxYeKVwUmwA69TE+W9471qksH+UPUCRkn5x0+zdCC0VmCSs/Sw/Kn5zMfKU6vasZ4OzJ1nUgIUpJMghJIk2IkC1OKM1kkat/zqPrK7VuYjvOm01QtrU+0MYnMQZRubirfATDoacU46pSQrShJiEgAXBibk7TAAERQFCVOnyhSlRsB9e3qY2q41gMzRhfBw5ZaUpalKWpRKgDEaISUg7yb8ooeiZKm5OJjxGoGsKOuY2M5g0t9bYcQXExqQCJEiQY3251iPGmALOYvhRUoFWoFRJJBEgaje2w9KIL4UxDC/EdBUQZ8RKio6uaiT5p71bx2XrxN1qUtQAEneOUndXqZqmNZWDkHI95JSlq2BMBY3HqeSkGSAIA68gB+VbVwbwm3gsMlEDxCNTiuqjuPQbD0rKuGMlWczwiFzpDmpQP9CSsfVIrfHNjVClha2/OR2nuu1AZQijEGlzTMcqi/wBaRcarjcbR86jxIPxEhIvvzjoffpQ13EqbSSSEnVAki97bW2vO5+lCbUNuwImlQxkw7hMWHNoKeRBqHFZUlSybp1fEQd/bY+4qHBv7GPNEkRAUOoHI1PmGLhIVyG9B1F2Km3jJHPSGqXLjbxBSeHcCw6HWsOhp0SQtEj4klJkA6SIPwkRN970DVmL7oWUsPEIUpJ0oJCiDBKD+If8Azevc1zeylDp+/wC1MOAzANYZpKj5ikT6m5+pqC1oty9vQfD+0pBDWML1mIZ8HH8TLjTjQHlSFpKT9eZp74ayBlCAopvvP96r8f5upK2loVBkgwd0xMKGyhMbz9anwHEg8MHwtcbhEA/KI/L9KorqbPKVlGB7SPradz7WaHnXhpsBS7mKkkEx26R61aczNkq1BLggRGkiOxGx9jVDOHkx5RzvBvavDqC7DIkfUaQ46xfxuESq0enOl/HZfzplfdEbRQrGKtFhTdLNnrF6hZWesXFYc11FFKBrqb8wx/7S01LhLBnCYJL0fx8UdSlWSUtxI0mLbhX/AGPQVzjI8yguUTPz3kcthb/IqxmuKXLbc6Q2huEbhUok9b26fpFHxmySBEcyE+oJiCSedvaK9Lhp3Ogo8usHHM+m8QUg7i1hsY6d78r+1qkyfHfd1FxRBJGnTvuQetvhH7ir+R4XCeA6675iCUifLeIEDkTPeIO0EUDbw7Qve5gklNrbWEH1AG8mKw6EjmNlkt3V4PseOv0hTE8RFRA5qPlCRKj2gST6Cr3+i49SvG1IQjRHhKJKzFwSR5U9Ik+0RQ/gXBtIcexCgPEB0JvOkRJIkcwQPY9aYMfxEkJICpqHalVZOTk9JGvQ12bE7TLM14qX4qmvDUlYn44+kG88j/8AKvcO4dlp9kOqCVuBRK1FJIctANyNybRzNU+IvAxDilKHnaSVKgEyi5O25SfNHRR5Cj2EyxpvBgKSCFo1qeGxURZC4tq1GJPsRaqmmRAg2DGesmawuTj25/CfXGOKSHMOolkrUo6yhUgtwowUxPw9jcjkKkzjPGVYZQbDJb5KCwDJAiEkAL369LUO4MwzQa+8KaLi9oFytN0gxuU8/WewqpiFN/fQiFIbSNRKpT4ZIgyFHc6oJNzpB3vTe046xItkZPeT5C5hkoDa0JU6B/EQoKTA0iT5oAUOtxAFxQR9Ta3VpKkobKpQAoEAwYnkSZk9ZonxXiGy3CGEIj8ZI1GxAgTPQzcn5ihWBxDIbXqSlRvMk+Sx2vPW0dL15ggfOfBB8OR9feSZo6y0po6AJutMyYiBMXvczHOg+HbOLxMm6R5Ujaw6x8/eo/vCUNKURLihpGoTysRPTf2FFuFh4aQob16ABz90seGUiyzLDgc4+c1LE4PCYTChKYU6UiDPP+1ZnmyVKxDfhAa3FBMcpJgE/P5UQx2LVczQfLsZ/wDltKP4Vz8qW1AG7cB0EvFfLqYEksec/tNs4fy5tltLafc81HmTRPFuNpSQBJ60uIzkBAgj2qhis8Eb1A87apULlj3PMm/Znd8mEcXid5vQTDFIcIA3nlz/AH+tDcxzw7DnzoXhMUpTqYUQSZJHIDp3rNGmbaS/AjVtSeUQY35KyPv7Tncj/wBFCtDJG08p/t+VZbjs3cbiHHCEQT5jcTeY36U/5XhwkBQg6gL9Rci/MXJ9zXQeEkeWVBz9eJzeq6iU88aXBKCARcTt/VPXy/sb1SwuEaIIgKUk3kWSqAQIN9oNHcxbJFt6XWsXoWUrK1JFgfLEmIQJMkzYCCdu5o1hCuczKqWTAk7OrXzEXA69SqDAHIelXnSICh8Ktx3r4LyFpkqO02NvfrtvVdvEJUI/ArmbGeUCT2rJQYwDz1/mDDnO4/SCsyylEHSkD0EUPcU5EEEhItHOmVAmx3Fv81G7gelYfSVXgEjpGF1D1n3mF5lma8Q8pagQEkpCP5YNwe87/wCKI4HHaRY+XeDuP71f4q4Ze/1NCGBBxA1dhBhRPaIPcnvTrleQYHByPCGIfHxLX8IVN4HKL7D3oWqaqpQp4x+U2tTXnd1iQM7SFFWrzc71WGZSdI9bVqn+qqKYLbOnpoEbbXNBsbw3g8TcIThnzOlTdkK/5JmBPX60lTfQzYnt2gYKSBM4ckmI9qqrbPceooxjcKvDuKadGlaTfnY7EHmCOdVcRiBsDMdbVYGzEhsjhsYgnR2rqu+MP5q8rfp95ra3tNY40AT4DnhtqlBSoqBJtAHPlJpbbxRWTHobARy7murqCScD6D9J+heG86dSfn+skURq0pVYC5veOtrjtEXr0vlQKSQPRAuReZtyB3ntXV1eljHColzhzLUKQ84tS0pQJITHQnVa8wDba9IZ4hddQop0oBMJJkqgkRPKdJ+Yrq6tCisgMVGf/ZzPiVjfaW+79JQyBtxeITDhEODzEk3M7j8QgERz2NqZsahaQG8O8tLTqgnQkm0jXCdZtI5TFx3rq6vbeOkjv6lOZYVkiUM+Nh3ChxKdagCsESeZJ0r7yPTYVTyjLGnmfFeK1JWY1kJJCwfxapMdAkEV1dXy9vugmQBhj5wGjDpL5ROoJumREknaJttHavMycb8RHk0gJGsC+5J3t1m011dRD1nw6GDc6eKlJM+WBA9LT29PTpVzLsw0CK6urTAYlfw9yrHEmezFSqlyJsqeCv5f1rq6lNTxWcR6+xj1jNiXi2SQYBqVGIQUHUmSRaurqlVgYDd4fTsXUAwTiMchKdESobAWHz6VNkjswYEnf99q6uo9v+3FNaxB2ie8R5r4bSzFydI+u/1NP32QZ6cRgEoVJWwfDJ6gAFJ7+Ugexr2uqh4coVOJGv6R2dvS3nOHVqC0KgiSJ2B0EAwO5711dRNao6zzTE5gzB4xJBheuFabpgLKQVKURyBSCdPcelTM4gGSsgqJInSBtYgQOXK9e11L0/F9091PHT3n23iICZJ1JISrnIO094IPzo+hAiurqNpfjaYs+EQfj20oWX48yGlBJ5jWpIt7gH2peCOc17XVz/jBPnGWNB/tzx7YRzP9/wC1VFu89hyrq6p6KMCUFgH7SMN4+Gw76CdaF+ErlqSUyJveIHzNIJy9yJOqPUf3rq6um01jeWsgapQLDifP3T+tVdXV1N7jAT//2Q==',\n",
       " 'data:image/jpeg;base64,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',\n",
       " 'data:image/jpeg;base64,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',\n",
       " 'data:image/jpeg;base64,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']"
      ]
     },
     "execution_count": 196,
     "metadata": {},
     "output_type": "execute_result"
    }
   ],
   "source": [
    "# Image for Fruits\n",
    "\n",
    "url=driver.find_elements(By.XPATH,\"//img[@class='rg_i Q4LuWd']\")\n",
    "urls=[]\n",
    "for i in url:\n",
    "    link = i.get_attribute('src')\n",
    "    urls.append(link)\n",
    "urls[:4]"
   ]
  },
  {
   "cell_type": "code",
   "execution_count": 197,
   "id": "fe99a47e",
   "metadata": {},
   "outputs": [],
   "source": [
    "# Going for Guitar\n",
    "\n",
    "\n",
    "driver.get(\"https://www.google.com/\")"
   ]
  },
  {
   "cell_type": "code",
   "execution_count": 198,
   "id": "e5734e16",
   "metadata": {},
   "outputs": [],
   "source": [
    "try:\n",
    "    search_designation=driver.find_element(By.XPATH,\"/html/body/div[1]/div[3]/form/div[1]/div[1]/div[1]/div/div[2]/input\")\n",
    "    search_designation.click()\n",
    "except NoSuchElementException as e:\n",
    "    print(e)"
   ]
  },
  {
   "cell_type": "code",
   "execution_count": 199,
   "id": "92f1f3e4",
   "metadata": {},
   "outputs": [],
   "source": [
    "search_option=driver.find_element(By.XPATH,\"/html/body/div[1]/div[3]/form/div[1]/div[1]/div[1]/div/div[2]/input\")\n",
    "search_option.send_keys(\"guitar\")"
   ]
  },
  {
   "cell_type": "code",
   "execution_count": 200,
   "id": "10e154f3",
   "metadata": {},
   "outputs": [],
   "source": [
    "from selenium.common.exceptions import ElementClickInterceptedException\n",
    "try:\n",
    "    search_button=driver.find_element(By.XPATH,\"/html/body/div[1]/div[3]/form/div[1]/div[1]/div[2]/div[2]/div[5]/center/input[1]\")\n",
    "    search_button.click()\n",
    "except ElementClickInterceptedException as e:\n",
    "    print(e)"
   ]
  },
  {
   "cell_type": "code",
   "execution_count": 201,
   "id": "9d35aeb2",
   "metadata": {},
   "outputs": [],
   "source": [
    "images=driver.find_element(By.XPATH,\"/html/body/div[7]/div/div[4]/div/div[1]/div/div[1]/div/div[3]/a\")\n",
    "images.click()"
   ]
  },
  {
   "cell_type": "code",
   "execution_count": 202,
   "id": "46a00a65",
   "metadata": {},
   "outputs": [
    {
     "data": {
      "text/plain": [
       "['data:image/jpeg;base64,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',\n",
       " 'data:image/jpeg;base64,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',\n",
       " 'data:image/jpeg;base64,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',\n",
       " 'data:image/jpeg;base64,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']"
      ]
     },
     "execution_count": 202,
     "metadata": {},
     "output_type": "execute_result"
    }
   ],
   "source": [
    "guitar=driver.find_elements(By.XPATH,\"//img[@class='rg_i Q4LuWd']\")\n",
    "guitars=[]\n",
    "for i in guitar:\n",
    "    link = i.get_attribute('src')\n",
    "    guitars.append(link)\n",
    "guitars[:4]"
   ]
  },
  {
   "cell_type": "code",
   "execution_count": 203,
   "id": "d7c4e158",
   "metadata": {},
   "outputs": [],
   "source": [
    "# Fetching Car Image\n",
    "\n",
    "driver.get(\"https://www.google.com/\")"
   ]
  },
  {
   "cell_type": "code",
   "execution_count": 204,
   "id": "ee7a7b00",
   "metadata": {},
   "outputs": [],
   "source": [
    "try:\n",
    "    search_designation=driver.find_element(By.XPATH,\"/html/body/div[1]/div[3]/form/div[1]/div[1]/div[1]/div/div[2]/input\")\n",
    "    search_designation.click()\n",
    "except NoSuchElementException as e:\n",
    "    print(e)"
   ]
  },
  {
   "cell_type": "code",
   "execution_count": 205,
   "id": "920ba760",
   "metadata": {},
   "outputs": [],
   "source": [
    "search_option=driver.find_element(By.XPATH,\"/html/body/div[1]/div[3]/form/div[1]/div[1]/div[1]/div/div[2]/input\")\n",
    "search_option.send_keys(\"car\")"
   ]
  },
  {
   "cell_type": "code",
   "execution_count": 207,
   "id": "27dcd8e3",
   "metadata": {},
   "outputs": [],
   "source": [
    "try:\n",
    "    search_button=driver.find_element(By.XPATH,\"/html/body/div[1]/div[3]/form/div[1]/div[1]/div[2]/div[2]/div[5]/center/input[1]\")\n",
    "    search_button.click()\n",
    "except ElementClickInterceptedException as e:\n",
    "    print(e)"
   ]
  },
  {
   "cell_type": "code",
   "execution_count": 208,
   "id": "3a90e7b5",
   "metadata": {},
   "outputs": [],
   "source": [
    "images=driver.find_element(By.XPATH,\"/html/body/div[7]/div/div[4]/div/div[1]/div/div[1]/div/div[2]/a\")\n",
    "images.click()"
   ]
  },
  {
   "cell_type": "code",
   "execution_count": 210,
   "id": "5e9e5b5b",
   "metadata": {},
   "outputs": [
    {
     "data": {
      "text/plain": [
       "['data:image/jpeg;base64,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',\n",
       " 'data:image/jpeg;base64,/9j/4AAQSkZJRgABAQAAAQABAAD/2wCEAAoHCBUUExcVFBQXFRcXFxkXGhgaGhoaGBkcGhoZGBcYGhccIiwjGh4rIhoaJDYkKS4vMzMzGSI4PjgyPSwyMy8BCwsLDw4PGRISHTIpIiIyMjIyMjIvMjIyMjIyMjIyMjIyMjIyMjIyMi8yMjIyMjIvMjIyMjIyMjIyMjIyMjIvPf/AABEIALcBFAMBIgACEQEDEQH/xAAcAAEAAgMBAQEAAAAAAAAAAAAABQYDBAcCAQj/xABJEAACAQIDBQUEBwIMBAcAAAABAgMAEQQSIQUGMUFREyJhcYEyQpGhBxQjUpKxwXLRFTNDU2KCk6KywuHwFiRUgzREY6PS0/H/xAAXAQEBAQEAAAAAAAAAAAAAAAAAAQID/8QAHxEBAQEAAwACAwEAAAAAAAAAAAERAhIhMUEDE1Ey/9oADAMBAAIRAxEAPwDs1KUoFKUoFKUoFKUoFKUoFKUoFKUoFKUoFKUoFKUoFKUoFKUoFKUoFKUoFKUoFKUoFKUoFKUoFKUoFKUoFKUoFfL1qY/HxQoXlkWNRxLMFHxJAqrbQ3qndW+p4SWUA27R8sEfH2s81iy9bJbo1BcJJVUZmYKBxJIAHqawHHppYlr+yQDZvBW9k/GuY4tcTKFabaUWGJvf6qjzvY8FGJY5kPk9q0k2Js9XEjvjMVL9+SZc3hlKOGHXU1cHUYtvQNJ2RfJJfLkcFTc8Brpc3Ftdbi1St64pvhvNKXBjy3CZlfKCzql2MbZwTyYcmB+FaK/STIwFsQ40GnZliPC99aYjvN6Vwob9TNwxEv8AZEfOvab2zn/zEv8AZmr1pruV6XriibzYj/qJfg/6Csqb0Yn/AKiT17X/AONOqa7Nel65NBvPNzmY+sv5cKlcLvVJweVW8CJFt/WWx+NOlO0dEvX2qS+8ZYdyRFPUuWHqpKm39YVtYPbwW13LfeBZWW/VLFnF+jE2qdadotlKgsLvHC8giYmOQ3yq2ge3HI3A206EXF7VO1GilKUClKUClKUClKUClKUClKUClKUClKUClKUCtTHY1IlzObD8+QHxIHmQOdbVUneTag+sEX0hFhw/jHFyT0KoR5ibwqyaluIze7a32kDxwRvM7ZImdAZVLLfuGQZYrWuzFWAAsCTfLF4jZ08hzYrGAc8sYLkfsyy3C/1UAqBfaZlxjSk3ESZI/AycSPHIB+OpXH4WRVZ2kSygsePAC55VrJGbar21kjOIWFGkaNnVWaSQszKozykMLZdAUsLcamScID/4WAfsxICPJgLg+N71W/q0pmzLHK4CWzLG5BZ2GY3A6KPjUxPsaW9zJGt9bHOCByHs1Zn2VqbUFzCx1ykg+NiGb5lqq8KRqMkinMhZTYad1iL1ZsW47PKTdopLMR7JzFjcHifa6CqxtxSmJZl7ucLICND3gMx/EGpP9DYDxD2Q3yoMYOQ/WsMqmzB1yyIQsg0sb8G00v5aHjWCMWP+xWhKw48dbEVvQYokEggjhbr5Hl51ZN09jYYwLK8YdySDm1AIPJeHSqpvxhwmLlyd0MquANB7Gth5qam+rjagx7XsCR5/vvUzhsdIDbvtbmAwHoT+tVfZ2+Twxoi4XDuyCxkdWLvqbE5WGtrD0rom6W9K4qItkEbo2V1X2dRdWXnY66HoabYnVGxbdto2vgR6cP3Vadn4Fpo1kXsmVhcA8RYkEHu8bi1UHflezxAlXRJh3vBxYMfUFTzN71JfR3vCQZcM51X7RfQhJB/hNvE0t88TrFjxmDRTkkj7MngRw63FtL8DcWI01FS2wd4mjkXD4pswfSGb73SOTo/Rve4HvWLpsUsilHFwfl4g8jVW2jlUtDIRIhAN+gbNlueCtofA29Kzvb5MvH4ddFK5/upvSVdcLiHzE6RSni4+639MfPxPt34NcXGtZsx0e6UpUClKUClKUClKUClKUClKUClKUClKUGKVwqljoACT5DU1+f8Abe22e5OjSlmI6Z7uVv4A5R+yK7htnvxtECR2iOjEGxAZWW4Otjcg+lc5b6NYSbvNiDpa/ax34g6L2VuXX1Fa43Ga51sqVmYBWszuXzHUjLwbxsqiw/KrVtjbrQvHlIBJJ15gWH61r4vcDFYeQ/VpI5VKkIWdYZIzcEF0c2YaW0JDXrEm7u2Igck0LF2uR20DG/XvmwFuQ08KtsMSi71qx9j+/f8Ay1s7V2gn1R5Dc5BmA6Ny18eBHP51CNu/taRCJGweoIs5wRfzDBSVPiCCKjX3U2pkMZRXQ8VXEYc3troA96ms3hd8rXweJEnbG5CuCy3437QZR52rQ2+uZIpByDRn/Eo+bVhx8c0TrGYTG4OXJa5LEgqLDi1xoONrVZdmQsUdJsNIuYWZJUZF81dgLa+IOngDV5cpLsXLFfxWLR3lZSLOVtmOUgKFHPnp41pvBGdS49DervhcDhCQi4SF2OgAlDMfIFyakl3ejPDZwHk0R+TXqfsgp+7O2lwZcFy8bgd0cmB9oAm3DQ+nStXeLHrNL2glzgqQO7lKgE2Qn3iLk3/pcTV8Td9P+gb0SF/yjNDsqAccME/bwsRHxyin7OO6a5OUHUflVn3Kx6QNIHf+MC2ChnYlcxPdQE8CausWxsOTrHhCOhhMZ+IuBU/gN38EVIbBJKT9x4WtytYMht51L+SU1zffPakcsSqrkSI4bIVZTYqQSQ4BGhFvP4V/Z2PMM0U4IsLB7eqMCOpXWuw4ncrDMxZIREOUZia3qY3Yk+o9K+4Pc3BRi8+GEh6nQDyRe98ak5xdRse01I9tfiP314xGIszOAJEkUJIgYA92+VlJPEX8PWp3/hvZRNlwKMembKfwuwPyrXm3RwZvlwMadO+NPP2r+gFNXYo2LckFHDJrdCbZhY91u6SPMA89LezVp3R+kJmiMErgSx3Oc94Mi+01hrcalrcR3hoGt7bciE8ezFtB9rLoBwAUILDwBrWh+j9EkWQY2xVgwURvYW10YyE8ba+GlXtovuyN51kYRvYMTlBHAk6Cx8fHr6VZ65xgN3o45RI2IUhWDBFjZVFjcWPaacOHDwq4rtheevl/+1nVS9KjF2xHzuPStyHFI/ssD4c/hVGelKUClKUClKUClKUClKUClK8twNBSsbHO651dAGGYliwtcXNzwAHj0quYfaTds0TSKHXXKJEa66d4FGOlyBrY+FWOTa6RrlY2tw8qpO08ZCWbso0TMzMzBQC7Mbkk9L626knnWe2OfJc1x0gFlJt4V4l260bqjvld9FBvrpca8FuOF7X5XqkQzWN9R5G1bmNDzGPPiJckZDCMOcuYEa3OtiBYrqNdMtTvElXE7clHM1ifeSYdag5drSD3lPmq/uvWpJt9xxjiPowP+L9KndNqu70bKxmJxr4qG2c5GDqwidWjVQoBuDm0BzA8hwqY2dtbaeMCQ4vCRTRxFg3aowdnAKgsA2W4PPKNL9aldk4k4uQRqvZgjM7qxLZRxCGwyE3AzcQOFjqLBi5IsOgUFY0A7qjTQdANTS8tanK4qb7vyWv9ShXwWOP9RWvJjp4BlMEaL07FAPxKLfOpjE7Yw76drY+IcD4kVCY6X7rkjqDeorNht6pgbjIviFB/MX+BFSMW98hNpGS58vyNUDa6SZCY+veI4gHn5Xtc+PmRN7hw4lXRUJj7UMVZlDIzK8cRLA94W7UnuspOUC9b48JZqSas77wREXcR8eWlaku3sGOMiqauu8MU0SBo5R72hVACxXucQbJca2udeI41zXZm3tpT4uKLtSsUkpj7QwQlSVVmkVGKZWPdYcTbS/StThMXqlk3sjUWjxDHwGYj4HSvSb3zH2Y3kHXsxUjiML2kWIkileU4dC7CSDAsr2DMVQLEHU2SwLgA5gQDyoUu82LgdguHwaOgIfLBGpvdbNkFhmsUINuZ4ik4GLiN4ppBpgu0Hk3+WvSYrEn2MBLGf6LMV/s5ImX4AHxqhYve7akyhlxOIZGH8lljykXBU9mo6X8iKz44Y1YoJosdjcUsyMWCyyI8TplzxuMz62dSDpcHhVvCxcXlGxze1g18xHiF/wAOlZPqeKbjA6+Xbj/FEaoOxUxOIMyPisbFJHC0sUbTMe2KAlogxsQxA0spHG/K8fJicUti7Y9EuMzfWS1luLkDKATbhcis9aY6pHsmc8VmH4/1hrZj2HIffmX/ALZb/Ktc1n2biRizh4sZiJwyJJC4maLtldQ2gYtlPey681N7Dh8kwOKXDSTtLi0EbrGq/WGzNJfvqQVGTIASb63sLcbOpjqf8AzZSFmLHlnikW3hmF9PStc7JxqnTK3iM4/y1zLaUWIRIJIcTjJBNAkrA4kIYy1xlufaGhN7Cviz4j6pHMuLxpkaSWN0OKyKBGVsyuePtAEddeFOq465HtrFQACaMEXsCTb0ubVIYfeuA/xh7I9WIy/H/SuJnbWMiwiYpMbis5xDwPHLKJY7Ksb5hmurCzgG4510rd9FdcOHjVHxUbydpEIRkZAjG4WMWPeKlSTa34bIer/DMrqGVgynUMpBB8iONZaoe5eKKTSxFmOaWRLFcpZkUHtQo0AIBueJzpflV8q2YpSlKgUpSgUpSgVinayMeik/KstaG2pcmGmb7sUjfBGNBwjGbaWWZ2Z1AJIX2iSLkA3AygdNb25cq1nfKTrf3h4iqngMNPO+WFGcgXyrwCjrytyqawk5aOzXDIxQg8QGuQD4gq49Kzznmxi8V7xSRFVZbd5VPxAqFx+LynTqfzqNixLGManTT4VhnctxrkzOLbO0z1rE+0Cai3uK8oTeri9V82FjhFH2nPKDxsSbWA9fyvUBjtryyuzCx1s0jsEQH7oJ9oj7qg2rxj8SY8OijiQLefAH5k+lVTFY4g5VtZRlBOvw9bknmSTzrXDhL7VkWYCR+AjkPSOQFvQMBevEExU21Avax0IPMEHh5VWI9pOCL2PiNCPIirAmN7eMuT9og7x++nDMf6S/l6W10n01iVw8zXuOR0/f5VJ4HNGSUjWQNc9me6QTlvlcEEA5U7pJ9heYUrBYKe4tzGlSmHxTKQVOtTjcY+Fgxe8ErKnayxRMoDMs4nQG5OcB+zkjIKkaa2y2tYm9UgEn1ozCfDMZJu1Yw4mIOHyuoKrI8ZNxIwvfNexvfNmn/wDiF/ejRh6qf1HyrSxL4SXWTCrc8wFJ/FZT8633a1YjOiQPmimiDxuk0sUDNmVkKsXaMyIoHec5SozFiLEk1zzfXbUeLxKT4aNkRIY42dwoLOt7M+Rio0KjjyqawOytnI4fss1vdkzFR42DEHyIIq47P2tCnsyqgA4agW6ZQPlTua4lAocMBC8hDE3Qnug8jZTpVlw8XabNKGCSQwYpLRgkOBKktzfISRpFyHKuibSg2biQRKIWYi3aBQJB5SZQTx4G/wCtVPFbtJDFNFDIs0MpRjZ8siZGzaLlYknhax0uc3Kr30lQ26EZi2hBfDzQiSRYz2hJBDOuYAlF90NUNisBlQ/8lOhAIzMxIuNL27MVJYXZT4eeKaOKRuzdXsSTcDlcRi1a+M2NnZmSCZSzFtWJAub2AEV+dGkntvFSo+AxMUbs64ZDmAOXuzzoVNhzUWOvA1529vLiMXCY5EkdDK0t2UR5S2pRbe5c3sbnxrVxez5JY4EeCW8MRiuol7w7SSQG3Ym38YRx5VhbdpyO7C6nqxl/Iwimokd48MDHgz2HaWwMHf7TJa+drZb68b+tYMZCP4OwX2Svc4pu9Jky3kC6d4ZvY8eFbm0diyTiPOkYaOGOEHtJALRIFvYoBrqePOvc+wpXhhhcREQK6oRIP5SR5WJGcXPet5KKmmo3akNtnYBFjzNJLi5AqksfbijAAF82kRF9avWz2Mar2jywLFGFSRoVUszmIyXjjGbMeyVSZLsQWve1x42Bho8IkRlmR2hjZIwisbB5JJLXF+DyXJvqY47CwJPrE7yxq+ZUaSx4GyqbEEA3vpcD3eQqb/DU3gsSBPBKFbJGzAMyxxqqOAG7JYwA6nQ5uikaEmukVxSXbuJxb8owTwS+b1c3PqLV1nYLlsNFm9oIFN+N1GW/yq6RJ0pSilKUoFKUoFRO9MZbA4tRxOGmA8zGwqWrDPEHRkPBlKnyIsaD80bsxShF+roDJcSMxyixJKxIGYjU2aw53biOEjjk7bFZo1t9ZhSTKBr2i2LADjcKsnzr7sHDSJHInEh2jeNfbV41iljJHNWMM8QI4F7aZhWrtmTssUilr9nIVLf1lWQ/3pKt9liVdsBsNRHlZfiK0cduyupS4+Y+FRZ2kY5GVJuzZTb2itz52y/E1Jx7wToB2ipKvVlsT5OlgfOxrj1uax1qv4vZMie0tx1FyPUcRUaMOQw5gniNavsO82HbSSOSM9bCRR6izf3aw42DAyfaRzxKw72jhWNtbGM2Yn0vUNqkbwTEZR9yO/qb2/xVBbM2ZJiGyxrcjVmJsqDmzsdFH58Bc6VO7eiaVyFF2dkRRoLklQB0FecdixAgw8PsDvM/AytqDI3ROIReQ495mrtxnjU+H1t38Mgs+JZ255EAQeRY3YeOla8UCRNnilDqDcqRlboeZB0rHJsmURrNLeOOQ9x3ORX0v3FsWIseNreNfcTsieGNJmRjFILrILPGb6C7r7JJBFmAOhrfis8D5JCvLgPLivy0qXWYKpYmwAJJ6Aamq9e5Vh0Hy1H5/KphCGSxFwSt/EZlv8q48p6la8u27H+Lt0zNY/AA/nX1duqeKfA3/MCpPYGFhEWNxs0QlEUgSOIswTM7OSzlSGYKqqAt7G5vyI2NjbawGIlWPE4GGJXYAOrzAAE2N+/5H487A9eP4+02HiKXbEfPMvmP3Gs6Y5G9lwa6bivovwDDupJETm1SU2AF7N3w2lrfGubNsbDAkwhiFJUs4U5iDoyHMTYrY2PDxvpnlwmbE2M8ctbUc9Q8johyqdeduFR+O2i4JSMqttGYkLrzVSdLjnXPqSatwxSjiwHgSPyr0Men3x8ao0UbXW7O4NiSFzoNTcdpmAFudhp42rFGiMGsVJBHA5+N+Ilyry4ir0XqvjbRj++Pn+6sTbVi/nB8D+6qZ9WTONBwBN1a/Enin2YFra6jrzrysaMpuoJBFrZZDz5R5bepIp1OsW99sRDjItYX25D/ADi/EVWciZsoPu+xmI925+ytx55S/qBWDswF4XJPNSg4cLRXv628L61ep1iz/wAJo+iOG8j+6sKvmJ1AA1JNyNSFGgBJJLAWAPG/AEiqTMFYlLgg+Gh4ftfH1qbTEF4mZCVZ0vpydCCy+vteoFXFxfMLu7juwMkbLB3Cy9oFzubEqtr2W/3gz8eAq6fRZjZJtnI8rF2LyWJ42zXA9LkelU7Fb7DaDQokRjCuHe5BLvYKpFuAAzfEcLa236I0y7Kh8S5+JvVswXelKUUpSlApSlApSvlBwh+wTGTrkmbEPisWGytliihSbtTK1lzFgVBGoAsCfGq7yFVlupLKDqWtfvFgx05Zr28LVcNugR4/HqCysZgxI07siRogJ5gviA9usSnkKpO2cbHJK8nZ918rmO5XKzqryAHkA5ew6WrQ3tgbJbFh+zkiQpYAOxXOTqQuVWOg5kW1A62zYnZGOwt27ORV+/H9pGR1YpmAH7QFV2PsL3VpIz4628mX9anoNsY7ClQszagFUlBBI5EB7EjypqMUO3gwtLEkg4ZlsjD4Apf+rWRpsO+sbMjDiji1h1DXIPjqPKtqbeyOX/xuAjkPDOoyyfjFn+dYp9n4OZDLhHkhYG2Wa/YltO527C0bG4tnYjUXsDepZL8mGJTIM5HAED1FmP4c3xqPwcWSOTGOhkCOqRgrmQysLhpb6FUWxynRmZAbjMKY2ZxEscgKskhQqwswAVTlbrbSx6deJ94PeXEYNFWKQ5Dq0bKrxOXGdsynmQyi4sbAa6U+JhEgdoyY/Z06SOZZsKyzhie86ezISb3OXM1z0yVp4vakkGF2c6ML9hOjKwzLIhxMt0dTo6G1rHp4VKYGSFGTaMMeSF37HER3YRRMyN20ZCgkpIpVkPBWuDawraGCwuKxTSs3/JYOJAGYZT2cQRrNEQD9pJIygWGa7BdVNRUNtzZogeLKhRJYo50QkkxiUaxFjqchzDXWwW+t6wyORG4HHK1vMC4ptveJ8fNJI3dUC0SfcS5vfqxJuT18AAPeETPY9QD8azz+qlTW7URnw20MEpVZpJEmiR2CmUAsWVM1tSpUi+hzdATVexW7GNjPfweIW3PsnZfxKCvzrfxWzc6orZHCDKmdSWVeSZ0ZWKjkGJtewsK+wYeWIWjkkjt/NTSxD83tXXh+Tr8M2ajcG+JkkSJ3lyqVGQs452VApOhJIAFWHeFxBGI1421I687eF/lavWztryxSiSdZMXZSqibEvJkuLFoyyAIxGlyDoT1rX23LhZyXdMXHYXIEsLoOurKDTl+S8vmp1/iqDFMvs3MjmygC5udLgczyHj5VsR7MZR3pIo2vc2eQtz0JVXXnyNacWIjWRmGa2oS9iwXhdraZiONuprbV8wzAMB42HrUkbZ/qOoPbRkgD+TLE2FrlmAN/HSsOBws87OkMbS5CLsQGA1IW/aEqpOunHQ9DWo20gLjITbT2v9KmNz9548G0rPG752R1ytaxVZkIbUXBEp8NLEG9S59KyJutjWIcQ63CgiWADMO7lAD5QdPZty4Vsf8ABmOcZXj9lwpDSI2VzlAU5M1mOdNP6a9RW5J9IMWYP9UkYrmF2ncd13lkKFbMpH2jgEjNa3e0vWJPpDyEdnhioUIFXtdFEfZFALRhtOxj4kggENmvUGOTdDGLZLK+YWyiUhLfZqB3wqG5ljAAJuWFQ7YQIQGUC7WKi49kjMDoOvKpOH6QJUsEhjNrW7VpZgLGIqQHewIMUZB5FdLXN43FYqadQEwzKAzyARpKQXkEed2Ls5JOROdtOGtPdbnLj1ss9/rYaDD/AMyh83l/+ysmCjQuscaLGXdQtmcqXv3Ac7Hjw06gHqNQbCxjqMsM5Nh7hGvPQ2rGm6u0HNjBIt9LuQi+pYgWrVrni6YXYjYRZFvBFI2ZVkld5JFR9MiQIB2TBSwLEs1/Zyg3HV90EQYVeyXJHfuKBYWAC6A3IFweJJ6kmuPYaOLOimQyysVURQozsWOli75EGvNS3lXc9mYURQpGPcUDjfXidbC+t+QrHtvqt2lKVQpSlApSlArFM+UE1lrDPAHFjf0NBxHfHEpFtOV3VTFiIoy2a9iYslx3SDcGOMgAjXLyuDzjGYrO7OeLsWPmSSfzrv28P0cw4r2pZRrcWIIB8iDVNxn0O5fYmc+ar+lXRzHA4ftZUj5MwBPQe83oLmu+YnezDyJ2ckaOlrZHVWW3C2VgRXPJPo+lguVdj6AVGYjAyR6NeguO0MNsyW+WMwn/ANJyqj/tm8f92q3idiiMlsLi8jeOaJiOheJgD+Gogu3Wmc9ag+bSSbKvbMrEPYMMpuCAASVAueOra+NWTF78Ng8NhYooEZ/q0ZMklytxeMqFWxNsh1Lcb6aa1ma7LbieI151Zdh4HDzRdriQCmDVpGT3pUL9pFEt+JMjyIR0kUc619I8wY/aWOw8k04Y4aL7X2Ujg+zIbgVvPwOmY2I15VtYnaH2TtLhAcPiihEeaRS3ZMSrxzgWABZzZg19ByJMVg9ozzYTaONxBJa0GFUEdxFeZXkiSM6KoVFGXx86kI96+xOFjxeZ8NNhY3Y3bPGzSShpVYHOTe9yDm0uDcaxUVgcThJRJBhcLkAjaRppGDynIR3BYWQG4WwNjppzqKZ7HTMtujsKuWM3ShwSySxT9qmJRViXQkIHjldw40kW6xqCAP4zw1pGMLlzbLxtwPH4+vrVnwjIMUw/lJPx/wCle1x/V5fxr+qGtLsnPMD0/wBa+rgHPP5f60yDd/hFebTfji/WKp3Z2yYZ4ycS2KjQ2KqphZ21vmKlFyr0udeNrAXrEUDxveyEixBYEgdO710OpvW8cZOeMoHkgP51LgtmB3P2WLyOcQUGmaeWCGO/gRYsfAX8a3XwGx10z4Y+eOkPyVGqjsrSG8mIkY8PZUWHQW4DwGlbOH2ThWPfmxHo6j81NFTe002UoAjwkU2a9zFPN3bWtdmiXjfl08qjl+ojhs6PTm+ImIA4695QBUpgti7M94TP+1Mf8oFWDZ2w9jqb/VUY/wBOSRx+FnI+VBXI8fslFBaCJm5iPDSMAegeadc3nlFG3k2aARFhsjWNiYcGqg8r3aQ2qo737HOExLLGfsXJaJh90m+Qn7y3t46HnUbg8eFuHQOCCLkXIv48fUEH8qC6LvPb2XhX9iGD81jrai35ygi7ynTvEyxqOOgSML0OpOtuAqt7N2rhUWRZI8wdCugQOtxlJjlZSym3Igi+tr61qS7wlcP9ViAEXamU3Azs1gBmfibAW5DjpwsFuffYtoY1P9WRz/7kpHyqLxO1gy2RGBPNrafM61VjtVuSgf78qm909mz4/EpAmgPekcDSNL95/PkBzJHjV8HVfoo2AnYjGupMjs6R34IisUJUfeJDa9NBxN+lVp7OwKQRpFEuRIxlVeNh5nUnnfxrcrIUpSgUpSgUpSgUpSgV8Ir7SgwyQK3ECoPae7MUoPdF6sVKDje39ymS5QaVS8VgXjNmBr9JTRKwsRVT3g3ZikBIAvQcQBsfKt7Y+LEcmU+yTdeQ4hst+RDAMDyZQRqARK7Z3eMZNqrWJULxNalSuhbewoxezHiwojOJlxKzSxjLG72GVnVWIV2sEZsmhJY2BJFQabqySYBcPi/+Wlw0rNAXytI8MmsidijFtHCtmayjOdQLmqzh95JYhYMHX7rKG/2K9Sb2SMCpsqn3UFh4/K49aZBK7UxaRxrDHmCRKQgzFiDmL89LlmYm2l2twC1XHmIP5nxNas2PucxNyfl51qmcnhqTV0SQxTcBz4f7FbgJ6n/fnWlgcPbvMdeQ6f61vVm1XylerUtUHmvt6+5a+hD0oAkI51kXGSDgxrysDHkayLgnPumgxYzGSSJkezr0P5joagX2e/IVak2TIfdNbkW7sre6aCiHByfcNFwkh9xvhXSYN0ZW901LYXceQ8RQcvwOw5JGAIyi+p4n0Fd4+j7CRYWHJDFlzWLyHV5CObN0GtgNBc+NYNnblZSL1ctnbPEQAFBvI5PKslKUClKUClKUClKUClKUClKUClKUHw14aMHiKyUoIvF7DhkHeWq1tD6N8LLfQjyq80oOSYr6HIj7ErrUVN9DbD2Zm9QK7hSg4K/0QSj+UPwFfU+iqVffrvFqWoOJRfRtIOdbafR6/Ouw5RTKKDk6fR+1bCbgda6jalqDnEe4K8xW3FuJGOIq+V9oKfFuZEPdrdi3ViHuirHSgh49gxL7oraTZsY90VvUoNdcKg4KKyqgHKvdKD4BX2lKBSlKBSlKBSlKBSlKBSlKBSlKBSlKBSlKBSlKBSlKBSlKBSlKBSlKBSlKBSlKBSlKBSlKBSlKBSlKBSlKBSlKD//Z',\n",
       " 'data:image/jpeg;base64,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',\n",
       " 'data:image/jpeg;base64,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']"
      ]
     },
     "execution_count": 210,
     "metadata": {},
     "output_type": "execute_result"
    }
   ],
   "source": [
    "car=driver.find_elements(By.XPATH,\"//img[@class='rg_i Q4LuWd']\")\n",
    "cars=[]\n",
    "for i in car:\n",
    "    link = i.get_attribute('src')\n",
    "    cars.append(link)\n",
    "cars[:4]"
   ]
  },
  {
   "cell_type": "code",
   "execution_count": 218,
   "id": "e90c6bda",
   "metadata": {},
   "outputs": [],
   "source": [
    "# Fetching Machine Learning Images\n",
    "\n",
    "driver.get(\"https://www.google.com/\")"
   ]
  },
  {
   "cell_type": "code",
   "execution_count": 219,
   "id": "bd52e3f8",
   "metadata": {},
   "outputs": [],
   "source": [
    "try:\n",
    "    search_designation=driver.find_element(By.XPATH,\"/html/body/div[1]/div[3]/form/div[1]/div[1]/div[1]/div/div[2]/input\")\n",
    "    search_designation.click()\n",
    "except NoSuchElementException as e:\n",
    "    print(e)"
   ]
  },
  {
   "cell_type": "code",
   "execution_count": 220,
   "id": "6e2185ab",
   "metadata": {},
   "outputs": [],
   "source": [
    "search_option=driver.find_element(By.XPATH,\"/html/body/div[1]/div[3]/form/div[1]/div[1]/div[1]/div/div[2]/input\")\n",
    "search_option.send_keys(\"Machine learning\")"
   ]
  },
  {
   "cell_type": "code",
   "execution_count": 221,
   "id": "8d766582",
   "metadata": {},
   "outputs": [],
   "source": [
    "try:\n",
    "    search_button=driver.find_element(By.XPATH,\"/html/body/div[1]/div[3]/form/div[1]/div[1]/div[2]/div[2]/div[5]/center/input[1]\")\n",
    "    search_button.click()\n",
    "except ElementClickInterceptedException as e:\n",
    "    print(e)"
   ]
  },
  {
   "cell_type": "code",
   "execution_count": 222,
   "id": "ed42dc8f",
   "metadata": {},
   "outputs": [],
   "source": [
    "images=driver.find_element(By.XPATH,\"/html/body/div[7]/div/div[4]/div/div[1]/div/div[1]/div/div[3]/a\")\n",
    "images.click()"
   ]
  },
  {
   "cell_type": "code",
   "execution_count": 223,
   "id": "95404aee",
   "metadata": {},
   "outputs": [
    {
     "data": {
      "text/plain": [
       "['data:image/jpeg;base64,/9j/4AAQSkZJRgABAQAAAQABAAD/2wCEAAkGBxUUExMUFBQXFhQWGRoZFxkZGR0YGBscGRgYGRsgGxsaHiohGRwmHhcYIzMiJistMDAyGSA1OjUuOSovMC0BCgoKDw4PHBERHDEjISgtLy8vNy8wLy8vLy83Ly8vLy8vLy8vLy8vLS8vLy8vLy8vLy8vLy8vLy8vLy8vLy8vL//AABEIALABHwMBIgACEQEDEQH/xAAbAAEAAwEBAQEAAAAAAAAAAAAABAUGAwIBB//EAEQQAAIBAgQDBgMFBQQJBQAAAAECEQADBBIhMQUTQQYiMlFhcUKBkSMzUqGxFHKywcIVYtHwFjRDU3OCkrPhJGOio9P/xAAXAQEBAQEAAAAAAAAAAAAAAAAAAQID/8QAKBEBAQACAQMCBQUBAAAAAAAAAAECESEDEjFBYRMiUXGBBCMzkaEy/9oADAMBAAIRAxEAPwD9xpSlApSlApSlApSlApUHimOFq2WjM0HIkwXYAmB5bEk7AAk6A1TYvjN1bee5lw5IEKVa53m0X7XS2up1kGNfKg01IrK/201oi3cxCO4UNPJL511AbNbYKkwdCNCDuNauOH41ycl5BbualQGzKy9MrQJYDxL0PmIJbXVizpSlEKUpQKVU9piww10oSCACYMEoGBcA9GKBgPUis92Ww15WcIFsqAxIa0wBzMMkJKElQrd6NmA70TV0m+dNoXA6ivVfnPF8JdGIuMyFvtAzsuGuOrrkteGFborL49/aK3PA/wDV8P8A8K3/AACliS7TqUpUaKUpQKVS8ZtzctlrZdBbuiMrMucm3kzBVYjQP3oMa+esVbmGBi5YCknuAWbhLDujrbHek7CdBPnAaOlY3F8UWzdblqLQMKRkY3MuUPzBagE6nlj1PU9wyMLxm4hPNF0EIbhS6LRJRCM5RrGmZQZKmZMDSZq6Tum9NXSlKilKUoFKUoFKUoFKUoFKUoFKUoFKUoMjxdlfEXgt1bVwW0tM1w9wIczsAjEZi2ddVjwCW0AMT+2rz31WQSLhFu3k7pAJUXO8QSCpzhs+UyFEmDV7xXgzXrmbOmQqqvbuW+YjlGZlLDMsxmOn1nSK3ilq7YAu3bltrADLcBtsSocrBWbhJlwg3hdxpRKreKcJt3XW8WuoXDtd5qraASycrMYWVkMBpBKmZBE1dW8Gr27yAZbhIdG5jEFyv2ToSZXwkZf7pGqxNdaZpTNfa49oA3cQvd5VtgTBVwUdGKAFx+HMYyzUw4ZLrf8Ap+Vfuo2dr93vqjhfswOXAYg5TlWAACTDETJjjOY1c8stS3ieGkwmIFy2lxdnUMPZgCP1rvUPBYUWra21lsojfUnckzpJMn51IV5noR0NVHSoOM4gLbKpS62YMZS2zgZY0JUaEzp5wanVzLiQJEnYddN/1H1oMuOIXLnKa4Dyy9twoVSjBmAQKwYklGe22oGbIYFdu1/GGw4tG2AbhzwWBYZVAzCFILEkpAkbT0gzsThrVn7UWySHGUBjAa62SVVmyqZuGTpoT51E4xdt3EAv2DkBkFntrBAOobOCDlzbHaelTOW43t4q9PLHHKd/Mdez/G+chLKcytlOVWKnuq3rlPeGhPr1qlwHaBkuZAPsuYQilG0RrhTLn2Vw0whAiQkfFV3w3EIiBbVghASIVrZ1k5pOfU5gZkzNfODcNtMFvtbHOZmdidcrkkGBt3fCGAkgT1NXGWT5vKZ2ZW9nE3/i+pXJmj4SfUR/jNe1M6ig9Ury7QJr4rE9CPeP5Ggo+VzLt7MzkLcCqBcdVA5VpvCpAOrEyZOtcMHwi3cu3Gc3WNi7Fubtzu5rFomO9IP2j6j8UbQK44/AYzn3OTctJbuNnGYS2lu2pnuHqtVeGu4pTcIx2EGdgxIdTJyIk+DQQgq3TGMsu6n8UwgPNzXGFtLyWpZpZMy2HturPOZkvNPenR23gCvC4Avcto9207uLixaUW1CP3rz5c7E3GACzOhcmN5CWw19L2IwxvXbiuGDjl9wWgJ00MW/LrXfs/wAFu28QHc2iq2yO5My5EbqNIQ/UU2txlu2tpSlRopSlApSlApSlApSlApSqvjPFBaAGZFYgnM5i2iggF3MiQCygKDLFgNBLALSlfnnGOPsBcIuM65Dy7i3Cp5kxGW1lUAZlIBLGA0zUzhPaY98s4IzAIjNAKs2VIdxIuNrAYkEwJXer21nujb0rjh7yuquplWAIO2h9DtXao0V4ZARBEj1quFi9HjGy9eoPe+HWf512S3cGpYN3pjYZe9AmN9V+lVNuXFsIzAPby81QQufwMrRmV43UgT7geoMjhuHNu1bts2dkVVLREwImoy2L0AZ12APXWZJ28hEabmgsX/xr0/I6zpqCI8tztQ37LSuS+NvZf1auGEtuJzsDtEe59BGkD5V3Xxt7L+rVFdah4rh1q6Va5bS4VnKXUNExMSNNqmUoKfGcDtFRyrdq24ZGVuWNMrq3wwdQI361HxvBbl0AO1owZBCXARpGhF2f/IB3Aqxa1dloZYM5f7ukDprEA+5NeGw94/EB8ydMx02EmI1kbR61WLJfREwnDLqKER7QVdhy3MCZgTd0A6DYCANKseH4c27aqTmIkkgQCSSxgSYEnzriMPej7zWPcfH6DzT6Gu2EtXFLZ2DAxl9N/T1H0pTGSeiZXLD+FfYenTyrrXLD+FfYfpUbfbvT3H610rne6e4/WulBGxeGzjcgwQCDG4j/AArG/wCj+K5K28qAhVXMt0/DG3c9K2OJVz4SB3WG8QTEHbp/Ooz4W4dngQNJJIgHr1knX2G9al0xljKzOB4Biba5YV9ZlrxJ/g+fuTWtwGFyKASS2VVJJ/COnpqajnCXf951P0I2Pz6+1SsIjKDmMmd9fIee0mTA0E1LdmM0lUpSo2Urw7AAkmANSTtVTjOMpEWrtsk7vmBt2wTGZzMTrCrMsfQMQFzSq/g9q2tsLafOgLd7PnliSWkzvmJ06elWFApSlApSlArHdpsSVe4M1oSbast1oJthXdWUdftGYH9ytjWcfB2rxvNeQczMV7y+FFJFuCwhlOUv1Euwqzyzl4fnHFMGbeV2+1tEPADC5qSpVvtCAxAkZtTEDau/BMMWYuiqiqqwrAQW7/ehDAPSd96uG7PcwtfImycxXLqGUEy0jwq0Z/PWc2pFfOD4PNdUMxWwxjumCQWJtjNuqZbtoaQftEjQND4eMy7tnxsr0/h6n9c/22vZstyu/GbO85Zy5iczxOsBy4+VW9crFlUUKihVGwAgCvlxiJMCB66x1qNOtKVnu2LkW7cEjvdDHwmrOUyuptoaVl+yOIOa5bYmYDCTO2h/Vag9pMUzXnykwgA0MeU/m0Ve3nTHxONttXEWznLZtCAIjqJ1n51C7OMTh7ZJkwf4jVL2nxLPeW0hPcBJAO5IzH6KB9TUk5W5am2ur5VJ2Wxue1lJlkMesHUfzHyrr2g4kbNsZfG2i+kbn1jT601zpe6a2tppWSw3ALl5RcuXSGYSAQWMHadRHtXbgjX7d02nDNb2mCVGkghj0Pl600zM76xp6VlOK3D+22hJibek6b1qL3hb2P6UsamW9vdcrCkKATmIG8RPyrOdjLhPNkk6JuZ/FX3sa5PNkk+Dcz+OmmZnvXu0N9ScsNEMCdJkDcenvXasBwbibW7iszEodGBJOnn7jf61ou1Vz7EFTu66g+h8quiZyy1e0mszxFz+xWzJnuazrUXhvBHu21uc4rmnSCdiRvm9Kmjvu9SNfXqqLhnAmt3A5ulgJ0gjcR+I1eUrctfajYrELbQuxhR8yegAA1JJgADUkgV7zGTAGmmp67/zqFxZmmwq5czXYBZSwWLV15ABEnuxv1qKg4jFFiLd42bY0Y2uaGuXD8KMCogTuAWzREkTOf7V4y69rCi4UIuMLndQrBCjTV2kfaem1fecz3b5aM3OtAwIBymyswSYnLMSa5dqfusD+7/Tarn15+3fs6/pMt9fH7tR2Q+5+Y/7durwVR9kfuPmP+2lXgp0/wDifZOt/Jl96+0pSujmUpSg+VQ8VwSG7mu22uW3VZARrgD2nzISqgyTnOpGnLAnXW+pRLNqh8NcvKVYcu0wIZdDcYHQhiJVARI0kwd1NVXGODXGulLSjJcW4xYiVVobuyNRL3Cesrdvj8MXfEFuFkKbJ3j3ozGdvXuht4HeB6VIwSsEAbxS25n4iR+UUJ9HnhtpltW1ckuqKGJbOZAEy5ALa9YE13xHhb2Pr08utda8Osgg7HSivVZ7tp93b/f/AKTV06vBgrMGJB36daqe02EuXLdsKuZgZaP3T59Jqzyxn4qqDiziLLnRXtoT80yn8wDUW2haziLx3ZlH1fM36rVtxzhjvasZVJZFCsBvqo/Qj86Nwxxg8gU5ywYjr4h/ICtbcrjd1P4HdCYVWOyqxPyLGs/wXH21uveumCZjQnVjrttA0+dWF/D3hhEtLbOYk5hpoAxPn10qbwzglsWkFy2peJad5OsfLb5VOGtW616KPg2KW3iSEP2bkqOmhMrofIwKldtQZteUNH/x/wDFdeP8F0RrKagkELp6g/KPzqfjcAcRYQOMl0AHXo2xmOh/wq7nlO26sWlkgqpG0CPaK8DFJnKZlzj4Z11E7VmbN3GWlyC3mA0BjNA9CDt71J4Jwm5zDeveLUgHUyepjQabD9IqabmVvEiD2hQtilVTDHIAdoJOhkbVJfg+JAJN/SPxv/hXTiWAuNi0cKSgKSemh1rRXhKsPQ/pTaTDdu2Z7Ff7b2T+uvvYn/bf8n9dduymDuW+bzEKzliesZp/UU7KYN7fNzoVnLE9YzT+oq31TGXj8qbguA5tu+o8YCFD69/T2O1ebmPLYflN4kcZZ3y94R8j/nSrvsngnt8zmIVkLE9YzT+oqP2j4KzPzLS5s3iA6Hz+f+d6b5Z7b27j3xL/AFG1/wAlReG8LvvbVkvFVMwM7iNSNhpvVhjsG5wdtAhLjJK9dN6h4O5jLaKi2u6sxIk6kn8XrT0Wznn6LTg/Dr1ty1y6XUrAGZjrI173sfrV1VBw/FYo3FFy2AhnMYjoY+Lziri2H1krE6QDt6671muuOtcPVvdvf+lfrUTiVpibLIuY23LETBINu4mhOky4PyNTLaRPUnU1wxthnAyuUI1n5giddRptUVlrXA74uOci5blxXnOO6AyMQREk907V44zwPEXbeHUJbDWQBHM8WiAwcukZfzrRrw9gB9q8gjqYOUR+fWn7E8RzD9T5ADUnTXMfmPKmeMzx1TDK4ZTLGczl47O4N7VoLcADTqFOYCFVd4H4fzq2qJhsOyliWLAxAJJiBrv51LqSamo1crlba+0pSqhSlKBSlQ+JYwWrTXCJyjQDqSQFE9JJAmgl0rOcJ7TLcJV1ynvRlzOO4wVge7IgsuvXXaIrxiu1EXCiW8wUwSxKEkKHIAK6QrDUkSZ2GtXSbmttPXljGtebVwMoYbEAj2OtfMR4G/dP6VFeGdoJCyY0Egewqv47xF7NpXULmLAEHUCVJOxHUVb1n+2f3Kf8QfwvVnljLiVdYVyyIx3Kgn5gGoHaHHNathkiSwGonSGP8qm8O+6t/uL/AAiqntj9yv74/hak8mV+VxtYvGsoYW0IYAjbYiR8dWvCnvFTzlCtOkRtA8ies1T4RMZkTIyZcq5Zy7QI6eVXXDzcFubxGYSSRER8qtTD8qvtDxl7TqiZZiWkT7dfQ/lVtwzFcy0j9SNfQjQ/mKy2Bxdp7t27daAwIUEHZu70HRRHzqX2RxUNctEyPEp840P10P1pZwzjn8ztj+K3xfazbCnaARr4Ax1JA868YjimKtDNctJlmP8AOVjH0qLjzcGOY2wDc0yg7fdCeo6T1rxi8XeuvyLhS3JEyCJPTXWfTzppLlefK64nxUrYW7bjvEbid5n56V14FxPnW5MB10YD8iPQ/wAjUHtBhhbwqoNlKifrJqutg4Z7N0SbdxFzfNQWH9Q+Yprhq5WXlc8K4i9y9eRsuVCQsDXRiNdfIV84FxN7j3VfLCbQI6ka6+lROzbA4jEkGQSSD5gua89lPvL/APn4mpYTK8fl74Jx9nfJcyjN4SBGvkdev+d6mcX4i9u7ZRcuVyA0iT4gNNfWszgsCXtXLizntsDp5RrHqIn5VLxGP5tzCt8QYBh65119jvV1yzM7rloONcWFlRpmdvCP5n0qtbF43Ln5axvlgTHtOb5b144v/rtnNt3I/wCo/wA6t+K425by5LRuTMxOkRGw6yfpUat3vl54HxUX0JiGXRh012I9DB+lTbbtrKRBgd6ZHn6e1VfAeJm6zrywmUDb3I2irypW8buPFtp6Qeor3XKzu/739K11qNFKoX4y1xiuHTmAbv8AD0IIBIBGs6sCQQQGUg18PFL9rW9Z7kiXWBvpoudp+ZXyEkgUF/SuVi8rqGUypEg11oFKUoFKUoFZ7i3E7V0NhwZLtymOU5FmVbvEZSw1AGvfyrvWhrHYvs9ymNwuDZDhnAUrcFsOX8eaMqMZJgHKD11NiXfo8LdOHuXRZRiBpmKXL7QomM73x1nugdQT1NBhRin+0Qo1xGE5XtHMugLJzWW4NIKsNoBkaVE4xw48x8lstDMBnt4i4CpU7MgIbVj18x7d+GYNRcc3EZLQDsWy37WgncvGsHYevlVYlu9L7hXHrd3Ksw50iGyFhM5HIhxoSD1USOsWdwMZGgB0mTPrpG/zrM9nuzTW2t3HeIAOTLD6KVQXDmKyqtrlABYeWh1tStzfq+VT9pcG922q2xJDgnUDTKw6+4q5r5ULNzTN2jjVVVCJCgAar0Efir3xLCXrthFZRzA8kAgCAGA6x1FaGlXbPb7s3YONVVUIkKABquwEfirreGKezcVlXOxAEEDunxdfl86v64ozZmBjKAI3nWZn6U2dvuquGcCtrbUXEUvuxOup6fLao2L4QyXrdywgyiMwBA9DueoNaNvzrnYYlVLRJAJjb5TTdOyeFKOHXP23m5fs/OR/u8u2+9de0XCucoZB9ou3SR5T+Y+fnV1Si9s1pn8bhb93DKrL9oGE94agdZmKnNgM+HW0+hCKPOGCjX5GrOlNnbGc7NcMuWmuFxAIAGoM6+ldOz/Dnt3LzOsBttQZ1J6e9X1KbSYSaUfZnAXLSuLgiSI1B6HyqBe4C631a2oNvOrbgZe8CRB8q0t8sAMsTIGsxBIHTrXemzsmtKfjvCecAVOV12PQ+hjb3qDzMcBkyL5Z+7P8UflWlpTa3Dd2puz/AAlrOdnYFn3A2GpO/U61c19r4aiyamo4wwJiDOupI8h5Hyqv7SXGGHfKJLQseYJGZZ9RIn1q3qm7Ukfs12So8MF5Khs65cwXVhmiVGp20mivOKxIwtu2iobkS1yPHkUZrtzKoJdpI7oEkvpVVgbjXr5tvcfIxN25bJdSjJkC2gYym3lK51zQWRtCHYDPW+JnQFnYE20uXGdywFsE/aSYslmYysKG0KyNpPZ/i62puk54ziZkScmXM+uWY9SYgBjAN1wz3c6ans73Hv2ZJCNmHXRmuKBr6WwSerMxO9X9Z7s4Shdboy3bhLidmHiIHkQzOxSTlzwCQJrQ1GilKUClKUCq/jVl3sXVt+NlIGuWfMT8MiRPSZqwqDexhViMjEDqJPkT08if+k0Ss92c4ZeRmIHJSCCGRO8SwKgKhiEUFZ65uu9RONcHxD3ySnNB8DQgEZAAJLZrWVwXlfMESdK1X7a3em20gDaTPegxp5EH6+VeP7RaPummAfn1Ex7Vr3Z1NaTrSkKATJAEnaTGprrUPDYosxBQqI6z6ekdfPoamVltxv3gis7GFUFmPkAJJ+lVY7Qp/u7n1t//AKVN4tYNyzeRd3tuo92UgfrWUOAxGWORcBiJDWZGm4m5H1FaxkvljPKzxF+vHlJA5bj1JtwP/srpheMo7qmVlLGFJykEgFo7rGNFY6+VZSxg75d4tXmyNlZS2HABNu2QNGBiDm33c9AALbhOBu8y2XtNbVGzEsyGfs7iQAjEzLj6GrZNMzLK3mNVXJfE3sP1autcl8Tew/Vqw6utc7HhX2H6V0rlY8C+w9OlBX8V4ulkoCCWaSAIEBYBJLEACWUeZnbQxJwOLF1Q6yAZBB3BBIIMSNCDqCQdwSKqO1GHtM1su7rc7wUIFYsvdLSHBXKDlOYxBgTrBprOLVLZt23vF1deYUJi4jXAGMN4LpzFSlqHDRAgrVZ3dt1SsxhsfyA9xku8gKMxysArS2q27pDnulQcoMmIBOapfC+0du6wXKyE6DNHkTBykxt7bCZIFZuUl1by6Y4ZZY90l1F9SlKrLnf2+a/xCulcr2w91/iFdaCBxLHi0ASCSTAA3PU/kDA6mBuRVPxTtbbtuqoBclVYtmyqA/gEhTJI1jyKn4hU/ji2mCrcuBGBDA/FEwdvPoejBTuorKce4LaLi5YuooPLVkNtrg0ZUDiGGXKsSPJBtFc+r3dvy+XboTp3L9y6jUt2gthVYgyfEPwwTmM9QArNI3UA/Es3NZS3w7DC3aU3Zy6M2vf/ABiPhBDZfRSBuqldPZuKyhlIKkaEaiK3Pdyut8OlVHajBvdw7pbXM+a2wEgTkuo51Okwp3q3qLjL7LlyqWk6wJhRuffyFVm+GF/0exGYNyjpcLyHQGGVQVBDSCDvsNNzpVt2e4JdS5mvJICuMzMLhh8vd1JPnPT3q5XG3NJtncTAMZepHrBXTfRq9HFvAOX4JPcYkMIlQNJksI/db5aZmkPEcKuAcpCOWSCjk9+yR5dWj4fLYyKv6gYG87MwcAAARCMs6KTq3SSRHpU+pWpJ6PtKUqKUpSgUpSgUpSgUpSggcRxJQIEAZ3bKsmFHdLEmNYAU6DcwNJkU3C1XIBeuM2W2LnOF26iuoHeYqXOQjQnUiGGu4F5jsILgAJKlTmVljMpgiRII2JEEEEE1Vca4WRhsUFL3blyy6iYzHutlVQoCjUnpJnUnSluoSW5SeiPw39nNy8OaZa6uT7a4M32Vkad/XvAj5RUQcTi9No90F0VXe43NK6HVnhBmUgGDprsYqq4JgL3OUm1cAzoZZCoUK6E6n90mtRf7Mozuwu3EV2LFFyBZPiglSyyZOh3JNc+jncpvKadf1XSnTy1hl3LjD3luojqTlYBhupgjr1G9dlQDb/H9a82kCgKoAAAAA0AA0AFda6ORXMWh6/Ux9JiulKDN9qsEj8tmuLbbVAGQ3Q4JDEZFIYkZQZB01mqd7LW1tXVuqyrdy4fmEIxe64R30HftksV5cSElgxOUC87R8Je81trZWVVlKszJoxRpDqCVMoNI1+VSeGcHS3bZXVHd83MbKO9mJMHqVExr5VfRnXNVXFFvYm2+HhCzAOtyGtKpt3R4kbMxGZQQQYYTtAJidnuyt23eD3eWqhsxCMzl2AESSq5QMqnrOWtXg8ClucggmJJJZjG0sxJIEmBOk1Lrll0scsplfMd+n188MLhLxfL7SlK6OTyyyINfESPP5kn9a90oMd2ilcSzZLhVrVsArbdxKvekdxTB7y7+dVj33nRLkd3exfnfvfB5RHrWg44q8w80JlhOWbq57XiPNAEwLhXQE+awGhhUAoP9qoFsxyeehZAnMbMsMRkuFYgHWCgg5WFdJlw4ZYy21XpiSFGZLubrFi8BPpKVsuBqRaWQQSXaCCDDOzCQdRoRodazq29ZurCGOTzbbXFFvmNmTKT3LjLtOsG3o2RlrQ8EUi0JDKJbKGkMEzHICDqO7EA6gQDqKzldtdOSWrKlKVl1KUpQKUpQKUpQKUpQKUpQKUpQKUpQQP26JkfijqSVjSI8RnbWuf8AaJn7s7r117w10jcHSOtWVKqaqtHEDAJtxmmJPl56aTsPWK+niJ1IQkCfOTBUCBGshgfr5VY0oav1QcPjCzZchGh726mCdjHt9fSp9fK+1CFKUoqr4qwDW5LDXSNvEgg67GY+f1rlAyLq2UqCYUA6Su2b/wBz8hWkivOQeQq7ZuO6z6Xoghn6AAqOhJHdDTMq+o01iNKn/wBrLBOVtAD06hTprrowny671Y5R5UKDyFNklj0DX2lKjRSlKCvTiSnaSZIG2sEba7EEGvB4sg3VhpPQ9FOsHoGH51Y5R5Uyjyqpqq25xhF3Vvy/vDz01UjXzFdl4ipZRB7xjpoYG+vrUvKPKmUeQoar3SlKilKUoFKUoFKUoFKUoFKUoFKUoFKUoFKUoFKUoFKUoFKUoFKUoFKUoFKUoFKUoFKUoFKUoFKUoFKUoFKUoFKUoP/Z',\n",
       " 'data:image/jpeg;base64,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',\n",
       " 'data:image/png;base64,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',\n",
       " 'data:image/jpeg;base64,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']"
      ]
     },
     "execution_count": 223,
     "metadata": {},
     "output_type": "execute_result"
    }
   ],
   "source": [
    "ml=driver.find_elements(By.XPATH,\"//img[@class='rg_i Q4LuWd']\")\n",
    "machine_learning=[]\n",
    "for i in ml:\n",
    "    link = i.get_attribute('src')\n",
    "    machine_learning.append(link)\n",
    "machine_learning[:4]"
   ]
  },
  {
   "cell_type": "code",
   "execution_count": 224,
   "id": "34be42b3",
   "metadata": {},
   "outputs": [],
   "source": [
    "# Fetching Images for Cakes\n",
    "\n",
    "\n",
    "driver.get(\"https://www.google.com/\")"
   ]
  },
  {
   "cell_type": "code",
   "execution_count": 225,
   "id": "d3a210f4",
   "metadata": {},
   "outputs": [],
   "source": [
    "try:\n",
    "    search_designation=driver.find_element(By.XPATH,\"/html/body/div[1]/div[3]/form/div[1]/div[1]/div[1]/div/div[2]/input\")\n",
    "    search_designation.click()\n",
    "except NoSuchElementException as e:\n",
    "    print(e)"
   ]
  },
  {
   "cell_type": "code",
   "execution_count": 226,
   "id": "c576cb81",
   "metadata": {},
   "outputs": [],
   "source": [
    "search_option=driver.find_element(By.XPATH,\"/html/body/div[1]/div[3]/form/div[1]/div[1]/div[1]/div/div[2]/input\")\n",
    "search_option.send_keys(\"cakes\")"
   ]
  },
  {
   "cell_type": "code",
   "execution_count": 227,
   "id": "2d81afc9",
   "metadata": {},
   "outputs": [],
   "source": [
    "try:\n",
    "    search_button=driver.find_element(By.XPATH,\"/html/body/div[1]/div[3]/form/div[1]/div[1]/div[2]/div[2]/div[5]/center/input[1]\")\n",
    "    search_button.click()\n",
    "except ElementClickInterceptedException as e:\n",
    "    print(e)"
   ]
  },
  {
   "cell_type": "code",
   "execution_count": 228,
   "id": "ebbd2af9",
   "metadata": {},
   "outputs": [],
   "source": [
    "images=driver.find_element(By.XPATH,\"/html/body/div[7]/div/div[4]/div/div[1]/div/div[1]/div/div[2]/a\")\n",
    "images.click()"
   ]
  },
  {
   "cell_type": "code",
   "execution_count": 230,
   "id": "f5ee90fa",
   "metadata": {},
   "outputs": [
    {
     "data": {
      "text/plain": [
       "['data:image/jpeg;base64,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',\n",
       " 'data:image/jpeg;base64,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',\n",
       " 'data:image/jpeg;base64,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',\n",
       " 'data:image/jpeg;base64,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']"
      ]
     },
     "execution_count": 230,
     "metadata": {},
     "output_type": "execute_result"
    }
   ],
   "source": [
    "cake=driver.find_elements(By.XPATH,\"//img[@class='rg_i Q4LuWd']\")\n",
    "cakes=[]\n",
    "for i in cake:\n",
    "    link = i.get_attribute('src')\n",
    "    cakes.append(link)\n",
    "cakes[:4]"
   ]
  },
  {
   "cell_type": "code",
   "execution_count": 231,
   "id": "860ada75",
   "metadata": {},
   "outputs": [
    {
     "data": {
      "text/plain": [
       "(48, 48, 48, 48, 48)"
      ]
     },
     "execution_count": 231,
     "metadata": {},
     "output_type": "execute_result"
    }
   ],
   "source": [
    "len(urls),len(cars),len(cakes),len(machine_learning),len(guitars)"
   ]
  },
  {
   "cell_type": "code",
   "execution_count": 232,
   "id": "f7251dea",
   "metadata": {},
   "outputs": [
    {
     "data": {
      "text/html": [
       "<div>\n",
       "<style scoped>\n",
       "    .dataframe tbody tr th:only-of-type {\n",
       "        vertical-align: middle;\n",
       "    }\n",
       "\n",
       "    .dataframe tbody tr th {\n",
       "        vertical-align: top;\n",
       "    }\n",
       "\n",
       "    .dataframe thead th {\n",
       "        text-align: right;\n",
       "    }\n",
       "</style>\n",
       "<table border=\"1\" class=\"dataframe\">\n",
       "  <thead>\n",
       "    <tr style=\"text-align: right;\">\n",
       "      <th></th>\n",
       "      <th>fruits</th>\n",
       "      <th>cars</th>\n",
       "      <th>cakes</th>\n",
       "      <th>machine_learning</th>\n",
       "      <th>guitars</th>\n",
       "    </tr>\n",
       "  </thead>\n",
       "  <tbody>\n",
       "    <tr>\n",
       "      <th>0</th>\n",
       "      <td>data:image/jpeg;base64,/9j/4AAQSkZJRgABAQAAAQA...</td>\n",
       "      <td>data:image/jpeg;base64,/9j/4AAQSkZJRgABAQAAAQA...</td>\n",
       "      <td>data:image/jpeg;base64,/9j/4AAQSkZJRgABAQAAAQA...</td>\n",
       "      <td>data:image/jpeg;base64,/9j/4AAQSkZJRgABAQAAAQA...</td>\n",
       "      <td>data:image/jpeg;base64,/9j/4AAQSkZJRgABAQAAAQA...</td>\n",
       "    </tr>\n",
       "    <tr>\n",
       "      <th>1</th>\n",
       "      <td>data:image/jpeg;base64,/9j/4AAQSkZJRgABAQAAAQA...</td>\n",
       "      <td>data:image/jpeg;base64,/9j/4AAQSkZJRgABAQAAAQA...</td>\n",
       "      <td>data:image/jpeg;base64,/9j/4AAQSkZJRgABAQAAAQA...</td>\n",
       "      <td>data:image/jpeg;base64,/9j/4AAQSkZJRgABAQAAAQA...</td>\n",
       "      <td>data:image/jpeg;base64,/9j/4AAQSkZJRgABAQAAAQA...</td>\n",
       "    </tr>\n",
       "    <tr>\n",
       "      <th>2</th>\n",
       "      <td>data:image/jpeg;base64,/9j/4AAQSkZJRgABAQAAAQA...</td>\n",
       "      <td>data:image/jpeg;base64,/9j/4AAQSkZJRgABAQAAAQA...</td>\n",
       "      <td>data:image/jpeg;base64,/9j/4AAQSkZJRgABAQAAAQA...</td>\n",
       "      <td>data:image/png;base64,iVBORw0KGgoAAAANSUhEUgAA...</td>\n",
       "      <td>data:image/jpeg;base64,/9j/4AAQSkZJRgABAQAAAQA...</td>\n",
       "    </tr>\n",
       "    <tr>\n",
       "      <th>3</th>\n",
       "      <td>data:image/jpeg;base64,/9j/4AAQSkZJRgABAQAAAQA...</td>\n",
       "      <td>data:image/jpeg;base64,/9j/4AAQSkZJRgABAQAAAQA...</td>\n",
       "      <td>data:image/jpeg;base64,/9j/4AAQSkZJRgABAQAAAQA...</td>\n",
       "      <td>data:image/jpeg;base64,/9j/4AAQSkZJRgABAQAAAQA...</td>\n",
       "      <td>data:image/jpeg;base64,/9j/4AAQSkZJRgABAQAAAQA...</td>\n",
       "    </tr>\n",
       "    <tr>\n",
       "      <th>4</th>\n",
       "      <td>data:image/png;base64,iVBORw0KGgoAAAANSUhEUgAA...</td>\n",
       "      <td>data:image/jpeg;base64,/9j/4AAQSkZJRgABAQAAAQA...</td>\n",
       "      <td>data:image/jpeg;base64,/9j/4AAQSkZJRgABAQAAAQA...</td>\n",
       "      <td>data:image/jpeg;base64,/9j/4AAQSkZJRgABAQAAAQA...</td>\n",
       "      <td>data:image/jpeg;base64,/9j/4AAQSkZJRgABAQAAAQA...</td>\n",
       "    </tr>\n",
       "    <tr>\n",
       "      <th>5</th>\n",
       "      <td>data:image/jpeg;base64,/9j/4AAQSkZJRgABAQAAAQA...</td>\n",
       "      <td>data:image/jpeg;base64,/9j/4AAQSkZJRgABAQAAAQA...</td>\n",
       "      <td>data:image/jpeg;base64,/9j/4AAQSkZJRgABAQAAAQA...</td>\n",
       "      <td>data:image/jpeg;base64,/9j/4AAQSkZJRgABAQAAAQA...</td>\n",
       "      <td>data:image/jpeg;base64,/9j/4AAQSkZJRgABAQAAAQA...</td>\n",
       "    </tr>\n",
       "    <tr>\n",
       "      <th>6</th>\n",
       "      <td>data:image/jpeg;base64,/9j/4AAQSkZJRgABAQAAAQA...</td>\n",
       "      <td>data:image/jpeg;base64,/9j/4AAQSkZJRgABAQAAAQA...</td>\n",
       "      <td>data:image/jpeg;base64,/9j/4AAQSkZJRgABAQAAAQA...</td>\n",
       "      <td>data:image/jpeg;base64,/9j/4AAQSkZJRgABAQAAAQA...</td>\n",
       "      <td>data:image/jpeg;base64,/9j/4AAQSkZJRgABAQAAAQA...</td>\n",
       "    </tr>\n",
       "    <tr>\n",
       "      <th>7</th>\n",
       "      <td>data:image/jpeg;base64,/9j/4AAQSkZJRgABAQAAAQA...</td>\n",
       "      <td>data:image/jpeg;base64,/9j/4AAQSkZJRgABAQAAAQA...</td>\n",
       "      <td>data:image/jpeg;base64,/9j/4AAQSkZJRgABAQAAAQA...</td>\n",
       "      <td>data:image/jpeg;base64,/9j/4AAQSkZJRgABAQAAAQA...</td>\n",
       "      <td>data:image/jpeg;base64,/9j/4AAQSkZJRgABAQAAAQA...</td>\n",
       "    </tr>\n",
       "    <tr>\n",
       "      <th>8</th>\n",
       "      <td>data:image/jpeg;base64,/9j/4AAQSkZJRgABAQAAAQA...</td>\n",
       "      <td>data:image/jpeg;base64,/9j/4AAQSkZJRgABAQAAAQA...</td>\n",
       "      <td>data:image/jpeg;base64,/9j/4AAQSkZJRgABAQAAAQA...</td>\n",
       "      <td>data:image/jpeg;base64,/9j/4AAQSkZJRgABAQAAAQA...</td>\n",
       "      <td>data:image/jpeg;base64,/9j/4AAQSkZJRgABAQAAAQA...</td>\n",
       "    </tr>\n",
       "    <tr>\n",
       "      <th>9</th>\n",
       "      <td>data:image/jpeg;base64,/9j/4AAQSkZJRgABAQAAAQA...</td>\n",
       "      <td>data:image/jpeg;base64,/9j/4AAQSkZJRgABAQAAAQA...</td>\n",
       "      <td>data:image/jpeg;base64,/9j/4AAQSkZJRgABAQAAAQA...</td>\n",
       "      <td>data:image/jpeg;base64,/9j/4AAQSkZJRgABAQAAAQA...</td>\n",
       "      <td>data:image/jpeg;base64,/9j/4AAQSkZJRgABAQAAAQA...</td>\n",
       "    </tr>\n",
       "  </tbody>\n",
       "</table>\n",
       "</div>"
      ],
      "text/plain": [
       "                                              fruits  \\\n",
       "0  data:image/jpeg;base64,/9j/4AAQSkZJRgABAQAAAQA...   \n",
       "1  data:image/jpeg;base64,/9j/4AAQSkZJRgABAQAAAQA...   \n",
       "2  data:image/jpeg;base64,/9j/4AAQSkZJRgABAQAAAQA...   \n",
       "3  data:image/jpeg;base64,/9j/4AAQSkZJRgABAQAAAQA...   \n",
       "4  data:image/png;base64,iVBORw0KGgoAAAANSUhEUgAA...   \n",
       "5  data:image/jpeg;base64,/9j/4AAQSkZJRgABAQAAAQA...   \n",
       "6  data:image/jpeg;base64,/9j/4AAQSkZJRgABAQAAAQA...   \n",
       "7  data:image/jpeg;base64,/9j/4AAQSkZJRgABAQAAAQA...   \n",
       "8  data:image/jpeg;base64,/9j/4AAQSkZJRgABAQAAAQA...   \n",
       "9  data:image/jpeg;base64,/9j/4AAQSkZJRgABAQAAAQA...   \n",
       "\n",
       "                                                cars  \\\n",
       "0  data:image/jpeg;base64,/9j/4AAQSkZJRgABAQAAAQA...   \n",
       "1  data:image/jpeg;base64,/9j/4AAQSkZJRgABAQAAAQA...   \n",
       "2  data:image/jpeg;base64,/9j/4AAQSkZJRgABAQAAAQA...   \n",
       "3  data:image/jpeg;base64,/9j/4AAQSkZJRgABAQAAAQA...   \n",
       "4  data:image/jpeg;base64,/9j/4AAQSkZJRgABAQAAAQA...   \n",
       "5  data:image/jpeg;base64,/9j/4AAQSkZJRgABAQAAAQA...   \n",
       "6  data:image/jpeg;base64,/9j/4AAQSkZJRgABAQAAAQA...   \n",
       "7  data:image/jpeg;base64,/9j/4AAQSkZJRgABAQAAAQA...   \n",
       "8  data:image/jpeg;base64,/9j/4AAQSkZJRgABAQAAAQA...   \n",
       "9  data:image/jpeg;base64,/9j/4AAQSkZJRgABAQAAAQA...   \n",
       "\n",
       "                                               cakes  \\\n",
       "0  data:image/jpeg;base64,/9j/4AAQSkZJRgABAQAAAQA...   \n",
       "1  data:image/jpeg;base64,/9j/4AAQSkZJRgABAQAAAQA...   \n",
       "2  data:image/jpeg;base64,/9j/4AAQSkZJRgABAQAAAQA...   \n",
       "3  data:image/jpeg;base64,/9j/4AAQSkZJRgABAQAAAQA...   \n",
       "4  data:image/jpeg;base64,/9j/4AAQSkZJRgABAQAAAQA...   \n",
       "5  data:image/jpeg;base64,/9j/4AAQSkZJRgABAQAAAQA...   \n",
       "6  data:image/jpeg;base64,/9j/4AAQSkZJRgABAQAAAQA...   \n",
       "7  data:image/jpeg;base64,/9j/4AAQSkZJRgABAQAAAQA...   \n",
       "8  data:image/jpeg;base64,/9j/4AAQSkZJRgABAQAAAQA...   \n",
       "9  data:image/jpeg;base64,/9j/4AAQSkZJRgABAQAAAQA...   \n",
       "\n",
       "                                    machine_learning  \\\n",
       "0  data:image/jpeg;base64,/9j/4AAQSkZJRgABAQAAAQA...   \n",
       "1  data:image/jpeg;base64,/9j/4AAQSkZJRgABAQAAAQA...   \n",
       "2  data:image/png;base64,iVBORw0KGgoAAAANSUhEUgAA...   \n",
       "3  data:image/jpeg;base64,/9j/4AAQSkZJRgABAQAAAQA...   \n",
       "4  data:image/jpeg;base64,/9j/4AAQSkZJRgABAQAAAQA...   \n",
       "5  data:image/jpeg;base64,/9j/4AAQSkZJRgABAQAAAQA...   \n",
       "6  data:image/jpeg;base64,/9j/4AAQSkZJRgABAQAAAQA...   \n",
       "7  data:image/jpeg;base64,/9j/4AAQSkZJRgABAQAAAQA...   \n",
       "8  data:image/jpeg;base64,/9j/4AAQSkZJRgABAQAAAQA...   \n",
       "9  data:image/jpeg;base64,/9j/4AAQSkZJRgABAQAAAQA...   \n",
       "\n",
       "                                             guitars  \n",
       "0  data:image/jpeg;base64,/9j/4AAQSkZJRgABAQAAAQA...  \n",
       "1  data:image/jpeg;base64,/9j/4AAQSkZJRgABAQAAAQA...  \n",
       "2  data:image/jpeg;base64,/9j/4AAQSkZJRgABAQAAAQA...  \n",
       "3  data:image/jpeg;base64,/9j/4AAQSkZJRgABAQAAAQA...  \n",
       "4  data:image/jpeg;base64,/9j/4AAQSkZJRgABAQAAAQA...  \n",
       "5  data:image/jpeg;base64,/9j/4AAQSkZJRgABAQAAAQA...  \n",
       "6  data:image/jpeg;base64,/9j/4AAQSkZJRgABAQAAAQA...  \n",
       "7  data:image/jpeg;base64,/9j/4AAQSkZJRgABAQAAAQA...  \n",
       "8  data:image/jpeg;base64,/9j/4AAQSkZJRgABAQAAAQA...  \n",
       "9  data:image/jpeg;base64,/9j/4AAQSkZJRgABAQAAAQA...  "
      ]
     },
     "execution_count": 232,
     "metadata": {},
     "output_type": "execute_result"
    }
   ],
   "source": [
    "# Creating a DataFrame\n",
    "\n",
    "various_images = pd.DataFrame({})\n",
    "various_images[\"fruits\"] = urls\n",
    "various_images[\"cars\"]=cars\n",
    "various_images[\"cakes\"]= cakes\n",
    "various_images[\"machine_learning\"]=machine_learning\n",
    "various_images[\"guitars\"]=guitars\n",
    "various_images.head(10)"
   ]
  },
  {
   "cell_type": "markdown",
   "id": "f5464a9c",
   "metadata": {},
   "source": [
    "# 4)  Write a python program to search for a smartphone(e.g.: Oneplus Nord, pixel 4A, etc.) on\n",
    "www.flipkart.com and scrape following details for all the search results displayed on 1st page. Details to be scraped: “Brand Name”, “Smartphone name”, “Colour”, “RAM”, “Storage(ROM)”, “Primary Camera”, “Secondary Camera”, “Display Size”, “Battery Capacity”, “Price”, “Product URL”. Incase if any of the details is missing then replace it by “- “. Save your results in a dataframe and CSV."
   ]
  },
  {
   "cell_type": "code",
   "execution_count": 255,
   "id": "5f0ba40e",
   "metadata": {},
   "outputs": [],
   "source": [
    "driver.get(\"http://www.flipkart.com/\")"
   ]
  },
  {
   "cell_type": "code",
   "execution_count": 256,
   "id": "f783a838",
   "metadata": {},
   "outputs": [],
   "source": [
    "try:\n",
    "    search_designation=driver.find_element(By.CLASS_NAME,\"_3704LK \")\n",
    "    search_designation.click()\n",
    "except ElementNotInteractableException as e:\n",
    "    print(e)"
   ]
  },
  {
   "cell_type": "code",
   "execution_count": 257,
   "id": "6057322f",
   "metadata": {},
   "outputs": [],
   "source": [
    "from selenium.common.exceptions import ElementNotInteractableException"
   ]
  },
  {
   "cell_type": "code",
   "execution_count": 258,
   "id": "4c81bad0",
   "metadata": {},
   "outputs": [],
   "source": [
    "# Searching for product Name\n",
    "\n",
    "\n",
    "search_option=driver.find_element(By.XPATH,\"/html/body/div[1]/div/div[1]/div[1]/div[2]/div[2]/form/div/div/input\")\n",
    "search_option.send_keys(\"Oneplus Nord, pixel 4A\")"
   ]
  },
  {
   "cell_type": "code",
   "execution_count": 260,
   "id": "38f9b689",
   "metadata": {},
   "outputs": [],
   "source": [
    "search_button=driver.find_element(By.CLASS_NAME,\"L0Z3Pu\")\n",
    "search_button.click()"
   ]
  },
  {
   "cell_type": "code",
   "execution_count": 261,
   "id": "60465975",
   "metadata": {},
   "outputs": [
    {
     "data": {
      "text/plain": [
       "[<selenium.webdriver.remote.webelement.WebElement (session=\"28f18c984755f824324690fa8a5e5bb2\", element=\"014d2852-21f7-4eb9-aaf4-3f78cbee1d34\")>,\n",
       " <selenium.webdriver.remote.webelement.WebElement (session=\"28f18c984755f824324690fa8a5e5bb2\", element=\"af713df6-514f-4c37-a8cb-a08b96f14df3\")>]"
      ]
     },
     "execution_count": 261,
     "metadata": {},
     "output_type": "execute_result"
    }
   ],
   "source": [
    "name=driver.find_elements(By.XPATH,\"//div[@class='_4rR01T']\")\n",
    "name[:2]"
   ]
  },
  {
   "cell_type": "code",
   "execution_count": 262,
   "id": "90553824",
   "metadata": {},
   "outputs": [
    {
     "data": {
      "text/plain": [
       "['APPLE iPhone 14 Plus (Blue, 128 GB)',\n",
       " 'APPLE iPhone 14 Plus (Midnight, 128 GB)',\n",
       " 'APPLE iPhone 14 Plus (Blue, 256 GB)',\n",
       " 'APPLE iPhone 14 Plus ((PRODUCT)RED, 256 GB)']"
      ]
     },
     "execution_count": 262,
     "metadata": {},
     "output_type": "execute_result"
    }
   ],
   "source": [
    "product_name=[]\n",
    "for i in name:\n",
    "    title1=i.text\n",
    "    product_name.append(title1)\n",
    "product_name[0:4]"
   ]
  },
  {
   "cell_type": "code",
   "execution_count": 264,
   "id": "bc6189b9",
   "metadata": {},
   "outputs": [
    {
     "data": {
      "text/plain": [
       "[<selenium.webdriver.remote.webelement.WebElement (session=\"28f18c984755f824324690fa8a5e5bb2\", element=\"8b0b9f18-3cd6-4408-9b8f-b2efb3592103\")>,\n",
       " <selenium.webdriver.remote.webelement.WebElement (session=\"28f18c984755f824324690fa8a5e5bb2\", element=\"86341363-986a-43b5-b226-3b12d8b10b00\")>]"
      ]
     },
     "execution_count": 264,
     "metadata": {},
     "output_type": "execute_result"
    }
   ],
   "source": [
    "# Fetching the Price\n",
    "\n",
    "price=driver.find_elements(By.XPATH,\"//div[@class='_30jeq3 _1_WHN1']\")\n",
    "price[:2]"
   ]
  },
  {
   "cell_type": "code",
   "execution_count": 265,
   "id": "4da3fc4a",
   "metadata": {},
   "outputs": [
    {
     "data": {
      "text/plain": [
       "['₹75,999', '₹75,999', '₹85,999', '₹85,999']"
      ]
     },
     "execution_count": 265,
     "metadata": {},
     "output_type": "execute_result"
    }
   ],
   "source": [
    "product_price=[]\n",
    "for i in price:\n",
    "    title1=i.text\n",
    "    product_price.append(title1)\n",
    "product_price[0:4]"
   ]
  },
  {
   "cell_type": "code",
   "execution_count": 266,
   "id": "d32f18b5",
   "metadata": {},
   "outputs": [
    {
     "data": {
      "text/plain": [
       "[<selenium.webdriver.remote.webelement.WebElement (session=\"28f18c984755f824324690fa8a5e5bb2\", element=\"4cd058cc-9072-40f0-aee6-01d71d23097f\")>,\n",
       " <selenium.webdriver.remote.webelement.WebElement (session=\"28f18c984755f824324690fa8a5e5bb2\", element=\"8d562cdd-5ae4-4bc2-bf05-3dc52737e0cc\")>]"
      ]
     },
     "execution_count": 266,
     "metadata": {},
     "output_type": "execute_result"
    }
   ],
   "source": [
    "# Other Details of the phone\n",
    "\n",
    "ram_rom=driver.find_elements(By.XPATH,\"//li[@class='rgWa7D']\")\n",
    "ram_rom[:2]"
   ]
  },
  {
   "cell_type": "code",
   "execution_count": 267,
   "id": "93801cfb",
   "metadata": {},
   "outputs": [
    {
     "data": {
      "text/plain": [
       "['128 GB ROM',\n",
       " '17.02 cm (6.7 inch) Super Retina XDR Display',\n",
       " '12MP + 12MP | 12MP Front Camera',\n",
       " 'A15 Bionic Chip, 6 Core Processor Processor',\n",
       " '1 Year Warranty for Phone and 6 Months Warranty for In-Box Accessories',\n",
       " '128 GB ROM',\n",
       " '17.02 cm (6.7 inch) Super Retina XDR Display',\n",
       " '12MP + 12MP | 12MP Front Camera',\n",
       " 'A15 Bionic Chip, 6 Core Processor Processor',\n",
       " '1 Year Warranty for Phone and 6 Months Warranty for In-Box Accessories',\n",
       " '256 GB ROM',\n",
       " '17.02 cm (6.7 inch) Super Retina XDR Display',\n",
       " '12MP + 12MP | 12MP Front Camera',\n",
       " 'A15 Bionic Chip, 6 Core Processor Processor',\n",
       " '1 Year Warranty for Phone and 6 Months Warranty for In-Box Accessories',\n",
       " '256 GB ROM',\n",
       " '17.02 cm (6.7 inch) Super Retina XDR Display',\n",
       " '12MP + 12MP | 12MP Front Camera',\n",
       " 'A15 Bionic Chip, 6 Core Processor Processor',\n",
       " '1 Year Warranty for Phone and 6 Months Warranty for In-Box Accessories',\n",
       " '128 GB ROM',\n",
       " '17.02 cm (6.7 inch) Super Retina XDR Display',\n",
       " '12MP + 12MP | 12MP Front Camera',\n",
       " 'A15 Bionic Chip, 6 Core Processor Processor',\n",
       " '1 Year Warranty for Phone and 6 Months Warranty for In-Box Accessories',\n",
       " '512 GB ROM',\n",
       " '17.02 cm (6.7 inch) Super Retina XDR Display',\n",
       " '12MP + 12MP | 12MP Front Camera',\n",
       " 'A15 Bionic Chip, 6 Core Processor Processor',\n",
       " '1 Year Warranty for Phone and 6 Months Warranty for In-Box Accessories',\n",
       " '512 GB ROM',\n",
       " '17.02 cm (6.7 inch) Super Retina XDR Display',\n",
       " '12MP + 12MP | 12MP Front Camera',\n",
       " 'A15 Bionic Chip, 6 Core Processor Processor',\n",
       " '1 Year Warranty for Phone and 6 Months Warranty for In-Box Accessories',\n",
       " '512 GB ROM',\n",
       " '17.02 cm (6.7 inch) Super Retina XDR Display',\n",
       " '12MP + 12MP | 12MP Front Camera',\n",
       " 'A15 Bionic Chip, 6 Core Processor Processor',\n",
       " '1 Year Warranty for Phone and 6 Months Warranty for In-Box Accessories',\n",
       " '4 GB RAM | 64 GB ROM | Expandable Upto 256 GB',\n",
       " '15.24 cm (6 inch) Full HD Display',\n",
       " '16MP Rear Camera | 16MP + 8MP Dual Front Camera',\n",
       " '4000 mAh Battery',\n",
       " 'Qualcomm MSM8976 Pro Snapdragon 653 Processor',\n",
       " 'Brand Warranty of 1 Year Available for Mobile and 6 Months for Accessories',\n",
       " '64 GB ROM',\n",
       " '13.97 cm (5.5 inch) Retina HD Display',\n",
       " '12MP + 12MP | 7MP Front Camera',\n",
       " 'A11 Bionic Chip with 64-bit Architecture, Neural Engine, Embedded M11 Motion Coprocessor Processor',\n",
       " 'Brand Warranty of 1 Year',\n",
       " '64 GB ROM',\n",
       " '13.97 cm (5.5 inch) Retina HD Display',\n",
       " '12MP + 12MP | 7MP Front Camera',\n",
       " 'A11 Bionic Chip with 64-bit Architecture, Neural Engine, Embedded M11 Motion Coprocessor Processor',\n",
       " 'Brand Warranty of 1 Year',\n",
       " '128 GB ROM',\n",
       " '17.02 cm (6.7 inch) Super Retina XDR Display',\n",
       " '12MP + 12MP | 12MP Front Camera',\n",
       " 'A15 Bionic Chip, 6 Core Processor Processor',\n",
       " '1 Year Warranty for Phone and 6 Months Warranty for In-Box Accessories',\n",
       " '256 GB ROM',\n",
       " '17.02 cm (6.7 inch) Super Retina XDR Display',\n",
       " '12MP + 12MP | 12MP Front Camera',\n",
       " 'A15 Bionic Chip, 6 Core Processor Processor',\n",
       " '1 Year Warranty for Phone and 6 Months Warranty for In-Box Accessories',\n",
       " '32 GB ROM',\n",
       " '13.97 cm (5.5 inch) Retina HD Display',\n",
       " '12MP Rear Camera | 5MP Front Camera',\n",
       " 'Apple A9 64-bit processor and Embedded M9 Motion Co-processor',\n",
       " 'Brand Warranty of 1 Year',\n",
       " '64 GB ROM',\n",
       " '13.97 cm (5.5 inch) Retina HD Display',\n",
       " '12MP + 12MP | 7MP Front Camera',\n",
       " 'A11 Bionic Chip with 64-bit Architecture, Neural Engine, Embedded M11 Motion Coprocessor Processor',\n",
       " 'Brand Warranty of 1 Year',\n",
       " '256 GB ROM',\n",
       " '13.97 cm (5.5 inch) Retina HD Display',\n",
       " '12MP + 12MP | 7MP Front Camera',\n",
       " 'A11 Bionic Chip with 64-bit Architecture, Neural Engine, Embedded M11 Motion Coprocessor Processor',\n",
       " 'Brand Warranty of 1 Year',\n",
       " '256 GB ROM',\n",
       " '13.97 cm (5.5 inch) Retina HD Display',\n",
       " '12MP + 12MP | 7MP Front Camera',\n",
       " 'A11 Bionic Chip with 64-bit Architecture, Neural Engine, Embedded M11 Motion Coprocessor Processor',\n",
       " 'Brand Warranty of 1 Year',\n",
       " '256 GB ROM',\n",
       " '17.02 cm (6.7 inch) Super Retina XDR Display',\n",
       " '12MP + 12MP | 12MP Front Camera',\n",
       " 'A15 Bionic Chip, 6 Core Processor Processor',\n",
       " '1 Year Warranty for Phone and 6 Months Warranty for In-Box Accessories',\n",
       " '128 GB ROM',\n",
       " '17.02 cm (6.7 inch) Super Retina XDR Display',\n",
       " '12MP + 12MP | 12MP Front Camera',\n",
       " 'A15 Bionic Chip, 6 Core Processor Processor',\n",
       " '1 Year Warranty for Phone and 6 Months Warranty for In-Box Accessories',\n",
       " '512 GB ROM',\n",
       " '17.02 cm (6.7 inch) Super Retina XDR Display',\n",
       " '12MP + 12MP | 12MP Front Camera',\n",
       " 'A15 Bionic Chip, 6 Core Processor Processor',\n",
       " '1 Year Warranty for Phone and 6 Months Warranty for In-Box Accessories',\n",
       " '1 GB RAM | 8 GB ROM | Expandable Upto 32 GB',\n",
       " '10.16 cm (4 inch) WVGA Display',\n",
       " '5MP Rear Camera | 2MP Front Camera',\n",
       " '1600 mAh Li-ion Battery',\n",
       " 'SC9832 Processor',\n",
       " '1 Year',\n",
       " '512 GB ROM',\n",
       " '17.02 cm (6.7 inch) Super Retina XDR Display',\n",
       " '12MP + 12MP | 12MP Front Camera',\n",
       " 'A15 Bionic Chip, 6 Core Processor Processor',\n",
       " '1 Year Warranty for Phone and 6 Months Warranty for In-Box Accessories',\n",
       " '3 GB RAM | 32 GB ROM | Expandable Upto 256 GB',\n",
       " '15.9 cm (6.26 inch) HD+ Display',\n",
       " '13MP + 2MP | 13MP Front Camera',\n",
       " '4050 mAh Battery',\n",
       " 'Spreadtrum Processor',\n",
       " 'Brand Warranty of 1 Year Available for Mobile',\n",
       " '4 MB RAM | 4 MB ROM',\n",
       " '4.5 cm (1.77 inch) Display',\n",
       " '0MP Front Camera',\n",
       " '1000 mAh Lithium Ion Battery',\n",
       " 'MTK6261D Processor',\n",
       " '1 Year Manufacturer Warranty For Device And 6 Months Manufacturer Warranty For In-Box Accessories Including Battery From The Date Of Purchase']"
      ]
     },
     "execution_count": 267,
     "metadata": {},
     "output_type": "execute_result"
    }
   ],
   "source": [
    "ram_rom_size=[]\n",
    "for i in ram_rom:\n",
    "    title1=i.text\n",
    "    ram_rom_size.append(title1)\n",
    "ram_rom_size"
   ]
  },
  {
   "cell_type": "code",
   "execution_count": 268,
   "id": "4a43d75b",
   "metadata": {},
   "outputs": [
    {
     "data": {
      "text/plain": [
       "(124, 24, 24)"
      ]
     },
     "execution_count": 268,
     "metadata": {},
     "output_type": "execute_result"
    }
   ],
   "source": [
    "len(ram_rom_size),len(product_price),len(product_name)"
   ]
  },
  {
   "cell_type": "code",
   "execution_count": 269,
   "id": "04848e5d",
   "metadata": {},
   "outputs": [
    {
     "data": {
      "text/plain": [
       "5.166666666666667"
      ]
     },
     "execution_count": 269,
     "metadata": {},
     "output_type": "execute_result"
    }
   ],
   "source": [
    "124/24"
   ]
  },
  {
   "cell_type": "code",
   "execution_count": 271,
   "id": "26faa392",
   "metadata": {},
   "outputs": [],
   "source": [
    "R=[['128 GB ROM',\n",
    " '17.02 cm (6.7 inch) Super Retina XDR Display',\n",
    " '12MP + 12MP | 12MP Front Camera',\n",
    " 'A15 Bionic Chip, 6 Core Processor Processor',\n",
    " '1 Year Warranty for Phone and 6 Months Warranty for In-Box Accessories'],\n",
    "  ['128 GB ROM',\n",
    " '17.02 cm (6.7 inch) Super Retina XDR Display',\n",
    " '12MP + 12MP | 12MP Front Camera',\n",
    " 'A15 Bionic Chip, 6 Core Processor Processor',\n",
    " '1 Year Warranty for Phone and 6 Months Warranty for In-Box Accessories'],\n",
    "  ['256 GB ROM',\n",
    " '17.02 cm (6.7 inch) Super Retina XDR Display',\n",
    " '12MP + 12MP | 12MP Front Camera',\n",
    " 'A15 Bionic Chip, 6 Core Processor Processor',\n",
    " '1 Year Warranty for Phone and 6 Months Warranty for In-Box Accessories'],\n",
    "   ['256 GB ROM',\n",
    " '17.02 cm (6.7 inch) Super Retina XDR Display',\n",
    " '12MP + 12MP | 12MP Front Camera',\n",
    " 'A15 Bionic Chip, 6 Core Processor Processor',\n",
    " '1 Year Warranty for Phone and 6 Months Warranty for In-Box Accessories'],\n",
    " ['128 GB ROM',\n",
    " '17.02 cm (6.7 inch) Super Retina XDR Display',\n",
    " '12MP + 12MP | 12MP Front Camera',\n",
    " 'A15 Bionic Chip, 6 Core Processor Processor',\n",
    " '1 Year Warranty for Phone and 6 Months Warranty for In-Box Accessories'],\n",
    " ['512 GB ROM',\n",
    " '17.02 cm (6.7 inch) Super Retina XDR Display',\n",
    " '12MP + 12MP | 12MP Front Camera',\n",
    " 'A15 Bionic Chip, 6 Core Processor Processor',\n",
    " '1 Year Warranty for Phone and 6 Months Warranty for In-Box Accessories'],\n",
    "['512 GB ROM',\n",
    " '17.02 cm (6.7 inch) Super Retina XDR Display',\n",
    " '12MP + 12MP | 12MP Front Camera',\n",
    " 'A15 Bionic Chip, 6 Core Processor Processor',\n",
    " '1 Year Warranty for Phone and 6 Months Warranty for In-Box Accessories'],\n",
    " [ '512 GB ROM',\n",
    " '17.02 cm (6.7 inch) Super Retina XDR Display',\n",
    " '12MP + 12MP | 12MP Front Camera',\n",
    " 'A15 Bionic Chip, 6 Core Processor Processor',\n",
    " '1 Year Warranty for Phone and 6 Months Warranty for In-Box Accessories'],\n",
    " ['4 GB RAM | 64 GB ROM | Expandable Upto 256 GB',\n",
    " '15.24 cm (6 inch) Full HD Display',\n",
    " '16MP Rear Camera | 16MP + 8MP Dual Front Camera',\n",
    " '4000 mAh Battery',\n",
    " 'Qualcomm MSM8976 Pro Snapdragon 653 Processor',\n",
    " 'Brand Warranty of 1 Year Available for Mobile and 6 Months for Accessories'],\n",
    "['64 GB ROM',\n",
    " '13.97 cm (5.5 inch) Retina HD Display',\n",
    " '12MP + 12MP | 7MP Front Camera',\n",
    " 'A11 Bionic Chip with 64-bit Architecture, Neural Engine, Embedded M11 Motion Coprocessor Processor',\n",
    " 'Brand Warranty of 1 Year',],\n",
    "['64 GB ROM',\n",
    " '13.97 cm (5.5 inch) Retina HD Display',\n",
    " '12MP + 12MP | 7MP Front Camera',\n",
    " 'A11 Bionic Chip with 64-bit Architecture, Neural Engine, Embedded M11 Motion Coprocessor Processor',\n",
    " 'Brand Warranty of 1 Year'],\n",
    "['128 GB ROM',\n",
    " '17.02 cm (6.7 inch) Super Retina XDR Display',\n",
    " '12MP + 12MP | 12MP Front Camera',\n",
    " 'A15 Bionic Chip, 6 Core Processor Processor',\n",
    " '1 Year Warranty for Phone and 6 Months Warranty for In-Box Accessories'],\n",
    "['256 GB ROM',\n",
    " '17.02 cm (6.7 inch) Super Retina XDR Display',\n",
    " '12MP + 12MP | 12MP Front Camera',\n",
    " 'A15 Bionic Chip, 6 Core Processor Processor',\n",
    " '1 Year Warranty for Phone and 6 Months Warranty for In-Box Accessories'],\n",
    "['32 GB ROM',\n",
    " '13.97 cm (5.5 inch) Retina HD Display',\n",
    " '12MP Rear Camera | 5MP Front Camera',\n",
    " 'Apple A9 64-bit processor and Embedded M9 Motion Co-processor',\n",
    " 'Brand Warranty of 1 Year'],\n",
    "['64 GB ROM',\n",
    " '13.97 cm (5.5 inch) Retina HD Display',\n",
    " '12MP + 12MP | 7MP Front Camera',\n",
    " 'A11 Bionic Chip with 64-bit Architecture, Neural Engine, Embedded M11 Motion Coprocessor Processor',\n",
    " 'Brand Warranty of 1 Year'],\n",
    "[ '256 GB ROM',\n",
    " '13.97 cm (5.5 inch) Retina HD Display',\n",
    " '12MP + 12MP | 7MP Front Camera',\n",
    " 'A11 Bionic Chip with 64-bit Architecture, Neural Engine, Embedded M11 Motion Coprocessor Processor',\n",
    " 'Brand Warranty of 1 Year'],\n",
    "['256 GB ROM',\n",
    " '13.97 cm (5.5 inch) Retina HD Display',\n",
    " '12MP + 12MP | 7MP Front Camera',\n",
    " 'A11 Bionic Chip with 64-bit Architecture, Neural Engine, Embedded M11 Motion Coprocessor Processor',\n",
    " 'Brand Warranty of 1 Year'],\n",
    "['256 GB ROM',\n",
    " '17.02 cm (6.7 inch) Super Retina XDR Display',\n",
    " '12MP + 12MP | 12MP Front Camera',\n",
    " 'A15 Bionic Chip, 6 Core Processor Processor',\n",
    " '1 Year Warranty for Phone and 6 Months Warranty for In-Box Accessories'],\n",
    "['128 GB ROM',\n",
    " '17.02 cm (6.7 inch) Super Retina XDR Display',\n",
    " '12MP + 12MP | 12MP Front Camera',\n",
    " 'A15 Bionic Chip, 6 Core Processor Processor',\n",
    " '1 Year Warranty for Phone and 6 Months Warranty for In-Box Accessories'],\n",
    "['512 GB ROM',\n",
    " '17.02 cm (6.7 inch) Super Retina XDR Display',\n",
    " '12MP + 12MP | 12MP Front Camera',\n",
    " 'A15 Bionic Chip, 6 Core Processor Processor',\n",
    " '1 Year Warranty for Phone and 6 Months Warranty for In-Box Accessories'],\n",
    "['1 GB RAM | 8 GB ROM | Expandable Upto 32 GB',\n",
    " '10.16 cm (4 inch) WVGA Display',\n",
    " '5MP Rear Camera | 2MP Front Camera',\n",
    " '1600 mAh Li-ion Battery',\n",
    " 'SC9832 Processor',\n",
    " '1 Year'],\n",
    "['512 GB ROM',\n",
    " '17.02 cm (6.7 inch) Super Retina XDR Display',\n",
    " '12MP + 12MP | 12MP Front Camera',\n",
    " 'A15 Bionic Chip, 6 Core Processor Processor',\n",
    " '1 Year Warranty for Phone and 6 Months Warranty for In-Box Accessories'],\n",
    "['3 GB RAM | 32 GB ROM | Expandable Upto 256 GB',\n",
    " '15.9 cm (6.26 inch) HD+ Display',\n",
    " '13MP + 2MP | 13MP Front Camera',\n",
    " '4050 mAh Battery',\n",
    " 'Spreadtrum Processor',\n",
    " 'Brand Warranty of 1 Year Available for Mobile'],\n",
    "[ '4 MB RAM | 4 MB ROM',\n",
    " '4.5 cm (1.77 inch) Display',\n",
    " '0MP Front Camera',\n",
    " '1000 mAh Lithium Ion Battery',\n",
    " 'MTK6261D Processor',\n",
    " '1 Year Manufacturer Warranty For Device And 6 Months Manufacturer Warranty For In-Box Accessories Including Battery From The Date Of Purchase']]\n",
    "\n",
    " "
   ]
  },
  {
   "cell_type": "code",
   "execution_count": 272,
   "id": "ce36cda1",
   "metadata": {},
   "outputs": [
    {
     "data": {
      "text/plain": [
       "24"
      ]
     },
     "execution_count": 272,
     "metadata": {},
     "output_type": "execute_result"
    }
   ],
   "source": [
    "len(R)"
   ]
  },
  {
   "cell_type": "code",
   "execution_count": 279,
   "id": "7c2f0323",
   "metadata": {},
   "outputs": [
    {
     "data": {
      "text/html": [
       "<div>\n",
       "<style scoped>\n",
       "    .dataframe tbody tr th:only-of-type {\n",
       "        vertical-align: middle;\n",
       "    }\n",
       "\n",
       "    .dataframe tbody tr th {\n",
       "        vertical-align: top;\n",
       "    }\n",
       "\n",
       "    .dataframe thead th {\n",
       "        text-align: right;\n",
       "    }\n",
       "</style>\n",
       "<table border=\"1\" class=\"dataframe\">\n",
       "  <thead>\n",
       "    <tr style=\"text-align: right;\">\n",
       "      <th></th>\n",
       "      <th>product name and color</th>\n",
       "      <th>price</th>\n",
       "      <th>ram / rom / camera / processor / battery</th>\n",
       "    </tr>\n",
       "  </thead>\n",
       "  <tbody>\n",
       "    <tr>\n",
       "      <th>0</th>\n",
       "      <td>APPLE iPhone 14 Plus (Blue, 128 GB)</td>\n",
       "      <td>₹75,999</td>\n",
       "      <td>[128 GB ROM, 17.02 cm (6.7 inch) Super Retina ...</td>\n",
       "    </tr>\n",
       "    <tr>\n",
       "      <th>1</th>\n",
       "      <td>APPLE iPhone 14 Plus (Midnight, 128 GB)</td>\n",
       "      <td>₹75,999</td>\n",
       "      <td>[128 GB ROM, 17.02 cm (6.7 inch) Super Retina ...</td>\n",
       "    </tr>\n",
       "    <tr>\n",
       "      <th>2</th>\n",
       "      <td>APPLE iPhone 14 Plus (Blue, 256 GB)</td>\n",
       "      <td>₹85,999</td>\n",
       "      <td>[256 GB ROM, 17.02 cm (6.7 inch) Super Retina ...</td>\n",
       "    </tr>\n",
       "    <tr>\n",
       "      <th>3</th>\n",
       "      <td>APPLE iPhone 14 Plus ((PRODUCT)RED, 256 GB)</td>\n",
       "      <td>₹85,999</td>\n",
       "      <td>[256 GB ROM, 17.02 cm (6.7 inch) Super Retina ...</td>\n",
       "    </tr>\n",
       "    <tr>\n",
       "      <th>4</th>\n",
       "      <td>APPLE iPhone 14 Plus (Purple, 128 GB)</td>\n",
       "      <td>₹76,999</td>\n",
       "      <td>[128 GB ROM, 17.02 cm (6.7 inch) Super Retina ...</td>\n",
       "    </tr>\n",
       "    <tr>\n",
       "      <th>5</th>\n",
       "      <td>APPLE iPhone 14 Plus (Starlight, 512 GB)</td>\n",
       "      <td>₹1,05,999</td>\n",
       "      <td>[512 GB ROM, 17.02 cm (6.7 inch) Super Retina ...</td>\n",
       "    </tr>\n",
       "    <tr>\n",
       "      <th>6</th>\n",
       "      <td>APPLE iPhone 14 Plus (Midnight, 512 GB)</td>\n",
       "      <td>₹1,05,999</td>\n",
       "      <td>[512 GB ROM, 17.02 cm (6.7 inch) Super Retina ...</td>\n",
       "    </tr>\n",
       "    <tr>\n",
       "      <th>7</th>\n",
       "      <td>APPLE iPhone 14 Plus (Purple, 512 GB)</td>\n",
       "      <td>₹1,05,999</td>\n",
       "      <td>[512 GB ROM, 17.02 cm (6.7 inch) Super Retina ...</td>\n",
       "    </tr>\n",
       "    <tr>\n",
       "      <th>8</th>\n",
       "      <td>OPPO F3 Plus (Gold, 64 GB)</td>\n",
       "      <td>₹30,990</td>\n",
       "      <td>[4 GB RAM | 64 GB ROM | Expandable Upto 256 GB...</td>\n",
       "    </tr>\n",
       "    <tr>\n",
       "      <th>9</th>\n",
       "      <td>APPLE iPhone 8 Plus (Silver, 64 GB)</td>\n",
       "      <td>₹49,900</td>\n",
       "      <td>[64 GB ROM, 13.97 cm (5.5 inch) Retina HD Disp...</td>\n",
       "    </tr>\n",
       "    <tr>\n",
       "      <th>10</th>\n",
       "      <td>APPLE iPhone 8 Plus (Space Grey, 64 GB)</td>\n",
       "      <td>₹49,900</td>\n",
       "      <td>[64 GB ROM, 13.97 cm (5.5 inch) Retina HD Disp...</td>\n",
       "    </tr>\n",
       "    <tr>\n",
       "      <th>11</th>\n",
       "      <td>APPLE iPhone 14 Plus (Starlight, 128 GB)</td>\n",
       "      <td>₹75,999</td>\n",
       "      <td>[128 GB ROM, 17.02 cm (6.7 inch) Super Retina ...</td>\n",
       "    </tr>\n",
       "    <tr>\n",
       "      <th>12</th>\n",
       "      <td>APPLE iPhone 14 Plus (Starlight, 256 GB)</td>\n",
       "      <td>₹85,999</td>\n",
       "      <td>[256 GB ROM, 17.02 cm (6.7 inch) Super Retina ...</td>\n",
       "    </tr>\n",
       "    <tr>\n",
       "      <th>13</th>\n",
       "      <td>APPLE iPhone 6s Plus (Gold, 32 GB)</td>\n",
       "      <td>₹34,900</td>\n",
       "      <td>[32 GB ROM, 13.97 cm (5.5 inch) Retina HD Disp...</td>\n",
       "    </tr>\n",
       "    <tr>\n",
       "      <th>14</th>\n",
       "      <td>APPLE iPhone 8 Plus (Gold, 64 GB)</td>\n",
       "      <td>₹49,900</td>\n",
       "      <td>[64 GB ROM, 13.97 cm (5.5 inch) Retina HD Disp...</td>\n",
       "    </tr>\n",
       "    <tr>\n",
       "      <th>15</th>\n",
       "      <td>APPLE iPhone 8 Plus (Space Grey, 256 GB)</td>\n",
       "      <td>₹84,900</td>\n",
       "      <td>[256 GB ROM, 13.97 cm (5.5 inch) Retina HD Dis...</td>\n",
       "    </tr>\n",
       "    <tr>\n",
       "      <th>16</th>\n",
       "      <td>APPLE iPhone 8 Plus (Silver, 256 GB)</td>\n",
       "      <td>₹84,900</td>\n",
       "      <td>[256 GB ROM, 13.97 cm (5.5 inch) Retina HD Dis...</td>\n",
       "    </tr>\n",
       "    <tr>\n",
       "      <th>17</th>\n",
       "      <td>APPLE iPhone 14 Plus (Midnight, 256 GB)</td>\n",
       "      <td>₹85,999</td>\n",
       "      <td>[256 GB ROM, 17.02 cm (6.7 inch) Super Retina ...</td>\n",
       "    </tr>\n",
       "    <tr>\n",
       "      <th>18</th>\n",
       "      <td>APPLE iPhone 14 Plus ((PRODUCT)RED, 128 GB)</td>\n",
       "      <td>₹75,999</td>\n",
       "      <td>[128 GB ROM, 17.02 cm (6.7 inch) Super Retina ...</td>\n",
       "    </tr>\n",
       "    <tr>\n",
       "      <th>19</th>\n",
       "      <td>APPLE iPhone 14 Plus (Blue, 512 GB)</td>\n",
       "      <td>₹1,05,999</td>\n",
       "      <td>[512 GB ROM, 17.02 cm (6.7 inch) Super Retina ...</td>\n",
       "    </tr>\n",
       "    <tr>\n",
       "      <th>20</th>\n",
       "      <td>Micromax Bharat 2 Plus (Champagne, 8 GB)</td>\n",
       "      <td>₹3,599</td>\n",
       "      <td>[1 GB RAM | 8 GB ROM | Expandable Upto 32 GB, ...</td>\n",
       "    </tr>\n",
       "    <tr>\n",
       "      <th>21</th>\n",
       "      <td>APPLE iPhone 14 Plus ((PRODUCT)RED, 512 GB)</td>\n",
       "      <td>₹1,05,999</td>\n",
       "      <td>[512 GB ROM, 17.02 cm (6.7 inch) Super Retina ...</td>\n",
       "    </tr>\n",
       "    <tr>\n",
       "      <th>22</th>\n",
       "      <td>GIONEE F9 Plus (Black, 32 GB)</td>\n",
       "      <td>₹9,490</td>\n",
       "      <td>[3 GB RAM | 32 GB ROM | Expandable Upto 256 GB...</td>\n",
       "    </tr>\n",
       "    <tr>\n",
       "      <th>23</th>\n",
       "      <td>Nokia 105 PLUS</td>\n",
       "      <td>₹1,399</td>\n",
       "      <td>[4 MB RAM | 4 MB ROM, 4.5 cm (1.77 inch) Displ...</td>\n",
       "    </tr>\n",
       "  </tbody>\n",
       "</table>\n",
       "</div>"
      ],
      "text/plain": [
       "                         product name and color      price  \\\n",
       "0           APPLE iPhone 14 Plus (Blue, 128 GB)    ₹75,999   \n",
       "1       APPLE iPhone 14 Plus (Midnight, 128 GB)    ₹75,999   \n",
       "2           APPLE iPhone 14 Plus (Blue, 256 GB)    ₹85,999   \n",
       "3   APPLE iPhone 14 Plus ((PRODUCT)RED, 256 GB)    ₹85,999   \n",
       "4         APPLE iPhone 14 Plus (Purple, 128 GB)    ₹76,999   \n",
       "5      APPLE iPhone 14 Plus (Starlight, 512 GB)  ₹1,05,999   \n",
       "6       APPLE iPhone 14 Plus (Midnight, 512 GB)  ₹1,05,999   \n",
       "7         APPLE iPhone 14 Plus (Purple, 512 GB)  ₹1,05,999   \n",
       "8                    OPPO F3 Plus (Gold, 64 GB)    ₹30,990   \n",
       "9           APPLE iPhone 8 Plus (Silver, 64 GB)    ₹49,900   \n",
       "10      APPLE iPhone 8 Plus (Space Grey, 64 GB)    ₹49,900   \n",
       "11     APPLE iPhone 14 Plus (Starlight, 128 GB)    ₹75,999   \n",
       "12     APPLE iPhone 14 Plus (Starlight, 256 GB)    ₹85,999   \n",
       "13           APPLE iPhone 6s Plus (Gold, 32 GB)    ₹34,900   \n",
       "14            APPLE iPhone 8 Plus (Gold, 64 GB)    ₹49,900   \n",
       "15     APPLE iPhone 8 Plus (Space Grey, 256 GB)    ₹84,900   \n",
       "16         APPLE iPhone 8 Plus (Silver, 256 GB)    ₹84,900   \n",
       "17      APPLE iPhone 14 Plus (Midnight, 256 GB)    ₹85,999   \n",
       "18  APPLE iPhone 14 Plus ((PRODUCT)RED, 128 GB)    ₹75,999   \n",
       "19          APPLE iPhone 14 Plus (Blue, 512 GB)  ₹1,05,999   \n",
       "20     Micromax Bharat 2 Plus (Champagne, 8 GB)     ₹3,599   \n",
       "21  APPLE iPhone 14 Plus ((PRODUCT)RED, 512 GB)  ₹1,05,999   \n",
       "22                GIONEE F9 Plus (Black, 32 GB)     ₹9,490   \n",
       "23                               Nokia 105 PLUS     ₹1,399   \n",
       "\n",
       "             ram / rom / camera / processor / battery  \n",
       "0   [128 GB ROM, 17.02 cm (6.7 inch) Super Retina ...  \n",
       "1   [128 GB ROM, 17.02 cm (6.7 inch) Super Retina ...  \n",
       "2   [256 GB ROM, 17.02 cm (6.7 inch) Super Retina ...  \n",
       "3   [256 GB ROM, 17.02 cm (6.7 inch) Super Retina ...  \n",
       "4   [128 GB ROM, 17.02 cm (6.7 inch) Super Retina ...  \n",
       "5   [512 GB ROM, 17.02 cm (6.7 inch) Super Retina ...  \n",
       "6   [512 GB ROM, 17.02 cm (6.7 inch) Super Retina ...  \n",
       "7   [512 GB ROM, 17.02 cm (6.7 inch) Super Retina ...  \n",
       "8   [4 GB RAM | 64 GB ROM | Expandable Upto 256 GB...  \n",
       "9   [64 GB ROM, 13.97 cm (5.5 inch) Retina HD Disp...  \n",
       "10  [64 GB ROM, 13.97 cm (5.5 inch) Retina HD Disp...  \n",
       "11  [128 GB ROM, 17.02 cm (6.7 inch) Super Retina ...  \n",
       "12  [256 GB ROM, 17.02 cm (6.7 inch) Super Retina ...  \n",
       "13  [32 GB ROM, 13.97 cm (5.5 inch) Retina HD Disp...  \n",
       "14  [64 GB ROM, 13.97 cm (5.5 inch) Retina HD Disp...  \n",
       "15  [256 GB ROM, 13.97 cm (5.5 inch) Retina HD Dis...  \n",
       "16  [256 GB ROM, 13.97 cm (5.5 inch) Retina HD Dis...  \n",
       "17  [256 GB ROM, 17.02 cm (6.7 inch) Super Retina ...  \n",
       "18  [128 GB ROM, 17.02 cm (6.7 inch) Super Retina ...  \n",
       "19  [512 GB ROM, 17.02 cm (6.7 inch) Super Retina ...  \n",
       "20  [1 GB RAM | 8 GB ROM | Expandable Upto 32 GB, ...  \n",
       "21  [512 GB ROM, 17.02 cm (6.7 inch) Super Retina ...  \n",
       "22  [3 GB RAM | 32 GB ROM | Expandable Upto 256 GB...  \n",
       "23  [4 MB RAM | 4 MB ROM, 4.5 cm (1.77 inch) Displ...  "
      ]
     },
     "execution_count": 279,
     "metadata": {},
     "output_type": "execute_result"
    }
   ],
   "source": [
    "# Creating a Data Frame\n",
    "\n",
    "phone_details = pd.DataFrame({})\n",
    "phone_details[\"product name and color\"] = product_name\n",
    "phone_details[\"price\"]=product_price\n",
    "phone_details[\"ram / rom / camera / processor / battery\"]= R\n",
    "phone_details"
   ]
  },
  {
   "cell_type": "code",
   "execution_count": 280,
   "id": "17361cc0",
   "metadata": {},
   "outputs": [],
   "source": [
    "# saving the dataframe into.csv\n",
    "phone_details.to_csv('file2.csv')"
   ]
  },
  {
   "cell_type": "markdown",
   "id": "a2718250",
   "metadata": {},
   "source": [
    "# 5) Write a program to scrap geospatial coordinates (latitude, longitude) of a city searched on google maps.\n"
   ]
  },
  {
   "cell_type": "code",
   "execution_count": 451,
   "id": "d2e6dfd6",
   "metadata": {},
   "outputs": [],
   "source": [
    "# Let's first connect\n",
    "\n",
    "driver=webdriver.Chrome(r\"/Users/asiya/Desktop/chromedriver\\ 4\\\\chromedriver.exe\")\n",
    "\n",
    "driver.get(\"https://www.google.com/\")\n",
    "\n"
   ]
  },
  {
   "cell_type": "code",
   "execution_count": 501,
   "id": "4ee9f15d",
   "metadata": {},
   "outputs": [],
   "source": [
    "# Imports\n",
    "\n",
    "from selenium import webdriver\n",
    "import time\n",
    "from selenium.webdriver.common.by import By\n",
    "from selenium.common.exceptions import NoSuchElementException\n",
    "import re "
   ]
  },
  {
   "cell_type": "code",
   "execution_count": 454,
   "id": "dc454ca4",
   "metadata": {},
   "outputs": [],
   "source": [
    "try:\n",
    "    search_designation=driver.find_element(By.XPATH,\"/html/body/div[1]/div[3]/form/div[1]/div[1]/div[1]/div/div[2]/input\")\n",
    "    search_designation.click()\n",
    "except NoSuchElementException as e:\n",
    "    print(e)"
   ]
  },
  {
   "cell_type": "code",
   "execution_count": 455,
   "id": "9d009a8a",
   "metadata": {},
   "outputs": [],
   "source": [
    "search_option=driver.find_element(By.XPATH,\"/html/body/div[1]/div[3]/form/div[1]/div[1]/div[1]/div/div[2]/input\")\n",
    "search_option.send_keys(\"Chennai google map\")"
   ]
  },
  {
   "cell_type": "code",
   "execution_count": 456,
   "id": "0712902b",
   "metadata": {},
   "outputs": [],
   "source": [
    "try:\n",
    "    search_button=driver.find_element(By.XPATH,\"/html/body/div[1]/div[3]/form/div[1]/div[1]/div[2]/div[2]/div[5]/center/input[1]\")\n",
    "    search_button.click()\n",
    "except ElementClickInterceptedException as e:\n",
    "    print(e)"
   ]
  },
  {
   "cell_type": "code",
   "execution_count": 457,
   "id": "741cb6a1",
   "metadata": {},
   "outputs": [],
   "source": [
    "maps=driver.find_element(By.XPATH,\"/html/body/div[7]/div/div[4]/div/div[1]/div/div[1]/div/div[2]/a\")\n",
    "maps.click()"
   ]
  },
  {
   "cell_type": "code",
   "execution_count": 468,
   "id": "957a3bc5",
   "metadata": {},
   "outputs": [],
   "source": [
    "right=driver.find_element(By.XPATH,\"/html/body/div[3]/div[9]/div[23]/div[1]/div[2]/div[2]/div/div[2]/div[3]/button\")\n",
    "right.click()"
   ]
  },
  {
   "cell_type": "code",
   "execution_count": 477,
   "id": "329d4786",
   "metadata": {},
   "outputs": [
    {
     "data": {
      "text/plain": [
       "[<selenium.webdriver.remote.webelement.WebElement (session=\"b8d0e8bb5a1976a92ab17def0b213e83\", element=\"b5521972-b5db-4179-ab4b-ef8e1d59414d\")>]"
      ]
     },
     "execution_count": 477,
     "metadata": {},
     "output_type": "execute_result"
    }
   ],
   "source": [
    "location=driver.find_elements(By.XPATH,\"/html/body/div[3]/div[9]/div[9]/div/div/div[1]/div[2]/div/div[1]/div/div/div[2]/div[1]/div[1]/h2/span\")\n",
    "location"
   ]
  },
  {
   "cell_type": "code",
   "execution_count": 478,
   "id": "6ec63145",
   "metadata": {},
   "outputs": [
    {
     "data": {
      "text/plain": [
       "['12.856713, 80.083357']"
      ]
     },
     "execution_count": 478,
     "metadata": {},
     "output_type": "execute_result"
    }
   ],
   "source": [
    "latitude_longitude=[]\n",
    "for i in location:\n",
    "    title=i.text\n",
    "    latitude_longitude.append(title)\n",
    "latitude_longitude"
   ]
  },
  {
   "cell_type": "markdown",
   "id": "aa6498c2",
   "metadata": {},
   "source": [
    "# 6) # Write a program to scrap details of all the funding deals for second quarter (i.e Jan 21 – March 21) from trak.in.\n"
   ]
  },
  {
   "cell_type": "code",
   "execution_count": 500,
   "id": "dbb97e90",
   "metadata": {},
   "outputs": [],
   "source": [
    "# Let's first connect\n",
    "\n",
    "driver=webdriver.Chrome(r\"/Users/asiya/Desktop/chromedriver\\ 4\\\\chromedriver.exe\")"
   ]
  },
  {
   "cell_type": "code",
   "execution_count": 503,
   "id": "f74f5706",
   "metadata": {},
   "outputs": [],
   "source": [
    "url=\"https://trak.in/india-startup-funding-investment-2015/\""
   ]
  },
  {
   "cell_type": "code",
   "execution_count": 504,
   "id": "231ceef4",
   "metadata": {},
   "outputs": [],
   "source": [
    "driver.get(url1)"
   ]
  },
  {
   "cell_type": "code",
   "execution_count": 509,
   "id": "bfb7924a",
   "metadata": {},
   "outputs": [
    {
     "data": {
      "text/plain": [
       "[<selenium.webdriver.remote.webelement.WebElement (session=\"a8cb27a707cd6acdfc1be5612654b5ab\", element=\"b2675bcb-b504-4b88-b5b2-4eb8e102edd7\")>,\n",
       " <selenium.webdriver.remote.webelement.WebElement (session=\"a8cb27a707cd6acdfc1be5612654b5ab\", element=\"ce6b301a-755f-40b7-a405-7ff669d11f7c\")>]"
      ]
     },
     "execution_count": 509,
     "metadata": {},
     "output_type": "execute_result"
    }
   ],
   "source": [
    "# Fetching the Date\n",
    "\n",
    "jandate=driver.find_elements(By.XPATH,\"//td[@class='column-2']\")\n",
    "jandate[0:2]"
   ]
  },
  {
   "cell_type": "code",
   "execution_count": 510,
   "id": "9e8a9fdf",
   "metadata": {},
   "outputs": [
    {
     "data": {
      "text/plain": [
       "['01/04/2021', '05/04/2021']"
      ]
     },
     "execution_count": 510,
     "metadata": {},
     "output_type": "execute_result"
    }
   ],
   "source": [
    "january_date=[]\n",
    "for i in jandate:\n",
    "    title1=i.text\n",
    "    january_date.append(title1)\n",
    "january_date[0:2]"
   ]
  },
  {
   "cell_type": "code",
   "execution_count": 511,
   "id": "cfd34996",
   "metadata": {},
   "outputs": [
    {
     "data": {
      "text/plain": [
       "[<selenium.webdriver.remote.webelement.WebElement (session=\"a8cb27a707cd6acdfc1be5612654b5ab\", element=\"4841862b-3cc7-4ce9-80ee-97f26121cd4f\")>,\n",
       " <selenium.webdriver.remote.webelement.WebElement (session=\"a8cb27a707cd6acdfc1be5612654b5ab\", element=\"2405c8b1-4db2-4cb9-b9f1-25a313068938\")>]"
      ]
     },
     "execution_count": 511,
     "metadata": {},
     "output_type": "execute_result"
    }
   ],
   "source": [
    "# Fetching the Name\n",
    "\n",
    "janname=driver.find_elements(By.XPATH,\"//td[@class='column-3']\")\n",
    "janname[0:2]\n"
   ]
  },
  {
   "cell_type": "code",
   "execution_count": 512,
   "id": "0bb41dd7",
   "metadata": {},
   "outputs": [
    {
     "data": {
      "text/plain": [
       "['DealShare',\n",
       " 'Uniphore',\n",
       " 'Dunzo',\n",
       " 'BYJU’S',\n",
       " 'SkilloVilla',\n",
       " 'CityMall',\n",
       " 'DotPe',\n",
       " 'Doubtnut',\n",
       " 'Zomato',\n",
       " 'Fingerlix',\n",
       " 'Zolve',\n",
       " 'KreditBee',\n",
       " 'Pepperfry',\n",
       " 'Grofers',\n",
       " 'Nothing',\n",
       " 'SplashLearn',\n",
       " 'Digit Insurance',\n",
       " 'Bombay Shaving Company',\n",
       " 'DeHaat',\n",
       " 'Darwinbox',\n",
       " 'mfine',\n",
       " 'Udayy',\n",
       " 'True Elements',\n",
       " 'Saveo']"
      ]
     },
     "execution_count": 512,
     "metadata": {},
     "output_type": "execute_result"
    }
   ],
   "source": [
    "january_name=[]\n",
    "for i in janname:\n",
    "    title1=i.text\n",
    "    january_name.append(title1)\n",
    "january_name[5:29]"
   ]
  },
  {
   "cell_type": "code",
   "execution_count": 513,
   "id": "97cdc3d8",
   "metadata": {},
   "outputs": [
    {
     "data": {
      "text/plain": [
       "[<selenium.webdriver.remote.webelement.WebElement (session=\"a8cb27a707cd6acdfc1be5612654b5ab\", element=\"d88f9def-ab68-4f97-9ea1-9608a6d42342\")>,\n",
       " <selenium.webdriver.remote.webelement.WebElement (session=\"a8cb27a707cd6acdfc1be5612654b5ab\", element=\"5dd1e6c7-7d92-48be-84c3-afd6036a4815\")>]"
      ]
     },
     "execution_count": 513,
     "metadata": {},
     "output_type": "execute_result"
    }
   ],
   "source": [
    "# Fetching the Industry\n",
    "\n",
    "ind=driver.find_elements(By.XPATH,\"//td[@class='column-4']\")\n",
    "ind[0:2]"
   ]
  },
  {
   "cell_type": "code",
   "execution_count": 514,
   "id": "2ca1a3c8",
   "metadata": {},
   "outputs": [
    {
     "data": {
      "text/plain": [
       "['Edu-tech', 'E-commerce']"
      ]
     },
     "execution_count": 514,
     "metadata": {},
     "output_type": "execute_result"
    }
   ],
   "source": [
    "industry=[]\n",
    "for i in ind:\n",
    "    title1=i.text\n",
    "    industry.append(title1)\n",
    "industry[0:2]"
   ]
  },
  {
   "cell_type": "code",
   "execution_count": 515,
   "id": "34521022",
   "metadata": {},
   "outputs": [
    {
     "data": {
      "text/plain": [
       "[<selenium.webdriver.remote.webelement.WebElement (session=\"a8cb27a707cd6acdfc1be5612654b5ab\", element=\"944d83d5-6951-4e0b-8122-c1d74946b480\")>,\n",
       " <selenium.webdriver.remote.webelement.WebElement (session=\"a8cb27a707cd6acdfc1be5612654b5ab\", element=\"c16b5efd-5939-4b37-8107-d07cc98effa0\")>]"
      ]
     },
     "execution_count": 515,
     "metadata": {},
     "output_type": "execute_result"
    }
   ],
   "source": [
    "# Fetching the subvertical\n",
    "\n",
    "subver=driver.find_elements(By.XPATH,\"//td[@class='column-5']\")\n",
    "subver[0:2]"
   ]
  },
  {
   "cell_type": "code",
   "execution_count": 516,
   "id": "b3fd8e40",
   "metadata": {},
   "outputs": [
    {
     "data": {
      "text/plain": [
       "['Online tutoring', 'Online reselling platform']"
      ]
     },
     "execution_count": 516,
     "metadata": {},
     "output_type": "execute_result"
    }
   ],
   "source": [
    "subvirtical=[]\n",
    "for i in subver:\n",
    "    title1=i.text\n",
    "    subvirtical.append(title1)\n",
    "subvirtical[0:2]"
   ]
  },
  {
   "cell_type": "code",
   "execution_count": 517,
   "id": "729544c1",
   "metadata": {},
   "outputs": [
    {
     "data": {
      "text/plain": [
       "[<selenium.webdriver.remote.webelement.WebElement (session=\"a8cb27a707cd6acdfc1be5612654b5ab\", element=\"801e5bca-0f85-4734-afeb-fa3b744f0efb\")>,\n",
       " <selenium.webdriver.remote.webelement.WebElement (session=\"a8cb27a707cd6acdfc1be5612654b5ab\", element=\"75641f95-6356-4810-a44a-938747b2a666\")>]"
      ]
     },
     "execution_count": 517,
     "metadata": {},
     "output_type": "execute_result"
    }
   ],
   "source": [
    "# Fetching the Location\n",
    "\n",
    "loca=driver.find_elements(By.XPATH,\"//td[@class='column-6']\")\n",
    "loca[0:2]"
   ]
  },
  {
   "cell_type": "code",
   "execution_count": 518,
   "id": "a0b21bf7",
   "metadata": {},
   "outputs": [
    {
     "data": {
      "text/plain": [
       "['Bengaluru', 'Bengaluru']"
      ]
     },
     "execution_count": 518,
     "metadata": {},
     "output_type": "execute_result"
    }
   ],
   "source": [
    "location=[]\n",
    "for i in loca:\n",
    "    title1=i.text\n",
    "    location.append(title1)\n",
    "location[0:2]"
   ]
  },
  {
   "cell_type": "code",
   "execution_count": 520,
   "id": "8eb00803",
   "metadata": {},
   "outputs": [
    {
     "data": {
      "text/plain": [
       "[<selenium.webdriver.remote.webelement.WebElement (session=\"a8cb27a707cd6acdfc1be5612654b5ab\", element=\"55e60c0b-9c09-4174-9b5f-36240d3c4d0b\")>,\n",
       " <selenium.webdriver.remote.webelement.WebElement (session=\"a8cb27a707cd6acdfc1be5612654b5ab\", element=\"d22650bc-f664-4a4d-8115-4838056d06ce\")>]"
      ]
     },
     "execution_count": 520,
     "metadata": {},
     "output_type": "execute_result"
    }
   ],
   "source": [
    "# Fecthing the nvestor\n",
    "\n",
    "inves=driver.find_elements(By.XPATH,\"//td[@class='column-7']\")\n",
    "inves[0:2]"
   ]
  },
  {
   "cell_type": "code",
   "execution_count": 521,
   "id": "0afdac6f",
   "metadata": {},
   "outputs": [
    {
     "data": {
      "text/plain": [
       "['Innoven Capital', 'SoftBank Vision Fund 2']"
      ]
     },
     "execution_count": 521,
     "metadata": {},
     "output_type": "execute_result"
    }
   ],
   "source": [
    "investor=[]\n",
    "for i in inves:\n",
    "    title1=i.text\n",
    "    investor.append(title1)\n",
    "investor[0:2]"
   ]
  },
  {
   "cell_type": "code",
   "execution_count": 522,
   "id": "8f26ea7f",
   "metadata": {},
   "outputs": [
    {
     "data": {
      "text/plain": [
       "[<selenium.webdriver.remote.webelement.WebElement (session=\"a8cb27a707cd6acdfc1be5612654b5ab\", element=\"8bd0bb14-469a-47bb-b38a-3586311354a2\")>,\n",
       " <selenium.webdriver.remote.webelement.WebElement (session=\"a8cb27a707cd6acdfc1be5612654b5ab\", element=\"131d7d3e-c932-4d87-9a0b-b0db8f4bf8e7\")>]"
      ]
     },
     "execution_count": 522,
     "metadata": {},
     "output_type": "execute_result"
    }
   ],
   "source": [
    "# Fetching the investment\n",
    "\n",
    "invest=driver.find_elements(By.XPATH,\"//td[@class='column-8']\")\n",
    "invest[0:2]"
   ]
  },
  {
   "cell_type": "code",
   "execution_count": 523,
   "id": "6419db42",
   "metadata": {},
   "outputs": [
    {
     "data": {
      "text/plain": [
       "['Series F', 'Series E']"
      ]
     },
     "execution_count": 523,
     "metadata": {},
     "output_type": "execute_result"
    }
   ],
   "source": [
    "investment=[]\n",
    "for i in invest:\n",
    "    title1=i.text\n",
    "    investment.append(title1)\n",
    "investment[0:2]"
   ]
  },
  {
   "cell_type": "code",
   "execution_count": 524,
   "id": "7c0ba5d5",
   "metadata": {},
   "outputs": [
    {
     "data": {
      "text/plain": [
       "[<selenium.webdriver.remote.webelement.WebElement (session=\"a8cb27a707cd6acdfc1be5612654b5ab\", element=\"b5077c87-309f-47ac-a1a1-57392a22a976\")>,\n",
       " <selenium.webdriver.remote.webelement.WebElement (session=\"a8cb27a707cd6acdfc1be5612654b5ab\", element=\"3cd1f4d0-a71a-42c8-9fd1-ad9f3b045f4b\")>]"
      ]
     },
     "execution_count": 524,
     "metadata": {},
     "output_type": "execute_result"
    }
   ],
   "source": [
    "# Fetching the amount\n",
    "\n",
    "amm=driver.find_elements(By.XPATH,\"//td[@class='column-9']\")\n",
    "amm[0:2]"
   ]
  },
  {
   "cell_type": "code",
   "execution_count": 525,
   "id": "3021f20b",
   "metadata": {},
   "outputs": [
    {
     "data": {
      "text/plain": [
       "['460,000,000', '300,000,000']"
      ]
     },
     "execution_count": 525,
     "metadata": {},
     "output_type": "execute_result"
    }
   ],
   "source": [
    "ammount=[]\n",
    "for i in amm:\n",
    "    title1=i.text\n",
    "    ammount.append(title1)\n",
    "ammount[0:2]"
   ]
  },
  {
   "cell_type": "code",
   "execution_count": 526,
   "id": "4770e161",
   "metadata": {},
   "outputs": [
    {
     "data": {
      "text/plain": [
       "(392, 392, 392, 392, 392, 392, 392, 392)"
      ]
     },
     "execution_count": 526,
     "metadata": {},
     "output_type": "execute_result"
    }
   ],
   "source": [
    "len(january_date),len(january_name),len(industry),len(subvirtical),len(location),len(investor),len(investment),len(ammount)"
   ]
  },
  {
   "cell_type": "code",
   "execution_count": 527,
   "id": "95ccff96",
   "metadata": {},
   "outputs": [
    {
     "data": {
      "text/html": [
       "<div>\n",
       "<style scoped>\n",
       "    .dataframe tbody tr th:only-of-type {\n",
       "        vertical-align: middle;\n",
       "    }\n",
       "\n",
       "    .dataframe tbody tr th {\n",
       "        vertical-align: top;\n",
       "    }\n",
       "\n",
       "    .dataframe thead th {\n",
       "        text-align: right;\n",
       "    }\n",
       "</style>\n",
       "<table border=\"1\" class=\"dataframe\">\n",
       "  <thead>\n",
       "    <tr style=\"text-align: right;\">\n",
       "      <th></th>\n",
       "      <th>date</th>\n",
       "      <th>company name</th>\n",
       "      <th>industry</th>\n",
       "      <th>subvirtical</th>\n",
       "      <th>location</th>\n",
       "      <th>investor</th>\n",
       "      <th>investment</th>\n",
       "      <th>ammount</th>\n",
       "    </tr>\n",
       "  </thead>\n",
       "  <tbody>\n",
       "    <tr>\n",
       "      <th>0</th>\n",
       "      <td>04/03/2021</td>\n",
       "      <td>DealShare</td>\n",
       "      <td>E-commerce</td>\n",
       "      <td>Online shopping platform</td>\n",
       "      <td>Jaipur, Rajasthan</td>\n",
       "      <td>Innoven Capital</td>\n",
       "      <td>Debt Financing</td>\n",
       "      <td>250,000,000</td>\n",
       "    </tr>\n",
       "    <tr>\n",
       "      <th>1</th>\n",
       "      <td>31/03/2021</td>\n",
       "      <td>Uniphore</td>\n",
       "      <td>Technology</td>\n",
       "      <td>Conversational Service Automation (CSA)</td>\n",
       "      <td>Palo Alto</td>\n",
       "      <td>Sorenson Capital Partners</td>\n",
       "      <td>Series D</td>\n",
       "      <td>140,000,000</td>\n",
       "    </tr>\n",
       "    <tr>\n",
       "      <th>2</th>\n",
       "      <td>30/03/2021</td>\n",
       "      <td>Dunzo</td>\n",
       "      <td>E-commerce</td>\n",
       "      <td>Hyper-local delivery app</td>\n",
       "      <td>Bengaluru</td>\n",
       "      <td>Krishtal Advisors Pte Ltd</td>\n",
       "      <td>Series E</td>\n",
       "      <td>8,000,000</td>\n",
       "    </tr>\n",
       "    <tr>\n",
       "      <th>3</th>\n",
       "      <td>30/03/2021</td>\n",
       "      <td>BYJU’S</td>\n",
       "      <td>Edu-tech</td>\n",
       "      <td>Online tutoring</td>\n",
       "      <td>Bengaluru</td>\n",
       "      <td>MC Global Edtech, B Capital, Baron, others</td>\n",
       "      <td>Series F</td>\n",
       "      <td>460,000,000</td>\n",
       "    </tr>\n",
       "    <tr>\n",
       "      <th>4</th>\n",
       "      <td>23/03/2021</td>\n",
       "      <td>SkilloVilla</td>\n",
       "      <td>Edu-tech</td>\n",
       "      <td>Career and job-oriented upskilling.</td>\n",
       "      <td>Bengaluru</td>\n",
       "      <td>Titan Capital, others</td>\n",
       "      <td>Seed</td>\n",
       "      <td>300,000,000</td>\n",
       "    </tr>\n",
       "    <tr>\n",
       "      <th>5</th>\n",
       "      <td>25/03/2021</td>\n",
       "      <td>CityMall</td>\n",
       "      <td>E-commerce</td>\n",
       "      <td>Social ecommerce and online grocery platform</td>\n",
       "      <td>Gurgaon</td>\n",
       "      <td>Accel Partners</td>\n",
       "      <td>Series A</td>\n",
       "      <td>11,000,000</td>\n",
       "    </tr>\n",
       "    <tr>\n",
       "      <th>6</th>\n",
       "      <td>26/03/2021</td>\n",
       "      <td>DotPe</td>\n",
       "      <td>FinTech</td>\n",
       "      <td>Commerce and payments platform to offline ente...</td>\n",
       "      <td>Gurgaon</td>\n",
       "      <td>PayU</td>\n",
       "      <td>Series A</td>\n",
       "      <td>27,500,000</td>\n",
       "    </tr>\n",
       "    <tr>\n",
       "      <th>7</th>\n",
       "      <td>11/02/2021</td>\n",
       "      <td>Doubtnut</td>\n",
       "      <td>Edu Tech</td>\n",
       "      <td>E-Learning Platform</td>\n",
       "      <td>Gurgaon</td>\n",
       "      <td>SIG Global, Sequoia Capital, WaterBridge Ventu...</td>\n",
       "      <td>Series B</td>\n",
       "      <td>2,500,000</td>\n",
       "    </tr>\n",
       "    <tr>\n",
       "      <th>8</th>\n",
       "      <td>22/02/2021</td>\n",
       "      <td>Zomato</td>\n",
       "      <td>Hospitality</td>\n",
       "      <td>Online Food Delivery Platform</td>\n",
       "      <td>Gurgaon</td>\n",
       "      <td>Tiger Global, Kora</td>\n",
       "      <td>Venture</td>\n",
       "      <td>250,000,000</td>\n",
       "    </tr>\n",
       "    <tr>\n",
       "      <th>9</th>\n",
       "      <td>19/02/2021</td>\n",
       "      <td>Fingerlix</td>\n",
       "      <td>Hospitality</td>\n",
       "      <td>Semi-cooked food delivery app</td>\n",
       "      <td>Mumbai</td>\n",
       "      <td>Rhodium Trust, Accel Partners and Swiggy</td>\n",
       "      <td>Series C</td>\n",
       "      <td>2,747,045.20</td>\n",
       "    </tr>\n",
       "    <tr>\n",
       "      <th>10</th>\n",
       "      <td>17/02/2021</td>\n",
       "      <td>Zolve</td>\n",
       "      <td>FinTech</td>\n",
       "      <td>Global Neobank Venture</td>\n",
       "      <td>Mumbai</td>\n",
       "      <td>Accel Partners and Lightspeed Venture Partners</td>\n",
       "      <td>Seed</td>\n",
       "      <td>1,50,00,000</td>\n",
       "    </tr>\n",
       "    <tr>\n",
       "      <th>11</th>\n",
       "      <td>15/02/2021</td>\n",
       "      <td>KreditBee</td>\n",
       "      <td>Finance</td>\n",
       "      <td>Digital lending platform</td>\n",
       "      <td>Bengaluru</td>\n",
       "      <td>Azim Premji’s PremjiInvest and South Korea’s M...</td>\n",
       "      <td>Series C</td>\n",
       "      <td>75,000,000</td>\n",
       "    </tr>\n",
       "    <tr>\n",
       "      <th>12</th>\n",
       "      <td>12/02/2021</td>\n",
       "      <td>Pepperfry</td>\n",
       "      <td>E-commerce</td>\n",
       "      <td>Multi-brand furniture brand</td>\n",
       "      <td>Mumbai</td>\n",
       "      <td>InnoVen Capital</td>\n",
       "      <td>Debt Financing</td>\n",
       "      <td>4,773,958</td>\n",
       "    </tr>\n",
       "    <tr>\n",
       "      <th>13</th>\n",
       "      <td>12/02/2021</td>\n",
       "      <td>Grofers</td>\n",
       "      <td>E-Commerce</td>\n",
       "      <td>Online supermarket</td>\n",
       "      <td>Gurgaon</td>\n",
       "      <td>SoftBank Vision Fund (SVF)</td>\n",
       "      <td>Unspecified</td>\n",
       "      <td>55,000,000</td>\n",
       "    </tr>\n",
       "    <tr>\n",
       "      <th>14</th>\n",
       "      <td>09/02/2021</td>\n",
       "      <td>Nothing</td>\n",
       "      <td>Technology</td>\n",
       "      <td>Consumer Technology Venture</td>\n",
       "      <td>London</td>\n",
       "      <td>GV</td>\n",
       "      <td>Series A</td>\n",
       "      <td>15,000,000</td>\n",
       "    </tr>\n",
       "    <tr>\n",
       "      <th>15</th>\n",
       "      <td>09/02/2021</td>\n",
       "      <td>SplashLearn</td>\n",
       "      <td>EdTech</td>\n",
       "      <td>Game-based learning programme</td>\n",
       "      <td>Gurgaon</td>\n",
       "      <td>Owl Ventures</td>\n",
       "      <td>Series C</td>\n",
       "      <td>18,000,000</td>\n",
       "    </tr>\n",
       "    <tr>\n",
       "      <th>16</th>\n",
       "      <td>15/01/2021</td>\n",
       "      <td>Digit Insurance</td>\n",
       "      <td>Financial Services</td>\n",
       "      <td>Insurance Services</td>\n",
       "      <td>Bengaluru</td>\n",
       "      <td>A91 Partners, Faering Capital, TVS Capital Funds</td>\n",
       "      <td>Venture</td>\n",
       "      <td>1,80,00,000</td>\n",
       "    </tr>\n",
       "    <tr>\n",
       "      <th>17</th>\n",
       "      <td>28/01/2021</td>\n",
       "      <td>Bombay Shaving Company</td>\n",
       "      <td>Consumer Goods Company</td>\n",
       "      <td>Shave care, beard care, and skincare products</td>\n",
       "      <td>New Delhi</td>\n",
       "      <td>Reckitt Benckiser</td>\n",
       "      <td>Venture</td>\n",
       "      <td>6,172,258.50</td>\n",
       "    </tr>\n",
       "    <tr>\n",
       "      <th>18</th>\n",
       "      <td>19/01/2021</td>\n",
       "      <td>DeHaat</td>\n",
       "      <td>AgriTech Startup</td>\n",
       "      <td>online marketplace for farm products and services</td>\n",
       "      <td>Patna</td>\n",
       "      <td>Prosus Ventures</td>\n",
       "      <td>Series C</td>\n",
       "      <td>30,000,000</td>\n",
       "    </tr>\n",
       "    <tr>\n",
       "      <th>19</th>\n",
       "      <td>19/01/2021</td>\n",
       "      <td>Darwinbox</td>\n",
       "      <td>SaaS</td>\n",
       "      <td>HR Tech</td>\n",
       "      <td>Mumbai</td>\n",
       "      <td>Salesforce Ventures</td>\n",
       "      <td>Seed</td>\n",
       "      <td>15,000,000</td>\n",
       "    </tr>\n",
       "    <tr>\n",
       "      <th>20</th>\n",
       "      <td>18/01/2021</td>\n",
       "      <td>mfine</td>\n",
       "      <td>Health Tech Startup</td>\n",
       "      <td>AI-powered telemedicine mobile app</td>\n",
       "      <td>Bengaluru</td>\n",
       "      <td>Heritas Capital Management</td>\n",
       "      <td>Venture Round</td>\n",
       "      <td>16,000,000</td>\n",
       "    </tr>\n",
       "    <tr>\n",
       "      <th>21</th>\n",
       "      <td>18/01/2021</td>\n",
       "      <td>Udayy</td>\n",
       "      <td>EdTech</td>\n",
       "      <td>Online learning platform for kids in class 1-5</td>\n",
       "      <td>Gurgaon</td>\n",
       "      <td>Sequoia Capital</td>\n",
       "      <td>Seed Funding</td>\n",
       "      <td>15,000,000</td>\n",
       "    </tr>\n",
       "    <tr>\n",
       "      <th>22</th>\n",
       "      <td>11/01/2021</td>\n",
       "      <td>True Elements</td>\n",
       "      <td>Food Startup</td>\n",
       "      <td>Whole Food plant based Nashta</td>\n",
       "      <td>Pune</td>\n",
       "      <td>SIDBI Venture Capital</td>\n",
       "      <td>Series</td>\n",
       "      <td>100,000,000</td>\n",
       "    </tr>\n",
       "    <tr>\n",
       "      <th>23</th>\n",
       "      <td>13/01/2021</td>\n",
       "      <td>Saveo</td>\n",
       "      <td>B2B E-commerce</td>\n",
       "      <td>Pharmacies</td>\n",
       "      <td>Bengaluru</td>\n",
       "      <td>Matrix Partners India, RTP Global, others</td>\n",
       "      <td>Seed</td>\n",
       "      <td>4,000,000</td>\n",
       "    </tr>\n",
       "  </tbody>\n",
       "</table>\n",
       "</div>"
      ],
      "text/plain": [
       "          date            company name                industry  \\\n",
       "0   04/03/2021               DealShare              E-commerce   \n",
       "1   31/03/2021                Uniphore              Technology   \n",
       "2   30/03/2021                   Dunzo              E-commerce   \n",
       "3   30/03/2021                  BYJU’S                Edu-tech   \n",
       "4   23/03/2021             SkilloVilla                Edu-tech   \n",
       "5   25/03/2021                CityMall              E-commerce   \n",
       "6   26/03/2021                   DotPe                 FinTech   \n",
       "7   11/02/2021                Doubtnut                Edu Tech   \n",
       "8   22/02/2021                  Zomato             Hospitality   \n",
       "9   19/02/2021               Fingerlix             Hospitality   \n",
       "10  17/02/2021                   Zolve                 FinTech   \n",
       "11  15/02/2021               KreditBee                 Finance   \n",
       "12  12/02/2021               Pepperfry              E-commerce   \n",
       "13  12/02/2021                 Grofers              E-Commerce   \n",
       "14  09/02/2021                 Nothing              Technology   \n",
       "15  09/02/2021             SplashLearn                  EdTech   \n",
       "16  15/01/2021         Digit Insurance      Financial Services   \n",
       "17  28/01/2021  Bombay Shaving Company  Consumer Goods Company   \n",
       "18  19/01/2021                  DeHaat        AgriTech Startup   \n",
       "19  19/01/2021               Darwinbox                    SaaS   \n",
       "20  18/01/2021                   mfine     Health Tech Startup   \n",
       "21  18/01/2021                   Udayy                  EdTech   \n",
       "22  11/01/2021           True Elements            Food Startup   \n",
       "23  13/01/2021                   Saveo          B2B E-commerce   \n",
       "\n",
       "                                          subvirtical           location  \\\n",
       "0                            Online shopping platform  Jaipur, Rajasthan   \n",
       "1             Conversational Service Automation (CSA)          Palo Alto   \n",
       "2                            Hyper-local delivery app          Bengaluru   \n",
       "3                                     Online tutoring          Bengaluru   \n",
       "4                 Career and job-oriented upskilling.          Bengaluru   \n",
       "5        Social ecommerce and online grocery platform            Gurgaon   \n",
       "6   Commerce and payments platform to offline ente...            Gurgaon   \n",
       "7                                 E-Learning Platform            Gurgaon   \n",
       "8                       Online Food Delivery Platform            Gurgaon   \n",
       "9                       Semi-cooked food delivery app             Mumbai   \n",
       "10                             Global Neobank Venture             Mumbai   \n",
       "11                           Digital lending platform          Bengaluru   \n",
       "12                        Multi-brand furniture brand             Mumbai   \n",
       "13                                 Online supermarket            Gurgaon   \n",
       "14                        Consumer Technology Venture             London   \n",
       "15                      Game-based learning programme            Gurgaon   \n",
       "16                                 Insurance Services          Bengaluru   \n",
       "17      Shave care, beard care, and skincare products          New Delhi   \n",
       "18  online marketplace for farm products and services              Patna   \n",
       "19                                            HR Tech             Mumbai   \n",
       "20                 AI-powered telemedicine mobile app          Bengaluru   \n",
       "21     Online learning platform for kids in class 1-5            Gurgaon   \n",
       "22                      Whole Food plant based Nashta               Pune   \n",
       "23                                         Pharmacies          Bengaluru   \n",
       "\n",
       "                                             investor      investment  \\\n",
       "0                                     Innoven Capital  Debt Financing   \n",
       "1                           Sorenson Capital Partners        Series D   \n",
       "2                           Krishtal Advisors Pte Ltd        Series E   \n",
       "3          MC Global Edtech, B Capital, Baron, others        Series F   \n",
       "4                               Titan Capital, others            Seed   \n",
       "5                                      Accel Partners        Series A   \n",
       "6                                                PayU        Series A   \n",
       "7   SIG Global, Sequoia Capital, WaterBridge Ventu...        Series B   \n",
       "8                                  Tiger Global, Kora         Venture   \n",
       "9            Rhodium Trust, Accel Partners and Swiggy        Series C   \n",
       "10     Accel Partners and Lightspeed Venture Partners            Seed   \n",
       "11  Azim Premji’s PremjiInvest and South Korea’s M...        Series C   \n",
       "12                                    InnoVen Capital  Debt Financing   \n",
       "13                         SoftBank Vision Fund (SVF)     Unspecified   \n",
       "14                                                 GV        Series A   \n",
       "15                                       Owl Ventures        Series C   \n",
       "16   A91 Partners, Faering Capital, TVS Capital Funds         Venture   \n",
       "17                                  Reckitt Benckiser         Venture   \n",
       "18                                    Prosus Ventures        Series C   \n",
       "19                                Salesforce Ventures            Seed   \n",
       "20                         Heritas Capital Management   Venture Round   \n",
       "21                                    Sequoia Capital    Seed Funding   \n",
       "22                              SIDBI Venture Capital          Series   \n",
       "23          Matrix Partners India, RTP Global, others            Seed   \n",
       "\n",
       "         ammount  \n",
       "0    250,000,000  \n",
       "1    140,000,000  \n",
       "2      8,000,000  \n",
       "3    460,000,000  \n",
       "4    300,000,000  \n",
       "5     11,000,000  \n",
       "6     27,500,000  \n",
       "7      2,500,000  \n",
       "8    250,000,000  \n",
       "9   2,747,045.20  \n",
       "10   1,50,00,000  \n",
       "11    75,000,000  \n",
       "12     4,773,958  \n",
       "13    55,000,000  \n",
       "14    15,000,000  \n",
       "15    18,000,000  \n",
       "16   1,80,00,000  \n",
       "17  6,172,258.50  \n",
       "18    30,000,000  \n",
       "19    15,000,000  \n",
       "20    16,000,000  \n",
       "21    15,000,000  \n",
       "22   100,000,000  \n",
       "23     4,000,000  "
      ]
     },
     "execution_count": 527,
     "metadata": {},
     "output_type": "execute_result"
    }
   ],
   "source": [
    "funding_deals = pd.DataFrame({})\n",
    "funding_deals[\"date\"] = january_date[5:29]\n",
    "funding_deals[\"company name\"]=january_name[5:29]\n",
    "funding_deals[\"industry\"]= industry[5:29]\n",
    "funding_deals[\"subvirtical\"]=subvirtical[5:29]\n",
    "funding_deals[\"location\"]=location[5:29]\n",
    "funding_deals[\"investor\"] = investor[5:29]\n",
    "funding_deals[\"investment\"]=investment[5:29]\n",
    "funding_deals[\"ammount\"]= ammount[5:29]\n",
    "funding_deals"
   ]
  },
  {
   "cell_type": "markdown",
   "id": "cb9780ff",
   "metadata": {},
   "source": [
    "# 7) Write a program to scrap all the available details of best gaming laptops from digit.in"
   ]
  },
  {
   "cell_type": "code",
   "execution_count": 584,
   "id": "16d6bdfa",
   "metadata": {},
   "outputs": [],
   "source": [
    "# Let's first connect\n",
    "\n",
    "driver=webdriver.Chrome(r\"/Users/asiya/Desktop/chromedriver\\ 4\\\\chromedriver.exe\")"
   ]
  },
  {
   "cell_type": "code",
   "execution_count": 549,
   "id": "3075ed26",
   "metadata": {},
   "outputs": [],
   "source": [
    "url=\"https://www.digit.in/top-products/best-gaming-laptops-40.html\""
   ]
  },
  {
   "cell_type": "code",
   "execution_count": 550,
   "id": "0ab263f0",
   "metadata": {},
   "outputs": [],
   "source": [
    "driver.get(url)"
   ]
  },
  {
   "cell_type": "code",
   "execution_count": 551,
   "id": "6a4ade2d",
   "metadata": {},
   "outputs": [],
   "source": [
    "Brands=[]\n",
    "Products_Description=[]\n",
    "Specification=[]\n",
    "Price=[]"
   ]
  },
  {
   "cell_type": "code",
   "execution_count": 553,
   "id": "26ea47a7",
   "metadata": {},
   "outputs": [
    {
     "data": {
      "text/plain": [
       "9"
      ]
     },
     "execution_count": 553,
     "metadata": {},
     "output_type": "execute_result"
    }
   ],
   "source": [
    "# Fetching Brand\n",
    "br=driver.find_elements(By.XPATH,\"//div[@class='TopNumbeHeading']\")\n",
    "len(br)"
   ]
  },
  {
   "cell_type": "code",
   "execution_count": 566,
   "id": "b1c7c398",
   "metadata": {},
   "outputs": [
    {
     "data": {
      "text/plain": [
       "1"
      ]
     },
     "execution_count": 566,
     "metadata": {},
     "output_type": "execute_result"
    }
   ],
   "source": [
    "# Fetching Brand\n",
    "br=driver.find_elements(By.XPATH,\"//div[@class='TopNumbeHeading active']\")\n",
    "len(br)"
   ]
  },
  {
   "cell_type": "code",
   "execution_count": 567,
   "id": "21c07bbf",
   "metadata": {},
   "outputs": [
    {
     "data": {
      "text/plain": [
       "['1.MSI Titan GT77-12UHS',\n",
       " '2.Alienware X17 R2',\n",
       " '3.Acer Predator Triton 500 SE PT516-52s',\n",
       " '4.Omen By HP (16-B1371TX)',\n",
       " '5.Acer Predator Helios 300 AN515-45',\n",
       " '6.MSI Delta 15 (A5EFK-083IN)',\n",
       " '7.Omen By HP (16-C0141AX)',\n",
       " '8.Lenovo Legion 5i Pro (82RF00MGIN)',\n",
       " '9.Alienware M15 R5 Ryzen Edition Icc-C780001win',\n",
       " '10.Lenovo Slim 7 Gen 6 (82K8002JIN)']"
      ]
     },
     "execution_count": 567,
     "metadata": {},
     "output_type": "execute_result"
    }
   ],
   "source": [
    "for i in br:\n",
    "   \n",
    "    Brands.append(str(i.text).replace(\"\\n\",\"\"))\n",
    "if i.text is None :\n",
    "        Company.append(\"--\") \n",
    "Brands"
   ]
  },
  {
   "cell_type": "code",
   "execution_count": 555,
   "id": "a1470ada",
   "metadata": {},
   "outputs": [
    {
     "data": {
      "text/plain": [
       "10"
      ]
     },
     "execution_count": 555,
     "metadata": {},
     "output_type": "execute_result"
    }
   ],
   "source": [
    "# Fetching the specification\n",
    "\n",
    "sp=driver.find_elements(By.XPATH,\"//div[@class='Specs-Wrap']\")\n",
    "len(sp)"
   ]
  },
  {
   "cell_type": "code",
   "execution_count": 557,
   "id": "dc9a3ba6",
   "metadata": {},
   "outputs": [
    {
     "data": {
      "text/plain": [
       "['Windows 11 Home OS17.3\" (3840 x 2160) Display12th Gen Intel Core i9-12900HX | NA Processor2 TB SSD/64 GB DDR5 Memory',\n",
       " 'Windows 11 Home OS17.3\" (1920 x 1080) Display12th Gen Intel Core i9-12900H | 5 GHz Processor1 TB SSD/32 GB DDR5 Memory',\n",
       " 'Windows 11 OS16\" (2560 x 1600) Display12th Gen Intel Core i7-12700H | 3.5 GHz Processor2 TB SSD/32 GB DDR5 Memory',\n",
       " 'Windows 11 Home OS16.1\" (2560 x 1440) Display12th Gen Intel Core i7-12700H | 4.7 GHz Processor1 TB SSD/8 GB DDR5 Memory',\n",
       " 'Windows 11 Home OS15.6\" (2560 x 1440) DisplayAMD Ryzen 9-5900HX | NA Processor512 GB SSD/16 GB DDR4 Memory',\n",
       " 'Windows 11 Home OS15.6\" (1920 x 1080) DisplayAMD 5th Gen Ryzen 9-5900HX | 3.3GHz Processor1 TB SSD/16 GBGB DDR4 Memory',\n",
       " 'Windows 11 Home OS16.1\" (2560 x 1440) DisplayAMD Ryzen™ 9 5900HX | 3.3 GHz Processor1 TB NVMe/16 GB DDR4 Memory',\n",
       " 'Windows 11 Home OS16\" (2560 x 1600) Display12th Gen Intel Core i7-12700H | 2.3 GHz Processor1 TB SSD/16 GB DDR5 Memory',\n",
       " 'Windows 11 Home OS15.6\" (1920 x 1080) DisplayAMD Ryzen R7-5800H | 4.40 GHz Processor512 GB SSD/16 GB DDR4 Memory',\n",
       " 'Windows 11 Home OS15.6 MP | NA DisplayLenovo Ryzen 7-5800H | 3.2 GHz Processor1 TB SSD/16 GB DDR4 Memory']"
      ]
     },
     "execution_count": 557,
     "metadata": {},
     "output_type": "execute_result"
    }
   ],
   "source": [
    "for i in sp:\n",
    "   \n",
    "    Specification.append(str(i.text).replace(\"\\n\",\"\"))\n",
    "Specification"
   ]
  },
  {
   "cell_type": "code",
   "execution_count": 560,
   "id": "959d909e",
   "metadata": {},
   "outputs": [
    {
     "data": {
      "text/plain": [
       "10"
      ]
     },
     "execution_count": 560,
     "metadata": {},
     "output_type": "execute_result"
    }
   ],
   "source": [
    "# Fetching product description\n",
    "des=driver.find_elements(By.XPATH,\"//div[@class='Section-center']\")\n",
    "len(des)"
   ]
  },
  {
   "cell_type": "code",
   "execution_count": 561,
   "id": "2fa1eb26",
   "metadata": {},
   "outputs": [
    {
     "data": {
      "text/plain": [
       "['The very best MSI gaming laptop featuring an Intel processor is the MSI TITAN GT77 - 12UHS. This is the top of the line model from MSI’s recent refresh of their entire gaming lineup and is powered by the Intel Core i9-12900HX which is a 16 Core (8P+8E) processor that has 24 threads and a maximum Turbo power of 157 Watts. The graphics card in this laptop is the NVIDIA RTX 3080 Ti and it too sports a high TGP of 175 Watts. This is one of the most powerful CPU+GPU combinations with plenty of thermal headroom to allow it to operate at higher clock speeds for longer time periods. As for the memory, the MSI GT77-12UHS can have up to 128 GB of DDR5 memory but ships with 64 GB DDR5 clocked at 4800 MT/s. Being a 12th Gen machine also means that the motherboard has PCIe Gen 5.0 lanes for storage devices such as M.2 SSDs. The GT77-12UHS has four M.2 slots of which one slot is PCIe Gen 5 whereas the remaining three are PCIe Gen 4 slots. Then there’s also the display, the GT77-12UHS features a massive 17.3-inch IPS-level 4K panel with a 120 Hz refresh rate. So you can actually enjoy all the high frame-rate gameplay that the powerful hardware enables. And the cherry on the cake? A built-in mechanical keyboard with Cherry MX switches. All this hardware comes at a ridiculous price of INR 5,26,990. As of now, this is at the top among the best performing gaming laptops in the world. ...Read MoreMORE SPECIFICATIONSProcessor : 12th Gen Intel Core i9-12900HX 16 core processorDisplay : 17.3″ (3840 x 2160) screen, 120 Hz refresh rateOS : Windows 11 HomeMemory : 64 GB DDR5 RAM & 2 TB SSDGraphics Processor : 16 GB DDR6 NVIDIA GeForce RTX 3080 Ti Graphics cardBody : 397 x 330 x 23 mm dimension & 3.3 kg weight',\n",
       " 'Alienware, the premium gaming brand from Dell has its own reputation for building some of the meanest gaming machines for more than two decades. The best Alienware gaming laptop featuring an Intel processor is the Alienware x17 R2. This thing packs an Intel Core i9-12900HK which is a 14-Core (6P+8E) processor which has 20 Threads. The lower P-Core count helps it hit slightly higher clock speeds but the Max Turbo power is capped at 115W which is less than what the MSI GT77 sports. As for the graphics card, the Alienware x17 R2 also sports an NVIDIA RTX 3080 Ti with the peak TGP set to 175 Watts. The CPU+GPU combination of the Alienware x17 R2 comes close to the MSI GT77. As for the memory, the Alienware x17 R2 ships with 32 GB of DDR5 RAM clocked at 4800 MT/s. The display on the x17 R2 is a 17.3-inch FHD 360 Hz panel compared to the 120 Hz 4K panel on the MSI GT77. You’ll end up seeing higher frame rates on the Alienware x17 R2 without any tearing whereas you’ll see crisper visuals at high frame rates on the MSI GT77. Both make for great experiences. This configuration of the Dell Alienware x17 R2 goes for INR 3,89,990 making it a good gaming laptop to buy in 2022. ...Read MoreMORE SPECIFICATIONSProcessor : 12th Gen Intel Core i9-12900H 14 core processor with 5 GHz clock speedDisplay : 17.3″ (1920 x 1080) screen, 360 Hz refresh rateOS : Windows 11 HomeMemory : 32 GB DDR5 RAM & 1 TB SSDGraphics Processor : 16 GB DDR6 NVIDIA GEFORCE RTX 3080 Ti Graphics cardBody : 299 x 359 x 21 mm dimension & 2.96 kg weightPrice : ₹ 389,990',\n",
       " 'The Predator lineup from Acer has shown great promise for gamers ever since they showcased the Predator 21X a couple of years ago. Keeping its legacy intact and also being the best Acer gaming laptop featuring an Intel processor is the Acer Predator Triton 500 SE. This machine is powered by an Intel Core i7-12700H which is a 14-Core (6P+8E) processor with 20 Threads. And the graphics card in this machine is the NVIDIA RTX 3070 Ti. The TGP isn’t specified but the RTX 3070 Ti generally ships with a TGP of between 105 to 150 Watts. For the memory, it has 32 GB of LPDDR5 memory clocked at 4800 MT/s and the display is a 16-inch 2560x1600 IPS panel sporting a 240 Hz refresh rate. Acer makes some intelligent decisions with the hardware by picking a Core i7 processor and pairing it with a high-end RTX 3070 Ti. The power backup in this machine is a 4-Cell 99 Wh Li-ion battery which is the highest that you can get in a laptop legally for it to be carried on aeroplanes. And if we are to talk about the networking then the Acer Predator Triton 500 SE comes with Killer Wi-Fi 6E 1675s and Gigabit Ethernet. This laptop gives you great gaming performance that comes close to machines that cost twice as much. Speaking of price, the Acer Predator Triton 500 SE PT516-52s is priced at INR 2,29,999 in India. ...Read MoreMORE SPECIFICATIONSProcessor : 12th Gen Intel Core i7-12700H 14 core processor with 3.5 GHz clock speedDisplay : 16″ (2560 x 1600) screenOS : Windows 11Memory : 32 GB DDR5 RAM & 2 TB SSDGraphics Processor : 8 GB DDR6 NVIDIA GeForce RTX 3070 Ti Graphics cardBody : 262 x 359 x 20 mm dimension & 2.4 kg weightPrice : ₹ 229,990AVAILABLE ₹ 229,990BUY NOW',\n",
       " 'Omen by HP is a premium gaming lineup which is right up there with their Victus gaming laptops. The best HP gaming laptop with an Intel processor is the Omen by HP (16-B1371TX). Like the Acer Predator, this too is powered by the Intel Core i7-12700H which is a 14-Core (6P+8E) processor with 20 Threads. And the graphics card in this machine is the NVIDIA RTX 3070 Ti. Even the memory is a similar configuration with 32 GB of DDR5 RAM rated for 4800 MT/s. One of the great things about the Omen laptops is that the audio setup is powered by Bang&Olufsen for some really great-sounding audio. For the display, the Omen by HP (16-B1371TX) sports a 16.1-inch 165 Hz 2560x1440 IPS panel that is the best of both worlds, resolution and refresh rate. Moreover, it is also NVIDIA G-Sync certified. The keyboard on the HP Omen (16-B1371TX) features a 4-zone RGB backlighting that adds a bit of pizazz to the overall aesthetic. In a way, the HP Omen (16-B1371TX) checks all the boxes and it does so with a price tag of INR 1,82,999 in India. ...Read MoreMORE SPECIFICATIONSProcessor : 12th Gen Intel Core i7-12700H 14 core processor with 4.7 GHz clock speedDisplay : 16.1″ (2560 x 1440) screenOS : Windows 11 HomeMemory : 8 GB DDR5 RAM & 1 TB SSDGraphics Processor : 8 GB GDDR6 NVIDIA GeForce RTX 3070 Graphics cardBody : 369 x 248 x 23 mm dimension & 2.32 kg weightPrice : ₹ 176,490AVAILABLE ₹ 176,490BUY NOW',\n",
       " 'Acer Predator Helios 300 AN515-45 is the best Acer gaming laptop featuring an AMD processor. It is powered by the AMD Ryzen 9 5900HX which is an 8 Core processor that gives you 16 Threads. AMD’s Ryzen 5000 series processors have broken performance records and set new benchmarks and this is the best mobile processor of the entire series. Acer has paired this with the NVIDIA RTX 3070. Together, the two make for a great combination for gaming. On the memory front, there’s 16 GB of DDR4 RAM clocked at 3200 MT/s. The display on the Acer Predator Helios 300 is a 15.6-inch 2560x1440 IPS panel that is tuned for a refresh rate of 165 Hz. Acer also packs Killer E2600 Ethernet in the Predator Helios 300 for folks who’d like to tweak their network prioritisation settings. The TGP for the RTX 3070 has not been mentioned here but a high TGP RTX 3070 can even best a low TGP RTX 3070 Ti, so there might be a few surprises there. For all these features, the Acer Predator Helios 300 carries a price tag of INR 1,39,990 in India. ...Read MoreMORE SPECIFICATIONSProcessor : AMD Ryzen 9-5900HX 8 core processorDisplay : 15.6″ (2560 x 1440) screen, 165 Hz refresh rateOS : Windows 11 HomeMemory : 16 GB DDR4 RAM & 512 GB SSDGraphics Processor : 8 GB DDR6 NVIDIA GeForce RTX 3070 Graphics cardBody : 363 x 255 x 23.9 mm dimension & 2.4 kg weightPrice : ₹ 172,999Acer Predator Helios 300 AN515-45 AlternativesAcer Aspire 3₹ 20500Acer Swift 7₹ 110000Acer Aspire 5₹ 49790',\n",
       " \"The best MSI gaming laptop with an AMD processor is the MSI Delta 15 A5EFK-083IN. It features the top of the line AMD Ryzen 9 5900 HX which is a great 8-Core / 16-Thread processor for gaming and for the graphics card it has an AMD Radeon RX 6700M. The Radeon RX 6000 series graphics cards are well known for their power efficiency thanks to the efficient 7nm process on which the Radeon RX 6000 GPUs are built on. The RX 6700M, in particular, is a great high-end graphics card and can best even an RTX 3070 considering the TGP ranges of the GPUs. For the memory, the MSI Delta 15 comes with 16 GB of dual-channel DDR4 RAM clocked at 3200 MT/s. Coming to the display, the MSI Delta 15 sports a 15.6-inch FHD IPS-level 240 Hz panel that's geared to take advantage of AMD FreeSync. Even the backup is great with an 82 Wh 4-Cell Li-Ion battery. The keyboard on the Delta 15 is backlit and there's always the MSI Dragon Centre management software to help optimise the way you use the laptop. The MSI Delta 15 A5EFK-083IN retails for INR 1,14,990 in India. ...Read MoreMORE SPECIFICATIONSProcessor : AMD 5th Gen Ryzen 9-5900HX 8 core processor with 3.3GHz clock speedDisplay : 15.6″ (1920 x 1080) screen, 240Hz refresh rateOS : Windows 11 HomeMemory : 16 GB DDR4 RAM & 1 TB SSDGraphics Processor : 10 GB DDR6 AMD Radeon RX 6700M Graphics cardBody : 357 x 247 x 19 mm dimension & 1.9 kg weightPrice : ₹ 188,990MSI Delta 15 (A5EFK-083IN) AlternativesMSI GF63 Thin 9SC-240IN₹ 60990MSI GS63VR Stealth Pro₹ 683486MSI GT73VR 7RF Titan Pro 4K₹ 334990\",\n",
       " 'Another worthy gaming laptop from the Omen lineup from HP is the 16-c0141AX. In fact, it\\'s also the best HP gaming laptop with an AMD Processor. This unit also features the best AMD mobile processor which is the AMD Ryzen 9 5900 HX, an 8-Core / 16-Thread flagship CPU that can make mincemeat of all current AAA video games. And for the graphics, HP has included the AMD Radeon RX 6600M which is very power efficient like most GPUs in the RX 6000 series and often performs better than the NVIDIA RTX 3060. Aside from these there’s 16 GB of DDR4 RAM, and for the display, the Omen by HP (16-c0141AX) has a 16.1-inch 2560x1440 IPS panel and it even has a high refresh rate of 165 Hz. HP introduced the OMEN Tempest Cooling technology for their laptops to improve their cooling. Like other Omen laptops, this model also has an audio solution powered by Bang&Olufsen which is a well-known premium audio brand. The Omen by HP (16-c0141AX) retails for INR 1,34,999 in India. ...Read MoreMORE SPECIFICATIONSProcessor : AMD Ryzen™ 9 5900HX 8 core processor with 3.3 GHz clock speedDisplay : 16.1″ (2560 x 1440) screenOS : Windows 11 HomeMemory : 16 GB DDR4 RAM & 1 TB NVMeGraphics Processor : 8 GB GDDR6 AMD Radeon™ RX 6600M Graphics cardBody : 36.92 x 24.8 x 2.3 mm dimension & 2.3 kg weightPrice : ₹ 124,990AVAILABLE ₹ 124,990BUY NOWOFFERSplit your bill in 3 for free with No Cost EMI. Offer available on products priced ₹5000 & more. Select \"Tata Pay\" on the payment page to avail the offer. T&C apply +4 More Offer(s)See more offer detailssee more prices',\n",
       " 'Lenovo has gone a little mainstream with their gaming laptops and the best Lenovo gaming laptop featuring an Intel processor happens to be the Lenovo Legion 5i Pro (82RF00MGIN). It features the powerful Intel Core i7-12700H which is a 14-Core (6P+8E) processor with 20 Threads. There’s 16 GB of DDR5 RAM rated for 4800 MT/s and the graphics card is the NVIDIA RTX 3060. There’s no mention of the TGP of the card on the official spec sheets. Lenovo offers a 16-inch 2560x1600 IPS panel on the Lenovo Legion 5i Pro and it also has a refresh rate of 165 Hz. While most of the specs might seem a little tame compared to the top laptop on this page, the battery is where Lenovo doesn’t hold back any punches. This machine features an 80 Wh 4-Cell battery which is pretty high among gaming laptops. Then there’s the audio setup which is enhanced by Nahimic’s AI-based audio solution for different sound profiles and some of the features can improve your gaming experience. The Lenovo Legion 5i Pro (82RF00MGIN) is priced at INR 1,64,990 in India. ...Read MoreMORE SPECIFICATIONSProcessor : 12th Gen Intel Core i7-12700H 14 core processor with 2.3 GHz clock speedDisplay : 16″ (2560 x 1600) screen, 165 Hz refresh rateOS : Windows 11 HomeMemory : 16 GB DDR5 RAM & 1 TB SSDGraphics Processor : 6 GB DDR6 NVIDIA GeForce RTX 3060 Graphics cardBody : 360 x 264 x 20 mm dimension & 2.49 kg weightPrice : ₹ 167,990AVAILABLE ₹ 167,990BUY NOW',\n",
       " 'Dell not only has gaming laptops under the Dell Gaming brand but also under the Alienware brand. Together, both of them make up for a diverse set of configurations featuring the best hardware that money can buy. If you’re looking for the best Alienware gaming laptop with an AMD processor then the aptly named Alienware m15 R5 Ryzen Edition should be first on your list. This machine features the AMD Ryzen 7 5800H which is an 8-Core / 16-Thread CPU and for the graphics bit, it has an NVIDIA RTX 3060. Being an Alienware machine, you can safely assume that the TGP on the RTX 3060 will be scaled to its maximum allowed limits. As for the networking bit, the Alienware m15 R5 Ryzen Edition comes with Killer Wireless Wi-Fi 6E (1650) which is a top-tier Wi-Fi card that allows you to prioritise networking traffic so that your online gaming experience remains unhampered. As for the display, the Alienware m15 R5 Ryzen Edition comes with a 15.6-inch FHD panel tweaked for a refresh rate of 165 Hz. The Alienware m15 R5 Ryzen Edition retails for INR 1,44,989 in India. ...Read MoreMORE SPECIFICATIONSProcessor : AMD Ryzen R7-5800H 8 core processor with 4.40 GHz clock speedDisplay : 15.6″ (1920 x 1080) screen, 165Hz refresh rateOS : Windows 11 HomeMemory : 16 GB DDR4 RAM & 512 GB SSDGraphics Processor : 6 GB DDR6 NVIDIA GeForce RTX 3060 Graphics cardBody : 356.2 x 272.5 x 22.85 mm dimension & 2.69 kg weightPrice : ₹ 174,000AVAILABLE ₹ 174,000BUY NOW',\n",
       " 'Lenovo has been pushing for thinner gaming laptops and the fruits of their labour can be clearly seen in the Lenovo Slim 7 Gen 6 gaming laptop. It is the best Lenovo gaming laptop featuring AMD hardware. For the processor it has an AMD Ryzen 7 5800H which is an 8-Core / 16-Thread CPU similar to the Ryzen 9 5900HX but with a lower TDP cap and slightly lower clock speeds. Nevertheless, for gaming, it’s a great processor. The Ryzen 7 5800H is clubbed with the NVIDIA RTX 3060 and there’s even 16 GB of DDR4 RAM clocked at 3200 MT/s. Like the other Lenovo machine in this list, even the Lenovo Slim 7 Gen 6 comes with a 15.6-inch 2560x1440 IPS panel sporting a 165 Hz refresh rate. And it is also certified to work with NVIDIA G-Sync technology. The thin chassis of the Lenovo Slim 7 Gen 6 is made with a combination of aluminium and magnesium for a solid finish and the chassis also doubles up as a passive heat sink. For the power backup, the Lenovo Slim 7 Gen 6 features a 71 Wh 4-Cell Lithium Ion battery. Gamers can find the Lenovo Slim 7 Gen 6 retailing for INR 1,44,990 in India. ...Read MoreMORE SPECIFICATIONSProcessor : Lenovo Ryzen 7-5800H processor with 3.2 GHz clock speedDisplay : 15.6″ screen, 165 Hz refresh rateOS : Windows 11 HomeMemory : 16 GB DDR4 RAM & 1 TB SSDGraphics Processor : 6 GB DDR6 NVIDIA GeForce 3060 Max-Q Graphics cardBody : 356 x 252 x 16 mm dimension & 1.9 kg weightPrice : ₹ 131,990AVAILABLE ₹ 131,990BUY NOWOFFERSplit your bill in 3 for free with No Cost EMI. Offer available on products priced ₹5000 & more. Select \"Tata Pay\" on the payment page to avail the offer. T&C apply +4 More Offer(s)see more prices']"
      ]
     },
     "execution_count": 561,
     "metadata": {},
     "output_type": "execute_result"
    }
   ],
   "source": [
    "for i in des:\n",
    "   \n",
    "    Products_Description.append(str(i.text).replace(\"\\n\",\"\"))\n",
    "Products_Description"
   ]
  },
  {
   "cell_type": "code",
   "execution_count": 562,
   "id": "3d10456f",
   "metadata": {},
   "outputs": [
    {
     "data": {
      "text/plain": [
       "10"
      ]
     },
     "execution_count": 562,
     "metadata": {},
     "output_type": "execute_result"
    }
   ],
   "source": [
    "# Fetching price information\n",
    "pri=driver.find_elements(By.XPATH,\"//td[@class='smprice']\")\n",
    "len(pri)"
   ]
  },
  {
   "cell_type": "code",
   "execution_count": 563,
   "id": "ee0fce98",
   "metadata": {},
   "outputs": [
    {
     "data": {
      "text/plain": [
       "['N/A',\n",
       " '₹ 389,990',\n",
       " '₹ 229,990',\n",
       " '₹ 176,490',\n",
       " '₹ 172,999',\n",
       " '₹ 188,990',\n",
       " '₹ 124,990',\n",
       " '₹ 167,990',\n",
       " '₹ 174,000',\n",
       " '₹ 131,990']"
      ]
     },
     "execution_count": 563,
     "metadata": {},
     "output_type": "execute_result"
    }
   ],
   "source": [
    "for i in pri:\n",
    "   \n",
    "    Price.append(str(i.text).replace(\"\\n\",\"\"))\n",
    "Price"
   ]
  },
  {
   "cell_type": "code",
   "execution_count": 568,
   "id": "308d3300",
   "metadata": {},
   "outputs": [
    {
     "data": {
      "text/html": [
       "<div>\n",
       "<style scoped>\n",
       "    .dataframe tbody tr th:only-of-type {\n",
       "        vertical-align: middle;\n",
       "    }\n",
       "\n",
       "    .dataframe tbody tr th {\n",
       "        vertical-align: top;\n",
       "    }\n",
       "\n",
       "    .dataframe thead th {\n",
       "        text-align: right;\n",
       "    }\n",
       "</style>\n",
       "<table border=\"1\" class=\"dataframe\">\n",
       "  <thead>\n",
       "    <tr style=\"text-align: right;\">\n",
       "      <th></th>\n",
       "      <th>Brands</th>\n",
       "      <th>Price</th>\n",
       "      <th>Specification</th>\n",
       "      <th>Description</th>\n",
       "    </tr>\n",
       "  </thead>\n",
       "  <tbody>\n",
       "    <tr>\n",
       "      <th>0</th>\n",
       "      <td>1.MSI Titan GT77-12UHS</td>\n",
       "      <td>N/A</td>\n",
       "      <td>Windows 11 Home OS17.3\" (3840 x 2160) Display1...</td>\n",
       "      <td>The very best MSI gaming laptop featuring an I...</td>\n",
       "    </tr>\n",
       "    <tr>\n",
       "      <th>1</th>\n",
       "      <td>2.Alienware X17 R2</td>\n",
       "      <td>₹ 389,990</td>\n",
       "      <td>Windows 11 Home OS17.3\" (1920 x 1080) Display1...</td>\n",
       "      <td>Alienware, the premium gaming brand from Dell ...</td>\n",
       "    </tr>\n",
       "    <tr>\n",
       "      <th>2</th>\n",
       "      <td>3.Acer Predator Triton 500 SE PT516-52s</td>\n",
       "      <td>₹ 229,990</td>\n",
       "      <td>Windows 11 OS16\" (2560 x 1600) Display12th Gen...</td>\n",
       "      <td>The Predator lineup from Acer has shown great ...</td>\n",
       "    </tr>\n",
       "    <tr>\n",
       "      <th>3</th>\n",
       "      <td>4.Omen By HP (16-B1371TX)</td>\n",
       "      <td>₹ 176,490</td>\n",
       "      <td>Windows 11 Home OS16.1\" (2560 x 1440) Display1...</td>\n",
       "      <td>Omen by HP is a premium gaming lineup which is...</td>\n",
       "    </tr>\n",
       "    <tr>\n",
       "      <th>4</th>\n",
       "      <td>5.Acer Predator Helios 300 AN515-45</td>\n",
       "      <td>₹ 172,999</td>\n",
       "      <td>Windows 11 Home OS15.6\" (2560 x 1440) DisplayA...</td>\n",
       "      <td>Acer Predator Helios 300 AN515-45 is the best ...</td>\n",
       "    </tr>\n",
       "    <tr>\n",
       "      <th>5</th>\n",
       "      <td>6.MSI Delta 15 (A5EFK-083IN)</td>\n",
       "      <td>₹ 188,990</td>\n",
       "      <td>Windows 11 Home OS15.6\" (1920 x 1080) DisplayA...</td>\n",
       "      <td>The best MSI gaming laptop with an AMD process...</td>\n",
       "    </tr>\n",
       "    <tr>\n",
       "      <th>6</th>\n",
       "      <td>7.Omen By HP (16-C0141AX)</td>\n",
       "      <td>₹ 124,990</td>\n",
       "      <td>Windows 11 Home OS16.1\" (2560 x 1440) DisplayA...</td>\n",
       "      <td>Another worthy gaming laptop from the Omen lin...</td>\n",
       "    </tr>\n",
       "    <tr>\n",
       "      <th>7</th>\n",
       "      <td>8.Lenovo Legion 5i Pro (82RF00MGIN)</td>\n",
       "      <td>₹ 167,990</td>\n",
       "      <td>Windows 11 Home OS16\" (2560 x 1600) Display12t...</td>\n",
       "      <td>Lenovo has gone a little mainstream with their...</td>\n",
       "    </tr>\n",
       "    <tr>\n",
       "      <th>8</th>\n",
       "      <td>9.Alienware M15 R5 Ryzen Edition Icc-C780001win</td>\n",
       "      <td>₹ 174,000</td>\n",
       "      <td>Windows 11 Home OS15.6\" (1920 x 1080) DisplayA...</td>\n",
       "      <td>Dell not only has gaming laptops under the Del...</td>\n",
       "    </tr>\n",
       "    <tr>\n",
       "      <th>9</th>\n",
       "      <td>10.Lenovo Slim 7 Gen 6 (82K8002JIN)</td>\n",
       "      <td>₹ 131,990</td>\n",
       "      <td>Windows 11 Home OS15.6 MP | NA DisplayLenovo R...</td>\n",
       "      <td>Lenovo has been pushing for thinner gaming lap...</td>\n",
       "    </tr>\n",
       "  </tbody>\n",
       "</table>\n",
       "</div>"
      ],
      "text/plain": [
       "                                            Brands      Price  \\\n",
       "0                           1.MSI Titan GT77-12UHS        N/A   \n",
       "1                               2.Alienware X17 R2  ₹ 389,990   \n",
       "2          3.Acer Predator Triton 500 SE PT516-52s  ₹ 229,990   \n",
       "3                        4.Omen By HP (16-B1371TX)  ₹ 176,490   \n",
       "4              5.Acer Predator Helios 300 AN515-45  ₹ 172,999   \n",
       "5                     6.MSI Delta 15 (A5EFK-083IN)  ₹ 188,990   \n",
       "6                        7.Omen By HP (16-C0141AX)  ₹ 124,990   \n",
       "7              8.Lenovo Legion 5i Pro (82RF00MGIN)  ₹ 167,990   \n",
       "8  9.Alienware M15 R5 Ryzen Edition Icc-C780001win  ₹ 174,000   \n",
       "9              10.Lenovo Slim 7 Gen 6 (82K8002JIN)  ₹ 131,990   \n",
       "\n",
       "                                       Specification  \\\n",
       "0  Windows 11 Home OS17.3\" (3840 x 2160) Display1...   \n",
       "1  Windows 11 Home OS17.3\" (1920 x 1080) Display1...   \n",
       "2  Windows 11 OS16\" (2560 x 1600) Display12th Gen...   \n",
       "3  Windows 11 Home OS16.1\" (2560 x 1440) Display1...   \n",
       "4  Windows 11 Home OS15.6\" (2560 x 1440) DisplayA...   \n",
       "5  Windows 11 Home OS15.6\" (1920 x 1080) DisplayA...   \n",
       "6  Windows 11 Home OS16.1\" (2560 x 1440) DisplayA...   \n",
       "7  Windows 11 Home OS16\" (2560 x 1600) Display12t...   \n",
       "8  Windows 11 Home OS15.6\" (1920 x 1080) DisplayA...   \n",
       "9  Windows 11 Home OS15.6 MP | NA DisplayLenovo R...   \n",
       "\n",
       "                                         Description  \n",
       "0  The very best MSI gaming laptop featuring an I...  \n",
       "1  Alienware, the premium gaming brand from Dell ...  \n",
       "2  The Predator lineup from Acer has shown great ...  \n",
       "3  Omen by HP is a premium gaming lineup which is...  \n",
       "4  Acer Predator Helios 300 AN515-45 is the best ...  \n",
       "5  The best MSI gaming laptop with an AMD process...  \n",
       "6  Another worthy gaming laptop from the Omen lin...  \n",
       "7  Lenovo has gone a little mainstream with their...  \n",
       "8  Dell not only has gaming laptops under the Del...  \n",
       "9  Lenovo has been pushing for thinner gaming lap...  "
      ]
     },
     "execution_count": 568,
     "metadata": {},
     "output_type": "execute_result"
    }
   ],
   "source": [
    "digit_lap=pd.DataFrame([])\n",
    "digit_lap['Brands']=Brands[0:10]\n",
    "digit_lap['Price']=Price[0:10]\n",
    "digit_lap['Specification']=Specification[0:10]\n",
    "digit_lap['Description']=Products_Description[0:10]\n",
    "digit_lap"
   ]
  },
  {
   "cell_type": "markdown",
   "id": "d01e7270",
   "metadata": {},
   "source": [
    "# 8) Write a python program to scrape the details for all billionaires from www.forbes.com. Details to be scrapped: “Rank”, “Name”, “Net worth”, “Age”, “Citizenship”, “Source”, “Industry”."
   ]
  },
  {
   "cell_type": "code",
   "execution_count": 682,
   "id": "5018c5d9",
   "metadata": {},
   "outputs": [],
   "source": [
    "driver.get(\"http://www.forbes.com/\")"
   ]
  },
  {
   "cell_type": "code",
   "execution_count": 683,
   "id": "cf19b0cd",
   "metadata": {},
   "outputs": [],
   "source": [
    "search_button=driver.find_element(By.XPATH,\"/html/body/div[1]/header/nav/div[1]/div/div/div\")\n",
    "search_button.click()"
   ]
  },
  {
   "cell_type": "code",
   "execution_count": 685,
   "id": "cc558b9e",
   "metadata": {},
   "outputs": [],
   "source": [
    "search_button=driver.find_element(By.XPATH,\"/html/body/div[1]/header/nav/div[1]/div/div/div[2]/ul/li[1]/div[2]/div[3]/ul/li[1]/a\")\n",
    "search_button.click()"
   ]
  },
  {
   "cell_type": "code",
   "execution_count": 686,
   "id": "781b3065",
   "metadata": {},
   "outputs": [
    {
     "data": {
      "text/plain": [
       "[<selenium.webdriver.remote.webelement.WebElement (session=\"db5d449c842aae7bd72084c20553f361\", element=\"f54e145b-c5e3-434b-8f9c-fff9cefc511e\")>,\n",
       " <selenium.webdriver.remote.webelement.WebElement (session=\"db5d449c842aae7bd72084c20553f361\", element=\"0f5de3af-d564-4cd9-8efc-a0aa9c4cf0e8\")>]"
      ]
     },
     "execution_count": 686,
     "metadata": {},
     "output_type": "execute_result"
    }
   ],
   "source": [
    "# Fetching the Names\n",
    "\n",
    "bill=driver.find_elements(By.XPATH,\"//div[@class='personName']\")\n",
    "bill[0:2]"
   ]
  },
  {
   "cell_type": "code",
   "execution_count": 688,
   "id": "88240c3c",
   "metadata": {},
   "outputs": [
    {
     "data": {
      "text/plain": [
       "['Elon Musk', 'Jeff Bezos']"
      ]
     },
     "execution_count": 688,
     "metadata": {},
     "output_type": "execute_result"
    }
   ],
   "source": [
    "names=[]\n",
    "for i in bill:\n",
    "    title1=i.text\n",
    "    names.append(title1)\n",
    "names[0:2]"
   ]
  },
  {
   "cell_type": "code",
   "execution_count": 689,
   "id": "f5865c31",
   "metadata": {},
   "outputs": [
    {
     "data": {
      "text/plain": [
       "[<selenium.webdriver.remote.webelement.WebElement (session=\"db5d449c842aae7bd72084c20553f361\", element=\"7057fe70-ba0f-4de6-97b1-2727d18dbae0\")>,\n",
       " <selenium.webdriver.remote.webelement.WebElement (session=\"db5d449c842aae7bd72084c20553f361\", element=\"5dc55e39-d454-48d2-9290-e19714f3fc19\")>]"
      ]
     },
     "execution_count": 689,
     "metadata": {},
     "output_type": "execute_result"
    }
   ],
   "source": [
    "# Fetching the networth\n",
    "worth=driver.find_elements(By.XPATH,\"//div[@class='netWorth']\")\n",
    "worth[0:2]"
   ]
  },
  {
   "cell_type": "code",
   "execution_count": 690,
   "id": "1d7f7ae3",
   "metadata": {},
   "outputs": [
    {
     "data": {
      "text/plain": [
       "['$219 B', '$171 B']"
      ]
     },
     "execution_count": 690,
     "metadata": {},
     "output_type": "execute_result"
    }
   ],
   "source": [
    "networth=[]\n",
    "for i in worth:\n",
    "    title1=i.text\n",
    "    networth.append(title1)\n",
    "networth[0:2]"
   ]
  },
  {
   "cell_type": "code",
   "execution_count": 691,
   "id": "1c931cbe",
   "metadata": {},
   "outputs": [
    {
     "data": {
      "text/plain": [
       "[<selenium.webdriver.remote.webelement.WebElement (session=\"db5d449c842aae7bd72084c20553f361\", element=\"3b1b308d-34ad-4b6c-af8e-6eba54186614\")>,\n",
       " <selenium.webdriver.remote.webelement.WebElement (session=\"db5d449c842aae7bd72084c20553f361\", element=\"21a4402a-5c25-444a-bc39-161f38c6d6eb\")>]"
      ]
     },
     "execution_count": 691,
     "metadata": {},
     "output_type": "execute_result"
    }
   ],
   "source": [
    "# Fetching the country\n",
    "\n",
    "coun=driver.find_elements(By.XPATH,\"//div[@class='countryOfCitizenship']\")\n",
    "coun[0:2]"
   ]
  },
  {
   "cell_type": "code",
   "execution_count": 692,
   "id": "082b8408",
   "metadata": {},
   "outputs": [
    {
     "data": {
      "text/plain": [
       "['United States', 'United States']"
      ]
     },
     "execution_count": 692,
     "metadata": {},
     "output_type": "execute_result"
    }
   ],
   "source": [
    "country=[]\n",
    "for i in coun:\n",
    "    title1=i.text\n",
    "    country.append(title1)\n",
    "country[0:2]"
   ]
  },
  {
   "cell_type": "code",
   "execution_count": 693,
   "id": "3016fc39",
   "metadata": {},
   "outputs": [
    {
     "data": {
      "text/plain": [
       "[<selenium.webdriver.remote.webelement.WebElement (session=\"db5d449c842aae7bd72084c20553f361\", element=\"92f8aca1-e9d8-4710-9baf-429c8f08ad96\")>,\n",
       " <selenium.webdriver.remote.webelement.WebElement (session=\"db5d449c842aae7bd72084c20553f361\", element=\"eefe1c52-068e-408f-9ae4-0e97c7d56ca9\")>]"
      ]
     },
     "execution_count": 693,
     "metadata": {},
     "output_type": "execute_result"
    }
   ],
   "source": [
    "# Fetching the source\n",
    "\n",
    "sour=driver.find_elements(By.XPATH,\"//div[@class='source']\")\n",
    "sour[0:2]"
   ]
  },
  {
   "cell_type": "code",
   "execution_count": 694,
   "id": "a47bee02",
   "metadata": {},
   "outputs": [
    {
     "data": {
      "text/plain": [
       "['Tesla, SpaceX', 'Amazon']"
      ]
     },
     "execution_count": 694,
     "metadata": {},
     "output_type": "execute_result"
    }
   ],
   "source": [
    "source=[]\n",
    "for i in sour:\n",
    "    title1=i.text\n",
    "    source.append(title1)\n",
    "source[0:2]"
   ]
  },
  {
   "cell_type": "code",
   "execution_count": 695,
   "id": "a21eb9b5",
   "metadata": {},
   "outputs": [
    {
     "data": {
      "text/plain": [
       "[<selenium.webdriver.remote.webelement.WebElement (session=\"db5d449c842aae7bd72084c20553f361\", element=\"480a3b45-6553-42b7-9335-bd6d5196fc20\")>,\n",
       " <selenium.webdriver.remote.webelement.WebElement (session=\"db5d449c842aae7bd72084c20553f361\", element=\"b36e419d-cf88-457d-b6d6-9be3523055a5\")>]"
      ]
     },
     "execution_count": 695,
     "metadata": {},
     "output_type": "execute_result"
    }
   ],
   "source": [
    "# Fetching the Industry\n",
    "\n",
    "ind=driver.find_elements(By.XPATH,\"//div[@class='category']\")\n",
    "ind[0:2]"
   ]
  },
  {
   "cell_type": "code",
   "execution_count": 696,
   "id": "8d418b0d",
   "metadata": {},
   "outputs": [
    {
     "data": {
      "text/plain": [
       "['Automotive',\n",
       " 'Technology',\n",
       " 'Fashion & Retail',\n",
       " 'Technology',\n",
       " 'Finance & Investments']"
      ]
     },
     "execution_count": 696,
     "metadata": {},
     "output_type": "execute_result"
    }
   ],
   "source": [
    "industry=[]\n",
    "for i in ind:\n",
    "    title1=i.text\n",
    "    industry.append(title1)\n",
    "industry[0:5]"
   ]
  },
  {
   "cell_type": "code",
   "execution_count": 697,
   "id": "5d37cd52",
   "metadata": {},
   "outputs": [
    {
     "data": {
      "text/plain": [
       "(200, 200, 200, 200, 200)"
      ]
     },
     "execution_count": 697,
     "metadata": {},
     "output_type": "execute_result"
    }
   ],
   "source": [
    "len(names),len(networth),len(country),len(source),len(industry)"
   ]
  },
  {
   "cell_type": "code",
   "execution_count": 698,
   "id": "61de8b78",
   "metadata": {},
   "outputs": [
    {
     "data": {
      "text/html": [
       "<div>\n",
       "<style scoped>\n",
       "    .dataframe tbody tr th:only-of-type {\n",
       "        vertical-align: middle;\n",
       "    }\n",
       "\n",
       "    .dataframe tbody tr th {\n",
       "        vertical-align: top;\n",
       "    }\n",
       "\n",
       "    .dataframe thead th {\n",
       "        text-align: right;\n",
       "    }\n",
       "</style>\n",
       "<table border=\"1\" class=\"dataframe\">\n",
       "  <thead>\n",
       "    <tr style=\"text-align: right;\">\n",
       "      <th></th>\n",
       "      <th>name</th>\n",
       "      <th>networth</th>\n",
       "      <th>country</th>\n",
       "      <th>source</th>\n",
       "      <th>industry</th>\n",
       "    </tr>\n",
       "  </thead>\n",
       "  <tbody>\n",
       "    <tr>\n",
       "      <th>0</th>\n",
       "      <td>Elon Musk</td>\n",
       "      <td>$219 B</td>\n",
       "      <td>United States</td>\n",
       "      <td>Tesla, SpaceX</td>\n",
       "      <td>Automotive</td>\n",
       "    </tr>\n",
       "    <tr>\n",
       "      <th>1</th>\n",
       "      <td>Jeff Bezos</td>\n",
       "      <td>$171 B</td>\n",
       "      <td>United States</td>\n",
       "      <td>Amazon</td>\n",
       "      <td>Technology</td>\n",
       "    </tr>\n",
       "    <tr>\n",
       "      <th>2</th>\n",
       "      <td>Bernard Arnault &amp; family</td>\n",
       "      <td>$158 B</td>\n",
       "      <td>France</td>\n",
       "      <td>LVMH</td>\n",
       "      <td>Fashion &amp; Retail</td>\n",
       "    </tr>\n",
       "    <tr>\n",
       "      <th>3</th>\n",
       "      <td>Bill Gates</td>\n",
       "      <td>$129 B</td>\n",
       "      <td>United States</td>\n",
       "      <td>Microsoft</td>\n",
       "      <td>Technology</td>\n",
       "    </tr>\n",
       "    <tr>\n",
       "      <th>4</th>\n",
       "      <td>Warren Buffett</td>\n",
       "      <td>$118 B</td>\n",
       "      <td>United States</td>\n",
       "      <td>Berkshire Hathaway</td>\n",
       "      <td>Finance &amp; Investments</td>\n",
       "    </tr>\n",
       "    <tr>\n",
       "      <th>...</th>\n",
       "      <td>...</td>\n",
       "      <td>...</td>\n",
       "      <td>...</td>\n",
       "      <td>...</td>\n",
       "      <td>...</td>\n",
       "    </tr>\n",
       "    <tr>\n",
       "      <th>195</th>\n",
       "      <td>Marcel Herrmann Telles</td>\n",
       "      <td>$10.3 B</td>\n",
       "      <td>Brazil</td>\n",
       "      <td>beer</td>\n",
       "      <td>Food &amp; Beverage</td>\n",
       "    </tr>\n",
       "    <tr>\n",
       "      <th>196</th>\n",
       "      <td>Leon Black</td>\n",
       "      <td>$10 B</td>\n",
       "      <td>United States</td>\n",
       "      <td>private equity</td>\n",
       "      <td>Finance &amp; Investments</td>\n",
       "    </tr>\n",
       "    <tr>\n",
       "      <th>197</th>\n",
       "      <td>Joe Gebbia</td>\n",
       "      <td>$10 B</td>\n",
       "      <td>United States</td>\n",
       "      <td>Airbnb</td>\n",
       "      <td>Technology</td>\n",
       "    </tr>\n",
       "    <tr>\n",
       "      <th>198</th>\n",
       "      <td>David Geffen</td>\n",
       "      <td>$10 B</td>\n",
       "      <td>United States</td>\n",
       "      <td>movies, record labels</td>\n",
       "      <td>Media &amp; Entertainment</td>\n",
       "    </tr>\n",
       "    <tr>\n",
       "      <th>199</th>\n",
       "      <td>Yu Renrong</td>\n",
       "      <td>$10 B</td>\n",
       "      <td>China</td>\n",
       "      <td>semiconductors</td>\n",
       "      <td>Manufacturing</td>\n",
       "    </tr>\n",
       "  </tbody>\n",
       "</table>\n",
       "<p>200 rows × 5 columns</p>\n",
       "</div>"
      ],
      "text/plain": [
       "                         name networth        country                 source  \\\n",
       "0                   Elon Musk   $219 B  United States          Tesla, SpaceX   \n",
       "1                  Jeff Bezos   $171 B  United States                 Amazon   \n",
       "2    Bernard Arnault & family   $158 B         France                   LVMH   \n",
       "3                  Bill Gates   $129 B  United States              Microsoft   \n",
       "4              Warren Buffett   $118 B  United States     Berkshire Hathaway   \n",
       "..                        ...      ...            ...                    ...   \n",
       "195    Marcel Herrmann Telles  $10.3 B         Brazil                   beer   \n",
       "196                Leon Black    $10 B  United States         private equity   \n",
       "197                Joe Gebbia    $10 B  United States                 Airbnb   \n",
       "198              David Geffen    $10 B  United States  movies, record labels   \n",
       "199                Yu Renrong    $10 B          China         semiconductors   \n",
       "\n",
       "                  industry  \n",
       "0               Automotive  \n",
       "1               Technology  \n",
       "2         Fashion & Retail  \n",
       "3               Technology  \n",
       "4    Finance & Investments  \n",
       "..                     ...  \n",
       "195        Food & Beverage  \n",
       "196  Finance & Investments  \n",
       "197             Technology  \n",
       "198  Media & Entertainment  \n",
       "199          Manufacturing  \n",
       "\n",
       "[200 rows x 5 columns]"
      ]
     },
     "execution_count": 698,
     "metadata": {},
     "output_type": "execute_result"
    }
   ],
   "source": [
    "# Creating a Data Frame\n",
    "\n",
    "billonaire_details = pd.DataFrame({})\n",
    "billonaire_details[\"name\"] = names\n",
    "billonaire_details[\"networth\"]=networth\n",
    "billonaire_details[\"country\"] = country\n",
    "billonaire_details[\"source\"]=source\n",
    "billonaire_details[\"industry\"] = industry\n",
    "billonaire_details"
   ]
  },
  {
   "cell_type": "markdown",
   "id": "d177685d",
   "metadata": {},
   "source": [
    "# 9)  Write a program to extract at least 500 Comments, Comment upvote and time when comment was posted from any YouTube Video."
   ]
  },
  {
   "cell_type": "code",
   "execution_count": 1261,
   "id": "99bb0279",
   "metadata": {},
   "outputs": [],
   "source": [
    "# Importing the libraries\n",
    "\n",
    "import selenium\n",
    "import pandas as pd\n",
    "from selenium import webdriver\n",
    "import warnings\n",
    "warnings.filterwarnings('ignore')\n",
    "from selenium.common.exceptions import StaleElementReferenceException,NoSuchElementException\n",
    "from selenium.webdriver.common.by import By\n",
    "import time"
   ]
  },
  {
   "cell_type": "code",
   "execution_count": 1262,
   "id": "795bce0e",
   "metadata": {},
   "outputs": [],
   "source": [
    "# Let's first connect\n",
    "\n",
    "driver=webdriver.Chrome(r\"/Users/asiya/Desktop/chromedriver\\ 4\\\\chromedriver.exe\")"
   ]
  },
  {
   "cell_type": "code",
   "execution_count": 1263,
   "id": "73ea9bf5",
   "metadata": {},
   "outputs": [],
   "source": [
    "# opening the url\n",
    "driver.get('https://www.youtube.com/')\n",
    "\n"
   ]
  },
  {
   "cell_type": "code",
   "execution_count": 1264,
   "id": "e9527e91",
   "metadata": {},
   "outputs": [],
   "source": [
    "# Clicking on any Random Video\n",
    "driver.find_element(By.XPATH,'/html/body/ytd-app/div/ytd-page-manager/ytd-browse/ytd-two-column-browse-results-renderer/div[1]/ytd-rich-grid-renderer/div[6]/ytd-rich-grid-row[2]/div/ytd-rich-item-renderer[2]/div/ytd-rich-grid-media/div[1]/div[2]').click()"
   ]
  },
  {
   "cell_type": "code",
   "execution_count": 1265,
   "id": "4f2ec5a8",
   "metadata": {},
   "outputs": [],
   "source": [
    "# Pausing the video\n",
    "driver.find_element(By.XPATH,'/html/body/ytd-app/div/ytd-page-manager/ytd-watch-flexy/div[5]/div[1]/div/div[1]').click()\n",
    "\n",
    "\n",
    "  "
   ]
  },
  {
   "cell_type": "code",
   "execution_count": 1266,
   "id": "30ca4200",
   "metadata": {},
   "outputs": [],
   "source": [
    "# 1000 time we scroll down by 10000 in order to generate more Comment\n",
    "\n",
    "for _ in range(100):\n",
    "\n",
    "    driver.execute_script(\"window.scrollBy(0,10000)\")\n",
    "\n",
    "    time.sleep(5)"
   ]
  },
  {
   "cell_type": "code",
   "execution_count": 1267,
   "id": "63286346",
   "metadata": {},
   "outputs": [],
   "source": [
    "# Scrapping required details:\n",
    "\n",
    "#Creating Empty Lists\n",
    "Comment = []\n",
    "Upvote = []\n",
    "Time = []\n",
    "\n",
    "# Scraping Comments \n",
    "C = driver.find_elements(By.ID,\"content-text\")\n",
    "for i in C:\n",
    "    Comment.append(i.text)\n",
    "    \n",
    "#Scrapping Upvotes\n",
    "try:\n",
    "    U = driver.find_elements(By.XPATH,'//span[@id=\"vote-count-middle\"]')\n",
    "    for i in U:\n",
    "        Upvote.append(i.text)\n",
    "except NoSuchElementException:\n",
    "    Upvote.append(\"-\")\n",
    "\n",
    "#Scrapping when comment was posted \n",
    "try:\n",
    "    T = driver.find_elements(By.XPATH,\"//a[contains(text(),'ago')]\")\n",
    "\n",
    "    for i in T:\n",
    "        Time.append(i.text)\n",
    "except NoSuchElementException:\n",
    "    Time.append(\"-\")"
   ]
  },
  {
   "cell_type": "code",
   "execution_count": 1268,
   "id": "a8835a47",
   "metadata": {},
   "outputs": [
    {
     "name": "stdout",
     "output_type": "stream",
     "text": [
      "1298 1298 1298\n"
     ]
    }
   ],
   "source": [
    "print(len(Comment),len(Upvote),len(Time))"
   ]
  },
  {
   "cell_type": "code",
   "execution_count": 1269,
   "id": "79df2189",
   "metadata": {},
   "outputs": [
    {
     "data": {
      "text/html": [
       "<div>\n",
       "<style scoped>\n",
       "    .dataframe tbody tr th:only-of-type {\n",
       "        vertical-align: middle;\n",
       "    }\n",
       "\n",
       "    .dataframe tbody tr th {\n",
       "        vertical-align: top;\n",
       "    }\n",
       "\n",
       "    .dataframe thead th {\n",
       "        text-align: right;\n",
       "    }\n",
       "</style>\n",
       "<table border=\"1\" class=\"dataframe\">\n",
       "  <thead>\n",
       "    <tr style=\"text-align: right;\">\n",
       "      <th></th>\n",
       "      <th>Comments</th>\n",
       "      <th>Comment upvote</th>\n",
       "      <th>time when comment was posted</th>\n",
       "    </tr>\n",
       "  </thead>\n",
       "  <tbody>\n",
       "    <tr>\n",
       "      <th>0</th>\n",
       "      <td>मेरे Meditation app को Join करो: Level SuperMi...</td>\n",
       "      <td>233</td>\n",
       "      <td>2 months ago</td>\n",
       "    </tr>\n",
       "    <tr>\n",
       "      <th>1</th>\n",
       "      <td>\"Humara naaptol zindagi maut se hain, humare n...</td>\n",
       "      <td>122</td>\n",
       "      <td>1 month ago</td>\n",
       "    </tr>\n",
       "    <tr>\n",
       "      <th>2</th>\n",
       "      <td>Tears of joy and immense respect for our Armed...</td>\n",
       "      <td>67</td>\n",
       "      <td>1 month ago</td>\n",
       "    </tr>\n",
       "    <tr>\n",
       "      <th>3</th>\n",
       "      <td>Proud of being Indian citizen Bcoz of The Real...</td>\n",
       "      <td>26</td>\n",
       "      <td>1 month ago</td>\n",
       "    </tr>\n",
       "    <tr>\n",
       "      <th>4</th>\n",
       "      <td>AND Also Big thanks to Ranveer &amp; TRS Team for ...</td>\n",
       "      <td>16</td>\n",
       "      <td>1 month ago</td>\n",
       "    </tr>\n",
       "    <tr>\n",
       "      <th>...</th>\n",
       "      <td>...</td>\n",
       "      <td>...</td>\n",
       "      <td>...</td>\n",
       "    </tr>\n",
       "    <tr>\n",
       "      <th>495</th>\n",
       "      <td>Salute to this great personality.</td>\n",
       "      <td></td>\n",
       "      <td>2 months ago</td>\n",
       "    </tr>\n",
       "    <tr>\n",
       "      <th>496</th>\n",
       "      <td>RTI  ka koi faida nahi kyunki sahi information...</td>\n",
       "      <td></td>\n",
       "      <td>1 month ago</td>\n",
       "    </tr>\n",
       "    <tr>\n",
       "      <th>497</th>\n",
       "      <td>Proud Punjabi and Indian ️️</td>\n",
       "      <td></td>\n",
       "      <td>1 month ago</td>\n",
       "    </tr>\n",
       "    <tr>\n",
       "      <th>498</th>\n",
       "      <td>Proud to be Bhartiya</td>\n",
       "      <td></td>\n",
       "      <td>2 weeks ago</td>\n",
       "    </tr>\n",
       "    <tr>\n",
       "      <th>499</th>\n",
       "      <td>One of the best podcasts. Salute to all the He...</td>\n",
       "      <td>7</td>\n",
       "      <td>2 months ago</td>\n",
       "    </tr>\n",
       "  </tbody>\n",
       "</table>\n",
       "<p>500 rows × 3 columns</p>\n",
       "</div>"
      ],
      "text/plain": [
       "                                              Comments Comment upvote  \\\n",
       "0    मेरे Meditation app को Join करो: Level SuperMi...            233   \n",
       "1    \"Humara naaptol zindagi maut se hain, humare n...            122   \n",
       "2    Tears of joy and immense respect for our Armed...             67   \n",
       "3    Proud of being Indian citizen Bcoz of The Real...             26   \n",
       "4    AND Also Big thanks to Ranveer & TRS Team for ...             16   \n",
       "..                                                 ...            ...   \n",
       "495                  Salute to this great personality.                  \n",
       "496  RTI  ka koi faida nahi kyunki sahi information...                  \n",
       "497                        Proud Punjabi and Indian ️️                  \n",
       "498                               Proud to be Bhartiya                  \n",
       "499  One of the best podcasts. Salute to all the He...              7   \n",
       "\n",
       "    time when comment was posted  \n",
       "0                   2 months ago  \n",
       "1                    1 month ago  \n",
       "2                    1 month ago  \n",
       "3                    1 month ago  \n",
       "4                    1 month ago  \n",
       "..                           ...  \n",
       "495                 2 months ago  \n",
       "496                  1 month ago  \n",
       "497                  1 month ago  \n",
       "498                  2 weeks ago  \n",
       "499                 2 months ago  \n",
       "\n",
       "[500 rows x 3 columns]"
      ]
     },
     "execution_count": 1269,
     "metadata": {},
     "output_type": "execute_result"
    }
   ],
   "source": [
    "df = pd.DataFrame({'Comments':Comment[:500],\n",
    "                   'Comment upvote':Upvote[:500],\n",
    "                   'time when comment was posted':Time[:500]})\n",
    "\n",
    "df"
   ]
  },
  {
   "cell_type": "markdown",
   "id": "94c139f8",
   "metadata": {},
   "source": [
    "# 10. Write a python program to scrape a data for all available Hostels from https://www.hostelworld.com/ in “London” location. You have to scrape hostel name, distance from city centre, ratings, total reviews, overall reviews, privates from price, dorms from price, facilities and property description."
   ]
  },
  {
   "cell_type": "code",
   "execution_count": 1164,
   "id": "f9d57195",
   "metadata": {},
   "outputs": [],
   "source": [
    "# Importing libraries\n",
    "import pandas as pd\n",
    "import selenium\n",
    "import time\n",
    "from bs4 import BeautifulSoup \n",
    "from selenium import webdriver\n",
    "from selenium.webdriver.common.by import By\n",
    "\n",
    "from selenium.common.exceptions import StaleElementReferenceException, NoSuchElementException\n",
    "import requests\n",
    "import re"
   ]
  },
  {
   "cell_type": "code",
   "execution_count": 1165,
   "id": "0dd4ef35",
   "metadata": {},
   "outputs": [],
   "source": [
    "# Let's first connect\n",
    "\n",
    "driver=webdriver.Chrome(r\"/Users/asiya/Desktop/chromedriver\\ 4\\\\chromedriver.exe\")"
   ]
  },
  {
   "cell_type": "code",
   "execution_count": 1166,
   "id": "79a6d3e8",
   "metadata": {},
   "outputs": [],
   "source": [
    "# opening the url\n",
    "driver.get('https://www.hostelworld.com/')"
   ]
  },
  {
   "cell_type": "code",
   "execution_count": 1167,
   "id": "5d72323f",
   "metadata": {},
   "outputs": [],
   "source": [
    "search_option=driver.find_element(By.XPATH,\"/html/body/div[3]/div/div/div[2]/div[2]/div/div/div[4]/div/div[2]/div/div[1]/div/div/div/input\")\n",
    "search_option.send_keys(\"London\")"
   ]
  },
  {
   "cell_type": "code",
   "execution_count": 1168,
   "id": "47b09c6a",
   "metadata": {},
   "outputs": [],
   "source": [
    "london=driver.find_element(By.XPATH,\"/html/body/div[3]/div/div/div[2]/div[2]/div/div/div[4]/div/div[2]/div/div[1]/div/div/ul/li[2]/div\")\n",
    "london.click()"
   ]
  },
  {
   "cell_type": "code",
   "execution_count": 1169,
   "id": "99328720",
   "metadata": {},
   "outputs": [],
   "source": [
    "search=driver.find_element(By.XPATH,\"/html/body/div[3]/div/div/div[2]/div[2]/div/div/div[4]/div/div[2]/div/div[5]/button\")\n",
    "search.click()"
   ]
  },
  {
   "cell_type": "code",
   "execution_count": 1195,
   "id": "9766e2b4",
   "metadata": {},
   "outputs": [],
   "source": [
    "# Scrapping required details: \n",
    "#scraping hostel name, distance from city centre, ratings, total reviews, overall reviews, \n",
    "#privates from price, dorms from price, facilities and property description.\n",
    "\n",
    "#Creating Empty Lists\n",
    "Name = []\n",
    "Distance = []\n",
    "Rating = []\n",
    "Reviews = []\n",
    "Overall = []\n",
    "Privates = []\n",
    "Dorms = []\n",
    "Facilities = []\n",
    "Property = []\n",
    "\n",
    "\n",
    "# Scraping Names \n",
    "N = driver.find_elements(By.XPATH,'//h2[@class=\"title title-6\"]')\n",
    "for i in N:\n",
    "    Name.append(i.text)\n",
    "    \n",
    "#Scrapping distance from city centre\n",
    "try:\n",
    "    D = driver.find_elements(By.XPATH,'//span[@class=\"description\"]')\n",
    "    for i in D:\n",
    "        Distance.append(i.text)\n",
    "except NoSuchElementException:\n",
    "    Distance.append(\"-\")\n",
    "\n",
    "#Scrapping ratings\n",
    "try:\n",
    "    RT = driver.find_elements(By.XPATH,'//div[@class=\"rating rating-summary-container big\"]')\n",
    "    for i in RT:\n",
    "        Rating.append(i.text[:][0:3])\n",
    "except NoSuchElementException:\n",
    "    Rating.append(\"-\")\n",
    "    \n",
    "#Scrapping total reviews\n",
    "try:\n",
    "    RV = driver.find_elements(By.XPATH,'//div[@class=\"reviews\"]')\n",
    "    for i in RV:\n",
    "        Reviews.append(i.text)\n",
    "except NoSuchElementException:\n",
    "    Reviews.append(\"-\")\n",
    "    \n",
    "#Scrapping overall reviews\n",
    "try:\n",
    "    O = driver.find_elements(By.XPATH,'//div[@class=\"keyword\"]')\n",
    "    for i in O:\n",
    "        Overall.append(i.text)\n",
    "except NoSuchElementException:\n",
    "    Overall.append(\"-\")\n",
    "    \n",
    "#Scrapping privates from price\n",
    "P = driver.find_elements(By.XPATH,'//div[@class=\"price-col\"]')[0::2]\n",
    "for i in P:\n",
    "    Privates.append(i.text.replace('\\n',': ').replace('No Privates Available','NaN'))\n",
    "       \n",
    "#Scrapping Dorms from price\n",
    "P = driver.find_elements(By.XPATH,'//div[@class=\"price-col\"]')[1::2]\n",
    "for i in P:\n",
    "    Dorms.append(i.text.replace('\\n',': ').replace('No Dorms Available','NaN'))\n",
    "    \n",
    "#Scrapping Facilities\n",
    "try:\n",
    "    F = driver.find_elements(By.XPATH,'//div[@class=\"facilities-label facilities\"]')\n",
    "    for i in F:\n",
    "        Facilities.append(i.text.replace('\\n',', '))\n",
    "except NoSuchElementException:\n",
    "    Facilities.append(\"-\")\n",
    "    \n",
    "#Scrapping property description.\n",
    "try:\n",
    "    PD = driver.find_elements(By.XPATH,'//div[@class=\"rating-factors prop-card-tablet rating-factors small\"]')\n",
    "    for i in PD:\n",
    "        Property.append(i.text.replace('\\n',', '))\n",
    "except NoSuchElementException:\n",
    "    Property.append(\"-\")\n",
    "\n",
    "# Not displaying the proper facilities"
   ]
  },
  {
   "cell_type": "code",
   "execution_count": 1196,
   "id": "f003b0f9",
   "metadata": {},
   "outputs": [
    {
     "name": "stdout",
     "output_type": "stream",
     "text": [
      "30 30 30 30 30 30 30 30\n"
     ]
    }
   ],
   "source": [
    "print(len(Name),len(Distance),len(Rating),len(Reviews),len(Privates),len(Dorms),len(Facilities),len(Property))"
   ]
  },
  {
   "cell_type": "code",
   "execution_count": 1197,
   "id": "465b7c36",
   "metadata": {},
   "outputs": [
    {
     "data": {
      "text/html": [
       "<div>\n",
       "<style scoped>\n",
       "    .dataframe tbody tr th:only-of-type {\n",
       "        vertical-align: middle;\n",
       "    }\n",
       "\n",
       "    .dataframe tbody tr th {\n",
       "        vertical-align: top;\n",
       "    }\n",
       "\n",
       "    .dataframe thead th {\n",
       "        text-align: right;\n",
       "    }\n",
       "</style>\n",
       "<table border=\"1\" class=\"dataframe\">\n",
       "  <thead>\n",
       "    <tr style=\"text-align: right;\">\n",
       "      <th></th>\n",
       "      <th>Hostel name</th>\n",
       "      <th>Distance from city centre</th>\n",
       "      <th>Rating</th>\n",
       "      <th>Total reviews</th>\n",
       "      <th>Privates from price</th>\n",
       "      <th>Dorms from price</th>\n",
       "      <th>Facilities</th>\n",
       "      <th>Property description</th>\n",
       "    </tr>\n",
       "  </thead>\n",
       "  <tbody>\n",
       "    <tr>\n",
       "      <th>0</th>\n",
       "      <td>NX London Hostel</td>\n",
       "      <td>Hostel - 6.1km from city centre</td>\n",
       "      <td>7.9</td>\n",
       "      <td>1547 Total Reviews</td>\n",
       "      <td>Privates From: Rs11038.31 Rs7727</td>\n",
       "      <td>Dorms From: Rs2457.16 Rs1966</td>\n",
       "      <td>Free WiFi, Free Breakfast</td>\n",
       "      <td>Perfect Location, Marvellous Staff, Excellent ...</td>\n",
       "    </tr>\n",
       "    <tr>\n",
       "      <th>1</th>\n",
       "      <td>Wombat's City Hostel London</td>\n",
       "      <td>Hostel - 3.6km from city centre</td>\n",
       "      <td>8.9</td>\n",
       "      <td>14520 Total Reviews</td>\n",
       "      <td>Privates From: Rs14394.32 Rs11515</td>\n",
       "      <td>Dorms From: Rs4187.61 Rs3350</td>\n",
       "      <td>Free WiFi, Follows Covid-19 sanitation guidance</td>\n",
       "      <td>Perfect Location, Superb Staff, Fantastic Clea...</td>\n",
       "    </tr>\n",
       "    <tr>\n",
       "      <th>2</th>\n",
       "      <td>St Christopher's Village</td>\n",
       "      <td>Hostel - 1.8km from city centre</td>\n",
       "      <td>8.0</td>\n",
       "      <td>11867 Total Reviews</td>\n",
       "      <td>NaN</td>\n",
       "      <td>Dorms From: Rs1895.21 Rs1706</td>\n",
       "      <td>Free WiFi, Follows Covid-19 sanitation guidance</td>\n",
       "      <td>Perfect Location, Marvellous Staff, Excellent ...</td>\n",
       "    </tr>\n",
       "    <tr>\n",
       "      <th>3</th>\n",
       "      <td>Hostel One Notting Hill</td>\n",
       "      <td>Hostel - 5.5km from city centre</td>\n",
       "      <td>9.4</td>\n",
       "      <td>1714 Total Reviews</td>\n",
       "      <td>Privates From: Rs10875</td>\n",
       "      <td>Dorms From: Rs3708</td>\n",
       "      <td>Free WiFi</td>\n",
       "      <td>Perfect Location, Superb Staff, Fantastic Clea...</td>\n",
       "    </tr>\n",
       "    <tr>\n",
       "      <th>4</th>\n",
       "      <td>Generator London</td>\n",
       "      <td>Hostel - 3km from city centre</td>\n",
       "      <td>7.7</td>\n",
       "      <td>7333 Total Reviews</td>\n",
       "      <td>Privates From: Rs7324</td>\n",
       "      <td>Dorms From: Rs2155</td>\n",
       "      <td>Free WiFi, Follows Covid-19 sanitation guidance</td>\n",
       "      <td>Perfect Location, Marvellous Staff, Excellent ...</td>\n",
       "    </tr>\n",
       "    <tr>\n",
       "      <th>5</th>\n",
       "      <td>Safestay London Elephant &amp; Castle</td>\n",
       "      <td>Hostel - 1.7km from city centre</td>\n",
       "      <td>7.3</td>\n",
       "      <td>4798 Total Reviews</td>\n",
       "      <td>NaN</td>\n",
       "      <td>Dorms From: Rs2850</td>\n",
       "      <td>Free WiFi, Follows Covid-19 sanitation guidance</td>\n",
       "      <td>Wonderful Location, Marvellous Staff, Excellen...</td>\n",
       "    </tr>\n",
       "    <tr>\n",
       "      <th>6</th>\n",
       "      <td>Urbany Hostel London</td>\n",
       "      <td>Hostel - 5.4km from city centre</td>\n",
       "      <td>9.2</td>\n",
       "      <td>630 Total Reviews</td>\n",
       "      <td>Privates From: Rs8897</td>\n",
       "      <td>Dorms From: Rs2602</td>\n",
       "      <td>Free WiFi, Follows Covid-19 sanitation guidance</td>\n",
       "      <td>Perfect Location, Superb Staff, Fantastic Clea...</td>\n",
       "    </tr>\n",
       "    <tr>\n",
       "      <th>7</th>\n",
       "      <td>Smart Hyde Park Inn Hostel</td>\n",
       "      <td>Hostel - 5km from city centre</td>\n",
       "      <td>7.4</td>\n",
       "      <td>6495 Total Reviews</td>\n",
       "      <td>NaN</td>\n",
       "      <td>Dorms From: Rs2846.19 Rs2562</td>\n",
       "      <td>Free WiFi</td>\n",
       "      <td>Perfect Location, Marvellous Staff, Awesome Cl...</td>\n",
       "    </tr>\n",
       "    <tr>\n",
       "      <th>8</th>\n",
       "      <td>Astor Museum Inn</td>\n",
       "      <td>Hostel - 2.2km from city centre</td>\n",
       "      <td>8.0</td>\n",
       "      <td>9160 Total Reviews</td>\n",
       "      <td>Privates From: Rs12294</td>\n",
       "      <td>NaN</td>\n",
       "      <td>Free WiFi, Follows Covid-19 sanitation guidance</td>\n",
       "      <td>Perfect Location, Superb Staff, Excellent Clea...</td>\n",
       "    </tr>\n",
       "    <tr>\n",
       "      <th>9</th>\n",
       "      <td>Safestay London Kensington Holland Park</td>\n",
       "      <td>Hostel - 5.9km from city centre</td>\n",
       "      <td>7.1</td>\n",
       "      <td>1416 Total Reviews</td>\n",
       "      <td>NaN</td>\n",
       "      <td>Dorms From: Rs2334</td>\n",
       "      <td>Free WiFi</td>\n",
       "      <td>Wonderful Location, Brilliant Staff, Awesome C...</td>\n",
       "    </tr>\n",
       "    <tr>\n",
       "      <th>10</th>\n",
       "      <td>St Christopher's Camden</td>\n",
       "      <td>Hostel - 4.3km from city centre</td>\n",
       "      <td>8.2</td>\n",
       "      <td>3967 Total Reviews</td>\n",
       "      <td>NaN</td>\n",
       "      <td>Dorms From: Rs2755.24 Rs2480</td>\n",
       "      <td>Free WiFi, Follows Covid-19 sanitation guidance</td>\n",
       "      <td>Perfect Location, Superb Staff, Excellent Clea...</td>\n",
       "    </tr>\n",
       "    <tr>\n",
       "      <th>11</th>\n",
       "      <td>Phoenix Hostel</td>\n",
       "      <td>Hostel - 4.2km from city centre</td>\n",
       "      <td>7.0</td>\n",
       "      <td>3947 Total Reviews</td>\n",
       "      <td>NaN</td>\n",
       "      <td>Dorms From: Rs2128.75 Rs2022</td>\n",
       "      <td>Free WiFi, Follows Covid-19 sanitation guidance</td>\n",
       "      <td>Perfect Location, Superb Staff</td>\n",
       "    </tr>\n",
       "    <tr>\n",
       "      <th>12</th>\n",
       "      <td>London Backpackers</td>\n",
       "      <td>Hostel - 11.9km from city centre</td>\n",
       "      <td>7.9</td>\n",
       "      <td>4405 Total Reviews</td>\n",
       "      <td>Privates From: Rs7366</td>\n",
       "      <td>Dorms From: Rs1895</td>\n",
       "      <td>Free WiFi, Follows Covid-19 sanitation guidance</td>\n",
       "      <td>Wonderful Location, Superb Staff, Excellent Cl...</td>\n",
       "    </tr>\n",
       "    <tr>\n",
       "      <th>13</th>\n",
       "      <td>St Christopher's Hammersmith</td>\n",
       "      <td>Hostel - 7.5km from city centre</td>\n",
       "      <td>7.7</td>\n",
       "      <td>4192 Total Reviews</td>\n",
       "      <td>NaN</td>\n",
       "      <td>Dorms From: Rs1933.01 Rs1740</td>\n",
       "      <td>Free WiFi, Follows Covid-19 sanitation guidance</td>\n",
       "      <td>Perfect Location, Superb Staff, Excellent Clea...</td>\n",
       "    </tr>\n",
       "    <tr>\n",
       "      <th>14</th>\n",
       "      <td>St Christopher's Inn - London Bridge</td>\n",
       "      <td>Hostel - 1.8km from city centre</td>\n",
       "      <td>7.7</td>\n",
       "      <td>3438 Total Reviews</td>\n",
       "      <td>NaN</td>\n",
       "      <td>Dorms From: Rs2979.8 Rs2682</td>\n",
       "      <td>Free WiFi, Follows Covid-19 sanitation guidance</td>\n",
       "      <td>Perfect Location, Marvellous Staff, Excellent ...</td>\n",
       "    </tr>\n",
       "    <tr>\n",
       "      <th>15</th>\n",
       "      <td>Barmy Badger Backpackers</td>\n",
       "      <td>Hostel - 5.5km from city centre</td>\n",
       "      <td>8.9</td>\n",
       "      <td>1879 Total Reviews</td>\n",
       "      <td>Privates From: Rs8252</td>\n",
       "      <td>NaN</td>\n",
       "      <td>Free WiFi, Free Breakfast</td>\n",
       "      <td>Perfect Location, Superb Staff, Fantastic Clea...</td>\n",
       "    </tr>\n",
       "    <tr>\n",
       "      <th>16</th>\n",
       "      <td>Smart Hyde Park View Hostel</td>\n",
       "      <td>Hostel - 4.8km from city centre</td>\n",
       "      <td>7.8</td>\n",
       "      <td>4662 Total Reviews</td>\n",
       "      <td>Privates From: Rs18799</td>\n",
       "      <td>NaN</td>\n",
       "      <td>Free WiFi, Follows Covid-19 sanitation guidance</td>\n",
       "      <td>Perfect Location, Superb Staff, Excellent Clea...</td>\n",
       "    </tr>\n",
       "    <tr>\n",
       "      <th>17</th>\n",
       "      <td>Queen Elizabeth Chelsea</td>\n",
       "      <td>Hostel - 5.7km from city centre</td>\n",
       "      <td>7.0</td>\n",
       "      <td>3394 Total Reviews</td>\n",
       "      <td>NaN</td>\n",
       "      <td>Dorms From: Rs1709</td>\n",
       "      <td>Free WiFi</td>\n",
       "      <td>Wonderful Location, Superb Staff, Awesome Clea...</td>\n",
       "    </tr>\n",
       "    <tr>\n",
       "      <th>18</th>\n",
       "      <td>Astor Kensington</td>\n",
       "      <td>Hostel - 4.9km from city centre</td>\n",
       "      <td>8.0</td>\n",
       "      <td>6465 Total Reviews</td>\n",
       "      <td>Privates From: Rs11115</td>\n",
       "      <td>NaN</td>\n",
       "      <td>Free WiFi, Follows Covid-19 sanitation guidance</td>\n",
       "      <td>Perfect Location, Superb Staff, Excellent Clea...</td>\n",
       "    </tr>\n",
       "    <tr>\n",
       "      <th>19</th>\n",
       "      <td>St Christopher's Inn - Liverpool Street</td>\n",
       "      <td>Hostel - 3.2km from city centre</td>\n",
       "      <td>7.9</td>\n",
       "      <td>468 Total Reviews</td>\n",
       "      <td>NaN</td>\n",
       "      <td>Dorms From: Rs2456.6 Rs2211</td>\n",
       "      <td>Free WiFi, Follows Covid-19 sanitation guidance</td>\n",
       "      <td>Perfect Location, Superb Staff, Excellent Clea...</td>\n",
       "    </tr>\n",
       "    <tr>\n",
       "      <th>20</th>\n",
       "      <td>St Christopher's Greenwich</td>\n",
       "      <td>Hostel - 7.6km from city centre</td>\n",
       "      <td>7.2</td>\n",
       "      <td>3307 Total Reviews</td>\n",
       "      <td>NaN</td>\n",
       "      <td>Dorms From: Rs1895.97 Rs1706</td>\n",
       "      <td>Free WiFi, Follows Covid-19 sanitation guidance</td>\n",
       "      <td>Wonderful Location, Marvellous Staff, Awesome ...</td>\n",
       "    </tr>\n",
       "    <tr>\n",
       "      <th>21</th>\n",
       "      <td>PubLove @ The Steam Engine, Waterloo</td>\n",
       "      <td>Hostel - 0.5km from city centre</td>\n",
       "      <td>8.0</td>\n",
       "      <td>361 Total Reviews</td>\n",
       "      <td>NaN</td>\n",
       "      <td>Dorms From: Rs3469</td>\n",
       "      <td>Free WiFi, Follows Covid-19 sanitation guidance</td>\n",
       "      <td>Perfect Location, Superb Staff, Awesome Cleanl...</td>\n",
       "    </tr>\n",
       "    <tr>\n",
       "      <th>22</th>\n",
       "      <td>Saint James Backpackers</td>\n",
       "      <td>Hostel - 5.5km from city centre</td>\n",
       "      <td>7.7</td>\n",
       "      <td>1862 Total Reviews</td>\n",
       "      <td>Privates From: Rs7823</td>\n",
       "      <td>Dorms From: Rs3267</td>\n",
       "      <td>Free WiFi, Free Breakfast, Follows Covid-19 sa...</td>\n",
       "      <td>Perfect Location, Superb Staff, Awesome Cleanl...</td>\n",
       "    </tr>\n",
       "    <tr>\n",
       "      <th>23</th>\n",
       "      <td>St Christopher's Shepherds Bush</td>\n",
       "      <td>Hostel - 7km from city centre</td>\n",
       "      <td>6.6</td>\n",
       "      <td>752 Total Reviews</td>\n",
       "      <td>NaN</td>\n",
       "      <td>Dorms From: Rs2157.57 Rs1942</td>\n",
       "      <td>Free WiFi, Follows Covid-19 sanitation guidance</td>\n",
       "      <td>Wonderful Location, Brilliant Staff</td>\n",
       "    </tr>\n",
       "    <tr>\n",
       "      <th>24</th>\n",
       "      <td>St Christopher's Oasis-Female Only</td>\n",
       "      <td>Hostel - 1.8km from city centre</td>\n",
       "      <td>7.9</td>\n",
       "      <td>725 Total Reviews</td>\n",
       "      <td>NaN</td>\n",
       "      <td>Dorms From: Rs2531.07 Rs2278</td>\n",
       "      <td>Free WiFi, Follows Covid-19 sanitation guidance</td>\n",
       "      <td>Perfect Location, Marvellous Staff, Excellent ...</td>\n",
       "    </tr>\n",
       "    <tr>\n",
       "      <th>25</th>\n",
       "      <td>Kensal Green Backpackers</td>\n",
       "      <td>Hostel - 8.2km from city centre</td>\n",
       "      <td>5.4</td>\n",
       "      <td>3696 Total Reviews</td>\n",
       "      <td>NaN</td>\n",
       "      <td>Dorms From: Rs1886</td>\n",
       "      <td>Follows Covid-19 sanitation guidance</td>\n",
       "      <td>Great Location</td>\n",
       "    </tr>\n",
       "    <tr>\n",
       "      <th>26</th>\n",
       "      <td>YHA London Earls Court</td>\n",
       "      <td>Hostel - 5.1km from city centre</td>\n",
       "      <td>9.2</td>\n",
       "      <td>1445 Total Reviews</td>\n",
       "      <td>Privates From: Rs8859</td>\n",
       "      <td>NaN</td>\n",
       "      <td>Free WiFi, Follows Covid-19 sanitation guidance</td>\n",
       "      <td>Perfect Location, Superb Staff, Fantastic Clea...</td>\n",
       "    </tr>\n",
       "    <tr>\n",
       "      <th>27</th>\n",
       "      <td>PubLove @ The White Ferry, Victoria</td>\n",
       "      <td>Hostel - 2.4km from city centre</td>\n",
       "      <td>7.5</td>\n",
       "      <td>316 Total Reviews</td>\n",
       "      <td>NaN</td>\n",
       "      <td>Dorms From: Rs3907</td>\n",
       "      <td>Free WiFi, Follows Covid-19 sanitation guidance</td>\n",
       "      <td>Perfect Location, Superb Staff, Awesome Cleanl...</td>\n",
       "    </tr>\n",
       "    <tr>\n",
       "      <th>28</th>\n",
       "      <td>PubLove @ The Crown, Battersea</td>\n",
       "      <td>Hostel - 4.7km from city centre</td>\n",
       "      <td>7.7</td>\n",
       "      <td>285 Total Reviews</td>\n",
       "      <td>NaN</td>\n",
       "      <td>Dorms From: Rs3166</td>\n",
       "      <td>Free WiFi, Follows Covid-19 sanitation guidance</td>\n",
       "      <td>Perfect Location, Superb Staff, Awesome Cleanl...</td>\n",
       "    </tr>\n",
       "    <tr>\n",
       "      <th>29</th>\n",
       "      <td>PubLove @ The Green Man, Paddington</td>\n",
       "      <td>Hostel - 4.3km from city centre</td>\n",
       "      <td>7.7</td>\n",
       "      <td>438 Total Reviews</td>\n",
       "      <td>NaN</td>\n",
       "      <td>Dorms From: Rs2560</td>\n",
       "      <td>Free WiFi, Follows Covid-19 sanitation guidance</td>\n",
       "      <td>Perfect Location, Superb Staff, Awesome Cleanl...</td>\n",
       "    </tr>\n",
       "  </tbody>\n",
       "</table>\n",
       "</div>"
      ],
      "text/plain": [
       "                                Hostel name         Distance from city centre  \\\n",
       "0                          NX London Hostel   Hostel - 6.1km from city centre   \n",
       "1               Wombat's City Hostel London   Hostel - 3.6km from city centre   \n",
       "2                  St Christopher's Village   Hostel - 1.8km from city centre   \n",
       "3                   Hostel One Notting Hill   Hostel - 5.5km from city centre   \n",
       "4                          Generator London     Hostel - 3km from city centre   \n",
       "5         Safestay London Elephant & Castle   Hostel - 1.7km from city centre   \n",
       "6                      Urbany Hostel London   Hostel - 5.4km from city centre   \n",
       "7                Smart Hyde Park Inn Hostel     Hostel - 5km from city centre   \n",
       "8                          Astor Museum Inn   Hostel - 2.2km from city centre   \n",
       "9   Safestay London Kensington Holland Park   Hostel - 5.9km from city centre   \n",
       "10                  St Christopher's Camden   Hostel - 4.3km from city centre   \n",
       "11                           Phoenix Hostel   Hostel - 4.2km from city centre   \n",
       "12                       London Backpackers  Hostel - 11.9km from city centre   \n",
       "13             St Christopher's Hammersmith   Hostel - 7.5km from city centre   \n",
       "14     St Christopher's Inn - London Bridge   Hostel - 1.8km from city centre   \n",
       "15                 Barmy Badger Backpackers   Hostel - 5.5km from city centre   \n",
       "16              Smart Hyde Park View Hostel   Hostel - 4.8km from city centre   \n",
       "17                  Queen Elizabeth Chelsea   Hostel - 5.7km from city centre   \n",
       "18                         Astor Kensington   Hostel - 4.9km from city centre   \n",
       "19  St Christopher's Inn - Liverpool Street   Hostel - 3.2km from city centre   \n",
       "20               St Christopher's Greenwich   Hostel - 7.6km from city centre   \n",
       "21     PubLove @ The Steam Engine, Waterloo   Hostel - 0.5km from city centre   \n",
       "22                  Saint James Backpackers   Hostel - 5.5km from city centre   \n",
       "23          St Christopher's Shepherds Bush     Hostel - 7km from city centre   \n",
       "24       St Christopher's Oasis-Female Only   Hostel - 1.8km from city centre   \n",
       "25                 Kensal Green Backpackers   Hostel - 8.2km from city centre   \n",
       "26                   YHA London Earls Court   Hostel - 5.1km from city centre   \n",
       "27      PubLove @ The White Ferry, Victoria   Hostel - 2.4km from city centre   \n",
       "28           PubLove @ The Crown, Battersea   Hostel - 4.7km from city centre   \n",
       "29      PubLove @ The Green Man, Paddington   Hostel - 4.3km from city centre   \n",
       "\n",
       "   Rating        Total reviews                Privates from price  \\\n",
       "0     7.9   1547 Total Reviews   Privates From: Rs11038.31 Rs7727   \n",
       "1     8.9  14520 Total Reviews  Privates From: Rs14394.32 Rs11515   \n",
       "2     8.0  11867 Total Reviews                                NaN   \n",
       "3     9.4   1714 Total Reviews             Privates From: Rs10875   \n",
       "4     7.7   7333 Total Reviews              Privates From: Rs7324   \n",
       "5     7.3   4798 Total Reviews                                NaN   \n",
       "6     9.2    630 Total Reviews              Privates From: Rs8897   \n",
       "7     7.4   6495 Total Reviews                                NaN   \n",
       "8     8.0   9160 Total Reviews             Privates From: Rs12294   \n",
       "9     7.1   1416 Total Reviews                                NaN   \n",
       "10    8.2   3967 Total Reviews                                NaN   \n",
       "11    7.0   3947 Total Reviews                                NaN   \n",
       "12    7.9   4405 Total Reviews              Privates From: Rs7366   \n",
       "13    7.7   4192 Total Reviews                                NaN   \n",
       "14    7.7   3438 Total Reviews                                NaN   \n",
       "15    8.9   1879 Total Reviews              Privates From: Rs8252   \n",
       "16    7.8   4662 Total Reviews             Privates From: Rs18799   \n",
       "17    7.0   3394 Total Reviews                                NaN   \n",
       "18    8.0   6465 Total Reviews             Privates From: Rs11115   \n",
       "19    7.9    468 Total Reviews                                NaN   \n",
       "20    7.2   3307 Total Reviews                                NaN   \n",
       "21    8.0    361 Total Reviews                                NaN   \n",
       "22    7.7   1862 Total Reviews              Privates From: Rs7823   \n",
       "23    6.6    752 Total Reviews                                NaN   \n",
       "24    7.9    725 Total Reviews                                NaN   \n",
       "25    5.4   3696 Total Reviews                                NaN   \n",
       "26    9.2   1445 Total Reviews              Privates From: Rs8859   \n",
       "27    7.5    316 Total Reviews                                NaN   \n",
       "28    7.7    285 Total Reviews                                NaN   \n",
       "29    7.7    438 Total Reviews                                NaN   \n",
       "\n",
       "                Dorms from price  \\\n",
       "0   Dorms From: Rs2457.16 Rs1966   \n",
       "1   Dorms From: Rs4187.61 Rs3350   \n",
       "2   Dorms From: Rs1895.21 Rs1706   \n",
       "3             Dorms From: Rs3708   \n",
       "4             Dorms From: Rs2155   \n",
       "5             Dorms From: Rs2850   \n",
       "6             Dorms From: Rs2602   \n",
       "7   Dorms From: Rs2846.19 Rs2562   \n",
       "8                            NaN   \n",
       "9             Dorms From: Rs2334   \n",
       "10  Dorms From: Rs2755.24 Rs2480   \n",
       "11  Dorms From: Rs2128.75 Rs2022   \n",
       "12            Dorms From: Rs1895   \n",
       "13  Dorms From: Rs1933.01 Rs1740   \n",
       "14   Dorms From: Rs2979.8 Rs2682   \n",
       "15                           NaN   \n",
       "16                           NaN   \n",
       "17            Dorms From: Rs1709   \n",
       "18                           NaN   \n",
       "19   Dorms From: Rs2456.6 Rs2211   \n",
       "20  Dorms From: Rs1895.97 Rs1706   \n",
       "21            Dorms From: Rs3469   \n",
       "22            Dorms From: Rs3267   \n",
       "23  Dorms From: Rs2157.57 Rs1942   \n",
       "24  Dorms From: Rs2531.07 Rs2278   \n",
       "25            Dorms From: Rs1886   \n",
       "26                           NaN   \n",
       "27            Dorms From: Rs3907   \n",
       "28            Dorms From: Rs3166   \n",
       "29            Dorms From: Rs2560   \n",
       "\n",
       "                                           Facilities  \\\n",
       "0                           Free WiFi, Free Breakfast   \n",
       "1     Free WiFi, Follows Covid-19 sanitation guidance   \n",
       "2     Free WiFi, Follows Covid-19 sanitation guidance   \n",
       "3                                           Free WiFi   \n",
       "4     Free WiFi, Follows Covid-19 sanitation guidance   \n",
       "5     Free WiFi, Follows Covid-19 sanitation guidance   \n",
       "6     Free WiFi, Follows Covid-19 sanitation guidance   \n",
       "7                                           Free WiFi   \n",
       "8     Free WiFi, Follows Covid-19 sanitation guidance   \n",
       "9                                           Free WiFi   \n",
       "10    Free WiFi, Follows Covid-19 sanitation guidance   \n",
       "11    Free WiFi, Follows Covid-19 sanitation guidance   \n",
       "12    Free WiFi, Follows Covid-19 sanitation guidance   \n",
       "13    Free WiFi, Follows Covid-19 sanitation guidance   \n",
       "14    Free WiFi, Follows Covid-19 sanitation guidance   \n",
       "15                          Free WiFi, Free Breakfast   \n",
       "16    Free WiFi, Follows Covid-19 sanitation guidance   \n",
       "17                                          Free WiFi   \n",
       "18    Free WiFi, Follows Covid-19 sanitation guidance   \n",
       "19    Free WiFi, Follows Covid-19 sanitation guidance   \n",
       "20    Free WiFi, Follows Covid-19 sanitation guidance   \n",
       "21    Free WiFi, Follows Covid-19 sanitation guidance   \n",
       "22  Free WiFi, Free Breakfast, Follows Covid-19 sa...   \n",
       "23    Free WiFi, Follows Covid-19 sanitation guidance   \n",
       "24    Free WiFi, Follows Covid-19 sanitation guidance   \n",
       "25               Follows Covid-19 sanitation guidance   \n",
       "26    Free WiFi, Follows Covid-19 sanitation guidance   \n",
       "27    Free WiFi, Follows Covid-19 sanitation guidance   \n",
       "28    Free WiFi, Follows Covid-19 sanitation guidance   \n",
       "29    Free WiFi, Follows Covid-19 sanitation guidance   \n",
       "\n",
       "                                 Property description  \n",
       "0   Perfect Location, Marvellous Staff, Excellent ...  \n",
       "1   Perfect Location, Superb Staff, Fantastic Clea...  \n",
       "2   Perfect Location, Marvellous Staff, Excellent ...  \n",
       "3   Perfect Location, Superb Staff, Fantastic Clea...  \n",
       "4   Perfect Location, Marvellous Staff, Excellent ...  \n",
       "5   Wonderful Location, Marvellous Staff, Excellen...  \n",
       "6   Perfect Location, Superb Staff, Fantastic Clea...  \n",
       "7   Perfect Location, Marvellous Staff, Awesome Cl...  \n",
       "8   Perfect Location, Superb Staff, Excellent Clea...  \n",
       "9   Wonderful Location, Brilliant Staff, Awesome C...  \n",
       "10  Perfect Location, Superb Staff, Excellent Clea...  \n",
       "11                     Perfect Location, Superb Staff  \n",
       "12  Wonderful Location, Superb Staff, Excellent Cl...  \n",
       "13  Perfect Location, Superb Staff, Excellent Clea...  \n",
       "14  Perfect Location, Marvellous Staff, Excellent ...  \n",
       "15  Perfect Location, Superb Staff, Fantastic Clea...  \n",
       "16  Perfect Location, Superb Staff, Excellent Clea...  \n",
       "17  Wonderful Location, Superb Staff, Awesome Clea...  \n",
       "18  Perfect Location, Superb Staff, Excellent Clea...  \n",
       "19  Perfect Location, Superb Staff, Excellent Clea...  \n",
       "20  Wonderful Location, Marvellous Staff, Awesome ...  \n",
       "21  Perfect Location, Superb Staff, Awesome Cleanl...  \n",
       "22  Perfect Location, Superb Staff, Awesome Cleanl...  \n",
       "23                Wonderful Location, Brilliant Staff  \n",
       "24  Perfect Location, Marvellous Staff, Excellent ...  \n",
       "25                                     Great Location  \n",
       "26  Perfect Location, Superb Staff, Fantastic Clea...  \n",
       "27  Perfect Location, Superb Staff, Awesome Cleanl...  \n",
       "28  Perfect Location, Superb Staff, Awesome Cleanl...  \n",
       "29  Perfect Location, Superb Staff, Awesome Cleanl...  "
      ]
     },
     "execution_count": 1197,
     "metadata": {},
     "output_type": "execute_result"
    }
   ],
   "source": [
    "#scraping hostel name, distance from city centre, ratings, total reviews, overall reviews, \n",
    "#privates from price, dorms from price, facilities and property description.\n",
    "# Creating Data Frame \n",
    "df = pd.DataFrame({'Hostel name':Name,\n",
    "                   'Distance from city centre':Distance,\n",
    "                   'Rating':Rating,\n",
    "                   'Total reviews':Reviews,\n",
    "                   'Privates from price':Privates,\n",
    "                   'Dorms from price':Dorms,\n",
    "                   'Facilities':Facilities,\n",
    "                   'Property description':Property})\n",
    "df"
   ]
  },
  {
   "cell_type": "code",
   "execution_count": null,
   "id": "2bc0b344",
   "metadata": {},
   "outputs": [],
   "source": []
  }
 ],
 "metadata": {
  "kernelspec": {
   "display_name": "Python 3 (ipykernel)",
   "language": "python",
   "name": "python3"
  },
  "language_info": {
   "codemirror_mode": {
    "name": "ipython",
    "version": 3
   },
   "file_extension": ".py",
   "mimetype": "text/x-python",
   "name": "python",
   "nbconvert_exporter": "python",
   "pygments_lexer": "ipython3",
   "version": "3.9.12"
  }
 },
 "nbformat": 4,
 "nbformat_minor": 5
}
